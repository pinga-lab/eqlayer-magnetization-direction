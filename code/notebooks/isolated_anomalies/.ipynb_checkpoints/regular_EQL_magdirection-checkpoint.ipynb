{
 "cells": [
  {
   "cell_type": "markdown",
   "metadata": {},
   "source": [
    "# Equivalent Layer technique for estimating magnetization direction of a magnetized sphere"
   ]
  },
  {
   "cell_type": "markdown",
   "metadata": {},
   "source": [
    "#### Importing libraries"
   ]
  },
  {
   "cell_type": "code",
   "execution_count": 1,
   "metadata": {},
   "outputs": [],
   "source": [
    "% matplotlib inline "
   ]
  },
  {
   "cell_type": "code",
   "execution_count": 2,
   "metadata": {},
   "outputs": [
    {
     "name": "stderr",
     "output_type": "stream",
     "text": [
      "/home/andrelreis/anaconda2/lib/python2.7/site-packages/fatiando/vis/mpl.py:76: UserWarning: This module will be removed in v0.6. We recommend the use of matplotlib.pyplot module directly. Some of the fatiando specific functions will remain.\n",
      "  \"specific functions will remain.\")\n"
     ]
    }
   ],
   "source": [
    "import sys\n",
    "import numpy as np\n",
    "import matplotlib.pyplot as plt\n",
    "import cPickle as pickle\n",
    "import datetime\n",
    "import timeit\n",
    "from scipy.optimize import nnls\n",
    "from fatiando.gridder import regular\n",
    "from fatiando.utils import ang2vec, vec2ang\n",
    "from fatiando.mesher import Sphere, PointGrid,Prism\n",
    "from fatiando.gravmag import sphere,prism\n",
    "from fatiando.constants import CM, T2NT, G, SI2MGAL"
   ]
  },
  {
   "cell_type": "code",
   "execution_count": 3,
   "metadata": {},
   "outputs": [],
   "source": [
    "notebook_name = 'regular_EQL_magdirection.ipynb'"
   ]
  },
  {
   "cell_type": "markdown",
   "metadata": {},
   "source": [
    "### Gray background figures"
   ]
  },
  {
   "cell_type": "code",
   "execution_count": 4,
   "metadata": {},
   "outputs": [],
   "source": [
    "plt.style.use('grayscale')"
   ]
  },
  {
   "cell_type": "markdown",
   "metadata": {},
   "source": [
    "#### Importing auxiliary functions"
   ]
  },
  {
   "cell_type": "code",
   "execution_count": 5,
   "metadata": {},
   "outputs": [],
   "source": [
    "dir_modules = '../'\n",
    "sys.path.append(dir_modules)"
   ]
  },
  {
   "cell_type": "code",
   "execution_count": 6,
   "metadata": {},
   "outputs": [],
   "source": [
    "import eql_functions as func"
   ]
  },
  {
   "cell_type": "code",
   "execution_count": 7,
   "metadata": {},
   "outputs": [],
   "source": [
    "import auxiliary_functions as fc"
   ]
  },
  {
   "cell_type": "markdown",
   "metadata": {},
   "source": [
    "#### Loading properties of the model"
   ]
  },
  {
   "cell_type": "code",
   "execution_count": 8,
   "metadata": {},
   "outputs": [],
   "source": [
    "with open('data/model_sphere_remanent.pickle') as f:\n",
    "        model_sphere_remanent = pickle.load(f)"
   ]
  },
  {
   "cell_type": "markdown",
   "metadata": {},
   "source": [
    "#### Loading properties grid"
   ]
  },
  {
   "cell_type": "code",
   "execution_count": 9,
   "metadata": {},
   "outputs": [],
   "source": [
    "with open('data/regular_grid.pickle') as f:\n",
    "        regular_grid = pickle.load(f)"
   ]
  },
  {
   "cell_type": "markdown",
   "metadata": {},
   "source": [
    "#### Loading data"
   ]
  },
  {
   "cell_type": "code",
   "execution_count": 10,
   "metadata": {},
   "outputs": [],
   "source": [
    "with open('data/data_set.pickle') as f:\n",
    "        data = pickle.load(f)"
   ]
  },
  {
   "cell_type": "markdown",
   "metadata": {},
   "source": [
    "#### Open a dictionary"
   ]
  },
  {
   "cell_type": "code",
   "execution_count": 11,
   "metadata": {},
   "outputs": [],
   "source": [
    "dir_sphere = dict()"
   ]
  },
  {
   "cell_type": "markdown",
   "metadata": {},
   "source": [
    "### Saving files"
   ]
  },
  {
   "cell_type": "code",
   "execution_count": 12,
   "metadata": {},
   "outputs": [],
   "source": [
    "saved_files = []"
   ]
  },
  {
   "cell_type": "markdown",
   "metadata": {},
   "source": [
    "## Observation area"
   ]
  },
  {
   "cell_type": "code",
   "execution_count": 13,
   "metadata": {},
   "outputs": [
    {
     "name": "stdout",
     "output_type": "stream",
     "text": [
      "Area limits: \n",
      " x_max = 5000.0 m \n",
      " x_min = -5000.0 m \n",
      " y_max = 5000.0 m \n",
      " y_min = -5000.0 m\n"
     ]
    }
   ],
   "source": [
    "print 'Area limits: \\n x_max = %.1f m \\n x_min = %.1f m \\n y_max = %.1f m \\n y_min = %.1f m' % (regular_grid['area'][1], \n",
    "                                                                                                regular_grid['area'][0],\n",
    "                                                                                                regular_grid['area'][3],\n",
    "                                                                                                regular_grid['area'][2])"
   ]
  },
  {
   "cell_type": "markdown",
   "metadata": {},
   "source": [
    "### Regular grid information"
   ]
  },
  {
   "cell_type": "code",
   "execution_count": 14,
   "metadata": {},
   "outputs": [
    {
     "name": "stdout",
     "output_type": "stream",
     "text": [
      "Shape : (30,30)\n",
      "Number of data: 900.0\n",
      "dx: 344.8 m\n",
      "dy: 344.8 m \n"
     ]
    }
   ],
   "source": [
    "print 'Shape : (%.0f,%.0f)'% regular_grid['shape'] \n",
    "print 'Number of data: %.1f' % regular_grid['N']\n",
    "print 'dx: %.1f m' % regular_grid['dx']\n",
    "print 'dy: %.1f m ' % regular_grid['dy']"
   ]
  },
  {
   "cell_type": "markdown",
   "metadata": {},
   "source": [
    "## Properties of the model"
   ]
  },
  {
   "cell_type": "markdown",
   "metadata": {},
   "source": [
    "### Dimension and coordinate of the center"
   ]
  },
  {
   "cell_type": "code",
   "execution_count": 15,
   "metadata": {},
   "outputs": [
    {
     "name": "stdout",
     "output_type": "stream",
     "text": [
      "Properties Sphere:\n",
      " xc = 0.0 m \n",
      " yc = 0.0 m \n",
      " zc = 2000.0 m \n",
      " radius = 1500.0 m \n"
     ]
    }
   ],
   "source": [
    "print 'Properties Sphere:\\n xc = %.1f m \\n yc = %.1f m \\n zc = %.1f m \\n radius = %.1f m ' %  (model_sphere_remanent['xc'],\n",
    "                                                                                               model_sphere_remanent['yc'],\n",
    "                                                                                               model_sphere_remanent['zc'],\n",
    "                                                                                               model_sphere_remanent['radius'])"
   ]
  },
  {
   "cell_type": "markdown",
   "metadata": {},
   "source": [
    "### Main field"
   ]
  },
  {
   "cell_type": "code",
   "execution_count": 16,
   "metadata": {},
   "outputs": [],
   "source": [
    "inc_gf,dec_gf = model_sphere_remanent['main_field']"
   ]
  },
  {
   "cell_type": "code",
   "execution_count": 17,
   "metadata": {},
   "outputs": [
    {
     "name": "stdout",
     "output_type": "stream",
     "text": [
      "Main field inclination: 40.0 degree\n",
      "Main field declination: 45.0 degree\n"
     ]
    }
   ],
   "source": [
    "print'Main field inclination: %.1f degree' % inc_gf\n",
    "print'Main field declination: %.1f degree' % dec_gf"
   ]
  },
  {
   "cell_type": "markdown",
   "metadata": {},
   "source": [
    "### Magnetization direction"
   ]
  },
  {
   "cell_type": "code",
   "execution_count": 18,
   "metadata": {},
   "outputs": [
    {
     "name": "stdout",
     "output_type": "stream",
     "text": [
      "Intensity: 15.0 A/m\n",
      "Inclination: 60.0 degree\n",
      "Declination: 10.0 degree\n"
     ]
    }
   ],
   "source": [
    "print 'Intensity: %.1f A/m' % model_sphere_remanent['m_R']\n",
    "print 'Inclination: %.1f degree' % model_sphere_remanent['inc_R']\n",
    "print 'Declination: %.1f degree' % model_sphere_remanent['dec_R']"
   ]
  },
  {
   "cell_type": "code",
   "execution_count": 19,
   "metadata": {},
   "outputs": [],
   "source": [
    "inc_R,dec_R = model_sphere_remanent['inc_R'],model_sphere_remanent['dec_R']"
   ]
  },
  {
   "cell_type": "markdown",
   "metadata": {},
   "source": [
    "## Generating the layer with my function "
   ]
  },
  {
   "cell_type": "code",
   "execution_count": 20,
   "metadata": {},
   "outputs": [],
   "source": [
    "h = 2000."
   ]
  },
  {
   "cell_type": "markdown",
   "metadata": {},
   "source": [
    "#### Generating a layer"
   ]
  },
  {
   "cell_type": "code",
   "execution_count": 21,
   "metadata": {},
   "outputs": [],
   "source": [
    "shape_layer = (25,25)"
   ]
  },
  {
   "cell_type": "code",
   "execution_count": 22,
   "metadata": {},
   "outputs": [],
   "source": [
    "xs,ys,zs = regular(regular_grid['area'],shape_layer,h)"
   ]
  },
  {
   "cell_type": "markdown",
   "metadata": {},
   "source": [
    "## Non-negative Least Squares Method for estimating a positive layer"
   ]
  },
  {
   "cell_type": "code",
   "execution_count": 23,
   "metadata": {},
   "outputs": [],
   "source": [
    "inc_test,dec_test = 60.,10."
   ]
  },
  {
   "cell_type": "code",
   "execution_count": 24,
   "metadata": {},
   "outputs": [],
   "source": [
    "G = fc.sensitivity_mag(regular_grid['x'],regular_grid['y'],regular_grid['z'],\n",
    "                       xs,ys,zs,inc_gf,dec_gf,inc_test,dec_test)"
   ]
  },
  {
   "cell_type": "code",
   "execution_count": 25,
   "metadata": {},
   "outputs": [],
   "source": [
    "start_time = timeit.default_timer()"
   ]
  },
  {
   "cell_type": "code",
   "execution_count": 26,
   "metadata": {},
   "outputs": [],
   "source": [
    "m_pos,_ = nnls(G,data['tfa_obs_sphere_RM_reg'])"
   ]
  },
  {
   "cell_type": "code",
   "execution_count": 27,
   "metadata": {},
   "outputs": [],
   "source": [
    "elapsed = timeit.default_timer() - start_time"
   ]
  },
  {
   "cell_type": "code",
   "execution_count": 28,
   "metadata": {},
   "outputs": [
    {
     "name": "stdout",
     "output_type": "stream",
     "text": [
      "0.18789100647\n"
     ]
    }
   ],
   "source": [
    "print elapsed"
   ]
  },
  {
   "cell_type": "code",
   "execution_count": 29,
   "metadata": {},
   "outputs": [],
   "source": [
    "tf_pred_pos = fc.tfa_layer(regular_grid['x'],regular_grid['y'],regular_grid['z'],\n",
    "                           xs,ys,zs,inc_gf,dec_gf,m_pos,inc_test,dec_test)"
   ]
  },
  {
   "cell_type": "markdown",
   "metadata": {},
   "source": [
    "### Calculating residual"
   ]
  },
  {
   "cell_type": "code",
   "execution_count": 30,
   "metadata": {},
   "outputs": [],
   "source": [
    "r_pos = data['tfa_obs_sphere_RM_reg'] - tf_pred_pos"
   ]
  },
  {
   "cell_type": "markdown",
   "metadata": {},
   "source": [
    "#### Parameters for normalized histogram"
   ]
  },
  {
   "cell_type": "code",
   "execution_count": 31,
   "metadata": {},
   "outputs": [],
   "source": [
    "r_norm,r_mean,r_std = func.residual(data['tfa_obs_sphere_RM_reg'],tf_pred_pos)"
   ]
  },
  {
   "cell_type": "code",
   "execution_count": 32,
   "metadata": {},
   "outputs": [
    {
     "name": "stdout",
     "output_type": "stream",
     "text": [
      "-0.390263866438\n"
     ]
    }
   ],
   "source": [
    "print r_mean"
   ]
  },
  {
   "cell_type": "markdown",
   "metadata": {},
   "source": [
    "## Comparison between the Model and the Layer with posivity"
   ]
  },
  {
   "cell_type": "code",
   "execution_count": 33,
   "metadata": {},
   "outputs": [
    {
     "name": "stderr",
     "output_type": "stream",
     "text": [
      "/home/andrelreis/anaconda2/lib/python2.7/site-packages/matplotlib/figure.py:1744: UserWarning: This figure includes Axes that are not compatible with tight_layout, so its results might be incorrect.\n",
      "  warnings.warn(\"This figure includes Axes that are not \"\n"
     ]
    },
    {
     "data": {
      "image/png": "[encoded data removed]",
      "text/plain": [
       "<matplotlib.figure.Figure at 0x7f582be89b50>"
      ]
     },
     "metadata": {},
     "output_type": "display_data"
    }
   ],
   "source": [
    "title_font = 20\n",
    "bottom_font = 16\n",
    "saturation_factor = 1.\n",
    "plt.close('all')\n",
    "plt.figure(figsize=(19,7), tight_layout=True)\n",
    "\n",
    "ranges = saturation_factor*np.abs([data['tfa_obs_sphere_RM_reg'].max(), \n",
    "                                   data['tfa_obs_sphere_RM_reg'].min(),\n",
    "                                   tf_pred_pos.max(), tf_pred_pos.min()]).max()\n",
    "\n",
    "r_ranges = saturation_factor*np.abs([r_pos.max(),r_pos.min()]).max() \n",
    "\n",
    "\n",
    "plt.subplot(1,4,1)\n",
    "plt.contourf(regular_grid['y'].reshape(regular_grid['shape']),\n",
    "             regular_grid['x'].reshape(regular_grid['shape']), \n",
    "             data['tfa_obs_sphere_RM_reg'].reshape(regular_grid['shape']),\n",
    "             20, cmap='RdBu_r',vmin=-ranges, vmax=ranges)\n",
    "plt.colorbar(pad=0.01, aspect=40, shrink=1.0).set_label('nT')\n",
    "plt.xlabel('y (m)', fontsize = title_font)\n",
    "plt.ylabel('x (m)', fontsize = title_font)\n",
    "plt.title('TFA (RM_reg_grid) ', fontsize=title_font)\n",
    "\n",
    "plt.subplot(1,4,2)\n",
    "plt.contourf(regular_grid['y'].reshape(regular_grid['shape']),\n",
    "             regular_grid['x'].reshape(regular_grid['shape']),\n",
    "             tf_pred_pos.reshape(regular_grid['shape']),\n",
    "             20, cmap='RdBu_r',  vmin=-ranges, vmax=ranges)\n",
    "plt.colorbar(pad=0.01, aspect=40, shrink=1.0).set_label('nT')\n",
    "plt.xlabel('y (m)', fontsize = title_font)\n",
    "plt.ylabel('x (m)', fontsize = title_font)\n",
    "plt.title('TFA (Layer)', fontsize=title_font)\n",
    "\n",
    "plt.subplot(1,4,3)\n",
    "plt.contourf(regular_grid['y'].reshape(regular_grid['shape']),\n",
    "             regular_grid['x'].reshape(regular_grid['shape']),\n",
    "             r_pos.reshape(regular_grid['shape']), \n",
    "             20, cmap='RdBu_r',  vmin=-r_ranges, vmax=r_ranges)\n",
    "plt.colorbar(pad=0.01, aspect=40, shrink=1.0).set_label('nT')\n",
    "plt.xlabel('y (m)', fontsize = title_font)\n",
    "plt.ylabel('x (m)', fontsize = title_font)\n",
    "plt.title('Residual map', fontsize=title_font)\n",
    "\n",
    "\n",
    "plt.subplot(1,4,4)\n",
    "plt.xlabel('$\\mu$ = %.3f | $\\sigma$ = %.3f nT' % (r_mean, r_std),\n",
    "           fontsize = bottom_font)\n",
    "nbins = int((np.max(r_norm - np.min(r_norm))))\n",
    "plt.hist(r_norm,bins=nbins,normed=True)\n",
    "plt.ylim(0.,1.)\n",
    "plt.xlim(-10., 10.)\n",
    "plt.title('Normalized Histogram',fontsize=title_font)\n",
    "\n",
    "file_name = 'figs/regular/noisy_data_fitting_NNLS'\n",
    "plt.savefig(file_name+'.png',dpi=200)\n",
    "saved_files.append(file_name+'.png')\n",
    "\n",
    "plt.show()"
   ]
  },
  {
   "cell_type": "markdown",
   "metadata": {},
   "source": [
    "### Magnetic moment within the Layer with positivity constraint"
   ]
  },
  {
   "cell_type": "code",
   "execution_count": 34,
   "metadata": {},
   "outputs": [
    {
     "data": {
      "text/plain": [
       "<function matplotlib.pyplot.show>"
      ]
     },
     "execution_count": 34,
     "metadata": {},
     "output_type": "execute_result"
    },
    {
     "data": {
      "image/png": "[encoded data removed]",
      "text/plain": [
       "<matplotlib.figure.Figure at 0x7f581f25efd0>"
      ]
     },
     "metadata": {},
     "output_type": "display_data"
    }
   ],
   "source": [
    "title_font = 20\n",
    "bottom_font = 16\n",
    "saturation_factor = 1.\n",
    "plt.close('all')\n",
    "plt.figure(figsize=(7,7), tight_layout=True)\n",
    "\n",
    "ranges = saturation_factor*np.abs([m_pos.max(), m_pos.min()]).max()\n",
    "\n",
    "plt.contourf(ys.reshape(shape_layer),\n",
    "             xs.reshape(shape_layer), \n",
    "             m_pos.reshape(shape_layer),\n",
    "             20, cmap='RdBu_r',vmin=-ranges, vmax=ranges)\n",
    "plt.colorbar(pad=0.01, aspect=40, shrink=1.0).set_label('$A.m^2$')\n",
    "plt.xlabel('y (m)', fontsize = title_font)\n",
    "plt.ylabel('x (m)', fontsize = title_font)\n",
    "plt.title('Magnetic moment (layer)', fontsize=title_font)\n",
    "plt.text(3500.,4500.,'Inc = %.1f'% inc_R,family='ubuntu',style='normal')\n",
    "plt.text(3100.,4100.,'Inc_mf = %.1f'% inc_gf,family='ubuntu',style='normal' )\n",
    "\n",
    "file_name = 'figs/regular/noisy_magnetic_moment_positive_NNLS'\n",
    "plt.savefig(file_name+'.png',dpi=200)\n",
    "saved_files.append(file_name+'.png')\n",
    "\n",
    "plt.show"
   ]
  },
  {
   "cell_type": "markdown",
   "metadata": {},
   "source": [
    "### Levenberg-Marquardt with NNLS for positive magnetic moments"
   ]
  },
  {
   "cell_type": "code",
   "execution_count": 35,
   "metadata": {},
   "outputs": [],
   "source": [
    "i_pos = 250"
   ]
  },
  {
   "cell_type": "code",
   "execution_count": 36,
   "metadata": {},
   "outputs": [],
   "source": [
    "it_max = 30"
   ]
  },
  {
   "cell_type": "code",
   "execution_count": 37,
   "metadata": {},
   "outputs": [],
   "source": [
    "it_marq = 15"
   ]
  },
  {
   "cell_type": "code",
   "execution_count": 38,
   "metadata": {},
   "outputs": [],
   "source": [
    "eps = 1e-3"
   ]
  },
  {
   "cell_type": "code",
   "execution_count": 39,
   "metadata": {},
   "outputs": [],
   "source": [
    "lamb = 10.\n",
    "dlamb = 100."
   ]
  },
  {
   "cell_type": "code",
   "execution_count": 40,
   "metadata": {},
   "outputs": [
    {
     "name": "stdout",
     "output_type": "stream",
     "text": [
      "i = 0\n",
      "-41.7094005577 39.2290910937\n",
      "0.0255043948476\n",
      "i = 1\n",
      "-14.4911995341 37.561091845\n",
      "0.135334761408\n",
      "i = 2\n",
      "3.3664149928 39.76237751\n",
      "0.722422807194\n",
      "i = 3\n",
      "7.66605627735 40.9981207078\n",
      "0.381074257269\n",
      "i = 4\n",
      "10.2759968413 41.3952345885\n",
      "0.19261195996\n",
      "i = 5\n",
      "12.263280133 41.5976386464\n",
      "0.135071024417\n",
      "i = 6\n",
      "13.8856276921 41.7018447018\n",
      "0.102698061077\n",
      "i = 7\n",
      "15.2768437267 41.7318814382\n",
      "0.0839875500638\n",
      "i = 8\n",
      "16.501743958 41.719937173\n",
      "0.0711652653023\n",
      "i = 9\n",
      "17.6089647635 41.6723481032\n",
      "0.0635634406823\n",
      "i = 10\n",
      "18.6171961448 41.6043346526\n",
      "0.0570778502091\n",
      "i = 11\n",
      "19.5400484614 41.524831353\n",
      "0.0512469911559\n",
      "i = 12\n",
      "20.3926674757 41.4369026657\n",
      "0.0465376424295\n",
      "i = 13\n",
      "21.183992021 41.3404860849\n",
      "0.0423415014796\n",
      "i = 14\n",
      "21.9208640036 41.2364574659\n",
      "0.0385303123914\n",
      "i = 15\n",
      "22.6092906873 41.1255048472\n",
      "0.0350797841335\n",
      "i = 16\n",
      "23.2554951267 41.009325297\n",
      "0.0320855110946\n",
      "i = 17\n",
      "23.8630872187 40.89093807\n",
      "0.0293384395167\n",
      "i = 18\n",
      "24.436838454 40.7695618887\n",
      "0.0269759066869\n",
      "i = 19\n",
      "24.9804238635 40.6448326247\n",
      "0.0249092197075\n",
      "i = 20\n",
      "25.4958930362 40.5233044566\n",
      "0.0229280329587\n",
      "i = 21\n",
      "25.985454734 40.406163918\n",
      "0.0211124970886\n",
      "i = 22\n",
      "26.4525013385 40.2856518943\n",
      "0.0196558193934\n",
      "i = 23\n",
      "26.8990330619 40.1596073893\n",
      "0.0183785875566\n",
      "i = 24\n",
      "27.3268160836 40.0291557913\n",
      "0.017225395792\n",
      "i = 25\n",
      "27.7389001775 39.894990418\n",
      "0.0162977616412\n",
      "i = 26\n",
      "28.1364824304 39.7568676837\n",
      "0.0154602318587\n",
      "i = 27\n",
      "28.5213481912 39.6146513826\n",
      "0.0147563494738\n",
      "i = 28\n",
      "28.8940276457 39.4680108629\n",
      "0.0140983217132\n",
      "i = 29\n",
      "29.2548789782 39.3161014284\n",
      "0.0134812997451\n",
      "i = 30\n",
      "29.6048030863 39.1591899424\n",
      "0.0129300861473\n",
      "i = 31\n",
      "29.9438777366 38.9979501655\n",
      "0.0123830067504\n",
      "i = 32\n",
      "30.2725932736 38.8328667869\n",
      "0.0118662368965\n",
      "i = 33\n",
      "30.5925722382 38.6635484856\n",
      "0.0114616068233\n",
      "i = 34\n",
      "30.9042517657 38.4905404965\n",
      "0.0110815279459\n",
      "i = 35\n",
      "31.2084610164 38.3138672469\n",
      "0.0107550592658\n",
      "i = 36\n",
      "31.5053372837 38.1334179346\n",
      "0.0104444181892\n",
      "i = 37\n",
      "31.7943853072 37.94936361\n",
      "0.010107405297\n",
      "i = 38\n",
      "32.0774292675 37.761051923\n",
      "0.00988751693427\n",
      "i = 39\n",
      "32.3539900781 37.5679158118\n",
      "0.00965579408502\n",
      "i = 40\n",
      "32.6242018716 37.3702215769\n",
      "0.00943279744644\n",
      "i = 41\n",
      "32.8884356223 37.1681373454\n",
      "0.00923337156226\n",
      "i = 42\n",
      "33.1470809008 36.9618490161\n",
      "0.00905687757079\n",
      "i = 43\n",
      "33.4001511348 36.752060264\n",
      "0.0088722166842\n",
      "i = 44\n",
      "33.6478274227 36.5456141183\n",
      "0.00857349342744\n",
      "i = 45\n",
      "33.8896942654 36.3433701772\n",
      "0.00823890445896\n",
      "i = 46\n",
      "34.1271281726 36.1429488166\n",
      "0.00801794595993\n",
      "i = 47\n",
      "34.3605513951 35.9454799992\n",
      "0.00779925451879\n",
      "i = 48\n",
      "34.5900460868 35.7508637381\n",
      "0.00758787897757\n",
      "i = 49\n",
      "34.8157940786 35.557958493\n",
      "0.00740659407205\n",
      "i = 50\n",
      "35.0379527224 35.3622723538\n",
      "0.00731298017173\n",
      "i = 51\n",
      "35.2564527749 35.1643185301\n",
      "0.00720809860487\n",
      "i = 52\n",
      "35.4714961006 34.9645709479\n",
      "0.007105877028\n",
      "i = 53\n",
      "35.683277593 34.7633496113\n",
      "0.0070082824597\n",
      "i = 54\n",
      "35.8921039216 34.5606980521\n",
      "0.00692556868137\n",
      "i = 55\n",
      "36.0980589335 34.356826836\n",
      "0.00684357439757\n",
      "i = 56\n",
      "36.3011277495 34.1523632679\n",
      "0.00675014622279\n",
      "i = 57\n",
      "36.5014713988 33.9474650534\n",
      "0.00666176535862\n",
      "i = 58\n",
      "36.6993171088 33.7418523201\n",
      "0.0065896185752\n",
      "i = 59\n",
      "36.8946777478 33.5353781164\n",
      "0.00652167450226\n",
      "i = 60\n",
      "37.0876750305 33.3292413071\n",
      "0.00643701272653\n",
      "i = 61\n",
      "37.2784532601 33.1238300185\n",
      "0.00635170591732\n",
      "i = 62\n",
      "37.4671390561 32.9193136968\n",
      "0.00626893292345\n",
      "i = 63\n",
      "37.6538443704 32.7153998246\n",
      "0.00619685019183\n",
      "i = 64\n",
      "37.8388528105 32.5119858896\n",
      "0.00613940034104\n",
      "i = 65\n",
      "38.0223873881 32.3097121107\n",
      "0.00607956178337\n",
      "i = 66\n",
      "38.2044212232 32.1094574556\n",
      "0.00600195300622\n",
      "i = 67\n",
      "38.3850342027 31.9113187866\n",
      "0.00592607050003\n",
      "i = 68\n",
      "38.5642723585 31.716597953\n",
      "0.00582831292752\n",
      "i = 69\n",
      "38.7423637523 31.5249646114\n",
      "0.00574697925099\n",
      "i = 70\n",
      "38.9196318604 31.3351678957\n",
      "0.00570246792522\n",
      "i = 71\n",
      "39.0961687864 31.1457276147\n",
      "0.0056886416976\n",
      "i = 72\n",
      "39.2718668538 30.9546885618\n",
      "0.00570597759608\n",
      "i = 73\n",
      "39.4468370395 30.7620698491\n",
      "0.0057288401919\n",
      "i = 74\n",
      "39.6211114416 30.5690253718\n",
      "0.00573307276322\n",
      "i = 75\n",
      "39.7949332605 30.379311489\n",
      "0.00568042399303\n",
      "i = 76\n",
      "39.9683663016 30.1921573788\n",
      "0.00564476998242\n",
      "i = 77\n",
      "40.1414689635 30.0075485283\n",
      "0.0056122214693\n",
      "i = 78\n",
      "40.3143264363 29.8255365238\n",
      "0.00558287655352\n",
      "i = 79\n",
      "40.4870024877 29.6462657224\n",
      "0.00555436580449\n",
      "i = 80\n",
      "40.65939837 29.4688436493\n",
      "0.00553688451076\n",
      "i = 81\n",
      "40.8315930455 29.2930835925\n",
      "0.00552652383619\n",
      "i = 82\n",
      "41.003688263 29.118888616\n",
      "0.00552291260984\n",
      "i = 83\n",
      "41.1756198579 28.9471483724\n",
      "0.00550182582544\n",
      "i = 84\n",
      "41.3475020899 28.7776741721\n",
      "0.00548959997979\n",
      "i = 85\n",
      "41.5194297223 28.6102984764\n",
      "0.00548507852802\n",
      "i = 86\n",
      "41.6915245479 28.4445833611\n",
      "0.00549415731522\n",
      "i = 87\n",
      "41.8639864194 28.2785833684\n",
      "0.00554523487579\n",
      "i = 88\n",
      "42.0369200542 28.1119159305\n",
      "0.00560879724874\n",
      "i = 89\n",
      "42.2104456973 27.9446643804\n",
      "0.00567836620141\n",
      "i = 90\n",
      "42.3846620515 27.7770641665\n",
      "0.00575054473464\n",
      "i = 91\n",
      "42.5596775475 27.6091631239\n",
      "0.00582900793947\n",
      "i = 92\n",
      "42.7355634476 27.4403149202\n",
      "0.0059238309347\n",
      "i = 93\n",
      "42.9122095226 27.2713017197\n",
      "0.00600221033726\n",
      "i = 94\n",
      "43.0897582268 27.102799383\n",
      "0.00607837460336\n",
      "i = 95\n",
      "43.2681896033 26.934886385\n",
      "0.00615427527807\n",
      "i = 96\n",
      "43.4476114145 26.7673371336\n",
      "0.00624188639545\n",
      "i = 97\n",
      "43.6281878681 26.5999899894\n",
      "0.00634371491939\n",
      "i = 98\n",
      "43.8099290069 26.4329509529\n",
      "0.00644742514636\n",
      "i = 99\n",
      "43.9929994744 26.2666006845\n",
      "0.00655682182734\n",
      "i = 100\n",
      "44.1773251246 26.0997900891\n",
      "0.00668529750483\n",
      "i = 101\n",
      "44.3629028377 25.9324690172\n",
      "0.00681832924679\n",
      "i = 102\n",
      "44.5498225584 25.7644853886\n",
      "0.00696343949476\n",
      "i = 103\n",
      "44.737946477 25.5961371023\n",
      "0.0070996697505\n",
      "i = 104\n",
      "44.9274050984 25.4273854228\n",
      "0.00724875400926\n",
      "i = 105\n",
      "45.1181508039 25.2575883721\n",
      "0.00741136100812\n",
      "i = 106\n",
      "45.3097059963 25.0831395889\n",
      "0.00761635123693\n",
      "i = 107\n",
      "45.5019835802 24.9034515724\n",
      "0.00783577686783\n",
      "i = 108\n",
      "45.6949924562 24.7185457591\n",
      "0.00806508190445\n",
      "i = 109\n",
      "45.8886067828 24.5284172456\n",
      "0.0082967311731\n",
      "i = 110\n",
      "46.0826738005 24.3332753762\n",
      "0.00852445389407\n",
      "i = 111\n",
      "46.2772364285 24.1331559379\n",
      "0.00876466367708\n",
      "i = 112\n",
      "46.4723631599 23.9282468696\n",
      "0.00901645135909\n",
      "i = 113\n",
      "46.668030482 23.7186739501\n",
      "0.00927538207434\n",
      "i = 114\n",
      "46.8642105344 23.5045133065\n",
      "0.00954267168399\n",
      "i = 115\n",
      "47.0608570941 23.2858036719\n",
      "0.00981838576697\n",
      "i = 116\n",
      "47.2579126668 23.0625761752\n",
      "0.0101024272748\n",
      "i = 117\n",
      "47.4552202086 22.8349322147\n",
      "0.0103860378336\n",
      "i = 118\n",
      "47.6525600599 22.6033705481\n",
      "0.0106532191145\n",
      "i = 119\n",
      "47.8499325131 22.3681747505\n",
      "0.0109257085002\n",
      "i = 120\n",
      "48.047270935 22.1295012564\n",
      "0.0112018073356\n",
      "i = 121\n",
      "48.2446197986 21.8879665163\n",
      "0.0114770992805\n",
      "i = 122\n",
      "48.4420073657 21.644202171\n",
      "0.0117491615024\n",
      "i = 123\n",
      "48.639264673 21.3974481892\n",
      "0.0120436802342\n",
      "i = 124\n",
      "48.8363207311 21.147729256\n",
      "0.0123464918256\n",
      "i = 125\n",
      "49.0330637893 20.8956625919\n",
      "0.0126353035739\n",
      "i = 126\n",
      "49.2294316977 20.6420839459\n",
      "0.0129054642481\n",
      "i = 127\n",
      "49.4253236355 20.387080372\n",
      "0.0131770115354\n",
      "i = 128\n",
      "49.6206907119 20.1310151829\n",
      "0.0134449466318\n",
      "i = 129\n",
      "49.8157002282 19.8741765961\n",
      "0.0137317720103\n",
      "i = 130\n",
      "50.0103158549 19.6165423422\n",
      "0.0140305124539\n",
      "i = 131\n",
      "50.2043754252 19.3583856412\n",
      "0.0143183090466\n",
      "i = 132\n",
      "50.3977750283 19.1000404192\n",
      "0.0145975620514\n",
      "i = 133\n",
      "50.5902622842 18.8413585143\n",
      "0.0148704816609\n",
      "i = 134\n",
      "50.7814723931 18.5820523904\n",
      "0.0151297406013\n",
      "i = 135\n",
      "50.9713153559 18.3230379729\n",
      "0.0153548344367\n",
      "i = 136\n",
      "51.1596628883 18.0646511153\n",
      "0.015562081214\n",
      "i = 137\n",
      "51.3464237011 17.8071930284\n",
      "0.0157552005864\n",
      "i = 138\n",
      "51.5315219755 17.5510389552\n",
      "0.015931229314\n",
      "i = 139\n",
      "51.714885274 17.2965360318\n",
      "0.0160900285632\n",
      "i = 140\n",
      "51.8964439524 17.0440456257\n",
      "0.0162295519243\n",
      "i = 141\n",
      "52.0761267509 16.7938997125\n",
      "0.0163490239335\n",
      "i = 142\n",
      "52.2538656579 16.5464367769\n",
      "0.0164467279282\n",
      "i = 143\n",
      "52.4296462535 16.3022193095\n",
      "0.0165171985983\n",
      "i = 144\n",
      "52.6033959255 16.061458644\n",
      "0.0165671878295\n",
      "i = 145\n",
      "52.7750239134 15.8243361934\n",
      "0.016594050041\n",
      "i = 146\n",
      "52.9444619871 15.5913059323\n",
      "0.0165859585743\n",
      "i = 147\n",
      "53.111680116 15.3625951781\n",
      "0.0165568570197\n",
      "i = 148\n",
      "53.2765848522 15.1383053521\n",
      "0.0165027192657\n",
      "i = 149\n",
      "53.4391465189 14.9187738441\n",
      "0.016419240809\n",
      "i = 150\n",
      "53.5993891369 14.7045756511\n",
      "0.0163008117997\n",
      "i = 151\n",
      "53.7572632681 14.495724319\n",
      "0.0161631382841\n",
      "i = 152\n",
      "53.9127320813 14.2923287265\n",
      "0.0160025627316\n",
      "i = 153\n",
      "54.0658266644 14.094855866\n",
      "0.0158106017061\n",
      "i = 154\n",
      "54.216510183 13.9034059393\n",
      "0.0155944932313\n",
      "i = 155\n",
      "54.3647290896 13.7176872314\n",
      "0.0153701411212\n",
      "i = 156\n",
      "54.5104553422 13.5376792531\n",
      "0.0151281007046\n",
      "i = 157\n",
      "54.6537296411 13.3638864337\n",
      "0.0148534588703\n",
      "i = 158\n",
      "54.7945420272 13.1963243133\n",
      "0.0145618918877\n",
      "i = 159\n",
      "54.9328811187 13.0349884247\n",
      "0.0142543079808\n",
      "i = 160\n",
      "55.0687256013 12.8797956249\n",
      "0.0139330706557\n",
      "i = 161\n",
      "55.2020014932 12.7301514388\n",
      "0.01361354199\n",
      "i = 162\n",
      "55.3326694883 12.5857541937\n",
      "0.0132877370969\n",
      "i = 163\n",
      "55.4607387652 12.4466103654\n",
      "0.012949680168\n",
      "i = 164\n",
      "55.5862182129 12.3127052148\n",
      "0.0126008567553\n",
      "i = 165\n",
      "55.7091134421 12.183927877\n",
      "0.0122455750876\n",
      "i = 166\n",
      "55.8294577948 12.0604096225\n",
      "0.0118785318651\n",
      "i = 167\n",
      "55.9472798612 11.9421494447\n",
      "0.0115056026312\n",
      "i = 168\n",
      "56.0625882307 11.8291476731\n",
      "0.011124511627\n",
      "i = 169\n",
      "56.1753875426 11.7211859842\n",
      "0.010744332793\n",
      "i = 170\n",
      "56.2856970022 11.6183128379\n",
      "0.0103576190811\n",
      "i = 171\n",
      "56.3935357105 11.5204361803\n",
      "0.00997079922208\n",
      "i = 172\n",
      "56.4989069467 11.427216881\n",
      "0.00959129851237\n",
      "i = 173\n",
      "56.6018325988 11.3383503654\n",
      "0.00922102198585\n",
      "i = 174\n",
      "56.7023430107 11.2535436554\n",
      "0.00886109427551\n",
      "i = 175\n",
      "56.8004658353 11.1726125215\n",
      "0.00850775101877\n",
      "i = 176\n",
      "56.8962362929 11.0951828619\n",
      "0.00816871612858\n",
      "i = 177\n",
      "56.9896923614 11.0212146393\n",
      "0.00783385098105\n",
      "i = 178\n",
      "57.0808815487 10.9503812221\n",
      "0.00751395758527\n",
      "i = 179\n",
      "57.1698126447 10.8826594836\n",
      "0.00719445110914\n",
      "i = 180\n",
      "57.2565052132 10.817877066\n",
      "0.00688187609127\n",
      "i = 181\n",
      "57.3409558508 10.7564174254\n",
      "0.00655782273834\n",
      "i = 182\n",
      "57.4231961798 10.6982353059\n",
      "0.00624034656511\n",
      "i = 183\n",
      "57.5032651763 10.6432932626\n",
      "0.00593074112623\n",
      "i = 184\n",
      "57.5812063252 10.5914790515\n",
      "0.00563190056125\n",
      "i = 185\n",
      "57.6570402178 10.5428940916\n",
      "0.0053360144661\n",
      "i = 186\n",
      "57.7308072152 10.4970227651\n",
      "0.00506035929223\n",
      "i = 187\n",
      "57.8025761596 10.4531850004\n",
      "0.00481114772921\n",
      "i = 188\n",
      "57.8723715252 10.4114307192\n",
      "0.00456620330376\n",
      "i = 189\n",
      "57.940245545 10.3715690371\n",
      "0.00433412277768\n",
      "i = 190\n",
      "58.0062395122 10.3335520895\n",
      "0.00411054302998\n",
      "i = 191\n",
      "58.0703946431 10.2972075307\n",
      "0.00389787672213\n",
      "i = 192\n",
      "58.1327264124 10.2627442118\n",
      "0.00368606110608\n",
      "i = 193\n",
      "58.1932677136 10.2301627066\n",
      "0.00348130485167\n",
      "i = 194\n",
      "58.252042521 10.1994487305\n",
      "0.00328304612558\n",
      "i = 195\n",
      "58.3090664314 10.170636351\n",
      "0.00308977624017\n",
      "i = 196\n",
      "58.3643759773 10.1436452967\n",
      "0.00290557998608\n",
      "i = 197\n",
      "58.418017073 10.1184224605\n",
      "0.00273078732288\n",
      "i = 198\n",
      "58.4700882267 10.0949124365\n",
      "0.00257011686815\n",
      "i = 199\n",
      "58.5207441328 10.0722242902\n",
      "0.00243919411034\n",
      "i = 200\n",
      "58.5699941362 10.0502171075\n",
      "0.00231335027834\n",
      "i = 201\n",
      "58.6178618553 10.0288664523\n",
      "0.00219225950068\n",
      "i = 202\n",
      "58.664378836 10.0081579133\n",
      "0.00207641519777\n",
      "i = 203\n",
      "58.7095869411 9.98809756195\n",
      "0.00196631269469\n",
      "i = 204\n",
      "58.7535149123 9.9687122131\n",
      "0.00186051614563\n",
      "i = 205\n",
      "58.7962025863 9.94997939802\n",
      "0.00176039128532\n",
      "i = 206\n",
      "58.8376822478 9.93187686764\n",
      "0.00166518729939\n",
      "i = 207\n",
      "58.8779945842 9.91434633048\n",
      "0.00157577074614\n",
      "i = 208\n",
      "58.9171215327 9.89740842452\n",
      "0.00148688660861\n",
      "i = 209\n",
      "58.9550802807 9.8810711763\n",
      "0.0014013061956\n",
      "i = 210\n",
      "58.9918541833 9.86539234711\n",
      "0.00131622529345\n",
      "i = 211\n",
      "59.02745502 9.85033209409\n",
      "0.00123463268266\n",
      "i = 212\n",
      "59.0619101445 9.8358685912\n",
      "0.00115729744533\n",
      "i = 213\n",
      "59.0952398752 9.82202684741\n",
      "0.00108324421118\n",
      "i = 214\n",
      "59.1274593008 9.80882309892\n",
      "0.00101218385046\n",
      "i = 215\n",
      "59.1274593008 9.80882309892\n",
      "0.0\n"
     ]
    }
   ],
   "source": [
    "m_LM,inc_est,dec_est,phi,imax,pest,incs,decs = fc.levenberg_marquardt_NNLS(\n",
    "    data['tfa_obs_sphere_RM_reg'],regular_grid['x'],regular_grid['y'],\n",
    "    regular_grid['z'],xs,ys,zs,inc_gf,dec_gf,-60.,60.,lamb,dlamb,i_pos,it_max,\n",
    "    it_marq,eps)"
   ]
  },
  {
   "cell_type": "markdown",
   "metadata": {},
   "source": [
    "### Visualization of the convergence"
   ]
  },
  {
   "cell_type": "code",
   "execution_count": 41,
   "metadata": {},
   "outputs": [],
   "source": [
    "phi = np.array(phi)/regular_grid['x'].size"
   ]
  },
  {
   "cell_type": "code",
   "execution_count": 42,
   "metadata": {},
   "outputs": [
    {
     "data": {
      "text/plain": [
       "<matplotlib.figure.Figure at 0x7f582c333850>"
      ]
     },
     "metadata": {},
     "output_type": "display_data"
    },
    {
     "data": {
      "image/png": "[encoded data removed]",
      "text/plain": [
       "<matplotlib.figure.Figure at 0x7f582c333310>"
      ]
     },
     "metadata": {},
     "output_type": "display_data"
    }
   ],
   "source": [
    "title_font = 20\n",
    "bottom_font = 16\n",
    "saturation_factor = 1.\n",
    "plt.close('all')\n",
    "plt.figure(figsize=(8,8), tight_layout=True)\n",
    "\n",
    "plt.figure(figsize=(10, 10))\n",
    "plt.plot(phi, 'b--')\n",
    "plt.plot(phi, 'b.')\n",
    "\n",
    "plt.title('Convergence analysis', fontsize=title_font)\n",
    "plt.xlabel('iteration', fontsize = title_font)\n",
    "plt.ylabel('$\\phi (\\bar{p})$', fontsize = title_font)\n",
    "\n",
    "file_name = 'figs/regular/noisy_convergence_LM_NNLS'\n",
    "plt.savefig(file_name+'.png',dpi=200)\n",
    "saved_files.append(file_name+'.png')\n",
    "\n",
    "plt.show()"
   ]
  },
  {
   "cell_type": "markdown",
   "metadata": {},
   "source": [
    "### Estimated magnetization direction"
   ]
  },
  {
   "cell_type": "code",
   "execution_count": 43,
   "metadata": {},
   "outputs": [
    {
     "name": "stdout",
     "output_type": "stream",
     "text": [
      "(59.127459300756279, 9.8088230989160312)\n"
     ]
    }
   ],
   "source": [
    "print (inc_est,dec_est)"
   ]
  },
  {
   "cell_type": "code",
   "execution_count": 44,
   "metadata": {},
   "outputs": [
    {
     "name": "stdout",
     "output_type": "stream",
     "text": [
      "(60.0, 10.0)\n"
     ]
    }
   ],
   "source": [
    "print (inc_R,dec_R)"
   ]
  },
  {
   "cell_type": "markdown",
   "metadata": {},
   "source": [
    "### Comparison between observed data and predicted data"
   ]
  },
  {
   "cell_type": "code",
   "execution_count": 45,
   "metadata": {},
   "outputs": [],
   "source": [
    "pred = fc.tfa_layer(regular_grid['x'],regular_grid['y'],regular_grid['z'],\n",
    "                    xs,ys,zs,inc_gf,dec_gf,m_LM,inc_est,dec_est)"
   ]
  },
  {
   "cell_type": "code",
   "execution_count": 46,
   "metadata": {},
   "outputs": [],
   "source": [
    "res = pred - data['tfa_obs_sphere_RM_reg']"
   ]
  },
  {
   "cell_type": "code",
   "execution_count": 47,
   "metadata": {},
   "outputs": [],
   "source": [
    "r_norm,r_mean,r_std = func.residual(data['tfa_obs_sphere_RM_reg'],pred)"
   ]
  },
  {
   "cell_type": "code",
   "execution_count": 48,
   "metadata": {},
   "outputs": [
    {
     "data": {
      "image/png": "[encoded data removed]",
      "text/plain": [
       "<matplotlib.figure.Figure at 0x7f581f557550>"
      ]
     },
     "metadata": {},
     "output_type": "display_data"
    }
   ],
   "source": [
    "title_font = 20\n",
    "bottom_font = 16\n",
    "saturation_factor = 1.\n",
    "plt.close('all')\n",
    "plt.figure(figsize=(19,7), tight_layout=True)\n",
    "\n",
    "ranges = saturation_factor*np.abs([data['tfa_obs_sphere_RM_reg'].max(), \n",
    "                                   data['tfa_obs_sphere_RM_reg'].min(),\n",
    "                                   pred.max(), pred.min()]).max()\n",
    "res_ranges = np.max(np.abs(res))\n",
    "\n",
    "plt.subplot(1,4,1)\n",
    "plt.contourf(regular_grid['y'].reshape(regular_grid['shape']),\n",
    "             regular_grid['x'].reshape(regular_grid['shape']), \n",
    "             data['tfa_obs_sphere_RM_reg'].reshape(regular_grid['shape']),\n",
    "             20, cmap='RdBu_r',vmin=-ranges, vmax=ranges)\n",
    "plt.colorbar(pad=0.01, aspect=40, shrink=1.0).set_label('nT')\n",
    "plt.xlabel('y (m)', fontsize = title_font)\n",
    "plt.ylabel('x (m)', fontsize = title_font)\n",
    "plt.title('TFA (RM_reg_grid)',fontsize=title_font)\n",
    "\n",
    "plt.subplot(1,4,2)\n",
    "plt.contourf(regular_grid['y'].reshape(regular_grid['shape']),\n",
    "             regular_grid['x'].reshape(regular_grid['shape']),\n",
    "             pred.reshape(regular_grid['shape']),\n",
    "             20, cmap='RdBu_r',  vmin=-ranges, vmax=ranges)\n",
    "plt.colorbar(pad=0.01, aspect=40, shrink=1.0).set_label('nT')\n",
    "plt.xlabel('y (m)', fontsize = title_font)\n",
    "plt.ylabel('x (m)', fontsize = title_font)\n",
    "plt.title('TFA (Layer)', fontsize=title_font)\n",
    "\n",
    "plt.subplot(1,4,3)\n",
    "plt.contourf(regular_grid['y'].reshape(regular_grid['shape']),\n",
    "             regular_grid['x'].reshape(regular_grid['shape']),\n",
    "             res.reshape(regular_grid['shape']), \n",
    "             20, cmap='RdBu_r',  vmin=-res_ranges, vmax=res_ranges)\n",
    "plt.colorbar(pad=0.01, aspect=40, shrink=1.0).set_label('nT')\n",
    "plt.xlabel('y (m)', fontsize = title_font)\n",
    "plt.ylabel('x (m)', fontsize = title_font)\n",
    "plt.title('Residual map', fontsize=title_font)\n",
    "\n",
    "\n",
    "plt.subplot(1,4,4)\n",
    "plt.xlabel('$\\mu$ = %.3f | $\\sigma$ = %.3f nT' % (r_mean, r_std),\n",
    "           fontsize = bottom_font)\n",
    "nbins = int((np.max(r_norm - np.min(r_norm))))\n",
    "plt.hist(r_norm,bins=nbins,normed=True)\n",
    "plt.ylim(0.,1.)\n",
    "plt.xlim(-10., 10.)\n",
    "plt.title('Normalized Histogram',fontsize=title_font)\n",
    "\n",
    "file_name = 'figs/regular/noisy_data_fitting_LM_NNLS'\n",
    "plt.savefig(file_name+'.png',dpi=200)\n",
    "saved_files.append(file_name+'.png')\n",
    "\n",
    "plt.show()"
   ]
  },
  {
   "cell_type": "markdown",
   "metadata": {},
   "source": [
    "### Estimated magnetic moment within the layer"
   ]
  },
  {
   "cell_type": "code",
   "execution_count": 49,
   "metadata": {},
   "outputs": [
    {
     "data": {
      "image/png": "[encoded data removed]",
      "text/plain": [
       "<matplotlib.figure.Figure at 0x7f581f630390>"
      ]
     },
     "metadata": {},
     "output_type": "display_data"
    }
   ],
   "source": [
    "title_font = 20\n",
    "bottom_font = 16\n",
    "saturation_factor = 1.\n",
    "plt.close('all')\n",
    "plt.figure(figsize=(7,7), tight_layout=True)\n",
    "\n",
    "ranges = saturation_factor*np.abs([m_LM.max(), m_LM.min()]).max()\n",
    "\n",
    "plt.contourf(ys.reshape(shape_layer),\n",
    "             xs.reshape(shape_layer), \n",
    "             m_LM.reshape(shape_layer),\n",
    "             20, cmap='RdBu_r',vmin=-ranges, vmax=ranges)\n",
    "plt.colorbar(pad=0.01, aspect=40, shrink=1.0).set_label('$A.m^2$')\n",
    "plt.xlabel('y (m)', fontsize = title_font)\n",
    "plt.ylabel('x (m)', fontsize = title_font)\n",
    "plt.title('Magnetic moment (layer)', fontsize=title_font)\n",
    "plt.text(1500.,4500.,'Inc = %.1f | Dec = %.1f '% (inc_R,dec_R),family='ubuntu',style='normal')\n",
    "plt.text(1000.,4100.,'Inc_est = %.1f | Dec_est = %.1f '% (inc_est,dec_est),family='ubuntu',style='normal' )\n",
    "\n",
    "\n",
    "file_name = 'figs/regular/noisy_magnetic_moment_positive_LM_NNLS'\n",
    "plt.savefig(file_name+'.png',dpi=200)\n",
    "saved_files.append(file_name+'.png')\n",
    "\n",
    "plt.show()"
   ]
  },
  {
   "cell_type": "code",
   "execution_count": null,
   "metadata": {},
   "outputs": [],
   "source": []
  },
  {
   "cell_type": "code",
   "execution_count": null,
   "metadata": {},
   "outputs": [],
   "source": []
  }
 ],
 "metadata": {
  "kernelspec": {
   "display_name": "Python 2",
   "language": "python",
   "name": "python2"
  },
  "language_info": {
   "codemirror_mode": {
    "name": "ipython",
    "version": 2
   },
   "file_extension": ".py",
   "mimetype": "text/x-python",
   "name": "python",
   "nbconvert_exporter": "python",
   "pygments_lexer": "ipython2",
   "version": "2.7.14"
  }
 },
 "nbformat": 4,
 "nbformat_minor": 2
}
