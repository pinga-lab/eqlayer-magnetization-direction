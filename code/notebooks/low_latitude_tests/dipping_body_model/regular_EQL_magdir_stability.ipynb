{
 "cells": [
  {
   "cell_type": "markdown",
   "metadata": {},
   "source": [
    "# Testing solution stability"
   ]
  },
  {
   "cell_type": "markdown",
   "metadata": {},
   "source": [
    "#### Importing libraries"
   ]
  },
  {
   "cell_type": "code",
   "execution_count": 1,
   "metadata": {},
   "outputs": [],
   "source": [
    "% matplotlib inline "
   ]
  },
  {
   "cell_type": "code",
   "execution_count": 2,
   "metadata": {},
   "outputs": [
    {
     "name": "stderr",
     "output_type": "stream",
     "text": [
      "/home/andrelreis/anaconda2/lib/python2.7/site-packages/fatiando/vis/mpl.py:76: UserWarning: This module will be removed in v0.6. We recommend the use of matplotlib.pyplot module directly. Some of the fatiando specific functions will remain.\n",
      "  \"specific functions will remain.\")\n"
     ]
    }
   ],
   "source": [
    "import sys\n",
    "import numpy as np\n",
    "import matplotlib.pyplot as plt\n",
    "import cPickle as pickle\n",
    "import datetime\n",
    "import timeit\n",
    "from scipy.optimize import nnls\n",
    "from fatiando.gridder import regular\n",
    "from fatiando.utils import ang2vec, vec2ang\n",
    "from fatiando.mesher import Sphere, PointGrid,Prism\n",
    "from fatiando.gravmag import sphere,prism\n",
    "from fatiando.constants import CM, T2NT, G, SI2MGAL"
   ]
  },
  {
   "cell_type": "code",
   "execution_count": 3,
   "metadata": {},
   "outputs": [],
   "source": [
    "notebook_name = 'regular_EQL_magdir_stability.ipynb'"
   ]
  },
  {
   "cell_type": "markdown",
   "metadata": {},
   "source": [
    "#### Importing auxiliary functions"
   ]
  },
  {
   "cell_type": "code",
   "execution_count": 4,
   "metadata": {},
   "outputs": [],
   "source": [
    "dir_modules = '../../mypackage'\n",
    "sys.path.append(dir_modules)"
   ]
  },
  {
   "cell_type": "code",
   "execution_count": 5,
   "metadata": {},
   "outputs": [],
   "source": [
    "import auxiliary_functions as fc"
   ]
  },
  {
   "cell_type": "markdown",
   "metadata": {},
   "source": [
    "#### Loading properties of the model"
   ]
  },
  {
   "cell_type": "code",
   "execution_count": 6,
   "metadata": {},
   "outputs": [],
   "source": [
    "with open('data/model_sphere.pickle') as f:\n",
    "        model_sphere = pickle.load(f)"
   ]
  },
  {
   "cell_type": "markdown",
   "metadata": {},
   "source": [
    "#### Loading properties grid"
   ]
  },
  {
   "cell_type": "code",
   "execution_count": 7,
   "metadata": {},
   "outputs": [],
   "source": [
    "with open('data/regular_grid.pickle') as f:\n",
    "        reg_grid = pickle.load(f)"
   ]
  },
  {
   "cell_type": "markdown",
   "metadata": {},
   "source": [
    "### Saving files"
   ]
  },
  {
   "cell_type": "code",
   "execution_count": 8,
   "metadata": {},
   "outputs": [],
   "source": [
    "saved_files = []"
   ]
  },
  {
   "cell_type": "markdown",
   "metadata": {},
   "source": [
    "## Observation area"
   ]
  },
  {
   "cell_type": "code",
   "execution_count": 9,
   "metadata": {},
   "outputs": [
    {
     "name": "stdout",
     "output_type": "stream",
     "text": [
      "Area limits: \n",
      " x_max = 6000.0 m \n",
      " x_min = -6000.0 m \n",
      " y_max = 6000.0 m \n",
      " y_min = -6000.0 m\n"
     ]
    }
   ],
   "source": [
    "print 'Area limits: \\n x_max = %.1f m \\n x_min = %.1f m \\n y_max = %.1f m \\n y_min = %.1f m' % (reg_grid['area'][1], \n",
    "                                                                                                reg_grid['area'][0],\n",
    "                                                                                                reg_grid['area'][3],\n",
    "                                                                                                reg_grid['area'][2])"
   ]
  },
  {
   "cell_type": "markdown",
   "metadata": {},
   "source": [
    "### reg_grid survey information"
   ]
  },
  {
   "cell_type": "code",
   "execution_count": 10,
   "metadata": {},
   "outputs": [
    {
     "name": "stdout",
     "output_type": "stream",
     "text": [
      "Shape : (20,20)\n",
      "Number of data: 400.0\n",
      "dx: 631.6 m\n",
      "dy: 631.6 m \n"
     ]
    }
   ],
   "source": [
    "print 'Shape : (%.0f,%.0f)'% reg_grid['shape'] \n",
    "print 'Number of data: %.1f' % reg_grid['N']\n",
    "print 'dx: %.1f m' % reg_grid['dx']\n",
    "print 'dy: %.1f m ' % reg_grid['dy']"
   ]
  },
  {
   "cell_type": "markdown",
   "metadata": {},
   "source": [
    "## Properties of the model"
   ]
  },
  {
   "cell_type": "markdown",
   "metadata": {},
   "source": [
    "### Main field"
   ]
  },
  {
   "cell_type": "code",
   "execution_count": 11,
   "metadata": {},
   "outputs": [],
   "source": [
    "inc_gf,dec_gf = model_sphere['main_field']"
   ]
  },
  {
   "cell_type": "code",
   "execution_count": 12,
   "metadata": {},
   "outputs": [
    {
     "name": "stdout",
     "output_type": "stream",
     "text": [
      "Main field inclination: 40.0 degree\n",
      "Main field declination: 45.0 degree\n"
     ]
    }
   ],
   "source": [
    "print'Main field inclination: %.1f degree' % inc_gf\n",
    "print'Main field declination: %.1f degree' % dec_gf"
   ]
  },
  {
   "cell_type": "markdown",
   "metadata": {},
   "source": [
    "### Magnetization direction"
   ]
  },
  {
   "cell_type": "code",
   "execution_count": 13,
   "metadata": {},
   "outputs": [
    {
     "name": "stdout",
     "output_type": "stream",
     "text": [
      "Intensity: 3.0 A/m\n",
      "Inclination: 30.0 degree\n",
      "Declination: 20.0 degree\n"
     ]
    }
   ],
   "source": [
    "print 'Intensity: %.1f A/m' % model_sphere['m_R']\n",
    "print 'Inclination: %.1f degree' % model_sphere['inc_R']\n",
    "print 'Declination: %.1f degree' % model_sphere['dec_R']"
   ]
  },
  {
   "cell_type": "code",
   "execution_count": 14,
   "metadata": {},
   "outputs": [],
   "source": [
    "inc_R,dec_R = model_sphere['inc_R'],model_sphere['dec_R']"
   ]
  },
  {
   "cell_type": "markdown",
   "metadata": {},
   "source": [
    "### Generating data"
   ]
  },
  {
   "cell_type": "code",
   "execution_count": 15,
   "metadata": {},
   "outputs": [],
   "source": [
    "data = sphere.tf(reg_grid['x'],reg_grid['y'],reg_grid['z'],\n",
    "                 model_sphere['model_R'],inc_gf,dec_gf)"
   ]
  },
  {
   "cell_type": "code",
   "execution_count": 16,
   "metadata": {},
   "outputs": [],
   "source": [
    "seed = 10"
   ]
  },
  {
   "cell_type": "code",
   "execution_count": 17,
   "metadata": {},
   "outputs": [],
   "source": [
    "np.random.seed(seed=seed)"
   ]
  },
  {
   "cell_type": "code",
   "execution_count": 18,
   "metadata": {},
   "outputs": [],
   "source": [
    "std_noise = 7.\n",
    "r = np.random.normal(0.0,std_noise, reg_grid['Nx']*reg_grid['Ny'])\n",
    "data_obs =  data + r"
   ]
  },
  {
   "cell_type": "markdown",
   "metadata": {},
   "source": [
    "## Generating the layer with my function "
   ]
  },
  {
   "cell_type": "code",
   "execution_count": 19,
   "metadata": {},
   "outputs": [],
   "source": [
    "h = 1800."
   ]
  },
  {
   "cell_type": "markdown",
   "metadata": {},
   "source": [
    "#### Generating a layer"
   ]
  },
  {
   "cell_type": "code",
   "execution_count": 20,
   "metadata": {},
   "outputs": [],
   "source": [
    "shape_layer = (reg_grid['shape'][0],reg_grid['shape'][1])"
   ]
  },
  {
   "cell_type": "code",
   "execution_count": 21,
   "metadata": {},
   "outputs": [],
   "source": [
    "xs,ys,zs = regular(reg_grid['area'],shape_layer,h)"
   ]
  },
  {
   "cell_type": "markdown",
   "metadata": {},
   "source": [
    "### Levenberg-Marquardt with NNLS for positive magnetic moments"
   ]
  },
  {
   "cell_type": "code",
   "execution_count": 22,
   "metadata": {},
   "outputs": [],
   "source": [
    "i_pos = 1800"
   ]
  },
  {
   "cell_type": "code",
   "execution_count": 23,
   "metadata": {},
   "outputs": [],
   "source": [
    "it_max = 30"
   ]
  },
  {
   "cell_type": "code",
   "execution_count": 24,
   "metadata": {},
   "outputs": [],
   "source": [
    "it_marq = 15"
   ]
  },
  {
   "cell_type": "code",
   "execution_count": 25,
   "metadata": {},
   "outputs": [],
   "source": [
    "lamb = 10.\n",
    "dlamb = 100."
   ]
  },
  {
   "cell_type": "code",
   "execution_count": 26,
   "metadata": {},
   "outputs": [],
   "source": [
    "eps_e = 1e-4\n",
    "eps_i = 1e-4"
   ]
  },
  {
   "cell_type": "code",
   "execution_count": 27,
   "metadata": {},
   "outputs": [],
   "source": [
    "mu_LM = 1e5"
   ]
  },
  {
   "cell_type": "code",
   "execution_count": 28,
   "metadata": {},
   "outputs": [
    {
     "name": "stdout",
     "output_type": "stream",
     "text": [
      "i = 0\n",
      "1.68662235877 -3.00444256636\n",
      "0.563810189181\n",
      "i = 1\n",
      "7.35764258988 -0.957944385975\n",
      "0.528932492717\n",
      "i = 2\n",
      "10.5693284489 0.409034043975\n",
      "0.297932371609\n",
      "i = 3\n",
      "12.7342247511 1.6091379944\n",
      "0.187289637201\n",
      "i = 4\n",
      "14.3576334691 2.73268358983\n",
      "0.136050456993\n",
      "i = 5\n",
      "15.6302408148 3.80811527857\n",
      "0.104838208055\n",
      "i = 6\n",
      "16.6750956958 4.82406146447\n",
      "0.0851586711773\n",
      "i = 7\n",
      "17.5571452538 5.79079851682\n",
      "0.0718498861904\n",
      "i = 8\n",
      "18.3150161847 6.71054833168\n",
      "0.0617709124264\n",
      "i = 9\n",
      "18.9777118874 7.57469690189\n",
      "0.0533173294094\n",
      "i = 10\n",
      "19.5646225381 8.38037591762\n",
      "0.0460276850219\n",
      "i = 11\n",
      "20.0921664776 9.11299983506\n",
      "0.0390574098241\n",
      "i = 12\n",
      "20.5816913235 9.74637828722\n",
      "0.0323582830825\n",
      "i = 13\n",
      "21.0393725582 10.2992062872\n",
      "0.0272876244075\n",
      "i = 14\n",
      "21.4684642508 10.7829692059\n",
      "0.0231645042457\n",
      "i = 15\n",
      "21.8678488949 11.2339707354\n",
      "0.0204510420155\n",
      "i = 16\n",
      "22.2376999767 11.6677489782\n",
      "0.0183396343831\n",
      "i = 17\n",
      "22.5795529679 12.0789288135\n",
      "0.0161941485461\n",
      "i = 18\n",
      "22.8965937454 12.4662150863\n",
      "0.0142582630895\n",
      "i = 19\n",
      "23.1911236574 12.8282604625\n",
      "0.0124775837688\n",
      "i = 20\n",
      "23.4650187428 13.164258322\n",
      "0.0108484683198\n",
      "i = 21\n",
      "23.7198631402 13.4744812836\n",
      "0.00938625730304\n",
      "i = 22\n",
      "23.9568692293 13.7599227301\n",
      "0.00808645279963\n",
      "i = 23\n",
      "24.1773143097 14.0231068195\n",
      "0.00697164784747\n",
      "i = 24\n",
      "24.3832864086 14.264407603\n",
      "0.00601387730818\n",
      "i = 25\n",
      "24.576185967 14.4846047582\n",
      "0.00518385447074\n",
      "i = 26\n",
      "24.7571347906 14.6841277619\n",
      "0.00445710083648\n",
      "i = 27\n",
      "24.9273619259 14.8637853256\n",
      "0.00383494042904\n",
      "i = 28\n",
      "25.0880501877 15.0254346653\n",
      "0.00331935745998\n",
      "i = 29\n",
      "25.2417770656 15.1797213893\n",
      "0.00303279966759\n",
      "i = 30\n",
      "25.3889151303 15.3266595701\n",
      "0.00276896152692\n",
      "i = 31\n",
      "25.5298192307 15.4662995916\n",
      "0.00252659364378\n",
      "i = 32\n",
      "25.6646458088 15.5984740716\n",
      "0.0022975616115\n",
      "i = 33\n",
      "25.7937405511 15.7232529687\n",
      "0.00208838447989\n",
      "i = 34\n",
      "25.9168283301 15.8398193867\n",
      "0.00187640885692\n",
      "i = 35\n",
      "26.0345383437 15.9484032874\n",
      "0.00169162930942\n",
      "i = 36\n",
      "26.1477007794 16.0499535545\n",
      "0.00154111041895\n",
      "i = 37\n",
      "26.2565978879 16.144130602\n",
      "0.00140175853006\n",
      "i = 38\n",
      "26.3619677308 16.2336022951\n",
      "0.00130052530056\n",
      "i = 39\n",
      "26.4640624034 16.3189126743\n",
      "0.00121130854408\n",
      "i = 40\n",
      "26.563189649 16.4008878948\n",
      "0.0011357102779\n",
      "i = 41\n",
      "26.6594941234 16.479697048\n",
      "0.00106616179778\n",
      "i = 42\n",
      "26.7531308322 16.555399182\n",
      "0.0010019290976\n",
      "i = 43\n",
      "26.8442598923 16.6280474435\n",
      "0.000942792018872\n",
      "i = 44\n",
      "26.9329704104 16.6977203723\n",
      "0.000887432753659\n",
      "i = 45\n",
      "27.0193478189 16.7644966672\n",
      "0.000835613066081\n",
      "i = 46\n",
      "27.1034740384 16.8284549983\n",
      "0.000787108488813\n",
      "i = 47\n",
      "27.1853606167 16.8894594773\n",
      "0.000739846432131\n",
      "i = 48\n",
      "27.2650762814 16.9477714095\n",
      "0.000696219252359\n",
      "i = 49\n",
      "27.3426980233 17.0034680824\n",
      "0.000655441965262\n",
      "i = 50\n",
      "27.4182997051 17.0566260314\n",
      "0.000617327263595\n",
      "i = 51\n",
      "27.4919908943 17.1073370212\n",
      "0.000582282280798\n",
      "i = 52\n",
      "27.5642337598 17.1566295231\n",
      "0.000557678812974\n",
      "i = 53\n",
      "27.6351135678 17.2046628734\n",
      "0.0005352436402\n",
      "i = 54\n",
      "27.7046231134 17.2513354732\n",
      "0.000512921640951\n",
      "i = 55\n",
      "27.7727499238 17.2965270329\n",
      "0.000490627936849\n",
      "i = 56\n",
      "27.8395325899 17.3402854474\n",
      "0.000469486077843\n",
      "i = 57\n",
      "27.9050081318 17.3826567975\n",
      "0.000449425753198\n",
      "i = 58\n",
      "27.9692175082 17.4236823147\n",
      "0.00043043810124\n",
      "i = 59\n",
      "28.0321998265 17.4634218904\n",
      "0.000412502508346\n",
      "i = 60\n",
      "28.0940477029 17.5020923379\n",
      "0.000396543885934\n",
      "i = 61\n",
      "28.1547456538 17.5397537443\n",
      "0.000380892266402\n",
      "i = 62\n",
      "28.2142982214 17.576450925\n",
      "0.000365729361948\n",
      "i = 63\n",
      "28.2727335437 17.6122114899\n",
      "0.000351258673888\n",
      "i = 64\n",
      "28.3300770634 17.6470637142\n",
      "0.00033742835344\n",
      "i = 65\n",
      "28.3863517107 17.6810364726\n",
      "0.000324191075937\n",
      "i = 66\n",
      "28.4416098148 17.7141864925\n",
      "0.000311878005779\n",
      "i = 67\n",
      "28.4958940884 17.746528686\n",
      "0.000300274340125\n",
      "i = 68\n",
      "28.5492554777 17.7780995905\n",
      "0.000289472700302\n",
      "i = 69\n",
      "28.6017162787 17.8089161109\n",
      "0.000279129905264\n",
      "i = 70\n",
      "28.6532947635 17.8389953268\n",
      "0.000269193318443\n",
      "i = 71\n",
      "28.7040095456 17.868357522\n",
      "0.000259658855346\n",
      "i = 72\n",
      "28.7538786994 17.8970223132\n",
      "0.000250507635934\n",
      "i = 73\n",
      "28.8029197827 17.9250086762\n",
      "0.000241721817505\n",
      "i = 74\n",
      "28.8511498573 17.952334971\n",
      "0.000233284528349\n",
      "i = 75\n",
      "28.8985869972 17.9790345335\n",
      "0.000225215870251\n",
      "i = 76\n",
      "28.945272301 18.0053906575\n",
      "0.000218063648537\n",
      "i = 77\n",
      "28.9912190109 18.0314075317\n",
      "0.000211151586958\n",
      "i = 78\n",
      "29.0364355802 18.0570873562\n",
      "0.000204430777799\n",
      "i = 79\n",
      "29.0807654147 18.0825164765\n",
      "0.000196682313672\n",
      "i = 80\n",
      "29.1239429178 18.1077849785\n",
      "0.000187130964106\n",
      "i = 81\n",
      "29.1660017037 18.1328871239\n",
      "0.000178090400521\n",
      "i = 82\n",
      "29.2069742084 18.1578175833\n",
      "0.000169530326271\n",
      "i = 83\n",
      "29.2468917416 18.1825714163\n",
      "0.000161422443044\n",
      "i = 84\n",
      "29.2857845349 18.207144053\n",
      "0.000153740304795\n",
      "i = 85\n",
      "29.3236817885 18.2315312759\n",
      "0.000146459183435\n",
      "i = 86\n",
      "29.3606117144 18.2557292031\n",
      "0.00013955594522\n",
      "i = 87\n",
      "29.3966015779 18.2797342716\n",
      "0.000133008936937\n",
      "i = 88\n",
      "29.4316777369 18.3035432221\n",
      "0.000126797881013\n",
      "i = 89\n",
      "29.4658656792 18.327153084\n",
      "0.000120903778802\n",
      "i = 90\n",
      "29.4991900577 18.3505611616\n",
      "0.000115308821339\n",
      "i = 91\n",
      "29.5316747242 18.3737650199\n",
      "0.000109996306956\n",
      "i = 92\n",
      "29.5633427614 18.3967624725\n",
      "0.000104950565145\n",
      "i = 93\n",
      "29.5942740025 18.4195674969\n",
      "0.000100495695039\n",
      "i = 94\n",
      "29.5942740025 18.4195674969\n",
      "0.0\n"
     ]
    }
   ],
   "source": [
    "m_LM,inc_est,dec_est,phi,imax,pest,incs,decs = fc.levenberg_marquardt_NNLS(\n",
    "    data_obs,reg_grid['x'],reg_grid['y'],reg_grid['z'],xs,ys,zs,inc_gf,dec_gf,\n",
    "    -10.,-10.,lamb,dlamb,i_pos,it_max,it_marq,eps_e,eps_i,mu_LM)"
   ]
  },
  {
   "cell_type": "markdown",
   "metadata": {},
   "source": [
    "### Visualization of the convergence"
   ]
  },
  {
   "cell_type": "code",
   "execution_count": 29,
   "metadata": {},
   "outputs": [],
   "source": [
    "phi = (np.array(phi)/reg_grid['x'].size)"
   ]
  },
  {
   "cell_type": "code",
   "execution_count": 30,
   "metadata": {},
   "outputs": [
    {
     "data": {
      "text/plain": [
       "<matplotlib.figure.Figure at 0x7fceec0cadd0>"
      ]
     },
     "metadata": {},
     "output_type": "display_data"
    },
    {
     "data": {
      "image/png": "[encoded data removed]",
      "text/plain": [
       "<matplotlib.figure.Figure at 0x7fceec0cad90>"
      ]
     },
     "metadata": {},
     "output_type": "display_data"
    }
   ],
   "source": [
    "title_font = 20\n",
    "bottom_font = 18\n",
    "saturation_factor = 1.\n",
    "plt.close('all')\n",
    "plt.figure(figsize=(9,9), tight_layout=True)\n",
    "\n",
    "plt.figure(figsize=(10, 10))\n",
    "plt.plot(phi, 'b--')\n",
    "plt.plot(phi, 'b.')\n",
    "\n",
    "plt.title('Convergence analysis', fontsize=title_font)\n",
    "plt.xlabel('iteration', fontsize = title_font)\n",
    "plt.ylabel('$\\phi$', fontsize = title_font)\n",
    "plt.tick_params(axis='both', which='major', labelsize=15)\n",
    "\n",
    "file_name = 'figs/regular/instability/convergence_LM_NNLS_magRM_seed= %.1f' % seed\n",
    "plt.savefig(file_name+'.png',dpi=300)\n",
    "saved_files.append(file_name+'.png')\n",
    "\n",
    "plt.savefig(file_name+'.eps',dpi=300)\n",
    "saved_files.append(file_name+'.eps')\n",
    "\n",
    "\n",
    "plt.show()"
   ]
  },
  {
   "cell_type": "markdown",
   "metadata": {},
   "source": [
    "### Estimated magnetization direction"
   ]
  },
  {
   "cell_type": "code",
   "execution_count": 31,
   "metadata": {},
   "outputs": [
    {
     "name": "stdout",
     "output_type": "stream",
     "text": [
      "(29.594274002495911, 18.419567496887094)\n"
     ]
    }
   ],
   "source": [
    "print (inc_est,dec_est)"
   ]
  },
  {
   "cell_type": "code",
   "execution_count": 32,
   "metadata": {},
   "outputs": [
    {
     "name": "stdout",
     "output_type": "stream",
     "text": [
      "(30.0, 20.0)\n"
     ]
    }
   ],
   "source": [
    "print (inc_R,dec_R)"
   ]
  },
  {
   "cell_type": "markdown",
   "metadata": {},
   "source": [
    "### Comparison between observed data and predicted data"
   ]
  },
  {
   "cell_type": "code",
   "execution_count": 33,
   "metadata": {},
   "outputs": [],
   "source": [
    "pred = fc.tfa_layer(reg_grid['x'],reg_grid['y'],reg_grid['z'],\n",
    "                    xs,ys,zs,inc_gf,dec_gf,m_LM,inc_est,dec_est)"
   ]
  },
  {
   "cell_type": "code",
   "execution_count": 34,
   "metadata": {},
   "outputs": [],
   "source": [
    "res = pred - data_obs"
   ]
  },
  {
   "cell_type": "code",
   "execution_count": 35,
   "metadata": {},
   "outputs": [],
   "source": [
    "r_norm,r_mean,r_std = fc.residual(data_obs,pred)"
   ]
  },
  {
   "cell_type": "code",
   "execution_count": 36,
   "metadata": {},
   "outputs": [
    {
     "name": "stderr",
     "output_type": "stream",
     "text": [
      "/home/andrelreis/anaconda2/lib/python2.7/site-packages/matplotlib/figure.py:1744: UserWarning: This figure includes Axes that are not compatible with tight_layout, so its results might be incorrect.\n",
      "  warnings.warn(\"This figure includes Axes that are not \"\n"
     ]
    },
    {
     "data": {
      "image/png": "[encoded data removed]",
      "text/plain": [
       "<matplotlib.figure.Figure at 0x7fceebf53610>"
      ]
     },
     "metadata": {},
     "output_type": "display_data"
    }
   ],
   "source": [
    "title_font = 18\n",
    "bottom_font = 15\n",
    "saturation_factor = 1.\n",
    "plt.close('all')\n",
    "plt.figure(figsize=(15,15), tight_layout=True)\n",
    "\n",
    "ranges = saturation_factor*np.abs([data_obs.max(), \n",
    "                                   data_obs.min(),\n",
    "                                   pred.max(), pred.min()]).max()\n",
    "res_ranges = np.max(np.abs(res))\n",
    "\n",
    "plt.subplot(2,2,1)\n",
    "plt.contourf(reg_grid['y'].reshape(reg_grid['shape']),\n",
    "             reg_grid['x'].reshape(reg_grid['shape']), \n",
    "             data_obs.reshape(reg_grid['shape']),\n",
    "             20, cmap='viridis',vmin=-ranges, vmax=ranges)\n",
    "plt.colorbar(pad=0.01, aspect=40, shrink=1.0).set_label('nT',size=bottom_font)\n",
    "plt.xlabel('y (m)', fontsize = title_font)\n",
    "plt.ylabel('x (m)', fontsize = title_font)\n",
    "plt.title('(a) TFA (model_RM)',fontsize=title_font)\n",
    "plt.tick_params(axis='both', which='major', labelsize=12)\n",
    "\n",
    "plt.subplot(2,2,2)\n",
    "plt.contourf(reg_grid['y'].reshape(reg_grid['shape']),\n",
    "             reg_grid['x'].reshape(reg_grid['shape']),\n",
    "             pred.reshape(reg_grid['shape']),\n",
    "             20, cmap='viridis',  vmin=-ranges, vmax=ranges)\n",
    "plt.colorbar(pad=0.01, aspect=40, shrink=1.0).set_label('nT',size=bottom_font)\n",
    "plt.xlabel('y (m)', fontsize = title_font)\n",
    "plt.ylabel('x (m)', fontsize = title_font)\n",
    "plt.title('(b) TFA (Layer)', fontsize=title_font)\n",
    "plt.tick_params(axis='both', which='major', labelsize=12)\n",
    "\n",
    "plt.subplot(2,2,3)\n",
    "plt.contourf(reg_grid['y'].reshape(reg_grid['shape']),\n",
    "             reg_grid['x'].reshape(reg_grid['shape']),\n",
    "             res.reshape(reg_grid['shape']), \n",
    "             20, cmap='viridis',  vmin=-res_ranges, vmax=res_ranges)\n",
    "plt.colorbar(pad=0.01, aspect=40, shrink=1.0).set_label('nT',size=bottom_font)\n",
    "plt.xlabel('y (m)', fontsize = title_font)\n",
    "plt.ylabel('x (m)', fontsize = title_font)\n",
    "plt.title('(c) Residual map', fontsize=title_font)\n",
    "plt.tick_params(axis='both', which='major', labelsize=12)\n",
    "\n",
    "\n",
    "plt.subplot(2,2,4)\n",
    "plt.xlabel('$\\mu$ = %.3f | $\\sigma$ = %.3f nT' % (r_mean, r_std),\n",
    "           fontsize = bottom_font)\n",
    "nbins = int((np.max(r_norm - np.min(r_norm))))\n",
    "plt.hist(r_norm,bins=nbins,normed=True)\n",
    "plt.ylim(0.,1.)\n",
    "plt.xlim(-10., 10.)\n",
    "plt.title('(d) Normalized Histogram',fontsize=title_font)\n",
    "plt.tick_params(axis='both', which='major', labelsize=12)\n",
    "\n",
    "file_name = 'figs/regular/instability/data_fitting_LM_NNLS_magRM_seed= %.1f' % seed\n",
    "plt.savefig(file_name+'.png',dpi=300)\n",
    "saved_files.append(file_name+'.png')\n",
    "\n",
    "plt.savefig(file_name+'.eps',dpi=300)\n",
    "saved_files.append(file_name+'.eps')\n",
    "\n",
    "\n",
    "plt.show()"
   ]
  },
  {
   "cell_type": "markdown",
   "metadata": {},
   "source": [
    "### Estimated magnetic moment within the layer"
   ]
  },
  {
   "cell_type": "code",
   "execution_count": 37,
   "metadata": {},
   "outputs": [
    {
     "data": {
      "image/png": "[encoded data removed]",
      "text/plain": [
       "<matplotlib.figure.Figure at 0x7fceec582fd0>"
      ]
     },
     "metadata": {},
     "output_type": "display_data"
    }
   ],
   "source": [
    "title_font = 18\n",
    "bottom_font = 18\n",
    "saturation_factor = 1.\n",
    "plt.close('all')\n",
    "plt.figure(figsize=(9,9), tight_layout=True)\n",
    "\n",
    "plt.contourf(ys.reshape(shape_layer),xs.reshape(shape_layer), \n",
    "             m_LM.reshape(shape_layer), 20, cmap='viridis')\n",
    "plt.colorbar(pad=0.01, aspect=40, shrink=1.0).set_label('$A.m^2$',size=bottom_font)\n",
    "plt.xlabel('y (m)', fontsize = title_font)\n",
    "plt.ylabel('x (m)', fontsize = title_font)\n",
    "plt.title('Magnetic moment (layer)| inc = %.1f/dec = %.1f'% (inc_est,dec_est), fontsize=title_font)\n",
    "\n",
    "file_name = 'figs/regular/instability/magnetic_moment_positive_LM_NNLS_magRM_seed= %.1f' % seed\n",
    "plt.savefig(file_name+'.png',dpi=300)\n",
    "saved_files.append(file_name+'.png')\n",
    "\n",
    "plt.savefig(file_name+'.eps',dpi=300)\n",
    "saved_files.append(file_name+'.eps')\n",
    "\n",
    "\n",
    "plt.show()"
   ]
  },
  {
   "cell_type": "markdown",
   "metadata": {},
   "source": [
    "### Results"
   ]
  },
  {
   "cell_type": "markdown",
   "metadata": {},
   "source": [
    "#### Generating .pickle file"
   ]
  },
  {
   "cell_type": "code",
   "execution_count": 38,
   "metadata": {},
   "outputs": [],
   "source": [
    "#now = datetime.datetime.utcnow().strftime('%d %B %Y %H:%M:%S UTC')\n",
    "#data_set['metadata'] = 'Generated by {name} on {date}'.format(date=now, name=notebook_name)"
   ]
  },
  {
   "cell_type": "code",
   "execution_count": 39,
   "metadata": {},
   "outputs": [],
   "source": [
    "#file_name = 'data/results_IM_reg.pickle'\n",
    "#with open(file_name, 'w') as f:\n",
    "#    pickle.dump(results_RM_reg, f)\n",
    "#    \n",
    "#saved_files.append(file_name)\n"
   ]
  },
  {
   "cell_type": "markdown",
   "metadata": {},
   "source": [
    "### Saved files"
   ]
  },
  {
   "cell_type": "code",
   "execution_count": 40,
   "metadata": {},
   "outputs": [],
   "source": [
    "#with open('reports/report_%s.md' % notebook_name[:st.index(notebook_name, '.')], 'w') as q:\n",
    "#    q.write('# Saved files \\n')\n",
    "#    now = datetime.datetime.utcnow().strftime('%d %B %Y %H:%M:%S UTC')\n",
    "#    header = 'Generated by {name} on {date}'.format(date=now, name=notebook_name)\n",
    "#    q.write('\\n\\n'+header+'\\n\\n')\n",
    "#    for i, sf in enumerate(saved_files):\n",
    "#        print '%d  %s' % (i+1,sf)\n",
    "#        q.write('*  `%s` \\n' % (sf))"
   ]
  },
  {
   "cell_type": "code",
   "execution_count": null,
   "metadata": {},
   "outputs": [],
   "source": []
  },
  {
   "cell_type": "code",
   "execution_count": null,
   "metadata": {},
   "outputs": [],
   "source": []
  }
 ],
 "metadata": {
  "kernelspec": {
   "display_name": "Python 2",
   "language": "python",
   "name": "python2"
  },
  "language_info": {
   "codemirror_mode": {
    "name": "ipython",
    "version": 2
   },
   "file_extension": ".py",
   "mimetype": "text/x-python",
   "name": "python",
   "nbconvert_exporter": "python",
   "pygments_lexer": "ipython2",
   "version": "2.7.14"
  }
 },
 "nbformat": 4,
 "nbformat_minor": 2
}
