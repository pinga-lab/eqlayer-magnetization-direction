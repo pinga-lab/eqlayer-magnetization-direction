{
 "cells": [
  {
   "cell_type": "markdown",
   "metadata": {},
   "source": [
    "# Equivalent layer technique for estimating total magnetization direction using regular grid"
   ]
  },
  {
   "cell_type": "markdown",
   "metadata": {},
   "source": [
    "#### Importing libraries"
   ]
  },
  {
   "cell_type": "code",
   "execution_count": 1,
   "metadata": {},
   "outputs": [],
   "source": [
    "% matplotlib inline "
   ]
  },
  {
   "cell_type": "code",
   "execution_count": 2,
   "metadata": {},
   "outputs": [
    {
     "name": "stderr",
     "output_type": "stream",
     "text": [
      "/home/andrelreis/anaconda2/lib/python2.7/site-packages/fatiando/vis/mpl.py:76: UserWarning: This module will be removed in v0.6. We recommend the use of matplotlib.pyplot module directly. Some of the fatiando specific functions will remain.\n",
      "  \"specific functions will remain.\")\n"
     ]
    }
   ],
   "source": [
    "import sys\n",
    "import numpy as np\n",
    "import matplotlib.pyplot as plt\n",
    "import cPickle as pickle\n",
    "import datetime\n",
    "import timeit\n",
    "import string as st\n",
    "from scipy.optimize import nnls\n",
    "from fatiando.gridder import regular\n",
    "from fatiando.utils import ang2vec, vec2ang\n",
    "from fatiando.mesher import Sphere, PointGrid,Prism\n",
    "from fatiando.gravmag import sphere,prism\n",
    "from fatiando.constants import CM, T2NT, G, SI2MGAL"
   ]
  },
  {
   "cell_type": "code",
   "execution_count": 3,
   "metadata": {},
   "outputs": [],
   "source": [
    "notebook_name = 'regular_EQL_magdirection_RM_calculation.ipynb'"
   ]
  },
  {
   "cell_type": "markdown",
   "metadata": {},
   "source": [
    "#### Importing auxiliary functions"
   ]
  },
  {
   "cell_type": "code",
   "execution_count": 4,
   "metadata": {},
   "outputs": [],
   "source": [
    "dir_modules = '../../../mypackage'\n",
    "sys.path.append(dir_modules)"
   ]
  },
  {
   "cell_type": "code",
   "execution_count": 5,
   "metadata": {},
   "outputs": [],
   "source": [
    "import auxiliary_functions as fc"
   ]
  },
  {
   "cell_type": "markdown",
   "metadata": {},
   "source": [
    "#### Loading properties of the model"
   ]
  },
  {
   "cell_type": "code",
   "execution_count": 6,
   "metadata": {},
   "outputs": [],
   "source": [
    "with open('data/model_dip.pickle') as f:\n",
    "        model_dip = pickle.load(f)"
   ]
  },
  {
   "cell_type": "markdown",
   "metadata": {},
   "source": [
    "#### Loading properties grid"
   ]
  },
  {
   "cell_type": "code",
   "execution_count": 7,
   "metadata": {},
   "outputs": [],
   "source": [
    "with open('data/regular_grid.pickle') as f:\n",
    "        reg_grid = pickle.load(f)"
   ]
  },
  {
   "cell_type": "markdown",
   "metadata": {},
   "source": [
    "#### Loading data"
   ]
  },
  {
   "cell_type": "code",
   "execution_count": 8,
   "metadata": {},
   "outputs": [],
   "source": [
    "with open('data/data_set.pickle') as f:\n",
    "        data = pickle.load(f)"
   ]
  },
  {
   "cell_type": "markdown",
   "metadata": {},
   "source": [
    "#### Open a dictionary"
   ]
  },
  {
   "cell_type": "code",
   "execution_count": 9,
   "metadata": {},
   "outputs": [],
   "source": [
    "result_RM_reg = dict()"
   ]
  },
  {
   "cell_type": "markdown",
   "metadata": {},
   "source": [
    "### Saving files"
   ]
  },
  {
   "cell_type": "code",
   "execution_count": 10,
   "metadata": {},
   "outputs": [],
   "source": [
    "saved_files = []"
   ]
  },
  {
   "cell_type": "markdown",
   "metadata": {},
   "source": [
    "## Observation area"
   ]
  },
  {
   "cell_type": "code",
   "execution_count": 11,
   "metadata": {},
   "outputs": [
    {
     "name": "stdout",
     "output_type": "stream",
     "text": [
      "Area limits: \n",
      " x_max = 6000.0 m \n",
      " x_min = -6000.0 m \n",
      " y_max = 6000.0 m \n",
      " y_min = -6000.0 m\n"
     ]
    }
   ],
   "source": [
    "print 'Area limits: \\n x_max = %.1f m \\n x_min = %.1f m \\n y_max = %.1f m \\n y_min = %.1f m' % (reg_grid['area'][1], \n",
    "                                                                                                reg_grid['area'][0],\n",
    "                                                                                                reg_grid['area'][3],\n",
    "                                                                                                reg_grid['area'][2])"
   ]
  },
  {
   "cell_type": "markdown",
   "metadata": {},
   "source": [
    "### reg_grid survey information"
   ]
  },
  {
   "cell_type": "code",
   "execution_count": 12,
   "metadata": {},
   "outputs": [
    {
     "name": "stdout",
     "output_type": "stream",
     "text": [
      "Shape : (25,25)\n",
      "Number of data: 625.0\n",
      "dx: 500.0 m\n",
      "dy: 500.0 m \n"
     ]
    }
   ],
   "source": [
    "print 'Shape : (%.0f,%.0f)'% reg_grid['shape'] \n",
    "print 'Number of data: %.1f' % reg_grid['N']\n",
    "print 'dx: %.1f m' % reg_grid['dx']\n",
    "print 'dy: %.1f m ' % reg_grid['dy']"
   ]
  },
  {
   "cell_type": "markdown",
   "metadata": {},
   "source": [
    "## Properties of the model"
   ]
  },
  {
   "cell_type": "markdown",
   "metadata": {},
   "source": [
    "### Main field"
   ]
  },
  {
   "cell_type": "code",
   "execution_count": 13,
   "metadata": {},
   "outputs": [],
   "source": [
    "inc_gf,dec_gf = model_dip['main_field']"
   ]
  },
  {
   "cell_type": "code",
   "execution_count": 14,
   "metadata": {},
   "outputs": [
    {
     "name": "stdout",
     "output_type": "stream",
     "text": [
      "Main field inclination: 25.0 degree\n",
      "Main field declination: 25.0 degree\n"
     ]
    }
   ],
   "source": [
    "print'Main field inclination: %.1f degree' % inc_gf\n",
    "print'Main field declination: %.1f degree' % dec_gf"
   ]
  },
  {
   "cell_type": "markdown",
   "metadata": {},
   "source": [
    "### Magnetization direction"
   ]
  },
  {
   "cell_type": "code",
   "execution_count": 15,
   "metadata": {},
   "outputs": [
    {
     "name": "stdout",
     "output_type": "stream",
     "text": [
      "Intensity: 5.0 A/m\n",
      "Inclination: 50.0 degree\n",
      "Declination: -20.0 degree\n"
     ]
    }
   ],
   "source": [
    "print 'Intensity: %.1f A/m' % model_dip['m_R']\n",
    "print 'Inclination: %.1f degree' % model_dip['inc_R']\n",
    "print 'Declination: %.1f degree' % model_dip['dec_R']"
   ]
  },
  {
   "cell_type": "code",
   "execution_count": 16,
   "metadata": {},
   "outputs": [],
   "source": [
    "inc_R,dec_R = model_dip['inc_R'],model_dip['dec_R']"
   ]
  },
  {
   "cell_type": "markdown",
   "metadata": {},
   "source": [
    "## Generating the layer with my function "
   ]
  },
  {
   "cell_type": "code",
   "execution_count": 17,
   "metadata": {},
   "outputs": [],
   "source": [
    "h = 1500."
   ]
  },
  {
   "cell_type": "markdown",
   "metadata": {},
   "source": [
    "#### Generating a layer"
   ]
  },
  {
   "cell_type": "code",
   "execution_count": 18,
   "metadata": {},
   "outputs": [],
   "source": [
    "shape_layer = (reg_grid['shape'][0],reg_grid['shape'][1])"
   ]
  },
  {
   "cell_type": "code",
   "execution_count": 19,
   "metadata": {},
   "outputs": [],
   "source": [
    "xs,ys,zs = regular(reg_grid['area'],shape_layer,h)"
   ]
  },
  {
   "cell_type": "markdown",
   "metadata": {},
   "source": [
    "### Levenberg-Marquardt with NNLS for positive magnetic moments"
   ]
  },
  {
   "cell_type": "code",
   "execution_count": 20,
   "metadata": {},
   "outputs": [],
   "source": [
    "i_pos = 1500"
   ]
  },
  {
   "cell_type": "code",
   "execution_count": 21,
   "metadata": {},
   "outputs": [],
   "source": [
    "it_max = 30"
   ]
  },
  {
   "cell_type": "code",
   "execution_count": 22,
   "metadata": {},
   "outputs": [],
   "source": [
    "it_marq = 15"
   ]
  },
  {
   "cell_type": "code",
   "execution_count": 23,
   "metadata": {},
   "outputs": [],
   "source": [
    "lamb = 10.\n",
    "dlamb = 100."
   ]
  },
  {
   "cell_type": "code",
   "execution_count": 24,
   "metadata": {},
   "outputs": [],
   "source": [
    "eps_e = 1e-4\n",
    "eps_i = 1e-4"
   ]
  },
  {
   "cell_type": "code",
   "execution_count": 25,
   "metadata": {},
   "outputs": [],
   "source": [
    "mu_list = [1e2,1e3,1e4,1e5,1e6,1e7,1e8]"
   ]
  },
  {
   "cell_type": "code",
   "execution_count": 26,
   "metadata": {},
   "outputs": [
    {
     "name": "stdout",
     "output_type": "stream",
     "text": [
      "i = 0\n",
      "6.35065015355 -3.5715156352\n",
      "i = 1\n",
      "14.6401388065 -3.75202455986\n",
      "i = 2\n",
      "19.64625287 -4.91827639405\n",
      "i = 3\n",
      "23.5857467133 -6.23945926749\n",
      "i = 4\n",
      "26.9607416104 -7.52103128716\n",
      "i = 5\n",
      "29.8352816945 -8.67326955307\n",
      "i = 6\n",
      "32.3680478116 -9.69885090436\n",
      "i = 7\n",
      "34.6312947443 -10.6079740068\n",
      "i = 8\n",
      "36.6667855154 -11.3757472226\n",
      "i = 9\n",
      "38.5301785732 -12.0644803957\n",
      "i = 10\n",
      "40.2613119322 -12.7010470768\n",
      "i = 11\n",
      "41.8664650381 -13.2689793668\n",
      "i = 12\n",
      "43.3696809396 -13.7855565062\n",
      "i = 13\n",
      "44.7934219311 -14.2609569188\n",
      "i = 14\n",
      "46.146934548 -14.7055270024\n",
      "i = 15\n",
      "47.4348605961 -15.114316471\n",
      "i = 16\n",
      "48.6737553325 -15.4818624324\n",
      "i = 17\n",
      "49.8889831022 -15.8169722686\n",
      "i = 18\n",
      "51.0816724232 -16.1107419149\n",
      "i = 19\n",
      "52.2560610068 -16.3633516775\n",
      "i = 20\n",
      "53.4175281445 -16.5748449595\n",
      "i = 21\n",
      "54.5623234897 -16.7444307755\n",
      "i = 22\n",
      "55.6916498615 -16.871889803\n",
      "i = 23\n",
      "56.8001368273 -16.9487788501\n",
      "i = 24\n",
      "57.8885081377 -16.9770291794\n",
      "i = 25\n",
      "58.9642961516 -16.9654558695\n",
      "i = 26\n",
      "60.030501345 -16.9216156555\n",
      "i = 27\n",
      "61.0060307855 -16.8329165617\n",
      "i = 28\n",
      "61.8649341832 -16.7176010895\n",
      "i = 29\n",
      "62.6189881985 -16.5842793819\n",
      "i = 30\n",
      "63.2749926526 -16.43403558\n",
      "i = 31\n",
      "63.8182610645 -16.2811365128\n",
      "i = 32\n",
      "64.2595521437 -16.136375195\n",
      "i = 33\n",
      "64.6174916296 -15.999531727\n",
      "i = 34\n",
      "64.9073329887 -15.8713588445\n",
      "i = 35\n",
      "65.1395520848 -15.7525067421\n",
      "i = 36\n",
      "65.324009178 -15.6440826233\n",
      "i = 37\n",
      "65.324009178 -15.6440826233\n",
      "i = 0\n",
      "6.35065015471 -3.57151553886\n",
      "i = 1\n",
      "14.6401387831 -3.75202464383\n",
      "i = 2\n",
      "19.6462530714 -4.91827641447\n",
      "i = 3\n",
      "23.5857469801 -6.23945889446\n",
      "i = 4\n",
      "26.9607419526 -7.52103066854\n",
      "i = 5\n",
      "29.8352821796 -8.67326882128\n",
      "i = 6\n",
      "32.3680484158 -9.69885023923\n",
      "i = 7\n",
      "34.6312954546 -10.6079732775\n",
      "i = 8\n",
      "36.6667862798 -11.3757464117\n",
      "i = 9\n",
      "38.5301793578 -12.0644795071\n",
      "i = 10\n",
      "40.2613127426 -12.7010461692\n",
      "i = 11\n",
      "41.8664658903 -13.2689784009\n",
      "i = 12\n",
      "43.3696818217 -13.7855555605\n",
      "i = 13\n",
      "44.7934228122 -14.2609560303\n",
      "i = 14\n",
      "46.1469354301 -14.7055261675\n",
      "i = 15\n",
      "47.4348615423 -15.1143156335\n",
      "i = 16\n",
      "48.6737563711 -15.4818615773\n",
      "i = 17\n",
      "49.8889842377 -15.816971364\n",
      "i = 18\n",
      "51.0816736292 -16.1107409925\n",
      "i = 19\n",
      "52.2560622644 -16.3633507289\n",
      "i = 20\n",
      "53.4175294369 -16.5748439791\n",
      "i = 21\n",
      "54.5623247975 -16.7444297648\n",
      "i = 22\n",
      "55.6916511774 -16.8718887683\n",
      "i = 23\n",
      "56.8001381829 -16.94877786\n",
      "i = 24\n",
      "57.8885095372 -16.9770282041\n",
      "i = 25\n",
      "58.9642975939 -16.9654549298\n",
      "i = 26\n",
      "60.0305028094 -16.9216147656\n",
      "i = 27\n",
      "61.0060322436 -16.8329157106\n",
      "i = 28\n",
      "61.8649356402 -16.7176002924\n",
      "i = 29\n",
      "62.6189896382 -16.5842786474\n",
      "i = 30\n",
      "63.274994031 -16.4340349778\n",
      "i = 31\n",
      "63.8182623182 -16.2811361359\n",
      "i = 32\n",
      "64.2595532826 -16.1363750692\n",
      "i = 33\n",
      "64.6174927542 -15.9995312381\n",
      "i = 34\n",
      "64.9073340775 -15.8713580242\n",
      "i = 35\n",
      "65.1395531446 -15.752505626\n",
      "i = 36\n",
      "65.3240102353 -15.6440811802\n",
      "i = 37\n",
      "65.3240102353 -15.6440811802\n",
      "i = 0\n",
      "6.35065026978 -3.57150590402\n",
      "i = 1\n",
      "14.6401364505 -3.75203303763\n",
      "i = 2\n",
      "19.6462732146 -4.91827844645\n",
      "i = 3\n",
      "23.5857736592 -6.23942160728\n",
      "i = 4\n",
      "26.9607761649 -7.52096882026\n",
      "i = 5\n",
      "29.83533068 -8.67319565737\n",
      "i = 6\n",
      "32.3681088215 -9.69878374131\n",
      "i = 7\n",
      "34.6313664745 -10.6079003685\n",
      "i = 8\n",
      "36.6668627033 -11.3756653369\n",
      "i = 9\n",
      "38.5302578035 -12.0643906624\n",
      "i = 10\n",
      "40.2613937648 -12.7009554313\n",
      "i = 11\n",
      "41.8665510898 -13.2688818284\n",
      "i = 12\n",
      "43.3697700077 -13.7854610174\n",
      "i = 13\n",
      "44.7935109078 -14.2608672036\n",
      "i = 14\n",
      "46.1470236247 -14.7054426869\n",
      "i = 15\n",
      "47.4349561341 -15.1142318921\n",
      "i = 16\n",
      "48.6738602002 -15.4817760788\n",
      "i = 17\n",
      "49.8890977613 -15.8168809197\n",
      "i = 18\n",
      "51.081794192 -16.1106487663\n",
      "i = 19\n",
      "52.2561879934 -16.3632558779\n",
      "i = 20\n",
      "53.4176586415 -16.5747459521\n",
      "i = 21\n",
      "54.5624555392 -16.7443287182\n",
      "i = 22\n",
      "55.6917827277 -16.8717853153\n",
      "i = 23\n",
      "56.8002737099 -16.9486788736\n",
      "i = 24\n",
      "57.8886494494 -16.9769306873\n",
      "i = 25\n",
      "58.9644417893 -16.9653609738\n",
      "i = 26\n",
      "60.0306492106 -16.9215257931\n",
      "i = 27\n",
      "61.0061780185 -16.8328306222\n",
      "i = 28\n",
      "61.8650813067 -16.717520606\n",
      "i = 29\n",
      "62.6191335879 -16.5842052156\n",
      "i = 30\n",
      "63.2751318423 -16.4339747811\n",
      "i = 31\n",
      "63.8183876716 -16.281098465\n",
      "i = 32\n",
      "64.2596671575 -16.1363625083\n",
      "i = 33\n",
      "64.6176052039 -15.9994823784\n",
      "i = 34\n",
      "64.9074429431 -15.8712760565\n",
      "i = 35\n",
      "65.1396591111 -15.7523941015\n",
      "i = 36\n",
      "65.3241159421 -15.6439369697\n",
      "i = 37\n",
      "65.3241159421 -15.6439369697\n",
      "i = 0\n",
      "6.35065652901 -3.57053926552\n",
      "i = 1\n",
      "14.640037129 -3.75241374554\n",
      "i = 2\n",
      "19.6483738964 -4.91793913048\n",
      "i = 3\n",
      "23.588569086 -6.23535123622\n",
      "i = 4\n",
      "26.9643240484 -7.51443308372\n",
      "i = 5\n",
      "29.8404725236 -8.66576022269\n",
      "i = 6\n",
      "32.3745393782 -9.69186660733\n",
      "i = 7\n",
      "34.6388180295 -10.6003264633\n",
      "i = 8\n",
      "36.6748293553 -11.3672605022\n",
      "i = 9\n",
      "38.5384106762 -12.0552128668\n",
      "i = 10\n",
      "40.2698084202 -12.6915474605\n",
      "i = 11\n",
      "41.8753945232 -13.2588765701\n",
      "i = 12\n",
      "43.3788554855 -13.7756613626\n",
      "i = 13\n",
      "44.8026123037 -14.2515754148\n",
      "i = 14\n",
      "46.156060972 -14.6966402133\n",
      "i = 15\n",
      "47.4445807091 -15.1053789618\n",
      "i = 16\n",
      "48.6844331923 -15.4723897559\n",
      "i = 17\n",
      "49.9006148523 -15.8070053449\n",
      "i = 18\n",
      "51.094002956 -16.1005762427\n",
      "i = 19\n",
      "52.2689063712 -16.3529271291\n",
      "i = 20\n",
      "53.4307236511 -16.5640840774\n",
      "i = 21\n",
      "54.5756762396 -16.7333496686\n",
      "i = 22\n",
      "55.7050862539 -16.8605514655\n",
      "i = 23\n",
      "56.8139737133 -16.9378643267\n",
      "i = 24\n",
      "57.9028426097 -16.9662614109\n",
      "i = 25\n",
      "58.9790783851 -16.9552015087\n",
      "i = 26\n",
      "60.0454962674 -16.9118434101\n",
      "i = 27\n",
      "61.0209447926 -16.8235349707\n",
      "i = 28\n",
      "61.8798161373 -16.7087725963\n",
      "i = 29\n",
      "62.6336559788 -16.576075553\n",
      "i = 30\n",
      "63.2890262846 -16.4271746783\n",
      "i = 31\n",
      "63.8311616866 -16.2756051698\n",
      "i = 32\n",
      "64.2720100025 -16.1282256063\n",
      "i = 33\n",
      "64.6296765788 -15.988134357\n",
      "i = 34\n",
      "64.91908027 -15.8570513793\n",
      "i = 35\n",
      "65.1508909129 -15.7356547709\n",
      "i = 36\n",
      "65.3350538676 -15.6248385714\n",
      "i = 37\n",
      "65.3350538676 -15.6248385714\n",
      "i = 0\n",
      "6.34840315876 -3.51033908917\n",
      "i = 1\n",
      "14.6459128571 -3.73091470147\n",
      "i = 2\n",
      "19.7679606961 -4.78013725519\n",
      "i = 3\n",
      "23.8320542415 -5.9764945498\n",
      "i = 4\n",
      "27.2763261175 -7.18477471546\n",
      "i = 5\n",
      "30.2432515822 -8.32222333024\n",
      "i = 6\n",
      "32.8384928152 -9.34115954591\n",
      "i = 7\n",
      "35.1266616324 -10.2194723702\n",
      "i = 8\n",
      "37.1884162348 -10.9656968296\n",
      "i = 9\n",
      "39.0823286713 -11.6466380724\n",
      "i = 10\n",
      "40.8346477197 -12.2685925941\n",
      "i = 11\n",
      "42.4619713498 -12.8270489921\n",
      "i = 12\n",
      "43.9832917156 -13.3366416393\n",
      "i = 13\n",
      "45.4221735017 -13.8103433164\n",
      "i = 14\n",
      "46.7868483214 -14.2538285026\n",
      "i = 15\n",
      "48.0905727583 -14.6584935944\n",
      "i = 16\n",
      "49.3504745361 -15.0188718544\n",
      "i = 17\n",
      "50.5777134328 -15.3385864758\n",
      "i = 18\n",
      "51.7769940472 -15.6180280954\n",
      "i = 19\n",
      "52.9541185696 -15.8582896345\n",
      "i = 20\n",
      "54.1126576637 -16.0612729367\n",
      "i = 21\n",
      "55.2544285954 -16.2310125331\n",
      "i = 22\n",
      "56.3822824411 -16.3720851268\n",
      "i = 23\n",
      "57.499625302 -16.4895316324\n",
      "i = 24\n",
      "58.607000814 -16.5871744908\n",
      "i = 25\n",
      "59.7015741527 -16.6662972866\n",
      "i = 26\n",
      "60.7639099112 -16.7068138459\n",
      "i = 27\n",
      "61.7591806478 -16.7077664146\n",
      "i = 28\n",
      "62.6411241802 -16.687709687\n",
      "i = 29\n",
      "63.3906077697 -16.6723728152\n",
      "i = 30\n",
      "64.0084448798 -16.6754474067\n",
      "i = 31\n",
      "64.5050386516 -16.6972936751\n",
      "i = 32\n",
      "64.900732037 -16.7348313402\n",
      "i = 33\n",
      "65.2108534219 -16.784392422\n",
      "i = 34\n",
      "65.4523750125 -16.8429617193\n",
      "i = 35\n",
      "65.6349940755 -16.907382405\n",
      "i = 36\n",
      "65.7708633253 -16.9759709314\n",
      "i = 37\n",
      "65.7708633253 -16.9759709314\n",
      "i = 0\n",
      "7.21038144884 -2.29939496673\n",
      "i = 1\n",
      "16.2780656881 -1.85950029712\n",
      "i = 2\n",
      "23.1545633825 -2.49837360452\n",
      "i = 3\n",
      "28.6815236831 -3.27005616688\n",
      "i = 4\n",
      "33.2950673132 -3.98116549188\n",
      "i = 5\n",
      "37.2481442017 -4.54107529293\n",
      "i = 6\n",
      "40.6979869195 -4.91702601489\n",
      "i = 7\n",
      "43.7518367336 -5.19038988313\n",
      "i = 8\n",
      "46.5118876076 -5.38187116805\n",
      "i = 9\n",
      "49.0635233079 -5.49052012181\n",
      "i = 10\n",
      "51.5306676607 -5.53634471901\n",
      "i = 11\n",
      "53.9881803858 -5.54675967091\n",
      "i = 12\n",
      "56.4293004748 -5.5381886241\n",
      "i = 13\n",
      "58.8530842687 -5.5700755499\n",
      "i = 14\n",
      "61.2411977099 -5.64630597923\n",
      "i = 15\n",
      "63.553206789 -5.7847854464\n",
      "i = 16\n",
      "65.7704955106 -5.98418784368\n",
      "i = 17\n",
      "67.8777066505 -6.23928558711\n",
      "i = 18\n",
      "69.8281764144 -6.58412371392\n",
      "i = 19\n",
      "71.599338991 -6.98232311521\n",
      "i = 20\n",
      "73.182463954 -7.38821196789\n",
      "i = 21\n",
      "74.5956058134 -7.88184607443\n",
      "i = 22\n",
      "75.8516124707 -8.46545445391\n",
      "i = 23\n",
      "76.9599795434 -9.15029027886\n",
      "i = 24\n",
      "77.9331251648 -9.9262273949\n",
      "i = 25\n",
      "78.7832542322 -10.7912750824\n",
      "i = 26\n",
      "79.5230912229 -11.7205401778\n",
      "i = 27\n",
      "80.1650770041 -12.6869516056\n",
      "i = 28\n",
      "80.7200340403 -13.6672095341\n",
      "i = 29\n",
      "81.1977585628 -14.6425978166\n",
      "i = 30\n",
      "81.6074030351 -15.5958878208\n",
      "i = 31\n",
      "81.9580917632 -16.5117291049\n",
      "i = 32\n",
      "82.2578832233 -17.3801504176\n",
      "i = 33\n",
      "82.5139092265 -18.1934990583\n",
      "i = 34\n",
      "82.7323940546 -18.9464114653\n",
      "i = 35\n",
      "82.7323940546 -18.9464114653\n",
      "i = 0\n",
      "10.1655302086 8.17913437892\n",
      "i = 1\n",
      "27.7163587037 11.7715783435\n",
      "i = 2\n",
      "41.8415489714 12.33829516\n",
      "i = 3\n",
      "53.2155525285 12.3843672978\n",
      "i = 4\n",
      "62.0550760758 12.3528817273\n",
      "i = 5\n"
     ]
    },
    {
     "name": "stdout",
     "output_type": "stream",
     "text": [
      "70.1840186965 12.3281624819\n",
      "i = 6\n",
      "75.5435071972 12.2877040182\n",
      "i = 7\n",
      "79.0572261845 12.2477158329\n",
      "i = 8\n",
      "81.3786260191 12.212250832\n",
      "i = 9\n",
      "82.9188362737 12.1809463409\n",
      "i = 10\n",
      "82.9188362737 12.1809463409\n"
     ]
    }
   ],
   "source": [
    "mu_norm = []\n",
    "norm_r = []\n",
    "norm_m = []\n",
    "m_est = []\n",
    "incl_est = []\n",
    "decl_est = []\n",
    "phi_list = []\n",
    "for i in mu_list:\n",
    "    m_LM,inc_est,dec_est,phi,imax,pest,incs,decs = fc.levenberg_marquardt_NNLS(\n",
    "        data['tfa_obs_dip_RM_reg'],reg_grid['x'],reg_grid['y'],\n",
    "        reg_grid['z'],xs,ys,zs,inc_gf,dec_gf,-10.,-10.,lamb,dlamb,i_pos,it_max,\n",
    "        it_marq,eps_e,eps_i,i)\n",
    "    G = fc.sensitivity_mag(reg_grid['x'],reg_grid['y'],reg_grid['z'],\n",
    "                       xs,ys,zs,inc_gf,dec_gf,inc_est,dec_est)\n",
    "    tfpred = np.dot(G,m_LM)\n",
    "    r = data['tfa_obs_dip_RM_reg'] - tfpred \n",
    "    \n",
    "    norm_r.append(np.sqrt(np.sum(r*r)))\n",
    "    norm_m.append(np.sqrt(np.sum(m_LM*m_LM)))\n",
    "    m_est.append(m_LM)\n",
    "    incl_est.append(inc_est)\n",
    "    decl_est.append(dec_est)\n",
    "    phi_list.append(phi)"
   ]
  },
  {
   "cell_type": "markdown",
   "metadata": {},
   "source": [
    "### L-curve visualization"
   ]
  },
  {
   "cell_type": "code",
   "execution_count": 27,
   "metadata": {},
   "outputs": [
    {
     "data": {
      "text/plain": [
       "<matplotlib.figure.Figure at 0x7fc9be486c90>"
      ]
     },
     "metadata": {},
     "output_type": "display_data"
    },
    {
     "data": {
      "image/png": "[encoded data removed]",
      "text/plain": [
       "<matplotlib.figure.Figure at 0x7fc9be486c50>"
      ]
     },
     "metadata": {},
     "output_type": "display_data"
    }
   ],
   "source": [
    "title_font = 20\n",
    "bottom_font = 18\n",
    "saturation_factor = 1.\n",
    "plt.close('all')\n",
    "plt.figure(figsize=(9,9), tight_layout=True)\n",
    "\n",
    "plt.figure(figsize=(10, 10))\n",
    "plt.loglog(norm_r,norm_m, 'b-')\n",
    "plt.loglog(norm_r,norm_m, 'bo')\n",
    "plt.title('L-curve', fontsize=title_font)\n",
    "plt.xlabel('r_norm', fontsize = title_font)\n",
    "plt.ylabel('m_norm', fontsize = title_font)\n",
    "plt.tick_params(axis='both', which='major', labelsize=15)\n",
    "\n",
    "file_name = 'figs/regular/Lcurve_RM'\n",
    "plt.savefig(file_name+'.png',dpi=300)\n",
    "saved_files.append(file_name+'.png')\n",
    "\n",
    "plt.savefig(file_name+'.eps',dpi=300)\n",
    "saved_files.append(file_name+'.eps')\n",
    "\n",
    "\n",
    "plt.show()"
   ]
  },
  {
   "cell_type": "markdown",
   "metadata": {},
   "source": [
    "### Results"
   ]
  },
  {
   "cell_type": "code",
   "execution_count": 28,
   "metadata": {},
   "outputs": [],
   "source": [
    "result_RM_reg['magnetic_moment'] = m_est\n",
    "result_RM_reg['inc_est'] = incl_est\n",
    "result_RM_reg['dec_est'] = decl_est\n",
    "result_RM_reg['layer_depth'] = h\n",
    "result_RM_reg['reg_parameter'] = mu_list\n",
    "result_RM_reg['phi'] = phi_list"
   ]
  },
  {
   "cell_type": "markdown",
   "metadata": {},
   "source": [
    "#### Generating .pickle file"
   ]
  },
  {
   "cell_type": "code",
   "execution_count": 29,
   "metadata": {},
   "outputs": [],
   "source": [
    "now = datetime.datetime.utcnow().strftime('%d %B %Y %H:%M:%S UTC')\n",
    "result_RM_reg['metadata'] = 'Generated by {name} on {date}'.format(date=now, name=notebook_name)"
   ]
  },
  {
   "cell_type": "code",
   "execution_count": 30,
   "metadata": {},
   "outputs": [],
   "source": [
    "file_name = 'data/result_RM_reg.pickle'\n",
    "with open(file_name, 'w') as f:\n",
    "    pickle.dump(result_RM_reg, f)\n",
    "    \n",
    "saved_files.append(file_name)\n"
   ]
  },
  {
   "cell_type": "markdown",
   "metadata": {},
   "source": [
    "### Saved files"
   ]
  },
  {
   "cell_type": "code",
   "execution_count": 31,
   "metadata": {},
   "outputs": [
    {
     "name": "stdout",
     "output_type": "stream",
     "text": [
      "1  figs/regular/Lcurve_RM.png\n",
      "2  figs/regular/Lcurve_RM.eps\n",
      "3  data/result_RM_reg.pickle\n"
     ]
    }
   ],
   "source": [
    "with open('reports/report_%s.md' % notebook_name[:st.index(notebook_name, '.')], 'w') as q:\n",
    "    q.write('# Saved files \\n')\n",
    "    now = datetime.datetime.utcnow().strftime('%d %B %Y %H:%M:%S UTC')\n",
    "    header = 'Generated by {name} on {date}'.format(date=now, name=notebook_name)\n",
    "    q.write('\\n\\n'+header+'\\n\\n')\n",
    "    for i, sf in enumerate(saved_files):\n",
    "        print '%d  %s' % (i+1,sf)\n",
    "        q.write('*  `%s` \\n' % (sf))"
   ]
  },
  {
   "cell_type": "code",
   "execution_count": null,
   "metadata": {},
   "outputs": [],
   "source": []
  },
  {
   "cell_type": "code",
   "execution_count": null,
   "metadata": {},
   "outputs": [],
   "source": []
  }
 ],
 "metadata": {
  "kernelspec": {
   "display_name": "Python 2",
   "language": "python",
   "name": "python2"
  },
  "language_info": {
   "codemirror_mode": {
    "name": "ipython",
    "version": 2
   },
   "file_extension": ".py",
   "mimetype": "text/x-python",
   "name": "python",
   "nbconvert_exporter": "python",
   "pygments_lexer": "ipython2",
   "version": "2.7.14"
  }
 },
 "nbformat": 4,
 "nbformat_minor": 2
}
