{
 "cells": [
  {
   "cell_type": "markdown",
   "metadata": {},
   "source": [
    "# Equivalent layer technique for estimating total magnetization direction using "
   ]
  },
  {
   "cell_type": "markdown",
   "metadata": {},
   "source": [
    "#### Importing libraries"
   ]
  },
  {
   "cell_type": "code",
   "execution_count": 1,
   "metadata": {},
   "outputs": [],
   "source": [
    "% matplotlib inline "
   ]
  },
  {
   "cell_type": "code",
   "execution_count": 2,
   "metadata": {},
   "outputs": [
    {
     "name": "stderr",
     "output_type": "stream",
     "text": [
      "/home/andrelreis/anaconda2/lib/python2.7/site-packages/fatiando/vis/mpl.py:76: UserWarning: This module will be removed in v0.6. We recommend the use of matplotlib.pyplot module directly. Some of the fatiando specific functions will remain.\n",
      "  \"specific functions will remain.\")\n"
     ]
    }
   ],
   "source": [
    "import sys\n",
    "import numpy as np\n",
    "import matplotlib.pyplot as plt\n",
    "import cPickle as pickle\n",
    "import datetime\n",
    "import timeit\n",
    "import string as st\n",
    "from scipy.optimize import nnls\n",
    "from fatiando.gridder import regular\n",
    "from fatiando.utils import ang2vec, vec2ang\n",
    "from fatiando.mesher import Sphere, PointGrid,Prism\n",
    "from fatiando.gravmag import sphere,prism\n",
    "from fatiando.constants import CM, T2NT, G, SI2MGAL"
   ]
  },
  {
   "cell_type": "code",
   "execution_count": 3,
   "metadata": {},
   "outputs": [],
   "source": [
    "notebook_name = 'airborne_EQL_magdirection_RM_calculation.ipynb'"
   ]
  },
  {
   "cell_type": "markdown",
   "metadata": {},
   "source": [
    "#### Importing auxiliary functions"
   ]
  },
  {
   "cell_type": "code",
   "execution_count": 4,
   "metadata": {},
   "outputs": [],
   "source": [
    "dir_modules = '../../../mypackage'\n",
    "sys.path.append(dir_modules)"
   ]
  },
  {
   "cell_type": "code",
   "execution_count": 5,
   "metadata": {},
   "outputs": [],
   "source": [
    "import auxiliary_functions as fc"
   ]
  },
  {
   "cell_type": "markdown",
   "metadata": {},
   "source": [
    "#### Loading properties of the model"
   ]
  },
  {
   "cell_type": "code",
   "execution_count": 6,
   "metadata": {},
   "outputs": [],
   "source": [
    "with open('data/model_dip.pickle') as f:\n",
    "        model_dip = pickle.load(f)"
   ]
  },
  {
   "cell_type": "markdown",
   "metadata": {},
   "source": [
    "#### Loading properties grid"
   ]
  },
  {
   "cell_type": "code",
   "execution_count": 7,
   "metadata": {},
   "outputs": [],
   "source": [
    "with open('data/airborne_survey.pickle') as f:\n",
    "        airborne = pickle.load(f)"
   ]
  },
  {
   "cell_type": "markdown",
   "metadata": {},
   "source": [
    "#### Loading data"
   ]
  },
  {
   "cell_type": "code",
   "execution_count": 8,
   "metadata": {},
   "outputs": [],
   "source": [
    "with open('data/data_set.pickle') as f:\n",
    "        data = pickle.load(f)"
   ]
  },
  {
   "cell_type": "markdown",
   "metadata": {},
   "source": [
    "#### Open a dictionary"
   ]
  },
  {
   "cell_type": "code",
   "execution_count": 9,
   "metadata": {},
   "outputs": [],
   "source": [
    "result_RM_airb = dict()"
   ]
  },
  {
   "cell_type": "markdown",
   "metadata": {},
   "source": [
    "### Saving files"
   ]
  },
  {
   "cell_type": "code",
   "execution_count": 10,
   "metadata": {},
   "outputs": [],
   "source": [
    "saved_files = []"
   ]
  },
  {
   "cell_type": "markdown",
   "metadata": {},
   "source": [
    "## Observation area"
   ]
  },
  {
   "cell_type": "code",
   "execution_count": 11,
   "metadata": {},
   "outputs": [
    {
     "name": "stdout",
     "output_type": "stream",
     "text": [
      "Area limits: \n",
      " x_max = 6000.0 m \n",
      " x_min = -6000.0 m \n",
      " y_max = 6000.0 m \n",
      " y_min = -6000.0 m\n"
     ]
    }
   ],
   "source": [
    "print 'Area limits: \\n x_max = %.1f m \\n x_min = %.1f m \\n y_max = %.1f m \\n y_min = %.1f m' % (airborne['area'][1], \n",
    "                                                                                                airborne['area'][0],\n",
    "                                                                                                airborne['area'][3],\n",
    "                                                                                                airborne['area'][2])"
   ]
  },
  {
   "cell_type": "markdown",
   "metadata": {},
   "source": [
    "### airborne survey information"
   ]
  },
  {
   "cell_type": "code",
   "execution_count": 12,
   "metadata": {},
   "outputs": [
    {
     "name": "stdout",
     "output_type": "stream",
     "text": [
      "Shape : (50,25)\n",
      "Number of data: 1250.0\n",
      "dx: 244.9 m\n",
      "dy: 500.0 m \n"
     ]
    }
   ],
   "source": [
    "print 'Shape : (%.0f,%.0f)'% airborne['shape'] \n",
    "print 'Number of data: %.1f' % airborne['N']\n",
    "print 'dx: %.1f m' % airborne['dx']\n",
    "print 'dy: %.1f m ' % airborne['dy']"
   ]
  },
  {
   "cell_type": "markdown",
   "metadata": {},
   "source": [
    "## Properties of the model"
   ]
  },
  {
   "cell_type": "markdown",
   "metadata": {},
   "source": [
    "### Main field"
   ]
  },
  {
   "cell_type": "code",
   "execution_count": 13,
   "metadata": {},
   "outputs": [],
   "source": [
    "inc_gf,dec_gf = model_dip['main_field']"
   ]
  },
  {
   "cell_type": "code",
   "execution_count": 14,
   "metadata": {},
   "outputs": [
    {
     "name": "stdout",
     "output_type": "stream",
     "text": [
      "Main field inclination: 40.0 degree\n",
      "Main field declination: 45.0 degree\n"
     ]
    }
   ],
   "source": [
    "print'Main field inclination: %.1f degree' % inc_gf\n",
    "print'Main field declination: %.1f degree' % dec_gf"
   ]
  },
  {
   "cell_type": "markdown",
   "metadata": {},
   "source": [
    "### Magnetization direction"
   ]
  },
  {
   "cell_type": "code",
   "execution_count": 15,
   "metadata": {},
   "outputs": [
    {
     "name": "stdout",
     "output_type": "stream",
     "text": [
      "Intensity: 7.0 A/m\n",
      "Inclination: 30.0 degree\n",
      "Declination: 20.0 degree\n"
     ]
    }
   ],
   "source": [
    "print 'Intensity: %.1f A/m' % model_dip['m_R']\n",
    "print 'Inclination: %.1f degree' % model_dip['inc_R']\n",
    "print 'Declination: %.1f degree' % model_dip['dec_R']"
   ]
  },
  {
   "cell_type": "code",
   "execution_count": 16,
   "metadata": {},
   "outputs": [],
   "source": [
    "inc_R,dec_R = model_dip['inc_R'],model_dip['dec_R']"
   ]
  },
  {
   "cell_type": "markdown",
   "metadata": {},
   "source": [
    "## Generating the layer with my function "
   ]
  },
  {
   "cell_type": "code",
   "execution_count": 17,
   "metadata": {},
   "outputs": [],
   "source": [
    "h = 1150."
   ]
  },
  {
   "cell_type": "markdown",
   "metadata": {},
   "source": [
    "#### Generating a layer"
   ]
  },
  {
   "cell_type": "code",
   "execution_count": 18,
   "metadata": {},
   "outputs": [],
   "source": [
    "shape_layer = (airborne['shape'][0],airborne['shape'][1])"
   ]
  },
  {
   "cell_type": "code",
   "execution_count": 19,
   "metadata": {},
   "outputs": [],
   "source": [
    "xs,ys,zs = regular(airborne['area'],shape_layer,h)"
   ]
  },
  {
   "cell_type": "markdown",
   "metadata": {},
   "source": [
    "### Levenberg-Marquardt with NNLS for positive magnetic moments"
   ]
  },
  {
   "cell_type": "code",
   "execution_count": 20,
   "metadata": {},
   "outputs": [],
   "source": [
    "i_pos = 1500"
   ]
  },
  {
   "cell_type": "code",
   "execution_count": 21,
   "metadata": {},
   "outputs": [],
   "source": [
    "it_max = 30"
   ]
  },
  {
   "cell_type": "code",
   "execution_count": 22,
   "metadata": {},
   "outputs": [],
   "source": [
    "it_marq = 15"
   ]
  },
  {
   "cell_type": "code",
   "execution_count": 23,
   "metadata": {},
   "outputs": [],
   "source": [
    "lamb = 10.\n",
    "dlamb = 100."
   ]
  },
  {
   "cell_type": "code",
   "execution_count": 24,
   "metadata": {},
   "outputs": [],
   "source": [
    "eps_e = 1e-4\n",
    "eps_i = 1e-4"
   ]
  },
  {
   "cell_type": "code",
   "execution_count": 25,
   "metadata": {},
   "outputs": [],
   "source": [
    "mu_list = [1e2,1e3,1e4,1e5,1e6,1e7]"
   ]
  },
  {
   "cell_type": "code",
   "execution_count": 26,
   "metadata": {},
   "outputs": [
    {
     "name": "stdout",
     "output_type": "stream",
     "text": [
      "i = 0\n",
      "-1.2313518039 -6.31669505178\n",
      "0.124503126954\n",
      "i = 1\n",
      "4.83687963397 -4.58035088979\n",
      "0.147418241764\n",
      "i = 2\n",
      "8.77821045018 -3.50946446991\n",
      "0.0964488922869\n",
      "i = 3\n",
      "11.6829709108 -2.53806230799\n",
      "0.0657781167284\n",
      "i = 4\n",
      "14.0083505466 -1.63119815318\n",
      "0.0496579967587\n",
      "i = 5\n",
      "15.9278669924 -0.752704661665\n",
      "0.0382259918275\n",
      "i = 6\n",
      "17.5424568621 0.0984231491625\n",
      "0.0298015930833\n",
      "i = 7\n",
      "18.9215227235 0.920875426754\n",
      "0.0234729495131\n",
      "i = 8\n",
      "20.1138620758 1.72363939654\n",
      "0.0186959463184\n",
      "i = 9\n",
      "21.1445858204 2.51724101867\n",
      "0.0148974902406\n",
      "i = 10\n",
      "22.0395507094 3.3095168568\n",
      "0.0120437107541\n",
      "i = 11\n",
      "22.822858718 4.10175441225\n",
      "0.00993032708867\n",
      "i = 12\n",
      "23.5154538327 4.90707575841\n",
      "0.00849582266554\n",
      "i = 13\n",
      "24.1250295575 5.71789676218\n",
      "0.00726625139604\n",
      "i = 14\n",
      "24.6614988033 6.52282794491\n",
      "0.00622770679665\n",
      "i = 15\n",
      "25.137132622 7.3125064739\n",
      "0.00537629155998\n",
      "i = 16\n",
      "25.5592499177 8.07334789494\n",
      "0.00459093423317\n",
      "i = 17\n",
      "25.9341517212 8.80038785419\n",
      "0.00390764068212\n",
      "i = 18\n",
      "26.2688251553 9.49449800255\n",
      "0.00335354097421\n",
      "i = 19\n",
      "26.5677998054 10.1623364961\n",
      "0.00292410347163\n",
      "i = 20\n",
      "26.8321041149 10.807974152\n",
      "0.00256755651496\n",
      "i = 21\n",
      "27.0683367613 11.4277508886\n",
      "0.00225606815821\n",
      "i = 22\n",
      "27.2785526795 12.0151576155\n",
      "0.00194746333004\n",
      "i = 23\n",
      "27.4652584106 12.5754529089\n",
      "0.0017024832515\n",
      "i = 24\n",
      "27.6310479151 13.1082754849\n",
      "0.00148659967959\n",
      "i = 25\n",
      "27.7780589031 13.6163582331\n",
      "0.00130748810538\n",
      "i = 26\n",
      "27.9068935216 14.10139054\n",
      "0.00115235533656\n",
      "i = 27\n",
      "28.019624948 14.5647381309\n",
      "0.00102103207168\n",
      "i = 28\n",
      "28.1181717155 15.0033374151\n",
      "0.00089346815642\n",
      "i = 29\n",
      "28.203033188 15.4168181312\n",
      "0.000776250954521\n",
      "i = 30\n",
      "28.2758360913 15.8057864569\n",
      "0.000673588444991\n",
      "i = 31\n",
      "28.3379725227 16.1703873797\n",
      "0.000581972644307\n",
      "i = 32\n",
      "28.3905235076 16.5101603875\n",
      "0.000498101445031\n",
      "i = 33\n",
      "28.4347894373 16.8257920483\n",
      "0.000424556758991\n",
      "i = 34\n",
      "28.4719078162 17.1179987986\n",
      "0.000360096868292\n",
      "i = 35\n",
      "28.5027075883 17.3880313826\n",
      "0.000304692957636\n",
      "i = 36\n",
      "28.5275181868 17.6373967778\n",
      "0.000257560226285\n",
      "i = 37\n",
      "28.5472863221 17.8674647937\n",
      "0.000217693583767\n",
      "i = 38\n",
      "28.5628213367 18.0793024668\n",
      "0.000183535270528\n",
      "i = 39\n",
      "28.5745743093 18.2746091516\n",
      "0.000155289391265\n",
      "i = 40\n",
      "28.5830266391 18.4551451604\n",
      "0.000132235378872\n",
      "i = 41\n",
      "28.5888181707 18.6218933832\n",
      "0.000112559995119\n",
      "i = 42\n",
      "28.5888181707 18.6218933832\n",
      "0.0\n",
      "i = 0\n",
      "-1.23135149286 -6.31669417771\n",
      "0.124482118209\n",
      "i = 1\n",
      "4.83687959336 -4.58034921625\n",
      "0.147379774557\n",
      "i = 2\n",
      "8.77821085361 -3.50946204483\n",
      "0.0964144270921\n",
      "i = 3\n",
      "11.6829717675 -2.53805981384\n",
      "0.0657525763128\n",
      "i = 4\n",
      "14.0083513339 -1.6311952915\n",
      "0.0496365301701\n",
      "i = 5\n",
      "15.9278678092 -0.752701775299\n",
      "0.038208155667\n",
      "i = 6\n",
      "17.5424574545 0.0984261585091\n",
      "0.029786417254\n",
      "i = 7\n",
      "18.9215231654 0.920878936846\n",
      "0.0234599648251\n",
      "i = 8\n",
      "20.113862542 1.72364320879\n",
      "0.0186849443063\n",
      "i = 9\n",
      "21.144586761 2.51724474389\n",
      "0.0148883532286\n",
      "i = 10\n",
      "22.0395521181 3.30952064191\n",
      "0.0120361723382\n",
      "i = 11\n",
      "22.8228606997 4.10175853935\n",
      "0.00992400826185\n",
      "i = 12\n",
      "23.5154562868 4.90707998882\n",
      "0.00849036433813\n",
      "i = 13\n",
      "24.1250324668 5.71790105974\n",
      "0.00726154652272\n",
      "i = 14\n",
      "24.6615020626 6.5228323284\n",
      "0.00622365179671\n",
      "i = 15\n",
      "25.137136207 7.31251110697\n",
      "0.00537277498225\n",
      "i = 16\n",
      "25.5592537758 8.07335276356\n",
      "0.00458792800722\n",
      "i = 17\n",
      "25.9341558164 8.80039292141\n",
      "0.00390507869675\n",
      "i = 18\n",
      "26.2688294119 9.49450322949\n",
      "0.00335133781655\n",
      "i = 19\n",
      "26.5678040948 10.1623420084\n",
      "0.00292217828121\n",
      "i = 20\n",
      "26.8321085301 10.8079798171\n",
      "0.00256586333392\n",
      "i = 21\n",
      "27.0683412819 11.4277568515\n",
      "0.00225457900165\n",
      "i = 22\n",
      "27.2785571982 12.0151637607\n",
      "0.00194617670854\n",
      "i = 23\n",
      "27.4652628722 12.5754591046\n",
      "0.0017013561537\n",
      "i = 24\n",
      "27.6310522903 13.1082815317\n",
      "0.00148561157997\n",
      "i = 25\n",
      "27.7780629701 13.6163646496\n",
      "0.00130661799413\n",
      "i = 26\n",
      "27.9068972294 14.1013971256\n",
      "0.00115158685794\n",
      "i = 27\n",
      "28.019628307 14.564744714\n",
      "0.00102034898773\n",
      "i = 28\n",
      "28.1181743567 15.0033444632\n",
      "0.000892869733729\n",
      "i = 29\n",
      "28.2030351399 15.4168253894\n",
      "0.00077572993887\n",
      "i = 30\n",
      "28.2758373926 15.8057937334\n",
      "0.000673135066871\n",
      "i = 31\n",
      "28.3379732045 16.170394426\n",
      "0.000581579227716\n",
      "i = 32\n",
      "28.3905235653 16.5101670148\n",
      "0.000497763054703\n",
      "i = 33\n",
      "28.4347889278 16.8257980722\n",
      "0.000424266749755\n",
      "i = 34\n",
      "28.4719067747 17.1180040841\n",
      "0.000359849477384\n",
      "i = 35\n",
      "28.5027060418 17.388035909\n",
      "0.000304482634169\n",
      "i = 36\n",
      "28.5275161505 17.6374003962\n",
      "0.000257381273568\n",
      "i = 37\n",
      "28.547284046 17.867467548\n",
      "0.000217541783596\n",
      "i = 38\n",
      "28.5628188338 18.0793043705\n",
      "0.00018340671913\n",
      "i = 39\n",
      "28.5745716016 18.2746102006\n",
      "0.000155180125948\n",
      "i = 40\n",
      "28.5830237655 18.4551452669\n",
      "0.00013214180088\n",
      "i = 41\n",
      "28.588815162 18.6218925758\n",
      "0.000112480021535\n",
      "i = 42\n",
      "28.588815162 18.6218925758\n",
      "0.0\n",
      "i = 0\n",
      "-1.23132106 -6.31660714319\n",
      "0.124273946696\n",
      "i = 1\n",
      "4.83687555253 -4.58018274825\n",
      "0.146995168181\n",
      "i = 2\n",
      "8.77825105296 -3.50922067266\n",
      "0.0960734021905\n",
      "i = 3\n",
      "11.6830572799 -2.53781156486\n",
      "0.0654999457297\n",
      "i = 4\n",
      "14.0084299522 -1.63091042005\n",
      "0.0494226856574\n",
      "i = 5\n",
      "15.9279495047 -0.752414632983\n",
      "0.0380308815528\n",
      "i = 6\n",
      "17.5425167692 0.0987255097115\n",
      "0.0296348286069\n",
      "i = 7\n",
      "18.9215674957 0.921228301184\n",
      "0.0233306720359\n",
      "i = 8\n",
      "20.1139093408 1.7240227507\n",
      "0.0185757423043\n",
      "i = 9\n",
      "21.144680992 2.51761553682\n",
      "0.0147983512078\n",
      "i = 10\n",
      "22.0396931218 3.30989738327\n",
      "0.0119620540963\n",
      "i = 11\n",
      "22.8230589147 4.10216933526\n",
      "0.00986224241396\n",
      "i = 12\n",
      "23.5157016634 4.90750114294\n",
      "0.00843675428828\n",
      "i = 13\n",
      "24.1253233193 5.71832899834\n",
      "0.00721535052826\n",
      "i = 14\n",
      "24.6618278949 6.52326894143\n",
      "0.00618373172302\n",
      "i = 15\n",
      "25.1374945577 7.31297280194\n",
      "0.00533825626221\n",
      "i = 16\n",
      "25.5596393927 8.07383813853\n",
      "0.00455837638976\n",
      "i = 17\n",
      "25.9345650899 8.80089827108\n",
      "0.0038798682865\n",
      "i = 18\n",
      "26.2692548072 9.49502464131\n",
      "0.00332960421975\n",
      "i = 19\n",
      "26.5682327709 10.1628919839\n",
      "0.00290319082347\n",
      "i = 20\n",
      "26.8325497388 10.8085451228\n",
      "0.00254914208403\n",
      "i = 21\n",
      "27.0687929872 11.4283519722\n",
      "0.00223993838375\n",
      "i = 22\n",
      "27.2790086756 12.0157771246\n",
      "0.00193344424383\n",
      "i = 23\n",
      "27.4657086153 12.5760775521\n",
      "0.00169013089165\n",
      "i = 24\n",
      "27.6314893741 13.1088851338\n",
      "0.00147568020969\n",
      "i = 25\n",
      "27.7784692251 13.6170052013\n",
      "0.00129801018672\n",
      "i = 26\n",
      "27.9072675611 14.1020545945\n",
      "0.00114391205603\n",
      "i = 27\n",
      "28.0199637495 14.5654019516\n",
      "0.0010134768581\n",
      "i = 28\n",
      "28.1184381159 15.0040480238\n",
      "0.00088693494396\n",
      "i = 29\n",
      "28.2032300724 15.4175498335\n",
      "0.000770503979825\n",
      "i = 30\n",
      "28.2759673261 15.8065199763\n",
      "0.000668546055937\n",
      "i = 31\n",
      "28.338041277 16.1710975931\n",
      "0.000577537935927\n",
      "i = 32\n",
      "28.390529343 16.5108282696\n",
      "0.000494238138642\n",
      "i = 33\n",
      "28.4347380908 16.8263990225\n",
      "0.000421202888017\n",
      "i = 34\n",
      "28.471802848 17.1185312553\n",
      "0.000357201776867\n",
      "i = 35\n",
      "28.5025517103 17.3884872469\n",
      "0.00030221992758\n",
      "i = 36\n",
      "28.5273129342 17.637761011\n",
      "0.000255421493537\n",
      "i = 37\n",
      "28.5470569145 17.8677419309\n",
      "0.000215885582297\n",
      "i = 38\n",
      "28.5625690902 18.0794937964\n",
      "0.000181996810459\n",
      "i = 39\n",
      "28.5743014615 18.2747141434\n",
      "0.000153972776245\n",
      "i = 40\n",
      "28.5827370768 18.4551551386\n",
      "0.000131089702279\n",
      "i = 41\n",
      "28.5885150038 18.6218112167\n",
      "0.00011157664169\n",
      "i = 42\n",
      "28.5885150038 18.6218112167\n",
      "0.0\n",
      "i = 0\n",
      "-1.23064883879 -6.30861924248\n",
      "0.122351777821\n",
      "i = 1\n",
      "4.8359565629 -4.56532595851\n",
      "0.143239885897\n",
      "i = 2\n",
      "8.78089432575 -3.48790427518\n",
      "0.093026343446\n",
      "i = 3\n",
      "11.6902857484 -2.51589379216\n",
      "0.0632451701006\n",
      "i = 4\n",
      "14.0155097645 -1.60619965444\n",
      "0.0473910711078\n",
      "i = 5\n",
      "15.9358739244 -0.728163929915\n",
      "0.0363788241638\n",
      "i = 6\n",
      "17.5486779317 0.123623642251\n",
      "0.0281517944247\n",
      "i = 7\n",
      "18.9268384609 0.950686979642\n",
      "0.022115504034\n",
      "i = 8\n",
      "20.1197430045 1.75616908036\n",
      "0.017581309513\n",
      "i = 9\n",
      "21.1545905318 2.54991080237\n",
      "0.0140355839196\n",
      "i = 10\n",
      "22.0538889513 3.34272631934\n",
      "0.0113422180894\n",
      "i = 11\n",
      "22.8422636027 4.13739446699\n",
      "0.00937154093406\n",
      "i = 12\n",
      "23.5390429876 4.94409910484\n",
      "0.00799407622586\n",
      "i = 13\n",
      "24.152447304 5.7557238431\n",
      "0.00682815812299\n",
      "i = 14\n",
      "24.6932070362 6.56072181336\n",
      "0.00585189644325\n",
      "i = 15\n",
      "25.1718543252 7.35232178378\n",
      "0.00505025760551\n",
      "i = 16\n",
      "25.5962754035 8.11611050669\n",
      "0.00431357274384\n",
      "i = 17\n",
      "25.9731589118 8.8459852934\n",
      "0.003670497953\n",
      "i = 18\n",
      "26.3092175505 9.54221638421\n",
      "0.00314397117673\n",
      "i = 19\n",
      "26.6089874774 10.2133872347\n",
      "0.00274540259991\n",
      "i = 20\n",
      "26.8742975376 10.8607586835\n",
      "0.00240348228494\n",
      "i = 21\n",
      "27.1111385791 11.4827223244\n",
      "0.00211216185959\n",
      "i = 22\n",
      "27.321091993 12.0717619404\n",
      "0.00181800637828\n",
      "i = 23\n",
      "27.5071008277 12.6324188805\n",
      "0.00158223708956\n",
      "i = 24\n",
      "27.6713501877 13.1661761548\n",
      "0.00138106568767\n",
      "i = 25\n",
      "27.8145930565 13.6783872432\n",
      "0.00122179037856\n",
      "i = 26\n",
      "27.9386828431 14.1670988362\n",
      "0.00107427035914\n",
      "i = 27\n",
      "28.0462553443 14.6334313367\n",
      "0.000949714365812\n",
      "i = 28\n",
      "28.1389080488 15.0745820222\n",
      "0.000829236049984\n",
      "i = 29\n",
      "28.218121246 15.4887004575\n",
      "0.000715610447806\n",
      "i = 30\n",
      "28.2856568136 15.8766161135\n",
      "0.000616804964322\n",
      "i = 31\n"
     ]
    },
    {
     "name": "stdout",
     "output_type": "stream",
     "text": [
      "28.342852585 16.2380390687\n",
      "0.000527352133809\n",
      "i = 32\n",
      "28.3909234042 16.573381936\n",
      "0.000448063092361\n",
      "i = 33\n",
      "28.4313627985 16.8832862914\n",
      "0.000378572044666\n",
      "i = 34\n",
      "28.4651506249 17.1691314648\n",
      "0.000319067533912\n",
      "i = 35\n",
      "28.492832651 17.4324483676\n",
      "0.000268407546211\n",
      "i = 36\n",
      "28.5148924689 17.6740860137\n",
      "0.000224237940954\n",
      "i = 37\n",
      "28.532203369 17.8955812488\n",
      "0.000187196638337\n",
      "i = 38\n",
      "28.5455686989 18.0983177406\n",
      "0.000156038123128\n",
      "i = 39\n",
      "28.5554847183 18.2846571423\n",
      "0.000131276958569\n",
      "i = 40\n",
      "28.5626256999 18.4563880256\n",
      "0.000111172646531\n",
      "i = 41\n",
      "28.5626256999 18.4563880256\n",
      "0.0\n",
      "i = 0\n",
      "-1.20102393657 -6.01924104834\n",
      "0.1107420761\n",
      "i = 1\n",
      "4.9456988508 -4.05053077515\n",
      "0.123619246546\n",
      "i = 2\n",
      "8.95063624232 -2.72920059607\n",
      "0.0777005346228\n",
      "i = 3\n",
      "11.9607658466 -1.58884297206\n",
      "0.0540897386902\n",
      "i = 4\n",
      "14.3566837588 -0.543693332299\n",
      "0.0392427782242\n",
      "i = 5\n",
      "16.3018116018 0.453871912795\n",
      "0.0285270624426\n",
      "i = 6\n",
      "17.9188238258 1.43058653713\n",
      "0.0213092073163\n",
      "i = 7\n",
      "19.3029315783 2.38999508782\n",
      "0.0166803987724\n",
      "i = 8\n",
      "20.5141078421 3.33520253157\n",
      "0.0135170791265\n",
      "i = 9\n",
      "21.5812149777 4.26837680181\n",
      "0.0110821404721\n",
      "i = 10\n",
      "22.5277391323 5.1980719845\n",
      "0.00924796134975\n",
      "i = 11\n",
      "23.3664746499 6.12912240567\n",
      "0.00778844985285\n",
      "i = 12\n",
      "24.1076861631 7.05446319328\n",
      "0.0065650442179\n",
      "i = 13\n",
      "24.7617949107 7.96711277667\n",
      "0.0055462757643\n",
      "i = 14\n",
      "25.3383084368 8.85850112199\n",
      "0.00468249651036\n",
      "i = 15\n",
      "25.841051455 9.71883827253\n",
      "0.0039023156868\n",
      "i = 16\n",
      "26.2779479727 10.5406238636\n",
      "0.00323439296363\n",
      "i = 17\n",
      "26.6552677527 11.316686548\n",
      "0.00265317552584\n",
      "i = 18\n",
      "26.9786835141 12.0413710292\n",
      "0.00214987239327\n",
      "i = 19\n",
      "27.2517929842 12.7103311116\n",
      "0.00171161475955\n",
      "i = 20\n",
      "27.4780883728 13.3241804509\n",
      "0.00134791491663\n",
      "i = 21\n",
      "27.6643371916 13.8815869916\n",
      "0.00105038468582\n",
      "i = 22\n",
      "27.8164549888 14.3825728703\n",
      "0.000808809320711\n",
      "i = 23\n",
      "27.940150058 14.8292154856\n",
      "0.000617555828677\n",
      "i = 24\n",
      "28.0404022797 15.2264297224\n",
      "0.000471750049651\n",
      "i = 25\n",
      "28.1212243257 15.5771565655\n",
      "0.000357196473231\n",
      "i = 26\n",
      "28.1860012143 15.8847913731\n",
      "0.000268091685084\n",
      "i = 27\n",
      "28.2373811358 16.1530226288\n",
      "0.000199430825997\n",
      "i = 28\n",
      "28.2775974687 16.3852194799\n",
      "0.000146625232798\n",
      "i = 29\n",
      "28.3089250399 16.5853246226\n",
      "0.000107182829905\n",
      "i = 30\n",
      "28.3089250399 16.5853246226\n",
      "0.0\n",
      "i = 0\n",
      "-0.397366137759 0.962620759847\n",
      "0.0768136992168\n",
      "i = 1\n",
      "7.76516657495 7.48715429897\n",
      "0.0747388483996\n",
      "i = 2\n",
      "13.8393098173 11.6045457962\n",
      "0.0478792889442\n",
      "i = 3\n",
      "18.5476299268 14.4074808209\n",
      "0.0294175280893\n",
      "i = 4\n",
      "22.3188607132 16.1777287237\n",
      "0.017983149306\n",
      "i = 5\n",
      "25.5976669193 17.3840961014\n",
      "0.0106699774867\n",
      "i = 6\n",
      "28.1942147193 17.9269573037\n",
      "0.00616053184522\n",
      "i = 7\n",
      "30.2490164397 18.1371148495\n",
      "0.00361353825537\n",
      "i = 8\n",
      "31.8227835342 18.142864864\n",
      "0.00200651454165\n",
      "i = 9\n",
      "33.0280620699 18.0738421073\n",
      "0.00112606659677\n",
      "i = 10\n",
      "33.9691930286 18.0095961331\n",
      "0.000660596655645\n",
      "i = 11\n",
      "34.7116892141 17.9623812623\n",
      "0.000397780128343\n",
      "i = 12\n",
      "35.3013454421 17.9274588229\n",
      "0.000244143106995\n",
      "i = 13\n",
      "35.771709953 17.902831901\n",
      "0.000151901219698\n",
      "i = 14\n",
      "35.771709953 17.902831901\n",
      "0.0\n"
     ]
    }
   ],
   "source": [
    "mu_norm = []\n",
    "norm_r = []\n",
    "norm_m = []\n",
    "m_est = []\n",
    "incl_est = []\n",
    "decl_est = []\n",
    "phi_list = []\n",
    "for i in mu_list:\n",
    "    m_LM,inc_est,dec_est,phi,imax,pest,incs,decs = fc.levenberg_marquardt_NNLS(\n",
    "        data['tfa_obs_dip_RM_airb'],airborne['x'],airborne['y'],\n",
    "        airborne['z'],xs,ys,zs,inc_gf,dec_gf,-10.,-10.,lamb,dlamb,i_pos,it_max,\n",
    "        it_marq,eps_e,eps_i,i)\n",
    "    G = fc.sensitivity_mag(airborne['x'],airborne['y'],airborne['z'],\n",
    "                       xs,ys,zs,inc_gf,dec_gf,inc_est,dec_est)\n",
    "    tfpred = np.dot(G,m_LM)\n",
    "    r = data['tfa_obs_dip_RM_airb'] - tfpred \n",
    "    \n",
    "    norm_r.append(np.sqrt(np.sum(r*r)))\n",
    "    norm_m.append(np.sqrt(np.sum(m_LM*m_LM)))\n",
    "    m_est.append(m_LM)\n",
    "    incl_est.append(inc_est)\n",
    "    decl_est.append(dec_est)\n",
    "    phi_list.append(phi)"
   ]
  },
  {
   "cell_type": "markdown",
   "metadata": {},
   "source": [
    "## L-curve visualization"
   ]
  },
  {
   "cell_type": "code",
   "execution_count": 27,
   "metadata": {},
   "outputs": [
    {
     "data": {
      "text/plain": [
       "<matplotlib.figure.Figure at 0x7fbe987e3bd0>"
      ]
     },
     "metadata": {},
     "output_type": "display_data"
    },
    {
     "data": {
      "image/png": "[encoded data removed]",
      "text/plain": [
       "<matplotlib.figure.Figure at 0x7fbe987e3b90>"
      ]
     },
     "metadata": {},
     "output_type": "display_data"
    }
   ],
   "source": [
    "title_font = 20\n",
    "bottom_font = 18\n",
    "saturation_factor = 1.\n",
    "plt.close('all')\n",
    "plt.figure(figsize=(9,9), tight_layout=True)\n",
    "\n",
    "plt.figure(figsize=(10, 10))\n",
    "plt.loglog(norm_r,norm_m, 'b-')\n",
    "plt.loglog(norm_r,norm_m, 'bo')\n",
    "plt.title('L-curve', fontsize=title_font)\n",
    "plt.xlabel('r_norm', fontsize = title_font)\n",
    "plt.ylabel('m_norm', fontsize = title_font)\n",
    "plt.tick_params(axis='both', which='major', labelsize=15)\n",
    "\n",
    "file_name = 'figs/airborne/Lcurve_RM'\n",
    "plt.savefig(file_name+'.png',dpi=300)\n",
    "saved_files.append(file_name+'.png')\n",
    "\n",
    "plt.savefig(file_name+'.eps',dpi=300)\n",
    "saved_files.append(file_name+'.eps')\n",
    "\n",
    "\n",
    "plt.show()"
   ]
  },
  {
   "cell_type": "markdown",
   "metadata": {},
   "source": [
    "### Results"
   ]
  },
  {
   "cell_type": "code",
   "execution_count": 28,
   "metadata": {},
   "outputs": [],
   "source": [
    "result_RM_airb['magnetic_moment'] = m_est\n",
    "result_RM_airb['inc_est'] = incl_est\n",
    "result_RM_airb['dec_est'] = decl_est\n",
    "result_RM_airb['layer_depth'] = h\n",
    "result_RM_airb['reg_parameter'] = mu_list\n",
    "result_RM_airb['phi'] = phi_list"
   ]
  },
  {
   "cell_type": "markdown",
   "metadata": {},
   "source": [
    "### Generating .pickle file"
   ]
  },
  {
   "cell_type": "code",
   "execution_count": 29,
   "metadata": {},
   "outputs": [],
   "source": [
    "now = datetime.datetime.utcnow().strftime('%d %B %Y %H:%M:%S UTC')\n",
    "result_RM_airb['metadata'] = 'Generated by {name} on {date}'.format(date=now, name=notebook_name)"
   ]
  },
  {
   "cell_type": "code",
   "execution_count": 30,
   "metadata": {},
   "outputs": [],
   "source": [
    "file_name = 'data/result_RM_airb.pickle'\n",
    "with open(file_name, 'w') as f:\n",
    "    pickle.dump(result_RM_airb, f)\n",
    "    \n",
    "saved_files.append(file_name)"
   ]
  },
  {
   "cell_type": "markdown",
   "metadata": {},
   "source": [
    "### Saved files"
   ]
  },
  {
   "cell_type": "code",
   "execution_count": 31,
   "metadata": {},
   "outputs": [
    {
     "name": "stdout",
     "output_type": "stream",
     "text": [
      "1  figs/airborne/Lcurve_RM.png\n",
      "2  figs/airborne/Lcurve_RM.eps\n",
      "3  data/result_RM_airb.pickle\n"
     ]
    }
   ],
   "source": [
    "with open('reports/report_%s.md' % notebook_name[:st.index(notebook_name, '.')], 'w') as q:\n",
    "    q.write('# Saved files \\n')\n",
    "    now = datetime.datetime.utcnow().strftime('%d %B %Y %H:%M:%S UTC')\n",
    "    header = 'Generated by {name} on {date}'.format(date=now, name=notebook_name)\n",
    "    q.write('\\n\\n'+header+'\\n\\n')\n",
    "    for i, sf in enumerate(saved_files):\n",
    "        print '%d  %s' % (i+1,sf)\n",
    "        q.write('*  `%s` \\n' % (sf))"
   ]
  },
  {
   "cell_type": "code",
   "execution_count": null,
   "metadata": {},
   "outputs": [],
   "source": []
  },
  {
   "cell_type": "code",
   "execution_count": null,
   "metadata": {},
   "outputs": [],
   "source": []
  }
 ],
 "metadata": {
  "kernelspec": {
   "display_name": "Python 2",
   "language": "python",
   "name": "python2"
  },
  "language_info": {
   "codemirror_mode": {
    "name": "ipython",
    "version": 2
   },
   "file_extension": ".py",
   "mimetype": "text/x-python",
   "name": "python",
   "nbconvert_exporter": "python",
   "pygments_lexer": "ipython2",
   "version": "2.7.14"
  }
 },
 "nbformat": 4,
 "nbformat_minor": 2
}
