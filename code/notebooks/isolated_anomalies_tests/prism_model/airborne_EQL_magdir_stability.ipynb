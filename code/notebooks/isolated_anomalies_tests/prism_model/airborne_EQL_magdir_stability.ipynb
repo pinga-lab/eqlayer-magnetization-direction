{
 "cells": [
  {
   "cell_type": "markdown",
   "metadata": {},
   "source": [
    "# Testing solution stability"
   ]
  },
  {
   "cell_type": "markdown",
   "metadata": {},
   "source": [
    "#### Importing libraries"
   ]
  },
  {
   "cell_type": "code",
   "execution_count": 1,
   "metadata": {},
   "outputs": [],
   "source": [
    "% matplotlib inline "
   ]
  },
  {
   "cell_type": "code",
   "execution_count": 2,
   "metadata": {},
   "outputs": [
    {
     "name": "stderr",
     "output_type": "stream",
     "text": [
      "/home/andrelreis/anaconda2/lib/python2.7/site-packages/fatiando/vis/mpl.py:76: UserWarning: This module will be removed in v0.6. We recommend the use of matplotlib.pyplot module directly. Some of the fatiando specific functions will remain.\n",
      "  \"specific functions will remain.\")\n"
     ]
    }
   ],
   "source": [
    "import sys\n",
    "import numpy as np\n",
    "import matplotlib.pyplot as plt\n",
    "import cPickle as pickle\n",
    "import datetime\n",
    "import timeit\n",
    "from scipy.optimize import nnls\n",
    "from fatiando.gridder import regular\n",
    "from fatiando.utils import ang2vec, vec2ang\n",
    "from fatiando.mesher import Sphere, PointGrid,Prism\n",
    "from fatiando.gravmag import sphere,prism\n",
    "from fatiando.constants import CM, T2NT, G, SI2MGAL"
   ]
  },
  {
   "cell_type": "code",
   "execution_count": 3,
   "metadata": {},
   "outputs": [],
   "source": [
    "notebook_name = 'airborne_EQL_magdir_stability.ipynb'"
   ]
  },
  {
   "cell_type": "markdown",
   "metadata": {},
   "source": [
    "#### Importing auxiliary functions"
   ]
  },
  {
   "cell_type": "code",
   "execution_count": 4,
   "metadata": {},
   "outputs": [],
   "source": [
    "dir_modules = '../../mypackage'\n",
    "sys.path.append(dir_modules)"
   ]
  },
  {
   "cell_type": "code",
   "execution_count": 5,
   "metadata": {},
   "outputs": [],
   "source": [
    "import auxiliary_functions as fc"
   ]
  },
  {
   "cell_type": "markdown",
   "metadata": {},
   "source": [
    "#### Loading properties of the model"
   ]
  },
  {
   "cell_type": "code",
   "execution_count": 6,
   "metadata": {},
   "outputs": [],
   "source": [
    "with open('data/model_sphere.pickle') as f:\n",
    "        model_sphere = pickle.load(f)"
   ]
  },
  {
   "cell_type": "markdown",
   "metadata": {},
   "source": [
    "#### Loading properties grid"
   ]
  },
  {
   "cell_type": "code",
   "execution_count": 7,
   "metadata": {},
   "outputs": [],
   "source": [
    "with open('data/airborne_survey.pickle') as f:\n",
    "        airborne = pickle.load(f)"
   ]
  },
  {
   "cell_type": "markdown",
   "metadata": {},
   "source": [
    "### Saving files"
   ]
  },
  {
   "cell_type": "code",
   "execution_count": 8,
   "metadata": {},
   "outputs": [],
   "source": [
    "saved_files = []"
   ]
  },
  {
   "cell_type": "markdown",
   "metadata": {},
   "source": [
    "## Observation area"
   ]
  },
  {
   "cell_type": "code",
   "execution_count": 9,
   "metadata": {},
   "outputs": [
    {
     "name": "stdout",
     "output_type": "stream",
     "text": [
      "Area limits: \n",
      " x_max = 6000.0 m \n",
      " x_min = -6000.0 m \n",
      " y_max = 6000.0 m \n",
      " y_min = -6000.0 m\n"
     ]
    }
   ],
   "source": [
    "print 'Area limits: \\n x_max = %.1f m \\n x_min = %.1f m \\n y_max = %.1f m \\n y_min = %.1f m' % (airborne['area'][1], \n",
    "                                                                                                airborne['area'][0],\n",
    "                                                                                                airborne['area'][3],\n",
    "                                                                                                airborne['area'][2])"
   ]
  },
  {
   "cell_type": "markdown",
   "metadata": {},
   "source": [
    "### airborne survey information"
   ]
  },
  {
   "cell_type": "code",
   "execution_count": 10,
   "metadata": {},
   "outputs": [
    {
     "name": "stdout",
     "output_type": "stream",
     "text": [
      "Shape : (40,20)\n",
      "Number of data: 800.0\n",
      "dx: 307.7 m\n",
      "dy: 631.6 m \n"
     ]
    }
   ],
   "source": [
    "print 'Shape : (%.0f,%.0f)'% airborne['shape'] \n",
    "print 'Number of data: %.1f' % airborne['N']\n",
    "print 'dx: %.1f m' % airborne['dx']\n",
    "print 'dy: %.1f m ' % airborne['dy']"
   ]
  },
  {
   "cell_type": "markdown",
   "metadata": {},
   "source": [
    "## Properties of the model"
   ]
  },
  {
   "cell_type": "markdown",
   "metadata": {},
   "source": [
    "### Main field"
   ]
  },
  {
   "cell_type": "code",
   "execution_count": 11,
   "metadata": {},
   "outputs": [],
   "source": [
    "inc_gf,dec_gf = model_sphere['main_field']"
   ]
  },
  {
   "cell_type": "code",
   "execution_count": 12,
   "metadata": {},
   "outputs": [
    {
     "name": "stdout",
     "output_type": "stream",
     "text": [
      "Main field inclination: 40.0 degree\n",
      "Main field declination: 45.0 degree\n"
     ]
    }
   ],
   "source": [
    "print'Main field inclination: %.1f degree' % inc_gf\n",
    "print'Main field declination: %.1f degree' % dec_gf"
   ]
  },
  {
   "cell_type": "markdown",
   "metadata": {},
   "source": [
    "### Magnetization direction"
   ]
  },
  {
   "cell_type": "code",
   "execution_count": 13,
   "metadata": {},
   "outputs": [
    {
     "name": "stdout",
     "output_type": "stream",
     "text": [
      "Intensity: 3.0 A/m\n",
      "Inclination: 30.0 degree\n",
      "Declination: 20.0 degree\n"
     ]
    }
   ],
   "source": [
    "print 'Intensity: %.1f A/m' % model_sphere['m_R']\n",
    "print 'Inclination: %.1f degree' % model_sphere['inc_R']\n",
    "print 'Declination: %.1f degree' % model_sphere['dec_R']"
   ]
  },
  {
   "cell_type": "code",
   "execution_count": 14,
   "metadata": {},
   "outputs": [],
   "source": [
    "inc_R,dec_R = model_sphere['inc_R'],model_sphere['dec_R']"
   ]
  },
  {
   "cell_type": "markdown",
   "metadata": {},
   "source": [
    "### Generating data"
   ]
  },
  {
   "cell_type": "code",
   "execution_count": 15,
   "metadata": {},
   "outputs": [],
   "source": [
    "data = sphere.tf(airborne['x'],airborne['y'],airborne['z'],\n",
    "                 model_sphere['model_R'],inc_gf,dec_gf)"
   ]
  },
  {
   "cell_type": "code",
   "execution_count": 16,
   "metadata": {},
   "outputs": [],
   "source": [
    "seed = 40"
   ]
  },
  {
   "cell_type": "code",
   "execution_count": 17,
   "metadata": {},
   "outputs": [],
   "source": [
    "np.random.seed(seed=seed)"
   ]
  },
  {
   "cell_type": "code",
   "execution_count": 18,
   "metadata": {},
   "outputs": [],
   "source": [
    "std_noise = 7.\n",
    "r = np.random.normal(0.0,std_noise, airborne['Nx']*airborne['Ny'])\n",
    "data_obs =  data + r"
   ]
  },
  {
   "cell_type": "markdown",
   "metadata": {},
   "source": [
    "## Generating the layer with my function "
   ]
  },
  {
   "cell_type": "code",
   "execution_count": 19,
   "metadata": {},
   "outputs": [],
   "source": [
    "h = 1800."
   ]
  },
  {
   "cell_type": "markdown",
   "metadata": {},
   "source": [
    "#### Generating a layer"
   ]
  },
  {
   "cell_type": "code",
   "execution_count": 20,
   "metadata": {},
   "outputs": [],
   "source": [
    "shape_layer = (airborne['shape'][0],airborne['shape'][1])"
   ]
  },
  {
   "cell_type": "code",
   "execution_count": 21,
   "metadata": {},
   "outputs": [],
   "source": [
    "xs,ys,zs = regular(airborne['area'],shape_layer,h)"
   ]
  },
  {
   "cell_type": "markdown",
   "metadata": {},
   "source": [
    "### Levenberg-Marquardt with NNLS for positive magnetic moments"
   ]
  },
  {
   "cell_type": "code",
   "execution_count": 22,
   "metadata": {},
   "outputs": [],
   "source": [
    "i_pos = 1800"
   ]
  },
  {
   "cell_type": "code",
   "execution_count": 23,
   "metadata": {},
   "outputs": [],
   "source": [
    "it_max = 30"
   ]
  },
  {
   "cell_type": "code",
   "execution_count": 24,
   "metadata": {},
   "outputs": [],
   "source": [
    "it_marq = 15"
   ]
  },
  {
   "cell_type": "code",
   "execution_count": 25,
   "metadata": {},
   "outputs": [],
   "source": [
    "lamb = 10.\n",
    "dlamb = 100."
   ]
  },
  {
   "cell_type": "code",
   "execution_count": 26,
   "metadata": {},
   "outputs": [],
   "source": [
    "eps_e = 1e-4\n",
    "eps_i = 1e-4"
   ]
  },
  {
   "cell_type": "code",
   "execution_count": 27,
   "metadata": {},
   "outputs": [],
   "source": [
    "mu_pos = 1e5"
   ]
  },
  {
   "cell_type": "code",
   "execution_count": 28,
   "metadata": {},
   "outputs": [
    {
     "name": "stdout",
     "output_type": "stream",
     "text": [
      "i = 0\n",
      "0.702433123164 -4.4889616574\n",
      "0.565087054963\n",
      "i = 1\n",
      "5.6090819637 -2.91788538096\n",
      "0.435444559547\n",
      "i = 2\n",
      "8.62839339773 -1.90676884727\n",
      "0.256633626846\n",
      "i = 3\n",
      "10.7225103133 -1.00518610854\n",
      "0.164804529702\n",
      "i = 4\n",
      "12.3115754877 -0.141744542386\n",
      "0.115485092146\n",
      "i = 5\n",
      "13.5792747072 0.722454416966\n",
      "0.0888206405091\n",
      "i = 6\n",
      "14.6152150666 1.59075607634\n",
      "0.0713412506748\n",
      "i = 7\n",
      "15.4901578893 2.4481401149\n",
      "0.0597845929571\n",
      "i = 8\n",
      "16.2573317604 3.28214622966\n",
      "0.0522097367973\n",
      "i = 9\n",
      "16.9431176355 4.07963833628\n",
      "0.0458962658695\n",
      "i = 10\n",
      "17.5621142159 4.82735755271\n",
      "0.0399359621647\n",
      "i = 11\n",
      "18.1247921555 5.51948882522\n",
      "0.034381694248\n",
      "i = 12\n",
      "18.6372510583 6.18209753441\n",
      "0.0304981734393\n",
      "i = 13\n",
      "19.1051181536 6.81811595896\n",
      "0.027167891062\n",
      "i = 14\n",
      "19.5335723743 7.42573139398\n",
      "0.0241385892324\n",
      "i = 15\n",
      "19.9275064789 8.00143449075\n",
      "0.0212920690594\n",
      "i = 16\n",
      "20.2924262227 8.54193832437\n",
      "0.0186883015013\n",
      "i = 17\n",
      "20.6330269251 9.0373530396\n",
      "0.0160421999482\n",
      "i = 18\n",
      "20.9544346262 9.4798749936\n",
      "0.0135268251059\n",
      "i = 19\n",
      "21.2592803579 9.87643724951\n",
      "0.0115278803528\n",
      "i = 20\n",
      "21.5488076917 10.2407673296\n",
      "0.0100863771298\n",
      "i = 21\n",
      "21.8250203054 10.5758563806\n",
      "0.00888382711883\n",
      "i = 22\n",
      "22.0883272623 10.8910554002\n",
      "0.00797364480443\n",
      "i = 23\n",
      "22.3377618956 11.1978040141\n",
      "0.00730999471645\n",
      "i = 24\n",
      "22.5742639539 11.4951343163\n",
      "0.00668754780052\n",
      "i = 25\n",
      "22.7986217875 11.7822650798\n",
      "0.00610109979211\n",
      "i = 26\n",
      "23.0112961559 12.0593737846\n",
      "0.00555646127169\n",
      "i = 27\n",
      "23.212880211 12.3258356795\n",
      "0.00504307589444\n",
      "i = 28\n",
      "23.4042265326 12.5821018008\n",
      "0.00458404434932\n",
      "i = 29\n",
      "23.5859339124 12.8267830173\n",
      "0.00414192639846\n",
      "i = 30\n",
      "23.7586156589 13.0599488553\n",
      "0.00373828489252\n",
      "i = 31\n",
      "23.9232918033 13.2821395074\n",
      "0.00338661813275\n",
      "i = 32\n",
      "24.0802380173 13.493138382\n",
      "0.00305617718586\n",
      "i = 33\n",
      "24.2298465656 13.6936851939\n",
      "0.00275977562941\n",
      "i = 34\n",
      "24.3726077819 13.8832280399\n",
      "0.00248332891002\n",
      "i = 35\n",
      "24.5089218627 14.0618438677\n",
      "0.00223078715471\n",
      "i = 36\n",
      "24.639232031 14.2301948882\n",
      "0.00200749643478\n",
      "i = 37\n",
      "24.7638405735 14.3875712848\n",
      "0.00179593154228\n",
      "i = 38\n",
      "24.8832174181 14.5341626575\n",
      "0.00160684855496\n",
      "i = 39\n",
      "24.9978701763 14.6733904248\n",
      "0.00146512424955\n",
      "i = 40\n",
      "25.1084273249 14.8073364267\n",
      "0.00135608008359\n",
      "i = 41\n",
      "25.2155323197 14.9369920806\n",
      "0.00126840574123\n",
      "i = 42\n",
      "25.3193832377 15.0624537183\n",
      "0.00118744512352\n",
      "i = 43\n",
      "25.4201121075 15.1839425787\n",
      "0.00111269252443\n",
      "i = 44\n",
      "25.5178173315 15.3013932987\n",
      "0.00104153187364\n",
      "i = 45\n",
      "25.6124640107 15.4143359704\n",
      "0.000969562740002\n",
      "i = 46\n",
      "25.7041169004 15.5226091569\n",
      "0.000900280662816\n",
      "i = 47\n",
      "25.7929096601 15.6262718713\n",
      "0.000835804831517\n",
      "i = 48\n",
      "25.879102766 15.7257907877\n",
      "0.0007796111105\n",
      "i = 49\n",
      "25.9629305101 15.8216050448\n",
      "0.000730581786223\n",
      "i = 50\n",
      "26.0446725511 15.9141106431\n",
      "0.000688445789665\n",
      "i = 51\n",
      "26.1245596847 16.0037510973\n",
      "0.00065238963056\n",
      "i = 52\n",
      "26.2027049274 16.0905049338\n",
      "0.000618543535159\n",
      "i = 53\n",
      "26.2792138418 16.1743715457\n",
      "0.000586847021568\n",
      "i = 54\n",
      "26.3541694291 16.2553733647\n",
      "0.00055708399789\n",
      "i = 55\n",
      "26.4276297193 16.3335790416\n",
      "0.000529109665978\n",
      "i = 56\n",
      "26.4996317923 16.4090366782\n",
      "0.000502555581865\n",
      "i = 57\n",
      "26.5702143931 16.4817943727\n",
      "0.000477384060068\n",
      "i = 58\n",
      "26.6394322183 16.5519302155\n",
      "0.000453797536285\n",
      "i = 59\n",
      "26.707309866 16.6195004014\n",
      "0.000431361654801\n",
      "i = 60\n",
      "26.773885194 16.6845655773\n",
      "0.000410167802815\n",
      "i = 61\n",
      "26.8392111015 16.7471988755\n",
      "0.000390336933391\n",
      "i = 62\n",
      "26.9033286241 16.8074597219\n",
      "0.000371657863323\n",
      "i = 63\n",
      "26.9662949638 16.8654293146\n",
      "0.000354281773535\n",
      "i = 64\n",
      "27.0281643676 16.9211766938\n",
      "0.000338084775197\n",
      "i = 65\n",
      "27.0889676886 16.9747480838\n",
      "0.000322755763207\n",
      "i = 66\n",
      "27.1487440407 17.0262719362\n",
      "0.000308538074013\n",
      "i = 67\n",
      "27.2075469775 17.0759973072\n",
      "0.000295768461478\n",
      "i = 68\n",
      "27.2654184426 17.1240033823\n",
      "0.000283858496705\n",
      "i = 69\n",
      "27.3224261389 17.170460004\n",
      "0.000273168551007\n",
      "i = 70\n",
      "27.3786924553 17.2157816241\n",
      "0.000264577241167\n",
      "i = 71\n",
      "27.4342390784 17.2599925077\n",
      "0.00025637126328\n",
      "i = 72\n",
      "27.489086659 17.3031107985\n",
      "0.000248517883336\n",
      "i = 73\n",
      "27.5432513497 17.3451421443\n",
      "0.000240947716181\n",
      "i = 74\n",
      "27.5967484525 17.386112064\n",
      "0.00023368571818\n",
      "i = 75\n",
      "27.6495951696 17.4260460047\n",
      "0.000226735151688\n",
      "i = 76\n",
      "27.7018058231 17.4649652687\n",
      "0.000220057990668\n",
      "i = 77\n",
      "27.7533940103 17.5028924547\n",
      "0.000213642943511\n",
      "i = 78\n",
      "27.8043849557 17.5399117096\n",
      "0.000207667006911\n",
      "i = 79\n",
      "27.8548055655 17.5761032444\n",
      "0.000202115032867\n",
      "i = 80\n",
      "27.9046714735 17.6114846575\n",
      "0.000196791674378\n",
      "i = 81\n",
      "27.9539929052 17.6460725193\n",
      "0.000191651993736\n",
      "i = 82\n",
      "28.0027799373 17.6798834232\n",
      "0.000186689838162\n",
      "i = 83\n",
      "28.0510421592 17.7129331541\n",
      "0.000181895860607\n",
      "i = 84\n",
      "28.0987889036 17.7452372282\n",
      "0.000177263338919\n",
      "i = 85\n",
      "28.1460292561 17.7768108947\n",
      "0.000172785844071\n",
      "i = 86\n",
      "28.1927720627 17.8076691378\n",
      "0.000168457226769\n",
      "i = 87\n",
      "28.2390259385 17.8378266782\n",
      "0.000164271604678\n",
      "i = 88\n",
      "28.2847992749 17.867297976\n",
      "0.000160223350272\n",
      "i = 89\n",
      "28.3301002475 17.8960972321\n",
      "0.000156307079238\n",
      "i = 90\n",
      "28.3749330906 17.9242363537\n",
      "0.000152492384051\n",
      "i = 91\n",
      "28.4193039499 17.9517281511\n",
      "0.000148789412132\n",
      "i = 92\n",
      "28.4632227279 17.9785864354\n",
      "0.000145218916787\n",
      "i = 93\n",
      "28.5067269484 18.0048979957\n",
      "0.000142022955649\n",
      "i = 94\n",
      "28.5498692156 18.0310126927\n",
      "0.00013956264677\n",
      "i = 95\n",
      "28.5926654385 18.0569285943\n",
      "0.000137216811365\n",
      "i = 96\n",
      "28.6351217261 18.0826469996\n",
      "0.000134931210116\n",
      "i = 97\n",
      "28.6771498911 18.1081924613\n",
      "0.000132197083665\n",
      "i = 98\n",
      "28.7187553922 18.1335661504\n",
      "0.000129526157936\n",
      "i = 99\n",
      "28.7599435992 18.158769229\n",
      "0.000126916761366\n",
      "i = 100\n",
      "28.8007242148 18.1837996812\n",
      "0.000124388100232\n",
      "i = 101\n",
      "28.8411044357 18.2086571865\n",
      "0.000121926588496\n",
      "i = 102\n",
      "28.8810892176 18.233342954\n",
      "0.000119520444433\n",
      "i = 103\n",
      "28.9206834379 18.2578581837\n",
      "0.00011716824748\n",
      "i = 104\n",
      "28.9598918977 18.282204067\n",
      "0.000114868618491\n",
      "i = 105\n",
      "28.9987215889 18.306382942\n",
      "0.000112633174446\n",
      "i = 106\n",
      "29.0371818058 18.3303983677\n",
      "0.000110473681051\n",
      "i = 107\n",
      "29.0752769298 18.3542514371\n",
      "0.000108360962869\n",
      "i = 108\n",
      "29.1130112773 18.3779432358\n",
      "0.000106293871009\n",
      "i = 109\n",
      "29.1503876786 18.4014767711\n",
      "0.000104265974624\n",
      "i = 110\n",
      "29.187388985 18.4248633524\n",
      "0.000102184483904\n",
      "i = 111\n",
      "29.224018515 18.4480991013\n",
      "0.000100138969116\n",
      "i = 112\n",
      "29.224018515 18.4480991013\n",
      "0.0\n"
     ]
    }
   ],
   "source": [
    "m_LM,inc_est,dec_est,phi,imax,pest,incs,decs = fc.levenberg_marquardt_NNLS(\n",
    "    data_obs,airborne['x'],airborne['y'],airborne['z'],xs,ys,zs,inc_gf,dec_gf,\n",
    "    -10.,-10.,lamb,dlamb,i_pos,it_max,it_marq,eps_e,eps_i,mu_pos)"
   ]
  },
  {
   "cell_type": "markdown",
   "metadata": {},
   "source": [
    "### Visualization of the convergence"
   ]
  },
  {
   "cell_type": "code",
   "execution_count": 29,
   "metadata": {},
   "outputs": [],
   "source": [
    "phi = (np.array(phi)/airborne['x'].size)"
   ]
  },
  {
   "cell_type": "code",
   "execution_count": 30,
   "metadata": {},
   "outputs": [
    {
     "data": {
      "text/plain": [
       "<matplotlib.figure.Figure at 0x7f2a526fddd0>"
      ]
     },
     "metadata": {},
     "output_type": "display_data"
    },
    {
     "data": {
      "image/png": "[encoded data removed]",
      "text/plain": [
       "<matplotlib.figure.Figure at 0x7f2a526fdd90>"
      ]
     },
     "metadata": {},
     "output_type": "display_data"
    }
   ],
   "source": [
    "title_font = 20\n",
    "bottom_font = 18\n",
    "saturation_factor = 1.\n",
    "plt.close('all')\n",
    "plt.figure(figsize=(9,9), tight_layout=True)\n",
    "\n",
    "plt.figure(figsize=(10, 10))\n",
    "plt.plot(phi, 'b--')\n",
    "plt.plot(phi, 'b.')\n",
    "\n",
    "plt.title('Convergence analysis', fontsize=title_font)\n",
    "plt.xlabel('iteration', fontsize = title_font)\n",
    "plt.ylabel('$\\phi$', fontsize = title_font)\n",
    "plt.tick_params(axis='both', which='major', labelsize=15)\n",
    "\n",
    "file_name = 'figs/airborne/instability/convergence_LM_NNLS_magRM_seed= %.1f' % seed\n",
    "plt.savefig(file_name+'.png',dpi=300)\n",
    "saved_files.append(file_name+'.png')\n",
    "\n",
    "plt.savefig(file_name+'.eps',dpi=300)\n",
    "saved_files.append(file_name+'.eps')\n",
    "\n",
    "\n",
    "plt.show()"
   ]
  },
  {
   "cell_type": "markdown",
   "metadata": {},
   "source": [
    "### Estimated magnetization direction"
   ]
  },
  {
   "cell_type": "code",
   "execution_count": 31,
   "metadata": {},
   "outputs": [
    {
     "name": "stdout",
     "output_type": "stream",
     "text": [
      "(29.224018514969426, 18.448099101348003)\n"
     ]
    }
   ],
   "source": [
    "print (inc_est,dec_est)"
   ]
  },
  {
   "cell_type": "code",
   "execution_count": 32,
   "metadata": {},
   "outputs": [
    {
     "name": "stdout",
     "output_type": "stream",
     "text": [
      "(30.0, 20.0)\n"
     ]
    }
   ],
   "source": [
    "print (inc_R,dec_R)"
   ]
  },
  {
   "cell_type": "markdown",
   "metadata": {},
   "source": [
    "### Comparison between observed data and predicted data"
   ]
  },
  {
   "cell_type": "code",
   "execution_count": 33,
   "metadata": {},
   "outputs": [],
   "source": [
    "pred = fc.tfa_layer(airborne['x'],airborne['y'],airborne['z'],\n",
    "                    xs,ys,zs,inc_gf,dec_gf,m_LM,inc_est,dec_est)"
   ]
  },
  {
   "cell_type": "code",
   "execution_count": 34,
   "metadata": {},
   "outputs": [],
   "source": [
    "res = pred - data_obs"
   ]
  },
  {
   "cell_type": "code",
   "execution_count": 35,
   "metadata": {},
   "outputs": [],
   "source": [
    "r_norm,r_mean,r_std = fc.residual(data_obs,pred)"
   ]
  },
  {
   "cell_type": "code",
   "execution_count": 36,
   "metadata": {},
   "outputs": [
    {
     "name": "stderr",
     "output_type": "stream",
     "text": [
      "/home/andrelreis/anaconda2/lib/python2.7/site-packages/matplotlib/figure.py:1744: UserWarning: This figure includes Axes that are not compatible with tight_layout, so its results might be incorrect.\n",
      "  warnings.warn(\"This figure includes Axes that are not \"\n"
     ]
    },
    {
     "data": {
      "image/png": "[encoded data removed]",
      "text/plain": [
       "<matplotlib.figure.Figure at 0x7f2a5257a690>"
      ]
     },
     "metadata": {},
     "output_type": "display_data"
    }
   ],
   "source": [
    "title_font = 18\n",
    "bottom_font = 15\n",
    "saturation_factor = 1.\n",
    "plt.close('all')\n",
    "plt.figure(figsize=(15,15), tight_layout=True)\n",
    "\n",
    "ranges = saturation_factor*np.abs([data_obs.max(), \n",
    "                                   data_obs.min(),\n",
    "                                   pred.max(), pred.min()]).max()\n",
    "res_ranges = np.max(np.abs(res))\n",
    "\n",
    "plt.subplot(2,2,1)\n",
    "plt.contourf(airborne['y'].reshape(airborne['shape']),\n",
    "             airborne['x'].reshape(airborne['shape']), \n",
    "             data_obs.reshape(airborne['shape']),\n",
    "             20, cmap='viridis',vmin=-ranges, vmax=ranges)\n",
    "plt.colorbar(pad=0.01, aspect=40, shrink=1.0).set_label('nT',size=bottom_font)\n",
    "plt.xlabel('y (m)', fontsize = title_font)\n",
    "plt.ylabel('x (m)', fontsize = title_font)\n",
    "plt.title('(a) TFA (model_RM)',fontsize=title_font)\n",
    "plt.tick_params(axis='both', which='major', labelsize=12)\n",
    "\n",
    "plt.subplot(2,2,2)\n",
    "plt.contourf(airborne['y'].reshape(airborne['shape']),\n",
    "             airborne['x'].reshape(airborne['shape']),\n",
    "             pred.reshape(airborne['shape']),\n",
    "             20, cmap='viridis',  vmin=-ranges, vmax=ranges)\n",
    "plt.colorbar(pad=0.01, aspect=40, shrink=1.0).set_label('nT',size=bottom_font)\n",
    "plt.xlabel('y (m)', fontsize = title_font)\n",
    "plt.ylabel('x (m)', fontsize = title_font)\n",
    "plt.title('(b) TFA (Layer)', fontsize=title_font)\n",
    "plt.tick_params(axis='both', which='major', labelsize=12)\n",
    "\n",
    "plt.subplot(2,2,3)\n",
    "plt.contourf(airborne['y'].reshape(airborne['shape']),\n",
    "             airborne['x'].reshape(airborne['shape']),\n",
    "             res.reshape(airborne['shape']), \n",
    "             20, cmap='viridis',  vmin=-res_ranges, vmax=res_ranges)\n",
    "plt.colorbar(pad=0.01, aspect=40, shrink=1.0).set_label('nT',size=bottom_font)\n",
    "plt.xlabel('y (m)', fontsize = title_font)\n",
    "plt.ylabel('x (m)', fontsize = title_font)\n",
    "plt.title('(c) Residual map', fontsize=title_font)\n",
    "plt.tick_params(axis='both', which='major', labelsize=12)\n",
    "\n",
    "\n",
    "plt.subplot(2,2,4)\n",
    "plt.xlabel('$\\mu$ = %.3f | $\\sigma$ = %.3f nT' % (r_mean, r_std),\n",
    "           fontsize = bottom_font)\n",
    "nbins = int((np.max(r_norm - np.min(r_norm))))\n",
    "plt.hist(r_norm,bins=nbins,normed=True)\n",
    "plt.ylim(0.,1.)\n",
    "plt.xlim(-10., 10.)\n",
    "plt.title('(d) Normalized Histogram',fontsize=title_font)\n",
    "plt.tick_params(axis='both', which='major', labelsize=12)\n",
    "\n",
    "file_name = 'figs/airborne/instability/data_fitting_LM_NNLS_magRM_seed= %.1f' % seed\n",
    "plt.savefig(file_name+'.png',dpi=300)\n",
    "saved_files.append(file_name+'.png')\n",
    "\n",
    "plt.savefig(file_name+'.eps',dpi=300)\n",
    "saved_files.append(file_name+'.eps')\n",
    "\n",
    "\n",
    "plt.show()"
   ]
  },
  {
   "cell_type": "markdown",
   "metadata": {},
   "source": [
    "### Estimated magnetic moment within the layer"
   ]
  },
  {
   "cell_type": "code",
   "execution_count": 37,
   "metadata": {},
   "outputs": [
    {
     "data": {
      "image/png": "[encoded data removed]",
      "text/plain": [
       "<matplotlib.figure.Figure at 0x7f2a51f2bb50>"
      ]
     },
     "metadata": {},
     "output_type": "display_data"
    }
   ],
   "source": [
    "title_font = 18\n",
    "bottom_font = 18\n",
    "saturation_factor = 1.\n",
    "plt.close('all')\n",
    "plt.figure(figsize=(9,9), tight_layout=True)\n",
    "\n",
    "plt.contourf(ys.reshape(shape_layer),xs.reshape(shape_layer), \n",
    "             m_LM.reshape(shape_layer), 20, cmap='viridis')\n",
    "plt.colorbar(pad=0.01, aspect=40, shrink=1.0).set_label('$A.m^2$',size=bottom_font)\n",
    "plt.xlabel('y (m)', fontsize = title_font)\n",
    "plt.ylabel('x (m)', fontsize = title_font)\n",
    "plt.title('Magnetic moment (layer)| inc = %.1f/dec = %.1f'% (inc_est,dec_est), fontsize=title_font)\n",
    "\n",
    "file_name = 'figs/airborne/instability/magnetic_moment_positive_LM_NNLS_magRM_seed= %.1f' % seed\n",
    "plt.savefig(file_name+'.png',dpi=300)\n",
    "saved_files.append(file_name+'.png')\n",
    "\n",
    "plt.savefig(file_name+'.eps',dpi=300)\n",
    "saved_files.append(file_name+'.eps')\n",
    "\n",
    "\n",
    "plt.show()"
   ]
  },
  {
   "cell_type": "markdown",
   "metadata": {},
   "source": [
    "### Results"
   ]
  },
  {
   "cell_type": "markdown",
   "metadata": {},
   "source": [
    "#### Generating .pickle file"
   ]
  },
  {
   "cell_type": "code",
   "execution_count": 38,
   "metadata": {},
   "outputs": [],
   "source": [
    "#now = datetime.datetime.utcnow().strftime('%d %B %Y %H:%M:%S UTC')\n",
    "#data_set['metadata'] = 'Generated by {name} on {date}'.format(date=now, name=notebook_name)"
   ]
  },
  {
   "cell_type": "code",
   "execution_count": 39,
   "metadata": {},
   "outputs": [],
   "source": [
    "#file_name = 'data/results_IM_reg.pickle'\n",
    "#with open(file_name, 'w') as f:\n",
    "#    pickle.dump(results_RM_reg, f)\n",
    "#    \n",
    "#saved_files.append(file_name)\n"
   ]
  },
  {
   "cell_type": "markdown",
   "metadata": {},
   "source": [
    "### Saved files"
   ]
  },
  {
   "cell_type": "code",
   "execution_count": 40,
   "metadata": {},
   "outputs": [],
   "source": [
    "#with open('reports/report_%s.md' % notebook_name[:st.index(notebook_name, '.')], 'w') as q:\n",
    "#    q.write('# Saved files \\n')\n",
    "#    now = datetime.datetime.utcnow().strftime('%d %B %Y %H:%M:%S UTC')\n",
    "#    header = 'Generated by {name} on {date}'.format(date=now, name=notebook_name)\n",
    "#    q.write('\\n\\n'+header+'\\n\\n')\n",
    "#    for i, sf in enumerate(saved_files):\n",
    "#        print '%d  %s' % (i+1,sf)\n",
    "#        q.write('*  `%s` \\n' % (sf))"
   ]
  },
  {
   "cell_type": "code",
   "execution_count": null,
   "metadata": {},
   "outputs": [],
   "source": []
  },
  {
   "cell_type": "code",
   "execution_count": null,
   "metadata": {},
   "outputs": [],
   "source": []
  }
 ],
 "metadata": {
  "kernelspec": {
   "display_name": "Python 2",
   "language": "python",
   "name": "python2"
  },
  "language_info": {
   "codemirror_mode": {
    "name": "ipython",
    "version": 2
   },
   "file_extension": ".py",
   "mimetype": "text/x-python",
   "name": "python",
   "nbconvert_exporter": "python",
   "pygments_lexer": "ipython2",
   "version": "2.7.14"
  }
 },
 "nbformat": 4,
 "nbformat_minor": 2
}
