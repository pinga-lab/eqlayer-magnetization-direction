{
 "cells": [
  {
   "cell_type": "markdown",
   "metadata": {},
   "source": [
    "# Equivalent layer technique for estimating total magnetization direction using a regular grid"
   ]
  },
  {
   "cell_type": "markdown",
   "metadata": {},
   "source": [
    "#### Importing libraries"
   ]
  },
  {
   "cell_type": "code",
   "execution_count": 1,
   "metadata": {},
   "outputs": [],
   "source": [
    "% matplotlib inline "
   ]
  },
  {
   "cell_type": "code",
   "execution_count": 2,
   "metadata": {},
   "outputs": [
    {
     "name": "stderr",
     "output_type": "stream",
     "text": [
      "/home/andrelreis/anaconda2/lib/python2.7/site-packages/fatiando/vis/mpl.py:76: UserWarning: This module will be removed in v0.6. We recommend the use of matplotlib.pyplot module directly. Some of the fatiando specific functions will remain.\n",
      "  \"specific functions will remain.\")\n"
     ]
    }
   ],
   "source": [
    "import sys\n",
    "import numpy as np\n",
    "import matplotlib.pyplot as plt\n",
    "import cPickle as pickle\n",
    "import datetime\n",
    "import timeit\n",
    "import string as st\n",
    "from scipy.optimize import nnls\n",
    "from fatiando.gridder import regular\n",
    "from fatiando.utils import ang2vec, vec2ang\n",
    "from fatiando.mesher import Sphere, PointGrid,Prism\n",
    "from fatiando.gravmag import sphere,prism\n",
    "from fatiando.constants import CM, T2NT, G, SI2MGAL"
   ]
  },
  {
   "cell_type": "code",
   "execution_count": 3,
   "metadata": {},
   "outputs": [],
   "source": [
    "notebook_name = 'regular_EQL_magdirection_IM.ipynb'"
   ]
  },
  {
   "cell_type": "markdown",
   "metadata": {},
   "source": [
    "#### Importing auxiliary functions"
   ]
  },
  {
   "cell_type": "code",
   "execution_count": 4,
   "metadata": {},
   "outputs": [],
   "source": [
    "dir_modules = '../../mypackage'\n",
    "sys.path.append(dir_modules)"
   ]
  },
  {
   "cell_type": "code",
   "execution_count": 5,
   "metadata": {},
   "outputs": [],
   "source": [
    "import auxiliary_functions as fc"
   ]
  },
  {
   "cell_type": "markdown",
   "metadata": {},
   "source": [
    "#### Loading properties of the model"
   ]
  },
  {
   "cell_type": "code",
   "execution_count": 6,
   "metadata": {},
   "outputs": [],
   "source": [
    "with open('data/model_prism.pickle') as f:\n",
    "        model_prism = pickle.load(f)"
   ]
  },
  {
   "cell_type": "markdown",
   "metadata": {},
   "source": [
    "#### Loading properties grid"
   ]
  },
  {
   "cell_type": "code",
   "execution_count": 7,
   "metadata": {},
   "outputs": [],
   "source": [
    "with open('data/regular_grid.pickle') as f:\n",
    "        reg_grid = pickle.load(f)"
   ]
  },
  {
   "cell_type": "markdown",
   "metadata": {},
   "source": [
    "#### Loading data"
   ]
  },
  {
   "cell_type": "code",
   "execution_count": 8,
   "metadata": {},
   "outputs": [],
   "source": [
    "with open('data/data_set.pickle') as f:\n",
    "        data = pickle.load(f)"
   ]
  },
  {
   "cell_type": "markdown",
   "metadata": {},
   "source": [
    "#### Open a dictionary"
   ]
  },
  {
   "cell_type": "code",
   "execution_count": 9,
   "metadata": {},
   "outputs": [],
   "source": [
    "result_IM_reg = dict()"
   ]
  },
  {
   "cell_type": "markdown",
   "metadata": {},
   "source": [
    "### Saving files"
   ]
  },
  {
   "cell_type": "code",
   "execution_count": 10,
   "metadata": {},
   "outputs": [],
   "source": [
    "saved_files = []"
   ]
  },
  {
   "cell_type": "markdown",
   "metadata": {},
   "source": [
    "## Observation area"
   ]
  },
  {
   "cell_type": "code",
   "execution_count": 11,
   "metadata": {},
   "outputs": [
    {
     "name": "stdout",
     "output_type": "stream",
     "text": [
      "Area limits: \n",
      " x_max = 6000.0 m \n",
      " x_min = -6000.0 m \n",
      " y_max = 6000.0 m \n",
      " y_min = -6000.0 m\n"
     ]
    }
   ],
   "source": [
    "print 'Area limits: \\n x_max = %.1f m \\n x_min = %.1f m \\n y_max = %.1f m \\n y_min = %.1f m' % (reg_grid['area'][1], \n",
    "                                                                                                reg_grid['area'][0],\n",
    "                                                                                                reg_grid['area'][3],\n",
    "                                                                                                reg_grid['area'][2])"
   ]
  },
  {
   "cell_type": "markdown",
   "metadata": {},
   "source": [
    "### reg_grid survey information"
   ]
  },
  {
   "cell_type": "code",
   "execution_count": 12,
   "metadata": {},
   "outputs": [
    {
     "name": "stdout",
     "output_type": "stream",
     "text": [
      "Shape : (25,25)\n",
      "Number of data: 625.0\n",
      "dx: 500.0 m\n",
      "dy: 500.0 m \n"
     ]
    }
   ],
   "source": [
    "print 'Shape : (%.0f,%.0f)'% reg_grid['shape'] \n",
    "print 'Number of data: %.1f' % reg_grid['N']\n",
    "print 'dx: %.1f m' % reg_grid['dx']\n",
    "print 'dy: %.1f m ' % reg_grid['dy']"
   ]
  },
  {
   "cell_type": "markdown",
   "metadata": {},
   "source": [
    "## Properties of the model"
   ]
  },
  {
   "cell_type": "markdown",
   "metadata": {},
   "source": [
    "### Main field"
   ]
  },
  {
   "cell_type": "code",
   "execution_count": 13,
   "metadata": {},
   "outputs": [],
   "source": [
    "inc_gf,dec_gf = model_prism['main_field']"
   ]
  },
  {
   "cell_type": "code",
   "execution_count": 14,
   "metadata": {},
   "outputs": [
    {
     "name": "stdout",
     "output_type": "stream",
     "text": [
      "Main field inclination: 20.0 degree\n",
      "Main field declination: 20.0 degree\n"
     ]
    }
   ],
   "source": [
    "print'Main field inclination: %.1f degree' % inc_gf\n",
    "print'Main field declination: %.1f degree' % dec_gf"
   ]
  },
  {
   "cell_type": "markdown",
   "metadata": {},
   "source": [
    "### Magnetization direction"
   ]
  },
  {
   "cell_type": "code",
   "execution_count": 15,
   "metadata": {},
   "outputs": [
    {
     "name": "stdout",
     "output_type": "stream",
     "text": [
      "Intensity: 5.0 A/m\n",
      "Inclination: 20.0 degree\n",
      "Declination: 20.0 degree\n"
     ]
    }
   ],
   "source": [
    "print 'Intensity: %.1f A/m' % model_prism['m_I']\n",
    "print 'Inclination: %.1f degree' % model_prism['inc_I']\n",
    "print 'Declination: %.1f degree' % model_prism['dec_I']"
   ]
  },
  {
   "cell_type": "code",
   "execution_count": 16,
   "metadata": {},
   "outputs": [],
   "source": [
    "inc_I,dec_I = model_prism['inc_I'],model_prism['dec_I']"
   ]
  },
  {
   "cell_type": "markdown",
   "metadata": {},
   "source": [
    "## Generating the layer with my function "
   ]
  },
  {
   "cell_type": "code",
   "execution_count": 17,
   "metadata": {},
   "outputs": [],
   "source": [
    "h = 1000."
   ]
  },
  {
   "cell_type": "markdown",
   "metadata": {},
   "source": [
    "#### Generating a layer"
   ]
  },
  {
   "cell_type": "code",
   "execution_count": 18,
   "metadata": {},
   "outputs": [],
   "source": [
    "shape_layer = (reg_grid['shape'][0],reg_grid['shape'][1])"
   ]
  },
  {
   "cell_type": "code",
   "execution_count": 19,
   "metadata": {},
   "outputs": [],
   "source": [
    "xs,ys,zs = regular(reg_grid['area'],shape_layer,h)"
   ]
  },
  {
   "cell_type": "markdown",
   "metadata": {},
   "source": [
    "### Levenberg-Marquardt with NNLS for positive magnetic moments"
   ]
  },
  {
   "cell_type": "code",
   "execution_count": 20,
   "metadata": {},
   "outputs": [],
   "source": [
    "i_pos = 1500"
   ]
  },
  {
   "cell_type": "code",
   "execution_count": 21,
   "metadata": {},
   "outputs": [],
   "source": [
    "it_max = 30"
   ]
  },
  {
   "cell_type": "code",
   "execution_count": 22,
   "metadata": {},
   "outputs": [],
   "source": [
    "it_marq = 15"
   ]
  },
  {
   "cell_type": "code",
   "execution_count": 23,
   "metadata": {},
   "outputs": [],
   "source": [
    "lamb = 10.\n",
    "dlamb = 100."
   ]
  },
  {
   "cell_type": "code",
   "execution_count": 24,
   "metadata": {},
   "outputs": [],
   "source": [
    "eps_e = 1e-5\n",
    "eps_i = 1e-5"
   ]
  },
  {
   "cell_type": "code",
   "execution_count": null,
   "metadata": {},
   "outputs": [],
   "source": [
    "mu_pos = 1e2"
   ]
  },
  {
   "cell_type": "code",
   "execution_count": null,
   "metadata": {},
   "outputs": [
    {
     "name": "stdout",
     "output_type": "stream",
     "text": [
      "i = 0\n",
      "-5.3405945749 -2.50338519736\n",
      "0.294280185292\n",
      "i = 1\n",
      "-1.13466414315 2.68884389683\n",
      "0.289726744711\n",
      "i = 2\n",
      "2.15760590971 6.10720341455\n",
      "0.228212224584\n",
      "i = 3\n",
      "4.68223418238 8.60616413081\n",
      "0.169944405849\n",
      "i = 4\n",
      "6.65166053872 10.4556995488\n",
      "0.121984864312\n",
      "i = 5\n",
      "8.21481616254 11.7926434808\n",
      "0.0860454996612\n",
      "i = 6\n",
      "9.48969565897 12.7896066071\n",
      "0.0609000947076\n",
      "i = 7\n",
      "10.5458120558 13.5175593179\n",
      "0.0429856553461\n",
      "i = 8\n",
      "11.4296895903 14.0249907177\n",
      "0.0302235958594\n",
      "i = 9\n",
      "12.1847089816 14.4190275333\n",
      "0.0224188595247\n",
      "i = 10\n",
      "12.8360803303 14.7228404533\n",
      "0.0168138305887\n",
      "i = 11\n",
      "13.4052238967 14.9597283905\n",
      "0.0128913719988\n",
      "i = 12\n",
      "13.9083694233 15.1452395001\n",
      "0.0100938583041\n",
      "i = 13\n",
      "14.3610052047 15.2911299974\n",
      "0.0081737929564\n",
      "i = 14\n",
      "14.7727477371 15.4051933503\n",
      "0.00676457533165\n",
      "i = 15\n",
      "15.1488161281 15.4932010447\n",
      "0.0056439531467\n",
      "i = 16\n",
      "15.4934913168 15.5601176322\n",
      "0.00474282355874\n",
      "i = 17\n",
      "15.8102494442 15.6093735905\n",
      "0.00400767953051\n",
      "i = 18\n",
      "16.1023265405 15.644778695\n",
      "0.00341050124134\n",
      "i = 19\n",
      "16.372172681 15.668927496\n",
      "0.00291424673176\n",
      "i = 20\n",
      "16.6216042091 15.6832375929\n",
      "0.00249302305048\n",
      "i = 21\n",
      "16.8528215249 15.6905175619\n",
      "0.00214514128327\n",
      "i = 22\n",
      "17.0665905724 15.6882686738\n",
      "0.00183731969257\n",
      "i = 23\n",
      "17.2645773693 15.678323298\n",
      "0.00158035057701\n",
      "i = 24\n"
     ]
    }
   ],
   "source": [
    "m_LM,inc_est,dec_est,phi,imax,pest,incs,decs = fc.levenberg_marquardt_NNLS(\n",
    "    data['tfa_obs_prism_IM_reg'],reg_grid['x'],reg_grid['y'],\n",
    "    reg_grid['z'],xs,ys,zs,inc_gf,dec_gf,-10.,-10.,lamb,dlamb,i_pos,it_max,\n",
    "    it_marq,eps_e,eps_i,mu_pos)"
   ]
  },
  {
   "cell_type": "markdown",
   "metadata": {},
   "source": [
    "### Visualization of the convergence"
   ]
  },
  {
   "cell_type": "code",
   "execution_count": null,
   "metadata": {},
   "outputs": [],
   "source": [
    "phi = (np.array(phi)/reg_grid['x'].size)"
   ]
  },
  {
   "cell_type": "code",
   "execution_count": null,
   "metadata": {},
   "outputs": [],
   "source": [
    "title_font = 20\n",
    "bottom_font = 18\n",
    "saturation_factor = 1.\n",
    "plt.close('all')\n",
    "plt.figure(figsize=(9,9), tight_layout=True)\n",
    "\n",
    "plt.figure(figsize=(10, 10))\n",
    "plt.plot(phi, 'b--')\n",
    "plt.plot(phi, 'b.')\n",
    "\n",
    "plt.title('Convergence analysis', fontsize=title_font)\n",
    "plt.xlabel('iteration', fontsize = title_font)\n",
    "plt.ylabel('$\\phi$', fontsize = title_font)\n",
    "plt.tick_params(axis='both', which='major', labelsize=15)\n",
    "\n",
    "file_name = 'figs/regular/convergence_LM_NNLS_magIM'\n",
    "plt.savefig(file_name+'.png',dpi=300)\n",
    "saved_files.append(file_name+'.png')\n",
    "\n",
    "plt.savefig(file_name+'.eps',dpi=300)\n",
    "saved_files.append(file_name+'.eps')\n",
    "\n",
    "\n",
    "plt.show()"
   ]
  },
  {
   "cell_type": "markdown",
   "metadata": {},
   "source": [
    "### Estimated magnetization direction"
   ]
  },
  {
   "cell_type": "code",
   "execution_count": null,
   "metadata": {},
   "outputs": [],
   "source": [
    "print (inc_est,dec_est)"
   ]
  },
  {
   "cell_type": "code",
   "execution_count": null,
   "metadata": {},
   "outputs": [],
   "source": [
    "print (inc_I,dec_I)"
   ]
  },
  {
   "cell_type": "markdown",
   "metadata": {},
   "source": [
    "### Comparison between observed data and predicted data"
   ]
  },
  {
   "cell_type": "code",
   "execution_count": null,
   "metadata": {},
   "outputs": [],
   "source": [
    "pred = fc.tfa_layer(reg_grid['x'],reg_grid['y'],reg_grid['z'],\n",
    "                    xs,ys,zs,inc_gf,dec_gf,m_LM,inc_est,dec_est)"
   ]
  },
  {
   "cell_type": "code",
   "execution_count": null,
   "metadata": {},
   "outputs": [],
   "source": [
    "res = pred - data['tfa_obs_prism_IM_reg']"
   ]
  },
  {
   "cell_type": "code",
   "execution_count": null,
   "metadata": {},
   "outputs": [],
   "source": [
    "r_norm,r_mean,r_std = fc.residual(data['tfa_obs_prism_IM_reg'],pred)"
   ]
  },
  {
   "cell_type": "code",
   "execution_count": null,
   "metadata": {},
   "outputs": [],
   "source": [
    "title_font = 18\n",
    "bottom_font = 15\n",
    "saturation_factor = 1.\n",
    "plt.close('all')\n",
    "plt.figure(figsize=(15,15), tight_layout=True)\n",
    "\n",
    "ranges = saturation_factor*np.abs([data['tfa_obs_prism_IM_reg'].max(), \n",
    "                                   data['tfa_obs_prism_IM_reg'].min(),\n",
    "                                   pred.max(), pred.min()]).max()\n",
    "res_ranges = np.max(np.abs(res))\n",
    "\n",
    "plt.subplot(2,2,1)\n",
    "plt.contourf(reg_grid['y'].reshape(reg_grid['shape']),\n",
    "             reg_grid['x'].reshape(reg_grid['shape']), \n",
    "             data['tfa_obs_prism_IM_reg'].reshape(reg_grid['shape']),\n",
    "             20, cmap='viridis',vmin=-ranges, vmax=ranges)\n",
    "plt.colorbar(pad=0.01, aspect=40, shrink=1.0).set_label('nT',size=bottom_font)\n",
    "plt.xlabel('y (m)', fontsize = title_font)\n",
    "plt.ylabel('x (m)', fontsize = title_font)\n",
    "plt.title('(a) TFA (model_IM)',fontsize=title_font)\n",
    "plt.tick_params(axis='both', which='major', labelsize=12)\n",
    "\n",
    "plt.subplot(2,2,2)\n",
    "plt.contourf(reg_grid['y'].reshape(reg_grid['shape']),\n",
    "             reg_grid['x'].reshape(reg_grid['shape']),\n",
    "             pred.reshape(reg_grid['shape']),\n",
    "             20, cmap='viridis',  vmin=-ranges, vmax=ranges)\n",
    "plt.colorbar(pad=0.01, aspect=40, shrink=1.0).set_label('nT',size=bottom_font)\n",
    "plt.xlabel('y (m)', fontsize = title_font)\n",
    "plt.ylabel('x (m)', fontsize = title_font)\n",
    "plt.title('(b) TFA (Layer)', fontsize=title_font)\n",
    "plt.tick_params(axis='both', which='major', labelsize=12)\n",
    "\n",
    "plt.subplot(2,2,3)\n",
    "plt.contourf(reg_grid['y'].reshape(reg_grid['shape']),\n",
    "             reg_grid['x'].reshape(reg_grid['shape']),\n",
    "             res.reshape(reg_grid['shape']), \n",
    "             20, cmap='viridis',  vmin=-res_ranges, vmax=res_ranges)\n",
    "plt.colorbar(pad=0.01, aspect=40, shrink=1.0).set_label('nT',size=bottom_font)\n",
    "plt.xlabel('y (m)', fontsize = title_font)\n",
    "plt.ylabel('x (m)', fontsize = title_font)\n",
    "plt.title('(c) Residual map', fontsize=title_font)\n",
    "plt.tick_params(axis='both', which='major', labelsize=12)\n",
    "\n",
    "\n",
    "plt.subplot(2,2,4)\n",
    "plt.xlabel('$\\mu$ = %.3f | $\\sigma$ = %.3f nT' % (r_mean, r_std),\n",
    "           fontsize = bottom_font)\n",
    "nbins = int((np.max(r_norm - np.min(r_norm))))\n",
    "plt.hist(r_norm,bins=nbins,normed=True)\n",
    "plt.ylim(0.,1.)\n",
    "plt.xlim(-10., 10.)\n",
    "plt.title('(d) Normalized Histogram',fontsize=title_font)\n",
    "plt.tick_params(axis='both', which='major', labelsize=12)\n",
    "\n",
    "file_name = 'figs/regular/data_fitting_LM_NNLS_magIM'\n",
    "plt.savefig(file_name+'.png',dpi=300)\n",
    "saved_files.append(file_name+'.png')\n",
    "\n",
    "plt.savefig(file_name+'.eps',dpi=300)\n",
    "saved_files.append(file_name+'.eps')\n",
    "\n",
    "\n",
    "plt.show()"
   ]
  },
  {
   "cell_type": "markdown",
   "metadata": {},
   "source": [
    "### Estimated magnetic moment within the layer"
   ]
  },
  {
   "cell_type": "code",
   "execution_count": null,
   "metadata": {},
   "outputs": [],
   "source": [
    "title_font = 20\n",
    "bottom_font = 18\n",
    "saturation_factor = 1.\n",
    "plt.close('all')\n",
    "plt.figure(figsize=(9,9), tight_layout=True)\n",
    "\n",
    "plt.contourf(ys.reshape(shape_layer),xs.reshape(shape_layer), \n",
    "             m_LM.reshape(shape_layer), 20, cmap='viridis')\n",
    "plt.colorbar(pad=0.01, aspect=40, shrink=1.0).set_label('$A.m^2$',size=bottom_font)\n",
    "plt.xlabel('y (m)', fontsize = title_font)\n",
    "plt.ylabel('x (m)', fontsize = title_font)\n",
    "plt.title('Magnetic moment (layer)', fontsize=title_font)\n",
    "\n",
    "file_name = 'figs/regular/magnetic_moment_positive_LM_NNLS_magIM'\n",
    "plt.savefig(file_name+'.png',dpi=300)\n",
    "saved_files.append(file_name+'.png')\n",
    "\n",
    "plt.savefig(file_name+'.eps',dpi=300)\n",
    "saved_files.append(file_name+'.eps')\n",
    "\n",
    "\n",
    "plt.show()"
   ]
  },
  {
   "cell_type": "markdown",
   "metadata": {},
   "source": [
    "### Reduction to the pole"
   ]
  },
  {
   "cell_type": "code",
   "execution_count": null,
   "metadata": {},
   "outputs": [],
   "source": [
    "G_rtp = fc.sensitivity_mag(reg_grid['x'],reg_grid['y'],reg_grid['z'],\n",
    "                       xs,ys,zs,90.,0.,90.,0.)"
   ]
  },
  {
   "cell_type": "code",
   "execution_count": null,
   "metadata": {},
   "outputs": [],
   "source": [
    "tfa_rtp = np.dot(G_rtp,m_LM)"
   ]
  },
  {
   "cell_type": "markdown",
   "metadata": {},
   "source": [
    "#### Visualization of a reduction to the pole"
   ]
  },
  {
   "cell_type": "code",
   "execution_count": null,
   "metadata": {},
   "outputs": [],
   "source": [
    "title_font = 20\n",
    "bottom_font = 18\n",
    "saturation_factor = 1.\n",
    "plt.close('all')\n",
    "plt.figure(figsize=(9,9), tight_layout=True)\n",
    "\n",
    "plt.contourf(reg_grid['y'].reshape(reg_grid['shape']), \n",
    "             reg_grid['x'].reshape(reg_grid['shape']),\n",
    "             tfa_rtp.reshape(reg_grid['shape']), \n",
    "             20, cmap='inferno')\n",
    "plt.colorbar(pad=0.01, aspect=40, shrink=1.0).set_label('nT',size=bottom_font)\n",
    "plt.xlabel('y (m)', fontsize = title_font)\n",
    "plt.ylabel('x (m)', fontsize = title_font)\n",
    "plt.title('TFA (RTP)', fontsize=title_font)\n",
    "plt.tick_params(axis='both', which='major', labelsize=12)\n",
    "\n",
    "file_name = 'figs/regular/RTP_reg_grid_magIM'\n",
    "plt.savefig(file_name+'.png',dpi=300)\n",
    "saved_files.append(file_name+'.png')\n",
    "\n",
    "plt.savefig(file_name+'.eps',dpi=300)\n",
    "saved_files.append(file_name+'.eps')\n",
    "\n",
    "plt.show()"
   ]
  },
  {
   "cell_type": "markdown",
   "metadata": {},
   "source": [
    "# Visualization of the RTP and Magnetic moment over the layer"
   ]
  },
  {
   "cell_type": "code",
   "execution_count": null,
   "metadata": {},
   "outputs": [],
   "source": [
    "title_font = 18\n",
    "bottom_font = 15\n",
    "plt.close('all')\n",
    "plt.figure(figsize=(20,10), tight_layout=True)\n",
    "\n",
    "plt.subplot(1,2,1)\n",
    "plt.tricontourf(ys,xs,m_LM,20,cmap='viridis')\n",
    "plt.colorbar(pad=0.01, aspect=40, shrink=1.0).set_label('$A.m^2$',size=bottom_font)\n",
    "plt.xlabel('y (m)', fontsize = title_font)\n",
    "plt.ylabel('x (m)', fontsize = title_font)\n",
    "plt.title('(a) Magnetic moment (layer)', fontsize=title_font)\n",
    "plt.tick_params(axis='both', which='major', labelsize=12)\n",
    "\n",
    "plt.subplot(1,2,2)\n",
    "plt.tricontourf(reg_grid['y'],reg_grid['x'], tfa_rtp, 20, cmap='inferno')\n",
    "plt.colorbar(pad=0.01, aspect=40, shrink=1.0).set_label('nT',size=bottom_font)\n",
    "plt.xlabel('y (m)', fontsize = title_font)\n",
    "plt.ylabel('x (m)', fontsize = title_font)\n",
    "plt.title('(b) TFA (RTP)', fontsize=title_font)\n",
    "plt.tick_params(axis='both', which='major', labelsize=12)\n",
    "\n",
    "file_name = 'figs/regular/RTP_moment_LM_NNLS_IM'\n",
    "plt.savefig(file_name+'.png',dpi=300)\n",
    "saved_files.append(file_name+'.png')\n",
    "\n",
    "plt.savefig(file_name+'.eps',dpi=300)\n",
    "saved_files.append(file_name+'.eps')\n",
    "\n",
    "plt.show()"
   ]
  },
  {
   "cell_type": "markdown",
   "metadata": {},
   "source": [
    "## Comparison between the RTP Calculated by equivalent layer and the true RTP field"
   ]
  },
  {
   "cell_type": "code",
   "execution_count": null,
   "metadata": {},
   "outputs": [],
   "source": [
    "r_rtp = tfa_rtp - data['tfa_obs_prism_PL_reg']"
   ]
  },
  {
   "cell_type": "code",
   "execution_count": null,
   "metadata": {},
   "outputs": [],
   "source": [
    "r_norm,r_mean,r_std = fc.residual(tfa_rtp,data['tfa_obs_prism_PL_reg'])"
   ]
  },
  {
   "cell_type": "code",
   "execution_count": null,
   "metadata": {},
   "outputs": [],
   "source": [
    "title_font = 20\n",
    "bottom_font = 18\n",
    "saturation_factor = 1.\n",
    "plt.close('all')\n",
    "plt.figure(figsize=(18,18), tight_layout=True)\n",
    "\n",
    "ranges = saturation_factor*np.abs([tfa_rtp.max(), tfa_rtp.min(),\n",
    "                                   data['tfa_obs_prism_PL_reg'].max(), data['tfa_obs_prism_PL_reg'].min()]).max()\n",
    "\n",
    "r_ranges = saturation_factor*np.abs([r_rtp.max(), r_rtp.min()]).max()\n",
    "\n",
    "\n",
    "plt.subplot(2,2,1)\n",
    "plt.contourf(reg_grid['y'].reshape(reg_grid['shape']),\n",
    "             reg_grid['x'].reshape(reg_grid['shape']), \n",
    "             tfa_rtp.reshape(reg_grid['shape']),\n",
    "             20, cmap='viridis',vmin=-ranges, vmax=ranges)\n",
    "plt.colorbar(pad=0.01, aspect=40, shrink=1.0).set_label('nT',size=bottom_font) \n",
    "plt.xlabel('y (m)', fontsize = title_font)\n",
    "plt.ylabel('x (m)', fontsize = title_font)\n",
    "plt.title('(a) RTP (Layer) ', fontsize=title_font)\n",
    "plt.tick_params(axis='both', which='major', labelsize=15)\n",
    "\n",
    "plt.subplot(2,2,2)\n",
    "plt.contourf(reg_grid['y'].reshape(reg_grid['shape']),\n",
    "             reg_grid['x'].reshape(reg_grid['shape']),\n",
    "             data['tfa_obs_prism_PL_reg'].reshape(reg_grid['shape']),\n",
    "             20, cmap='viridis',  vmin=-ranges, vmax=ranges)\n",
    "plt.colorbar(pad=0.01, aspect=40, shrink=1.0).set_label('nT',size=bottom_font)\n",
    "plt.xlabel('y (m)', fontsize = title_font)\n",
    "plt.ylabel('x (m)', fontsize = title_font)\n",
    "plt.title('(b) RTP (True)', fontsize=title_font)\n",
    "plt.tick_params(axis='both', which='major', labelsize=15)\n",
    "\n",
    "plt.subplot(2,2,3)\n",
    "plt.contourf(reg_grid['y'].reshape(reg_grid['shape']),\n",
    "             reg_grid['x'].reshape(reg_grid['shape']),\n",
    "             r_rtp.reshape(reg_grid['shape']), \n",
    "             20, cmap='viridis',  vmin=-r_ranges, vmax=r_ranges)\n",
    "plt.colorbar(pad=0.01, aspect=40, shrink=1.0).set_label('nT',size=bottom_font)\n",
    "plt.xlabel('y (m)', fontsize = title_font)\n",
    "plt.ylabel('x (m)', fontsize = title_font)\n",
    "plt.title('(c) Residual map', fontsize=title_font)\n",
    "plt.tick_params(axis='both', which='major', labelsize=15)\n",
    "\n",
    "\n",
    "plt.subplot(2,2,4)\n",
    "plt.xlabel('$\\mu$ = %.3f | $\\sigma$ = %.3f nT' % (r_mean, r_std),\n",
    "           fontsize = bottom_font)\n",
    "nbins = int((np.max(r_norm - np.min(r_norm))))\n",
    "plt.hist(r_norm,bins=nbins,normed=True)\n",
    "plt.ylim(0.,1.)\n",
    "plt.xlim(-10., 10.)\n",
    "plt.title('(d) Normalized Histogram',fontsize=title_font)\n",
    "plt.tick_params(axis='both', which='major', labelsize=12)\n",
    "\n",
    "file_name = 'figs/regular/rtp_layer_true'\n",
    "plt.savefig(file_name+'.png',dpi=300)\n",
    "saved_files.append(file_name+'.png')\n",
    "\n",
    "plt.savefig(file_name+'.eps',dpi=300)\n",
    "saved_files.append(file_name+'.eps')\n",
    "\n",
    "plt.show()"
   ]
  },
  {
   "cell_type": "markdown",
   "metadata": {},
   "source": [
    "### Results"
   ]
  },
  {
   "cell_type": "code",
   "execution_count": null,
   "metadata": {},
   "outputs": [],
   "source": [
    "result_IM_reg['magnetic_moment'] = m_LM\n",
    "result_IM_reg['inc_est'] = inc_est\n",
    "result_IM_reg['dec_est'] = dec_est\n",
    "result_IM_reg['layer_depth'] = h\n",
    "result_IM_reg['reg_patameter'] = mu_pos\n",
    "result_IM_reg['RTP'] = tfa_rtp\n",
    "result_IM_reg['tfa_predicted'] = pred"
   ]
  },
  {
   "cell_type": "markdown",
   "metadata": {},
   "source": [
    "#### Generating .pickle file"
   ]
  },
  {
   "cell_type": "code",
   "execution_count": null,
   "metadata": {},
   "outputs": [],
   "source": [
    "now = datetime.datetime.utcnow().strftime('%d %B %Y %H:%M:%S UTC')\n",
    "result_IM_reg['metadata'] = 'Generated by {name} on {date}'.format(date=now, name=notebook_name)"
   ]
  },
  {
   "cell_type": "code",
   "execution_count": null,
   "metadata": {},
   "outputs": [],
   "source": [
    "file_name = 'data/result_IM_reg.pickle'\n",
    "with open(file_name, 'w') as f:\n",
    "    pickle.dump(result_IM_reg, f)\n",
    "    \n",
    "saved_files.append(file_name)\n"
   ]
  },
  {
   "cell_type": "markdown",
   "metadata": {},
   "source": [
    "### Saved files"
   ]
  },
  {
   "cell_type": "code",
   "execution_count": null,
   "metadata": {},
   "outputs": [],
   "source": [
    "with open('reports/report_%s.md' % notebook_name[:st.index(notebook_name, '.')], 'w') as q:\n",
    "    q.write('# Saved files \\n')\n",
    "    now = datetime.datetime.utcnow().strftime('%d %B %Y %H:%M:%S UTC')\n",
    "    header = 'Generated by {name} on {date}'.format(date=now, name=notebook_name)\n",
    "    q.write('\\n\\n'+header+'\\n\\n')\n",
    "    for i, sf in enumerate(saved_files):\n",
    "        print '%d  %s' % (i+1,sf)\n",
    "        q.write('*  `%s` \\n' % (sf))"
   ]
  },
  {
   "cell_type": "code",
   "execution_count": null,
   "metadata": {},
   "outputs": [],
   "source": []
  },
  {
   "cell_type": "code",
   "execution_count": null,
   "metadata": {},
   "outputs": [],
   "source": []
  }
 ],
 "metadata": {
  "kernelspec": {
   "display_name": "Python 2",
   "language": "python",
   "name": "python2"
  },
  "language_info": {
   "codemirror_mode": {
    "name": "ipython",
    "version": 2
   },
   "file_extension": ".py",
   "mimetype": "text/x-python",
   "name": "python",
   "nbconvert_exporter": "python",
   "pygments_lexer": "ipython2",
   "version": "2.7.14"
  }
 },
 "nbformat": 4,
 "nbformat_minor": 2
}
