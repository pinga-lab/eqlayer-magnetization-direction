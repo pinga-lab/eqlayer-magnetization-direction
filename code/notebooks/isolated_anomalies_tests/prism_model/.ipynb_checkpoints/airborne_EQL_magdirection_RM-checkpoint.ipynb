{
 "cells": [
  {
   "cell_type": "markdown",
   "metadata": {},
   "source": [
    "# Equivalent layer technique for estimating total magnetization direction using airborne survey"
   ]
  },
  {
   "cell_type": "markdown",
   "metadata": {},
   "source": [
    "#### Importing libraries"
   ]
  },
  {
   "cell_type": "code",
   "execution_count": null,
   "metadata": {},
   "outputs": [],
   "source": [
    "% matplotlib inline "
   ]
  },
  {
   "cell_type": "code",
   "execution_count": null,
   "metadata": {},
   "outputs": [],
   "source": [
    "import sys\n",
    "import numpy as np\n",
    "import matplotlib.pyplot as plt\n",
    "import cPickle as pickle\n",
    "import datetime\n",
    "import timeit\n",
    "import string as st\n",
    "from scipy.optimize import nnls\n",
    "from fatiando.gridder import regular\n",
    "from fatiando.utils import ang2vec, vec2ang\n",
    "from fatiando.mesher import Sphere, PointGrid,Prism\n",
    "from fatiando.gravmag import sphere,prism\n",
    "from fatiando.constants import CM, T2NT, G, SI2MGAL"
   ]
  },
  {
   "cell_type": "code",
   "execution_count": null,
   "metadata": {},
   "outputs": [],
   "source": [
    "notebook_name = 'airborne_EQL_magdirection_RM.ipynb'"
   ]
  },
  {
   "cell_type": "markdown",
   "metadata": {},
   "source": [
    "#### Importing auxiliary functions"
   ]
  },
  {
   "cell_type": "code",
   "execution_count": null,
   "metadata": {},
   "outputs": [],
   "source": [
    "dir_modules = '../../mypackage'\n",
    "sys.path.append(dir_modules)"
   ]
  },
  {
   "cell_type": "code",
   "execution_count": null,
   "metadata": {},
   "outputs": [],
   "source": [
    "import auxiliary_functions as fc"
   ]
  },
  {
   "cell_type": "markdown",
   "metadata": {},
   "source": [
    "#### Loading properties of the model"
   ]
  },
  {
   "cell_type": "code",
   "execution_count": null,
   "metadata": {},
   "outputs": [],
   "source": [
    "with open('data/model_prism.pickle') as f:\n",
    "        model_prism = pickle.load(f)"
   ]
  },
  {
   "cell_type": "markdown",
   "metadata": {},
   "source": [
    "#### Loading properties grid"
   ]
  },
  {
   "cell_type": "code",
   "execution_count": null,
   "metadata": {},
   "outputs": [],
   "source": [
    "with open('data/airborne_survey.pickle') as f:\n",
    "        airborne = pickle.load(f)"
   ]
  },
  {
   "cell_type": "markdown",
   "metadata": {},
   "source": [
    "#### Loading data"
   ]
  },
  {
   "cell_type": "code",
   "execution_count": null,
   "metadata": {},
   "outputs": [],
   "source": [
    "with open('data/data_set.pickle') as f:\n",
    "        data = pickle.load(f)"
   ]
  },
  {
   "cell_type": "markdown",
   "metadata": {},
   "source": [
    "#### Open a dictionary"
   ]
  },
  {
   "cell_type": "code",
   "execution_count": null,
   "metadata": {},
   "outputs": [],
   "source": [
    "result_RM_airb = dict()"
   ]
  },
  {
   "cell_type": "markdown",
   "metadata": {},
   "source": [
    "### Saving files"
   ]
  },
  {
   "cell_type": "code",
   "execution_count": null,
   "metadata": {},
   "outputs": [],
   "source": [
    "saved_files = []"
   ]
  },
  {
   "cell_type": "markdown",
   "metadata": {},
   "source": [
    "## Observation area"
   ]
  },
  {
   "cell_type": "code",
   "execution_count": null,
   "metadata": {},
   "outputs": [],
   "source": [
    "print 'Area limits: \\n x_max = %.1f m \\n x_min = %.1f m \\n y_max = %.1f m \\n y_min = %.1f m' % (airborne['area'][1], \n",
    "                                                                                                airborne['area'][0],\n",
    "                                                                                                airborne['area'][3],\n",
    "                                                                                                airborne['area'][2])"
   ]
  },
  {
   "cell_type": "markdown",
   "metadata": {},
   "source": [
    "### airborne survey information"
   ]
  },
  {
   "cell_type": "code",
   "execution_count": null,
   "metadata": {},
   "outputs": [],
   "source": [
    "print 'Shape : (%.0f,%.0f)'% airborne['shape'] \n",
    "print 'Number of data: %.1f' % airborne['N']\n",
    "print 'dx: %.1f m' % airborne['dx']\n",
    "print 'dy: %.1f m ' % airborne['dy']"
   ]
  },
  {
   "cell_type": "markdown",
   "metadata": {},
   "source": [
    "## Properties of the model"
   ]
  },
  {
   "cell_type": "markdown",
   "metadata": {},
   "source": [
    "### Main field"
   ]
  },
  {
   "cell_type": "code",
   "execution_count": null,
   "metadata": {},
   "outputs": [],
   "source": [
    "inc_gf,dec_gf = model_prism['main_field']"
   ]
  },
  {
   "cell_type": "code",
   "execution_count": null,
   "metadata": {},
   "outputs": [],
   "source": [
    "print'Main field inclination: %.1f degree' % inc_gf\n",
    "print'Main field declination: %.1f degree' % dec_gf"
   ]
  },
  {
   "cell_type": "markdown",
   "metadata": {},
   "source": [
    "### Magnetization direction"
   ]
  },
  {
   "cell_type": "code",
   "execution_count": null,
   "metadata": {},
   "outputs": [],
   "source": [
    "print 'Intensity: %.1f A/m' % model_prism['m_R']\n",
    "print 'Inclination: %.1f degree' % model_prism['inc_R']\n",
    "print 'Declination: %.1f degree' % model_prism['dec_R']"
   ]
  },
  {
   "cell_type": "code",
   "execution_count": null,
   "metadata": {},
   "outputs": [],
   "source": [
    "inc_R,dec_R = model_prism['inc_R'],model_prism['dec_R']"
   ]
  },
  {
   "cell_type": "markdown",
   "metadata": {},
   "source": [
    "## Generating the layer with my function "
   ]
  },
  {
   "cell_type": "code",
   "execution_count": null,
   "metadata": {},
   "outputs": [],
   "source": [
    "h = 1800."
   ]
  },
  {
   "cell_type": "markdown",
   "metadata": {},
   "source": [
    "#### Generating a layer"
   ]
  },
  {
   "cell_type": "code",
   "execution_count": null,
   "metadata": {},
   "outputs": [],
   "source": [
    "shape_layer = (airborne['shape'][0],airborne['shape'][1])"
   ]
  },
  {
   "cell_type": "code",
   "execution_count": null,
   "metadata": {},
   "outputs": [],
   "source": [
    "xs,ys,zs = regular(airborne['area'],shape_layer,h)"
   ]
  },
  {
   "cell_type": "markdown",
   "metadata": {},
   "source": [
    "### Levenberg-Marquardt with NNLS for positive magnetic moments"
   ]
  },
  {
   "cell_type": "code",
   "execution_count": null,
   "metadata": {},
   "outputs": [],
   "source": [
    "i_pos = 1500"
   ]
  },
  {
   "cell_type": "code",
   "execution_count": null,
   "metadata": {},
   "outputs": [],
   "source": [
    "it_max = 30"
   ]
  },
  {
   "cell_type": "code",
   "execution_count": null,
   "metadata": {},
   "outputs": [],
   "source": [
    "it_marq = 15"
   ]
  },
  {
   "cell_type": "code",
   "execution_count": null,
   "metadata": {},
   "outputs": [],
   "source": [
    "lamb = 10.\n",
    "dlamb = 100."
   ]
  },
  {
   "cell_type": "code",
   "execution_count": null,
   "metadata": {},
   "outputs": [],
   "source": [
    "eps_e = 1e-4\n",
    "eps_i = 1e-4"
   ]
  },
  {
   "cell_type": "code",
   "execution_count": null,
   "metadata": {},
   "outputs": [],
   "source": [
    "mu_pos = 1e4"
   ]
  },
  {
   "cell_type": "code",
   "execution_count": null,
   "metadata": {},
   "outputs": [],
   "source": [
    "m_LM,inc_est,dec_est,phi,imax,pest,incs,decs = fc.levenberg_marquardt_NNLS(\n",
    "    data['tfa_obs_prism_RM_airb'],airborne['x'],airborne['y'],\n",
    "    airborne['z'],xs,ys,zs,inc_gf,dec_gf,-10.,-10.,lamb,dlamb,i_pos,it_max,\n",
    "    it_marq,eps_e,eps_i,mu_pos)"
   ]
  },
  {
   "cell_type": "markdown",
   "metadata": {},
   "source": [
    "### Visualization of the convergence"
   ]
  },
  {
   "cell_type": "code",
   "execution_count": null,
   "metadata": {},
   "outputs": [],
   "source": [
    "phi = (np.array(phi)/airborne['x'].size)"
   ]
  },
  {
   "cell_type": "code",
   "execution_count": null,
   "metadata": {},
   "outputs": [],
   "source": [
    "title_font = 20\n",
    "bottom_font = 18\n",
    "saturation_factor = 1.\n",
    "plt.close('all')\n",
    "plt.figure(figsize=(9,9), tight_layout=True)\n",
    "\n",
    "plt.figure(figsize=(10, 10))\n",
    "plt.plot(phi, 'b--')\n",
    "plt.plot(phi, 'b.')\n",
    "\n",
    "plt.title('Convergence analysis', fontsize=title_font)\n",
    "plt.xlabel('iteration', fontsize = title_font)\n",
    "plt.ylabel('$\\phi$', fontsize = title_font)\n",
    "plt.tick_params(axis='both', which='major', labelsize=15)\n",
    "\n",
    "file_name = 'figs/airborne/convergence_LM_NNLS_magRM'\n",
    "plt.savefig(file_name+'.png',dpi=300)\n",
    "saved_files.append(file_name+'.png')\n",
    "\n",
    "plt.savefig(file_name+'.eps',dpi=300)\n",
    "saved_files.append(file_name+'.eps')\n",
    "\n",
    "\n",
    "plt.show()"
   ]
  },
  {
   "cell_type": "markdown",
   "metadata": {},
   "source": [
    "### Estimated magnetization direction"
   ]
  },
  {
   "cell_type": "code",
   "execution_count": null,
   "metadata": {},
   "outputs": [],
   "source": [
    "print (inc_est,dec_est)"
   ]
  },
  {
   "cell_type": "code",
   "execution_count": null,
   "metadata": {},
   "outputs": [],
   "source": [
    "print (inc_R,dec_R)"
   ]
  },
  {
   "cell_type": "markdown",
   "metadata": {},
   "source": [
    "### Comparison between observed data and predicted data"
   ]
  },
  {
   "cell_type": "code",
   "execution_count": null,
   "metadata": {},
   "outputs": [],
   "source": [
    "pred = fc.tfa_layer(airborne['x'],airborne['y'],airborne['z'],\n",
    "                    xs,ys,zs,inc_gf,dec_gf,m_LM,inc_est,dec_est)"
   ]
  },
  {
   "cell_type": "code",
   "execution_count": null,
   "metadata": {},
   "outputs": [],
   "source": [
    "res = pred - data['tfa_obs_prism_RM_airb']"
   ]
  },
  {
   "cell_type": "code",
   "execution_count": null,
   "metadata": {},
   "outputs": [],
   "source": [
    "r_norm,r_mean,r_std = fc.residual(data['tfa_obs_prism_RM_airb'],pred)"
   ]
  },
  {
   "cell_type": "code",
   "execution_count": null,
   "metadata": {},
   "outputs": [],
   "source": [
    "title_font = 18\n",
    "bottom_font = 15\n",
    "saturation_factor = 1.\n",
    "plt.close('all')\n",
    "plt.figure(figsize=(15,15), tight_layout=True)\n",
    "\n",
    "ranges = saturation_factor*np.abs([data['tfa_obs_prism_RM_airb'].max(), \n",
    "                                   data['tfa_obs_prism_RM_airb'].min(),\n",
    "                                   pred.max(), pred.min()]).max()\n",
    "res_ranges = np.max(np.abs(res))\n",
    "\n",
    "plt.subplot(2,2,1)\n",
    "plt.contourf(airborne['y'].reshape(airborne['shape']),\n",
    "             airborne['x'].reshape(airborne['shape']), \n",
    "             data['tfa_obs_prism_RM_airb'].reshape(airborne['shape']),\n",
    "             20, cmap='viridis',vmin=-ranges, vmax=ranges)\n",
    "plt.colorbar(pad=0.01, aspect=40, shrink=1.0).set_label('nT',size=bottom_font)\n",
    "plt.xlabel('y (m)', fontsize = title_font)\n",
    "plt.ylabel('x (m)', fontsize = title_font)\n",
    "plt.title('(a) TFA (model_RM)',fontsize=title_font)\n",
    "plt.tick_params(axis='both', which='major', labelsize=12)\n",
    "\n",
    "plt.subplot(2,2,2)\n",
    "plt.contourf(airborne['y'].reshape(airborne['shape']),\n",
    "             airborne['x'].reshape(airborne['shape']),\n",
    "             pred.reshape(airborne['shape']),\n",
    "             20, cmap='viridis',  vmin=-ranges, vmax=ranges)\n",
    "plt.colorbar(pad=0.01, aspect=40, shrink=1.0).set_label('nT',size=bottom_font)\n",
    "plt.xlabel('y (m)', fontsize = title_font)\n",
    "plt.ylabel('x (m)', fontsize = title_font)\n",
    "plt.title('(b) TFA (Layer)', fontsize=title_font)\n",
    "plt.tick_params(axis='both', which='major', labelsize=12)\n",
    "\n",
    "plt.subplot(2,2,3)\n",
    "plt.contourf(airborne['y'].reshape(airborne['shape']),\n",
    "             airborne['x'].reshape(airborne['shape']),\n",
    "             res.reshape(airborne['shape']), \n",
    "             20, cmap='viridis',  vmin=-res_ranges, vmax=res_ranges)\n",
    "plt.colorbar(pad=0.01, aspect=40, shrink=1.0).set_label('nT',size=bottom_font)\n",
    "plt.xlabel('y (m)', fontsize = title_font)\n",
    "plt.ylabel('x (m)', fontsize = title_font)\n",
    "plt.title('(c) Residual map', fontsize=title_font)\n",
    "plt.tick_params(axis='both', which='major', labelsize=12)\n",
    "\n",
    "\n",
    "plt.subplot(2,2,4)\n",
    "plt.xlabel('$\\mu$ = %.3f | $\\sigma$ = %.3f nT' % (r_mean, r_std),\n",
    "           fontsize = bottom_font)\n",
    "nbins = int((np.max(r_norm - np.min(r_norm))))\n",
    "plt.hist(r_norm,bins=nbins,normed=True)\n",
    "plt.ylim(0.,1.)\n",
    "plt.xlim(-10., 10.)\n",
    "plt.title('(d) Normalized Histogram',fontsize=title_font)\n",
    "plt.tick_params(axis='both', which='major', labelsize=12)\n",
    "\n",
    "file_name = 'figs/airborne/data_fitting_LM_NNLS_magRM'\n",
    "plt.savefig(file_name+'.png',dpi=300)\n",
    "saved_files.append(file_name+'.png')\n",
    "\n",
    "plt.savefig(file_name+'.eps',dpi=300)\n",
    "saved_files.append(file_name+'.eps')\n",
    "\n",
    "\n",
    "plt.show()"
   ]
  },
  {
   "cell_type": "markdown",
   "metadata": {},
   "source": [
    "### Estimated magnetic moment within the layer"
   ]
  },
  {
   "cell_type": "code",
   "execution_count": null,
   "metadata": {},
   "outputs": [],
   "source": [
    "title_font = 20\n",
    "bottom_font = 18\n",
    "saturation_factor = 1.\n",
    "plt.close('all')\n",
    "plt.figure(figsize=(9,9), tight_layout=True)\n",
    "\n",
    "plt.contourf(ys.reshape(shape_layer),xs.reshape(shape_layer), \n",
    "             m_LM.reshape(shape_layer), 20, cmap='viridis')\n",
    "plt.colorbar(pad=0.01, aspect=40, shrink=1.0).set_label('$A.m^2$',size=bottom_font)\n",
    "plt.xlabel('y (m)', fontsize = title_font)\n",
    "plt.ylabel('x (m)', fontsize = title_font)\n",
    "plt.title('Magnetic moment (layer)', fontsize=title_font)\n",
    "\n",
    "file_name = 'figs/airborne/magnetic_moment_positive_LM_NNLS_magRM'\n",
    "plt.savefig(file_name+'.png',dpi=300)\n",
    "saved_files.append(file_name+'.png')\n",
    "\n",
    "plt.savefig(file_name+'.eps',dpi=300)\n",
    "saved_files.append(file_name+'.eps')\n",
    "\n",
    "\n",
    "plt.show()"
   ]
  },
  {
   "cell_type": "markdown",
   "metadata": {},
   "source": [
    "### Reduction to the pole"
   ]
  },
  {
   "cell_type": "code",
   "execution_count": null,
   "metadata": {},
   "outputs": [],
   "source": [
    "G_rtp = fc.sensitivity_mag(airborne['x'],airborne['y'],airborne['z'],\n",
    "                       xs,ys,zs,90.,0.,90.,0.)"
   ]
  },
  {
   "cell_type": "code",
   "execution_count": null,
   "metadata": {},
   "outputs": [],
   "source": [
    "tfa_rtp = np.dot(G_rtp,m_LM)"
   ]
  },
  {
   "cell_type": "markdown",
   "metadata": {},
   "source": [
    "#### Visualization of a reduction to the pole"
   ]
  },
  {
   "cell_type": "code",
   "execution_count": null,
   "metadata": {},
   "outputs": [],
   "source": [
    "title_font = 20\n",
    "bottom_font = 18\n",
    "saturation_factor = 1.\n",
    "plt.close('all')\n",
    "plt.figure(figsize=(9,9), tight_layout=True)\n",
    "\n",
    "plt.contourf(airborne['y'].reshape(airborne['shape']), \n",
    "             airborne['x'].reshape(airborne['shape']),\n",
    "             tfa_rtp.reshape(airborne['shape']), \n",
    "             20, cmap='inferno')\n",
    "plt.colorbar(pad=0.01, aspect=40, shrink=1.0).set_label('nT',size=bottom_font)\n",
    "plt.xlabel('y (m)', fontsize = title_font)\n",
    "plt.ylabel('x (m)', fontsize = title_font)\n",
    "plt.title('TFA (RTP)', fontsize=title_font)\n",
    "plt.tick_params(axis='both', which='major', labelsize=12)\n",
    "\n",
    "file_name = 'figs/airborne/RTP_airborne_magRM'\n",
    "plt.savefig(file_name+'.png',dpi=300)\n",
    "saved_files.append(file_name+'.png')\n",
    "\n",
    "plt.savefig(file_name+'.eps',dpi=300)\n",
    "saved_files.append(file_name+'.eps')\n",
    "\n",
    "plt.show()"
   ]
  },
  {
   "cell_type": "markdown",
   "metadata": {},
   "source": [
    "# Visualization of the RTP and Magnetic moment over the layer"
   ]
  },
  {
   "cell_type": "code",
   "execution_count": null,
   "metadata": {},
   "outputs": [],
   "source": [
    "title_font = 18\n",
    "bottom_font = 15\n",
    "plt.close('all')\n",
    "plt.figure(figsize=(20,10), tight_layout=True)\n",
    "\n",
    "plt.subplot(1,2,1)\n",
    "plt.tricontourf(ys,xs,m_LM,20,cmap='viridis')\n",
    "plt.colorbar(pad=0.01, aspect=40, shrink=1.0).set_label('$A.m^2$',size=bottom_font)\n",
    "plt.xlabel('y (m)', fontsize = title_font)\n",
    "plt.ylabel('x (m)', fontsize = title_font)\n",
    "plt.title('(a) Magnetic moment (layer)', fontsize=title_font)\n",
    "plt.tick_params(axis='both', which='major', labelsize=12)\n",
    "\n",
    "plt.subplot(1,2,2)\n",
    "plt.tricontourf(airborne['y'],airborne['x'], tfa_rtp, 20, cmap='inferno')\n",
    "plt.colorbar(pad=0.01, aspect=40, shrink=1.0).set_label('nT',size=bottom_font)\n",
    "plt.xlabel('y (m)', fontsize = title_font)\n",
    "plt.ylabel('x (m)', fontsize = title_font)\n",
    "plt.title('(b) TFA (RTP)', fontsize=title_font)\n",
    "plt.tick_params(axis='both', which='major', labelsize=12)\n",
    "\n",
    "file_name = 'figs/airborne/RTP_moment_LM_NNLS_RM'\n",
    "plt.savefig(file_name+'.png',dpi=300)\n",
    "saved_files.append(file_name+'.png')\n",
    "\n",
    "plt.savefig(file_name+'.eps',dpi=300)\n",
    "saved_files.append(file_name+'.eps')\n",
    "\n",
    "plt.show()"
   ]
  },
  {
   "cell_type": "markdown",
   "metadata": {},
   "source": [
    "## Comparison between the RTP Calculated by equivalent layer and the true RTP field"
   ]
  },
  {
   "cell_type": "code",
   "execution_count": null,
   "metadata": {},
   "outputs": [],
   "source": [
    "r_rtp = tfa_rtp - data['tfa_obs_prism_PL_airb']"
   ]
  },
  {
   "cell_type": "code",
   "execution_count": null,
   "metadata": {},
   "outputs": [],
   "source": [
    "r_norm,r_mean,r_std = fc.residual(tfa_rtp,data['tfa_obs_prism_PL_airb'])"
   ]
  },
  {
   "cell_type": "code",
   "execution_count": null,
   "metadata": {},
   "outputs": [],
   "source": [
    "title_font = 20\n",
    "bottom_font = 18\n",
    "saturation_factor = 1.\n",
    "plt.close('all')\n",
    "plt.figure(figsize=(18,18), tight_layout=True)\n",
    "\n",
    "ranges = saturation_factor*np.abs([tfa_rtp.max(), tfa_rtp.min(),\n",
    "                                   data['tfa_obs_prism_PL_airb'].max(), data['tfa_obs_prism_PL_airb'].min()]).max()\n",
    "\n",
    "r_ranges = saturation_factor*np.abs([r_rtp.max(), r_rtp.min()]).max()\n",
    "\n",
    "\n",
    "plt.subplot(2,2,1)\n",
    "plt.contourf(airborne['y'].reshape(airborne['shape']),\n",
    "             airborne['x'].reshape(airborne['shape']), \n",
    "             tfa_rtp.reshape(airborne['shape']),\n",
    "             20, cmap='viridis',vmin=-ranges, vmax=ranges)\n",
    "plt.colorbar(pad=0.01, aspect=40, shrink=1.0).set_label('nT',size=bottom_font) \n",
    "plt.xlabel('y (m)', fontsize = title_font)\n",
    "plt.ylabel('x (m)', fontsize = title_font)\n",
    "plt.title('(a) RTP (Layer) ', fontsize=title_font)\n",
    "plt.tick_params(axis='both', which='major', labelsize=15)\n",
    "\n",
    "plt.subplot(2,2,2)\n",
    "plt.contourf(airborne['y'].reshape(airborne['shape']),\n",
    "             airborne['x'].reshape(airborne['shape']),\n",
    "             data['tfa_obs_prism_PL_airb'].reshape(airborne['shape']),\n",
    "             20, cmap='viridis',  vmin=-ranges, vmax=ranges)\n",
    "plt.colorbar(pad=0.01, aspect=40, shrink=1.0).set_label('nT',size=bottom_font)\n",
    "plt.xlabel('y (m)', fontsize = title_font)\n",
    "plt.ylabel('x (m)', fontsize = title_font)\n",
    "plt.title('(b) RTP (True)', fontsize=title_font)\n",
    "plt.tick_params(axis='both', which='major', labelsize=15)\n",
    "\n",
    "plt.subplot(2,2,3)\n",
    "plt.contourf(airborne['y'].reshape(airborne['shape']),\n",
    "             airborne['x'].reshape(airborne['shape']),\n",
    "             r_rtp.reshape(airborne['shape']), \n",
    "             20, cmap='viridis',  vmin=-r_ranges, vmax=r_ranges)\n",
    "plt.colorbar(pad=0.01, aspect=40, shrink=1.0).set_label('nT',size=bottom_font)\n",
    "plt.xlabel('y (m)', fontsize = title_font)\n",
    "plt.ylabel('x (m)', fontsize = title_font)\n",
    "plt.title('(c) Residual map', fontsize=title_font)\n",
    "plt.tick_params(axis='both', which='major', labelsize=15)\n",
    "\n",
    "\n",
    "plt.subplot(2,2,4)\n",
    "plt.xlabel('$\\mu$ = %.3f | $\\sigma$ = %.3f nT' % (r_mean, r_std),\n",
    "           fontsize = bottom_font)\n",
    "nbins = int((np.max(r_norm - np.min(r_norm))))\n",
    "plt.hist(r_norm,bins=nbins,normed=True)\n",
    "plt.ylim(0.,1.)\n",
    "plt.xlim(-10., 10.)\n",
    "plt.title('(d) Normalized Histogram',fontsize=title_font)\n",
    "plt.tick_params(axis='both', which='major', labelsize=12)\n",
    "\n",
    "file_name = 'figs/airborne/rtp_layer_true'\n",
    "plt.savefig(file_name+'.png',dpi=300)\n",
    "saved_files.append(file_name+'.png')\n",
    "\n",
    "plt.savefig(file_name+'.eps',dpi=300)\n",
    "saved_files.append(file_name+'.eps')\n",
    "\n",
    "plt.show()"
   ]
  },
  {
   "cell_type": "markdown",
   "metadata": {},
   "source": [
    "### Results"
   ]
  },
  {
   "cell_type": "code",
   "execution_count": null,
   "metadata": {},
   "outputs": [],
   "source": [
    "result_RM_airb['magnetic_moment'] = m_LM\n",
    "result_RM_airb['inc_est'] = inc_est\n",
    "result_RM_airb['dec_est'] = dec_est\n",
    "result_RM_airb['layer_depth'] = h\n",
    "result_RM_airb['reg_patameter'] = mu_pos\n",
    "result_RM_airb['RTP'] = tfa_rtp\n",
    "result_RM_airb['tfa_predicted'] = pred"
   ]
  },
  {
   "cell_type": "markdown",
   "metadata": {},
   "source": [
    "#### Generating .pickle file"
   ]
  },
  {
   "cell_type": "code",
   "execution_count": null,
   "metadata": {},
   "outputs": [],
   "source": [
    "now = datetime.datetime.utcnow().strftime('%d %B %Y %H:%M:%S UTC')\n",
    "result_RM_airb['metadata'] = 'Generated by {name} on {date}'.format(date=now, name=notebook_name)"
   ]
  },
  {
   "cell_type": "code",
   "execution_count": null,
   "metadata": {},
   "outputs": [],
   "source": [
    "file_name = 'data/result_RM_airb.pickle'\n",
    "with open(file_name, 'w') as f:\n",
    "    pickle.dump(result_RM_airb, f)\n",
    "    \n",
    "saved_files.append(file_name)\n"
   ]
  },
  {
   "cell_type": "markdown",
   "metadata": {},
   "source": [
    "### Saved files"
   ]
  },
  {
   "cell_type": "code",
   "execution_count": null,
   "metadata": {},
   "outputs": [],
   "source": [
    "with open('reports/report_%s.md' % notebook_name[:st.index(notebook_name, '.')], 'w') as q:\n",
    "    q.write('# Saved files \\n')\n",
    "    now = datetime.datetime.utcnow().strftime('%d %B %Y %H:%M:%S UTC')\n",
    "    header = 'Generated by {name} on {date}'.format(date=now, name=notebook_name)\n",
    "    q.write('\\n\\n'+header+'\\n\\n')\n",
    "    for i, sf in enumerate(saved_files):\n",
    "        print '%d  %s' % (i+1,sf)\n",
    "        q.write('*  `%s` \\n' % (sf))"
   ]
  },
  {
   "cell_type": "code",
   "execution_count": null,
   "metadata": {},
   "outputs": [],
   "source": []
  },
  {
   "cell_type": "code",
   "execution_count": null,
   "metadata": {},
   "outputs": [],
   "source": []
  }
 ],
 "metadata": {
  "kernelspec": {
   "display_name": "Python 2",
   "language": "python",
   "name": "python2"
  },
  "language_info": {
   "codemirror_mode": {
    "name": "ipython",
    "version": 2
   },
   "file_extension": ".py",
   "mimetype": "text/x-python",
   "name": "python",
   "nbconvert_exporter": "python",
   "pygments_lexer": "ipython2",
   "version": "2.7.14"
  }
 },
 "nbformat": 4,
 "nbformat_minor": 2
}
