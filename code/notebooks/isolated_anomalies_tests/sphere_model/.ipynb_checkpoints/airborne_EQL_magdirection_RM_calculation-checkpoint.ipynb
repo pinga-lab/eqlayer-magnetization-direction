{
 "cells": [
  {
   "cell_type": "markdown",
   "metadata": {},
   "source": [
    "# Equivalent layer technique for estimating total magnetization direction using regular grid"
   ]
  },
  {
   "cell_type": "markdown",
   "metadata": {},
   "source": [
    "#### Importing libraries"
   ]
  },
  {
   "cell_type": "code",
   "execution_count": 1,
   "metadata": {},
   "outputs": [],
   "source": [
    "% matplotlib inline "
   ]
  },
  {
   "cell_type": "code",
   "execution_count": 2,
   "metadata": {},
   "outputs": [
    {
     "name": "stderr",
     "output_type": "stream",
     "text": [
      "/home/andrelreis/anaconda2/lib/python2.7/site-packages/fatiando/vis/mpl.py:76: UserWarning: This module will be removed in v0.6. We recommend the use of matplotlib.pyplot module directly. Some of the fatiando specific functions will remain.\n",
      "  \"specific functions will remain.\")\n"
     ]
    }
   ],
   "source": [
    "import sys\n",
    "import numpy as np\n",
    "import matplotlib.pyplot as plt\n",
    "import cPickle as pickle\n",
    "import datetime\n",
    "import timeit\n",
    "import string as st\n",
    "from scipy.optimize import nnls\n",
    "from fatiando.gridder import regular\n",
    "from fatiando.utils import ang2vec, vec2ang\n",
    "from fatiando.mesher import Sphere, PointGrid,Prism\n",
    "from fatiando.gravmag import sphere,prism\n",
    "from fatiando.constants import CM, T2NT, G, SI2MGAL"
   ]
  },
  {
   "cell_type": "code",
   "execution_count": 3,
   "metadata": {},
   "outputs": [],
   "source": [
    "notebook_name = 'regular_EQL_magdirection_RM.ipynb'"
   ]
  },
  {
   "cell_type": "markdown",
   "metadata": {},
   "source": [
    "#### Importing auxiliary functions"
   ]
  },
  {
   "cell_type": "code",
   "execution_count": 4,
   "metadata": {},
   "outputs": [],
   "source": [
    "dir_modules = '../../../mypackage'\n",
    "sys.path.append(dir_modules)"
   ]
  },
  {
   "cell_type": "code",
   "execution_count": 5,
   "metadata": {},
   "outputs": [],
   "source": [
    "import auxiliary_functions as fc"
   ]
  },
  {
   "cell_type": "markdown",
   "metadata": {},
   "source": [
    "#### Loading properties of the model"
   ]
  },
  {
   "cell_type": "code",
   "execution_count": 6,
   "metadata": {},
   "outputs": [],
   "source": [
    "with open('data/model_sphere.pickle') as f:\n",
    "        model_sphere = pickle.load(f)"
   ]
  },
  {
   "cell_type": "markdown",
   "metadata": {},
   "source": [
    "#### Loading properties grid"
   ]
  },
  {
   "cell_type": "code",
   "execution_count": 7,
   "metadata": {},
   "outputs": [],
   "source": [
    "with open('data/regular_grid.pickle') as f:\n",
    "        reg_grid = pickle.load(f)"
   ]
  },
  {
   "cell_type": "markdown",
   "metadata": {},
   "source": [
    "#### Loading data"
   ]
  },
  {
   "cell_type": "code",
   "execution_count": 8,
   "metadata": {},
   "outputs": [],
   "source": [
    "with open('data/data_set.pickle') as f:\n",
    "        data = pickle.load(f)"
   ]
  },
  {
   "cell_type": "markdown",
   "metadata": {},
   "source": [
    "#### Open a dictionary"
   ]
  },
  {
   "cell_type": "code",
   "execution_count": 9,
   "metadata": {},
   "outputs": [],
   "source": [
    "result_RM_reg = dict()"
   ]
  },
  {
   "cell_type": "markdown",
   "metadata": {},
   "source": [
    "### Saving files"
   ]
  },
  {
   "cell_type": "code",
   "execution_count": 10,
   "metadata": {},
   "outputs": [],
   "source": [
    "saved_files = []"
   ]
  },
  {
   "cell_type": "markdown",
   "metadata": {},
   "source": [
    "## Observation area"
   ]
  },
  {
   "cell_type": "code",
   "execution_count": 11,
   "metadata": {},
   "outputs": [
    {
     "name": "stdout",
     "output_type": "stream",
     "text": [
      "Area limits: \n",
      " x_max = 6000.0 m \n",
      " x_min = -6000.0 m \n",
      " y_max = 6000.0 m \n",
      " y_min = -6000.0 m\n"
     ]
    }
   ],
   "source": [
    "print 'Area limits: \\n x_max = %.1f m \\n x_min = %.1f m \\n y_max = %.1f m \\n y_min = %.1f m' % (reg_grid['area'][1], \n",
    "                                                                                                reg_grid['area'][0],\n",
    "                                                                                                reg_grid['area'][3],\n",
    "                                                                                                reg_grid['area'][2])"
   ]
  },
  {
   "cell_type": "markdown",
   "metadata": {},
   "source": [
    "### reg_grid survey information"
   ]
  },
  {
   "cell_type": "code",
   "execution_count": 12,
   "metadata": {},
   "outputs": [
    {
     "name": "stdout",
     "output_type": "stream",
     "text": [
      "Shape : (25,25)\n",
      "Number of data: 625.0\n",
      "dx: 500.0 m\n",
      "dy: 500.0 m \n"
     ]
    }
   ],
   "source": [
    "print 'Shape : (%.0f,%.0f)'% reg_grid['shape'] \n",
    "print 'Number of data: %.1f' % reg_grid['N']\n",
    "print 'dx: %.1f m' % reg_grid['dx']\n",
    "print 'dy: %.1f m ' % reg_grid['dy']"
   ]
  },
  {
   "cell_type": "markdown",
   "metadata": {},
   "source": [
    "## Properties of the model"
   ]
  },
  {
   "cell_type": "markdown",
   "metadata": {},
   "source": [
    "### Main field"
   ]
  },
  {
   "cell_type": "code",
   "execution_count": 13,
   "metadata": {},
   "outputs": [],
   "source": [
    "inc_gf,dec_gf = model_sphere['main_field']"
   ]
  },
  {
   "cell_type": "code",
   "execution_count": 14,
   "metadata": {},
   "outputs": [
    {
     "name": "stdout",
     "output_type": "stream",
     "text": [
      "Main field inclination: 40.0 degree\n",
      "Main field declination: 45.0 degree\n"
     ]
    }
   ],
   "source": [
    "print'Main field inclination: %.1f degree' % inc_gf\n",
    "print'Main field declination: %.1f degree' % dec_gf"
   ]
  },
  {
   "cell_type": "markdown",
   "metadata": {},
   "source": [
    "### Magnetization direction"
   ]
  },
  {
   "cell_type": "code",
   "execution_count": 15,
   "metadata": {},
   "outputs": [
    {
     "name": "stdout",
     "output_type": "stream",
     "text": [
      "Intensity: 3.0 A/m\n",
      "Inclination: 30.0 degree\n",
      "Declination: 20.0 degree\n"
     ]
    }
   ],
   "source": [
    "print 'Intensity: %.1f A/m' % model_sphere['m_R']\n",
    "print 'Inclination: %.1f degree' % model_sphere['inc_R']\n",
    "print 'Declination: %.1f degree' % model_sphere['dec_R']"
   ]
  },
  {
   "cell_type": "code",
   "execution_count": 16,
   "metadata": {},
   "outputs": [],
   "source": [
    "inc_R,dec_R = model_sphere['inc_R'],model_sphere['dec_R']"
   ]
  },
  {
   "cell_type": "markdown",
   "metadata": {},
   "source": [
    "## Generating the layer with my function "
   ]
  },
  {
   "cell_type": "code",
   "execution_count": 17,
   "metadata": {},
   "outputs": [],
   "source": [
    "h = 1500."
   ]
  },
  {
   "cell_type": "markdown",
   "metadata": {},
   "source": [
    "#### Generating a layer"
   ]
  },
  {
   "cell_type": "code",
   "execution_count": 18,
   "metadata": {},
   "outputs": [],
   "source": [
    "shape_layer = (reg_grid['shape'][0],reg_grid['shape'][1])"
   ]
  },
  {
   "cell_type": "code",
   "execution_count": 19,
   "metadata": {},
   "outputs": [],
   "source": [
    "xs,ys,zs = regular(reg_grid['area'],shape_layer,h)"
   ]
  },
  {
   "cell_type": "markdown",
   "metadata": {},
   "source": [
    "### Levenberg-Marquardt with NNLS for positive magnetic moments"
   ]
  },
  {
   "cell_type": "code",
   "execution_count": 20,
   "metadata": {},
   "outputs": [],
   "source": [
    "i_pos = 1500"
   ]
  },
  {
   "cell_type": "code",
   "execution_count": 21,
   "metadata": {},
   "outputs": [],
   "source": [
    "it_max = 30"
   ]
  },
  {
   "cell_type": "code",
   "execution_count": 22,
   "metadata": {},
   "outputs": [],
   "source": [
    "it_marq = 15"
   ]
  },
  {
   "cell_type": "code",
   "execution_count": 23,
   "metadata": {},
   "outputs": [],
   "source": [
    "lamb = 10.\n",
    "dlamb = 100."
   ]
  },
  {
   "cell_type": "code",
   "execution_count": 24,
   "metadata": {},
   "outputs": [],
   "source": [
    "eps_e = 1e-4\n",
    "eps_i = 1e-4"
   ]
  },
  {
   "cell_type": "code",
   "execution_count": null,
   "metadata": {},
   "outputs": [],
   "source": [
    "mu_list = [1e2,1e3,1e4,1e5,1e6,5.*1e6,1e7]"
   ]
  },
  {
   "cell_type": "code",
   "execution_count": null,
   "metadata": {},
   "outputs": [
    {
     "name": "stdout",
     "output_type": "stream",
     "text": [
      "i = 0\n",
      "5.54926229643e-15\n",
      "0.705612591175 -3.84222404802\n",
      "0.48666049344\n",
      "i = 1\n",
      "5.54275520968e-15\n",
      "6.1483738847 -1.87268288364\n",
      "0.579453097794\n",
      "i = 2\n",
      "5.6595765967e-15\n",
      "9.01955044695 -0.598837925032\n",
      "0.299738771628\n",
      "i = 3\n",
      "5.77499236898e-15\n",
      "10.9472864105 0.459502179715\n",
      "0.18546894273\n",
      "i = 4\n",
      "5.87679438811e-15\n",
      "12.4185878331 1.40393752044\n",
      "0.135667961783\n",
      "i = 5\n",
      "5.96805830517e-15\n",
      "13.6422141725 2.22570145262\n",
      "0.108712181121\n",
      "i = 6\n",
      "6.05032391341e-15\n",
      "14.6970995063 3.01331078093\n",
      "0.0950172782722\n",
      "i = 7\n",
      "6.12775506616e-15\n",
      "15.6158725166 3.75911797077\n",
      "0.083016349227\n",
      "i = 8\n",
      "6.19989288496e-15\n",
      "16.4233254553 4.48542259704\n",
      "0.0744813424709\n",
      "i = 9\n",
      "6.26769541391e-15\n",
      "17.1383771202 5.19138336167\n",
      "0.0675439666165\n",
      "i = 10\n",
      "6.33130899302e-15\n",
      "17.7748454678 5.85927224162\n",
      "0.0603261879441\n",
      "i = 11\n",
      "6.39025174881e-15\n",
      "18.3458785797 6.49047394865\n",
      "0.0540494737797\n",
      "i = 12\n",
      "6.44492266536e-15\n",
      "18.8619952171 7.0884238771\n",
      "0.0487344553426\n",
      "i = 13\n",
      "6.4957782079e-15\n",
      "19.331880441 7.65356966438\n",
      "0.0440535707914\n",
      "i = 14\n",
      "6.54314819435e-15\n",
      "19.7603903369 8.18244237107\n",
      "0.0393406990875\n",
      "i = 15\n",
      "6.58706313303e-15\n",
      "20.1521554149 8.671437545\n",
      "0.0346353900694\n",
      "i = 16\n",
      "6.6275796046e-15\n",
      "20.513255846 9.13883566696\n",
      "0.0316067819515\n",
      "i = 17\n",
      "6.66563857688e-15\n",
      "20.8466012436 9.58380713511\n",
      "0.0287011746687\n",
      "i = 18\n",
      "6.70133161557e-15\n",
      "21.1547276211 10.0058956569\n",
      "0.0259294182625\n",
      "i = 19\n",
      "6.73475738552e-15\n",
      "21.4401569942 10.3998845863\n",
      "0.0230226176486\n",
      "i = 20\n",
      "6.7658663886e-15\n",
      "21.7054691013 10.7637604881\n",
      "0.020222297232\n",
      "i = 21\n",
      "6.79473676295e-15\n",
      "21.9528164315 11.1066451054\n",
      "0.0181184032509\n",
      "i = 22\n",
      "6.82179901748e-15\n",
      "22.183598777 11.4288817672\n",
      "0.0161637887963\n",
      "i = 23\n",
      "6.84714281754e-15\n",
      "22.3992296174 11.7285893307\n",
      "0.014257800551\n",
      "i = 24\n",
      "6.87079015577e-15\n",
      "22.6013513276 12.0065778724\n",
      "0.0125571098357\n",
      "i = 25\n",
      "6.89287038267e-15\n",
      "22.7914038283 12.2635639563\n",
      "0.0110410463728\n",
      "i = 26\n",
      "6.91349908209e-15\n",
      "22.9708412348 12.5006261263\n",
      "0.00971960920641\n",
      "i = 27\n",
      "6.93280609088e-15\n",
      "23.1411261361 12.7215806259\n",
      "0.00867842446681\n",
      "i = 28\n",
      "6.95100969454e-15\n",
      "23.3035183398 12.9324858239\n",
      "0.0079511166578\n",
      "i = 29\n",
      "6.96838415122e-15\n",
      "23.4585391234 13.1333710608\n",
      "0.00727340680806\n",
      "i = 30\n",
      "6.98496300139e-15\n",
      "23.6067039079 13.324534713\n",
      "0.00665243824731\n",
      "i = 31\n",
      "7.00078858771e-15\n",
      "23.7484963737 13.5059349644\n",
      "0.00607472686837\n",
      "i = 32\n",
      "7.01589113672e-15\n",
      "23.8843929182 13.6779282307\n",
      "0.00555026605406\n",
      "i = 33\n",
      "7.03031328837e-15\n",
      "24.0147822892 13.8408222147\n",
      "0.00507108759842\n",
      "i = 34\n",
      "7.04409059008e-15\n",
      "24.1399768455 13.9956052044\n",
      "0.00464832802727\n",
      "i = 35\n",
      "7.0572743461e-15\n",
      "24.2602696641 14.1426353338\n",
      "0.00426226700103\n",
      "i = 36\n",
      "7.06989518114e-15\n",
      "24.3760206845 14.281997995\n",
      "0.00390775928986\n",
      "i = 37\n",
      "7.08198013558e-15\n",
      "24.4876533563 14.4140305874\n",
      "0.00359131813066\n",
      "i = 38\n",
      "7.09356842234e-15\n",
      "24.5955941982 14.5403272675\n",
      "0.00333526330579\n",
      "i = 39\n",
      "7.10473716078e-15\n",
      "24.7000788629 14.6614815013\n",
      "0.00310792950419\n",
      "i = 40\n",
      "7.11552009285e-15\n",
      "24.8012932146 14.7779736346\n",
      "0.00290341253771\n",
      "i = 41\n",
      "7.125944075e-15\n",
      "24.8994071498 14.8897014745\n",
      "0.00270967501145\n",
      "i = 42\n",
      "7.13601759893e-15\n",
      "24.9945745529 14.9965859385\n",
      "0.00252640944763\n",
      "i = 43\n",
      "7.14574891137e-15\n",
      "25.0869864393 15.0987711106\n",
      "0.00235812164601\n",
      "i = 44\n",
      "7.15515551726e-15\n",
      "25.1770070983 15.1972382665\n",
      "0.00222227347545\n",
      "i = 45\n",
      "7.16429145919e-15\n",
      "25.2648191868 15.2924375569\n",
      "0.00210274812418\n",
      "i = 46\n",
      "7.17318249165e-15\n",
      "25.3505377467 15.384461097\n",
      "0.00199134640111\n",
      "i = 47\n",
      "7.18183920888e-15\n",
      "25.4342310193 15.4731284508\n",
      "0.00188262931683\n",
      "i = 48\n",
      "7.19026110165e-15\n",
      "25.5160211356 15.5585532302\n",
      "0.00178215890343\n",
      "i = 49\n",
      "7.19846001603e-15\n",
      "25.5960096534 15.6409369436\n",
      "0.00169002982855\n",
      "i = 50\n",
      "7.20644889663e-15\n",
      "25.6743025488 15.7203300404\n",
      "0.00160412190928\n",
      "i = 51\n",
      "7.21423666564e-15\n",
      "25.7509958039 15.7969635607\n",
      "0.00152596130048\n",
      "i = 52\n",
      "7.22183672152e-15\n",
      "25.826176822 15.8710813354\n",
      "0.00145499490933\n",
      "i = 53\n",
      "7.22926218706e-15\n",
      "25.8999590373 15.942999825\n",
      "0.00139227653156\n",
      "i = 54\n",
      "7.23653004944e-15\n",
      "25.9723816094 16.0127643843\n",
      "0.0013325358152\n",
      "i = 55\n",
      "7.24364431927e-15\n",
      "26.0434749897 16.080404711\n",
      "0.00127528951887\n",
      "i = 56\n",
      "7.25060795287e-15\n",
      "26.1132863656 16.1459905235\n",
      "0.001221285482\n",
      "i = 57\n",
      "7.25742622981e-15\n",
      "26.1818562501 16.2097025309\n",
      "0.00117124190532\n",
      "i = 58\n",
      "7.26410706086e-15\n",
      "26.249261205 16.2718568835\n",
      "0.00112706954622\n",
      "i = 59\n",
      "7.27066468203e-15\n",
      "26.3155414897 16.3324980068\n",
      "0.00108516448243\n",
      "i = 60\n",
      "7.27710310688e-15\n",
      "26.3807422248 16.3916653276\n",
      "0.00104552330949\n",
      "i = 61\n",
      "7.28342656819e-15\n",
      "26.4448947853 16.4494009319\n",
      "0.00100775803812\n",
      "i = 62\n",
      "7.2896383958e-15\n",
      "26.5080477257 16.5057927016\n",
      "0.000972576642809\n",
      "i = 63\n",
      "7.29574442678e-15\n"
     ]
    }
   ],
   "source": [
    "mu_norm = []\n",
    "norm_r = []\n",
    "norm_m = []\n",
    "m_est = []\n",
    "incl_est = []\n",
    "decl_est = []\n",
    "for i in mu_list:\n",
    "    m_LM,inc_est,dec_est,phi,imax,pest,incs,decs = fc.levenberg_marquardt_NNLS(\n",
    "        data['tfa_obs_sphere_RM_reg'],reg_grid['x'],reg_grid['y'],\n",
    "        reg_grid['z'],xs,ys,zs,inc_gf,dec_gf,-10.,-10.,lamb,dlamb,i_pos,it_max,\n",
    "        it_marq,eps_e,eps_i,i)\n",
    "    G = fc.sensitivity_mag(reg_grid['x'],reg_grid['y'],reg_grid['z'],\n",
    "                       xs,ys,zs,inc_gf,dec_gf,inc_est,dec_est)\n",
    "    tfpred = np.dot(G,m_LM)\n",
    "    r = data['tfa_obs_sphere_RM_reg'] - tfpred \n",
    "    \n",
    "    norm_r.append(np.sqrt(np.sum(r*r)))\n",
    "    norm_m.append(np.sqrt(np.sum(m_LM*m_LM)))\n",
    "    m_est.append(m_LM)\n",
    "    incl_est.append(inc_est)\n",
    "    decl_est.append(decl_est)\n",
    "    \n",
    "    "
   ]
  },
  {
   "cell_type": "code",
   "execution_count": null,
   "metadata": {},
   "outputs": [],
   "source": [
    "print norm_r"
   ]
  },
  {
   "cell_type": "code",
   "execution_count": null,
   "metadata": {},
   "outputs": [],
   "source": [
    "print norm_m"
   ]
  },
  {
   "cell_type": "code",
   "execution_count": null,
   "metadata": {},
   "outputs": [],
   "source": [
    "title_font = 20\n",
    "bottom_font = 18\n",
    "saturation_factor = 1.\n",
    "plt.close('all')\n",
    "plt.figure(figsize=(9,9), tight_layout=True)\n",
    "\n",
    "plt.figure(figsize=(10, 10))\n",
    "plt.plot(norm_r,norm_m, 'b-')\n",
    "plt.plot(norm_r,norm_m, 'bo')\n",
    "plt.title('L-curve', fontsize=title_font)\n",
    "plt.xlabel('r_norm', fontsize = title_font)\n",
    "plt.ylabel('m_norm', fontsize = title_font)\n",
    "plt.tick_params(axis='both', which='major', labelsize=15)\n",
    "#plt.xlim((-60.,40.))\n",
    "#plt.ylim((-50.,50.))\n",
    "\n",
    "#file_name = 'figs/regular/mag_dir_evolution'\n",
    "#plt.savefig(file_name+'.png',dpi=300)\n",
    "#saved_files.append(file_name+'.png')\n",
    "\n",
    "#plt.savefig(file_name+'.eps',dpi=300)\n",
    "#saved_files.append(file_name+'.eps')\n",
    "\n",
    "\n",
    "plt.show()"
   ]
  },
  {
   "cell_type": "markdown",
   "metadata": {},
   "source": [
    "#### Generating .pickle file"
   ]
  },
  {
   "cell_type": "code",
   "execution_count": null,
   "metadata": {},
   "outputs": [],
   "source": [
    "now = datetime.datetime.utcnow().strftime('%d %B %Y %H:%M:%S UTC')\n",
    "result_RM_reg['metadata'] = 'Generated by {name} on {date}'.format(date=now, name=notebook_name)"
   ]
  },
  {
   "cell_type": "code",
   "execution_count": null,
   "metadata": {},
   "outputs": [],
   "source": [
    "file_name = 'data/result_RM_reg.pickle'\n",
    "with open(file_name, 'w') as f:\n",
    "    pickle.dump(result_RM_reg, f)\n",
    "    \n",
    "saved_files.append(file_name)\n"
   ]
  },
  {
   "cell_type": "markdown",
   "metadata": {},
   "source": [
    "### Saved files"
   ]
  },
  {
   "cell_type": "code",
   "execution_count": null,
   "metadata": {},
   "outputs": [],
   "source": [
    "with open('reports/report_%s.md' % notebook_name[:st.index(notebook_name, '.')], 'w') as q:\n",
    "    q.write('# Saved files \\n')\n",
    "    now = datetime.datetime.utcnow().strftime('%d %B %Y %H:%M:%S UTC')\n",
    "    header = 'Generated by {name} on {date}'.format(date=now, name=notebook_name)\n",
    "    q.write('\\n\\n'+header+'\\n\\n')\n",
    "    for i, sf in enumerate(saved_files):\n",
    "        print '%d  %s' % (i+1,sf)\n",
    "        q.write('*  `%s` \\n' % (sf))"
   ]
  },
  {
   "cell_type": "code",
   "execution_count": null,
   "metadata": {},
   "outputs": [],
   "source": []
  },
  {
   "cell_type": "code",
   "execution_count": null,
   "metadata": {},
   "outputs": [],
   "source": []
  }
 ],
 "metadata": {
  "kernelspec": {
   "display_name": "Python 2",
   "language": "python",
   "name": "python2"
  },
  "language_info": {
   "codemirror_mode": {
    "name": "ipython",
    "version": 2
   },
   "file_extension": ".py",
   "mimetype": "text/x-python",
   "name": "python",
   "nbconvert_exporter": "python",
   "pygments_lexer": "ipython2",
   "version": "2.7.14"
  }
 },
 "nbformat": 4,
 "nbformat_minor": 2
}
