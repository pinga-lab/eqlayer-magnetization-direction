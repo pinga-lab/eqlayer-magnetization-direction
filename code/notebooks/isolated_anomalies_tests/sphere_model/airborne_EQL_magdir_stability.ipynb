{
 "cells": [
  {
   "cell_type": "markdown",
   "metadata": {},
   "source": [
    "# Testing solution stability"
   ]
  },
  {
   "cell_type": "markdown",
   "metadata": {},
   "source": [
    "#### Importing libraries"
   ]
  },
  {
   "cell_type": "code",
   "execution_count": 1,
   "metadata": {},
   "outputs": [],
   "source": [
    "% matplotlib inline "
   ]
  },
  {
   "cell_type": "code",
   "execution_count": 2,
   "metadata": {},
   "outputs": [
    {
     "name": "stderr",
     "output_type": "stream",
     "text": [
      "/home/andrelreis/anaconda2/lib/python2.7/site-packages/fatiando/vis/mpl.py:76: UserWarning: This module will be removed in v0.6. We recommend the use of matplotlib.pyplot module directly. Some of the fatiando specific functions will remain.\n",
      "  \"specific functions will remain.\")\n"
     ]
    }
   ],
   "source": [
    "import sys\n",
    "import numpy as np\n",
    "import matplotlib.pyplot as plt\n",
    "import cPickle as pickle\n",
    "import datetime\n",
    "import timeit\n",
    "from scipy.optimize import nnls\n",
    "from fatiando.gridder import regular\n",
    "from fatiando.utils import ang2vec, vec2ang\n",
    "from fatiando.mesher import Sphere, PointGrid,Prism\n",
    "from fatiando.gravmag import sphere,prism\n",
    "from fatiando.constants import CM, T2NT, G, SI2MGAL"
   ]
  },
  {
   "cell_type": "code",
   "execution_count": 3,
   "metadata": {},
   "outputs": [],
   "source": [
    "notebook_name = 'airborne_EQL_magdir_stability.ipynb'"
   ]
  },
  {
   "cell_type": "markdown",
   "metadata": {},
   "source": [
    "#### Importing auxiliary functions"
   ]
  },
  {
   "cell_type": "code",
   "execution_count": 4,
   "metadata": {},
   "outputs": [],
   "source": [
    "dir_modules = '../../mypackage'\n",
    "sys.path.append(dir_modules)"
   ]
  },
  {
   "cell_type": "code",
   "execution_count": 5,
   "metadata": {},
   "outputs": [],
   "source": [
    "import auxiliary_functions as fc"
   ]
  },
  {
   "cell_type": "markdown",
   "metadata": {},
   "source": [
    "#### Loading properties of the model"
   ]
  },
  {
   "cell_type": "code",
   "execution_count": 6,
   "metadata": {},
   "outputs": [],
   "source": [
    "with open('data/model_sphere.pickle') as f:\n",
    "        model_sphere = pickle.load(f)"
   ]
  },
  {
   "cell_type": "markdown",
   "metadata": {},
   "source": [
    "#### Loading properties grid"
   ]
  },
  {
   "cell_type": "code",
   "execution_count": 7,
   "metadata": {},
   "outputs": [],
   "source": [
    "with open('data/airborne_survey.pickle') as f:\n",
    "        airborne = pickle.load(f)"
   ]
  },
  {
   "cell_type": "markdown",
   "metadata": {},
   "source": [
    "### Saving files"
   ]
  },
  {
   "cell_type": "code",
   "execution_count": 8,
   "metadata": {},
   "outputs": [],
   "source": [
    "saved_files = []"
   ]
  },
  {
   "cell_type": "markdown",
   "metadata": {},
   "source": [
    "## Observation area"
   ]
  },
  {
   "cell_type": "code",
   "execution_count": 9,
   "metadata": {},
   "outputs": [
    {
     "name": "stdout",
     "output_type": "stream",
     "text": [
      "Area limits: \n",
      " x_max = 6000.0 m \n",
      " x_min = -6000.0 m \n",
      " y_max = 6000.0 m \n",
      " y_min = -6000.0 m\n"
     ]
    }
   ],
   "source": [
    "print 'Area limits: \\n x_max = %.1f m \\n x_min = %.1f m \\n y_max = %.1f m \\n y_min = %.1f m' % (airborne['area'][1], \n",
    "                                                                                                airborne['area'][0],\n",
    "                                                                                                airborne['area'][3],\n",
    "                                                                                                airborne['area'][2])"
   ]
  },
  {
   "cell_type": "markdown",
   "metadata": {},
   "source": [
    "### airborne survey information"
   ]
  },
  {
   "cell_type": "code",
   "execution_count": 10,
   "metadata": {},
   "outputs": [
    {
     "name": "stdout",
     "output_type": "stream",
     "text": [
      "Shape : (40,20)\n",
      "Number of data: 800.0\n",
      "dx: 307.7 m\n",
      "dy: 631.6 m \n"
     ]
    }
   ],
   "source": [
    "print 'Shape : (%.0f,%.0f)'% airborne['shape'] \n",
    "print 'Number of data: %.1f' % airborne['N']\n",
    "print 'dx: %.1f m' % airborne['dx']\n",
    "print 'dy: %.1f m ' % airborne['dy']"
   ]
  },
  {
   "cell_type": "markdown",
   "metadata": {},
   "source": [
    "## Properties of the model"
   ]
  },
  {
   "cell_type": "markdown",
   "metadata": {},
   "source": [
    "### Main field"
   ]
  },
  {
   "cell_type": "code",
   "execution_count": 11,
   "metadata": {},
   "outputs": [],
   "source": [
    "inc_gf,dec_gf = model_sphere['main_field']"
   ]
  },
  {
   "cell_type": "code",
   "execution_count": 12,
   "metadata": {},
   "outputs": [
    {
     "name": "stdout",
     "output_type": "stream",
     "text": [
      "Main field inclination: 40.0 degree\n",
      "Main field declination: 45.0 degree\n"
     ]
    }
   ],
   "source": [
    "print'Main field inclination: %.1f degree' % inc_gf\n",
    "print'Main field declination: %.1f degree' % dec_gf"
   ]
  },
  {
   "cell_type": "markdown",
   "metadata": {},
   "source": [
    "### Magnetization direction"
   ]
  },
  {
   "cell_type": "code",
   "execution_count": 13,
   "metadata": {},
   "outputs": [
    {
     "name": "stdout",
     "output_type": "stream",
     "text": [
      "Intensity: 3.0 A/m\n",
      "Inclination: 30.0 degree\n",
      "Declination: 20.0 degree\n"
     ]
    }
   ],
   "source": [
    "print 'Intensity: %.1f A/m' % model_sphere['m_R']\n",
    "print 'Inclination: %.1f degree' % model_sphere['inc_R']\n",
    "print 'Declination: %.1f degree' % model_sphere['dec_R']"
   ]
  },
  {
   "cell_type": "code",
   "execution_count": 14,
   "metadata": {},
   "outputs": [],
   "source": [
    "inc_R,dec_R = model_sphere['inc_R'],model_sphere['dec_R']"
   ]
  },
  {
   "cell_type": "markdown",
   "metadata": {},
   "source": [
    "### Generating data"
   ]
  },
  {
   "cell_type": "code",
   "execution_count": 15,
   "metadata": {},
   "outputs": [],
   "source": [
    "data = sphere.tf(airborne['x'],airborne['y'],airborne['z'],\n",
    "                 model_sphere['model_R'],inc_gf,dec_gf)"
   ]
  },
  {
   "cell_type": "code",
   "execution_count": 16,
   "metadata": {},
   "outputs": [],
   "source": [
    "seed = 30"
   ]
  },
  {
   "cell_type": "code",
   "execution_count": 17,
   "metadata": {},
   "outputs": [],
   "source": [
    "np.random.seed(seed=seed)"
   ]
  },
  {
   "cell_type": "code",
   "execution_count": 18,
   "metadata": {},
   "outputs": [],
   "source": [
    "std_noise = 5.\n",
    "r = np.random.normal(0.0,std_noise, airborne['Nx']*airborne['Ny'])\n",
    "data_obs =  data + r"
   ]
  },
  {
   "cell_type": "markdown",
   "metadata": {},
   "source": [
    "## Generating the layer with my function "
   ]
  },
  {
   "cell_type": "code",
   "execution_count": 19,
   "metadata": {},
   "outputs": [],
   "source": [
    "h = 620."
   ]
  },
  {
   "cell_type": "markdown",
   "metadata": {},
   "source": [
    "#### Generating a layer"
   ]
  },
  {
   "cell_type": "code",
   "execution_count": 20,
   "metadata": {},
   "outputs": [],
   "source": [
    "shape_layer = (airborne['shape'][0],airborne['shape'][1])"
   ]
  },
  {
   "cell_type": "code",
   "execution_count": 21,
   "metadata": {},
   "outputs": [],
   "source": [
    "xs,ys,zs = regular(airborne['area'],shape_layer,h)"
   ]
  },
  {
   "cell_type": "markdown",
   "metadata": {},
   "source": [
    "### Levenberg-Marquardt with NNLS for positive magnetic moments"
   ]
  },
  {
   "cell_type": "code",
   "execution_count": 22,
   "metadata": {},
   "outputs": [],
   "source": [
    "i_pos = 1500"
   ]
  },
  {
   "cell_type": "code",
   "execution_count": 23,
   "metadata": {},
   "outputs": [],
   "source": [
    "it_max = 30"
   ]
  },
  {
   "cell_type": "code",
   "execution_count": 24,
   "metadata": {},
   "outputs": [],
   "source": [
    "it_marq = 15"
   ]
  },
  {
   "cell_type": "code",
   "execution_count": 25,
   "metadata": {},
   "outputs": [],
   "source": [
    "lamb = 10.\n",
    "dlamb = 100."
   ]
  },
  {
   "cell_type": "code",
   "execution_count": 26,
   "metadata": {},
   "outputs": [],
   "source": [
    "eps_e = 1e-4\n",
    "eps_i = 1e-4"
   ]
  },
  {
   "cell_type": "code",
   "execution_count": 27,
   "metadata": {},
   "outputs": [],
   "source": [
    "mu_pos = 1e0"
   ]
  },
  {
   "cell_type": "code",
   "execution_count": 28,
   "metadata": {},
   "outputs": [
    {
     "name": "stdout",
     "output_type": "stream",
     "text": [
      "i = 0\n",
      "1.47137844835e-13\n",
      "-2.1610917825 -3.35880763523\n",
      "0.269004626018\n",
      "i = 1\n",
      "1.51025690565e-13\n",
      "4.47658136574 -0.292779112818\n",
      "0.516314498912\n",
      "i = 2\n",
      "1.54594561702e-13\n",
      "8.01340754133 1.18692500883\n",
      "0.350870307301\n",
      "i = 3\n",
      "1.57751046088e-13\n",
      "10.4456848203 2.36409671471\n",
      "0.239807535233\n",
      "i = 4\n",
      "1.60609677047e-13\n",
      "12.2937590846 3.34798531792\n",
      "0.178493495125\n",
      "i = 5\n",
      "1.63117748297e-13\n",
      "13.7859260727 4.245806426\n",
      "0.145018494777\n",
      "i = 6\n",
      "1.65368231952e-13\n",
      "15.0233479776 5.05120761903\n",
      "0.119785642819\n",
      "i = 7\n",
      "1.67363417608e-13\n",
      "16.0763533468 5.77945628263\n",
      "0.101453664643\n",
      "i = 8\n",
      "1.69143302592e-13\n",
      "16.9933888701 6.46060611941\n",
      "0.0891967534685\n",
      "i = 9\n",
      "1.70757390623e-13\n",
      "17.8003995104 7.0977842304\n",
      "0.0789580841433\n",
      "i = 10\n",
      "1.72222440197e-13\n",
      "18.5174512562 7.69711900364\n",
      "0.0705197586786\n",
      "i = 11\n",
      "1.73557013633e-13\n",
      "19.1603699748 8.26510016061\n",
      "0.0636648026309\n",
      "i = 12\n",
      "1.74778679673e-13\n",
      "19.7408351852 8.80500825369\n",
      "0.0578425803995\n",
      "i = 13\n",
      "1.75900420354e-13\n",
      "20.2678930882 9.31820737026\n",
      "0.0527276921889\n",
      "i = 14\n",
      "1.76932525602e-13\n",
      "20.7483706594 9.80553905468\n",
      "0.0480752691977\n",
      "i = 15\n",
      "1.77883186145e-13\n",
      "21.1882742923 10.2677387619\n",
      "0.0438601491764\n",
      "i = 16\n",
      "1.78760323702e-13\n",
      "21.5924052616 10.7055666049\n",
      "0.0399861458255\n",
      "i = 17\n",
      "1.79570721256e-13\n",
      "21.9648998656 11.1199614448\n",
      "0.03643275118\n",
      "i = 18\n",
      "1.80320675974e-13\n",
      "22.3096595047 11.5138958665\n",
      "0.0333521387107\n",
      "i = 19\n",
      "1.81017140242e-13\n",
      "22.6299101601 11.8883260021\n",
      "0.0305665318412\n",
      "i = 20\n",
      "1.81665452296e-13\n",
      "22.9280916107 12.2437982932\n",
      "0.0279750244858\n",
      "i = 21\n",
      "1.8226971033e-13\n",
      "23.2069929632 12.5822869176\n",
      "0.0257327553413\n",
      "i = 22\n",
      "1.82835144684e-13\n",
      "23.4685908056 12.9059466488\n",
      "0.023765200968\n",
      "i = 23\n",
      "1.83365708742e-13\n",
      "23.7144075401 13.2155678506\n",
      "0.0219517363042\n",
      "i = 24\n",
      "1.83864221886e-13\n",
      "23.945826065 13.5119062786\n",
      "0.0202844616473\n",
      "i = 25\n",
      "1.84333293577e-13\n",
      "24.1640732235 13.7956100048\n",
      "0.0187479350969\n",
      "i = 26\n",
      "1.84775265396e-13\n",
      "24.370154872 14.0682520727\n",
      "0.0173754174456\n",
      "i = 27\n",
      "1.85192320972e-13\n",
      "24.5650198176 14.3302668471\n",
      "0.0161027180235\n",
      "i = 28\n",
      "1.85586272441e-13\n",
      "24.7497210345 14.5821131005\n",
      "0.0149441353611\n",
      "i = 29\n",
      "1.85959132845e-13\n",
      "24.9252347109 14.8242690193\n",
      "0.0138939514104\n",
      "i = 30\n",
      "1.8631279757e-13\n",
      "25.0922518917 15.0571387103\n",
      "0.0129220451378\n",
      "i = 31\n",
      "1.86648655241e-13\n",
      "25.2513897272 15.2811085457\n",
      "0.0120217135101\n",
      "i = 32\n",
      "1.86967962161e-13\n",
      "25.4032062696 15.496546761\n",
      "0.0111874526065\n",
      "i = 33\n",
      "1.87271865981e-13\n",
      "25.5482326836 15.7039164354\n",
      "0.010421352317\n",
      "i = 34\n",
      "1.87561478766e-13\n",
      "25.6870203754 15.9039720068\n",
      "0.00973726303468\n",
      "i = 35\n",
      "1.87837984762e-13\n",
      "25.8199507353 16.097014756\n",
      "0.00910014598273\n",
      "i = 36\n",
      "1.88102186978e-13\n",
      "25.9473845159 16.2833314171\n",
      "0.00850748961503\n",
      "i = 37\n",
      "1.88354845632e-13\n",
      "26.0696218295 16.4632073524\n",
      "0.00795436471648\n",
      "i = 38\n",
      "1.88596608175e-13\n",
      "26.1869550108 16.6372393279\n",
      "0.00745210648977\n",
      "i = 39\n",
      "1.88828139965e-13\n",
      "26.299692559 16.8057784155\n",
      "0.00699076047058\n",
      "i = 40\n",
      "1.89050094888e-13\n",
      "26.4080973253 16.9690532102\n",
      "0.00656158125191\n",
      "i = 41\n",
      "1.89263025863e-13\n",
      "26.5123476304 17.1272437646\n",
      "0.00615660646281\n",
      "i = 42\n",
      "1.89467325114e-13\n",
      "26.6126112204 17.280480098\n",
      "0.00577314726443\n",
      "i = 43\n",
      "1.89663357888e-13\n",
      "26.7090945702 17.4289487311\n",
      "0.00541523466096\n",
      "i = 44\n",
      "1.89851562523e-13\n",
      "26.8019809289 17.5728204123\n",
      "0.00508030782602\n",
      "i = 45\n",
      "1.90032331054e-13\n",
      "26.891454307 17.712326705\n",
      "0.00476981153324\n",
      "i = 46\n",
      "1.90206058895e-13\n",
      "26.9776889347 17.8477549956\n",
      "0.00448419024596\n",
      "i = 47\n",
      "1.90373123805e-13\n",
      "27.0608535085 17.9792689076\n",
      "0.00421831966661\n",
      "i = 48\n",
      "1.90533880269e-13\n",
      "27.1411011595 18.1069594286\n",
      "0.00396851598875\n",
      "i = 49\n",
      "1.90688647502e-13\n",
      "27.218583729 18.2309546735\n",
      "0.00373532785625\n",
      "i = 50\n",
      "1.90837743457e-13\n",
      "27.2934337313 18.3513845092\n",
      "0.0035172902648\n",
      "i = 51\n",
      "1.90981449029e-13\n",
      "27.3657860723 18.4683843391\n",
      "0.00331413583564\n",
      "i = 52\n",
      "1.91120047863e-13\n",
      "27.4357510183 18.582073599\n",
      "0.00312375949425\n",
      "i = 53\n",
      "1.91253775725e-13\n",
      "27.5034243355 18.6926269659\n",
      "0.00294654569623\n",
      "i = 54\n",
      "1.91382842167e-13\n",
      "27.5689029755 18.800196897\n",
      "0.00278146015635\n",
      "i = 55\n",
      "1.9150745539e-13\n",
      "27.6322744539 18.9048783964\n",
      "0.0026261825169\n",
      "i = 56\n",
      "1.91627802092e-13\n",
      "27.6935893444 19.0067530267\n",
      "0.0024785564038\n",
      "i = 57\n",
      "1.917439991e-13\n",
      "27.7529330878 19.1059094728\n",
      "0.00233991260393\n",
      "i = 58\n",
      "1.91856226433e-13\n",
      "27.8103812113 19.2023932264\n",
      "0.00220852971335\n",
      "i = 59\n",
      "1.91964643673e-13\n",
      "27.8660085811 19.2962610154\n",
      "0.00208440828181\n",
      "i = 60\n",
      "1.92069408779e-13\n",
      "27.919890811 19.3875955899\n",
      "0.00196790011644\n",
      "i = 61\n",
      "1.92170680739e-13\n",
      "27.9720986409 19.4764764907\n",
      "0.00185846763836\n",
      "i = 62\n",
      "1.92268608397e-13\n",
      "28.0226993408 19.5629801443\n",
      "0.00175565020572\n",
      "i = 63\n",
      "1.92363333113e-13\n",
      "28.0716813199 19.6471082699\n",
      "0.00165509415966\n",
      "i = 64\n",
      "1.92454848456e-13\n",
      "28.1191108242 19.728923864\n",
      "0.00156057263504\n",
      "i = 65\n",
      "1.92543292264e-13\n",
      "28.1650490956 19.8084969676\n",
      "0.00147180429002\n",
      "i = 66\n",
      "1.92628792313e-13\n",
      "28.2095537147 19.8858945965\n",
      "0.00138838578363\n",
      "i = 67\n",
      "1.92711468732e-13\n",
      "28.252681153 19.9611831577\n",
      "0.00131005376994\n",
      "i = 68\n",
      "1.92791438792e-13\n",
      "28.2944829653 20.0344360334\n",
      "0.00123658136262\n",
      "i = 69\n",
      "1.92868809788e-13\n",
      "28.3350093643 20.1057182109\n",
      "0.0011675787562\n",
      "i = 70\n",
      "1.92943685767e-13\n",
      "28.3743092293 20.1750816413\n",
      "0.00110260138182\n",
      "i = 71\n",
      "1.93016167739e-13\n",
      "28.4124291043 20.2425789247\n",
      "0.0010414347768\n",
      "i = 72\n",
      "1.93086351771e-13\n",
      "28.4494132596 20.3082653351\n",
      "0.000983907175952\n",
      "i = 73\n",
      "1.93154329074e-13\n",
      "28.485303909 20.3721942511\n",
      "0.000929785939579\n",
      "i = 74\n",
      "1.93220186471e-13\n",
      "28.520141324 20.4344172339\n",
      "0.000878854308899\n",
      "i = 75\n",
      "1.93284006646e-13\n",
      "28.5539639405 20.494984101\n",
      "0.000830910267648\n",
      "i = 76\n",
      "1.93345868371e-13\n",
      "28.5868073095 20.5539473744\n",
      "0.000785802711415\n",
      "i = 77\n",
      "1.93405844458e-13\n",
      "28.6187060424 20.6113550491\n",
      "0.000743327644795\n",
      "i = 78\n",
      "1.93464005578e-13\n",
      "28.6496936054 20.6672547573\n",
      "0.000703344927162\n",
      "i = 79\n",
      "1.93520419818e-13\n",
      "28.6798020414 20.7216900108\n",
      "0.000665665330071\n",
      "i = 80\n",
      "1.93575152293e-13\n",
      "28.709051477 20.7746888943\n",
      "0.000629758069175\n",
      "i = 81\n",
      "1.93628245902e-13\n",
      "28.7374580741 20.826248548\n",
      "0.000595101523453\n",
      "i = 82\n",
      "1.93679736895e-13\n",
      "28.7650423074 20.87636566\n",
      "0.00056175092549\n",
      "i = 83\n",
      "1.93729669538e-13\n",
      "28.791834213 20.9250830976\n",
      "0.000530397659315\n",
      "i = 84\n",
      "1.93778104173e-13\n",
      "28.8178627107 20.972440889\n",
      "0.000500901370707\n",
      "i = 85\n",
      "1.93825098801e-13\n",
      "28.8431491234 21.0184564823\n",
      "0.000472799253275\n",
      "i = 86\n",
      "1.93870697768e-13\n",
      "28.8677188284 21.0631723244\n",
      "0.000446382371683\n",
      "i = 87\n",
      "1.93914951755e-13\n",
      "28.8915965647 21.1066274634\n",
      "0.000421529758138\n",
      "i = 88\n",
      "1.93957910059e-13\n",
      "28.9148060247 21.1488596309\n",
      "0.000398142632767\n",
      "i = 89\n",
      "1.93999619774e-13\n",
      "28.9373699027 21.1899053038\n",
      "0.000376128912793\n",
      "i = 90\n",
      "1.9404012589e-13\n",
      "28.9593100227 21.2297990396\n",
      "0.00035539696566\n",
      "i = 91\n",
      "1.9407947159e-13\n",
      "28.9806501129 21.2685754668\n",
      "0.000335919741263\n",
      "i = 92\n",
      "1.94117703389e-13\n",
      "29.0014151856 21.3062802558\n",
      "0.000317759220426\n",
      "i = 93\n",
      "1.94154869419e-13\n",
      "29.0216241154 21.3429535191\n",
      "0.000300716792224\n",
      "i = 94\n",
      "1.94191006267e-13\n",
      "29.0412951095 21.3786253343\n",
      "0.000284646487109\n",
      "i = 95\n",
      "1.94226149561e-13\n",
      "29.0604379486 21.4132967237\n",
      "0.000269155066681\n",
      "i = 96\n",
      "1.9426032047e-13\n",
      "29.0790672709 21.4469870297\n",
      "0.000254441090675\n",
      "i = 97\n",
      "1.94293548215e-13\n",
      "29.0971994845 21.4797252458\n",
      "0.000240573112253\n",
      "i = 98\n",
      "1.94325864659e-13\n",
      "29.114850359 21.5115394321\n",
      "0.000227499667742\n",
      "i = 99\n",
      "1.94357300342e-13\n",
      "29.1320350556 21.5424567498\n",
      "0.000215172620779\n",
      "i = 100\n",
      "1.94387884548e-13\n",
      "29.1487681551 21.572503493\n",
      "0.000203546933487\n",
      "i = 101\n",
      "1.94417645364e-13\n",
      "29.1650636849 21.6017051208\n",
      "0.000192580454314\n",
      "i = 102\n",
      "1.94446609742e-13\n",
      "29.1809351442 21.6300862865\n",
      "0.000182233721271\n",
      "i = 103\n",
      "1.9447480355e-13\n",
      "29.1963955281 21.657670867\n",
      "0.000172469779377\n",
      "i = 104\n",
      "1.94502251627e-13\n",
      "29.21145735 21.6844819896\n",
      "0.000163254011263\n",
      "i = 105\n",
      "1.94528977827e-13\n",
      "29.2261299495 21.710541178\n",
      "0.000154521203804\n",
      "i = 106\n",
      "1.94555000002e-13\n",
      "29.2404202744 21.7358685934\n",
      "0.000146220354416\n",
      "i = 107\n",
      "1.94580331464e-13\n",
      "29.2543398486 21.7604853667\n",
      "0.000138384548357\n",
      "i = 108\n",
      "1.94604994007e-13\n",
      "29.2678997814 21.784411977\n",
      "0.000130986446374\n",
      "i = 109\n",
      "1.94629008592e-13\n",
      "29.2811107862 21.8076682749\n",
      "0.000124000406414\n",
      "i = 110\n",
      "1.94652395385e-13\n",
      "29.2939831968 21.8302735034\n",
      "0.000117402371884\n",
      "i = 111\n",
      "1.94675173792e-13\n",
      "29.3065269838 21.8522463184\n",
      "0.000111169767725\n",
      "i = 112\n",
      "1.94697362495e-13\n",
      "29.3187517697 21.8736048089\n",
      "0.000105281403701\n",
      "i = 113\n",
      "1.94718979482e-13\n",
      "29.3187517697 21.8736048089\n",
      "0.0\n"
     ]
    }
   ],
   "source": [
    "m_LM,inc_est,dec_est,phi,imax,pest,incs,decs = fc.levenberg_marquardt_NNLS(\n",
    "    data_obs,airborne['x'],airborne['y'],airborne['z'],xs,ys,zs,inc_gf,dec_gf,\n",
    "    -10.,-10.,lamb,dlamb,i_pos,it_max,it_marq,eps_e,eps_i,mu_pos)"
   ]
  },
  {
   "cell_type": "markdown",
   "metadata": {},
   "source": [
    "### Visualization of the convergence"
   ]
  },
  {
   "cell_type": "code",
   "execution_count": 29,
   "metadata": {},
   "outputs": [],
   "source": [
    "phi = (np.array(phi)/airborne['x'].size)"
   ]
  },
  {
   "cell_type": "code",
   "execution_count": 30,
   "metadata": {},
   "outputs": [
    {
     "data": {
      "text/plain": [
       "<matplotlib.figure.Figure at 0x7fed255c4dd0>"
      ]
     },
     "metadata": {},
     "output_type": "display_data"
    },
    {
     "data": {
      "image/png": "[encoded data removed]",
      "text/plain": [
       "<matplotlib.figure.Figure at 0x7fed255c4d90>"
      ]
     },
     "metadata": {},
     "output_type": "display_data"
    }
   ],
   "source": [
    "title_font = 20\n",
    "bottom_font = 18\n",
    "saturation_factor = 1.\n",
    "plt.close('all')\n",
    "plt.figure(figsize=(9,9), tight_layout=True)\n",
    "\n",
    "plt.figure(figsize=(10, 10))\n",
    "plt.plot(phi, 'b--')\n",
    "plt.plot(phi, 'b.')\n",
    "\n",
    "plt.title('Convergence analysis', fontsize=title_font)\n",
    "plt.xlabel('iteration', fontsize = title_font)\n",
    "plt.ylabel('$\\phi$', fontsize = title_font)\n",
    "plt.tick_params(axis='both', which='major', labelsize=15)\n",
    "\n",
    "file_name = 'figs/airborne/instability/convergence_LM_NNLS_magRM_seed= %.1f' % seed\n",
    "plt.savefig(file_name+'.png',dpi=300)\n",
    "saved_files.append(file_name+'.png')\n",
    "\n",
    "plt.savefig(file_name+'.eps',dpi=300)\n",
    "saved_files.append(file_name+'.eps')\n",
    "\n",
    "\n",
    "plt.show()"
   ]
  },
  {
   "cell_type": "markdown",
   "metadata": {},
   "source": [
    "### Estimated magnetization direction"
   ]
  },
  {
   "cell_type": "code",
   "execution_count": 31,
   "metadata": {},
   "outputs": [
    {
     "name": "stdout",
     "output_type": "stream",
     "text": [
      "(29.318751769682319, 21.87360480887919)\n"
     ]
    }
   ],
   "source": [
    "print (inc_est,dec_est)"
   ]
  },
  {
   "cell_type": "code",
   "execution_count": 32,
   "metadata": {},
   "outputs": [
    {
     "name": "stdout",
     "output_type": "stream",
     "text": [
      "(30.0, 20.0)\n"
     ]
    }
   ],
   "source": [
    "print (inc_R,dec_R)"
   ]
  },
  {
   "cell_type": "markdown",
   "metadata": {},
   "source": [
    "### Comparison between observed data and predicted data"
   ]
  },
  {
   "cell_type": "code",
   "execution_count": 33,
   "metadata": {},
   "outputs": [],
   "source": [
    "pred = fc.tfa_layer(airborne['x'],airborne['y'],airborne['z'],\n",
    "                    xs,ys,zs,inc_gf,dec_gf,m_LM,inc_est,dec_est)"
   ]
  },
  {
   "cell_type": "code",
   "execution_count": 34,
   "metadata": {},
   "outputs": [],
   "source": [
    "res = pred - data_obs"
   ]
  },
  {
   "cell_type": "code",
   "execution_count": 35,
   "metadata": {},
   "outputs": [],
   "source": [
    "r_norm,r_mean,r_std = fc.residual(data_obs,pred)"
   ]
  },
  {
   "cell_type": "code",
   "execution_count": 36,
   "metadata": {},
   "outputs": [
    {
     "name": "stderr",
     "output_type": "stream",
     "text": [
      "/home/andrelreis/anaconda2/lib/python2.7/site-packages/matplotlib/figure.py:1744: UserWarning: This figure includes Axes that are not compatible with tight_layout, so its results might be incorrect.\n",
      "  warnings.warn(\"This figure includes Axes that are not \"\n"
     ]
    },
    {
     "data": {
      "image/png": "[encoded data removed]",
      "text/plain": [
       "<matplotlib.figure.Figure at 0x7fed25440690>"
      ]
     },
     "metadata": {},
     "output_type": "display_data"
    }
   ],
   "source": [
    "title_font = 18\n",
    "bottom_font = 15\n",
    "saturation_factor = 1.\n",
    "plt.close('all')\n",
    "plt.figure(figsize=(15,15), tight_layout=True)\n",
    "\n",
    "ranges = saturation_factor*np.abs([data_obs.max(), \n",
    "                                   data_obs.min(),\n",
    "                                   pred.max(), pred.min()]).max()\n",
    "res_ranges = np.max(np.abs(res))\n",
    "\n",
    "plt.subplot(2,2,1)\n",
    "plt.contourf(airborne['y'].reshape(airborne['shape']),\n",
    "             airborne['x'].reshape(airborne['shape']), \n",
    "             data_obs.reshape(airborne['shape']),\n",
    "             20, cmap='viridis',vmin=-ranges, vmax=ranges)\n",
    "plt.colorbar(pad=0.01, aspect=40, shrink=1.0).set_label('nT',size=bottom_font)\n",
    "plt.xlabel('y (m)', fontsize = title_font)\n",
    "plt.ylabel('x (m)', fontsize = title_font)\n",
    "plt.title('(a) TFA (model_RM)',fontsize=title_font)\n",
    "plt.tick_params(axis='both', which='major', labelsize=12)\n",
    "\n",
    "plt.subplot(2,2,2)\n",
    "plt.contourf(airborne['y'].reshape(airborne['shape']),\n",
    "             airborne['x'].reshape(airborne['shape']),\n",
    "             pred.reshape(airborne['shape']),\n",
    "             20, cmap='viridis',  vmin=-ranges, vmax=ranges)\n",
    "plt.colorbar(pad=0.01, aspect=40, shrink=1.0).set_label('nT',size=bottom_font)\n",
    "plt.xlabel('y (m)', fontsize = title_font)\n",
    "plt.ylabel('x (m)', fontsize = title_font)\n",
    "plt.title('(b) TFA (Layer)', fontsize=title_font)\n",
    "plt.tick_params(axis='both', which='major', labelsize=12)\n",
    "\n",
    "plt.subplot(2,2,3)\n",
    "plt.contourf(airborne['y'].reshape(airborne['shape']),\n",
    "             airborne['x'].reshape(airborne['shape']),\n",
    "             res.reshape(airborne['shape']), \n",
    "             20, cmap='viridis',  vmin=-res_ranges, vmax=res_ranges)\n",
    "plt.colorbar(pad=0.01, aspect=40, shrink=1.0).set_label('nT',size=bottom_font)\n",
    "plt.xlabel('y (m)', fontsize = title_font)\n",
    "plt.ylabel('x (m)', fontsize = title_font)\n",
    "plt.title('(c) Residual map', fontsize=title_font)\n",
    "plt.tick_params(axis='both', which='major', labelsize=12)\n",
    "\n",
    "\n",
    "plt.subplot(2,2,4)\n",
    "plt.xlabel('$\\mu$ = %.3f | $\\sigma$ = %.3f nT' % (r_mean, r_std),\n",
    "           fontsize = bottom_font)\n",
    "nbins = int((np.max(r_norm - np.min(r_norm))))\n",
    "plt.hist(r_norm,bins=nbins,normed=True)\n",
    "plt.ylim(0.,1.)\n",
    "plt.xlim(-10., 10.)\n",
    "plt.title('(d) Normalized Histogram',fontsize=title_font)\n",
    "plt.tick_params(axis='both', which='major', labelsize=12)\n",
    "\n",
    "file_name = 'figs/airborne/instability/data_fitting_LM_NNLS_magRM_seed= %.1f' % seed\n",
    "plt.savefig(file_name+'.png',dpi=300)\n",
    "saved_files.append(file_name+'.png')\n",
    "\n",
    "plt.savefig(file_name+'.eps',dpi=300)\n",
    "saved_files.append(file_name+'.eps')\n",
    "\n",
    "\n",
    "plt.show()"
   ]
  },
  {
   "cell_type": "markdown",
   "metadata": {},
   "source": [
    "### Estimated magnetic moment within the layer"
   ]
  },
  {
   "cell_type": "code",
   "execution_count": 37,
   "metadata": {},
   "outputs": [
    {
     "data": {
      "image/png": "[encoded data removed]",
      "text/plain": [
       "<matplotlib.figure.Figure at 0x7fed24c6b710>"
      ]
     },
     "metadata": {},
     "output_type": "display_data"
    }
   ],
   "source": [
    "title_font = 18\n",
    "bottom_font = 18\n",
    "saturation_factor = 1.\n",
    "plt.close('all')\n",
    "plt.figure(figsize=(9,9), tight_layout=True)\n",
    "\n",
    "plt.contourf(ys.reshape(shape_layer),xs.reshape(shape_layer), \n",
    "             m_LM.reshape(shape_layer), 20, cmap='viridis')\n",
    "plt.colorbar(pad=0.01, aspect=40, shrink=1.0).set_label('$A.m^2$',size=bottom_font)\n",
    "plt.xlabel('y (m)', fontsize = title_font)\n",
    "plt.ylabel('x (m)', fontsize = title_font)\n",
    "plt.title('Magnetic moment (layer)| inc = %.1f/dec = %.1f'% (inc_est,dec_est), fontsize=title_font)\n",
    "\n",
    "file_name = 'figs/airborne/instability/magnetic_moment_positive_LM_NNLS_magRM_seed= %.1f' % seed\n",
    "plt.savefig(file_name+'.png',dpi=300)\n",
    "saved_files.append(file_name+'.png')\n",
    "\n",
    "plt.savefig(file_name+'.eps',dpi=300)\n",
    "saved_files.append(file_name+'.eps')\n",
    "\n",
    "\n",
    "plt.show()"
   ]
  },
  {
   "cell_type": "markdown",
   "metadata": {},
   "source": [
    "### Results"
   ]
  },
  {
   "cell_type": "markdown",
   "metadata": {},
   "source": [
    "#### Generating .pickle file"
   ]
  },
  {
   "cell_type": "code",
   "execution_count": 38,
   "metadata": {},
   "outputs": [],
   "source": [
    "#now = datetime.datetime.utcnow().strftime('%d %B %Y %H:%M:%S UTC')\n",
    "#data_set['metadata'] = 'Generated by {name} on {date}'.format(date=now, name=notebook_name)"
   ]
  },
  {
   "cell_type": "code",
   "execution_count": 39,
   "metadata": {},
   "outputs": [],
   "source": [
    "#file_name = 'data/results_IM_reg.pickle'\n",
    "#with open(file_name, 'w') as f:\n",
    "#    pickle.dump(results_RM_reg, f)\n",
    "#    \n",
    "#saved_files.append(file_name)\n"
   ]
  },
  {
   "cell_type": "markdown",
   "metadata": {},
   "source": [
    "### Saved files"
   ]
  },
  {
   "cell_type": "code",
   "execution_count": 40,
   "metadata": {},
   "outputs": [],
   "source": [
    "#with open('reports/report_%s.md' % notebook_name[:st.index(notebook_name, '.')], 'w') as q:\n",
    "#    q.write('# Saved files \\n')\n",
    "#    now = datetime.datetime.utcnow().strftime('%d %B %Y %H:%M:%S UTC')\n",
    "#    header = 'Generated by {name} on {date}'.format(date=now, name=notebook_name)\n",
    "#    q.write('\\n\\n'+header+'\\n\\n')\n",
    "#    for i, sf in enumerate(saved_files):\n",
    "#        print '%d  %s' % (i+1,sf)\n",
    "#        q.write('*  `%s` \\n' % (sf))"
   ]
  },
  {
   "cell_type": "code",
   "execution_count": null,
   "metadata": {},
   "outputs": [],
   "source": []
  },
  {
   "cell_type": "code",
   "execution_count": null,
   "metadata": {},
   "outputs": [],
   "source": []
  }
 ],
 "metadata": {
  "kernelspec": {
   "display_name": "Python 2",
   "language": "python",
   "name": "python2"
  },
  "language_info": {
   "codemirror_mode": {
    "name": "ipython",
    "version": 2
   },
   "file_extension": ".py",
   "mimetype": "text/x-python",
   "name": "python",
   "nbconvert_exporter": "python",
   "pygments_lexer": "ipython2",
   "version": "2.7.14"
  }
 },
 "nbformat": 4,
 "nbformat_minor": 2
}
