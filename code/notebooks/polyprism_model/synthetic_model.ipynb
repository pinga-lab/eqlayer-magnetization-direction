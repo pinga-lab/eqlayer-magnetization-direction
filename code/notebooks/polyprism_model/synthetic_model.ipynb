{
 "cells": [
  {
   "cell_type": "markdown",
   "metadata": {},
   "source": [
    "# Synthetic Model "
   ]
  },
  {
   "cell_type": "markdown",
   "metadata": {},
   "source": [
    "Notebook to generate a set of models."
   ]
  },
  {
   "cell_type": "markdown",
   "metadata": {},
   "source": [
    "#### Import libraries"
   ]
  },
  {
   "cell_type": "code",
   "execution_count": 1,
   "metadata": {},
   "outputs": [
    {
     "name": "stderr",
     "output_type": "stream",
     "text": [
      "/home/andrelreis/anaconda2/lib/python2.7/site-packages/fatiando/vis/mpl.py:76: UserWarning: This module will be removed in v0.6. We recommend the use of matplotlib.pyplot module directly. Some of the fatiando specific functions will remain.\n",
      "  \"specific functions will remain.\")\n"
     ]
    }
   ],
   "source": [
    "from IPython.display import Markdown as md\n",
    "from IPython.display import display as dp\n",
    "import string as st\n",
    "import sys\n",
    "import numpy as np\n",
    "import matplotlib.pyplot as plt\n",
    "import cPickle as pickle\n",
    "import datetime\n",
    "\n",
    "from fatiando.utils import ang2vec, vec2ang\n",
    "from fatiando.mesher import Sphere, Prism, PolygonalPrism\n",
    "from fatiando.gravmag import sphere, prism, polyprism"
   ]
  },
  {
   "cell_type": "code",
   "execution_count": 2,
   "metadata": {},
   "outputs": [],
   "source": [
    "notebook_name = 'synthetic_model.ipynb'"
   ]
  },
  {
   "cell_type": "markdown",
   "metadata": {},
   "source": [
    "#### Black background figures"
   ]
  },
  {
   "cell_type": "code",
   "execution_count": 3,
   "metadata": {},
   "outputs": [],
   "source": [
    "plt.style.use('classic')"
   ]
  },
  {
   "cell_type": "markdown",
   "metadata": {},
   "source": [
    "#### Importing auxiliary functions"
   ]
  },
  {
   "cell_type": "code",
   "execution_count": 4,
   "metadata": {},
   "outputs": [],
   "source": [
    "dir_modules = '../'\n",
    "sys.path.append(dir_modules)"
   ]
  },
  {
   "cell_type": "code",
   "execution_count": 5,
   "metadata": {},
   "outputs": [],
   "source": [
    "import eql_functions as func"
   ]
  },
  {
   "cell_type": "markdown",
   "metadata": {},
   "source": [
    "#### Loading 2D grid properties"
   ]
  },
  {
   "cell_type": "code",
   "execution_count": 6,
   "metadata": {},
   "outputs": [],
   "source": [
    "with open('data/regular_grid.pickle') as f:\n",
    "        regular = pickle.load(f)"
   ]
  },
  {
   "cell_type": "code",
   "execution_count": 7,
   "metadata": {},
   "outputs": [],
   "source": [
    "with open('data/airborne_survey.pickle') as f:\n",
    "        airborne = pickle.load(f)"
   ]
  },
  {
   "cell_type": "markdown",
   "metadata": {},
   "source": [
    "#### List of saved files"
   ]
  },
  {
   "cell_type": "code",
   "execution_count": 8,
   "metadata": {},
   "outputs": [],
   "source": [
    "saved_files = []"
   ]
  },
  {
   "cell_type": "markdown",
   "metadata": {},
   "source": [
    "### Observation area"
   ]
  },
  {
   "cell_type": "code",
   "execution_count": 9,
   "metadata": {},
   "outputs": [
    {
     "name": "stdout",
     "output_type": "stream",
     "text": [
      "Area limits: \n",
      " x_max = 6000.0 m \n",
      " x_min = -6000.0 m \n",
      " y_max = 6000.0 m \n",
      " y_min = -6000.0 m\n"
     ]
    }
   ],
   "source": [
    "print 'Area limits: \\n x_max = %.1f m \\n x_min = %.1f m \\n y_max = %.1f m \\n y_min = %.1f m' % (regular['area'][1], regular['area'][0],regular['area'][3],regular['area'][2])"
   ]
  },
  {
   "cell_type": "markdown",
   "metadata": {},
   "source": [
    "## Regional Field"
   ]
  },
  {
   "cell_type": "code",
   "execution_count": 10,
   "metadata": {},
   "outputs": [],
   "source": [
    "inc_gf , dec_gf = (40.,45.) "
   ]
  },
  {
   "cell_type": "markdown",
   "metadata": {},
   "source": [
    "## Create a model w/ the presence of Remanence Magnetization "
   ]
  },
  {
   "cell_type": "code",
   "execution_count": 11,
   "metadata": {},
   "outputs": [],
   "source": [
    "model_poly_remanent = dict()"
   ]
  },
  {
   "cell_type": "markdown",
   "metadata": {},
   "source": [
    "#### Vertices of a Polygonal prism"
   ]
  },
  {
   "cell_type": "code",
   "execution_count": 12,
   "metadata": {},
   "outputs": [],
   "source": [
    "model_poly_remanent['x_verts'] = [1000.,1000.,300.,0.,-1000.,-1000.,1000.]"
   ]
  },
  {
   "cell_type": "code",
   "execution_count": 13,
   "metadata": {},
   "outputs": [],
   "source": [
    "model_poly_remanent['y_verts'] = [-1000.,0.,300.,2000.,2000.,-1000.,-1000.]"
   ]
  },
  {
   "cell_type": "code",
   "execution_count": 14,
   "metadata": {},
   "outputs": [],
   "source": [
    "model_poly_remanent['z_top'] = 800."
   ]
  },
  {
   "cell_type": "code",
   "execution_count": 15,
   "metadata": {},
   "outputs": [],
   "source": [
    "model_poly_remanent['z_bottom'] = 3000."
   ]
  },
  {
   "cell_type": "code",
   "execution_count": 16,
   "metadata": {},
   "outputs": [],
   "source": [
    "model_poly_remanent['verts'] = zip(model_poly_remanent['x_verts'],\n",
    "                                   model_poly_remanent['y_verts'] )"
   ]
  },
  {
   "cell_type": "markdown",
   "metadata": {},
   "source": [
    "#### Main field"
   ]
  },
  {
   "cell_type": "code",
   "execution_count": 17,
   "metadata": {},
   "outputs": [],
   "source": [
    "model_poly_remanent['main_field'] = (inc_gf,dec_gf)"
   ]
  },
  {
   "cell_type": "markdown",
   "metadata": {},
   "source": [
    "#### Magnetization of a PolyPrism"
   ]
  },
  {
   "cell_type": "code",
   "execution_count": 18,
   "metadata": {},
   "outputs": [],
   "source": [
    "model_poly_remanent['m_R'] = 5.\n",
    "model_poly_remanent['inc_R'] = 70.\n",
    "model_poly_remanent['dec_R'] = 30.\n",
    "\n",
    "mag_tot_R = ang2vec(model_poly_remanent['m_R'],\n",
    "                  model_poly_remanent['inc_R'],\n",
    "                  model_poly_remanent['dec_R'])\n",
    "\n",
    "model_poly_remanent['magnetization'] = mag_tot_R"
   ]
  },
  {
   "cell_type": "code",
   "execution_count": 19,
   "metadata": {},
   "outputs": [],
   "source": [
    "model_poly_remanent['magnetization_sph_coord'] = vec2ang(mag_tot_R)"
   ]
  },
  {
   "cell_type": "markdown",
   "metadata": {},
   "source": [
    "### Creating a polyprism model"
   ]
  },
  {
   "cell_type": "code",
   "execution_count": 20,
   "metadata": {},
   "outputs": [],
   "source": [
    "model_poly_remanent['model'] = [PolygonalPrism(model_poly_remanent['verts'],\n",
    "                                              model_poly_remanent['z_top'],\n",
    "                                              model_poly_remanent['z_bottom'],\n",
    "                                              {'magnetization':mag_tot_R})]"
   ]
  },
  {
   "cell_type": "markdown",
   "metadata": {},
   "source": [
    "#### Generating .pickle file"
   ]
  },
  {
   "cell_type": "code",
   "execution_count": 21,
   "metadata": {},
   "outputs": [],
   "source": [
    "now = datetime.datetime.utcnow().strftime('%d %B %Y %H:%M:%S UTC')\n",
    "model_poly_remanent['metadata'] = 'Generated by {name} on {date}'.format(date=now, name=notebook_name)"
   ]
  },
  {
   "cell_type": "code",
   "execution_count": 22,
   "metadata": {},
   "outputs": [],
   "source": [
    "file_name = 'data/model_poly_remanent.pickle'\n",
    "with open(file_name, 'w') as f:\n",
    "    pickle.dump(model_poly_remanent, f)\n",
    "    \n",
    "saved_files.append(file_name)"
   ]
  },
  {
   "cell_type": "code",
   "execution_count": 23,
   "metadata": {},
   "outputs": [
    {
     "name": "stdout",
     "output_type": "stream",
     "text": [
      "magnetization_sph_coord : [5.0, 70.0, 29.999999999999996]\n",
      "y_verts : [-1000.0, 0.0, 300.0, 2000.0, 2000.0, -1000.0, -1000.0]\n",
      "x_verts : [1000.0, 1000.0, 300.0, 0.0, -1000.0, -1000.0, 1000.0]\n",
      "main_field : (40.0, 45.0)\n",
      "dec_R : 30.0\n",
      "magnetization : [ 1.48099066  0.85505036  4.6984631 ]\n",
      "verts : [(1000.0, -1000.0), (1000.0, 0.0), (300.0, 300.0), (0.0, 2000.0), (-1000.0, 2000.0), (-1000.0, -1000.0), (1000.0, -1000.0)]\n",
      "inc_R : 70.0\n",
      "m_R : 5.0\n",
      "model : [<fatiando.mesher.PolygonalPrism object at 0x7fab66d87a90>]\n",
      "z_top : 800.0\n",
      "z_bottom : 3000.0\n",
      "metadata : Generated by synthetic_model.ipynb on 17 August 2018 19:01:18 UTC\n"
     ]
    }
   ],
   "source": [
    "for r in model_poly_remanent:\n",
    "    print r, ':', model_poly_remanent[r]"
   ]
  },
  {
   "cell_type": "markdown",
   "metadata": {},
   "source": [
    "## Create a simple model w/ Induced Magnetization in a Polyprism"
   ]
  },
  {
   "cell_type": "code",
   "execution_count": 24,
   "metadata": {},
   "outputs": [],
   "source": [
    "model_poly_induced = dict()"
   ]
  },
  {
   "cell_type": "markdown",
   "metadata": {},
   "source": [
    "### Main field"
   ]
  },
  {
   "cell_type": "code",
   "execution_count": 25,
   "metadata": {},
   "outputs": [],
   "source": [
    "model_poly_induced['main_field'] = (inc_gf,dec_gf)"
   ]
  },
  {
   "cell_type": "markdown",
   "metadata": {},
   "source": [
    "#### Vertices of a Polygonal prism"
   ]
  },
  {
   "cell_type": "code",
   "execution_count": 26,
   "metadata": {},
   "outputs": [],
   "source": [
    "model_poly_induced['x_verts'] = [1000.,1000.,300.,0.,-1000.,-1000.,1000.]"
   ]
  },
  {
   "cell_type": "code",
   "execution_count": 27,
   "metadata": {},
   "outputs": [],
   "source": [
    "model_poly_induced['y_verts'] = [-1000.,0.,300.,2000.,2000.,-1000.,-1000.]"
   ]
  },
  {
   "cell_type": "code",
   "execution_count": 28,
   "metadata": {},
   "outputs": [],
   "source": [
    "model_poly_induced['z_top'] = 800."
   ]
  },
  {
   "cell_type": "code",
   "execution_count": 29,
   "metadata": {},
   "outputs": [],
   "source": [
    "model_poly_induced['z_bottom'] = 3000."
   ]
  },
  {
   "cell_type": "code",
   "execution_count": 30,
   "metadata": {},
   "outputs": [],
   "source": [
    "model_poly_induced['verts'] = zip(model_poly_induced['x_verts'],\n",
    "                                   model_poly_induced['y_verts'] )"
   ]
  },
  {
   "cell_type": "markdown",
   "metadata": {},
   "source": [
    "### Magnetization direction"
   ]
  },
  {
   "cell_type": "code",
   "execution_count": 31,
   "metadata": {},
   "outputs": [],
   "source": [
    "model_poly_induced['m_I'] = 5.\n",
    "model_poly_induced['inc_I'] = inc_gf\n",
    "model_poly_induced['dec_I'] = dec_gf\n",
    "\n",
    "mag_tot_I = ang2vec(model_poly_induced['m_I'],\n",
    "                    model_poly_induced['inc_I'],\n",
    "                    model_poly_induced['dec_I'])\n",
    "\n",
    "model_poly_induced['magnetization'] = mag_tot_I"
   ]
  },
  {
   "cell_type": "code",
   "execution_count": 32,
   "metadata": {},
   "outputs": [],
   "source": [
    "model_poly_induced['magnetization_sph_coord'] = vec2ang(mag_tot_I)"
   ]
  },
  {
   "cell_type": "markdown",
   "metadata": {},
   "source": [
    "#### Creating the model"
   ]
  },
  {
   "cell_type": "code",
   "execution_count": 33,
   "metadata": {},
   "outputs": [],
   "source": [
    "model_poly_induced['model'] = [PolygonalPrism(model_poly_induced['verts'],\n",
    "                                              model_poly_induced['z_top'],\n",
    "                                              model_poly_induced['z_bottom'],\n",
    "                                              {'magnetization':mag_tot_I})]"
   ]
  },
  {
   "cell_type": "markdown",
   "metadata": {},
   "source": [
    "#### Generating a .pickle file"
   ]
  },
  {
   "cell_type": "code",
   "execution_count": 34,
   "metadata": {},
   "outputs": [],
   "source": [
    "now = datetime.datetime.utcnow().strftime('%d %B %Y %H:%M:%S UTC')\n",
    "model_poly_induced['metadata'] = 'Generated by {name} on {date}'.format(date=now, name=notebook_name)"
   ]
  },
  {
   "cell_type": "code",
   "execution_count": 35,
   "metadata": {},
   "outputs": [],
   "source": [
    "file_name = 'data/model_poly_induced.pickle'\n",
    "with open(file_name, 'w') as f:\n",
    "    pickle.dump(model_poly_induced, f)\n",
    "    \n",
    "saved_files.append(file_name)"
   ]
  },
  {
   "cell_type": "code",
   "execution_count": 36,
   "metadata": {},
   "outputs": [
    {
     "name": "stdout",
     "output_type": "stream",
     "text": [
      "magnetization_sph_coord : [5.0, 39.999999999999993, 45.0]\n",
      "m_I : 5.0\n",
      "y_verts : [-1000.0, 0.0, 300.0, 2000.0, 2000.0, -1000.0, -1000.0]\n",
      "x_verts : [1000.0, 1000.0, 300.0, 0.0, -1000.0, -1000.0, 1000.0]\n",
      "dec_I : 45.0\n",
      "main_field : (40.0, 45.0)\n",
      "inc_I : 40.0\n",
      "magnetization : [ 2.7083761   2.7083761   3.21393805]\n",
      "verts : [(1000.0, -1000.0), (1000.0, 0.0), (300.0, 300.0), (0.0, 2000.0), (-1000.0, 2000.0), (-1000.0, -1000.0), (1000.0, -1000.0)]\n",
      "model : [<fatiando.mesher.PolygonalPrism object at 0x7fab66d87b10>]\n",
      "z_top : 800.0\n",
      "z_bottom : 3000.0\n",
      "metadata : Generated by synthetic_model.ipynb on 17 August 2018 19:01:19 UTC\n"
     ]
    }
   ],
   "source": [
    "for r in model_poly_induced:\n",
    "    print r, ':', model_poly_induced[r]"
   ]
  },
  {
   "cell_type": "markdown",
   "metadata": {},
   "source": [
    "## Visualization of prism limits"
   ]
  },
  {
   "cell_type": "code",
   "execution_count": 37,
   "metadata": {},
   "outputs": [
    {
     "name": "stderr",
     "output_type": "stream",
     "text": [
      "/home/andrelreis/anaconda2/lib/python2.7/site-packages/matplotlib/figure.py:1744: UserWarning: This figure includes Axes that are not compatible with tight_layout, so its results might be incorrect.\n",
      "  warnings.warn(\"This figure includes Axes that are not \"\n"
     ]
    },
    {
     "data": {
      "image/png": "[encoded data removed]",
      "text/plain": [
       "<matplotlib.figure.Figure at 0x7fab666b3490>"
      ]
     },
     "metadata": {},
     "output_type": "display_data"
    }
   ],
   "source": [
    "title_font = 20\n",
    "bottom_font = 16\n",
    "saturation_factor = 1.\n",
    "plt.close('all')\n",
    "plt.figure(figsize=(8,8), tight_layout=True)\n",
    "\n",
    "plt.title('Prism Bounds',fontsize=title_font)\n",
    "plt.plot(model_poly_remanent['y_verts'], model_poly_remanent['x_verts'],\n",
    "         color='b',linestyle='-',linewidth=2)\n",
    "#plt.plot(regular['y'], regular['x'],'k.')\n",
    "plt.xlabel('y (m)', fontsize = title_font)\n",
    "plt.ylabel('x (m)', fontsize = title_font)\n",
    "plt.ylim(np.min(regular['x']),np.max(regular['x']))\n",
    "plt.xlim(np.min(regular['y']),np.max(regular['y']))\n",
    "\n",
    "\n",
    "file_name = 'figs/prism_bound_regular_grid'\n",
    "plt.savefig(file_name+'.png',dpi=200)\n",
    "saved_files.append(file_name+'.png')\n",
    "\n",
    "\n",
    "plt.show()"
   ]
  },
  {
   "cell_type": "markdown",
   "metadata": {},
   "source": [
    "#### Saved files"
   ]
  },
  {
   "cell_type": "code",
   "execution_count": 38,
   "metadata": {},
   "outputs": [
    {
     "name": "stdout",
     "output_type": "stream",
     "text": [
      "1  data/model_poly_remanent.pickle\n",
      "2  data/model_poly_induced.pickle\n",
      "3  figs/prism_bound_regular_grid.png\n"
     ]
    }
   ],
   "source": [
    "with open('reports/report_%s.md' % notebook_name[:st.index(notebook_name, '.')], 'w') as q:\n",
    "    q.write('# Saved files \\n')\n",
    "    now = datetime.datetime.utcnow().strftime('%d %B %Y %H:%M:%S UTC')\n",
    "    header = 'Generated by {name} on {date}'.format(date=now, name=notebook_name)\n",
    "    q.write('\\n\\n'+header+'\\n\\n')\n",
    "    for i, sf in enumerate(saved_files):\n",
    "        print '%d  %s' % (i+1,sf)\n",
    "        q.write('*  `%s` \\n' % (sf))"
   ]
  },
  {
   "cell_type": "code",
   "execution_count": 39,
   "metadata": {},
   "outputs": [],
   "source": [
    "#fig = plt.figure()\n",
    "#ax = fig.add_subplot(111)\n",
    "#ax.set_title('Click on figure to set any point')\n",
    "#ax.axis([grid['y'].min(), grid['y'].max(), grid['x'].min(),grid['x'].max()])\n",
    "#ax.set_ylabel('x (m)')\n",
    "#ax.set_xlabel('y (m)')\n",
    "\n",
    "#line, = ax.plot([], [])\n",
    "#line.figure.canvas.draw()\n",
    "#x = []\n",
    "#y = []\n",
    "#plotx = []\n",
    "#ploty = []\n",
    "#def pick(event):\n",
    "#    x.append(event.xdata)\n",
    "#    y.append(event.ydata)\n",
    "#    plotx.append(event.xdata)\n",
    "#    ploty.append(event.ydata)\n",
    "#    if event.dblclick:\n",
    "#        x.append(x[0])\n",
    "#        y.append(y[0])\n",
    "#        plotx.append(x[0])\n",
    "#        ploty.append(y[0])\n",
    "#    line.set_color('r')\n",
    "#    line.set_marker('o')\n",
    "#    line.set_linestyle('-')\n",
    "#    line.set_data(plotx,ploty)\n",
    "#    line.figure.canvas.draw()\n",
    "\n",
    "#line.figure.canvas.mpl_connect('button_press_event', pick)\n",
    "\n",
    "#plt.show()\n",
    "\n",
    "#prop_bodies['verts_polyprism'] = zip(y,x)"
   ]
  }
 ],
 "metadata": {
  "kernelspec": {
   "display_name": "Python 2",
   "language": "python",
   "name": "python2"
  },
  "language_info": {
   "codemirror_mode": {
    "name": "ipython",
    "version": 2
   },
   "file_extension": ".py",
   "mimetype": "text/x-python",
   "name": "python",
   "nbconvert_exporter": "python",
   "pygments_lexer": "ipython2",
   "version": "2.7.14"
  }
 },
 "nbformat": 4,
 "nbformat_minor": 2
}
