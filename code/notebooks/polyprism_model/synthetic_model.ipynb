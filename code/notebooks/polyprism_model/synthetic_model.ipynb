{
 "cells": [
  {
   "cell_type": "markdown",
   "metadata": {},
   "source": [
    "# Synthetic Model "
   ]
  },
  {
   "cell_type": "markdown",
   "metadata": {},
   "source": [
    "Notebook to generate a set of models."
   ]
  },
  {
   "cell_type": "markdown",
   "metadata": {},
   "source": [
    "#### Import libraries"
   ]
  },
  {
   "cell_type": "code",
   "execution_count": 1,
   "metadata": {},
   "outputs": [
    {
     "name": "stderr",
     "output_type": "stream",
     "text": [
      "/home/andrelreis/anaconda2/lib/python2.7/site-packages/fatiando/vis/mpl.py:76: UserWarning: This module will be removed in v0.6. We recommend the use of matplotlib.pyplot module directly. Some of the fatiando specific functions will remain.\n",
      "  \"specific functions will remain.\")\n"
     ]
    }
   ],
   "source": [
    "from IPython.display import Markdown as md\n",
    "from IPython.display import display as dp\n",
    "import string as st\n",
    "import sys\n",
    "import numpy as np\n",
    "import matplotlib.pyplot as plt\n",
    "import cPickle as pickle\n",
    "import datetime\n",
    "\n",
    "from mpl_toolkits.mplot3d import Axes3D\n",
    "from mpl_toolkits.mplot3d.art3d import Poly3DCollection, Line3DCollection\n",
    "from fatiando.utils import ang2vec, vec2ang\n",
    "from fatiando.mesher import Sphere, Prism, PolygonalPrism\n",
    "from fatiando.gravmag import sphere, prism, polyprism"
   ]
  },
  {
   "cell_type": "code",
   "execution_count": 2,
   "metadata": {},
   "outputs": [],
   "source": [
    "notebook_name = 'synthetic_model.ipynb'"
   ]
  },
  {
   "cell_type": "markdown",
   "metadata": {},
   "source": [
    "#### Importing auxiliary functions"
   ]
  },
  {
   "cell_type": "code",
   "execution_count": 3,
   "metadata": {},
   "outputs": [],
   "source": [
    "dir_modules = '../../mypackage'\n",
    "sys.path.append(dir_modules)"
   ]
  },
  {
   "cell_type": "code",
   "execution_count": 4,
   "metadata": {},
   "outputs": [],
   "source": [
    "import auxiliary_functions as func"
   ]
  },
  {
   "cell_type": "markdown",
   "metadata": {},
   "source": [
    "#### Loading 2D grid properties"
   ]
  },
  {
   "cell_type": "code",
   "execution_count": 5,
   "metadata": {},
   "outputs": [],
   "source": [
    "with open('data/regular_grid.pickle') as f:\n",
    "        regular = pickle.load(f)"
   ]
  },
  {
   "cell_type": "code",
   "execution_count": 6,
   "metadata": {},
   "outputs": [],
   "source": [
    "with open('data/airborne_survey.pickle') as f:\n",
    "        airborne = pickle.load(f)"
   ]
  },
  {
   "cell_type": "markdown",
   "metadata": {},
   "source": [
    "#### List of saved files"
   ]
  },
  {
   "cell_type": "code",
   "execution_count": 7,
   "metadata": {},
   "outputs": [],
   "source": [
    "saved_files = []"
   ]
  },
  {
   "cell_type": "markdown",
   "metadata": {},
   "source": [
    "### Observation area"
   ]
  },
  {
   "cell_type": "code",
   "execution_count": 8,
   "metadata": {},
   "outputs": [
    {
     "name": "stdout",
     "output_type": "stream",
     "text": [
      "Area limits: \n",
      " x_max = 6000.0 m \n",
      " x_min = -6000.0 m \n",
      " y_max = 6000.0 m \n",
      " y_min = -6000.0 m\n"
     ]
    }
   ],
   "source": [
    "print 'Area limits: \\n x_max = %.1f m \\n x_min = %.1f m \\n y_max = %.1f m \\n y_min = %.1f m' % (regular['area'][1], regular['area'][0],regular['area'][3],regular['area'][2])"
   ]
  },
  {
   "cell_type": "markdown",
   "metadata": {},
   "source": [
    "## Regional Field"
   ]
  },
  {
   "cell_type": "code",
   "execution_count": 9,
   "metadata": {},
   "outputs": [],
   "source": [
    "inc_gf , dec_gf = (20.,20.) "
   ]
  },
  {
   "cell_type": "markdown",
   "metadata": {},
   "source": [
    "## Create a model w/ the presence of Remanence Magnetization "
   ]
  },
  {
   "cell_type": "code",
   "execution_count": 10,
   "metadata": {},
   "outputs": [],
   "source": [
    "model_poly_remanent = dict()"
   ]
  },
  {
   "cell_type": "markdown",
   "metadata": {},
   "source": [
    "#### Vertices of a Polygonal prism"
   ]
  },
  {
   "cell_type": "code",
   "execution_count": 11,
   "metadata": {},
   "outputs": [],
   "source": [
    "model_poly_remanent['x_verts'] = [1500.,1500.,500.,0.,-1500.,-1500.,1500.]"
   ]
  },
  {
   "cell_type": "code",
   "execution_count": 12,
   "metadata": {},
   "outputs": [],
   "source": [
    "model_poly_remanent['y_verts'] = [-1500.,0.,500.,2500.,2500.,-1500.,-1500.]"
   ]
  },
  {
   "cell_type": "code",
   "execution_count": 13,
   "metadata": {},
   "outputs": [],
   "source": [
    "model_poly_remanent['z_top'] = 450."
   ]
  },
  {
   "cell_type": "code",
   "execution_count": 14,
   "metadata": {},
   "outputs": [],
   "source": [
    "model_poly_remanent['z_bottom'] = 3000."
   ]
  },
  {
   "cell_type": "code",
   "execution_count": 15,
   "metadata": {},
   "outputs": [],
   "source": [
    "model_poly_remanent['verts'] = zip(model_poly_remanent['x_verts'],\n",
    "                                   model_poly_remanent['y_verts'] )"
   ]
  },
  {
   "cell_type": "markdown",
   "metadata": {},
   "source": [
    "#### Main field"
   ]
  },
  {
   "cell_type": "code",
   "execution_count": 16,
   "metadata": {},
   "outputs": [],
   "source": [
    "model_poly_remanent['main_field'] = (inc_gf,dec_gf)"
   ]
  },
  {
   "cell_type": "markdown",
   "metadata": {},
   "source": [
    "#### Magnetization of a PolyPrism"
   ]
  },
  {
   "cell_type": "code",
   "execution_count": 17,
   "metadata": {},
   "outputs": [],
   "source": [
    "model_poly_remanent['m'] = 3.\n",
    "model_poly_remanent['inc'] = 55.\n",
    "model_poly_remanent['dec'] = 40.\n",
    "\n",
    "mag_tot_R = ang2vec(model_poly_remanent['m'],\n",
    "                  model_poly_remanent['inc'],\n",
    "                  model_poly_remanent['dec'])\n",
    "\n",
    "model_poly_remanent['magnetization'] = mag_tot_R"
   ]
  },
  {
   "cell_type": "code",
   "execution_count": 18,
   "metadata": {},
   "outputs": [],
   "source": [
    "model_poly_remanent['magnetization_sph_coord'] = vec2ang(mag_tot_R)"
   ]
  },
  {
   "cell_type": "markdown",
   "metadata": {},
   "source": [
    "### Creating a polyprism model"
   ]
  },
  {
   "cell_type": "code",
   "execution_count": 19,
   "metadata": {},
   "outputs": [],
   "source": [
    "model_poly_remanent['model'] = [PolygonalPrism(model_poly_remanent['verts'],\n",
    "                                              model_poly_remanent['z_top'],\n",
    "                                              model_poly_remanent['z_bottom'],\n",
    "                                              {'magnetization':mag_tot_R})]"
   ]
  },
  {
   "cell_type": "markdown",
   "metadata": {},
   "source": [
    "#### Generating .pickle file"
   ]
  },
  {
   "cell_type": "code",
   "execution_count": 20,
   "metadata": {},
   "outputs": [],
   "source": [
    "now = datetime.datetime.utcnow().strftime('%d %B %Y %H:%M:%S UTC')\n",
    "model_poly_remanent['metadata'] = 'Generated by {name} on {date}'.format(date=now, name=notebook_name)"
   ]
  },
  {
   "cell_type": "code",
   "execution_count": 21,
   "metadata": {},
   "outputs": [],
   "source": [
    "file_name = 'data/model_poly_remanent.pickle'\n",
    "with open(file_name, 'w') as f:\n",
    "    pickle.dump(model_poly_remanent, f)\n",
    "    \n",
    "saved_files.append(file_name)"
   ]
  },
  {
   "cell_type": "code",
   "execution_count": 22,
   "metadata": {},
   "outputs": [
    {
     "name": "stdout",
     "output_type": "stream",
     "text": [
      "magnetization_sph_coord : [3.0, 55.0, 40.000000000000007]\n",
      "dec : 40.0\n",
      "y_verts : [-1500.0, 0.0, 500.0, 2500.0, 2500.0, -1500.0, -1500.0]\n",
      "x_verts : [1500.0, 1500.0, 500.0, 0.0, -1500.0, -1500.0, 1500.0]\n",
      "m : 3.0\n",
      "main_field : (20.0, 20.0)\n",
      "metadata : Generated by synthetic_model.ipynb on 01 April 2019 21:21:54 UTC\n",
      "magnetization : [ 1.31815513  1.10606348  2.45745613]\n",
      "verts : [(1500.0, -1500.0), (1500.0, 0.0), (500.0, 500.0), (0.0, 2500.0), (-1500.0, 2500.0), (-1500.0, -1500.0), (1500.0, -1500.0)]\n",
      "model : [<fatiando.mesher.PolygonalPrism object at 0x7f340232b390>]\n",
      "z_top : 450.0\n",
      "z_bottom : 3000.0\n",
      "inc : 55.0\n"
     ]
    }
   ],
   "source": [
    "for r in model_poly_remanent:\n",
    "    print r, ':', model_poly_remanent[r]"
   ]
  },
  {
   "cell_type": "markdown",
   "metadata": {},
   "source": [
    "## Create a simple model w/ Induced Magnetization at the pole"
   ]
  },
  {
   "cell_type": "code",
   "execution_count": 23,
   "metadata": {},
   "outputs": [],
   "source": [
    "model_poly_induced = dict()"
   ]
  },
  {
   "cell_type": "markdown",
   "metadata": {},
   "source": [
    "### Main field"
   ]
  },
  {
   "cell_type": "code",
   "execution_count": 24,
   "metadata": {},
   "outputs": [],
   "source": [
    "inc_pole = 90.\n",
    "dec_pole = 0."
   ]
  },
  {
   "cell_type": "code",
   "execution_count": 25,
   "metadata": {},
   "outputs": [],
   "source": [
    "model_poly_induced['main_field'] = (inc_pole,dec_pole)"
   ]
  },
  {
   "cell_type": "markdown",
   "metadata": {},
   "source": [
    "#### Vertices of a Polygonal prism"
   ]
  },
  {
   "cell_type": "code",
   "execution_count": 26,
   "metadata": {},
   "outputs": [],
   "source": [
    "model_poly_induced['x_verts'] = [1500.,1500.,500.,0.,-1500.,-1500.,1500.]"
   ]
  },
  {
   "cell_type": "code",
   "execution_count": 27,
   "metadata": {},
   "outputs": [],
   "source": [
    "model_poly_induced['y_verts'] = [-1500.,0.,500.,2500.,2500.,-1500.,-1500.]"
   ]
  },
  {
   "cell_type": "code",
   "execution_count": 28,
   "metadata": {},
   "outputs": [],
   "source": [
    "model_poly_induced['z_top'] = 450."
   ]
  },
  {
   "cell_type": "code",
   "execution_count": 29,
   "metadata": {},
   "outputs": [],
   "source": [
    "model_poly_induced['z_bottom'] = 3000."
   ]
  },
  {
   "cell_type": "code",
   "execution_count": 30,
   "metadata": {},
   "outputs": [],
   "source": [
    "model_poly_induced['verts'] = zip(model_poly_induced['x_verts'],\n",
    "                                   model_poly_induced['y_verts'] )"
   ]
  },
  {
   "cell_type": "markdown",
   "metadata": {},
   "source": [
    "### Magnetization direction"
   ]
  },
  {
   "cell_type": "code",
   "execution_count": 31,
   "metadata": {},
   "outputs": [],
   "source": [
    "model_poly_induced['m'] = 3.\n",
    "model_poly_induced['inc'] = inc_pole\n",
    "model_poly_induced['dec'] = dec_pole\n",
    "\n",
    "mag_tot_I = ang2vec(model_poly_induced['m'],\n",
    "                    model_poly_induced['inc'],\n",
    "                    model_poly_induced['dec'])\n",
    "\n",
    "model_poly_induced['magnetization'] = mag_tot_I"
   ]
  },
  {
   "cell_type": "code",
   "execution_count": 32,
   "metadata": {},
   "outputs": [],
   "source": [
    "model_poly_induced['magnetization_sph_coord'] = vec2ang(mag_tot_I)"
   ]
  },
  {
   "cell_type": "markdown",
   "metadata": {},
   "source": [
    "#### Creating the model"
   ]
  },
  {
   "cell_type": "code",
   "execution_count": 33,
   "metadata": {},
   "outputs": [],
   "source": [
    "model_poly_induced['model'] = [PolygonalPrism(model_poly_induced['verts'],\n",
    "                                              model_poly_induced['z_top'],\n",
    "                                              model_poly_induced['z_bottom'],\n",
    "                                              {'magnetization':mag_tot_I})]"
   ]
  },
  {
   "cell_type": "markdown",
   "metadata": {},
   "source": [
    "#### Generating a .pickle file"
   ]
  },
  {
   "cell_type": "code",
   "execution_count": 34,
   "metadata": {},
   "outputs": [],
   "source": [
    "now = datetime.datetime.utcnow().strftime('%d %B %Y %H:%M:%S UTC')\n",
    "model_poly_induced['metadata'] = 'Generated by {name} on {date}'.format(date=now, name=notebook_name)"
   ]
  },
  {
   "cell_type": "code",
   "execution_count": 35,
   "metadata": {},
   "outputs": [],
   "source": [
    "file_name = 'data/model_poly_induced.pickle'\n",
    "with open(file_name, 'w') as f:\n",
    "    pickle.dump(model_poly_induced, f)\n",
    "    \n",
    "saved_files.append(file_name)"
   ]
  },
  {
   "cell_type": "code",
   "execution_count": 36,
   "metadata": {},
   "outputs": [
    {
     "name": "stdout",
     "output_type": "stream",
     "text": [
      "magnetization_sph_coord : [3.0, 90.0, 0.0]\n",
      "dec : 0.0\n",
      "y_verts : [-1500.0, 0.0, 500.0, 2500.0, 2500.0, -1500.0, -1500.0]\n",
      "x_verts : [1500.0, 1500.0, 500.0, 0.0, -1500.0, -1500.0, 1500.0]\n",
      "m : 3.0\n",
      "main_field : (90.0, 0.0)\n",
      "metadata : Generated by synthetic_model.ipynb on 01 April 2019 21:21:55 UTC\n",
      "magnetization : [  1.83697020e-16   0.00000000e+00   3.00000000e+00]\n",
      "verts : [(1500.0, -1500.0), (1500.0, 0.0), (500.0, 500.0), (0.0, 2500.0), (-1500.0, 2500.0), (-1500.0, -1500.0), (1500.0, -1500.0)]\n",
      "model : [<fatiando.mesher.PolygonalPrism object at 0x7f340232b450>]\n",
      "z_top : 450.0\n",
      "z_bottom : 3000.0\n",
      "inc : 90.0\n"
     ]
    }
   ],
   "source": [
    "for r in model_poly_induced:\n",
    "    print r, ':', model_poly_induced[r]"
   ]
  },
  {
   "cell_type": "markdown",
   "metadata": {},
   "source": [
    "## Visualization of prism limits"
   ]
  },
  {
   "cell_type": "code",
   "execution_count": 37,
   "metadata": {},
   "outputs": [
    {
     "name": "stderr",
     "output_type": "stream",
     "text": [
      "/home/andrelreis/anaconda2/lib/python2.7/site-packages/matplotlib/figure.py:1744: UserWarning: This figure includes Axes that are not compatible with tight_layout, so its results might be incorrect.\n",
      "  warnings.warn(\"This figure includes Axes that are not \"\n"
     ]
    },
    {
     "data": {
      "image/png": "[encoded data removed]",
      "text/plain": [
       "<matplotlib.figure.Figure at 0x7f3402333390>"
      ]
     },
     "metadata": {},
     "output_type": "display_data"
    }
   ],
   "source": [
    "title_font = 20\n",
    "bottom_font = 18\n",
    "saturation_factor = 1.\n",
    "plt.close('all')\n",
    "plt.figure(figsize=(9,9), tight_layout=True)\n",
    "\n",
    "plt.title('Prism Bounds',fontsize=title_font)\n",
    "plt.plot(model_poly_remanent['y_verts'], model_poly_remanent['x_verts'],\n",
    "         color='k',linestyle='-',linewidth=2)\n",
    "#plt.plot(airborne['y'], airborne['x'],'k.')\n",
    "plt.xlabel('y (m)', fontsize = title_font)\n",
    "plt.ylabel('x (m)', fontsize = title_font)\n",
    "plt.ylim(np.min(regular['x']),np.max(regular['x']))\n",
    "plt.xlim(np.min(regular['y']),np.max(regular['y']))\n",
    "plt.tick_params(labelsize=15)\n",
    "\n",
    "file_name = 'figs/prism_bound'\n",
    "plt.savefig(file_name+'.png',dpi=200)\n",
    "saved_files.append(file_name+'.png')\n",
    "\n",
    "plt.savefig(file_name+'.eps',dpi=200)\n",
    "saved_files.append(file_name+'.eps')\n",
    "\n",
    "\n",
    "plt.show()"
   ]
  },
  {
   "cell_type": "markdown",
   "metadata": {},
   "source": [
    "## 3D visualization"
   ]
  },
  {
   "cell_type": "code",
   "execution_count": 38,
   "metadata": {},
   "outputs": [],
   "source": [
    "x_verts = 1e-3*np.array(model_poly_remanent['x_verts'])\n",
    "y_verts = 1e-3*np.array(model_poly_remanent['y_verts'])\n",
    "z_top = 1e-3*model_poly_remanent['z_top']*np.ones_like(model_poly_remanent['x_verts'])\n",
    "z_bottom = 1e-3*model_poly_remanent['z_bottom']*np.ones_like(model_poly_remanent['x_verts'])"
   ]
  },
  {
   "cell_type": "code",
   "execution_count": 39,
   "metadata": {},
   "outputs": [],
   "source": [
    "x_max = 1e-3*6000.0  \n",
    "x_min = -1e-3*6000.0  \n",
    "y_max = 1e-3*6000.0 \n",
    "y_min = -1e-3*6000.0"
   ]
  },
  {
   "cell_type": "code",
   "execution_count": 40,
   "metadata": {},
   "outputs": [],
   "source": [
    "verts_c = [list(zip(x_verts,y_verts,z_top)),\n",
    "           list(zip(x_verts,y_verts,z_bottom))]"
   ]
  },
  {
   "cell_type": "code",
   "execution_count": 41,
   "metadata": {},
   "outputs": [],
   "source": [
    "verts_s = []\n",
    "for i,j in zip(x_verts,y_verts):\n",
    "    verts_s.append([(i,j,z_top[0]),(i,j,z_bottom[0])])   "
   ]
  },
  {
   "cell_type": "code",
   "execution_count": 42,
   "metadata": {},
   "outputs": [
    {
     "data": {
      "application/javascript": [
       "/* Put everything inside the global mpl namespace */\n",
       "window.mpl = {};\n",
       "\n",
       "mpl.get_websocket_type = function() {\n",
       "    if (typeof(WebSocket) !== 'undefined') {\n",
       "        return WebSocket;\n",
       "    } else if (typeof(MozWebSocket) !== 'undefined') {\n",
       "        return MozWebSocket;\n",
       "    } else {\n",
       "        alert('Your browser does not have WebSocket support.' +\n",
       "              'Please try Chrome, Safari or Firefox ≥ 6. ' +\n",
       "              'Firefox 4 and 5 are also supported but you ' +\n",
       "              'have to enable WebSockets in about:config.');\n",
       "    };\n",
       "}\n",
       "\n",
       "mpl.figure = function(figure_id, websocket, ondownload, parent_element) {\n",
       "    this.id = figure_id;\n",
       "\n",
       "    this.ws = websocket;\n",
       "\n",
       "    this.supports_binary = (this.ws.binaryType != undefined);\n",
       "\n",
       "    if (!this.supports_binary) {\n",
       "        var warnings = document.getElementById(\"mpl-warnings\");\n",
       "        if (warnings) {\n",
       "            warnings.style.display = 'block';\n",
       "            warnings.textContent = (\n",
       "                \"This browser does not support binary websocket messages. \" +\n",
       "                    \"Performance may be slow.\");\n",
       "        }\n",
       "    }\n",
       "\n",
       "    this.imageObj = new Image();\n",
       "\n",
       "    this.context = undefined;\n",
       "    this.message = undefined;\n",
       "    this.canvas = undefined;\n",
       "    this.rubberband_canvas = undefined;\n",
       "    this.rubberband_context = undefined;\n",
       "    this.format_dropdown = undefined;\n",
       "\n",
       "    this.image_mode = 'full';\n",
       "\n",
       "    this.root = $('<div/>');\n",
       "    this._root_extra_style(this.root)\n",
       "    this.root.attr('style', 'display: inline-block');\n",
       "\n",
       "    $(parent_element).append(this.root);\n",
       "\n",
       "    this._init_header(this);\n",
       "    this._init_canvas(this);\n",
       "    this._init_toolbar(this);\n",
       "\n",
       "    var fig = this;\n",
       "\n",
       "    this.waiting = false;\n",
       "\n",
       "    this.ws.onopen =  function () {\n",
       "            fig.send_message(\"supports_binary\", {value: fig.supports_binary});\n",
       "            fig.send_message(\"send_image_mode\", {});\n",
       "            fig.send_message(\"refresh\", {});\n",
       "        }\n",
       "\n",
       "    this.imageObj.onload = function() {\n",
       "            if (fig.image_mode == 'full') {\n",
       "                // Full images could contain transparency (where diff images\n",
       "                // almost always do), so we need to clear the canvas so that\n",
       "                // there is no ghosting.\n",
       "                fig.context.clearRect(0, 0, fig.canvas.width, fig.canvas.height);\n",
       "            }\n",
       "            fig.context.drawImage(fig.imageObj, 0, 0);\n",
       "        };\n",
       "\n",
       "    this.imageObj.onunload = function() {\n",
       "        this.ws.close();\n",
       "    }\n",
       "\n",
       "    this.ws.onmessage = this._make_on_message_function(this);\n",
       "\n",
       "    this.ondownload = ondownload;\n",
       "}\n",
       "\n",
       "mpl.figure.prototype._init_header = function() {\n",
       "    var titlebar = $(\n",
       "        '<div class=\"ui-dialog-titlebar ui-widget-header ui-corner-all ' +\n",
       "        'ui-helper-clearfix\"/>');\n",
       "    var titletext = $(\n",
       "        '<div class=\"ui-dialog-title\" style=\"width: 100%; ' +\n",
       "        'text-align: center; padding: 3px;\"/>');\n",
       "    titlebar.append(titletext)\n",
       "    this.root.append(titlebar);\n",
       "    this.header = titletext[0];\n",
       "}\n",
       "\n",
       "\n",
       "\n",
       "mpl.figure.prototype._canvas_extra_style = function(canvas_div) {\n",
       "\n",
       "}\n",
       "\n",
       "\n",
       "mpl.figure.prototype._root_extra_style = function(canvas_div) {\n",
       "\n",
       "}\n",
       "\n",
       "mpl.figure.prototype._init_canvas = function() {\n",
       "    var fig = this;\n",
       "\n",
       "    var canvas_div = $('<div/>');\n",
       "\n",
       "    canvas_div.attr('style', 'position: relative; clear: both; outline: 0');\n",
       "\n",
       "    function canvas_keyboard_event(event) {\n",
       "        return fig.key_event(event, event['data']);\n",
       "    }\n",
       "\n",
       "    canvas_div.keydown('key_press', canvas_keyboard_event);\n",
       "    canvas_div.keyup('key_release', canvas_keyboard_event);\n",
       "    this.canvas_div = canvas_div\n",
       "    this._canvas_extra_style(canvas_div)\n",
       "    this.root.append(canvas_div);\n",
       "\n",
       "    var canvas = $('<canvas/>');\n",
       "    canvas.addClass('mpl-canvas');\n",
       "    canvas.attr('style', \"left: 0; top: 0; z-index: 0; outline: 0\")\n",
       "\n",
       "    this.canvas = canvas[0];\n",
       "    this.context = canvas[0].getContext(\"2d\");\n",
       "\n",
       "    var rubberband = $('<canvas/>');\n",
       "    rubberband.attr('style', \"position: absolute; left: 0; top: 0; z-index: 1;\")\n",
       "\n",
       "    var pass_mouse_events = true;\n",
       "\n",
       "    canvas_div.resizable({\n",
       "        start: function(event, ui) {\n",
       "            pass_mouse_events = false;\n",
       "        },\n",
       "        resize: function(event, ui) {\n",
       "            fig.request_resize(ui.size.width, ui.size.height);\n",
       "        },\n",
       "        stop: function(event, ui) {\n",
       "            pass_mouse_events = true;\n",
       "            fig.request_resize(ui.size.width, ui.size.height);\n",
       "        },\n",
       "    });\n",
       "\n",
       "    function mouse_event_fn(event) {\n",
       "        if (pass_mouse_events)\n",
       "            return fig.mouse_event(event, event['data']);\n",
       "    }\n",
       "\n",
       "    rubberband.mousedown('button_press', mouse_event_fn);\n",
       "    rubberband.mouseup('button_release', mouse_event_fn);\n",
       "    // Throttle sequential mouse events to 1 every 20ms.\n",
       "    rubberband.mousemove('motion_notify', mouse_event_fn);\n",
       "\n",
       "    rubberband.mouseenter('figure_enter', mouse_event_fn);\n",
       "    rubberband.mouseleave('figure_leave', mouse_event_fn);\n",
       "\n",
       "    canvas_div.on(\"wheel\", function (event) {\n",
       "        event = event.originalEvent;\n",
       "        event['data'] = 'scroll'\n",
       "        if (event.deltaY < 0) {\n",
       "            event.step = 1;\n",
       "        } else {\n",
       "            event.step = -1;\n",
       "        }\n",
       "        mouse_event_fn(event);\n",
       "    });\n",
       "\n",
       "    canvas_div.append(canvas);\n",
       "    canvas_div.append(rubberband);\n",
       "\n",
       "    this.rubberband = rubberband;\n",
       "    this.rubberband_canvas = rubberband[0];\n",
       "    this.rubberband_context = rubberband[0].getContext(\"2d\");\n",
       "    this.rubberband_context.strokeStyle = \"#000000\";\n",
       "\n",
       "    this._resize_canvas = function(width, height) {\n",
       "        // Keep the size of the canvas, canvas container, and rubber band\n",
       "        // canvas in synch.\n",
       "        canvas_div.css('width', width)\n",
       "        canvas_div.css('height', height)\n",
       "\n",
       "        canvas.attr('width', width);\n",
       "        canvas.attr('height', height);\n",
       "\n",
       "        rubberband.attr('width', width);\n",
       "        rubberband.attr('height', height);\n",
       "    }\n",
       "\n",
       "    // Set the figure to an initial 600x600px, this will subsequently be updated\n",
       "    // upon first draw.\n",
       "    this._resize_canvas(600, 600);\n",
       "\n",
       "    // Disable right mouse context menu.\n",
       "    $(this.rubberband_canvas).bind(\"contextmenu\",function(e){\n",
       "        return false;\n",
       "    });\n",
       "\n",
       "    function set_focus () {\n",
       "        canvas.focus();\n",
       "        canvas_div.focus();\n",
       "    }\n",
       "\n",
       "    window.setTimeout(set_focus, 100);\n",
       "}\n",
       "\n",
       "mpl.figure.prototype._init_toolbar = function() {\n",
       "    var fig = this;\n",
       "\n",
       "    var nav_element = $('<div/>')\n",
       "    nav_element.attr('style', 'width: 100%');\n",
       "    this.root.append(nav_element);\n",
       "\n",
       "    // Define a callback function for later on.\n",
       "    function toolbar_event(event) {\n",
       "        return fig.toolbar_button_onclick(event['data']);\n",
       "    }\n",
       "    function toolbar_mouse_event(event) {\n",
       "        return fig.toolbar_button_onmouseover(event['data']);\n",
       "    }\n",
       "\n",
       "    for(var toolbar_ind in mpl.toolbar_items) {\n",
       "        var name = mpl.toolbar_items[toolbar_ind][0];\n",
       "        var tooltip = mpl.toolbar_items[toolbar_ind][1];\n",
       "        var image = mpl.toolbar_items[toolbar_ind][2];\n",
       "        var method_name = mpl.toolbar_items[toolbar_ind][3];\n",
       "\n",
       "        if (!name) {\n",
       "            // put a spacer in here.\n",
       "            continue;\n",
       "        }\n",
       "        var button = $('<button/>');\n",
       "        button.addClass('ui-button ui-widget ui-state-default ui-corner-all ' +\n",
       "                        'ui-button-icon-only');\n",
       "        button.attr('role', 'button');\n",
       "        button.attr('aria-disabled', 'false');\n",
       "        button.click(method_name, toolbar_event);\n",
       "        button.mouseover(tooltip, toolbar_mouse_event);\n",
       "\n",
       "        var icon_img = $('<span/>');\n",
       "        icon_img.addClass('ui-button-icon-primary ui-icon');\n",
       "        icon_img.addClass(image);\n",
       "        icon_img.addClass('ui-corner-all');\n",
       "\n",
       "        var tooltip_span = $('<span/>');\n",
       "        tooltip_span.addClass('ui-button-text');\n",
       "        tooltip_span.html(tooltip);\n",
       "\n",
       "        button.append(icon_img);\n",
       "        button.append(tooltip_span);\n",
       "\n",
       "        nav_element.append(button);\n",
       "    }\n",
       "\n",
       "    var fmt_picker_span = $('<span/>');\n",
       "\n",
       "    var fmt_picker = $('<select/>');\n",
       "    fmt_picker.addClass('mpl-toolbar-option ui-widget ui-widget-content');\n",
       "    fmt_picker_span.append(fmt_picker);\n",
       "    nav_element.append(fmt_picker_span);\n",
       "    this.format_dropdown = fmt_picker[0];\n",
       "\n",
       "    for (var ind in mpl.extensions) {\n",
       "        var fmt = mpl.extensions[ind];\n",
       "        var option = $(\n",
       "            '<option/>', {selected: fmt === mpl.default_extension}).html(fmt);\n",
       "        fmt_picker.append(option)\n",
       "    }\n",
       "\n",
       "    // Add hover states to the ui-buttons\n",
       "    $( \".ui-button\" ).hover(\n",
       "        function() { $(this).addClass(\"ui-state-hover\");},\n",
       "        function() { $(this).removeClass(\"ui-state-hover\");}\n",
       "    );\n",
       "\n",
       "    var status_bar = $('<span class=\"mpl-message\"/>');\n",
       "    nav_element.append(status_bar);\n",
       "    this.message = status_bar[0];\n",
       "}\n",
       "\n",
       "mpl.figure.prototype.request_resize = function(x_pixels, y_pixels) {\n",
       "    // Request matplotlib to resize the figure. Matplotlib will then trigger a resize in the client,\n",
       "    // which will in turn request a refresh of the image.\n",
       "    this.send_message('resize', {'width': x_pixels, 'height': y_pixels});\n",
       "}\n",
       "\n",
       "mpl.figure.prototype.send_message = function(type, properties) {\n",
       "    properties['type'] = type;\n",
       "    properties['figure_id'] = this.id;\n",
       "    this.ws.send(JSON.stringify(properties));\n",
       "}\n",
       "\n",
       "mpl.figure.prototype.send_draw_message = function() {\n",
       "    if (!this.waiting) {\n",
       "        this.waiting = true;\n",
       "        this.ws.send(JSON.stringify({type: \"draw\", figure_id: this.id}));\n",
       "    }\n",
       "}\n",
       "\n",
       "\n",
       "mpl.figure.prototype.handle_save = function(fig, msg) {\n",
       "    var format_dropdown = fig.format_dropdown;\n",
       "    var format = format_dropdown.options[format_dropdown.selectedIndex].value;\n",
       "    fig.ondownload(fig, format);\n",
       "}\n",
       "\n",
       "\n",
       "mpl.figure.prototype.handle_resize = function(fig, msg) {\n",
       "    var size = msg['size'];\n",
       "    if (size[0] != fig.canvas.width || size[1] != fig.canvas.height) {\n",
       "        fig._resize_canvas(size[0], size[1]);\n",
       "        fig.send_message(\"refresh\", {});\n",
       "    };\n",
       "}\n",
       "\n",
       "mpl.figure.prototype.handle_rubberband = function(fig, msg) {\n",
       "    var x0 = msg['x0'];\n",
       "    var y0 = fig.canvas.height - msg['y0'];\n",
       "    var x1 = msg['x1'];\n",
       "    var y1 = fig.canvas.height - msg['y1'];\n",
       "    x0 = Math.floor(x0) + 0.5;\n",
       "    y0 = Math.floor(y0) + 0.5;\n",
       "    x1 = Math.floor(x1) + 0.5;\n",
       "    y1 = Math.floor(y1) + 0.5;\n",
       "    var min_x = Math.min(x0, x1);\n",
       "    var min_y = Math.min(y0, y1);\n",
       "    var width = Math.abs(x1 - x0);\n",
       "    var height = Math.abs(y1 - y0);\n",
       "\n",
       "    fig.rubberband_context.clearRect(\n",
       "        0, 0, fig.canvas.width, fig.canvas.height);\n",
       "\n",
       "    fig.rubberband_context.strokeRect(min_x, min_y, width, height);\n",
       "}\n",
       "\n",
       "mpl.figure.prototype.handle_figure_label = function(fig, msg) {\n",
       "    // Updates the figure title.\n",
       "    fig.header.textContent = msg['label'];\n",
       "}\n",
       "\n",
       "mpl.figure.prototype.handle_cursor = function(fig, msg) {\n",
       "    var cursor = msg['cursor'];\n",
       "    switch(cursor)\n",
       "    {\n",
       "    case 0:\n",
       "        cursor = 'pointer';\n",
       "        break;\n",
       "    case 1:\n",
       "        cursor = 'default';\n",
       "        break;\n",
       "    case 2:\n",
       "        cursor = 'crosshair';\n",
       "        break;\n",
       "    case 3:\n",
       "        cursor = 'move';\n",
       "        break;\n",
       "    }\n",
       "    fig.rubberband_canvas.style.cursor = cursor;\n",
       "}\n",
       "\n",
       "mpl.figure.prototype.handle_message = function(fig, msg) {\n",
       "    fig.message.textContent = msg['message'];\n",
       "}\n",
       "\n",
       "mpl.figure.prototype.handle_draw = function(fig, msg) {\n",
       "    // Request the server to send over a new figure.\n",
       "    fig.send_draw_message();\n",
       "}\n",
       "\n",
       "mpl.figure.prototype.handle_image_mode = function(fig, msg) {\n",
       "    fig.image_mode = msg['mode'];\n",
       "}\n",
       "\n",
       "mpl.figure.prototype.updated_canvas_event = function() {\n",
       "    // Called whenever the canvas gets updated.\n",
       "    this.send_message(\"ack\", {});\n",
       "}\n",
       "\n",
       "// A function to construct a web socket function for onmessage handling.\n",
       "// Called in the figure constructor.\n",
       "mpl.figure.prototype._make_on_message_function = function(fig) {\n",
       "    return function socket_on_message(evt) {\n",
       "        if (evt.data instanceof Blob) {\n",
       "            /* FIXME: We get \"Resource interpreted as Image but\n",
       "             * transferred with MIME type text/plain:\" errors on\n",
       "             * Chrome.  But how to set the MIME type?  It doesn't seem\n",
       "             * to be part of the websocket stream */\n",
       "            evt.data.type = \"image/png\";\n",
       "\n",
       "            /* Free the memory for the previous frames */\n",
       "            if (fig.imageObj.src) {\n",
       "                (window.URL || window.webkitURL).revokeObjectURL(\n",
       "                    fig.imageObj.src);\n",
       "            }\n",
       "\n",
       "            fig.imageObj.src = (window.URL || window.webkitURL).createObjectURL(\n",
       "                evt.data);\n",
       "            fig.updated_canvas_event();\n",
       "            fig.waiting = false;\n",
       "            return;\n",
       "        }\n",
       "        else if (typeof evt.data === 'string' && evt.data.slice(0, 21) == \"data:image/png;base64\") {\n",
       "            fig.imageObj.src = evt.data;\n",
       "            fig.updated_canvas_event();\n",
       "            fig.waiting = false;\n",
       "            return;\n",
       "        }\n",
       "\n",
       "        var msg = JSON.parse(evt.data);\n",
       "        var msg_type = msg['type'];\n",
       "\n",
       "        // Call the  \"handle_{type}\" callback, which takes\n",
       "        // the figure and JSON message as its only arguments.\n",
       "        try {\n",
       "            var callback = fig[\"handle_\" + msg_type];\n",
       "        } catch (e) {\n",
       "            console.log(\"No handler for the '\" + msg_type + \"' message type: \", msg);\n",
       "            return;\n",
       "        }\n",
       "\n",
       "        if (callback) {\n",
       "            try {\n",
       "                // console.log(\"Handling '\" + msg_type + \"' message: \", msg);\n",
       "                callback(fig, msg);\n",
       "            } catch (e) {\n",
       "                console.log(\"Exception inside the 'handler_\" + msg_type + \"' callback:\", e, e.stack, msg);\n",
       "            }\n",
       "        }\n",
       "    };\n",
       "}\n",
       "\n",
       "// from http://stackoverflow.com/questions/1114465/getting-mouse-location-in-canvas\n",
       "mpl.findpos = function(e) {\n",
       "    //this section is from http://www.quirksmode.org/js/events_properties.html\n",
       "    var targ;\n",
       "    if (!e)\n",
       "        e = window.event;\n",
       "    if (e.target)\n",
       "        targ = e.target;\n",
       "    else if (e.srcElement)\n",
       "        targ = e.srcElement;\n",
       "    if (targ.nodeType == 3) // defeat Safari bug\n",
       "        targ = targ.parentNode;\n",
       "\n",
       "    // jQuery normalizes the pageX and pageY\n",
       "    // pageX,Y are the mouse positions relative to the document\n",
       "    // offset() returns the position of the element relative to the document\n",
       "    var x = e.pageX - $(targ).offset().left;\n",
       "    var y = e.pageY - $(targ).offset().top;\n",
       "\n",
       "    return {\"x\": x, \"y\": y};\n",
       "};\n",
       "\n",
       "/*\n",
       " * return a copy of an object with only non-object keys\n",
       " * we need this to avoid circular references\n",
       " * http://stackoverflow.com/a/24161582/3208463\n",
       " */\n",
       "function simpleKeys (original) {\n",
       "  return Object.keys(original).reduce(function (obj, key) {\n",
       "    if (typeof original[key] !== 'object')\n",
       "        obj[key] = original[key]\n",
       "    return obj;\n",
       "  }, {});\n",
       "}\n",
       "\n",
       "mpl.figure.prototype.mouse_event = function(event, name) {\n",
       "    var canvas_pos = mpl.findpos(event)\n",
       "\n",
       "    if (name === 'button_press')\n",
       "    {\n",
       "        this.canvas.focus();\n",
       "        this.canvas_div.focus();\n",
       "    }\n",
       "\n",
       "    var x = canvas_pos.x;\n",
       "    var y = canvas_pos.y;\n",
       "\n",
       "    this.send_message(name, {x: x, y: y, button: event.button,\n",
       "                             step: event.step,\n",
       "                             guiEvent: simpleKeys(event)});\n",
       "\n",
       "    /* This prevents the web browser from automatically changing to\n",
       "     * the text insertion cursor when the button is pressed.  We want\n",
       "     * to control all of the cursor setting manually through the\n",
       "     * 'cursor' event from matplotlib */\n",
       "    event.preventDefault();\n",
       "    return false;\n",
       "}\n",
       "\n",
       "mpl.figure.prototype._key_event_extra = function(event, name) {\n",
       "    // Handle any extra behaviour associated with a key event\n",
       "}\n",
       "\n",
       "mpl.figure.prototype.key_event = function(event, name) {\n",
       "\n",
       "    // Prevent repeat events\n",
       "    if (name == 'key_press')\n",
       "    {\n",
       "        if (event.which === this._key)\n",
       "            return;\n",
       "        else\n",
       "            this._key = event.which;\n",
       "    }\n",
       "    if (name == 'key_release')\n",
       "        this._key = null;\n",
       "\n",
       "    var value = '';\n",
       "    if (event.ctrlKey && event.which != 17)\n",
       "        value += \"ctrl+\";\n",
       "    if (event.altKey && event.which != 18)\n",
       "        value += \"alt+\";\n",
       "    if (event.shiftKey && event.which != 16)\n",
       "        value += \"shift+\";\n",
       "\n",
       "    value += 'k';\n",
       "    value += event.which.toString();\n",
       "\n",
       "    this._key_event_extra(event, name);\n",
       "\n",
       "    this.send_message(name, {key: value,\n",
       "                             guiEvent: simpleKeys(event)});\n",
       "    return false;\n",
       "}\n",
       "\n",
       "mpl.figure.prototype.toolbar_button_onclick = function(name) {\n",
       "    if (name == 'download') {\n",
       "        this.handle_save(this, null);\n",
       "    } else {\n",
       "        this.send_message(\"toolbar_button\", {name: name});\n",
       "    }\n",
       "};\n",
       "\n",
       "mpl.figure.prototype.toolbar_button_onmouseover = function(tooltip) {\n",
       "    this.message.textContent = tooltip;\n",
       "};\n",
       "mpl.toolbar_items = [[\"Home\", \"Reset original view\", \"fa fa-home icon-home\", \"home\"], [\"Back\", \"Back to  previous view\", \"fa fa-arrow-left icon-arrow-left\", \"back\"], [\"Forward\", \"Forward to next view\", \"fa fa-arrow-right icon-arrow-right\", \"forward\"], [\"\", \"\", \"\", \"\"], [\"Pan\", \"Pan axes with left mouse, zoom with right\", \"fa fa-arrows icon-move\", \"pan\"], [\"Zoom\", \"Zoom to rectangle\", \"fa fa-square-o icon-check-empty\", \"zoom\"], [\"\", \"\", \"\", \"\"], [\"Download\", \"Download plot\", \"fa fa-floppy-o icon-save\", \"download\"]];\n",
       "\n",
       "mpl.extensions = [\"eps\", \"jpeg\", \"pdf\", \"png\", \"ps\", \"raw\", \"svg\", \"tif\"];\n",
       "\n",
       "mpl.default_extension = \"png\";var comm_websocket_adapter = function(comm) {\n",
       "    // Create a \"websocket\"-like object which calls the given IPython comm\n",
       "    // object with the appropriate methods. Currently this is a non binary\n",
       "    // socket, so there is still some room for performance tuning.\n",
       "    var ws = {};\n",
       "\n",
       "    ws.close = function() {\n",
       "        comm.close()\n",
       "    };\n",
       "    ws.send = function(m) {\n",
       "        //console.log('sending', m);\n",
       "        comm.send(m);\n",
       "    };\n",
       "    // Register the callback with on_msg.\n",
       "    comm.on_msg(function(msg) {\n",
       "        //console.log('receiving', msg['content']['data'], msg);\n",
       "        // Pass the mpl event to the overriden (by mpl) onmessage function.\n",
       "        ws.onmessage(msg['content']['data'])\n",
       "    });\n",
       "    return ws;\n",
       "}\n",
       "\n",
       "mpl.mpl_figure_comm = function(comm, msg) {\n",
       "    // This is the function which gets called when the mpl process\n",
       "    // starts-up an IPython Comm through the \"matplotlib\" channel.\n",
       "\n",
       "    var id = msg.content.data.id;\n",
       "    // Get hold of the div created by the display call when the Comm\n",
       "    // socket was opened in Python.\n",
       "    var element = $(\"#\" + id);\n",
       "    var ws_proxy = comm_websocket_adapter(comm)\n",
       "\n",
       "    function ondownload(figure, format) {\n",
       "        window.open(figure.imageObj.src);\n",
       "    }\n",
       "\n",
       "    var fig = new mpl.figure(id, ws_proxy,\n",
       "                           ondownload,\n",
       "                           element.get(0));\n",
       "\n",
       "    // Call onopen now - mpl needs it, as it is assuming we've passed it a real\n",
       "    // web socket which is closed, not our websocket->open comm proxy.\n",
       "    ws_proxy.onopen();\n",
       "\n",
       "    fig.parent_element = element.get(0);\n",
       "    fig.cell_info = mpl.find_output_cell(\"<div id='\" + id + \"'></div>\");\n",
       "    if (!fig.cell_info) {\n",
       "        console.error(\"Failed to find cell for figure\", id, fig);\n",
       "        return;\n",
       "    }\n",
       "\n",
       "    var output_index = fig.cell_info[2]\n",
       "    var cell = fig.cell_info[0];\n",
       "\n",
       "};\n",
       "\n",
       "mpl.figure.prototype.handle_close = function(fig, msg) {\n",
       "    fig.root.unbind('remove')\n",
       "\n",
       "    // Update the output cell to use the data from the current canvas.\n",
       "    fig.push_to_output();\n",
       "    var dataURL = fig.canvas.toDataURL();\n",
       "    // Re-enable the keyboard manager in IPython - without this line, in FF,\n",
       "    // the notebook keyboard shortcuts fail.\n",
       "    IPython.keyboard_manager.enable()\n",
       "    $(fig.parent_element).html('<img src=\"' + dataURL + '\">');\n",
       "    fig.close_ws(fig, msg);\n",
       "}\n",
       "\n",
       "mpl.figure.prototype.close_ws = function(fig, msg){\n",
       "    fig.send_message('closing', msg);\n",
       "    // fig.ws.close()\n",
       "}\n",
       "\n",
       "mpl.figure.prototype.push_to_output = function(remove_interactive) {\n",
       "    // Turn the data on the canvas into data in the output cell.\n",
       "    var dataURL = this.canvas.toDataURL();\n",
       "    this.cell_info[1]['text/html'] = '<img src=\"' + dataURL + '\">';\n",
       "}\n",
       "\n",
       "mpl.figure.prototype.updated_canvas_event = function() {\n",
       "    // Tell IPython that the notebook contents must change.\n",
       "    IPython.notebook.set_dirty(true);\n",
       "    this.send_message(\"ack\", {});\n",
       "    var fig = this;\n",
       "    // Wait a second, then push the new image to the DOM so\n",
       "    // that it is saved nicely (might be nice to debounce this).\n",
       "    setTimeout(function () { fig.push_to_output() }, 1000);\n",
       "}\n",
       "\n",
       "mpl.figure.prototype._init_toolbar = function() {\n",
       "    var fig = this;\n",
       "\n",
       "    var nav_element = $('<div/>')\n",
       "    nav_element.attr('style', 'width: 100%');\n",
       "    this.root.append(nav_element);\n",
       "\n",
       "    // Define a callback function for later on.\n",
       "    function toolbar_event(event) {\n",
       "        return fig.toolbar_button_onclick(event['data']);\n",
       "    }\n",
       "    function toolbar_mouse_event(event) {\n",
       "        return fig.toolbar_button_onmouseover(event['data']);\n",
       "    }\n",
       "\n",
       "    for(var toolbar_ind in mpl.toolbar_items){\n",
       "        var name = mpl.toolbar_items[toolbar_ind][0];\n",
       "        var tooltip = mpl.toolbar_items[toolbar_ind][1];\n",
       "        var image = mpl.toolbar_items[toolbar_ind][2];\n",
       "        var method_name = mpl.toolbar_items[toolbar_ind][3];\n",
       "\n",
       "        if (!name) { continue; };\n",
       "\n",
       "        var button = $('<button class=\"btn btn-default\" href=\"#\" title=\"' + name + '\"><i class=\"fa ' + image + ' fa-lg\"></i></button>');\n",
       "        button.click(method_name, toolbar_event);\n",
       "        button.mouseover(tooltip, toolbar_mouse_event);\n",
       "        nav_element.append(button);\n",
       "    }\n",
       "\n",
       "    // Add the status bar.\n",
       "    var status_bar = $('<span class=\"mpl-message\" style=\"text-align:right; float: right;\"/>');\n",
       "    nav_element.append(status_bar);\n",
       "    this.message = status_bar[0];\n",
       "\n",
       "    // Add the close button to the window.\n",
       "    var buttongrp = $('<div class=\"btn-group inline pull-right\"></div>');\n",
       "    var button = $('<button class=\"btn btn-mini btn-primary\" href=\"#\" title=\"Stop Interaction\"><i class=\"fa fa-power-off icon-remove icon-large\"></i></button>');\n",
       "    button.click(function (evt) { fig.handle_close(fig, {}); } );\n",
       "    button.mouseover('Stop Interaction', toolbar_mouse_event);\n",
       "    buttongrp.append(button);\n",
       "    var titlebar = this.root.find($('.ui-dialog-titlebar'));\n",
       "    titlebar.prepend(buttongrp);\n",
       "}\n",
       "\n",
       "mpl.figure.prototype._root_extra_style = function(el){\n",
       "    var fig = this\n",
       "    el.on(\"remove\", function(){\n",
       "\tfig.close_ws(fig, {});\n",
       "    });\n",
       "}\n",
       "\n",
       "mpl.figure.prototype._canvas_extra_style = function(el){\n",
       "    // this is important to make the div 'focusable\n",
       "    el.attr('tabindex', 0)\n",
       "    // reach out to IPython and tell the keyboard manager to turn it's self\n",
       "    // off when our div gets focus\n",
       "\n",
       "    // location in version 3\n",
       "    if (IPython.notebook.keyboard_manager) {\n",
       "        IPython.notebook.keyboard_manager.register_events(el);\n",
       "    }\n",
       "    else {\n",
       "        // location in version 2\n",
       "        IPython.keyboard_manager.register_events(el);\n",
       "    }\n",
       "\n",
       "}\n",
       "\n",
       "mpl.figure.prototype._key_event_extra = function(event, name) {\n",
       "    var manager = IPython.notebook.keyboard_manager;\n",
       "    if (!manager)\n",
       "        manager = IPython.keyboard_manager;\n",
       "\n",
       "    // Check for shift+enter\n",
       "    if (event.shiftKey && event.which == 13) {\n",
       "        this.canvas_div.blur();\n",
       "        event.shiftKey = false;\n",
       "        // Send a \"J\" for go to next cell\n",
       "        event.which = 74;\n",
       "        event.keyCode = 74;\n",
       "        manager.command_mode();\n",
       "        manager.handle_keydown(event);\n",
       "    }\n",
       "}\n",
       "\n",
       "mpl.figure.prototype.handle_save = function(fig, msg) {\n",
       "    fig.ondownload(fig, null);\n",
       "}\n",
       "\n",
       "\n",
       "mpl.find_output_cell = function(html_output) {\n",
       "    // Return the cell and output element which can be found *uniquely* in the notebook.\n",
       "    // Note - this is a bit hacky, but it is done because the \"notebook_saving.Notebook\"\n",
       "    // IPython event is triggered only after the cells have been serialised, which for\n",
       "    // our purposes (turning an active figure into a static one), is too late.\n",
       "    var cells = IPython.notebook.get_cells();\n",
       "    var ncells = cells.length;\n",
       "    for (var i=0; i<ncells; i++) {\n",
       "        var cell = cells[i];\n",
       "        if (cell.cell_type === 'code'){\n",
       "            for (var j=0; j<cell.output_area.outputs.length; j++) {\n",
       "                var data = cell.output_area.outputs[j];\n",
       "                if (data.data) {\n",
       "                    // IPython >= 3 moved mimebundle to data attribute of output\n",
       "                    data = data.data;\n",
       "                }\n",
       "                if (data['text/html'] == html_output) {\n",
       "                    return [cell, data, j];\n",
       "                }\n",
       "            }\n",
       "        }\n",
       "    }\n",
       "}\n",
       "\n",
       "// Register the function which deals with the matplotlib target/channel.\n",
       "// The kernel may be null if the page has been refreshed.\n",
       "if (IPython.notebook.kernel != null) {\n",
       "    IPython.notebook.kernel.comm_manager.register_target('matplotlib', mpl.mpl_figure_comm);\n",
       "}\n"
      ],
      "text/plain": [
       "<IPython.core.display.Javascript object>"
      ]
     },
     "metadata": {},
     "output_type": "display_data"
    },
    {
     "data": {
      "text/html": [
       "<img src=\"data:image/png;base64,iVBORw0KGgoAAAANSUhEUgAAAtAAAALQCAYAAAC5V0ecAAAgAElEQVR4nOydd3Qc5bn/Xy0Jl1AClyTckEoUEptywVaMQwnYJA5gIKRSAoSYS0Iw5JLLzQ31RwkJGGFJlmS520LNKi60JDSHahOD6dgmBtNswu5qe9EWWbae3x+cd5idnd2d/r4rfT/nPIfjlSzNzq6Zzzz7FMYAAAAAAAAAAAAAAAAAAAAAAAAAAAAAAAAAAAAAAAAAAAAAAAAAAAAAAAAAAAAAAAAAAAAAAAAAAAAAAAAAAAAAAAAAAAAAAAAAAAAAAAAAAAAAAAAAAAAAAAAAAAAAAAAAAAAAAAAAAAAAAAAAAAAAAAAAAAAAAAAAAAAAAAAAAAAAAAAAAAAAAAAAAAAAAAAAAAAAAAAAAAAAAAAAAAAAAAAAAAAAAAAAAAAAAAAAAAAAAAAAAAAAAAAAAAAAAAAAAAAAAAAAAAAAAAAAAAAAAAAAAAAAAAAAAAAAAAAAAAAAAAAAAAAAAAAAAAAAAAAAAAAAAAAAAAAAAAAAAAAAAAAAAAAAAAAAAAAAAAAAAAAAAAAAAAAAAAAAAAAAAAAAAAAAAAAAAAAAAAAAAAAAAAAAAAAAAAAAAAAAAAAAAAAAAAAAAAAAAAAAAAAAAAAAAAAAAAAAAAAAAAAAAAAAAAAAAAAAAAAAAAAAAAAAAAAAAAAAAAAAAAAAAAAAAAAAAAAAAAAAAAAAAAAAAAAAAAAAAAAAAAAAAAAAAAAAAAAAAAAAAAAAAAAAAAAAAAAAAAAAAAAAAAAAAAAAAAAAAAAAAAAAAAAAAAAAAAAAAAAAAAAAAAAAAAAAAAAAAAAAAAAAAAAAAAAAAAAAAAAAAAAAAAAAAHgCAQAAAABUCaK9CQDGGAQaAAAAANWDaG8CgDEGgQYAAABA9SDamwBgjEGgAQAAAFA9iPYmABhjEGgAAAAAVA+ivQkAxhgEGgAAAADVg2hvAoAxBoEGAAAAQPUg2psAYIxBoAEAAABQPYj2JgAYYxBoAAAAAFQPor0JAMYYBBoAAAAA1YNobwKAMQaBBgAAAED1INqbAGCMQaABAAAAUD2I9iYAGGMQaAAAAABUD6K9CQDGGAQaAAAAANWDaG8CgDEGgQYAVC+jo6O0Z88eGh0dFX0oAACPEO1NADDGINAAgOpjdHSURkZGKJfLUTwep3Q6TXv27BF9WAAADxDtTQAwxiDQAIDqQS3O2WyWstksJRIJisVilEgkaHh4GNloAMY4or0JAMYYBBoAID9cnBOJBKXTacrlckokk0lKJpOUSCQoGo3S0NAQstEAjGFEexMAjDEINABAXrQZ58HBQUomk5TP5ymfzxcIdCqVong8Tn6/n5LJJI2MjIg+fACAC4j2JgAYYxBoAIB8aMWZZ5sHBwcplUqVFOhEIkF+v5/i8TjFYjHK5XIo6QBgjCHamwBgjEGgAQDyUEqcuTAbFehUKkXJZJJisRilUinavXu36KcGAHAI0d4EAGMMAg0AEE8lca4k0KlUqkig1RIdj8cpn88jGw3AGEC0NwHAGINAAwDEYVScywk0l2U9gVY/HovF0GAIwBhAtDcBwBiDQAMAvMesONsVaHU2OpFIoMEQgCpGtDcBwBiDQAMAvIOLcz6fNyXOTgg0j3g8TvF4nLLZLEo6AKhCRHsTAIwxCDQAsrBy5Uq65JJL6Nhjj6VDDjmEPvnJT9KBBx5IU6dOpTlz5tDQ0JDu35s2bRrV1NQUxH777UeHHnoonXTSSfTf//3f9MQTT3j8bAqxK85GBfqvf/0r1dTU0CmnnFJWoo02GN52221UU1NDf/zjHz08WwCAcoj2JgAYYxBoAGThO9/5Du2111509NFH08yZM+miiy6iGTNm0H777Uc1NTX0jW98gwKBQNHfmz59Ovl8Ppo8eTJdeumldOmll9JFF11EZ5xxBh166KHk8/mopqaGjj32WHrllVc8fU5OibPTAs0lmmejSzUY3nbbbeTz+SDQAEiEaG8CgDEGgQZAFjZt2kTxeLzo8VgsRieffDL5fD668MILi77OBbqU5G3YsIGOP/54qqmpof33359eeuklx49di9PibHQKhxmBNtJgiAw0APIh2psAYIxBoAGoBtavX081NTX02c9+tuhrlQSaiGhkZIROPvlkqqmpoQkTJrhW+6sVZy7PdsXZTYFWZ6MTiQQNDw8r5wcCDYB8iPYmABhjEGgAqoGNGzdSTU0NffGLXyz6mhGBJiLaunUr1dTUkM/no3vvvdfw7/7lL39JNTU11NnZSW+++Sadd955dMghh9B+++1Hxx13HD3wwAOKOD/zzDN05pln0uc+9zn61Kc+Rccffzw9/PDDJYX4nXfeodmzZ9Phhx9O++yzDx144IF0wgknUFtbG2Wz2ZICvXz5cvrWt75F++67L/37v/87zZgxgx599NGKAv3WW2/RVVddRRMmTKB9992XDjjgAKqrq6OGhgZFoGOxmNJgCIEGQD5EexMAjDEINACyk06n6bTTTiOfz0dXXnll0deNCjQRUV1dHfl8Ppo9e7bh3z9r1izy+Xx09dVX0/77709HHHEEXXjhhXTSSSeRz+ejvfbai/r6+qi/v5/23ntvqquro/POO48mTZpENTU1tPfee9OTTz5ZJMMbNmyggw8+mHw+H331q1+l8847j8444wzad999qaamhk4//XQaGhoqEugrrriCampq6BOf+ASdcsopdO6559KRRx5Jn/jEJ2j27NklBfrhhx+mgw46iHw+Hx122GF09tln0/e//306+OCDqaamhmbMmEHxeFxpMEwmk3TLLbdAoAGQDNHeBABjDAINgGw89thjNGvWLLrkkkvo9NNPp09/+tPk8/norLPOolQqVfT9ZgT617/+tSKYRpk1a5aSuZ4zZw4RfVyqMW/ePKqpqaEvfelL9JnPfIY6OjoKhPfqq69W5FT9eCqVoq985Svk8/noiiuuoEwmo3xt27ZtdNhhh5HP56Prr7++4O/19PRQTU0NHXDAAfTkk08WlHD88Y9/VI5TK9Bvv/02HXzwwbTXXntRS0tLwdd27NihnMP/9//+X0FJx3XXXUc1NTV02223GX8BAQCuItqbAGCMQaABkI3m5mby+XwFcfHFF1MoFNL9fjMCfcMNN1BNTQ0dddRRho+HC/QJJ5xQVOOcTqfpM5/5DPl8Pjr33HOLssx+v59qampon332KZDke+65RylJSafTRX+vv7+fampq6MADDyyoeT7llFPI5/PRtddeq1sDfcwxx+gK9DXXXEM1NTU0e/Zs3dKON998k/bee2865JBDCh7n5+umm24qO+4OAOAdor0JAMYYBBoAWdm9eze9++67NG/ePDr44IPpM5/5DK1fv77o+8wINM+oHn300YaPg5dw3HrrrbrNgd/61rfI5/PR8uXLdeucuWDv3LlTeezSSy8ln89H11xzTcn6aF7e8dRTT1E+n6dMJkOf+tSnyOfz0SuvvKIr0HfeeaduCcdRRx1FPp+P1q1bV7KR8IgjjlB+tlagr7/++rLj7gAA3iHamwBgjEGgAagGnn/+eaVWOJ/PF3zNjEBfdtllpko4RkdH6ZJLLiGfz0dLlizRnarBs8KPPvqorgh/9atfJZ/PR2+99Zby2Omnn04+n49aWlpKCjSv1+7t7aV8Pk87d+5USjS4zGoFeuXKlboCvd9++ynzsMuFVrK5QN94441lx90BALxDtDcBwBiDQANQLRx99NHk8/low4YNBY+bEejJkyeTz+ejq666quz3qUs1Lr744rIZZi7Q69atk1ageeb6Jz/5CV188cVl46WXXtIVaPUGw0QiQSMjI7ZeTwCANUR7EwCMMQg0ANXCt7/9bd0RdEYFesuWLYqAPvDAA7rfMzo6Srt371YEMpvN0i9+8QvHBZqXcPzP//yPqRKOffbZh3w+H7366qu6Aj1nzhxdgT788MPJ5/PRM888Y2o+tFagecTj8YJxdwAA7xDtTQAwxiDQAFQD4XBYkcctW7YUfM2IQO/atYu+853vlGwg5OLMa5zD4bCS5XVDoNVNhOomQR4DAwO6TYR8I+N1112nK9DHHnusbhMhH293zTXXOCLQ6mx0KpVCgyEAHiLamwBgjEGgAZCBN954g1auXFlU30xE9Oabb9L06dOppqaGTjrppKKvG1nlPXXqVKqpqaFPf/rT9Oqrrypf04ozr3GORCKuCrR6jN1vfvObggkd//znP5UxdjfccEPBz+rq6lKex1NPPVUg0LfffnvJMXbbtm2jgw46iD75yU/SnXfeSdFotEiIN2/eTMuWLSsSaJ/PpyvQ6nF3aDAEwDtEexMAjDEINAAy8NRTT1FNTQ3tv//+dPLJJ9PPf/5z+ulPf0rHHXcc7bXXXuTz+ejoo4+mDz74oOjvcrmeNGkSzZo1i2bNmkUXXXQRzZw5kw499FBFKuvq6uj1118notLizEXVbYHO5/P07LPP0mc/+1mlOfLcc8+lmTNnKvXKZ5xxRtEilWAwSFdccYWywGXatGkFi1SuvPLKkotUHn30Ufrc5z5HPp+PDjnkEJo+fTqdf/75NHPmTKqtraWamhqaOnWq4Qy0OtBgCIB3iPYmABhjEGgAZCAcDtOcOXPozDPPpNraWjrggANon332oS984Qt0+umn09KlS2nXrl26f5dnoNWx33770Re+8AU66aST6Oqrr6Ynn3ySiCqLs1WB3muvvcoK9F577VUk0Pn8R6u8r7zySvr6179esMp7wYIFuqu8g8EgpdNpWrZsGU2ZMoX23XdfOuigg+h73/sePfLII/TXv/6VfD4fTZs2TVd033vvPbr++utp8uTJdOCBB9I+++xDX/7yl+mEE06gm266iZ5//nndDPRNN91UsdyDZ6Oj0ajuJwkAAGcQ7U0AMMYg0ACMB4yKs55AyxRcoPmftTXQ8XicAoGAqTpnp8Pv91MkEkGDIQAuIdqbAGCMQaABGMuYFedqF+hYLCaFQPMpHclkEuPuAHAY0d4EAGMMAg3AWMSqOEOgnRHoRCJR0GCYy+WQjQbAIUR7EwCMMQg0AGMJu+KsFuhYLCZcmKtNoJPJpCLQ6sdisRil02k0GALgAKK9CQDGGAQagLGAU+LMIxqNQqAdEmi1RMfjcRoeHkY2GgAbiPYmABhjEGgAqhmnxRkC7YxAq49JHRh3B4B9RHsTAIwxCDQA1Yhb4jwWBDoYDEor0OpsdCKRQIMhABYQ7U0AMMYg0ABUE26LczUJdDabpWg0SsFgkOLxeNUINP8+PqkD4+4AMIdobwKAMQaBBqAa8EqcZRfoQCCgZHD9fj+Fw2EKh8PK7GUu1LILtDYbnUqlaPfu3aLfZgBUBaK9CQDGGAQaAJnxWpxlFuhsNkt+v18R56GhIaWEgy9Q4SFKoBOJhCmBVmej+dhAZKMBKI9obwKAMQaBBkBGRkdHac+ePZ6Ls4wCnc1mlYwzn3DBv6augU4mkzQ4OEh+v1/J6laDQKv/LhoMAaiMaG8CgDEGgQZAJkSLs0wCnc1mlcxyKBSidDpNgUCAhoaGdAU6lfp4Coff76dQKGRJZEUJtDobnUgkaHh4WPTbEQApEe1NADDGINAAyIAs4qwW6Gg0KuR353K5InHmXzMi0MFgkBKJBAWDQQoEAkqDoZcC7cTPQYMhAPqI9iYAGGMQaABEIps484jFYp4LtFqcBwcHKZ1OF50LowLNs7mRSERpMPQiG+2UQPPjj8VilEwmMe4OABWivQkAxhgEGgAR8OZALs2yiLMIgc7lcpRIJBRxTqVSJc+FGYHmoZZy7YZAmQWaSzRvMMzlcshGA0AQaCAJov8hADCeUGec0+k0+f1+qcTZS4E2I852BJqLaCgUcr3BMB6POyrQajGPxWKUTqfRYAjGPaK9CQDGGAQaAC/QK9UYGhoiv98vXJa9FmguzsFg0LA4GxXoSnOgo9Goqw2Gbgk0vwmIxWIUj8dpeHgY2WgwbhHtTQAwxiDQALhJuRrnTCYzrjLQXHaDwSAFg0FKJpOmn7tdgebZXLcaDHm5iFsZbnU2GuPuwHhFtDcBwBiDQAPgBkaaA/likLEu0E6Is5MCzbO5bjQYeiHQ6mw0GgzBeES0NwHAGINAA+AkZqZqjHWBdlKcnRZorfA61WDolUBziY7H4xSLxdBgCMYVor0JAMYYBBoAJ+DiPDw8bHiqxlgV6FwuR6lUigYHB5WZzE49R6cFmotoKBSiQCBgu8HQS4HWZqNTqRTt3r1b9D8FAFxHtDcBwBiDQANgF7PirJY/v99P2WxWuDA7IdBqcQ4EAo6KsxmB5o2JZoM3GIbDYcslHXwTopcCrZboeDxO+Xwe2WgwphHtTQAwxiDQAFjFqjhXg0DH43GKRCLSiLMXAp1KfdxgGAwGLTUYihJo9fFHo1FKpVJoMARjFtHeBABjDAINgFnsivNYEehcLkfpdFopf+DLPtw8Lr/f76pA82xuOBy21GBYag61l8FH6SUSCRoeHhb9zwUAxxHtTQAwxiDQABjFKXEeCwLttTirBTqTybgq0GoRNdtgKItA808CYrEYZbNZlHSAMYVobwKAMQaBBqASTotzOSGUJUoJtFacvZZ/7fnKZrMFcuukQPNstJkGQ5kEmh8/H3eHBkMwVhDtTQAwxiDQAJTCTXGuNoEeGhpSyhp4VlPEcXkt0FxCjTYYyibQ/Pjj8bjySQGy0aDaEe1NADDGINAAaPFCnKtFoGURZ5ECzUPdYFiqpMPKGD2no1QjIy/pSKfTaDAEVY1obwKAMQaBBoDjpTjz0E6VkCWi0SgFAgFpxFkGgebZXH5DEY1Gi7LRsgh0qWNQj7sbHh5GNhpUJaK9CQDGGAQaABHiLKtAZzIZZcV1MBiURpxlEWhtlndwcNC1JkY3BJoHz0ZnMhlINKg6RHsTAIwxCDQYv4gUZ9kEWi3O0WiUYrGY4TnQMgl0JBLxTGCTyaQy+5o3GFaLQPPj5w2GIyMjov85AmAY0d4EAGMMAg3GHzKIsywCrRVnLqfxeJzC4bBwYZZZoLmEqhsMvf79emGmjIQ3GMZiMTQYgqpBtDcBwBiDQIPxg0zizCMYDFI6nRYizlz8IpFIUSNjIpGAQJsI3mAYCASE10BbyYLzbHQqlcK4OyA9or0JAMYYBBqMfWQUZ1ECnc1my4ozBNp6JJNJCgaDJRsMZRZotUTH43HK5/PIRgNpEe1NADDGINBg7LJnzx7KZrPKwg+ZxNlrgTYqzhBoexGJRJRMtLbB0MtjsHMOeIPh0NAQxt0BKRHtTQAwxiDQYOyhzjjzrKBo8SsVXHTcFOdYLKbU6Bqtt4ZAW5fXUCik22BYLQKdSn2cjU4kErRr1y7R/6QBKEC0NwHAGINAg7GDXqlGOp0elwJtVZzHgkCHQiHhAs0l1OgGQ7eOwW7wBsNsNouSDiANor0JAMYYBBpUP+VqnIeGhigQCAgXP68E2q44Q6Cdl1cjGwxlFWh+I8DH3aHBEMiAaG8CgDEGgQbVi5HmwPEi0LzWOxAIUCgUsl1XDYF2Vl4rbTB0MsLhsOPngI+7i8fjGHcHhCPamwBgjEGgQfVhZqpGJpMhv98vXPxKBa+Xtfr3c7mco+Iss0Dncjny+/0F2xFlE+hK8so3GPLX3a1jCIfDrvxs3mCYTqfRYAiEIdqbAGCMQaBB9bBnzx7atWuXqXF0Y1Wg1eI8ODhI6XTa0SkjiUSCQqGQ8PMz1gSaSyhvMIzH41Ul0KlUYYPh8PAwstHAc0R7EwCMMQg0kB8r4qwVaBlH2FkR6FwuR4lEQhHnVCrlynNLJpNVIdCZTKZAQmUQaCPymkwmlQ2QTjcYui3Q6huBWCxGmUwGEg08RbQ3AcAYg0ADebEjzuoMpewCnUgkpBHnahHoXC5XsLiEj4qrFoHmEY/HHW8wDIVCngg0vxHgDYYjIyOi/5cBxgmivQkAxhgEGsiHE+JcLQIdDofLCjQX52Aw6Ik4V4NA8xKIYDBI8Xi8IJPrRgOdmwLNJVTdYOiEQEciEc+eM28wjMViaDAEniDamwBgjEGggTw4Kc5a6VJ/7C9TlBJodYY1GAxSMpn09CZANoHO5XKUSqXI7/dTIBCgRCJBuVxOqYHmNxnqDH21CDQPPn7QboOh1wKtFmn+SQDG3QE3Ee1NADDGINBAPG6Ic7UKtGhxllGg0+k0hUIhCgQCZcfYqUs63B4VV05e7ZRPONFgKEqg1RIdj8cpn88jGw1cQbQ3AcAYg0ADcYyOjromzurQSpdMEYlElNm6MoizTAI9NDSkiHM8HlfKccpN4QiHw0om2s1RcW4JNJdQXpYSiURMP4fBwUFhAq2+EeDnH+PugNOI9iYAGGMQaOA9XolzNQh0OBymSCSi1PTy0gTRxyVSoIeGhpSaYL5GOp83NsaO10C7PSqunEA7Ja98TKHZBsPBwUFHaqntRjAYVD5h2bVrl+j/7YAxhGhvAoAxBoEG3uG1OPMIBAKWV1q7Fbyml5clyCLOIgU6k8komddoNFpUdmNGoFMp+5lc0QLNn0MoFDLVYCiTQPNyDv4JAko6gBOI9iYAGGMQaOA+osRZRoHm4syzo1x2RB+XnkAPDg5KIc5WBZqHeuGMU6PivBJoHmYaDIPBoFQCnUqhwRA4i2hvAoAxBoEG7iFanHkEg0HHVlzbEWd1Mxyve45GoxSLxYQLsza45Lv5O7LZLEWjUSVDXKnMxqhA69Ug80xuIBBQRK6aBDqVMt5gqBZXkaE913zcHRoMgV1EexMAjDEINHAeWcSZh2iB1hNn/rXxKNBmxZmHHYHmAsd/r9Pb/3i43cBnpCxFJoHWE32+wXBoaAgNhsASor0JAMYYBBo4h2zizIPPBfb692rFWa80YTwJdDabVUoRwuGw6bIauwKtFjint/95JdA8yjUYyi7QqdTHJR2JRIKGh4eRjQamEO1NADDGINDAPrKKMw+vBbrUFAm9iMViUtZAOynQuVxOEb5QKGS5Ht0pgeYCp97+51Q22ssGPnWDoVqY3S5TMRp+v7/iBBSejc5kMpBoYBjR3gQAYwwCDawzOjpKw8PDygVQNnHmMTg4SMlk0vXfY0aceYxlgdaKs90yGr217FYFmkcsFnN0ZrSICRjaBkOvR/eVE2gjGX6ejU4mkzQyMiL6f2ugChDtTQAwxiDQwDzqjHMmk5F6018+n1fEwq2fb0WceYxFgc7lcpRIJArWajtxc+WGQPMsqFMzo0WNkFOvMjeS+XU7ksmkYYHm3x+PxykWi1Eul0M2GpRFtDcBwBiDQAPj6JVqyL4qO593T6CNjl8rF7FYjCKRiPBzpA0rAs3FORgMOirOPNwSaC5wTsyMFjmDWf0cRGxh1BNos8fAs9HpdBrj7kBJRHsTAIwxCDSoTKUaZ5k3/eXzeWUbmlM/zwlx5hGPx6teoL1aQ+6mQPOwOzNahhnMfr/fs7nXTgu0WqIx7g6UQrQ3AcAYg0CD0hhtDpRpUYleOCXQWnF24qahmgVavRTGTXHm4YVAc4GzOjNaFoGOx+O6DYZeRSKRsCzQ6p+BcXdAD9HeBABjDAINijE7VUN2gY5EIko2y0pkMhlLc4uNhMwCHQwGdb+m3abo1RpyrwSaS7SVmdEyjJBT1x7z5+B1SQcXaCdeBz7uDg2GgCPamwBgjEGgwcdYHUcnelFJpbAq0FYXfpiJRCJB4XBY+DnSRjqd1hXockth3A4jAh0KhRwRaLUImpkZLVqg9Zr31A2GXjUXOiXQPPgGw2w2i5IOAIEGciD6HwIQDxfnXC5naY6zqEUlRsPsshKtOLuZXa8WgRYpzurXxWuB5lJqdGa0jALNH3eiSdKM8Dop0Pw58HOLBsPxjWhvAoAxBoEez9gVZx5jRaDtbsqzErILtJ0RfU6HKIHmYWRmtCwCXer47DZJmhHoQCDgyvPj2eh8Hg2G4xXR3gQAYwwCPR5xSpx5uD1n2W5UmrUsQpx5JBIJCoVCws+R3nH5/X4pxFn9OokU6FSq8sxo0VsAjUy/KLXB0MngNxtuvg5oMBy/iPYmABhjEOjxhNPizMPpMXFORymBFinOPLjMiD5HPNSTRmSb7y2DQHMBLVUOIVqgzUy/sNIkaUagg8Gg669DPB6nRCJBw8PDyEaPI0R7EwCMMQj0eMAtceYhu0BrJ11ks1lHV0zbCVkEWjtphM91Fn1c6jAq0JFIxBNZ1SuHEL1G2+z4OHWTpJPH7YVAq58D/5QEEj0+EO1NADDGINBjGbfFmYfdMXFuBxfoXC4njTjzEC3QpSaNlJrCITJkE+hUqnhmtCwCbfY58Dp3pxoMo9GoZwLNn0MsFqNkMolxd+MA0d4EAGMMAj0W8UqceZidcuF1xONxZYzX4OAgpdNpIVMk9CKVMr8y2ykZLVe+AoE2J2/8JkTU4hI7As3DyQbDaDSqNBd7+TrE43GKxWKUy+WQjR7DiPYmABhjEOixhNfizENWgc7lcopQ8IYmWcSZh9cCbbTuO51OUyAQEH5+tMcuo0Br5ZUvlxFxDHbHx9nZwihaoNXPIRaLUTqdxri7MYpobwKAMQaBHguIEmcelaZceB1cnHk2jV/MRR+XXngl0GbLV4aGhqQT6EwmI7VAp1IpZeufkZnRbgm03ekXVrcwqiMSiQgTaLVEx+NxNBiOQUR7EwCMMQh0NSNanHnIso6ai3MwGFQu3rlcTnidcblwW6C1NxNGy1dkFmj1YzIKNC8jqDQzWlaB5mGnwTASiVAoFBL2OqifA78JwLi7sYNobwKAMQaBrkZkEWceogWaSzK/2CeTyYJzkkwmpc1Au1VrrBVnfjNh9O9Xk0Cr5U4GgeZCX2lmtOwCnUqZ28KojnA4LIVAp1If3aCGQiFKJBJoMBwjiPYmABhjEOhqQjZx5iFqm14lcebBL6Kiz5NeOC3Q2nNiVpx5QKDtCzQXUC9XaLu1wIT/3MHBQUPPIRwOuz6P24xA80lBGHc3NpszAr8AACAASURBVBDtTQAwxiDQ1YCs4szD6xIJo+LMYzwIdC6Xo1QqZficVIpqEehMJiNdCYdeA6FXK7TdnL/MP8kx0mAom0BHo1HlOfBjR4Nh9SLamwBgjEGgZWZ0dFSRBBnFmYdXAs0lcXBwkILBICUSCUPnRMaRbDzsiqr6nPDpD068T6pVoHm2UTaB5vLmxQptN+cvG20w9GIjpNEIBoMF55uPu+Oz65GNrj5EexMAjDEItIyoM86xWEyKBr1ywcXFrZ9vVxLHokDncjlKp9OOi7Pd43IzZBfoZDJZVqDNCKjV8GqBibrBUO/5iv4koJxAq59DLBajoaEhNBhWGaK9CQDGGARaJvRKNeLxuJD6YjPBL1JO/1ynsqsyyqCdY0un08qs3ng87sonEzKeM61A8xsIdV2u7AJtVEBlF2j+fEs1GMok0OVKTng2OpFI0PDwsOhLADCIaG8CgDEGgZaBcjXOohr0zAqd041wTkqijDKoPjZtVrXc93Jh4c1QMhyXV8EFmp+HQCCgzPjm7xMZBNpoVtnqhItKAu31/GW9BkPRpTRaga40BYVno9FgWB2I9iYAGGMQaJGMjo7SyMhI2eZAmWcYq2XLKUF1I7uq99G/LGHk2LwUZ5nPWSqVKliXnc1mKZPJKGMU+RZAUbW3ZgVaK6BOzIwWtQFQ22CobtwTHXw2t5HnEIvFKJlMYtyd5Ij2JgAYYxBoEeiJcylRTKXknSChFjy7sqUVZyclUUYZNHJsmUxGEcNoNOqJOMt4ztTnwe/3F5wHdQ00X2MtapW2VYFOpZybGS1yA6C6vpuP7RMtz2bKavj38wbDXC6HbLSkiPYmABhjEGgvMSPOarGUtQHOCdnyIruazWaLVkDLEqUa49TinMlkpDguryObzSpCFolEKJ1OV2wi5HXFRkatySTQ/O/bnRktwwbARCIh9EbGjkCrn0MsFqN0Oo0GQwkR7U0AMMYg0F5gRZx5yFy/qxYds4LqZVmCzAKtPjatMIoQZx4iBTqbzVIsFlMmVQwNDZU8Jr0pHNFo1NVJF5XE0e7vszMzWgaBTqVSyvE7Wd9tR6Ct/H5e0hGPx2l4eBjZaIkQ7U0AMMYg0G5iR5xlEBkrEljpe0XU8+ZyuaKP/mUJfu7UwseFUWSIeN/xqTO8Hlh7HswINBdaNyZduC3QXN6szIyWSaBjsZjpDYYyviYYdycfor0JAMYYBNoNnBBnrTTImD1Vi08lQRVZzyurQKszzrKIs/r18kqgc7kcJRIJRbTS6bThYyon0FxE1TdsXsiakz/TbCY9HA5LI9C8ltup+m6RrwkaDOVCtDcBwBiDQDuJk+KslqxqEWi9kgMZ6nnLHZ+o86XOtMr4+noh0OqV7Lzxrdx5sCLQPHhJiBOTLtyWNb2fazSTLssKba0sq+u7vSyr4Y2lTvws3mAYi8XQYCgY0d4EAGMMAu0EboizVv5ky55qQyuoMohzueMTEVpxTqfT0r6+bgo0X5DDpTCZTBou/7Eq0GZF1KrouiHQXN6MzIyWRaBLjY6Lx+OeltXwf29Ovxb804zdu3eLvvyMS0R7EwCMMQi0HdwUZ9nkr1IEAgEaGhqiTCYjTSOcLOdQW6KQSn2caR1PAm13s6ReQ60ZgTYjolbCTYHmUWlmtEwCXUqQ3XwNSp0vp3+uetxdPp9HNtpjRHsTAIwxCLQVvBJnHlxORUtVpWPkF0WZxFnkOTRSoiCrQDtdOuTEghwnBNqoiFoJJ8sFykW5muJQKCRcoI2OjnPjNdD7HW6uNkeDoRhEexMAjDEItBm8FmcewWCwZGOV6FA3wulNTpAlvBRotThXKlGQrT5b/bo6IdDqqSturGTXmwNtdAOe081tXgk0l1S9mdGhUEj4AhMzo+PcbjCMRqOuCjR/vvF4nBKJBA0PD4u+TI0LRHsTAIwxCLQRRIkzD34BEC1VWsFSz+qV8Ri159DtmxB1iQKv8TTyPhmLAq2ugXdqXKHTAl1ORK2EG/W2Rn8nnxldbQKtfQ2cbjD0crU5z0Zns1mUdLiMaG8CgDEGgS6HaHHmwS8AoqWKi5Xekgv+Mazo4ysVbgq03dresSTQbo4rdEOg9UTUqsCJEGguoHyaSzAYFC7QVmcv8/PnZIOh16vN1ePu0GDoHqK9CQDGGARaD1nEmYcMcqoWZ71SDRmOsVy4dRPiRG3vWBBoL7YouinQXH7slBOIEmge/PzzsiFRx2FneYn6ZsDq66gOEYtl1A2GGHfnDqK9CQDGGARajWzizCMcDlMikRDyu/VGr8l2jEbCaYEeGhqyLc48ZGwSNSrQpT6RcCPcFmguP1ZLOkQLNH/+TmdxzYYT00icmtstcrEML+lIp9NoMHQY0d4EAGMMAk30sThzIZBFnHlEIhFlXJJXYVScRR6jmXAqQ+7GKvJqFOhKa7fdCKMC7cTGQW1tsVHpEy3Qg4ODFIlEPBsTV+rcOdFM6USDoeixfrykIx6P0/DwMLLRDiHamwBgjI1vgZZdnHlEo1GKxWKe/C61GPG1ykbOyVgXaDdre6tJoI2u3XYjvBRoLj/8UwYjP1MGgVZn4L0YE6cXTmbi7TZ5yjDWL5X6OBudyWQg0Q4g2psAYIyNT4Hm4sz/5yarOPOIRqMUjUZd/R3lln0YPUavJN9KWC0xcVOcecg4plAr0GbXbrsRXgs0FzheW1xpQoTbM4eNhPb5uz0mrtR5cPpGwmqDoQxTSdTvJf76jIyMiL4MVjWivQkAxtj4EmhtxjkSiUgtfTxisZhrAm1XnHl4Ifl2wqxAe9EUx0NGgVbPp+ZiZmbtththRKADgQBt3bqV7rrrLnrxxRcdkx8ja8BlFGgubk6N6jMSbp0HKw2GvKRF5GuijkAgoCQb0GBoHdHeBABjbPwI9O7duxUx4uUaboqpkxGPxykSiTguSFwKnMgoyn4ujZaYeCnOPGQUaJ6Btjqaz42oJNDvvPMOrVy5kubMmUOHH344XXvttfTUU085lnlVC5xelltWgeZhpa7bSrh9Hsw0GBrdTOlV8A2NvDY6lUph3J0FRHsTAIyx8SXQXJz5xdcNMXUjEokEhcNhR36WmS15ZkL2c1lJoL2cJqEN2QSaj+bjoihanHnoCfTQ0BC999579OCDD9LcuXNp7ty51NPTQ0ceeSTdfffddNddd1F/fz99+OGHjguctqRDBoGuVK9d6SbAifBi+5/R0hSZBFq74lzdYJjP55GNNoFobwKAMTZ+BHrPnj1FF2QnxdTN4Bc9Oz/DLXHmEY/HpT6Xpcp1REyT0IYsi3K0E0b8fr8rNd92jk8t0KFQiB577DGaO3cuNTc308qVK6mrq4t6e3vpyCOPpJaWFurv76fm5mZqa2ujrVu3Oipw2pIOL8SxUhitdTZa120lvNr+Z6Q0xemaeLvHqzcfmzcYDg0NYdydQUR7EwCMsfEj0KOjo0UXZCfE1ItIpT7KpFj5u26LMw/Zb0a0TY5mx/S5GaIFWm/tNq+Blkmg0+m0kmHdsGEDtba20rx586irq4sGBgZoYGBAEeiJEydSS0uL8viyZcuovr6ennjiCUendKjHxVWTQHNxq1TXbSW8XJ+dSpUvTZFJoMstmOHZ6EQiQbt27RJ9uZQe0d4EAGNsfAt0KmVdTL0Wh2AwaOrvqNdL8wukmx/Fy34zom7ccaJp0skQJdCZTEbJRGonjMgo0JFIhP7+97/TggULqLm5mXp7e2nVqlXU19enK9Ctra3K4wMDA9TT00N333039fb20gcffOCYGPFsPZdRkZLm9/tN1XxrbwKcyEZ7vT6bPw+90hSjIwi9CCMLZng2OpvNoqSjDKK9CQDG2PgWaCtiKiLMHKdanL1s/uJrkEWfq1IRjUYpFAoJHcNWKrxeg26kUVImgU6n0/TKK6/QwoUL6Y477qCenh5au3YtrV27tqRAT5gwgebPn18g0AMDA0pJR2trK73++uuOylEgEDAtsE6H1d/v5MxoEeuzefD3NX8eXo7vqxRG52PzbHQymUSDYQlEexMAjLHxI9BEVHRh1mtKkjGMHKcocebBf7foc6V3XviFNBAICB3DViq8EmgzjZIyCHQmk6EtW7bQihUrqKGhgVasWEFdXV2KPOsJdGdnJ/X29tI3v/lNamtrKxJoHitWrKD6+np67LHHHGsyi0QiikR7MS5OL9RNambDqZnRIgWaPw++0lz0DY06zMzHTiaTFI/HKR6PY9ydDqK9CQDG2PgS6OHh4aILdLl1xbIEP85SosOnJvALn4jnI1s2X1vCwlf6ij4uvXBboK3Ue4sU6Gw2S2+++Sb19PRQQ0MDtbe309q1a5UMs1GBXrBgQUmBHhgYoJUrV9Ldd99N3d3dtGPHDtuCxGt/1TW5Xku0HYHm4mZ3ZrTo9dn8efDSFDcaJa2ElSktvKQjnU6jwVCFaG8CgDE2vgW61Lpi2aLUccogzupjkUGgS2XiZR6z55ZA663dNvoeUS9S8fK1e+edd2hgYIAaGhpo+fLlBbJsRqAPP/zwigLNo7W1lVpaWuiVV16xJVrq2l9e0uRlCYF2TJqdsDMzWgaBVp8PL2ZfGwmrTabqBsPh4WFkowkCDSRB9D8EL9EKtAwfU5uRGX6cWnGW4fhlKIcpd0Mh85QQq2vGy71fnFi77aVA79y5k+6//35qbGykxYsX05o1awpE2YpAL1q0yJBADwwMUHt7O9XX19PDDz9seXOdtnnO6w2Apcak2fl5VmZGh0IhqQQ6kUi4PvvaSNidTsKz0ZlMZtxLtGhvAoAxNr4EeteuXUIlwY4Q8Qujek6vDOLMo1yZidsxNDRUMRM/HgRaW7Zit97bi38bfr+fHnroIWpqaqIFCxbQ6tWri8TZikB//etfNyXQ6pKOzs5Oeu+990wLTqnaX682ADot0GrxM1MKEQqFpFifrR0bp20w9Pp4nKgNVzcYjoyMiL6kCkO0NwHAGINABwIBIcszzMTQ0BD5/X4pxZmHiHpy7eKPcudF5jF7dgWa18E73UDqpkCHQiF6/PHHqbm5mebPn0+rVq0qKc5WBLq2tpYWL15sSqB5zJ8/n5qbm+nll182JVrlBIm//9wcq+aWQHMZNTozWjaBLvU8vG4uDIfDjjRX8gZDPpZzPGajRXsTAIwxCLRsa5TVoRZEfiEQfUylwst68kwmYzoTL7NAV1ozXi7crIN3Q6BjsRitX7+eWltbqbW1lfr7+yuKczmB7u/vp97e3gKBXrlyJdXW1tKSJUssCfTAwADdc889VF9fT3/9618NlyNUyjAmk0lXNwCWW9ThRBidGT04OCiFQMfjcd25y+rn4eW0FKdrw3k2OpVKjbtxd6K9CQDG2PgS6JGRkaILuugtcHqh3gzHF1zILPr5vDf15Hrnxejf5Rd20edJL6wItJnsu9VwUqATiQQ9//zzBUtQjIqznkCvWrWKuru7qaOjgzo6OhSJ7uzspJ6eHqqtraWlS5daFuiBgQHq7e2luXPnUnt7O7377rsVhcboR/TxeNyVDYBGFnU4EZVmRg8ODjo2GtBOVJq77FVpDQ83asO5RPP/f4yXbLRobwKAMQaB9nqJRbnQCqJaXmQUfXW4KdDqjXmlFn9UCn5hF32e9MKMQNu5iTAbTgg0X4KyePFiamxsLFiCYkWguSCrpZn/Wf3f2tpaWrZsmS2B5rFgwQJqamqiTZs2lc1WmvmI3mqDXrnwSqD57yo1ZUQWgTYyd9mL0hoebpa28AbDoaGhcTHuTrQ3AcAYG18CvXv37qILvNMTEKxEOXHmIZPouylc6jCyMc9opFIpKcbs6YURgVafi1LvEZleT/USlMbGRurs7LQszmvXrqXVq1crgrxy5Uql2ZDXQPf29lJnZyd1dHRQd3c31dbW0vLlyx0R6IGBAero6KD6+np64IEHSk5SsFLj6mRJh5cCzeVTb8pIMBiUYn220bnLbpfW8HC7tEU97m7Xrl2iL7euItqbAGCMQaDt1J/aDTOZVRlEv1I41ZBpZmOe0ZBlTrVeRKNRisViFc+F3ZsIs2FFoPkSlO7u7oIlKHbEube3VxFjrYirmwj7+/upo6ODli9fTl/72tdoxYoVjgn0wMAA9fX1UUNDAy1btozefvvtIoGxWuNqpkGvXJSq+XU7tKUQsgi02bnLbjcYepWZ5w2G2Wx2zJZ0iPYmABhjEOhoNErRaNRTYbKSWRUp+kbDrkC7Ic48qk2g3TwXRsOMQFdagmI21qxZo2SVe3p6aNWqVYamcPCa6MMOO4yWLFlC/f39jkr0wMAALVq0iBobG2nTpk0F4mKnSUzboGdHZEXIqrokRfS8ZR5W5i672WDo5Y2FetzdWGwwFO1NADDGxpdA79mzp+jCH4vFPNtQpxVnM1JUDQJttdHRyqppsyHDopdSoRZoL86F0TB6Q7Rjxw667777yi5BMSPOfX191NnZSV1dXTQwMGB6jF1HRwd97Wtfo0WLFlFXV1fB152Inp4euvHGG2nKlCkF0uLElAV+02RlVrFIgVZLq9/vF7LGXBvaxTZWzqWTz8OLOmt18HF3Y7HBULQ3AcAYg0DH43HXF2w4kU0s9zG/LGG20dHOqmmzIbtARyIRz86F0agk0GaWoBgR5/7+furq6lLEWSviZgS6traW2tvblbIP9ag7O9HZ2Un19fXU19dHU6dOLRAWp8aU8VICs2vAjTTNeRF8fbbTU0bMht3FJep17E6Ir5dr3dUxFhsMRXsTAIyx8SXQo6OjRRLg5nxgJz+Gj8VinpeamA2jAs3F2e6qaTMhclNipXPBPzLm9ZqixZlHKYFWL0Fpa2sztASlnDhzMe7q6qL+/v6SGWyjJRz33HMP1dbWUkdHBw0MfLRhkE/nsFPSwdd9P/fcc/T666/T8ccfXyAqTo4pMzpzWR0yCXQsFjN9/E6HE4tLnGww9Pv9QgSaPw/eYDg8PFz12WjR3gQAYwwCnUo5P95MLc6hUMiR+tV4PO5ZqYnVqDQpJJfLUTKZVBp17K6aNhMiNiWWC/Xabf4+keXYeGgFOhqNKktQWlpaTC1BKSXEPEPc19dXsfTDqEC3t7dTbW0tdXZ2Ko/39vYqkm6lpGPJkiXU1NREr776KqVSKXrttdfoxBNPLJAUN+b8cik2UkpgdOqE2+H3+5XMc6WZ0W6Gk4tL7DZ68i2RIjPy/HnEYjHKZDJVLdGivQkAxhgE2snmMjfrVxOJhOulJnYjFArpTgrhsihCnHl4uSmxUmjXbotoZDUSXKDVS1BaWlosLUHRSq96lrPRmmmjAr1ixQqqra1VSkF49Pf3K8tXzJR0tLW1UWtrK7311luKiLz88st08sknF8iJW3N+1aUE5TKYMgi0niiWmxntZjh9Q2PlUwHteRFdF86PhTcYjoyMiL4sW0K0NwHAGBtfAk1ERZLgRG2sF41fMq+i5qEdtafOsnJZFCWwMgj00NCQ7tptWT9d2LlzJ73wwgu0ePFiampqsrUEZe3a0rOczWSsjQj08uXLqba2lrq7u3WF2ExJR3NzMy1btozef//9Agl58cUXafr06UXC5tac31Izl9VhdmybW8epl2k1cvxOh1uvh5lPBXi4vWbd6vtpcHCQcrlc1WWjRXsTAIyx8SfQw8PDBZJgpzZWLc5uN35Vg0DzSSG5XK4oyyo68+vFqvFSUWnttmwCnclkaPPmzTR//nyaO3dukbRaEWe1tFptNnRKoAcGPprpXK6ko6+vj+bOnUvd3d26s5U3bdpEp556qifCpo5y66etjG1zQ8zKiaKX67PdXFxitsHQ6yU3RoILdCwWo3Q6XVXj7kR7EwCMMQi0lcykdnpEKuV+4xe/IIiWq3IRiUSUzndtllV0iBBoo2u3ZRHobDZL27Zto66uLmpoaLDdIKhegsJnOdutmTYi0MuWLaPa2lpauXJl2exyqZKO3t5eqq+vp9WrV5dsQtu4cSPNmDGj4DEvBJrLm976aRkE2kim1Y015nrh9uISMw2GopbclAv+/2pe0hGPxymdTlfFpA7R3gQAYwwCbUasRIgzD5kXgeTzH2VZg8FgySyr6OCvsxeb/MwuyhFd386XoPT39xcsQens7LQkveolKN3d3bbF2S2B1ivp6O7upvr6evrb3/5WVu6effZZOv3004uEzQuBLiVv1SLQPNxenx0MBj3Z/GekwVCGGd3a0DZZJhIJmj59Ou3YsUP0Zboior0JAMbY+BPoXbt2mRYrEWPXtCHrHGN1eQIXCNHHVCrcFmira7dFCrR6CcqSJUsKGvq0i0yMiHOlWc5OCzQvt1AL9NKlS6m2ttZUo2BfXx8tXbqU/vznP9Pjjz9esbzgmWeeoZkzZxY85qVAa8UsGAxSOByWRqCdlE+r4fXmv3INhjI0eGpDr8myrq6OEomE6Mt0RUR7EwCMMQh0Pl963q3IsWvakG2OsV55guyzqu2uGi8VvBbe6rxvEQJtZAmKUYE2M8vZC4FesmQJ1dbWmhpXt2LFCqqvr6f169cbKi148skn6eyzzy54zO2SgXLyxksiREualVIFO9MtyoWXAs2jVIOhDA2e2tCWHCWTSZo4cWJV1EKL9iYAGGPjT6BHRkaKZEK7glomceYhwxSJfP4jceYfvUaj0YIsqyy1vKXCaYF2avqKlwIdCoXo73//u6ElKEYEmkut0VnObgi0epJGR0cHLV682JRA8xnPmzdvVmSnUmnB448/Tuecc07BY6IEWv373SyJMBJ2ShWcnhktavOf3thBGcpr9N4v6vdrMpmkCRMmVMVEDtHeBABjDAKdz+cLyjJkE2e1rIkUaCN1vaJreSuF9kbJzmvhZC28FxNWotEoPfPMM6aWoJQT6FWrVhWsyXZTnM0K9KJFi6i2ttbQ1sH58+dTW1sbbd++vUAuKpUWrFu3jn784x+XFRKvg5dwuFUSYSTs1vo6OTNalEBzGeWf0PFaY9kEWlsjzjPQEGgADCL6H4LXlBJoniHgFx5ZxFktbSLGsJlZRz7WBVp7g5VKOVML76ZAJxIJeu6552jBggXU3NxsagmKnkCrZzn39vZaHknnpkAvXLiQamtrK07gaGpqouXLl9OOHTtKSlCpaRGPPPII/fSnPy14TAaB5tlbdUmEl8fgxDpxp2ZGi1ydzSMej1MwGCy42ZYltFNcgsEgHXPMMaIv0YYQ7U0AMMbGn0Dv3r27QIj4/2hlmVdcLryaIpHPmxNnL0TQieDSa/bvqRfCuPHJhBvnLZ1O08svv2xrCYpaoNWznK0sQfFSoBcsWEBf//rXyzYMzp07l3p6egzJnl5Jx0MPPUTnnntuwfd5NfWhVGinKvB/v16u0XayWc7OzGhZVmfzY+ETipys8bYb2gz9W2+9RSeffLLoS7QhRHsTAIyx8SnQ2g15fJi8aMGrFG41wWll0WpdLz+nos9TqeAZILMi6vZCGCfPG1+CsmLFCmpsbLS1BIULtHqWswhxtiLQhx9+eMmRdfX19XTvvfeaWvOsLen4y1/+QhdccEHB98gm0Nrj9iIb63SznNWZ0TIJdCr1UcMe//+Ilzc05UJ7fl588UU6++yzRV+iDSHamwBgjI0/gc7lckWLPqLRaFUItFM1vHqhruu12hCXSo0dgS61dtuNcOK8qZegNDY20j333GNLVtesWUOdnZ2OLUFxIviIvEoC3dbWpivQfMbzww8/bGk6g7o0Yu3atXTRRRcVfF3E1AetpOndFLg15UIv3GqWMzszutJGRBGvTSQScbTG207o3WA8/vjjdOGFF4q+RBtCtDcBwBgbfwI9PDxcJESyj1+zIoBGw8mGONmXvfDMT7nvqbR2241IpawLdC6Xo7fffpv6+/upsbFRWYJiR5z7+voUeTZTMy1aoPv7+6mjo4Pmz59P3/zmNwvkuaOjg+rr6+mZZ56xnZWMxWLU29tLF154YYGgySrQ6uN2OwPq5rQJMzOjzSx08SLUM8K1DYYijlHvBuPee++l2bNni75EG0K0NwHAGBt/Ar1nz54iCZF9/JoZATQjXrw2z6nlMLIuezFy/oyu3XYj+AXW7N/bsWMH3XvvvdTY2EhLly61NQlDbwlKZ2enqUUqXgh0d3d3RYFubW0tEOjly5dTQ0MDvfjii44JyKpVq+jiiy8ukDkZBLrSIhe3M6CRSMTVZjmj2XSzC13cDr0GU95gKGJiit4NRkdHB91www2iL9GGEO1NADDGxp9Aj46OFomI7NMjjAig0XBzVJ/sAh0OhymRSBQ8ZnbtththNnP/4Ycf0t/+9jdqamqihQsX2qpLLrcExewmQpkEesKECTQwMECLFi2i5uZm2rp1q6MCMjAwQJdeemnBpxXVINBcQp2YcqEXkUiEQqGQ68+1UjbdykIXN6PUe0PUxBS989Pc3Ex33XWX6Eu0IUR7EwCMMQh0Pi//9IhyAmg0tJMk3GiIk21bYrnzp50yIkKceRgV6MHBQVq3bp2hJShGgtcFl1qCUq0C3dzcTBMnTqTW1lZauHAhvfPOO44LSF9fH/3qV79SZM7v9wsZG6cOs6vE1VMunJJorwQ6lSqfTbc7j9rpqHRz5fXEFL1xg7fffjstXrxY9CXaEKK9CQDGGAQ6n5e/+Y1HJBKheDxu6u/kcjlPJklwKZVhW2K58xeLxZSLq5W1225EJYGORqP09NNPU2trK7W2thpaglIuVq1aVTDLuVTpR7UK9Lx586i2tpba29tp586drghIT08P/eY3vymQOfU4TBGSZmUOtd7WPDvBZ1F79ZxLZdOdmEftZBg5v142GOqNG/y///s/6u/vF32JNoRobwKAMTb+BJqITAuMLGF2Wkg6nfZskkQ+L7dA53I5ZdWxnbXbbkQ6ndYtfUmn0wVLUPr6+mwJqHoJipFZztUo0O3t7XTttdfSEUcc4eg4NW10dXXR7NmzCx7z+/3Ke0xEJtrqIpdkMllQxmQnA6o3Ss+Li9W9GAAAIABJREFU0M6MdnIetRNhdKmLm+U16tAbN3j55ZfTQw89JPrybAjR3gQAY2x8CvTw8HCBqMheu8vD6LQQL0ewaSVVxLbESsfEu/d51lk2wS/1/uvu7qaf//zn1Nraaluc+RIUM7Ocq02ge3p66Pbbb6e2tjY66aSTXBWijo4Ouuqqqwoe4//eRCwwSaXsb0K0s7iER6VJIG6GemZ0KBSSRqCtzKTmr4VbDYZ6zZ4XXHABbdy4UfTl2RCivQkAxhgEOp//uHZXNrHSRqVpISJGsGll1cttiZWORdssyUs4RB+b3uumJ9ArVqygK6+8ktrb26m5udl0s+Dq1asLlqCYrZmuJoHu7u6mOXPm0P3330+bNm2iU045xVUpWr58Of3ud78reEz90buZkWtOhROLXKwuLuFhtJHRzeDZ9EAgIMUYO6tLXdSvhdOfaOjVqs+cOZPeeOMN0ZdnQ4j2JgAYYxDofP7j0gOZMqd6UUqgRY5g04ZogS63dlvWed+lBLqjo4P+93//l+LxOD344IPU0NBgaC7zmjVrqLe3lzo7O6m7u9uyBFeLQLe3tysznj/88EN64YUXaPr06a5K0dKlS+maa64peExbu+r1hAUnp4CYXVzCQwaBTqVSynkXMSJOG3aXurjxiYZeqc1JJ51EgUBA9OXZEKK9CQDG2PgU6F27dhVJl2jxMxLacXtacZbh+L1YN14q1DXfes2Ssgp0qekl3d3ddPXVV1M+/9FN3nPPPUdNTU3U3t5eUpy1s5ztzIauBoFetmwZzZ07l15++WVFVDZt2kSnnnqqq1K0ePFi+v3vf1/wWKk6V69KOpweo2cli252EohbwUsUvNrAWOk82l3q4nSDoV6pzX/+539SNpsVfXk2hGhvAoAxBoGWQfyMBv9IT4bZxaUiEAh43qBntOY7FotJuTCnlED39vbSb3/724LH3n77bVq0aBG1tbUpclxulrOdkF2g16xZQzNnzqT+/n5KpT7O9D3//POuC/TChQvp2muvLXisXKOYFyUdgUDA8TnUZrPoduuwnQr1NBAvNjCWC6dmUjvZYKj9pCCZTNKECRNoz549oi/PhhDtTQAwxsanQI+MjBTJSjAYlGoyg17wldsyirOI85jJZEzVfMu6cbKUQA8MDNDs2bOLHg+FQrRq1SpqbGyklStXUldXV8lZznaiu7vb9sg8twSa3zAcffTR9Kc//YkSiYQi0Bs3bqTvfve7rkrR/Pnz6frrry94rFKdq9slHW4INA+jWXSZBFqdYfVyRJw2nJ5J7USDofZ14gI9Ojoq+vJsCNHeBABjDALNg3cki5YpvVAv/fD7/VJnyr04j1ZrvmUV6FLj/9asWUOXX355yefyl7/8hf70pz/RsmXLHBVnmQW6q6tLWf7S29tLU6ZMod/+9re0fft25VOZf/zjHzRjxgxXpailpYVuvPHGgseMNoq5VdLhthwayaI70cjoROiVKHg1Ik7v9XZ6JrXdZk/t65RIJGjixIkQaADMIPofggj0BNqJNdlORy6XU7INoVBIyUCLPq5y4aZA2y1dkXVleymBvu++++iyyy4reEx98xCLxWjz5s00f/58WrRo0ZgW6NWrV1NXV5ey/IVPJDnuuOPot7/9Lf3jH/9QbjA3bNhA3//+912VoqamJrr55psLHjMzacGNkg4vsqvaLLpWQkWvM+dRrpnRiXF9ZsLNmdRWb8a0n1Z88MEHNGXKFNGXZsOI9iYAGGPjU6B3795dJDF21mQ7HVpx5iURQ0NDUq/KzufduRHRrt22moGvNoF+4IEHaNasWcr38JsHbdb9ww8/pK6uLpo3b57t9d6yCbR6hnV3dzd1dXUVfH3KlCl044030j333KOcn8cff5xOO+00V6Vo7ty5dNtttxU8ZnZUmdMlHUaXdTglbnp1xbIIdKVmRrsZXDMRjUaLZi47Geo590Zff+33bt26lb773e+KvjQbRrQ3AcAYg0DzsLIm2+ngSz94diSVShVIVTXMq3byRkR7I2G3dIVfNEWfI22UEui//OUv9Itf/EK5eSiXdU8kEvTQQw9RQ0MDrVy5suoFmo/iU8+w7uvrK5rCMWXKFPrzn/9Md999N23fvl0R6BkzZrgqRvX19XT77bcXCJmVWb+plHMlHVZ/vx1x09YVi6gx1gujtdhWx/WZCb2lJU6H2fIU7XvlH//4B/34xz8WfWk2jGhvAoAxBoHmYXZNtpOhXvqhJ86VREumcEKg1TcSTq7dllWg9TY45nI5euCBB+hnP/uZ4ax7NpulF198kZqbm2n58uVVKdBr1qyhvr4+3RnWfX191NPTU/D93/rWt2jOnDnU1NREjz76KPn9fnr66afpjDPOcFWM7rzzTrrjjjsKBMaOwDpR0uG1QOuJm5dZ8HJhphbb7QkpektL3Aoj5Sl679WHH36YZs2aJfrSbBjR3gQAY2x8CvSePXuK5EPEjGC9bXnl5FjGVdnasJPJN3ojYTVSqY8yU6LPUbnXVX3zcO+999J5551n+ue99957tGzZMmptbbXVXOilQBuZYa0n0HV1dTRnzhzq7OyklpYWev/99+mpp56iM88801UxuuOOO+jOO+8skhI7sm6npMOuwDslbl6URBgJs6UklWq77YR6pJ4XUak8Re+92t/fT7/73e9EX5oNI9qbAGCMQaB5eDmhody2PCOiJeP4Oh5WMvlmbySsBj/nos9RqddVLXypVIrWrVtH5557ruXX4d5776WGhgbLEuyVQPORdJ2dnWVnWJcT6IGBAaqvr6eNGzfSE088QWeffbYhmbAat99+O9XX15eVEqthpaRDtECrj0GGMg6rtdhuzIzW2/rnRfDyFO1z0VvssnTpUrr11ltFX5oNI9qbAGCMjU+BHh0dLRIOLxrM1OJcaltepZB94YsZgXbifJiJdDpNwWBQ+DnSOwdcPNQ3D08++ST99Kc/tfyzM5kMrV+/nhobG6mjo0M6gV61alXBSLpK2XI9gZ48eTLdddddNDAwQG1tbdTZ2UlPPPEE/eAHP9CVCadKOm699VZqaGgokkenpMtsY5jTv99K8GPgmVwvR8Vpw47Eu7H1T9R2Rr33kd5il4aGBmpqahJ9aTaMaG8CgDEGgebhdn2ses10uW15lUL2hS9GS2Eqrd126zWQSaDV50BvvvczzzxDP/zhD23/nm3bttHChQtp4cKFpgW6r6/PcXFevXo19fT0FI2kqxR6Aj1p0iSqr6+ngYEB6unpoTvuuIMefPBBOuecc0rKhBMlHTfffDM1NTUVyaOTwmimrEAmgU4kEp6PitOGXfl1cma06PXm2ucSjUaL5lLffPPNtGLFCtGXZsOI9iYAGGMQaB78f3ROS5LRNdNGQ3aBrlQKMzQ0pEiBE+fD7Gshwxxt9TmIxWIlS3OeffZZ+sEPfuDI7wwEAtTb20tNTU2GR9319PQ4KtDqkXQ9PT2GxdmoQPf19dEdd9xBixcvph/96EclZYL/e7RT0nHjjTdSS0uL8me9j8WdCiNlBTIJND8Gp861lXCqnMWJGwFZtjOqNxhqBfp3v/sdrV27VvSl2TCivQkAxtj4FGgiKhIMp7OTWklyqvFP5o2J+XxpgTa7dtuNEC3Q5TYo6gn0c889R2eeeaZjvz+V+qiuuqGhoUhE3RRovZF0Vn6OnkAfe+yxdPfddysC3dbWRtddd11JgeZht6Tjuuuuo7a2NuXPbgo0//nlygrc/v1GQk/ik8mkJ6Pi9I7Dqcy301v/RAbvNdE+l1mzZtHjjz8u+rJsGNHeBABjbPwK9PDwsCtypd0U57QoyrgxUR3aWnKra7fdCD5H2+vfa2SDol5t+wsvvECnn366o8eSy+Xo1VdfpdbWVlq6dKmrAl1uJJ1TAn3MMcfQ3LlzFYHu6OigK6+8kmbOnFlRJuxkF//whz/QwoULlT9zgXVbfkqVdHjx+ytFOYl3e1Sc9jy50VBp9UZAluUyPMLhsFI29txzz1EwGKSf/OQn9OKLL4q+LBtGtDcBwBiDQGvlympJgVeiKNPGRL3g2Rq7a7fdCK8FOpfLGd6gqCfQL7/8Ms2YMcOVY9u5cye1t7dTc3NzyVIKqwJtZCSdmwJ99dVX0ymnnGJYttQlVkYl5Pe//z0tXry4SB69ECC9kg6ZBLrSuXZ71J2b5SxWbgRkmEqiDj6XOpFI0A9/+EOaOHEinXPOOfT222+LviwbRrQ3AcAYg0DzsLqkJJPJeCqKMmxMLBd8hrHdtdtuhFeLaEqtYi8XegL92muv0amnnuraccZiMXrggQeooaGBent7HRFooyPpnBTohoaGAoG+6aabqK6uzvD2N3WZgdGGsWuuuYaWLl1qWB7dEDl1SYfeZAWvw+gxOLV5sdy5cbOcxezMaFmWy/BQj9WLRCJ0zTXX0L/927/RXXfdRaOjo6IvzYYQ7U0AMMbGr0Dv2rWrSHrMLCkRlWEVuTHRiDT6/X7diRIyhNsCbWcRTCAQKBLtzZs30ymnnOL6OXnuueeoqamJ2tvbLQu02ZF0Tgn00UcfTY2NjQUCfeutt9KkSZPo5ZdfNi2AvKSjkhRdffXVtGLFiiJp81KE1NMVuNCJFDN+/ox8r5slHV69FkZnRouez62NUChUMJc6mUzSYYcdRl/+8pfprLPOosHBQdGX54qI9iYAGGMQaHUYWVKSzWYNfyzvRkSjUc83JlaSRp51HhwcpHg8LtWoOO1r54ZA81nOdhbB6E1XeeONN+ikk07y5Nxs376dFi1aRG1tbYr8GhFoqyPp3BToW265haZOnUrd3d2ms5DJZNLQDOCrrrqKOjo6CuRRlMDy/x+JbiI0I9D8XLux/c/L16LS+0WGBTfa0M6lTiaTNGHCBIpEInTuuefSf/zHf9Ajjzwi+hJdFtHeBABjbPwK9MjISJFElFtSov5YXmRpgoiV46XOh162VbZZy9pjdnoVejqddmQRjJ5Av/nmm3T88cd7dn5CoRCtWrWKGhsbqb+/v6xA2x1J55RAH3XUUdTU1FQg0Ndddx3V1dXRj370I9q2bZslKao0A3j27NnU1dUlRNr0gku0yHpbnpG1+vecKukwK/J2o9z7RYbxgtrQjtVLJpM0ceJEGh0dpdHRUWpvb6dLL73U0HX0lltuoS984Qu0//7707Rp02jLli0lv3fatGm099570wEHHED7778/HXDAAbRo0SJL12/R3gQAYwwCXUlirNSzuhlerhwvJaGpVOlsq+hRcZWO3SmB9mK+9/bt22nq1KmenqN0Ok1PPPEENTQ00JIlS4pqo50aSeeGQHd2dtKdd95JV155JZ1++uk0ZcoU2rJli20R0yvpuPzyy6mnp0eYtGmDC7S6kdlraYvFYsoaerPh5PY/qyJvN/SmusgwXlAb2rF60WiUjjrqKNPX0Lvvvpu+8pWv0NatWymfz9MNN9xAX/ziFymTyeh+//Tp0+mWW26xe+kmIgg0kARH3s1ViJ5Aq2csa0sT0um0p0s/SoUXK8dLyWcqVXnttqhRcUbDSJlOuXBrTKHefO93332XpkyZIuQ8bdmyhRoaGqilpUURZydH0lmJ3t7eIoE+8sgjqbGxkebNm0dz586l+++/n/r7++nCCy+kqVOn0tatW23JRqmP6C+77DLq7+8vkidRUqSWV/UNv5fiZkeg+bl2Yvuf3eOw+35RTxqRYTqKNrSLbd5991064YQTTF9Dv/a1r9H8+fOVP+/evZsOOeQQ6unp0f3+6dOn080332z5mq1GtDcBwBgbvwK9e/fuImngo314g4vZRjAvwu2V43phZg253XGAbodVgVY3jboxplBPoHfu3El1dXXCZme/9dZbtHz5cmpoaKCOjg5HR9I5IdCrV6+mww8/nP7whz/Q/fffT++++y75/X6677776OKLL6YpU6bQP//5T0ekSJvZ/a//+i8aGBhQvkcmgebH7FRG12hEo1FHxNVMM6ebx2H3XPj9fhocHJRSoNXviVdffZXOOOMMU9fPZDJJNTU19NxzzxU8ftppp9Hvf/973b8zffp0+uxnP0sHH3wwHXHEEXT99dfT0NCQpeu3aG8CgDEGgeaRy+WUC47VRjAvIpVyZ+W4XuitnDYimjILdLk691LPR/3xuFvTVvQE+l//+hfV1dUJq7cPhUL03nvv0cDAAN11112Gthd6JdBc7CdOnEh///vfFfFSC3RdXZ2lGuhKYhcKheiXv/wlrV69uuhroqRIL+vqVEbXjDQaHR1YKezcADh5HHZCPdJTpiZC7fE89dRTdP7555u6fn7wwQdUU1ND27ZtK3j8/PPPp1//+te6f2fjxo0Uj8eJiOj111+nyZMn0wUXXGDp+i3amwBgjI1fgd6zZw/l84U1vXyyhqzyl8/nlWN183fYKVNwo1HPyTAq0Nrad7clVk+gA4EA1dXVFT3udvD6bj6rN5PJ0AsvvEDNzc20fPlyoQK9ePFiamhooK6uLnrzzTfpxBNPpFdffZVSqY8Feu3atXTJJZdQXV0dvfnmm45L0eDgIF1wwQW0du1a5XFRdbdqaSyVdbWb0TUakUjEUXG1egPg9HHYfV34hBQRdel651Qr0A8++CBdfvnlpq6fVjLQWp5++mn65Cc/Sfl83tTvJoJAA0kw/c4dI+zevZtSqcKa3kgkIsWEi3Lh5pQL9VIYq2UKsgu0XrOe9vi1te9eHJfeivZQKER1dXWezf3W3jiFw+GCpT3vvvsuLV26lFpbWz0v4+jp6aH6+npqa2ujzZs3UyaToVwuRyeccAK99tprBaK4Zs0a+uUvf0mTJ0+m7du3uyIh559/PvX39yvNWDIIdDlp9KKkg2+4c/rnml257tZxWH1d+CpvL25iKoXeVJCenh76wx/+YPoaqlcD/bnPfa5kDbQWLtC5XM707xbtTQAwxsavQOdyuaJmuFgsJnTChZFwY8qF00th7DbquRmlBFo9lo9n8rz8JEJPoKPRKNXV1bneNFrq9dfbehmJROjee++lhoYG6u/vd12c+/r6qLm5mRYsWEDr16+nDz/8sOA1+/a3v02vv/56gWitXr1aEei3337bFRG54IIL6P7771c+oRBdd2ukbMHtkg43xVW9cr3SGvBwOCyVQPPXRURdujb0poK0tbXRn//8Z9PX0Llz59JXv/pV2rJlC2WzWbr++uvpS1/6ku4UjsHBQXrkkUeUr23ZsoWmTJlCP/vZzyxdv0V7EwCMsfEr0Hv27CkSJFETLsyEk1Mu3FoKI+smwny+uFRCPV1EZO27nkAnEgllJbUbv1O9PTIcDhfd9JRaGz80NETr16+nxsZG6ujocEWcBwYGaP78+dTS0kJPP/00RaPRohGOuVyOpk6dSps3b6ZU6mOBHhgYoEsvvZQmT55M77zzjisicu6559JDDz2kNBwHAgGhGWgzZQtulXS4La7qlevhcLjksatXVYsO7U2F13Xpeq+9tqnxzjvvpLa2NkvX0VtvvZU+//nP03777VcwB3rnzp20//7704YNG4iIaMeOHTR16lQ66KCD6IADDqBvfOMbaCIE1Y+ld+8YYHR0tEgMREy4MBtONOm5PdvabKOel6EWaPV0ETtLUJyIcDhMiUSi4LF0Ok11dXWOjwVUl6mUe/1LCTSPbdu20YIFC2jhwoWOifPq1atpwYIFNG/ePHrkkUcKypVKCTSf9awn0O+9954rIvKTn/yEHn30UUWK+LQF9Xxdr0XNTN2vG9lQr8S10hpw7apqkVHqpoK/V91YZV4u9EqNrrvuOuru7hZ9STaFaG8CgDEGgVZHKuXdhAs78mO1xtir2daV6oxFRigUong8bnq6iNuhJ9DZbJbq6upo586djr139LZHlvr+SCRSsf46EAjQypUrqampydZSlTVr1tDSpUupsbGR7rvvPt3nrCfQxx13nDLrmUtJf3+/ItDvv/++KyLy4x//mNatW1ckJrzx0uvMopXyCaezoV5mfrXzltVf066qFhnlzkm55+BW6E1rufLKK+nBBx8UfUk2hWhvAoAxNn4FmoiKLtAyr6FWS4PZGmOz4mQ3+P+gRZ8rbWQyGUVy3JjlbCf0BDqXy1FdXR29//77tn8+XzlupkwlGo0aamBMpVL02GOPUUNDg6VRd+3t7dTQ0EC9vb20ffv2ksemJ9BTpkyhN954g1KpjwW6r6/PdYE+55xz6PHHH1f+zGugK2VH3Qo79cdOlXSIyPzqlXQMDg5KI9BGzomRshQnz5f2k4qLLrqI1q9fL/pybArR3gQAY2x8C/Tw8HDBBVrmNdTqMCrQldZuuxV6I9lEhrpJjjchiT4mbWgnXvA47rjj6J133rH8c+2sHDcq0Pn8R++1V155hVpaWmjp0qWGxLm7u5saGxtpxYoVtHXr1orvaT2BrqurU5alcBFcuXIlXXbZZTR58mTauXOnKyJy9tln05NPPlkgJvzGMZlMFnzC4YWo2a0/dqKkQ1TmV3vTMjg4KKyUxuo58erGS6/U5+yzz6bXX39d9OXYFKK9CQDGGARafYGWfQ01j0o1xrlcTsk4iqjv1WuIExG5XK6oSVIv0ytDlKo3Pv744+mtt94y/fOcWDluRqB57Nixg9rb26mlpYVWr16tK869vb00b948WrRoEb300kuGy31KCTRflsIFuqenRxHof/3rX66IyMyZM+mZZ55R/qyX2VO/99zOLDpRPmG3pENk5ld90xIIBKQRaDMyr34Obs2M1vukYtq0abRz507Rl2NTiPYmABhjEGj1BVr2LXo8ytUYm1m77VaIFuhyTXLVJtAnnngi/fOf/zT8c5xcOW5FoPP5j8ZBPvDAA0pZBhfn/v5+amlpofnz59OGDRvKNijqhZ5AT548WVmWwgW6u7vbdYE+7bTT6Nlnn1X+XGqMnFeZRSfrj62WdMiQ+eU3LfwTN5HHkkp99Omf2XPi5sxovffJpEmTKJVKib4cm0K0NwHAGBvfAr1r164i8ZJ5CQgPvRIJ7dptkc9BlKQaqfWuNFlCVJQ6rpNPPpm2bt1q6LmrM55OzOG2KtD5/Eciv3HjRmpqaqIVK1bQggULqLm5mdatW2d50o1aoPkkmWOOOUapgebi0dnZSb/+9a9p8uTJRSO7nIoZM2bQxo0blT+Xm8PsRbOY0w18Vko6ZBDoVCqlTLcQOW+ZB1+i4sX5NxLamuxkMkkTJkyg3bt3i74cm0K0NwHAGINAayVE5iUgPNQZXvVH9bI0xnktqWZqvWUV6FKyOm3aNNq8eXPZ525kJJ2Tx2Qmtm/fTj/60Y9o/vz59K9//cvWz+LTU/hNUiAQoGOPPZZee+01CofDFI1GKRAIUEdHhyLQbi03OfXUU2nTpk3Kn40sMnGzWcyNBj6zJR1Wsq1uBO9zUP9/UVQ22sjiF6fOv9H3ibrMhgv06Oio6MuxKUR7EwCMsfEt0CMjI0UXaZlnGPMIh8MUi8UKPqqXSfq9lFSztd5OSKEbUeq4vve979Err7xS9LgXk1WcOlef//znaenSpbZ/TjgcVrKLyWSShoaGaNKkSfTWW28pQu33++mee+6hyy+/3FWBnjZtGr300kvKn43OYXarpMPNBj6jJR1Ws61Ohzpr69bSGCvHYvf8O/Ge0X5KkEgkaOLEiRBoAKwg+h+CSPQEWuYZxvn8Rx+NB4NBx9ZuuxFeSKrV6RLVJtCnnXYavfjiiwWPWRlJJ/J1PPTQQ2nZsmW2XmtenjQ4OKg830wmQ5MmTaK3335buZnw+/20bNky+s1vfkOTJ092bTPeySefTC+//LLyZzOLTMyspTYabk/AMFJSIItA+/3+AtEUuUJbeyx2zr8TZUDa1ygQCNCkSZNEX4pNI9qbAGCMQaC1F2vZRrDxUK/d5l3moo+pVPDsuBs/2+50CTePzU5Eo1Hd4zrjjDNo06ZNlM/bG0nn5DGZjUMPPZSWLFli67Xmx6I+Hp6BfvfddymV+rhEoq2tjX71q1/RpEmTXJPKE088kV577TXlz1bmMDtZ0uHFCLlKJQVO3hDYOUY9aRWxQrvUsdgJu+8Z7Wu0bds2OuWUU0Rfik0j2psAYIyNb4HevXt30UVb9AQJbeit3ZY1i8rDDUl1arqErAJd6rjOOuss2rBhg+2RdFZClECrbxbVn7Joz1E6naZJkyYp67r5lrUlS5bQZZddRscee6xriz2+/e1v0+bNm5U/W11koi4xsCNaXo6QK1UWIUPTHpfWUnLp1Pl24lishp0yIO1rtGnTJvrBD34g+lJsGtHeBABjDAKtvXjLMuas3NptWSWQh3bcmJ0oJVMyHJuTofeaZrNZOuuss+hvf/ubkAZRp95nRgVa2xCp7UXQHk8ymdQV6KVLl9IVV1xBxx57LH3wwQeuSN1xxx2nTP9IpextAlSXdFg9Vq8nYOgds9/vl16gtcfuZsY8kUi4ItD8OViZGa3NiK9bt44uvvhi0Zdi04j2JgAYY+NboPfs2VN0ERc9pUHdHMYboLQf1csqgTwSiQSFw2Hb50GdeXeqsVPWc6eWQ/VIOr7xTvQx2YlKAm20IdKoQC9evJhmz55NkyZNUupGnZ7EUFdXp8yfTqXsCTQXIv4Ji9UlJl5PwNAes9PlClbCqLSqj92tRTf/n70zD4+izPZ/hevg9Q6bM3PVUa+CM2zjMmlAAZF9ExRBRCAIiMgugSwgIKKAyJaFfcdISICQCCiorCJoEBRFNgURFQgmvaTTnUo6AbJ8f3/4e8vq6qru2t/CqfM855mx011dVd3N+6lT3/M9ZF+MPF4lntFikpL33nsPr7zyCu2lWHHQ5iY77GAYxgZo4SJNSx5BrNjkNIfpAahGppb9E6u8W2XfjExi0Sa0pOvXrx8OHjxIZZ/MAGglDZHC/fH7/YiOjsbly5c5mHA6nVi1ahXGjh0Lh8OB4uJiDjKIPEsPcHQ4HPjxxx+5x7SO0iap1jWCpoU+9VtcAAAgAElEQVQc2WcrVKCVQqvP5zNs0A05L0Yfs9wmSbHqfFpaGqZPn057KVYctLnJDjsYhrEB2ihoUJJKrdjILUja0Kfn/smpvOuRVgTo8vLyIJcJ/rH3798f+/fvp7JfRgI0cdZQ0hAp3B+fz4fo6GhcuXIFLCsO0Hyw0guU/H4/HA4H17zIsvoBtBIg4idtD2YCrrQbCX0+n+Kqr1GDbsiFmxnHLadJUqw6n5qaioULF9JeihUHbW6yww6GYf6zAbq6ujpkkTbzFr9aVwWrAzTL/lZJl/NcJZV3PdJq545/8cS3aCMZExODPXv2UNk3PQF69erVuHZN2+Af4f54vV5ER0cjLy+PAxan04kVK1Zg3LhxQQBNIIM/rVMtrHi9XjgcDly6dIl7zIhJgEqHmNAEV1LdNNvpQphaqr56SzrI95HG8YtdKIpdXMycORNr1qyhvRQrDtrcZIcdDMPYAC1cpM2oUGodu82y8gGVRsrdv5KSElNt2a5dsw5ACy+eyOQ04fMGDx6Mjz76iMo+6gXQd999N1auXKm5GVQpQDdr1kwSbLSAksfjgcPh4Crf5DEjHD9uliEmfHmAmU4XYp+tlqqvnncqvF6v6QBNPguxirrYuUlMTER2djbtpVhx0OYmO+xgGMYGaDMBS6+x2yUlJXA6nVSgSo/903oBoSXJ7XFa50bKx1rqwu3FF1/Erl27qOyrHgBdXl6Ov//970hJSdHcDCrcn8LCQkRHR+Pq1ascIDidTixbtgzjxo1D8+bNDQElp9MJh8PBvS/LGgfQBIgiSTpoSyeE8gCznC6EqUfVV+hwoXY7csa7G5nCirrYuRkxYgT27t1LeylWHLS5yQ47GIb5zwZoACGLNMvqX93lexjrYcVWWlqKgoICKlAlJ0tKSkT3T68LCC1pxOer9DsgduxSAD18+HC8//77VD5HLQDN17TfddddWLp0qeY7DML98Xg8iI6O5m5LE0BYsmQJxo8fj0cffTQiKKmBvF9//TVkTLiRAE32lf/bERtiQrOBT6x5zwynCzFo1KvqS+5UqG0+VTKd0sjPhVwoejyekP3p378/vvzyS9rLsOKgzU122MEwjA3Q169fD1qk9azu6u1hTDIQCCA/P58KVMlJIeDrfQGhJVnWXIDmW9J5PB7JY5cC6JEjR2Lbtm1UzpWUrCRSCp01iIRDj/3hA7Tb7UZ0dDR3W5oP0K+88goee+wx2dClRLebl5cXMibc7XYbCtAk+daOVhpiEq55z0xJh95VXwKgas6vVmtDvZJfUS8oKAj63nTv3h3nz5+nvQwrDtrcZIcdDMPYAC0E6NLSUs1wKoQmvTyMSZaVlSE/P98UzbCaJIBv9HlQk2bJX4RDQSLZ8UlJh8aMGYPs7Gwq50ppQ62Us8Y999xjCEC7XC5ER0dzFUdSfVy0aBHGjx+Pli1bKgJAufZxly5dgsPhCJr8ZxZAE6gTSjqsANDhtMdmSTqMqPqqHVpi9F0JpUl00fzveOvWreF0Omkvw4qDNjfZYQfDMDZA37hxQxL+1ECTcOy2EWBjdYAmFyFGnwc1aTRAyx0KIkwpgB43bhyysrKonCu5AB1JmnPPPfdgxYoVmvdHCNBOpxPR0dHceSYAnZqaitjYWLRu3VoxKMmxj/v555/hcDiCnuN2u00bpS0GdbQ9mOW4X5gh6TCy6qvUT9zMiyo5SawWnU4nRo8ejd27d+PBBx/EtWvXaC/DioM2N9lhB8MwNkALAbq8vBz5+fmK9LnC4R8sa4yHsZZ9NCMJPJKhCkafBzVppH5cyVAQYUoB9IQJE5CZmUnlXEUCaLkSJb0A2uv1BgF0QUEBHA4HBykEoFNSUhAbG4vHH39cMWRE0hqzLIuLFy9yQ1r4sGQmQAuhjjZAK3G/CGe1phckGnWcYtV/qaT1nQi3P2RY09y5c3HbbbehXbt2uHHjBu1lWHHQ5iY77GAYxgZoKYCWo9M1a/iHWMrdRzNSzMvZioB/7ZoxAK3Wz5ufUgAdFxeH9PR0KudKCqCF8pRI0hyjADo/Pz9ISkEAOikpCbGxsXjiiSdUw4aU1phlWfzwww8hFnk0YYk/xITWKG2l7hdGSTrMkE3I9eh2uVyWAmjh/hw+fBi1a9dGu3btcOXKFdpLsaKgzU122MEwjA3QFRUVIQt1QUFBWCgwe/iHWEbaR7NSbIqiVSvk167p24ApZUmnJsn3Sfh4YmIi3n33XSrnSgjQauUp99xzD5YtW6Z5f4QATdwwhAC9cOFCTJgwAW3bttUEHPxqIx9Mz507hxYtWgQ9lyZAkwtWonGlMZFQrX2c3pIOM2UTkXTzLpeL6nTISPvj8/nQqFEjDB8+HLfffju2b99OezmWHbS5yQ47GIaxAVoMoJ1Op6RuV+nYbaMy3D6akZFGMVupQs5PPQA6kiWdmiQLnPDxyZMnY/369VTOFR+gtchT9ATooqIi7r+vXr0Kh8PBQQFxYFiwYAEmTJiAdu3aaYYOMU/gs2fPhjh80Kw2EoD2+/2ardfUphb7OJ/Pp9vwEhpadLIeCCvptIfbCFO4P5cvX8ajjz4KAMjKykLdunUxZ86csOtlVlYW2rZtizp16qBGjRqoqqoK+3yfz4dBgwahbt26uP322zF48GD4/X7N6zZtbrLDDoZhbIAWA2hSXeM/psdtej1TbB/NSLlVV6tUyIWppQFTriWdmmRZcYCeOnUqNwbb7PT5fFxFT8v33iiAzsvLQ3R0NAcFBKDnz5+PiRMnokOHDrrBB/9zP3nyZIi+2goATYBZz2l6clOrfZzU9DylSeNzkGqOpD3cRpjC/Tlz5gy6dOnCrYU///wzTp06FXa93LdvH7KyspCWliYLoHv27ImuXbtyDcBdunRB7969Na/btLnJDjsYhrEBurKyMmShJtWba9foTs0Ll+S2oVnvp7Tq+kcCaKWWdGpSyh1k+vTpuljAKc1AIACXy6XL994ogL5y5Qqio6M5SCQQN3fuXEycOBEdO3bUFUAImB49ehRt2rQJATdat+uFAE0e4/+7ZfQ+6GUfp1XSQfNzEDZH0rYWFKZwf3Jzc9G3b19V6+ahQ4ciAvTly5cRFRWFM2fOcI+dOnUKUVFRyMvLU/W+JGhzkx12MAxjA7QYQHs8Hm6IBM2peeGSD/lGJt9pQUnVlbbERCqV6LPVan7VpBRAv/HGG7rAp5rP2+Vy6TLW/t577zUEoC9fvmwqQLPsb2BKAJoPpjTBTThGm5/8366Rkg497eO0jlmnqTvmV9JpO6MIk8h8yH9/9NFHGD58uKp1Uw5Af/DBB7jttttCHr/11luxa9cuVe9LgjY32WEHwzA2QFdVVYUAhNPptMTUvHBJ7IiM2r7Q01ppNZmWxETOcckBaC2aXzUpBdCzZs3CkiVLTDkvws9bajqi0jQKoC9duoTo6GgODAlAv/3225gwYQI6d+5sCIh89dVXaN++fRCYWhWgyd+NlnTo7b+sVtJhFd0xqaSbrUUPdz6FAL1582bEx8erWjflAHRGRgbuuuuukMfvvPNObNq0SdX7kqDNTXbYwTCMDdAEoPmVN6fTqWqEsZlZWFgIn89nCEjxPa3VVpGtDtBSF0a0tO5SAD1nzhykpqYaej6kqux6AvTSpUs1b0cI0L/88guio6ODoMXlcuGtt97CxIkT0aVLF0Ng5NixY+jcuXOQCwPNyicB6EgApYfGWCqN8l9WKumwCkATYDVbix5pf/jncPXq1Zg5c6aqddOuQNthB2MDdEVFBbcQknHTwolnVkwhTOgJUnp4WpslMVGTYgCtpyWdmpTyp543bx6SkpIMec9IVXa9APr//u//DAFoMhGQD1sulwuzZ89GXFwcunbtagiMfPHFF9y2+WBKa+qcHIDmnyMjJB1G+i8rqaBbRXdMPhPyG6JlLyjcH/5nvmDBAixevFjVuilXA12jRo0gDfTJkydRo0YNWwNtxx8jNH2L/wBRUVER0hgmd4QxzdQL8o3ytDZaYqIl+QBthCWdmpQC6AULFmDBggW6v5ccZw2rA/RPP/0UNNCEAPSsWbMQFxeH7t27GwIjn332GZ588knuv/nTN8MN1jAqfT6fbIAmMKV3ZdToASZyK+hWA2jy37TsBcN9R6ZPn453331X0XpJ7tju3bsXNWrU4P4dra6uFn3+008/je7du6OwsBAejwddunRBnz59NK/btLnJDjsYhrEBurq62jBwMDL1gPySkhLD5ApWBuiCggKUlJQYZkmnJqUAOiUlBW+//bYu76G0yq4nQC9evFjzdoQAffHiRVGAfvPNNxEXF4cePXoYAiOHDh1Cz549gx4jsq9wgzWMhCO5Y7RJ6i3pMGuASaQKulDnSyvFgJV/4WI25IuNWo+NjcWOHTsUrZcbNmxAVFQUatSogRo1anD///Dhw7hy5Qpq1aqF3Nxc7vk+nw8vvPAC6tati3r16mHIkCEoLi7WvG7T5iY77GAYxgZoMYCWGqtspdQC0GZY8xml0daaRANtpCWdmpQa8LJ48WLMnj1b07b5+n4ljbFWB+gff/wRzZs354CAWKm98cYbiI+PNwygDx48iF69egU9RrS3/MEaZkGSGoAmqZekw8wBJlIVdLFGOVop9ZkIB/OYdaElNily6NCh+PTTT2kvwaqCNjfZYQfDMDZAAwhZqFlWfKiFlVIN3PArkEbLFfTWaGtNvsab2EvRHoYj/GzEAHrp0qWYOXOm6mPW4qRidYC+cOECHn30UQ4ICEDPmDED8fHxeOqppwyBkf3796NPnz5Bj/Gb18SmF9KANaWvd7lcquHT7AEmYhV0sUY5WhlptDmpCJsl6RAbdNOnTx988803tJdfVUGbm+ywg2EYG6AB4Pr160ELtZQjgpVSSZWcr/M1y5rPKgBdXl4e0ixHJBy0942fUgC9fPlyzJgxQ/Ex6+FfrSdAL1q0SPfv1A8//BA0UpsA9Ouvv474+PiQKrFeuXfvXvTt2zfoMTH3B7N0r2K355Um+fdEbeWclo0fv4Ieyc7P7P2KNNrc7/ebdrdCbNBNp06d8PPPP9NeflUFbW6yww6GYWyABkIBWkqPaqUki1YkkCJaPOIwYtb+WcHJRMqSzooWewSghaC7evVqTJs2TfZ29PSv9vv9ukiZ7rvvPt0BuqysDCdPnkSLFi04cCWQ8NprryEhIcEwgN69ezf69esX9JjU2GYzPJgjVTvlJn8ktdJmSNo+2OQcWwmg5UxmLC4u5u4KGtmAKubT3bx5cxQVFdFeflUFbW6yww6GYWyABoAbN27IghkrZbgquRmjpyMlmeRI49xEapazIkBLjRhfu3YtpkyZEvH1cp01lKRevQB6AXRhYSEH0fn5+fjmm2/w2GOPcReIHo8HLpcL06ZNQ3x8PHr37m0IjHz44YcYMGBA0GNSAE0gycix2noBNEm+pEMu0FlpAqAVfKCVjjZXc86VpNAlpbi4GE2aNEFFRQXt5VdV0OYmO+xgGMYGaCAUoKVgxkopViU3c/R0pKRhBSjXks6KHtVS37l33nkHkyZNknydkf7VegJ0SkqKpm2Ul5fD5XJxkojS0lKcO3cOrVq14uCDAMjUqVMRHx+PZ5991hA42rlzJ2JiYoIek3Mb3igPZjlyAaWptBnSCgNMyN02M0aXR0o1kxmNbEAVuqQUFxejcePGkvZzVg/a3GSHHQzD2AANhAK03HHPNLO0tJTTzBrl5awlzbQCLC8vV2RJdzMB9IYNG5CQkCD6fDXOGkrSCgBNvtvk9nxhYSF3jr7//ns8/vjjHBAQL+bJkycjMTHRMIDesWMHBg8eHPSYXOgxQtJhBECTcypXXmAVgC4oKDBFNhMp1fpiGyXpEDZ52gBthx06BO0fghWioqIiZOEON+7ZCklkJuQfR7Jw0AZnknrpZyPBlRqpihU9qqUu2jIyMjBx4sSg52lx1lCStAGar2EnF2R8a0Q+QBNocTqdiIuLw8SJE0Ma/fTK9957Dy+++GLQY0qqhlob9oQpV2+rNuXIC8JJWMxKfjOl0bKZSKl1sIwezij8FGrUPR4PHnroIdpLr+qgzU122MEwjA3QgDhAFxQUmNp0pzRZluVuV1rNkk1P+BJLrVKVmwmgN2/ejPHjx1OR59ACaKEshRyn0Fv8u+++Q5s2bTgoILfNExMTERsbi759+xpyGz87OxsvvfRSCEAqgWEtDXvCNBqgyf6GkxdYYQKgmBacf2fKTEmHHr7Yeuq6hXcILl68iMcff5z20qs6aHOTHXYwDGMDNCAO0E6n03JWZ0K4yM/Ptyzks6z+XtpilnRqINKKQ16kAHrr1q0YPXo0FXmO2QAtlKUIz4Xwcztz5gyeeOIJDgr4AJ2QkIBnn33WkNv4WVlZePnll4MeIxeySrelR/OY0oY1LUDH95Hn76/a49czpaQsNCQdevpi66GdF94hOHHiBHr27El76VUdtLnJDjsYhrEBGgAqKytDFnOrOTUIG+SIhMOqMhOyiOi1PSlLOjV5swB0aWkpMjIy8OKLL1K5y2AWQAulOFIXhcLP7fTp02jbtm0QSPIBun///obcxt+0aRNGjhwZ9JgWgNTaPKamYU1L8iVEBOisMAEwXCXe7OE2etv6ab0IEH63Dh48iJiYGNpLr+qgzU122MEwjA3QgDhAu91uS9zm51flhA1yVpaZ6DWMxgiXCasMeREmuSDiH3NWVhaGDx9OZX/0BOjk5OSQx8VkKeG2Ixeg4+PjkZCQgIEDB3Jgpedt/IyMDIwZMyboMa0AGa66GynNBmgCdHzotwJAy6nEmzXcxghbPy26buHn8/7772P06NG0l17VQZub7LCDYRgboAGgqqoqZLEWNiyZnXKaxawqM7l2TfswGrmWdGrSygDN78APBALYuXMnhg0bRmV/9ALo+++/PwSgiRSnoKBAtixFCNCnTp1Cu3btQkAyLi4OiYmJQVZzevrsbtiwAa+88kpYQFGbakY80wBoIdBZQcIh9zyYIekw0pVE6UUAGXHOP9b09HRMmTKF9tKrOmhzkx12MAxjAzQgDtC0IIt/O9vlcoUF5D8iQCu1pFOTXq+X+pRE4TGTKp7wYmnXrl0YOnQolf1iWX1kOPfzADoQCHDQpVSWIgTob7/9Fu3btw8BqIkTJyIhIQGDBg0KAQk9fHbfeecdxMbGBj2mZwVWKeB5PB4qAK0W6IxKJefBaEmH0U2VSr4jBKD5n83SpUsxd+5c2kuv6qDNTXbYwTCMDdCAOECbPYqafzubNMJEggur6bT5STTaSo7frOmJVhgzLvzMyZAQ4Z2G3bt3Y9CgQVT2j2X1A+gFCxZovqPAB+jy8nIcP34c7du35yp9BKBiY2ORkJAQ4tVMYEKtVILkunXrMHHixBBA0bOaqeR2vVbLND32NT8//6b0XjYK/s2oyAsvAqT23+/3hwD0nDlzsHLlStpLr+qgzU122MEwjA3QAFBdXR2yWJs1SY8/BEXJ7exr16w5EISk3GmONOzZrADQYm4iYpr2ffv2YcCAAVT2kXwvtWyjvLwc999/P2bNmqX5jgIB6EAggJKSEhw/fhwdO3aE1+vlqs9utxvjx49HYmIihgwZEhaclEolSK5evRqJiYkhAGkEOMqxYaMN0ATQiFe3WY16whRO21Oy/3rDv5ma8EjfZXJ3i//Y5MmTsXnzZtpLr+qgzU122MEwjA3QgDhAmzFJT6uzhBX9jElGAmia0xNpjBmX85mLAfSBAwfw/PPPU9lX8vmoeS3/wui+++7D/PnzNe1LeXk5B4olJSUoLS3F8ePH0blzZ5SUlHAWZi6XC6+88goSEhIwdOhQQ8Bp1apVmDRpEvffRgK0nP20CkDzgY6GpEOL97Kekg6jvw9Sn4GUPIk/YIbkmDFj8OGHH9JeelUHbW6yww6GYWyABsQB2shBIHwdqBZnCSvasfGBR2ocup6WdGqSBkDLcRMRA+hPP/0Uzz33HJXPkGXVAbSwul6/fn0sWLBA9feorKwMpaWlXCWtsLAQpaWl+Oqrr9ClSxeUlpZy8hCXy4WxY8ciMTERw4YNUwROcpu+li9fjldffTUEmIyExXBDNdRWXvWEN2GF82b1XtYD/s34Pki9r9gYcLEBMzExMThy5AjtpVd10OYmO+xgGMYGaBJ6wYNciNLDWcKqbhIEfIQ+1UZY0qlJM+4ukBQOBwknYRBrCv3888/Ru3dvKudJ6W+gtLQUHo8n5MJIDUCXl5ejvLwcpaWlXMW5tLQULMtyleYvvvgCXbp04UDN5/PB5/Nh1KhRiIuLkwXQJJVY3S1ZsgTTpk2jAkxi0wv1mHqnJYnDiRjQmTlOWy/vZa3wL6Y5pvF5EMcZMX/sp556CmfPnqW97KoO2txkhx0Mw9gATeL69etBC7hePsYEovgLn17OElYG6GvXfvc1NtKSTk2aAdBybAiFKQbQR44cQa9evaicJwIlkZ4X6fNVCtDl5eWczpnAM/HHDgQC3B2MAwcOoFOnTigqKgp6zujRoxEXF4cXX3xREQDJtbpbtGgRXn/99SBQNBOYhPtpVYAmadY4bT29l7VIOsQ0x2Yn33HG7XaHAHTbtm3x66+/0l52VQdtbrLDDoZhbIAmIQRorT7GfIgii4feQ0+s0AwXLvm+xkZZ0qlJI+U5wqZIJW4iYgB97Ngx9OzZk8p5YtnwAM23HAx3YVi/fn3MmzdP1rkLB87kbwRsDh48iM6dO4cA9JgxY5CYmIjhw4ejsLBQEUTLsbpLSUnBG2+8EfQasyuO/P10Op1UAVpMYyvMm9V7WY2kI9IFhZnfEfLvL5FTkb898sgjKC0tpb3sqg7a3GSHHQzD2ABN4saNG0GLuVIbNiEImGHJRrMZTs7xE02q1byqjQJoMWcNJa8XsyU8fvw4unfvTuU8saw4QMsdvU0yEkDLAWe+zpk0En7xxRfo3r07CgoKuAvUQCCAUaNGYdKkSRg5ciR8Ph+8Xq8iS7FIVncLFizArFmzguCQtuZVjwExWiBTqLGV2l8pHbceadTwEqXwL+eCwswk59zlcsHv96O4uBiNGjVCVVUV7WVXddDmJjvsYBjGBmgSQoCWa8MmBAEzLdnM1PKqOX6yiNDeL7lgqDb1aooUA+gTJ06gS5cu1M4TX8YkdE6R+/2WAmh+g2A4cCZAQs4P+Vtubi569OgRdOHCsixGjhyJSZMmYcyYMQgEAvD7/ZzVnRpJh7D6OG/ePMyZMycIsGhqXp1OJ9VBJnIBmqTeo9VJGjm8RImkQ+n5MDqJvWN+fj66dOmCnJwcNGrUCNXV1bSXXdVBm5vssINhGBugSQgBOpyLhBgIsKz5lmxGShGUpNTxW3XQC9lXrdvRuylS7HydOnUKHTt2pHKe+H0A/IsEv9+v6PstBGipBkEhOAsrf8Ln5ObmomfPntzzyWcxfPhwTJo0CWPHjuWeS8BNKUSLVR/nzp2LuXPnBj2HpuaVuE+Qi1azB5kQC0ElrzFC0mH09D+WlecfLta0RzPJ98Pv92Pp0qX485//jJYtW+L69eu0l92QqK6uRnV1Naqqqrj/Lwb6tLnJDjsYhrEBmkRFRUXIwi90kZCCDP7CZaYlG/nHkQZckQxXfbXqoBetDaJKnDWUpBhAnz17Fu3bt6d2ngoKCjRfJPABWo5cg6/vFeqbhQD91FNPBT3m9/sxePBgxMXFBQE0ec+ioiLO/lEugAjdJN566y3Mnz8/CAZpAjRpnjN6PLVUqgVGvSUdZnkvE/iXAnZyMUPr+yBMoTvJoUOHULt2bbRq1Qq//PIL7aUXABTLSWhzkx12MAxjAzQJMYAW8+Xlg6OYZZeZSf5xpAFXcqqvfzSAVuOsoSTFztf333+PNm3amH6OysrKgjxltVwkNGjQAPPmzVPUIOj1eiXBmeTnn3+Op59+OuTxYcOGITY2FqNHj0ZJSUnIexBJh9frVQRcRHrw+uuvY+HChUFARRug+QBqlusF/7xoAUY9JB1mDy8JN0abTMWk9X2I9P34/vvv0bZtW4wZMwb16tXDtm3baC+/AICysjLs378fqampmDp1KqZNm4b58+cjMzMTR44cQV5eHioqKgDYAG2HRYLyb8YyIQbQYq4IVvEy1gKCWsFKriWdVSclksqq3OdrcdZQkmIA/cMPP6BVq1amnRt+gyCpAmvdXoMGDfD2228rahAMB84kP/vsM/Tq1UsUoBMTEzF69GgUFBSguLg45DkE3NRIOqZOnYr58+dz0ETbtkysec7MQSZ6VFz51nxq9pfW8BIxSYfH47EUQJM7OeS/jx07ht69ewMAsrOzUbduXaxZsybs+piVlYW2bduiTp06qFGjRsSKcfv27VGzZk3Url0btWrVQu3atbFq1SrR5+bm5qJ///64//77Ubt2bdx1112488478be//Q21a9fGLbfcgr/+9a9o1aoV5syZg59//hkMw0TRZic77LAB+v9HZWVlyOLPv6UuBEcrWLLpYbWnBIT4lS05x2/VSYlKzptWZw0lKQbQFy9eRMuWLU35fAmM8WFI7QUakWqUlpaifv36mDNnjqIGQTl5+PBhPPPMMyGPv/jii5g0aRJiY2O576zP5wuBd76kQwm0TZ8+HUlJSdzdJysCNIFKI10vSOpVcSX7KwQ+ua+l1cgpHKNNe7S6MIVSkz179mDo0KHc2vfzzz/D4/GEXR/37duHrKwspKWlyQLoDh064I033oi47nbo0AF16tRB9+7dMWfOHLz33nvYv38/jh49ii+//BKfffYZ3nvvPcyZMwfdunXDX//6V9StWxcMwyQzDFOXNj/Z8R8e8vDyjx9iAO12u+H3+xWDo1mpxWpPCQipteS7mQGaxrhxsYr9zz//jBYtWhj6viUlJaINgmrucIg1CD7wwANBAC2nQVBOHjp0CL179w55fMiQIUhMTMTEiRM5TbXQ6o4P0cQOUq4ueurUqViyZLVCTlkAACAASURBVEmQxzlNgI4EnEa5XpDUs+JKJucJpy3KgViaTih8SYfT6bQUQAulLdnZ2YiNjVW1Th46dEg2QM+YMSPi9ubPn4/Tp0+jsLBQ1vsXFRVh5cqVYBjmPMMwXoZhalNGKDv+k0PWt/Y/IKqqqkJAgG8PpbfeVY9UY7WnBIS0WvJZdVJiuAsPmhIdMYC+cuUKmjVrZshnHAgEuEVf7CJBKUBLNQjyAVpug6Cc/PTTT9GnT5+QxwcPHozExETExcUFgTK5kyAmEVFidffqq69ixYoVYNnf5Rs04U2O+4RWiUS4NKLiKncqJEnaOnSSpNgiHFxCK8W04evXr5cFt2KhBKD/9re/4S9/+QuaNm2KqVOnig5uqaysDFmHq6qqUFlZiYqKipAk8f/xZRTDMDVo8pMd/+Gh6lf0BwwC0PyKK3EgoA184YBFrtWekm2yrD6WfKRRi/Z5EgNH4YWHUc4aSlIMoH/99Vc0a9ZM1/2Rq2OXC9CRnDUeeOABzJ49W1GDoJw8ePAgnn322ZDHX3jhBSQmJiI+Pj5EMlJYWMhV2tXqoidNmoRVq1aJQpPZFnIsK9++jS+R0NPuzSjJgpypkCRpy2j4SRw6zLDVk3MOhRd3KSkpSE5OVrVOygXoo0ePwufzAQBOnz4Nh8OBgQMHyl6LIwVtbrLDDoZhbIAmUVlZyVVciadpYWGhJSuofHCRY7UnN/WWLVh11Di/cm+0s4aSFAPogoICNGvWDCyr3U+bf6xyRstHAmi5EwQbNGiA6dOnK2oQlJOffPIJ+vbtG/J4TEwMEhMTkZiYKPo6AltiIC/H6i4hIQFr1qwJgTe+1Z2ZkETuIMgFKr67ih5VUrfbbZhkQe7+WmV8Nsuy3Gj1cNMszUqxyvybb76JdevWqVon5QK0MA4fPow//elPuHbtmqznX7x4EWfOnMGZM2fw448/4urVq5wE6dq1azZA22GNUPMj+iPGjRs3uAoSAUerAiA/9QBoo2QLVh01TgCa6HCtMm5cTDPudrvRrFkzTRdyal1EpLTi/AZBORMEGzRogFmzZukGziQPHDgQFqAnTZok+VoCOuSiSQjRRNIhBsMTJ07E+vXruf/mj24220KOZZUBtBA49RgB7na7UVhYaOgxRtpfK43P5jd1yhm8YsZ54z8WFxeHnJwcVeukVoAuLy8P+7wTJ05g4MCBaNq0Ke677z7ce++9aNSoEZo1a4Z27dqhc+fOGDduHAFo24nDDrqh6lf0B4zq6uqQiqtVAZCf4byq5YCkXEs6NWnV80egg1ic0fDwFksxgC4qKkKzZs1Un0ctLiJCgJY7elvYIPjAAw8YAtD79+9Hv379Qh4fMGAAEhISMHny5LCvJ3dcyB0nKUmH0C96/PjxSEtLk4Q3vg2gGZIOtf7HSiQS4dIMgI60v1Yany1s6hS6dJi5L2IXFsOHD8f+/fsVrY9E4rh3717UqFGDK9qITQl0uVzYs2cPAoEAAODs2bNo0aIF+vXrF/Y9rly5AofDgf/6r//C8OHDMXbsWAwdOhS9evVCmzZt8Mgjj+B///d/8cQTTxCA/i+q8GSHHYp+RX/gqK6uDgEIv98Pj8dDHazCpZhXdaRUY0mnJq12/vgSFT2lL3qlGED7/X40a9ZM8cCcQCCgedAPH6C1TBD8xz/+YQhA79u3TxSgn3/+eSQkJGDKlCkRt8H3oPb5fCF/F7O6GzduHNLT08NCilF6Y7HUMkCEL5FQO72QjIo2AwiF+0uqumrGiRuVYp+51H4bnWIXFv369cOXX36paH3csGEDoqKiUKNGDdSoUYP7/4cPH8aVK1dQq1Yt5ObmAgAuX76Mxx57DPXq1UPt2rXRsGFDySZC4HfN8/79+xEVFRXRkxqwNdB2WCQU/Yr+4CEECAIEtMEqXIqNf5ZKLZZ0apJABO1zJCZRsSJAi7mWlJSUoFmzZrLtCvW8q0AAOhI4R5ogaBRA7927F88//7wkQE+dOlX2tsjvorCwMKLV3ejRo5GZmRkWUoTQpJfeWOw99JjARy6o1UgNhKOizUh+3wKxvrPK+Oxwn4ee0hk5KXZeunbtigsXLtBebrkgAL1jxw40atQIZ8+eBQDu3+fr16/j+vXruHHjBioqKlBdXW0DtB3WCJo/HKvF9evXgwCCLA60wSpcyhmXrYclnZqkDdDhnDVuFoAuKytDs2bNkJeXF/Ez5jezaT024sYiNYREWL0N1yD4j3/8AzNnztQdoPfs2SMK0P369UNCQgKmTZumaHukaZLoxMUg2+v1Yvjw4bIAWgr29AQkPQeIqJ1e6HQ6TQdosr/kjofb7bYEQMu5oNFLOiMnxaZEtmzZEm63m/ZyGxK//vorevTogbi4uIjPpc1NdtjBMIwN0PwQArTSkc80Mty4bD0t6dQkeW+zz4kcZw0t2nGjUgygy8vL0axZM1y6dEnyWMmgED2aIYUNguQChC/JUDpB0CiA3r17NwYMGBDy+HPPPYeEhARMnz5d8TZLS0s56YvUCPBhw4YhIyODgyQ5+lujRmvrPYGPPxBErpuI1CREs4CVVPmt4L0s9/Mw4+4Ey4pPiWzatCmuX79Oe7kVjePHj6N///547bXXsHPnTnz22Wc4ceIEzp8/j7y8PLjdbty4ccMGaDusEbR/MFaKGzduBMFEIGD8pD+tKQXQNCbpCVPNJDut8CfXbeJmAehr167h0UcfxU8//RRyrCz7+8URy2q7qxCuQZA/yc/n8ymeIGgUQH/88ccYOHBgyON9+/ZFfHw8Xn/9dVXbLS0t5ar5YsNehg0bhq1bt3KSDrkNbGrgVC9gU5pKphfSBGiSLpdLtQRFz1Q6EdFoSYfQo7u4uBiNGzdW7KJhRpSVlWHp0qWoWbMmoqKicOutt+LOO+/EPffcgwceeACPPPII/u///g/p6ekEoO0hKnbQDdo/GiuFEKCNnPSnVwobzwIBepP0hGkmQCt1m1DTfGl0StkmtmrVChcuXOD+m39xxLddVJtyGgT5E/eUDkIxCqA/+ugjxMTEhDzep08fxMfHY8aMGZq2LzUCfOjQodi+fTv8fj8KCwvh8XgUNbDpaXVn5AhruVXzSKPEzUgyTtyIKr+az0PJa4yUdAg9uglAi7ln0AoyjXDt2rW45ZZb0K1bNyxevBhz5szB5MmTMWrUKAwYMAC9evVCkyZNkJ2dbbtw2GGNoPzbsVQIAdqISX96J6laGm1JpyalfIT1fg81lfabCaAff/xxnDt3DmVlZbpeHMkBZ36DIIFFKXmDVP7zn/80FaB79+6N+Ph4vPnmm5rfg39hxrK/SVUGDx6MDz74AIFAIEiHqwTa+B7kWmDPSIAmwEV+X1KQbIWJewQU+VV+GrpstQNdjJJ0CB1SioqK0LRpU9pLbVCQEd3PPPMMmjdvjosXL0Z8DW1ussMOhmFsgOZHRUVFCGBYsdmMn6TL2mhLOjUZCBgngdFaaSdARPsc8VMKoNu2bYuvv/5atzHjcicIkvMrbBAMJ28wE6B37dqFF154IeTxZ555BnFxcbq9J79Z0u/3IyYmBh999FFQ5dDj8UQcAR4OTtUCqJqKpxq4I8cvBndWAWghKNKQdGgd6KK3pEPokHLp0iW0bNmS9lIbFKQC3adPH8TExHB2d+TfOb4DB4Ft2txkhx0Mw9gAzQ8hQF+7Zk2tLIEgsnhadR8JQOspgQnnrKEkldj/mZXEb1j4Gbdp0wZHjx7V/BkrnSAYrkFQSt4gBdB6VIOFuXPnTgwePDjk8V69eiE+Pl53aCe/t379+mH79u1Bchah1Z0SONVSeTQDoCPBnZpJiHqnmBe1UY2b4VKPgS56SjqE+vSTJ0+iW7dutJda0bh48SI6duyIDz/8MOJzaXOTHXYwDGMDND8qKytDoMNqt/qFjXJer9cSXstiqaeGXI6zhpK0IkATACMNgmTx79ixI06cOKHp3KmZIBgJjPnyBikLu0AggIYNGxoC0B988AGGDBkS8vhTTz2FuLg4zJ49W9f3Iw4dvXv3xvbt20NkLPwR4MLphXLhVGnFlNwNMAtUxeBODx9qrSnlRW1E42a41Gugi16SDqH05rPPPsPzzz9Pe6kNCqLHnjVrFu69915ER0dj+vTp2LhxI3bt2oXDhw/j22+/xU8//YT8/HzbB9oO6wTl346lQgygrQJaUpZ0tL2WI+2zVg25EmcNJSnHP9vs9Pl8cLvdIQ2C3bp1w9dff636/BG4UzpBUC5UFhYWhtVFmw3QPXv2xMSJE/HWW2/pBs78qnyfPn3w4YcfhrW683q9iiUdRE+tpGKqVnOrJ9xZAaAjeVHr2bgZLvUe6KJV0iGsYn/44Yd4+eWXaS+1QUEA+qGHHsK9996L2267DVFRUfif//kf1KlTB3Xr1sXtt9+Ou+66C3/+85/hdrttgLbDGkH5t2OpEANoK4BWuEa5PzJAK3XWUJJW+Fz5GQgEOC17UVFR0LE++eST+OqrrxSf+0jgHGmCoJIMp4tu2LChZkcMsdyxYweGDh0a8niPHj0wceJEvP3225rfQ6wq36dPHxw8eFDUI5t/boUjwOXCqZKKKQ2AFkKpVQA60vkyQ9Ih5rusNbVIOoSfzaZNm5CYmEh7qRWNb7/9Fp9++in27t2Lbdu2Yf369UhNTcXs2bMxadIkjBkzBgMGDMC1a9dsgLbDGkH7R2OlqKqqCgGRcINKzICqSI1yLGvtaYlqmjDN8LCm+bnyk++e4nK5RC+GnnrqKRw9elTW9rQ2CGpJKV20UQC9fft2DBs2LOTx7t27Y8KECZg7d67qbbMsG+Q+wT+eZ555BocPHw57zOQzILIcpfIBuRVTrU1rWpNcOCl1IdE75VrpkYKDUZIOYqen93bVSDrEpiKuXLkSs2fPpr3Uag7a3GSHHQzD2ADNDzGAFvosmw1VkSzpzB5WojSVNDjKuWDQK2kDNF/TTeDL7/fD4/GEPLd3797Izc2NuD0Cx1obBLWkmC7aKIDetm0bXnrppZDHu3XrhgkTJmDevHmq9p8PKmLnsWfPnsjNzQ17zMILC7WSjkgVU9oATZoYzdQZi6XS6qySQTFKUji4RO9UIukQszicN28eli5dSnupDYlAIIBRo0YB+M1OtqqqClVVVaisrOScN8hFM2ADtB0WCWq/GAuGGEBLTYczCqr4ladAIHLl1gyvZS0pB6D1ctZQkjQujMhnLKXplgLoZ599FocPH5bcnhENglqSr4v2+/1o2LCh6qmAagC6a9eumDhxIhYsWKBon/nWZywrfXHx5JNP4siRI2GPWQzM1UB0JKs7PVwftCTfBcQsnbFYqpE3GCHpEA4uMSLlSjrEHFqmTZuG9PR02kttSOTn5yMqKgpLliwB8Lu1HYmSkhLMnDkTdevWBQAwDBNFm53ssMMGaF5UV1eHAIqUN6/eUOX3+1U5TAQC1h43Hs7FRKwKa9Z+0QBoUqkkzWdCaYqUnr1fv344ePCg6PkjcGZEg6DWJLf3jQTo4cOHhzzeuXNnTJgwAQsXLpQFzuQ7SLT2kV7TrVs3HDt2LOwxi2nKjbC6sxJAGwWlclKtDltvSYfQj9qolCPpENPHjx8/Hu+//z7tpTYkKisr8fbbb6NmzZp47733AIAbN3716lW89NJLiIqKwvTp0wHYAG2HRYLaL8aCIQbQZMEzAqiE1UiWZRXrfa0+blzMxcQoZw0laeadhUAgwN3iDqfplgLo/v37Y//+/UHnLxI469kgqCVZlsU///lPTJkyRfd9yMnJwYgRI0Ie79SpE2JjY5GUlBT29cJKntz969y5M44fPx72mJ1OJ9xud4ikQ2+rO71s09SmmI2e0TpjMZjU2siol6RDyk7PyPMvJekQk/cMHjwYhw8fpr3Uisb169cxevRo1KtXD1988QUA4JtvvkGnTp1w2223IS0tDQBsGzs7rBM0fzBWCzGAlrqtriWlLOnUbOtmA2gjnTWUpBkArXS8uhRAx8TEYM+ePVQbBLVko0aNMHny5KBx2HpkdnY2Ro4cGfJ4x44dMX78eKSkpIi+TuvFRYcOHfDNN9+EfQ6/EVbsmAm0qbW6I1IRvW3T1AJcOCjVczS1WBKA1voefBhVC+OR7PSMOn4xSYfY3YlnnnkGJ0+epL3UBkV1dTUn2SgsLET37t3RqFEjrFu3Do0bN8Y999yDffv2AYA9idAOawW1X41FQy7UqE29HSb08Fo2Mkm1zAxnDSVppDSHSFOUjleX+q4NHjwYu3btot4gqAWgX3vttSDPYCMBukOHDhg/fjxSU1NDzhG/0qj24qJdu3Y4efJkxOfx38/n84mCvFarO7fbTRWgIzUx6j2a2kiAJtviu6+oAWgajZRikg6xi6sOHTrg0qVLtJdZbuqvWPh8PnTv3h1RUVHo3bs3Ll++HPIc2txkhx0Mw9gALYzr168HwQvL6mMTFwgEgjrV9QReNVZxZqXL5QryN7YK6BsB0ESaQoBBqTRF+F0jDYJDhw7Fjh07LNEgqAWgA4HwGmGluXXrVowaNUoUcMePH49FixZx50gIclre94knnsCZM2dkP5/0N4i5eqjVRRN4JRZyZjft8fchkoREz9HUYinmNqEVRtVWz9WCt17J/557PJ4QgG7WrBn8fj/tZRbLly9HVFQU7r77btSvXx8PP/wwnnjiCfTs2RMjRozA448/jpo1a2LSpEl4//33sW3bNhw4cABXr14FYAO0HRYJyr8jy4UQoLXaxCm9ja8mlVjFmZV8Zw2Xy2U5wNdb266HNIUP0Hy5xrBhw7Bt27YQMKPZIKgWoAOBAAcapGFW7Xa3bNmC0aNHiwL0K6+8giVLlnBaez0vLlq3bo3vvvtO0WvI94NcWIl9lmokHeSi3OymPSUATaBUj9HU4QDaSBiVu79GXSQoSb4GnQ/QxcXFaNy4cYjDBY04ePAgXnrpJYwcORL9+/dHjx490LZtWzgcDjRs2BBNmjRB06ZNUbduXdSoUQM1a9ZEVFQUXn31VQAAwzC30GYnO+ywAVoQN27cCIIatTZxaizp1GY4pwuzU+is4Xa7qdjFRUq9ALq0tBQej0cXaQoBaAJcRK4xYsQI5OTkBMGYFRoE5Wbjxo2DAJocg9vt1qSL3rx5M8aOHRvyeNu2bTFu3DgkJydLTgrUki1btsT58+cVv47/XRGrgquxuissLOQG8NCAN6VNjGKNkHqArhEATaBTSfXcClMZyX47nc6gC5bi4mI0atSIG51NO27cuMH1A5GLq0uXLuH8+fM4ceIEcnNz8emnn2L37t3Yvn071qxZg1OnTgGwXTjssEhQ/g1ZLoQAHQgEFDXpabGkU5tiThdmp5SzBpnCRnPfxFIrQJeVlek69IWcP7IA84Fv9OjR2Lp1qyUbBNUCNAFKcndGjS5aDKBLSkrQqlUrjBgxAikpKYacoxYtWuDChQuqXx9u7LlSSQcZHa1FdqAVoJVqsPmNkHoAv9HjzOVWz/VwA9Ez3W43V4meNm0aLly4gMaNG1sGoLUEbW6yww6GYWyAFoYQoOW6XOhhSac2aQJ0JEcRM+3ilKRadxX+nQU9hr7wpRoESIRAOWbMGKSnp1uyQVALQAuBUmk1fdOmTRxA85soW7VqhTFjxmDFihWGHE+zZs1w8eJFTdsgWnkxGYsSqzsC0EKY1LPCqzdAE9jk30XRsg9mTWOMJOnQs5lRj3S5XNz3o0+fPrjjjjvQqVMn2kssAGDjxo04d+4c99+VlZW4ceMGKioqRJMP/baNnR2WCRo/HisH6Q7mA044lws9LenUJlkszYZQOc4aZgyiUZNKAVrvOwv8CYIsywZBFNF0kirk6NGjsWbNGks2CMrJJk2ahAXoQCDYO1nuMWZmZmLcuHEhTZStW7fGuHHjsHLlSt2PpaSkBA6HA7/88osu2wonYyGAGk7SQWRSQpDjW90ZCWlEQqIFfombiFrwNHOYTDhJh97NjHoANLk48fv9mDNnDm655RbMmjWLug566NCh+O///m+MHj0ax48fl/Ua8n2fO3cuGIZpSJud7LDDBmhBCAH62jVplwurWLN5PB74/X7T3i8QCMiWL1gVoOXaE5ILJAJoLKv9zoIcP2dSlc3Pz8f48ePx7rvvUgdhIwE6EPjdO1muLnrDhg0YPXp0SBNly5YtDQPo4uJiOBwOXL58WZftabW683g8oqOj9azwRgJoIcArTa3TC80eJiMl6TCqmVFtCi31vv76a7Rt2xaNGjVCp06dUFBQQHWtzc7ORvPmzVGnTh04HA7ExsZi3bp12LNnD3Jzc/HFF1/g0KFD2LNnD5YvX46YmBjccccduOOOO8AwTCPa7GSHHTZAC6KysjIEeIQuF4GAcZZ0atKssdR8Zw258gUjJzkaDdD8CyS/328KOPMbBEl175VXXsG6deuog7AWgJ46dapioJTSRZNztHr1aowdOzbkPLZs2RJjxozB6tWrdT8Wn88Hh8OBvLw8XbfLv+ugRBctBdAk+Y3MRlRGxSrgaqGU/2+qUoCm4YUtlMsY2cyoJoWWegcOHMCgQYPAsixiYmJw5513chP/aIXb7UZWVhb69OmD+vXro06dOqhVqxb+8pe/4K677sKdd96JmjVr4q9//Svat2+PzMxMALYG2g6LBNVfjwVDDKBJdcMMSzo1abTOWOisoUS+YMQkRz2SZaX9vQOB4Aq7GeAs1SBYWlqKuLg4LFmyRLcBJFYGaCFQ8nXRwkEoGzZsQGxsbMhrH330UYwZMwZr167V/VgKCwvhcDhQUFCg+7ZJ1VDK6o7oovnVaLfbHRagWVZ7hTcSQEd6f6UwrBT4tcpItCS/IdLr9ZqixVYC0PwLru3bt2Ps2LEAftMRr1+/Hj///LPkWjh16lQ8/PDDqFOnDu6++27ExMQgLy8v7Prp8/kwaNAg1K1bF7fffjsGDx4sy3fa6/Xi66+/RnZ2NpKTkzFt2jRMnjwZ8+bNw7Zt2+B0OoOeT5ub7LCDYRgboIUhBdCkOmK0JZ2aNEomIeWsoSRvJoBWU2HXA5wjTRCcOnUqli9fboglm1UBmg+Ubrc76BwRC7gNGzZgwoQJIa9r0aKFYQDtcrngcDg4u0G9M5LVHYFMAtFyAJplgyfs6Wl1pzdAEyhVMlJbDxmJluRLOmgOtRGm0BHk3XffxbRp02Svha+99hpOnDiBiooKFBcXY9CgQYiOjg77mp49e6Jr167cmtSlSxf07t1b67IMAKiqquL+P21ussMOhmFsgBZGVVVVEACRSpjT6bTcsBKSessk9GyM1HsUul7JH5BjZoMgH5TkThB87bXXsGLFCs65gdwFoA3GSgB6ypQpql5Lfn9iLh1paWmYOHFiyGuaN2+OUaNGYf369bofS0FBARwOB3chbRREkws5Kas7oosmTgtyQU9vqzu5AK8GSuUCv14yEq3JH69OG6LFLPUWL16M+fPnq14bT548iRo1akhWlC9fvoyoqCicOXOGe+zUqVOIioqKWLkGfquKV1VVobKyksuqqipR2z3a3GSHHQzD2AAtjKqqqpDKK6mA0YY+MwBab90vAXHa50gMoMntVr2sB8vLy1FeXo7S0tKwVWelEwRnzJiBpUuXcvAUbqKdFbNp06aKAZo4VBDYE9NFp6WlIS4uLuS1DocDI0eORFpamu7HcvXqVTgcDtGGP70z3AUT0UWTiz4lcKVmwl44gJYL8GogUI7/shFVcDVJmhmNkssoSTFHkNmzZ2PVqlWq18YFCxagQYMGkn//4IMPcNttt4U8fuutt2LXrl2q31csaHOTHXYwDGMDtDCuX78eUnm1qpcxST1kEoGAfGeNPwJAkwWG3HI1u0FQiefxzJkzsWjRIu6/I93mt1oqAehww2KEjXbvvPMO4uPjQ17vcDgwatQoQwD6ypUrcDgcpp13/oh4lmW5Y+RLWsgFhhJg08vqzkiAJhkJ+I2qgitNckfALAcUOQDNfywxMRFZWVmq1sX9+/ejVq1a2Ldvn+RzMjIycNddd4U8fuedd2LTpk2q3lcqaHOTHXYwDGMDtDCqqqpCKq9WtWIjqUUmobfuV5h8qYQVMhD43UFFyYRJLeCsdYLg7NmzkZycHLJN8rmZUQ3VCtCvvvpqRHCOpAUPBIJ10evWrUNCQgL3N6/Xi0OHDuHll1/GwIEDDbH+++WXX+BwOEyt/vO/P4WFhUEVTvLdC2d1Fw6itYKeEgmJlgznv2wGxMsFaP7dAD08rtWm2HTGUaNG4eOPP1a8Ju7atQv16tXDBx98EPZ5dgXajv+40PVb/QeI6urqEEiyqhUbSbKQKQU/tc4aSrK0tBQFBQXUz5HQQaWkpAT5+fmGg7McKIyUb7/9NhYsWCD6N3KbX8z+zCoZCaDlasH559XtdmPp0qVISEgAy7I4ceIEVq1aheTkZKSlpaFt27aYNm2a7hcXFy9ehMPhMP0ckguH/Px8UfmO0hHg/NRidccf1mEGRJMLCf57mgXxkVJMSmKkA0qkz1QI0AMGDMDRo0cVrYeZmZmoV68e9u/fH/G5ly9fRo0aNYI00EQ3HU4DrWa0OG1ussMOhmFsgBaGGEBb1UmCpJIqrx7OGjcTQAsvFAKB3yrsgUBAFUDzGwTDgbNSKAyX8+fPx7x58yT/Tj5/q+qipQCaZVlOb6/UXaS0tBQrVqzAsGHDkJaWhqSkJLz77rvIyclBTk4OevbsiSFDhmDTpk3cICQ98scff0SLFi1MO3fC6jP5Xrnd7rBWd0olHWpBz+l0mi5TEFZ2zYT4cCklJdHica3lHAmHy/To0QPff/+97LVw2bJluP3225Gbmyv7NU8//TS6d++OwsJCeDwedOnSBX369Al53rlz57Bs2TJ4PB4Avw0wCxfkopAEbW6yww6GYWyAFgshNFnVSUIJpNIaOa4WVPUA53AXCmVlZYokHGoaBH0+ny5V4aSkJLz11lsRQYvAKMuqka3bcQAAIABJREFUq3SbBdAlJSVBUKgG+vPy8hAbG4uOHTti0aJFyMzMRHZ2dhBAJyQkYNmyZVixYgV++OEHXY7l/PnzaNmypSngTKqIRBYg97Nm2cgjwMWS73whF/SE0+7MSj7wEw9mKwB0uEq40UNt+Ck2XKZNmzbIz8+XvQ5GRUWhZs2aqF27NmrXro1atWqhdu3aHFBfuXIFtWrVCgJsn8+HF154AXXr1kW9evUwZMgQFBcXc38n1eb09HRERUWhY8eOOH36NABIjhcvLS3FtGnT8MYbbwD4TWZJm5vssINhGBugxeL69etB8ETAkzYoqwVovZ01lKRSUNUj+Y1XUhcKSvbLyAZBOZmamoqZM2fKgq5IU/xo5L/+9S+8+uqrQbptIRTKTY/Hg08++QSpqal44YUX8Oyzz2Lr1q3YuHEjNm7ciK1btyInJwc9evTApEmTkJOTg/Xr1yM5ORnHjh3TXKH/7rvv0Lp1a0PPl5y7F5E08HxdtBJJh1KrO1oATfaV789PG6DlSEnMknSIDZd56KGHEAgEqK6tBKDnz5+PqKgo/PnPf8b999+P3bt3c8/h+z0DQGFhIVq3bo3BgwcD+K1aTZub7LCDYRgboMVCCNBWa4QTZiAQEIXBQMAYZw2rAjTfncLn84V9Tzn7ZUaDoJxcsmQJ3nzzTUUAZgTIawHoxMREFBQUcBc1aqDy+PHjWLFiBVJSUrB582aMGzcOzz33HHJycpCdnY3MzEykp6dj69atQQCdk5ODzMxMLFy4EB9++CGKiopUH8uZM2fQpk0bQ84Ty7KcdZ9cSUskqzu/34/CwkLFkCvX6k5JtdqoJA3BZlR2IwG0nEo4qfQbKekQemMXFxejUaNGIXBqdpD3HzduHFq3bo2tW7eiSZMmuPXWW7FmzRruefxqtNPpRLNmzZCQkADABmg7LBTm/nxujrhx40YImFmhEU4uDPIb5oxw1lCS5eXlyM/PNxTe1YxYD7dfZjYIyslly5bh9ddfVwxjRCtLE6KLi4vRpEkTxMbGqpK0lJaW4ty5c5zOOT09nYPisWPHcgBNIHrz5s3YsGEDunbtismTJ3N/y8nJQVZWFpKTk5GRkYGrV6+qOp6TJ0+iXbt2up4joc5Z6UVYJG9wllUv6ZByvuADtJ6TDdUkkXDQ9l9WWo1XM7ZcCUDzq/IEoNU07OkZBKBjYmLQuXNn+Hw+XLx4ES1btkRUVBRndwn8rovOy8tDw4YNMWfOHAC/wTVtbrLDDoZhbIAWCyFABwJ0dLxKITUQCJjirKF234zYNl9XqOQ9xACaRoOgnFy5cqWqUdhEusP3EDYr+ZKWpk2bYtKkSYq3cenSJeTk5CApKQlr164NguGcnByMGTMG/fr1C3l8y5Yt6NSpE+Lj44N00SRXrFiB5cuX4/z584r36ZtvvkGHDh10A2e9LsIIhBOZltjnYYTVnRUAmshY1Gi49Uw172uUpEOox/b7/WjSpAl1gCaV5e7du6NPnz5g2d8aA/Pz8xETE4OoqCjExMTg119/5V7z448/4u6778bq1au5bdDmJjvsYBjGBmixEAI0DR2vkiT7RxZio501lKbeAC0cva32eMl+CRsES0tLTWsQlJNr1qyJ6KMcCazM0kXzddhE0vLggw8qAmiXy4W9e/ciJSUFy5cv53TNYgD9/PPPi/6ta9euiI+PD9JF8zMtLQ3JycnIzc1VVPE9fvw4OnXqpPk8kQZXvS/CfD6fpHzHCKs7Aq+0AZrApxHjypUAtJpzYYSkQ6jHzsvLQ/PmzWkvrRxAt2zZEi+++CICgd812T6fDzNmzEBUVBQ6dOiA48ePAwDOnz+PunXrIicnB4DdRGiHhcL8n5D1o6KiImK10grJd9YgC5kVIb+goECXarjQSYRltY3ezs/P5yCDVoOgnFy3bh0SExN1ASuldnFKwFmomyV/e/DBB2Xtv8/nw9GjR7F06VIsWrQImzdvFoVjkqNHj0b//v0lAXrKlCmcLjorKyvkOZmZmUhKSsLOnTvh9XplHeexY8fQtWtX1eeJVAeN/CwIzEnJd/S0uuPDK40sLi4W3Qc9x5XLTa0XE3pKOoR67LNnz6JTp060l1ZOwkFkXdeuXQPwO1hXVFRg7dq1uOWWW9CoUSN88skn+Pbbb3Hbbbfh4MGDAH5rRKTNTXbYwTCMDdBiIQRofrWSNoySFDpr5OfnW67yzAdorfumt5NIeXk5VzGi2SAoJ9PS0hAXF6d5O+EazrRul9iJiVVTH3roobAAXVJSgrNnz2LdunVITk7Gxo0bw4IzyVGjRkkCdOfOnTFt2rQgXbQYkG/duhWpqalIT09HXl5exGP94osv8OSTTyo+R2Z/l0pKSsLKdwiwabW6swpAiwGnHA230SCvNPngr2VbQj32F198gWeffZb20soB9L333os33ngjyP+ZLy/Zvn076tevj1q1aiExMRG33HILTp48yT2PNjfZYQfDMDZAi0VlZaUoBFpBUxwIiDtrOJ1OywK0ln2TOl4t4EwAQ0raYGaDoJzcuHEjYmNjdQMrUsHXCnEsK6+aGg6gf/rpJ2RlZWHhwoVYv369LHDmA/SAAQMkAfq1114LaiBMT08P8Yvm66KXLl2K7777Luwx5+bmomfPnorAmQ9FZn6X+HIao6zurAzQ5O/86YVGVaMj7YfSbWnVcgtf+/HHH2PYsGG0l1YOkm+99VbMnj1b1BWEPCc3Nxdt2rRBVFQUoqKicPXqVe45tLnJDjsYhrEBWizEAJo2oEZy1iCLM21YFks1+1ZWVsZVuPRwEpFqEORLG4jtl5kNgnIyMzMT48aN0xWsiN2fGks5pYNQHnroISQkJAQ9VlBQgI8//hjJyclYuXKlKNRGypEjR2LgwIGif+vUqROmT58eUm0W+kWL6aIPHz4sCbqHDx9Gr169ZJ2nSJV5s5LcoRIb987XRSuFNfL7NFMmIUxybJHenz+Uxoh91ROgyfa0aLmFVfesrCxMnDiR9tLKRWlpKcrKyiT/TiQdV69eRd++fXHHHXegpKSE+zttbrLDDoZhbIAWCzGApgWowlHUUlVwsjDQhmWtAC1sENRa9ZfTIEikDQUFBVy1zgrgTHLLli0YO3asrtuMNIgj3GvEpuOFy4cffpgDaK/Xi9zcXCxevBhLlizBli1bFIMzyREjRkgCdMeOHfH666+HPM73ixbTRW/atAkLFy7Ejh07uAs3fn766afo3bt32OMl8gkreXGzLBt23DsBNiWSDgKvZskkwu2D3OcaZXUnF+SVplott/DOwNq1a7lJfjdL8CUdeXl5QX+jzU122MEwjA3QYlFVVUUdUCONohamx+OB3++nDstiKefckQZBcrwsq61BkGyTAI2cBkG+iwlt4OFndnY2Ro4caci2ycWDWHWSD85C+FDyHg8//DDi4uJw8uRJrFmzBsnJycjMzFQNznyAjomJEf1bhw4dRAGaQLQcXXRaWhouX74cdCyffPIJ+vbtK3mehA4ktL87wv0Ld+dBqdUdgUa/3x/W6s7IJIAp9/mRbPm07IdckFeaSrXcYnrspKQkpKam0l5adQva3GSHHQzD2AAtFmIAbRagCp0mpEZRC5PoGGnDslhGOnekYqdng2AkcBZr6uIDBsvS1T3zc9u2bRg+fLhh2yeTNsUuHsh3kWgq1VRTGzdujKeeegpJSUlIS0vTDM58gB40aJDo39q3b4833ngj7Osj6aJXrlyJJUuW4PTp09yx7N27F/369Qv5LtHSOauBaHLnQezzVGJ1J6z+SlndWQmgjdpXtfuhBKL5sqlw+yxWDZ8xYwbeeecd2kurbkGbm+ywg2EYG6DForq6mgqganGa8Hq9KCoqog7LSgA6EAhw1aCioiLTwDlcgyC/imiGb7Kc3LFjB4YNG2Y4WPEvHviV+XDV6XB59epV7Ny5E3//+9/RtWtXVTrncDl8+HBJgG7Xrl1EgJaji96wYQOSkpJw6NAhsCyL3bt3o3///twxWkXnrDTljACPZHUnVnU1UiYhBcJqwVXPfS0qKuIcT4xMOZIOMVnLhAkTsG3bNtpLq25Bm5vssINhGBugxUIMoI0E1EBAu9OElQFaePGhZvS2HHDWc4IgWYSsoGH94IMPMGTIEMPfh3/xoEWGUFhYiEOHDmHRokVYunQp7rvvPjzzzDO6wjMB6BdeeEH0b23btsWbb74pazuRdNGbN29GUlIStm3bhm3btiEmJoa6N7geyXdkEV5IBgKRre6kqq5mTgTUCq56DTExC6DJPoeTdIh9LsOGDcMnn3xCe2nVLWhzkx12MAxjA7RYiAF0UVERvF6vrmAZyVlDSRqxf3olgXu5DZFKwNnICYIsyxrim6w0P/roI8TExBgOz+SzcTqdqsCwuLgYX3/9NVauXImUlBRs2rQJOTk5uP/++w0B6JdeegmDBw+WBOiZM2fK3pZQFy2slm/duhWLFi1CfHw8+vbta1mds5rPPdykynC66EiyBTMmAnq9Xl3AVeu+er1e7o6WWRAtJekQq8r37duXm+z3Rwja3GSHHQzD2AAtFUJYI7pAPYBSb5DUe//0zsLCQng8HtkNkXLPIVngjZwgSKp0NJsL9+zZgwEDBhi2fbELDJb9raFTapqdEMLOnz/PyR02bNgQBJ80ALpNmzaYNWuW4m1K6aKzs7ORnp6OV199FRkZGars/6yc4e64SOmi5VRdjZ4IqCe4atnXwsJCUwFauM98ez6xz6Vz5864ePEi7WVVt6DNTXbYwTCMDdBScf369SBg8/v9cLvdmqFPibOGkiSd8LRhWZglJSWcPZzchkit4Kz31Detvslac9++fSGNa3pkpAsMosmXusUfCARw+fJlbNu2DcnJyVi7dq0olBoF0MOGDcOQIUMkAXr27NmqtivURWdlZWH9+vWYPXs2Dhw4IHkubvbkXzTJsbqTK1swciKg3uCqdl8LCws5a0ez0+/3B+2z2EXFo48+isLCQtrLqm5Bm5vssINhGBugpUII0OQfVrXQx7LKnTWUJNHy0QZmkoFAgINOt9utGe71aBDUkmp8k/XKcNZpao9F7gWGVFOl2+3GgQMHkJqaimXLlok24PEBulevXroD9IsvvoihQ4eK/u3xxx/HW2+9pXrbRBe9YcMGrFmzBnPnzkVubu5NqXVW+t0g+mUpqzsC0YWFhbLlE8KJgHoCtN7gqsTxgqTH46EG0MJ95uvayd+aNGkSNDb7Zg/a3GSHHQzD2AAtFUKAZtnfqjNKwU+Ls4aSJIBOG5zFGgS1yEuMaBDUkjSaCw8fPhxxeIdcOFJ7gUEcF5xOJ7788kssW7YMqampoj7Kwqxfv74hAD106FBJgG7dujXmzJmjGp43bdrEwfPs2bNx5MiRPzw8C78nUkOFiKRDCGpykmxXr4mARoKrmDwi3H54PB5qAC08v+QCiAB048aNRcdm36xBm5vssINhGBugpeLGjRshIFxQUKCoAqvVWeNmAmii6yZVzUDg94ZINfISqdHbwlTbIKglycWUHH2wHvn555/j6aef1rQNrRcYJSUlOH36NJYvX465c+eG6JytBtCtWrVSDNCkkTA9PR0bN27EO++8g5SUFBw/ftwSzaRmp5TVHf+uhMvlCmt1J5Z62scZDa5CeYTU89xuNwoLC6kDNNkX0gxMKuiNGzcOmux3swdtbrLDDoZhbICWCiFABwIB5OfnK6rAanXWUJJkGAYNcCYLrZSuW6m8xKwGQS3JtwAzurnwyJEj6NGjh6rX8hdUtYNQfvnlF2zduhVJSUlYs2ZNWN9kKYB++umnDQHoYcOGif6tZcuWmDt3ruxtZWVlYePGjUhPT8fmzZuRlpaGlJQUnDlzxvTP20opPG4x+FU6ApxURfWwjyPyMCOBVM70QpfLZSmA9ng8yMvLQ8OGDbFixQr861//or2k6hq0uckOOxiGsQFaKoQAXVZWhvz8fEkJhhHOGkpSaYVcD3AmCwe5jSt1buQCNI0GQS1J9sXo5sJjx46hW7duisGHr+NUc56cTif27NmD5ORkLF++nAPmSL7JwmzQoIEhAD148GBJgH7sscdkAfTWrVs5rfOmTZuQnZ2N9evXY/HixTh//jyVz9tqSZpoiT+48EJM6Qhwfmq1jzOz8htOfkIq8bThWQjzW7duRb169eBwOFBWVkZ7WdUtaHOTHXYwDGMDtFRUVFSEwF1+fn6IFMNIZw0lGQjIq5DrBetKdN3kH3Wt4GxUg6DWNLq58Pjx4+jcubNs2OEv9GrOU1FREY4cOYIlS5Zg0aJF2LJliyh8hvNNNgugX3rpJdG/Pfroo5g3b15YuQbROWdmZnIXB2vXrsXSpUvx448/Sp4fIlVSW9G/mVIo14hkdef1ehU7bWixjzO78islP3E6nZYCaP6+7NmzB7fffjv+/e9/48KFC7SXVl2CNjfZYQfDMDZAS4UUQAcCAdEKrBHOGkoyUoVcr/dQo+smC4wUOFulQVBLEhmL2rHX4fLEiRPo0KFDRNDx+/2c9lFNhbSkpASnTp3C2rVrkZKSgoyMDFnSBzHfZNoA3aJFC8yfP18UnPk6Z34FffXq1VixYgV++ukn2Z/3H1UXzR+sw79gJb9lKf0/GQGuRtKhxj6ORuWXL+kg8hOn02n41EW5KdyXQ4cOoV+/fkhISECdOnWQnZ1Ne3nVHLS5yQ47GIaxAVoqKisrQ4CvoKCAm3ZnhrOGkpSqkOu1bVLVVKPrFuqzrdwgqCUjwYXaPHXqFNq1axcW5rSep4sXL3Ijq9955x1FICv0TTYLoF944QUMHz5c9G/NmzfHggULQmCfr3PmA/+KFSuwevVqXL58WfY5+6PqoiN9nyL5g7Osel20Uqs7mpVfUpknMK23x7XaFI5Q37lzJ0aOHAkA2L59O+rWrYs9e/ZIrn1Tp07Fww8/jDp16uDuu+9GTEwM8vLywq6X7du3R82aNVG7dm3UqlULtWvXxqpVq3Rdk/lBm5vssINhGBugpUIKoPmNL0Y7a6gB6EBAv6bF8vJyrqpJoFDNdvj67JuhQVBLyhk+ojTPnj2LNm3aGHKe8vPzsWvXLiQnJ2PlypVhpRjhMpwu2iiAHjRoEF5++WVJgF64cCEH+EKdM/+5y5cvx/r165GXl6fq8ya6aLFR2DdTKvk+8aUdYtIlvi5aKVgqsbqjXfkl/z5qbYbUG6D55zwjIwOTJ0/m1ra8vLywlnavvfYaTpw4gYqKChQXF2PQoEGIjo4Ou1526NABb7zxhm7rb6SgzU122MEwjA3QUsEHaL6zhtvtthQ481MvgCbyFCKbYFnpBkG5AE327WZpENSSejebnTt3Dq1atRKFF7Xnyev14vDhw1i8eDGWLFkiqxlQDkTzddF8gO7Zs6fuAB0TE4MRI0aI/s3hcGDhwoWiOmd+LlmyBGlpadz3U20SXfTNdsFHvk98aFXyfSIAKSZdIq4dXq/XMKs7YbWVRhYXF3Pey1aoQpOhR+S/ly9fjjlz5qheC0+ePIkaNWrA7/dLPqdDhw6YMWOG6vdQGrS5yQ47GIaxAVoqqqqqQpw1SJMLbVCWSiIx0bINveUp5eXlKCkpkRzKwF/ArdggqAdUFRUVadrOhQsX8Nhjj4XoUtXAOcuy+Pbbb7Fq1SqkpKQgMzNTd7DdsmULB63Z2dmmA3R2djaio6Px1ltvheic+blo0SJkZGTA5XLp8nkToDPLH1yP5IOq2os9ItEiTdRi58UoqzsrQCsBaFK9V+sooue+8N//7bffxvLly1WvhQsWLECDBg3CPqdDhw7429/+hr/85S9o2rQppk6ditLSUtXvGSloc5MddjAMYwO0VFy7di3EWcPj8cDv91MHZakkWkw1rw0Egge/6AHOgcDvDYJizgU3S4OgltSjufDixYto1qwZnE4nd2GjdFulpaW4cOECNm7ciKSkJLz77ru6Ay0/iS46IyPDMIAeOHBgCECT93344Ycxf/58UUlKdnY2UlJSsGXLFm7oj17J10Vb+UKQZdkgONX6uyNWd+FGgBthdWcF7TEfWrU4iuiRZFIq/72nTJmCjIwMVevg/v37UatWLezbty/s844ePQqfzwcAOH36NBwOBwYOHKjqPeUEbW6yww6GYWyAloqqqiqwbLB0gej5aIOyVJLqrZLXlJWVBTUIapWnhGsQ5MOkcMLXHw2chfAQrkIXCXS+++47PPLII6rlAXl5eXj//feRnJyM1atXq9Y5K83s7GxkZGTg/vvvNwygR40axYEzX+f873//G6mpqaJgn5ycjOzsbHi9XkM+b74UyWq6aP6+qfUHD7ftcBZ/5EJajS5aCkyFcgUaKYRWtY4ieu4L/7Fx48Zh586ditfAXbt2oV69evjggw8Uv/bw4cP405/+hGvXril+rZygzU122MEwjA3QUlFdXR0Ch16vF0VFRdRBWSpJ041c0NV78IucBkFSrSEL+B8ZnIVwoaS5kD8I5cKFC3A4HLJex0+Px4NPP/0UqampWLZsmS46ZzUQXb9+fXTr1k3ST1pt9u/fH6NGjeJ01xkZGZzO+ZFHHgkB6KysLCQlJWHHjh2GeXbz00q6aClbOiMyksWfXlZ35N8S2gBNPmfhvip1FNFrXwoKCoIeGzRoED7//HNF619mZibq1auH/fv3q1o/CUCXl5eren2koM1NdtjBMIwN0FIhBtBFRUXwer3UQVkq5UhMjBj8onSCoNvtvilucxsBMeR2tFRlkq8HJ4NQrl69CofDIRv6iouLcfz4caxYsQKpqanYtGmT6eDMzwceeABPPvmkpAuGWjDv168fhg0bJqpzfvjhh7F48eIQeN61a5epVWGWpa+LpmEHGUnKwrLare7I/9LSG4eDVpJKHEX0SPJvB/+xp59+GqdPn5a99i1btgy33347cnNzZT3f5XJhz549CAQCAICzZ8+iRYsW6Nevn6q1V07Q5iY77GAYxgbocCEERXL7kTYoqwVosqgRnaJeOmc1EwT/U8ciBwLik+zE9ODk+QUFBXA4HJwHt1SWlpbi3LlzePfdd5GUlIQNGzZQBWc+QPfo0QNbt25Feno6MjIyNEE00Tn36dMHI0aMEN3WQw89xAH0li1bsHDhQuzevZvKBVtJSYnu1oZy35emHWSkC0Y9rO6sUIEWg1Z+ynUU0WtfyPeMZLt27XD58mXZ615UVBTn6cz3dSZAfeXKFdSqVYv778uXL+Oxxx5DvXr1ULt2bTRs2NBuIrTjPyMM+4b/AeL69etBwOj3++HxeKiDslRKabQDgUCQ2b/eDYJaJggaPQbbqsm/zc2vEIppRz0eDxwOR1i3iEuXLmHbtm1ITk7G2rVrqUOzGEDz4Vdq6EokcCY658zMTPTr1w9jxowRfe6DDz6IJUuWYPPmzVi4cCEOHDhA1RZRzt0HPd+L/K6sYAdJdLmRrO6U2tGRYzQDTJVCqzDFphcakV6vlytUkIyOjgbLsrSXU12DNjfZYQfDMDZAhwshQBNbJdqgLJVCjTbfv9rr9RraICiEQyW3jImW0QpaUTOTQDQBHalj93q9cDgcol7FLpcL+/btQ2pqKpYvX64YSs0G6Jyc8ENXxJLvL83XOT/33HMYO3asJEAnJydj4cKFOHToEHWIFMKkUd91PWzpjEiWZWVZ3SnxiybnMpLVndEpBq2RoJ9cOOu9L4WFhUH7UlxcjEaNGqGyspL2cqpr0OYmO+xgGMYG6HAhBGiWZeFyuaiDslQSjTZpECT/UAcC+gxXCQSMmyBIFtibyUNXbfKrkS6Xi/PdZlnx2/t+vx8OhyNoUp7P58OxY8ewdOlSpKamBg0usVoKAZokf+iKlN3cli1buIq1ELbDAXTjxo0xZcoUHDlyxHLfJyO+6yzLct8jPWzpjPre62l1x9ceh7O6sxJAE/A3StLh8Xi43gk+QFdXV9NeTnUN2txkhx0Mw9gAHS5u3LgRBJHEjow2KIcDaFL5pdUgqOWWMb/xyCoVQ70BQmwQihytqMPhwKVLl1BSUoKzZ89i/fr1SEpKwsaNG6kDcqT8xz/+IQrQOTm/Nfelp6dzQ1fI40TqkZ6eLgnYzz33HMaNGxfy+MaNG9GgQQPs2LGD+mce7rughy7aSFs6o46bVGG1Wt0Jm/doeTAXFhYGQaucJHcz9Z6k6PF44PF4gmC9cePGNkDbYYcRQfuHYOUQAnRpaSkKCgqog7JYlpSUcHIA2g2CWhdYUqXSY3tWSTmylnC39x0OB44dO8a5Saxfv546GOsB0HxYJlVmvs45XLNh3759QwB6w4YNSElJQXR0NL7//nvqn3uk77paXbSZtnRG/R7kWN2Fk3SINe/R8GAWVn2VQLTelXO3243CwkLuv/Pz8/Hvf/+b9lKqe9DmJjvsYBjGBuhwUVFREQSVgUAA+fn5muFUz+QDJxk3bgY4GzlBkF+lstogCqWpVNbCsqwoWLRt2xYzZ87EihUrTBuEoidAP/nkk2GfQyB6w4YNshsMn332WYwfP57777S0NKSmpuLMmTNo1aoVzp07R/3zl5NKddF8SLyZp3dGuuPEsuGt7qSa98z2YBZWfZWmnpVzl8sVBNDnz59Hu3btaC+lugdtbrLDDoZhbIAOF0KALisrswxAl5WVBS0SZWVlmpoc+Q2CLMvq1iBoJlhYKbXIWghY8Buuvv32W6Smpt5UlWc5AM3XORMpB9FFKwHo9evXY/HixTh//jwCgQBatmzJ/f+bIVk2si6ati2dkb8TcjEgdsxSVnderzes+4VZHsxut1sTQBPo16Ny7nK5gi4avvrqK/Tq1Yv2Uqp70OYmO+xgGMYG6HAhBOjy8nLk5+drdrPQWiHmj94OBH5vECT/gBpRdaa1eLOseEXWqqmXrEWs4erixYtYuXIlli9fTh2K9QDorVu3IiMjI0TnLKWLFmafPn0wfvx4rF27FkuXLsWPP/7Inb/HHntXncXPAAAgAElEQVQMFy5coP59UPqZi+mi+VIPK9jSGZHhpjbyddF8vbCc5j0zPJiFsgktEM0viqiBfqfTGXSO9u3bh8GDB9NeSnUP2txkhx0Mw9gAHS4qKytDYJNYidEAZ7/fHzTVTPgcpU2OZjYIakmxiqwVU29ZC1/KQnyy8/PzsXHjRqSmplrSsk4KoLt37x4EzpF0znL8onv37o2XXnoJK1aswE8//RR07lq0aIGLFy9S/06o+cwJLPt8Psva0hmR/Cq82O+caIaJpENo2RYOTI30YBZWfbUmkXSoqZwLmxLfe+89vPLK/2PvzcOjqNL2/9NxAMUEAgYRUFBBkhCCNERkGZEIsrgBrzoIKMKLvPoVcVxQwBFUUJSQQNhkooNA2EIQAaMiICNx2ASRXYNASIDsSSe9JIQsff/+8Hd6Kp3q7uruqjpV3edzXc+ldDrpqtPdde5z6nnuZyrrqVR2WOsmDocQwgW0O8QEdEFBgSzuFt6IXDqx0J0pVykkUoscWRUI+issWHRzkzrxC71o5d4pd05lKSsrw44dO5CQkKBp+zpnAU39nGk3Qk8LgPT0dMcOtdhzhw0bhkmTJiEnJ6fRmPXu3VuXApqGsNNeoKRrSAn6PXdVRCxM6fC2eE+4iy9nSkdhYaHsuda+7pw7p4CsWrUK77zzDuupVHZY6yYOhxDCBbQ7xAQ0FZNqiGfhZFJRUeEx97qy8s8dSn+Fs5IFgv5Ormp1c5MSVqtVNQsx4e4cbWSTmZmJxMREzbTsdiegH374YceO8qZNmyT/bnp6OjZs2IA1a9Y0+r0lS5bg3//+t+h49erVq9GutB7C+Y6Pux3ZQA3nXXjnn9OUDtqYxZfdXTmt7pzTJuQK4c65FIFOG1IJBfeiRYuQkJDAeiqVHda6icMhhHAB7Y76+vpGIpTeVlNSOFdWVjomUZPJJDnn2lWRoxYLBP0Jmi9pMpmYTfDCAiW1dsTFXAtOnjyJ5ORkzbXvprF582bcfffdGDx4sEs/ZymxadMmrFmzBhs2bHD8jdTUVKxcubJRaoPNZoPRaMSlS5eYf1a9+UwJb93Tz5SnHdlADpqy5twC3Gq1Ou74FBcXe9W9kApNOa3u5PZydg6p3QupgBY+5/3330dKSgrrqVR2WOsmDocQwgW0O8QEdElJCSoqKhQRzlVVVS4LBH0V0NeuXXPsWGqtQNCfoD6yzpOrkkF35wsKCpjlpApdC+jrZ2dnIyUlBcuWLdOMxZ0wz7lz584YOnSoLH8zNTUV69atc5xnYmJio2JB2nhGLwLabDajsLDQpS2dpx3ZQA5h/YPFYmlUTEkfk9q9UCg25bK6U8NzWkpKB031EgroN954A+np6aynUtlhrZs4HEIIF9DusNvtjUQqtVOSUzhLKRCU+neoS4heCgT9nVzVav+ttd155+LCwsJCbNy4EYmJiY1aXqsZYnnOXbp0aVBE6K+IXrdunaO4cOnSpdi5c2ejz4XRaERubi7zz6inz683C1cqkNRcNGohbDYbioqKkJ+fL9oG3NsW4M67u74W7NFwTptQKqhNqatiSPr5ED72wgsvYNeuXaynUtlhrZs4HEIIF9DuEBPQZWVlMJlMsglni8XSIJfPX49pegHVU4Ggv5MrLS5UYgGg5d1551348vJyfPvtt0hISMD69etVF8/Uz5nmOdNd4i5dusiyAy0U6evXr8fatWuxdu1aLF26tEE6j9lshtFoxJUrV5i/R64+s77a0gmvF3pb8PoSFovFkcLirlDXldWdXLu77kStWgKahqtiSOfW5haLBU8//TQOHz7MeiqVHda6icMhhHAB7Q4xAW0ymVBWVua3eKZ5fHRHRa7W21RQiU2uWi4Q9FeQOKc1yPE39eC9SwWVsLjwwIEDSExMxOrVq1URznRXmDZAcU4jkVtA09i4cSPWrFmDTz75BKdPn3aMSXl5uSYFtFwpQIHa7t75HIVtrun3jy4aXd11cra680YI+2J1J5Z3rEaIFUOKtTYfNmwYsrKyWE+lssNaN3E4hBAuoD3hLFTpLoevQreystJxoS4vL5dFOAsLBOkE49x4RGspCEqEc1qDrxO38+TE+rykHLOzxd+ZM2ewZMkSrFy5UjHhTHeCqZ+zK1s6pQT0li1/Nl1ZtGgR0tLSHJ9pk8kEo9GIvLw85u8NDYvFIuv3T8wjPBBCuMhwdXeMbj64srS0Wq0+iWh3u7vudq9ZCGh6rRd+psRam/fr1w+FhYWsp1HZYa2bOBxCCBfQnrh+/XoDwVpRUYGSkhKvhW5VVZXj4kxbb/srnF0VCNLcYDoBaTUFQYnwp/23sJhLb4sMsZbIOTk5WLVqFZKTk2UtLvTWz7lLly54+OGHFRPyGzZswCeffILs7GyHeDIajSgoKNDM+6JU7rIrpwo9hjeLDKlWd2ItwH3Z3fUkoNUWz0IRTT9f1KFH+POYmBhUV1eznkZlh7Vu4nAIIVxAe8JZQNNCDm+ELr0gl5SUoLLS/y6GUltvFxQUOKyetJqCoNRE7E37b4tF2UYoaobQ4o/uTKenp2PhwoWyFBempaWJ5jm7i3vuuUdRAb1lyxYkJSXh4MGDKCgoQEFBAYxGIwoLC5m9D8I6A6WtDoULZj1+z/1ZZLgrrLRaraioqEBZWZliVndieccsgn7vaRobPYeuXbuivr6e9TQqO6x1E4dDCOEC2hPOAprukkgRuXRHk05saghn5wJBmiuph1QEuUWFp/bfzhO3HsWHWDgXF1ZUVGDXrl1YsGAB1q1b55NA9ZTnzFpAf/bZZ9iwYQNMJhMuXLiAnj17oqioiNn4q11nIMyL1st33TldytdFhsXivrDSYpHH6k5sN1os75hV0Joa+t2nAtput7OeRmWHtW7icAghXEB7oqampoGIpbs97oSusOGFnAWCvnYQpLmSWujep/YELVZspebuIKtw3pW02Wz4+eefkZiYiFWrVkkWplLznD0J6CFDhigqoDdv3oxFixbh6tWryMvLQ48ePXD58mVV7yYIHVtY3MnQU1403YiQMyfc3QJCKas7sbxjVkFbm+fl5aFbt25YsWIFoqKiuIDmcJSC9RdB6zgLaJvNhoKCAlGhK7yIy10g6Eo4V1ZKKxCktzr1nqLgy8QqzJUMRBcSd+fu3MXu3LlzWL58OVasWOFRONM8Z+q57Ku47dq1q+ICesuWP9M4fv75Z0cKx6VLl1RJa9CaYwuLJkNSw2q1NtjVlfP4hAsId1Z3ZWVlXudFu7K6Kysr04yALi4uRmlpKSwWC9LT0xEeHg6j0Yhr166xnkZlh7Vu4nAIIVxAe6K2traBqK2srGzU7U/NAkHnCcGbAkGLxbvc4EAKOrEGSzElDaG4o3cgrly5gtWrV2PRokWiwtiXPGctCOhVq1Zh9erVyMvLg9FoRGlpqaJ2b86OEVpKnZCSwqT251Ctuz6unIiEP5fL6q6srMyRfsI6ioqKHALaYrFgz549CA8PR69evZCdnc16KpUV1rqJwyGEcAHtCWcBLWyXfe3aNYcwU7NA0J8Ogmp279NCCBcZdDc2GBcQzncgSktLsXXrVixcuBAbN250pEH4muesBQGdnp6OpKQknDx5Ekaj0XE3xnkBIUdQwaJlxxat5EU754Sr8ZrCNDoxsS6X1R1Nm2AtnunnUdiWfP/+/Rg5ciReeeUVhIeH4+uvv2Y9ncoGa93E4RBCuID2hLOApu2yafELdbhQu0DQn10cpbv3aSGEwkk4VsLcYC2KHiXD+Q6E2WzG3r17kZCQgH/9619+5TlrQUBv2bIFycnJ+Prrr2E0GhuINX/sDYUhTEHQYoqE2PfAXVqDksG6i6dwo0FMuMthdScsgGQdhYWFDZrAfPPNN5g0aRIAYNOmTQgLC8PevXtF57kPPvgAnTt3RsuWLdGmTRsMHz4cJ06ccDs3lpeXY9y4cWjZsiVatWqFZ599FhUVFbLPwWKw1k0cDiGEC2hP1NXVNRC5FosF+fn5jp0N1gWC/k4urHenlJg0PTVCEWs8EiwhvLVvsfxZBJWZmYmPP/4Yn332mSKiVk0BvXbtWiQmJsJoNDZ676nI8OXui94LTz2lNcgZQtGuhZxwavEmJuL9tbqjVqHeCnAloqCgoIGA3rhxI15//XXHXJadne3S0u6PP/5wiN/a2lokJSWhbdu2bgsQH3nkETz88MOO7rxDhgzByJEj5Z2AXcBaN3E4hBAuoD1BBbSwICs/P9/vXWc5CwTlmOgCwaHDm7EK1AWE1Pe9qKjIkRNeUVGB8+fP49NPP8Xy5ct1LaC3bNmCDz74AN27d3fZzt7bxROLFAQlQo28aOFYael7JVw8yWl1R9NE3FndqRXOQv6f//wn3n//fa/nvOrqaixevBghISEoLS0VfU5ubi4MBgNOnz7teOzkyZMwGAy4cuWKz/OtVFjrJg6HEMIFtCeuX7/uuA1oMplQVVXlSH2Qo0DQZrPJUiDoT+jdocOfsaK7U1q3/VJirKiIpqIwPz8f69atQ1JSkqxpHGoL6I8++gj33HOPy8+Bp1v7wrEKlAY7wnNXIi9aD2Ml5krjfA7eWt1R5wthSh+rtt7080wfW7BgAZKTkyXPdd9++y3Cw8NhMBhwww03YPr06S6fu2PHDtx0002NHm/WrBkyMjJ8mmu9gbVu4nAIIVxAe6K6uhqlpaWorPxvgSC9/a21AkF/QsvWV+4mRDnsw/R47nKNlXNucFlZGXbs2IGEhARHcaGeBPT69evx4Ycf4tVXX/U4Js5dG+X+XGk15MyL1ttYefLK9jYvWli458rqTk0BLRTv//jHP7B69Wqv57zy8nIkJyfjyy+/dPmcdevW4bbbbmv0eNu2bbFhwwavX9NbWOsmDocQwgW0J+rr6xsJYbrLoMUCQX9CLw4dzt0W5Rgr4S1eLZ+7L2PlKSfcYrE4Pnf0zkhmZiYWLlyINWvWyCKgBw8erKhwTktLw5IlS5CcnIz9+/fDZDJJft9pbjAVT1q0pVMi/MmL1rKFnxznTvOiPe1GOztfiFndqRF0ISwU0K+88gq++uorn+Y9u92Oli1b4tSpU6I/5zvQHA7hAtoTdru9kSAuKSlBRUWFZgsE/QmtO3QoOVZC6ystnru34U1OuNi5nzx5EsnJyUhJSfFL3EZGRioqoP/5z38iMTERGRkZyMvL8+l9p3msdGcykBZRUj7z3uRF09QFLVv4yXHuFovnvGhn5wsawl15NVI6qIAWPjZhwgT8+OOPPs17tbW1aN68ObZu3Sr689zcXISEhDTIgT5x4gRCQkJ4DjQneFD8k65zxAQ0vb3nSTizLBD0J1y1wGYZdNJWOsdSK965/oSvOeFi556dnY2UlBQsXbrUZ19opQT0mjVrsHDhQqSmpuL8+fM+jxVNmSosLNT1++7PZ15KQa0wXaO0tDQgFpnCc3dldUfzosVSOpydL5xFrXCHXkkBTe+cCB8bNWoUjh07JmmeW7JkCYqKigAAxcXFmDJlClq1aoXCwkKXv/PYY49h2LBhjoZFQ4YMwahRo2SZdz3BWjdxOIQQLqA9ISagy8rKYDKZdFEg6M/EogWHDmffXTUmba2cuy/H7W8+qliOaGFhITZu3IjExESkpaX5JKAfeugh2YTzxo0bkZSUhBUrVuCXX37xSfAKz1OYMiXMDWb9fqod7nLChaktWllUK3HunqzunMUy3fxwJWydN0mUEtA0pU342EMPPSS5A+Fjjz2G2267DaGhoWjfvj1GjhzZQHxfvnwZoaGh2L9/v+Ox8vJyjB8/Hi1btkR4eDiee+45mM1m2edgMVjrJg6HEMIFtBSchTL1vdRLgaA/IXToUPN1XQkcFueu1UWOcKzkzt2l504LK8vLy/Htt98iISEB69ev90rwRkVFySKgN2/ejOXLl2PRokXYu3evo/unt+HJli4YikrdjY0wN9hi0X7HRbmCCmJXdRA0NUPoFy3FA9psNjuu+0pZ3ZlMJoc1I43evXvDZDKxnj4VgbVu4nAIIVxAS+H69esNxHJ5eTlKSkp0VSAox6SqhqBwzglnfTudTqpabf+tZBqQxdKwsNJqteLAgQNITEzE6tWrVRXQn3/+ORYuXIgvv/wSubm5Pp2PN1Zrwo6Veljoyhk0N5h63gfTQoJ+Rty1ABemdDhbx0lJs1DC6q6srKxBR0Sz2YzIyEjU1taynj4VgbVu4nAIIVxAS8FZQJvNZhQXFzsuqHopEPR3YlHapUKrOeFqNKDw5ZjUSAMSKyo9c+YMlixZgpUrV0oW0PHx8T4J59TUVCxcuBCrVq3Cb7/95tN5+praosVaAKWD3m3Iz893CGg9pTHJNQb08+LO6o5+/7wRw0pZ3ZWWljYS0F27dnXbSVDPsNZNHA4hhAtoKQgF9LVr1xzFIRaLRXcFgv5OLEq4VOglJ1wLYoqF765YkVlOTg5WrVqF5ORkj8WFvgjoTZs2YfHixVi6dCkOHz7sk4iTI3fXk29wIIXwmkUX+67yooMhnNOYhD+ji2r6c29bgMttdVdSUuK4uyncgeYCmsNRENZfBD1QU1PToEDQYrG4FJJ6EIP+hJxCUo9NGOjxqr0rp0Ses7fh3LWxuLgY6enpWLhwodviQm8EdHp6Oj799FMkJibiu+++Q2FhoU/HSr+jci1g9ZIP70t4umb54xet93BO5REuqKidqS8twGneslxWdyUlJSgpKWnw7+7du7OeOhWDtW7icAghXEBLQXgxFbprCIWkHgsEfQ1/haQWxKA/IdyVU+P1tHQ3wzkfvqKiArt27UJCQgLWrVvnUkAPGjTIo3j+4osvsHDhQmzYsAEXL1706fiUXMA654Sz/hz6G86Fuu6uWUKf8GBJZxGOE73WFxQUNKrN8GR15ymlg14H/UnpoC3F6b8vXLiA/v37s546FYO1buJwCCFcQHuiqqoKvXv3xsGDBxtNmkLRzNItglX4IiSpA4IWxKA/oUZhpVbvZjjnw9tsNvz8889ITEzEqlWrvBbQ69evR1JSElauXIkTJ074bb/nSQz6E8KccD1/1z05kbg6d3eeyYEawuJTT1Z3paWlXqdl0Joaf6zuioqKGgjoY8eOYcSIEaynT8VgrZs4HEIIF9BSOH78OKKjo5GRkdHggkl3ZGixTaDnSIqFVCFJd0m0Jgb9nViV2JHUQ2qLmJA8d+4cli9fjhUrVkgS0GlpaVi6dCkWL16MzMxMlJWV+XQszoVZapw7q1Qef0O4KPM1r9mdZ3IghXO6htVq9ZjOYrF47l7oSkQL/e69Telwbin+73//G2PHjmU9dSoGa93E4RBCuICWSk5ODoxGI1JSUvDDDz+gT58+eOWVVxy7qEK/5ECeVMTC3a1t4S59oHQvcz4/uVqf6y21RUxIXrlyBWvWrMGiRYuwefNmlwI6JSUFiYmJ2L59O65everz506N7pSuQk9CUu5FmcXi3jNZ7yHcoXf+HnpKZxGmdHibluGr1Z1zS/Ht27fjxRdfZD1tKgZr3cThEEK4gPaG48ePo127drjpppvw5ptvoqCgQHRSCSbfVOdJxbnYRq/e196E1FbI7oLuIukxtcXZqaG0tBRbt27FwoULsXHjRkRHRzsE9Nq1a7Fw4UKsWbMG586d89uWjvWijH7ntVxgp5SvuifPZD2G1B164caAqxbg5eXlPudFe2t159xSfO3atZgxYwbrKVMxWOsmDocQwgW0FEwmE6ZPn46bbroJEyZMwFNPPYVJkya5vHAGUqGRN0F3Y4XFNnr2vvY2fLE702qes7fhfGvbbDZj7969SEhIQGRkJAYOHIhFixZh2bJlOHr0qM/tt7XYUlq4I6mlOyzeNI7xNTwJSb2EWLqGlN/z5M5CXTqE3QulpnR4Y3Xn3BFx6dKlmD9/PuupUzFY6yYOhxDCBbQndu7cidatW2PIkCE4ceIEAKC+vh4zZszAsGHDRG22qF+ylhpvqBH0ViItttHzhOprSLU7E+6iKln0pmaI3YU4duwYunTpgj59+mD37t2OBkTehpacSFy9n/7ehZDzWNTOoddTOotz+FJQKQxhCpvYWPuaF22xSLO6M5vNjToizps3DytWrGA8eyoHa93E4RBCuID2RHZ2Nnbu3NnIkN5ut2P58uWIi4sTtdzSSuMNNUK4i0rTV5w9g4MpPOWEU+sqLbQqlzvEPvc5OTnIycnx+7OlB3HGsvGI8LPFIofe3edeiyHnZ0t4901s3P21uqNe1GICnApoocB+6623sHHjRkazpvKw1k0cDiGEC2h/sNvt2L59O2JiYnDs2DHRi2pZWZkmdqWUCOddVOeFAr2w60H4yB1i7b/1nOfs6+fC17sQatnSKREsGo/QgkrWny095EUr9dly7lopZnVH86LltLqjd72EAvqll17CN998w3qKVAzWuonDIYRwAS0Hhw4dQlRUFHbv3i16YaUX1UBJafDGLUIPRVZKjhPdjaW5qMFUYOpr9z6lit7UDLEFlBLh7HKjhc+Wlm3+/E3XkPoa7q55ZrNZVqs7+j0TPnfs2LE4cOAA66lRMVjrJg6HEMIFtFycP38esbGxSE1NdVlMomb3OiUnIG93UdUSE1oLoZAIhPfel/BmASXcRQ0EO0jhAkruhYBWCyqFoaX252qnAnkqLJXT6o7+W/icRx99FGfOnGE9LSoGa93E4RBCuICWk+LiYgwYMADz5893ufOgV5s7fycgKia0fGtXrqC5qMJd1GD2Cfe0gApkr3Dn2/py/E09pQKxzot2ttNU87PlqXOjv1Z3VKDT1xD+/K9//SuuXr3KekpUDNa6icMhhHABLTdVVVUYPXo0Xn75ZVGhqDebOzkr+gM9J7yy0r244eksDXdj9bCLKlfQBZQ/i2er1epYaGhhV9eb955FXjS9W6ZWh0pX4c6hhLYA99fqzllA9+jRAzabjfV0qBisdROHQwjhAloJ6urqMG3aNIwaNQqlpaWiE6HWUxqUFDeB6NAhFDfuRBJdQGn5vVcqhLuxZWVljoVGsHiF+7obGwhNidTMi9aic4un995i8d3qjtZXUKs7s9mMrl27or6+nvVUqBisdROHQwjhAlop7HY7Fi5ciP79+yM3N1d0QtFqtbpzJywlJiAt5Uf6E84V/VLeSy2/90oHXTzm5+cH7SLCm/dejaI3NUPJ771w0a9F5xZP772vedGlpaWOnfakpCRkZWWha9eujaxXAwnWuonDIYRwAa0kdrsdaWlpiI2NxenTp0UvqFppvlBZWdlgN0ONXF09pzQ45zl7K26EO3JaeO/VGC9hUwg6dnpJZZJ7LDztxmpxF1WuEO7GyiVyhcXNWl5oCN97sTtwvuRFl5SUoLi4GOXl5XjyySfRtm1bPPjgg1xAczhKw/qLEAzs27cPUVFRyMzMFL2osra5c04/UHPnRg/pLM4hp1tEIKazCEOsoNL5vddaC2y1Qmw31teW0noLYeMRf+7C6DUvnDa8cZXu5Y3VXUlJCUpKShzFhfPmzcNf/vIXJCcnB6yIZq2bOBxCCBfQanH27FnExMQgPT1dMzZ3vqQfKDmZaj2lQWqes7ehZ3cWdyFloaG1uzAsxoimHASC/7U34Wk31tPvCtM1tHzdcBWe6iGsVqskEV1cXIzS0lLHv3/77TcYjUZ06NABY8aMgdVqZT39yQ5r3cThEEK4gFaT/Px89OnTB0uWLGFqc+duV5DlZKpVIaXGQoO13ZcS76U3dzTktnrTU1ARraVmKGqGtw4lQqcbLadrSAlPXuFSUjqKiooaCOjDhw9j5MiRKCoqQnx8PKKjo3Hu3DnW05+ssNZNHA4hhAtotbFYLBg+fDimT58uKiyokFIqL9iXRihqhtaElD95zr5MpnQnXo+37v11bgnUnXh340V3YIuLixVruqKHoNc9d6lcek3XkPI5oKlcYndqPFndFRUVoayszPHv77//HhMmTAAA1NbWYs6cObh48aLofPTBBx+gc+fOaNmyJdq0aYPhw4fjxIkTbuewBx98EE2bNkVYWBhCQ0MRFhaGlStXyj5XuoO1buJwCCFcQLOgpqYGkydPxpgxY0RTNpTIC9ZTUZIWHDrkzHP2djLV6k68u3Au4vJ1vAJpJ97de+zqDpA7IRXo4SovOhDSNaQEXUB6a3VXWFgIk8nk+Hd6ejqmTZsmaS76448/UFFRAeBPsZ2UlIS2bdu6zZ0eNGgQ5syZI8tc6CusdROHQwjhApoV9fX1mDt3LuLj45GXl+dyMvF3N1LORihqBiuHDpYFlcL3TGs78e7GS+6FmV5y4n0JKQszKqT06E4jx3svzIt2TtcI9PEQFtZKtbqjnyUqoD///HO8++67Xs9J1dXVWLx4MUJCQlBaWuryeYMGDcLs2bP9mf78hrVu4nAIIVxAi3H16lWMHz8et9xyC8LCwtC9e3ecPn1a9tex2+1YvXo1jEYjsrKyRCcTYZtWbyci4e10Pe1mCicLeltX6YlTi80qtLAT7268lFyY6XUnXsp4SVmY6dGdRs6gn/1gzAv3ZHPonBctXGxYLBYkJSUhMTFR8jz07bffIjw8HAaDATfccAOmT5/u9vmDBg1CREQEWrdujejoaMycOVP1roesdROHQwjhAtoZk8mEO++8E2+99RbKy8sBABcuXEBJSYlir7lr1y5ER0fj8OHDohdTb23uaPMFreY5ezuZKJ0XrGaes7ehNa9stQtQhSkNrM/d1/HyNS/cU4FZIIbzeAVr187KSs/FlRUVFY67ZcId6Pfeew+ff/651/NQeXk5kpOT8eWXX7p93qFDhxxz46lTp2A0GvHMM8/4NPf5CmvdxOEQQriAdubdd9/Ffffdp/rrHj9+HNHR0cjIyBC9mErxCxY2QtHirqU/k6oSu5FqN47xNbSyGylMP1BzYabX4kJh+oGv46WndB45x4umawTjIsJ5TFwtIujP6AKbpnS89tpr2LJli0/zkJc7oTIAACAASURBVN1uR8uWLXHq1CnJv5OZmYkmTZqgurrap9f0Bda6icMhhHAB7Uzfvn0xZswYjB49Gq1bt0ZUVBTmzZuH+vp6xV87JycHvXr1QkpKitvcSGdx7IttmB5DroYzehwvoZBQO73EebxYiFhPnrlaCiXGS6+LCG/HS2zhH0yLCFfjI1xEOI+XxWJx5EWXl5fjf//3f7Fnzx6f5qDa2lo0b94cW7dulfw7VEBfu3bNp9f0Bda6icMhhASPgJ44cSIMBgNCQkJgMBgaRXx8PACgS5cuuOGGG7Bx40bU1dXh5MmTuOOOO5CQkKDKcZpMJsTHx2POnDkube7ojgMtKNFS3q7SIWw4462Q0GKes7fH76kFtNyvpyX3A60XFyo9XnpaRCgxXoG8iJAyVvS7n5+f3ygdSGh19z//8z/4+eefJc03S5YsQVFREQCguLgYU6ZMQatWrVBYWCj6/KKiInz//feorKwEAJw5cwZxcXF46qmn5JkAJcJaN3E4hJDgEdCVlZUOH02xsFgsAIBevXqhb9++DX73448/bvSYklRXV2PcuHGYNGmSqFASNl4Ilup0sfP3ZiKleeE0z1nP46WG1ZlWx0vtRYQ346WGW4RcLbBZh6/uGoG2iPB2vKiAFquJsNls2L59O8LDw3Hw4EFJc81jjz2G2267DaGhoWjfvj1GjhyJY8eOOX5++fJlhIaGYv/+/QCA3Nxc9OnTB+Hh4QgLC8M999zDiwg5wYuqn3od8MILL6Bfv34NHlNbQAN/2tzNmDEDw4YNQ2FhoeMieenSJUfeLhU4wTSROE+knvyC9ZLn7G0otRunF79wrfglsxgvrS4ipB67v81Qgikv2tm9xWazwWq14vLlyxg7dixOnTqFyspKXLhwAU8++SSGDh0acF0HxWCtmzgcQggX0M4cO3YMzZo1w+bNm1FfX48zZ86gU6dOWLx4serHYrfbsXz5csTFxeHw4cN49tlnER4ejkuXLjkKbHy1uQuEcOfQocc8Z29D6iJC6ljqzS+cpV+yc3t3FuOlZZtDsfHyp0ulu/EP1LzoiooKl+NVXl6O//u//0N4eDhef/11REVFIS0tTZVaHS3AWjdxOIQQLqDF+OabbxAbG4vQ0FB06dJFtfxnMSorK/Hss8+iWbNmGDZsGE6cONFoItHrbpQc4byIkHui1nr4mxdMben06hfOwqHEOb2F5fnroXOjHG4k7t6LQMuLtlqtHu+a2Ww27Nu3D8OGDUPTpk0xY8aMoBHPABfQHI3A+ovAEcdut2PTpk3o2LEjevfujU8//RRRUVHYvXu36EVXis1doIZwN6qgoEBzebtqnL8vNn9KChu1z18NhxJhugbr1BHn49JicaVa7i1asXmUY7zodczdXaCrV69i8uTJ6NevH3755RecPHkSXbp0wYgRI1BWVsZ66lIF1rqJwyGEcAGtRaqrq9G/f3+0b98ea9eudewsnD9/HrGxsUhNTXVpc6eXW7pyT6B0x4aeP+tjYhFSF1FasKWTO5S8EyNV2LA+f7qIYr0rzuIukN7zooV3NVwdv9VqxWeffYbIyEisWLECdXV1jjmjoqICTzzxBO68805cunSJ0cylHqx1E4dDCOECWqts3bpVtLK5uLgYAwYMwPz580WFj9Y61yk9aVIhSIVNIN7S9XYi9uSnqxVbOiVC7rxgNbsuyhGsiytZ3tUQLnS0dIfAXUi9q/HLL7/gwQcfxLPPPuvSYq6+vh6rV69GTU2N0tMTc1jrJg6HEMIFtB6pqqrC6NGj8fLLL4uKIDmLy7QYnna4Av38PYVYXqxWbemUOn9/F5FS8lC1GiyKK7V0V4Nlcak34yX0wHZ1V6O4uBjTp0/Hvffeix9//BF2u5319KMJWOsmDocQwgW0Xqmrq8O0adMwcuRIlJSUiF6gXTlU6DmoEPTkH2uz2VBUVBRw5y81aF4oFdJ6FIJynL+3ebF6dCOR8/y9Da0W7Wo5L9rZA9vVuKanp6Nbt26YP38+rl+/znrK0RSsdROHQwjhAlrP2O12JCYmon///sjNzRW9CLNq/6zEhEiFoNTb84F0/t6GcEcwmB1apObF6t2NxN/z9yW0XoSqtbxoqR7Yv//+Ox5//HE8/vjjyM7OZj3NaBLWuonDIYRwAa137HY70tLSEBsbi9OnT4tetOmOmhYmEV8mHX92BIPN5s9ZCFZUVDjyQoPh/MXGw5NfMG22o1UhqPT5+/I3nZt7sD5Pd8E6L1zqLn15eTk+/PBDdOvWDVu3buXpGm5grZs4HEIIF9CBwr59+xAVFYXMzEy3k4hebO7kvjUsnERZn5tS4W5HUE9NN5QIsfPXUt6u0iFHca3z4kxPd3VY5UVLWZzZbDbs3r0bPXv2xFtvvQWr1cp6OtE8rHUTh0MI4QI6kDh79ixiYmKQnp4ueqHWi4gym82K3BoOVIcOq9UqSQgGk0OLq/OnOeHUjURvQtDfz0lhYaFPecGBsEsvrAtQOi9a6i59Tk4OnnvuOTzwwAM4deoU6ylEN7DWTRwOIYQL6EAjPz8fffr0wZIlS9za3GlRRAotnZQS+Xro3ObNJO2tLZ2Wi6vUCGrzp4eFpFKfGW/qAvSWriHlfHxpOuRNUOtDd7n0FosFy5cvR2RkJFatWhVUXQTlgLVu4nAIIVxAByIWiwXDhw/H9OnTRUWS1mze1HY+CAQR6U87aX/bf+sxnHfptVRcpnYIv2+uUrr0nK4hJZTIi5bi6Wyz2XDo0CH0798fkydPRmlpKevpQpew1k0cDiGEC+hApaamBpMnT8aYMWNE836pzRtLEemc56ymmNGrQ4dc/sTBUlzp7LcrfK/lLq7TW7hK6QqEdA0pIVdetNROlYWFhZg2bRp69+6N/fv38yJBP2CtmzgcQggX0IFMfX095s6di/j4eOTl5Yle+FmJSKXynL2d+PQiIpXapQ/k4krhZ8yVZ3ig5sVLDWFKk9VqDah0DSnhb1601Bbc69evR1RUFJKSkoKiU6DSsNZNHA4hhAvoQMdut2P16tUwGo3IyspqdHGnwkyt29lq5Dl7G1p2KFFjlz7QRKS3nzGtpTSxGK/CwkLk5+cHVVoPDWFetNSFtNTP2KlTpzBs2DA89dRTuHz5MuvpIGBgrZs4HEIIF9DBwq5duxAdHY1Dhw6JXuiVFpFa7/BGRaRWRH1lpbqNKgJBRApvpbtrj+zqd4MtL7yy8r/pGnTM9HA3RqmQkhcttQV3WVkZZs+eje7du+Pbb7/l6Royw1o3cTiEEC6gg4njx48jOjoaGRkZohd9mhMpZ2ENyzxnb4PezmZt8yYseFNT0Ou5/buUW+lSzp+Oe6CLSGd3Dfp+s246wjrcWT06t+B2VST4zTffIDY2Fv/4xz9QWVnJ+rIfkLDWTRwOIYQL6GAjJycHvXr1QkpKiuI5oVrIc/Y2WDp0OO+gstgJVcPmS+73y5PzgbcR6CLSU8vyYPcLF+ZFWywWyQ13Ll68iL/97W8YPHgwfv/9d9aX+oCGtW7icAghXEBrkeTkZBgMBsyePVuRv28ymRAfH485c+YoYnOnxTxnb4JFcaU/tnRKhNYdKpROCQq0vPDKyv86uEhZ0KrZdESLIRTN+fn5bq38zGYzkpKSEBkZiQ0bNnBPZxVgrZs4HEIIF9BaIysrC3fffTfuvfdexQQ0AFRXV2PcuHGYNGmSqGDzZSdW63nO3k6g9FyU3ImVy5ZOidBq50raqMKfdA2p742vnfu0FK7SNaT8np7uRsj93tPvpavvgM1mw08//YT77rsPU6dORXl5uWLXa384ePAgHnroIYSFhSE8PBwDBgxgfUh+w1o3cTiEEC6gtUR9fT3uv/9+7NixA4MGDVJUQNPXmzFjBoYNG4bCwkLRCbSkpMRjYZWe8py9DaWKK/Wy2NDS7XyhP7Faiw2aF643v3AaUrrieQp6NyIQrQ7F3m/nxYbFYkFOTg5ef/11FBQUoLKyEnl5efi///s/3H///Thy5IhmiwQPHjyI8PBwrF+/HtXV1aivr8eRI0dYH5bfsNZNHA4hhAtoLTFv3jw8++yzAKCKgAb+tLlbvnw54uLicPHiRdEJxd0ulJpOEayCtn+WYyfWebGhB1HGunOjrzuoSry+FtJrpL5nci42AjGlRewcXd3ZuHLlCh588EHcc889jnSNZcuWoba2VvFrtD888MADmD59OuvDkB3WuonDIYRwAa00EydOhMFgQEhICAwGQ6OIj48H8KdDRqdOnRy3AdUS0MCfInr79u2IiYnBsWPHRCcXugtFBYTe85y9DTl2YvW82GCRF661xYYSLjVKjJlSdzYCJaVF7LykFKIePXoUQ4YMQdOmTbFmzRpVrs3+UFVVhRtuuAFvv/02+vTpg1tuuQVxcXHYunUr60PzG9a6icMhhHABrTSVlX96groKi8WC2tpa9OjRA9u2bXP8npoCmnLo0CFERUVh9+7dbgVEUVGR5lMPlJpofdmJDZTFhpo7sVpdbGgppcU51MgNZ9m9VIlzkdKCu6SkBG+//TZ69OiBH374AWlpaQgNDcX777+v6YLBq1evwmAw4LbbbsOxY8dQX1+Pr776Ck2bNsXhw4dZH55fsNZNHA4hhAtoLZCTk4OQkBC0adMGERERiIiIQJMmTdC8eXN0795d1WM5f/48YmNjkZqa2kAg2Gw2h4CmNmtaExBqTbpSG27409hDy6HkTqxUyzCWwTqlRex41CxEFX6uterS4imkuN7YbDZs3boVMTExmDt3Lqqrqx3XyVOnTqFz5854/PHHYTabVb1GS8VsNsNgMGDWrFkNHh82bBhmzpzJ6KjkgbVu4nAIIVxAawG73Y68vLwG0a9fP7z22msoLCxU/XiKi4sxYMAAzJ8/HzabDf/5z3/w1FNPIScnB+Xl5Y6GI8Esoj25E6jlFMFSgMi5E6u1dA0px8t6J5Z1ISpdSGl1oeNqzKQ0KTp37hxGjRqFESNG4MKFC6LXSZPJhDfeeAPXrl1T+QotnS5dunABzeEoBesvAkec+Ph41VM4hFRVVWHEiBF48MEHceONN+LVV19FcXGxY4LR2i4cixDbhRO2RtZyrqwcIVdOrLDhjqsOb1oM4U6s2sWFWlmg6WUx7dyC29Wip6KiAvPnz0d0dDTS09M1naIhhSVLlqBdu3Y4ceIE7HY7duzYgZtuuglHjx5lfWh+wVo3cTiEEC6gOY2prq7GggULEBYWhujoaDz99NMoKSkRnZT02vpZrhB6JQtTD4JlPLxJaXGOQMkNV9MvW4u+4f58BtQIqS24f/jhBxiNRrzxxhuwWCysL8Oy8cknn+COO+5AixYt0Lt3b2RkZLA+JL9hrZs4HEIIF9Cc/2K327Ft2zZ07twZ9957L/7973/DbrcjMTER/fv3R25urujEE6zNFuj509vowTwG3nwG6M4t3Q0MhMUGLS5UaieWdbqGN8enFas/Z/tDV+/L5cuXMXHiRAwYMMCxU8vRNqx1E4dDCOECmvNfrl+/jv79++Ozzz5DXV2d43G73Y60tDTExsbi9OnTopMQq1vZLEOYemAymRzpDFrYFWQRUprOaK1luZyhVPtrd/7EWgutdK+sqKjwmE9vtVqxcuVKREZGNrrmcbQNa93E4RBCuIDmNMTd7ktmZiaioqKQmZnpdvIM9I5lrlIPeEqL64YbgZKu4SmExYX+il2p/sRaC5ZWf8IGMq7sD202G44cOYK//vWvmDhxIoqLi1W8wnLkgLVu4nAIIVxAc7zj7NmziImJQXp6uujkRAVUIIokKbZ0wZ7SUlnZsLDMarVK8toNpPDX5k2qP7GWQ6ndeHdjJiXFpaioCK+99hqMRiMyMzN5uoZOYa2bOBxCCBfQHO/Jz89Hnz59sGTJElGRrOVmE76Gt64HwZjSIgzq0BHMueG+2LzpKV3DU6i1mJQyZjabDZs2bUJ0dDQSEhJQU1PD+jLK8QPWuonDIYRwAc3xDYvFguHDh2P69Omiuz1Cmzs9i2hqS0fznL05Fz20flYihE4RNEdc72LQ15Bq86bXdA0pQXPj5T4vqWN25swZjBgxAqNHj0ZOTg7rSydHBljrJg6HEMIFNMd3ampqMHnyZIwZM0Y071nPOcHOHfF8Pf5A3I13N2bOt9FZeiVrJdx9DwIhXUNKyNl4R2qHT5PJhPfffx/dunXDjh07eLpGAMFaN3E4hBAuoDn+UV9fj7lz5yI+Ph55eXmikx29jatFj1ix45W7Ix5NZ9B6swl/xkzoeiC226wVdwaWY+SczhBI6RpSQo7mS9TT2VML7p07d6JHjx6YOXMmbDYb68skR2ZY6yYOhxDCBTTHf+x2O1avXg2j0YisrCzRCU0Pu5BKdsTT8268J0HjyfVA+Nxg2Y13FTSdoaioKCDTNTyFry4lUltwZ2dnY+zYsRg0aBDOnj3L+tLIUQjWuonDIYRwAc2Rj127diE6OhqHDh1yKx58cSZQMtSyWAskhw7nFBepYxbMLeCFC0mashFM4llsHDxdC6TeEbJYLEhOTkZkZCTWrl2r+xbcHPew1k0cDiGEC2iOvBw/fhzR0dHIyMgQnejMZrNmbuWzyD/Vy268v4LG09+gu5B6SOuRI5zTNQI9rUdK0LQfVwswYQtud57O+/fvx/3334+XXnoJZWVlrC+BHBVgrZs4HEIIF9Ac+cnJyYHRaERKSoombe5ozi7L/FM9OnRIETTevAdaa/2sRLhzihCm9QTLQsI5nD3DnT8b7u5u5Ofn4//9v/+H++67D4cOHeJFgkEEa93E4RBCuIDmKIPJZEJ8fDxmz57t0uaOxQ6cP7Z0coerrn1aC6vVKin/1JcQWpyxPk85Q+rdjWBZSHgaK7qQMJlMklpwr1mzBlFRUViyZAlqa2tZX+44KsNaN3E4hBAuoDnKUV1djfHjx2PSpEmi4kDNwjq5bOnkDi3fyhemaxQXFyu2S6qXhYQ35+Pt3Q2lvJL1EvSulKfc8BMnTmDw4MF45plnkJeXx/oS55JRo0bBYDBg7969rA8lIGGtmzgcQggX0Bxlqa+vx8yZMzFs2DAUFhY2mhCVzodVwpZOiWPUmkOHko4kYqHlhYQ35+BPMxQ5vZL1Es479fT/s7KyGnxXS0tLMWvWLHTv3h3ff/+9ptM11q5di2HDhiEkJIQLaIVgrZs4HEIIF9Ac5bHb7VixYgXi4uJw8eJF0UmU3saWMx9ZbRHor5DQQmGdWo4krsZAawsJqcctpbGH1PEPFpcSVzv1FosFDz30EB555BHk5+djx44d6N69O9577z1cu3aN9eXMLVeuXEGnTp1w5coVvgOtIKx1E4dDCOECmqMOdrsd27dvR0xMDI4dOyY6ocplc8dSBPoTLB065BSB/h6Hnqz+hCJQrvdMK4sppULKTn1OTg4GDBiAO+64A3/961/xxx9/sL6ESWLo0KH417/+BQBcQCsIa93E4RBCuIAOZlJTUzFgwAC0bt0aERERiI+Px4EDBxR9zUOHDiEqKgq7d+92KUh8Fb5iraRZiwVfQujQocbrKSEC/Q2pPsGsQulFWiAWFzrn1Lv6flZUVGDBggWIjo7Go48+ilatWmHPnj2KXpfkYMWKFRg6dKjj31xAKwdr3cThEEK4gA5mPv30U+zevRs2mw11dXVITk5GWFiY4sU558+fR2xsLFJTU2WxudOCLZ3coUZhnb85u0qHFtt/q71Tr8Ux8CWEFojuWnD/+OOP6N27N1599VVUVFQAAFavXo3mzZtj0aJFms19vnjxItq1a4fLly87HuMCWjlY6yYOhxDCBTSnIeHh4di+fbvir1NcXIwBAwZg/vz5osJAalGZN62k9RZKFdbpaade6BPM+r1ltVPP2jfdn5DagvvKlSuYPHky+vXrh2PHjjUSyocPH0a7du2wbt06xa9NvrBmzRo0a9YMbdq0QUREBCIiImAwGBAeHo4XX3yR9eEFHKx1E4dDCOECmvNfDh8+jCZNmuDSpUuqvF5VVRVGjx6Nl19+WTTX02azoaioSLSozNdW0noLd2PgS+hxp551YZ0WcupZj4G3Qe8KSfF0TklJQWRkJFauXIm6ujqX14uCggLU1NSocm3ylmvXriEvL69BGAwGpKeno7y8nPXhBRysdROHQwjhAjoQmThxIgwGA0JCQmAwGBpFfHx8o9+5fPky7rzzTsyZM0fVY62rq8O0adMwcuRIlJSUiE7EwoIqtbyJtRRyFJVpqYEMqzHw5TVpYw+WhZViY6DlxY/Uu0JHjx7FwIED8dxzz6GoqEjV644acBs75WCtmzgcQggX0IFIZWUlysrKXIbFYmnw/PPnz+Ouu+7CzJkzmRyv3W5HYmIi+vfvj9zcXFHhQFMOCgoKHLfQ9SYC/RVPvhSVObdFZi0CWYyBL0EtELVUWEnHQKsFllJbcBcXF+PNN99Ez5498eOPP2o2r5mjXVjrJg6HEMIFdLBz8uRJtGvXDh999BHT47Db7UhLS0NsbCxOnTrVYMIV3kLXonBQM6S2vpZ6C12PIXQpkXsRpYV0DW/GQCvHSFODioqKXO6O22w2bN68GdHR0Zg/fz6uX7/O9JrD0S+sdROHQwjhAjqYOXDgAFq3bo0lS5awPhQHmZmZiIqKQmZmJkpKSjBr1iy89tprjmI3JcWTXsKTQ4fQ8SDQCiuF5yhnYZ1UizUthRYKLKU6ufz222947LHH8MQTTyA7O5v1ZYajc1jrJg6HEMIFdDATHx+PG264AWFhYQgNDUVoaCjCwsLw8ccfMz2uM2fO4M4778Ttt9+OHj16NPKMpuIpkIsHfRFPwVJYKRRvdNfTH8Hr3LGS9Xl5OwZyFplKDecW3K5eu7y8HPPmzUN0dDS++uornq7BkQXWuonDIYRwAc3RFqdOncJDDz2EiIgI9O3bF4sXL/bL5i6QQyieaLFboKVrSBFytP23t+dttVolWaxpPdTu3uiqBbfzMe3atQs9e/bEW2+9BavVyvrSwgkgWOsmDocQwgU0RxuUlZXhlVdewY033og333wTFRUVsFgsGD58OKZPny66w0Ut3vRi7aWUmCkoKAjqtBZh8ZoUARmoTi5KFxdKzQ+/dOkSnn32WQwcOBCnT59mfWnhBCCsdROHQwjhApqjDb7//nsMHz4cv//+e4PHa2pqMHnyZIwZM0a0cI6FvZkWQrh7Wlpa6vh/LdubKR20wNKdgHTuiBdoCw4lOlhKzQ+3WCxYtmwZIiMj8cUXX6C+vp7R1YQT6LDWTRwOIYQLaI72qa+vx9y5cxEfH4+8vDzRCb6srEzz/rhyiRmhN7Fw0SBFQAZ6uBKQUjviBULIWVwoZcFhs9lw8OBB9O3bFy+88AJKS0tZXzI4AQ5r3cThEEK4gOboA7vdjtWrV8NoNCIrK0t0sqe3sPVWCCY1pLSSNpvNQSESPYk+KiCtVmtApmt4Cn9yw+nvSylILSgowNSpU9G7d28cOHCAFwlyVIG1buJwCCFcQHP0xa5duxAdHY1Dhw6JTuhCmzvWIkau8NabWG6LNz0GzY+n3uGBmK4hZQy8LS70pgX3unXrEBUVhaSkJM222OYEJqx1E4dDCOECmqM/jh8/jujoaGRkZIhO7krkgbISQFKswlwJnGAtsBTunhYWFgZFao+7kNp8x2q1SmrBferUKQwdOhRPPfUULl++zPpywAlCWOsmDocQwgU0R5/k5OTAaDQiJSUlIG3uaGc3d1ZhnoIWWPp6G19vIeauoeXW12qGu0Wl0MXE3UKtrKwM7777LmJiYvDdd9/xdA0OM1jrJg6HEMIFNEe/mEwmxMfHY/bs2aKTvh53YekuoFy2dMFSYOmp2E1rra9ZhFjjGamezhkZGYiNjcW7776Lqqoq1l99TpDDWjdxOIQQLqA5+qa6uhrjx4/HxIkTRQvr/C2mUiuk7gL6GoHq0OGNuwbPDf/v94Hu0ntaqF28eBFPP/00Bg8ejKysLNZfdw4HABfQHI3A+ovA4fhLfX09Zs6ciWHDhqGwsNClyNLiLqxz0ZaSxxdIu7C+NkPR410JuceNLtTcLajMZjMSExMRFRWFDRs2aM7TeebMmYiNjUWLFi3Qvn17jB07FleuXGF9WByVYK2bOBxCCBfQnMDAbrdjxYoVuO+++3Dx4kVRUaA1mzuLxSKpaEvu19T7Lqy/zVCCtfmO2Wx2tH6vqKhw3JXYvXu3YzFhs9mQmZmJuLg4TJ06FeXl5ay/2qK88847+PXXX1FbWwuz2Yxx48ahZ8+erA+LoxKsdROHQwjhApoTONjtdmzfvh0xMTE4duyYqIjQgs2ds8eu2juhet2FlepNLPVv0Z1YrSyo1Bg357sPV69eRfv27TFmzBhcvHgRU6ZMQd++fXHkyBFdFQmeOHECISEhqKioYH0oHBVgrZs4HEIIF9CcPykqKmJ9CLJx6NAhREVFYffu3aKCgpXNnTDtwJ3HrlrHoofccKXHTWjxptcdeSnj5i7NJSsrC7Gxsbj11lsxf/581NXVsf4Ke82CBQtw1113sT4Mjkqw1k0cDiGEC+hgp76+HlarFX379sWWLVtYH45snD9/HrGxsUhNTRUVRrRbnVqpDMK0A7XSNaQILK3mhqs5boHiG+5q3NyluRw7dgyDBg3C2LFjMXr0aNxxxx349ddfWX99vWLPnj0IDQ3F7t27WR8KRyVY6yYOhxDCBTQHuH79Opo3b4433niD9aHISnFxMQYMGID58+e79IpWOpVBzrQDpUKLPslqj5vefcOF40ZTU9yNW0lJCd566y306NEDe/fuhd1uh91ux/z58xEaGoovv/yS9ddXEhkZGQgPD8eOHTtYHwpHRVjrJg6HEMIFNAf4/fffERYWhqSkJNaHIjtVVVUYPXo0Xn75ZdFb2MJUBjlFtK8uEaxCKw4dLNNc9JTW4uo99DRuNpsNW7ZsQbdu3TBv3jxUV1c3+s5sd6Q2bwAAIABJREFU374drVu31nyXwfXr1yM8PBx79uxhfSgclWGtmzgcQggX0Bxg27ZtCAkJwcGDBwEAtbW1DX6uNQsrb6mrq8O0adMwcuRIlJSUiIoKmsogh3Cibge+ukSwCtYOHVpIc9FDWotzSG3BnZWVhZEjR+KRRx7BhQsX3H5nzGazSt9O31i2bBlatWqF/fv3sz4UDgNY6yYOhxDCBXQwQ6vs//nPf8JgMODUqVMNfp6Tk4Pr1683eK4/zJkzB+3bt0doaCgefPBBnDlzxu+/KRW73Y7ExET0798fubm5osLJX5s7q9WKkpISTezk+iPGaLc6tY5fi2kuemg8I/zMumu+U1FRgfnz5yMqKgpbtmzRlbuGKwwGA5o2bYqwsDCEhYUhNDQUYWFhXFAHCax1E4dDCOECOlgR7io///zzuPfee1FRUYG8vDysXLkS48aNQ9u2bdG5c2eYTCa/Xy8hIQEdO3bE2bNnUV1djVmzZqFDhw6orKz0+29LxW63Iy0tDbGxsTh16pRswkkoZIqLi3VlDefqfJRIaxF7Ha24kogFLS7U4mJIagvuPXv2wGg04s0334TFYlHtu8bhKAlr3cThEEK4gA42nHefjhw5ghEjRiAiIgI9e/ZE69at0axZM3Ts2BFTp07FypUrUVhY6Pfr3nXXXVi2bJnj33V1dbj11luxfv16v/+2t2RmZiIqKgr79u3zWzgJhUwg+QkrncqghXQNqceppeJC4V0Od9Z7ubm5mDBhAgYMGICTJ08GxK4zh0NhrZs4HEIIF9DBRllZGU6fPo05c+bggQcewF133QWDwQCDwYBHHnkEr732Gn7++WdZO5CZzWYYDAYcPny4weNDhw7Fm2++KdvreMPZs2cRExODzZs3u7S5c5cPLFXI6D3k7t4o1SVCS0HdWpTekfc0blLuclgsFnz66aeIjIzE559/rvv6BQ5HDNa6icMhhHABHQxYrVakpKRgxowZuOuuu9CkSROEh4dj4MCBmDp1KgwGAxITExv9nlyT75UrV2AwGJCVldXg8TFjxmDKlCmyvIYv5Ofno0+fPkhOTvZoc0d/LhSA7vJOAymE3Rt9Fbw2m02SS4RWg2X7b2dPZ1fH9/PPP2PAgAGYNGkSiouLmX2vOBylYa2bOBxCCBfQwcD58+dx0003oVWrVhg3bhySk5Nx6dIl1NbWIiMjA82bN8cPP/wA4E/RLPftXi3uQFMsFgtGjBiB6dOni4phYT6wyWTymHcaqEF35H3ZNbZYLJJcIrQechSaevt6rlpwC6OwsBB///vfYTQa8dNPP/F0DU7Aw1o3cTiEEC6gg4XCwkKcO3eu0eNLly5FSEgIsrOzvf6b3rT8FcuBbtOmDZMcaGdqamowefJkjBkzBiaTqZFAoTnReko7UCK8bTaix3QNKaG0Z7bU4kqr1YoNGzYgKioKCQkJqKmpYf1V4nBUgbVu4nAIIVxABwPOqRh2ux11dXWor6/H888/j7vvvhtWq1WyIHZ+3tGjRz3+zsKFC9GpUyecOXMGVVVVmDlzJm6//XZUVqrnwuGO+vp6zJ07F/Hx8cjLy0NlZSWKi4uxbds2R7oG3Q0MpGJBX8SdJ4cOvadrSAmlPLOl7tafPn0aw4cPx+jRo5Gbm8v668PhqApr3cThEEK4gA52+vXrh6FDh3r9e/n5+fjggw/QrVs33H333Y3SM8R47733cNttt+Hmm29W3QdaCna7HatXr0bPnj2xbNkytG/fHv37929gaacHf2Clw13jmUBJ15AScraCl7pbbzKZMGfOHHTr1g1ff/01T9fgBCWsdROHQwjhAjpYsdvtKCkpQUREBN544w0A7osG6c/y8vKwatUqtGvXDkajEX//+99RUlISMB6zZ8+eRc+ePREaGop58+aJ7p6azWZdN0uRI5zzgQM1XUPKOPjb/ruiosLRvMZdC+7vvvsOsbGxeOedd2Cz2Vh/VTgcZrDWTRwOIYQL6GAmNzcXBoMBK1eudPs8mrJx4cIFjBo1CjfeeCOeeeYZnDt3rsEOmMlkwvbt2xU9ZqUwm8144403cOONN+L111/HTz/9hOjoaGRkZIgKGtZtr7USdEc+Pz8/YNM1PIVw8eBNeg9twe3J4SQ7OxvPPPMM4uPj8dtvv7H+qnA4zGGtmzgcQggX0MHOpk2b3Ire2tpaAEBxcTFiYmLQoUMHzJ49u9Hzrl+/jpSUFBgMBseOtl44f/482rZti4ceeqhBWklOTg6MRiNSUlJc2txpqcmG2kHTNaiA5ouJcocYdvc8qS24zWYzFi9ejMjISKSmpnJPZw7n/4e1buJwCCFcQAcrUiZjuvNcX1+PXr16ISIiAkuXLnX8/Pr1647/T0tLQ4cOHRAXF4eKigr5D1hB6uvr8d1334nmk5pMJsTHx2P27Nkebe6CwROanrMwXcNqtQb9YkIoet3Z/Ultwf2f//wHffr0wUsvvQSTycTgW8HhaBfWuonDIYRwAc0RRygmJ02ahJtvvhkLFixw7EjT/wLAd999h8jISHTs2BGXL18GIF8TFi1QXV2N8ePHY+LEiaK36Fk22VA7hO4azgLQZrMx79inhRBbTEjtXJmXl4eXXnoJffr0weHDh3mRIIcjAmvdxOEQQriA5rhn69at6NChA5577jnHzrJQPO/fvx99+/ZFWFgYjh07BgABOenX19dj5syZGDp0KAoLCxsJH+GubCA2WaH5up7cNYJpMeEuhHcmysrKUFBQ4LYFt9VqxerVqxEZGYklS5Y0+I5xOJyGsNZNHA4hhAtojji0I+Hzzz+PiIgI/P777wAaekCfOHECjzzyCEJCQvDtt982+nmgCWm73Y4VK1YgLi4OFy9eFBVCgWZzJ5au4c3vBLNntrABT1lZmcvnHT9+HPHx8XjmmWeQl5fH+mPukjlz5qB9+/YIDQ1V1IaSLh4C6S4WR15Y6yYOhxDCBTTHNefOnUOzZs0cec9CcZyVlYVJkybBYDBgzZo1Lv+GN90K9YDdbsf27dvRrVs3HDt2TFQQKd2pTq0Q2qv5sqsutagu0MK5BTctGLx06VKD55WWlmLGjBmIjY3Frl27NL3gTEhIQMeOHXH27FlUV1dj1qxZ6NChAyor5W2E9Pnnn2PixInIz893PKblceGwgbVu4nAIIVxAcxpDJ6y5c+fCaDTiwoULABp6Qb/xxhto0aIF4uLisHPnTqxZswYff/wx3n33XcyaNQszZ85kdvxqcPjwYURFRWH37t2iIora3OnRE1mYruEuX1dKeCqqC6Rw14GxrKwMXbp0wfTp02E2m7Ft2zbExMTg/fffx7Vr11h/nD1y1113YdmyZY5/19XV4dZbb8X69etlfZ3PP/8c999/P2JiYrBixQpZ/zYncGCtmzgcQggX0BzXPProo3j66acbPFZeXo65c+ciJCQEPXr0QJMmTdC2bVtERESgY8eOiI6Oxr333ouoqCisXbvW8XuBeDv2/Pnz6NGjB1JTUwPC5k6YeuHOXs3bsFgsuhoHX8/RU474kSNH0LFjRxiNRgwZMgR//PEH64+wJMxmMwwGQ6Nuo0OHDsWbb74py2sIrw9VVVWYMGECWrVqhffeew9Wq1WW1+AEDqx1E4dDCOECmtMYu92O4uJidO7cGTt27HA8XlVVhRUrVuCmm27C+PHj8euvv6Jp06b48ssvUVNT4/Lv0R22QBTRxcXFGDBgAObPny8qmqgzhRztnpUMmq7hzl7Nn5Cz7bWWQmoHxoqKCnzyySfo1asXoqKi0KdPnwZpClrmypUrMBgMyMrKavD4mDFjMGXKFFlfi6Z8FRcXY8GCBTAYDJgxYwZKSkpkfR2OvmGtmzgcQggX0BzXZGVlOYoHASA9PR0GgwEDBgzAtWvXkJWVhaZNmyIjI8PxnLq6ugb+0AsWLEBcXByuXLmi6rGrSVVVFUaPHo2XX35Z1HlCy84UUrvhySU2tToOvoSURYfNZsPevXvRq1cv/P3vf4fZbEZ1dTWee+453HHHHThx4gTrj69H1NiBdsUrr7yCsLAwzJo1S9HX4egL1rqJwyGEcAHNkU5+fj4efvhhh1PA2bNn0axZM4cDh3Oxz1dffYWYmBi0bt0a//nPf2A2mx0/C7Td6Lq6OkybNg0jR45ESUmJy53KgoICTdjcKZWu4c3r6tWhQ6qn8+XLlzFp0iT069cPx44da/D9sNvt+OijjxAWFqYLES2WA92mTRu/c6DF7PrsdrtjrOrq6jBkyBC0a9cOX3/9tV+vxQkcWOsmDocQwgU0Rxpibhr5+fkICQnBhg0bADSc+Pbt24fIyEgYDAbcfvvteOSRRxATE4PU1FRVj1tN7HY7EhMT0b9/f+Tm5oqKKi3Y3CmdriEltDAO3obUFtxWqxUrV65E165dsXLlSrdOND/++KMuPJ8XLlyITp064cyZM6iqqsLMmTNx++23o7LSfxeOmpoaHDhwoFHHRTpumZmZ6NixIx5++GFUVVX5/Xoc/cNaN3E4hBAuoDm+U1xcjGbNmuGLL74A8N8J7+TJk+jbty+aNGmChIQE5OTkIDMzE6+88goMBgO+++47loetKHa7HWlpaYiNjcWpU6dcClg1UibEhJ1a6RpSgjp06MHuT0oL7srKShw9ehQPPPAAJkyYgKKiItYfR1l57733cNttt+Hmm2+WzQd606ZNaNu2Lf7yl7/g7rvvxsqVK0WfN23aNERERGDLli1+vyZH/7DWTRwOIYQLaI5v2O12XL16Fc2aNUNKSorj8dzcXAwbNgytWrVCUlJSg985fPgwmjVrhnnz5jV4PNC8ooE/d82ioqKwb98+UaGlps0dq3QNKUEdOkpKSjQpoq1WawNPZ1fHWFRUhNdffx09e/bEvn37uHexCM477X/88Qfi4uLw4osvYvbs2XjggQdgMBiwbds2xzWB/k5ubi5uvPFGTJ8+vUGNBSc4Ya2bOBxCCBfQHP+YO3cuZs+eDQCoqKjAmDFj0KJFiwY+0JWVf97mzc7OhsFgwPz585GdnY2cnBzHc/RwG9tbzp49i5iYGGzevJmZzZ3UnVPWIlVrDh02mw3l5eUeW3DbbDakpaUhOjoaH3/8MRd3Evj9999x/fp17Ny5E/fdd5/jOvDHH39g4MCBiI6OxsmTJx3Pp2L6+eefR7du3ZgcM0dbsNZNHA4hhAtojm8IiwBra2sdbb9vueUWTJ482fGz6upqx3MGDhwIg8GAwYMHo127dujXrx8GDRoEm82m+vGrRX5+Pvr06YPk5GSXIloJ8Si10E0roSWHDovFgqKiIhQUFKCiosLl2P3222949NFH8cQTT+DSpUusP2qaw263N7hOfPPNN7jnnnsQHh6Ozp07Y+DAgfj8888dP6+vr8e+fftw8803Y9q0aaioqHD8HQD48ssv0aJFC/z888/qnghHc7DWTRwOIYQLaI7vCG9T5+bmokOHDhg0aJBDNNP/AsCECRNw4403Yvz48TCZTMjNzcX333+PDh06YOjQoQ2eS7l8+TIKCgqUPxGFsVgsGDFiBKZPny4qkql4LCws9Fs8Si1002IIU01Y7JYLW3C7S62hzYS6deuGbdu28XQND1RVVeHixYu4//77MXbsWEydOhUPPvggDAYDpkyZ0mDXvrq6Gm+++SaaN2+OjIyMBmN74MAB3H333di7dy+L0+BoCNa6icMhhHABzZGPK1euOBoeCCfF6dOno3nz5pg0aRLKy8sdj1dXV2PUqFHo2LFjg0YJdNfq66+/RufOnWEymXwWKTNnzkRsbCxatGiB9u3bY+zYsUw8qWtqavDCCy9gzJgxMJlMLsWbPzZ3ekjXkBJqO3S4a8Ht/LydO3fi3nvvxdtvv8075IngbE+5ceNGdO3aFc888wzuv/9+R7pGdnY2evbsidjYWBw9erTB71y8eBFRUVEYPHhwgzQvALjtttvw2WefAWhsm8kJHljrJg6HEMIFNEcenFM6KElJSbj55psxcuRI5ObmAkCDroWDBw92mdf43HPP4ZFHHvHruN555x38+uuvqK2thdlsxrhx49CzZ0+//qav1NfXY968eYiPj0deXp6oSKO7x954JOstXUNKmM1mj4V7cgR1JnHXgruyshKXLl3CuHHjMHDgQJw+fZrJ50dL2Gw2HDx4EIB4EXBxcTEA4MiRIzAYDIiIiMCaNWsaPGf37t0wGAyYPn16g4W13W7Hhg0bYDAY8P777zsW42azGQMGDHDp1MEJHljrJg6HEMIFNEc5PvvsM7Ro0QKDBw/GqVOnAPw52dKdI9qqd/HixQAaivCCggLExcVh1qxZDfyl/eXEiRMICQlx5Feqjd1ux+rVq2E0GpGVlSUq1oQ2d552TvWariElqFOJEg4dUp1JLBYLlixZgsjISKxevTrgGgD5QllZGeLi4tCuXTvHnSM6LvX19Zg4cSLGjRvn8Gz+xz/+AYPBgKlTpzr+Bv0+T5o0CeHh4di+fXuD1zCZTHjyyScbNG8BwPOfOQC4gOZoBNZfBE7gMmPGDHTq1An79u0D8OekSXertmzZAoPBgKeffhrZ2dmO36ETa0pKCpo2bYpz587JekwLFizAXXfdJevf9IVdu3YhOjoahw4dcrkD687mLlDSNTyFEkWWUsbOZrPhwIED6Nu3L6ZMmYLS0lLWHxnmCJuYzJs3DxEREY1aeefn56NVq1YN/JrtdjvatWuH7t27O7ouUsF99epVtGnTBo8//niD6wDQ8E4VT9fgCGGtmzgcQggX0BxlEQpgOiEeOHAAISEh6N+/Pw4dOuT4OZ1Uz507h06dOmHcuHG4fv26bLt+e/bsQWhoKHbv3i3L3/OX48ePIzo6GhkZGS53P51t7gIxXcNT2Gw2FBcX+11kKXXsCgoK8PLLLyMuLg4HDhzg4g3A4sWL8cwzzzj+bTabMXToULRt2xY//fST4/GvvvoKzZs3d9QZ0O98eno6DAYD3n77bUdKBv1ep6SkwGAwYN68eQ1EMwBZ7z5xAgfWuonDIYRwAc1RBmfRS102srOz0bJlS0RHR+P77793/JzuTFssFrz66qto27YtNm7cKNvxZGRkIDw8HDt27JDtb8pBTk4OjEYjUlJSPNrcabUZiloi2tciS29acKempiIyMhKLFi0KSG9yX0lOTkbfvn0biNmMjAy0b98eQ4cOdTw2efJkGI1GAI293YcOHYpbbrkFX3/9dYPH6+rqcP/992PBggUKngEnkGCtmzgcQggX0Bz1sFqtaNGiBTp16oTNmzc7HqcTbW1tLVJSUtC8eXM89dRTsr3u+vXrER4ejj179sj2N+XEZDIhPj4es2fPFhV3NCdaTWcKrQYVwlLHwWw2o6ioCIWFhW4LM0+ePIkhQ4bgb3/7GxOXFq0zb9489O7dGxaLpUHR4NSpU9GiRQssX74cAGA0Gh1pHVRs0+fn5uYiJCQEo0aNwtWrVxv87Nq1a6qdC0f/sNZNHA4hhAtojnpcvHgR99xzj6NoEGhod7d27Vq0a9cO3bp1a3Sb11eWLVuGVq1aYf/+/X79HaWprq7G+PHjMXHiRIfQu3DhAr799luHG4W/NneBEnRB4c6hQ+jp7O55ZWVleOedd9C9e3fs3LmTpws4Qcfj0KFDMBgMjpQs+v38448/0LNnT0RFRWHv3r2IiopCWlpao79DUzPmzp0Lg8GADz/8UPS1eJEmRwqsdROHQwjhApqjDnRirKysdEymwskyMTERHTt2xO23347Lly83+rmvGAwGNG3aFGFhYQgLC0NoaCjCwsI0Kajr6+sxc+ZMPPzww5g7dy7CwsLwwgsvNNiV9sXmLhDDlUOHcwtud57OX3/9Nbp3747Zs2c3KJALRjx9106cOIG7774bs2fPdjxGxfWyZcvQtm1bdOjQAQaDAdHR0fjoo4/w008/iRZftmnTBrNnz+aLFY7PsNZNHA4hhAtojnrQCVNoeVVSUoIXXngB4eHhGDhwIM6fP9/gOcHGTz/9hPbt26Ndu3ZYt26d2x1YTzZ3gR7C/HCbzdagBbc7T+cLFy7gySefxJAhQ5CVlcX6LdcMhYWFLr93lZWV6NWrF4YNG9Yo/eL69esYOXIk2rZti8GDB+PFF19EWFgYDAYDWrZsiUcffRRLlizBV199BQDMLCQ5gQNr3cThEEK4gOaoT01NDWpqavDhhx/ivvvuQ+vWrfHJJ5/g0qVLAIJTPBcWFmLChAm4+eab8fHHH2PLli3o1q0bfvnlF1ER6MnmLliCOnQUFBR4bMFtNpuRkJCAyMhIbNy4URefs9TUVAwYMACtW7dGREQE4uPjceDAAdlfJyMjA02aNEFmZmajn1GhnJSUhKZNm2Lbtm2On9H6hb1796JLly544IEHHD/74Ycf8P777+Ovf/0rbrzxRkeetPNCmsPxFta6icMhhHABzVGfI0eOoGPHjrjnnnswZcoUR4dCIDj9Xn/44Qe0bNkSTz31VIOxOHz4MKKiorBr1y5RQahkoxG9BN2NLygocJkfbrPZsG/fPvTu3RuvvPJKg653WufTTz/F7t27YbPZUFdXh+TkZISFhSEvL0/W1/niiy9gMBjc+l2XlpaiU6dOeOKJJxy70MLv64wZMxAaGoq5c+c2+l2LxSLr8XKCG9a6icMhhHABzWHD999/j5qaGscOllg74GChuLgYu3btEv3Z+fPn0aNHD6Smpnq0uQsmES3WgttkMuHIkSNITU11PO/q1auYPHky+vbti6NHjwbEAk2sc58UhKlTziQkJKBVq1b4/fff3f6NTz/9FAaDAcnJyY68cVrTcPXqVTzwwANo3749jh8/3ui1hF1IORx/YK2bOBxCCBfQHLbw27ieKSkpwYABAzB//nxRkSxsNBLo/tCePJ137NiBm2++GbNnz0ZKSgoiIyOxfPnygFmgHT58GE2aNHGkO/mC8DtHxe+6desQEhLiaM3tCqvViscffxy33nprA7cNOr4pKSlo2bJlA5tKDkduWOsmDocQwgU0h6MHqqqqMHr0aLz88suizhLCRiP+dOvTckhtX56WloZbbrkFXbt21ayn88SJE2EwGBASEgKDwdAo4uPjG/3O5cuXceedd2LOnDk+vebVq1cRFxf3/7V3r7FRl20ex68pwUNNN7UcErImHF70NJQCwSKlmJZoQV1WJGkTgyYNMRhJakyKLJJtogEhKkY0EEMWtYQmQmPXA9EsKqvFiEhcCSCKKSVtse3Yc8vQdm1nfvuiT2cL9PQUOvdMn+8nmRCmh7ln+uY7/9xz3XrggQduGjW3a9cuxcfHq7a2dtSrxM3NzZozZ468Xm/oYKLBb1B8Pt+41geMletuAsyMgAaiRV9fnwoLC/X444+rqalpxKuzk2nM3ViP4G5sbNTmzZuVnp6uI0eOKD09XQ899FBETn24dq1/BvVwtxv3DFdWVmru3LnaunXruB+zublZb731lrxer+644w6tXr1ahw4dkiSVlJTonnvuCY2QHM5AKJ84cULZ2dmKi4vT119/HToIZeDrgUCA7RqYMK67CTAzAhqIJsFgULt371ZmZqZqamqGDMm2trZJcWrhwBuCgZnOw21P8fv9KisrU2pqqnbs2BE6Nr6zs1OPPvqovF6vqqurHf/lxu/s2bOaNWuWXn311dvy++rr6/Xhhx8qNTVVHo9Ha9asUVZWllJSUlRXVzfmbVU1NTXKy8vTvHnzVFhYGFUfzkR0c91NgJkR0EC0CQaDOnz4sNLS0nTu3LlhtzuMdgpfJN8Gz3Qe6Wr6b7/9pjVr1uixxx5TVVXVTa9Vb2+vNm3apPz8fAd/qVv3/fffKyEhQW+//fZt/90dHR364IMPlJOTI4/Ho6lTp+rSpUuSxv6h3kAgoJKSEs2cOVOvvfYaV50RFq67CTAzAhqIVhUVFUpOTta33347bIRG25i7sR7B3dbWph07diglJUUfffTRiOEWDAZDWwyiTU5OjqZMmRI6RXPgJM1du3bdtsfo7e3V66+/rri4OG3YsGHMPzf4SjVXnxFOrrsJMDMCGohmFy5ckNfr1ZEjR4Ydc+fz+SJ+zN3gI7j//PPPEY/g/vLLL7Vw4UIVFRUxX/gWDbzx6O3tVV5enhISEob8YCAQSVx3E2BmBDQQ7err65WRkaE9e/ZE5Zi7zs7Om2Y6D/V91dXVevrpp5WVlaWzZ8+6ftknjYEryRUVFZo7d66WLVsWmvHMmElEItfdBJgZAQ1MBp2dnXrkkUdUVFQ0ZCT7/X41NTVF1Jg7v9+vlpaWUY/g7uzs1N69e5WYmKgDBw4QdRNo27ZtSkhICJ0myJ5mRCLX3QSYGQENTBZ//fWXnnnmGeXn56u1tXXEYB1pjnI4bu3t7aGtJSNt1zh16pQyMzO1YcOGUQ/5wPgNvClpaGjQwoULFRsbq8uXLzteFTA0190EmBkBDUwmgUBA27dvV3Z2turq6oYMU5dj7gaO4B5tprPP51NhYaEWL16s7777jiuhYTAQ0eXl5frss88crwYYnutuAsyMgAYmm2AwqJKSEi1atEgXL14cMlDDPeZutCO4Bwd2aWmpkpOT9cYbb4SOmsbE400KooXrbgLMjIAGJqtjx44pJSVFP/zww7B7i8Mx5m6sR3CfP39eq1at0rp161RTU+P65QMQoVx3E2BmBDQwmZ05c0YpKSk6evTosFd8fT6fGhsbb3tEDz6Ce6Qr3S0tLSouLpbX69XRo0e5EgpgRK67CTAzAhqY7Kqrq7Vo0SLt378/LGPuBs90Hu0I7s8//1xpaWnatm2b/H6/65cKQBRw3U2AmRHQQDitXbtWHo9Hx48fD+vjtra2KicnR8XFxRM65m6sR3BXVVUpPz9fK1eu1K+//hrW1wJAdHPdTYCZEdBAuBw8eFCrVq1STExM2ANaknp6erR+/XoVFBQMGbe3MuZurEdwd3R06M0331RSUpIOHTrETGe0CDoFAAAHKUlEQVQAfzfX3QSYGQENhMOVK1c0e/ZsXblyxckV6AGBQEBbt25Vbm6ufD7fkJH794y58/v9am9vH9MR3CdOnND999+v5557Tq2trU6eP4Do57qbADMjoIFwyM3N1YEDByTJaUBL/ePK9u3bpyVLlqiqqmrI4G1vbx/1avJYj+Cuq6vTxo0blZGRoR9//JEPCQK4Ja67CTAzAhqYaPv27VNubm7o/64DWuqP6E8++USpqan66aefhg3khoaGm47ZHusR3FevXtV7772npKQkvfPOO+rt7XX6nAFMDq67CTAzAhqYSFVVVZo1a5Zqa2tD90VCQA84deqUkpOTdezYsWEjePCYu7HOdP7555+Vk5OjJ598UvX19a6fJoBJxHU3AWZGQAMTqaSkRHfeeadmzJih6dOna/r06fJ4PIqPj9ezzz7renmSpMrKSi1YsEAHDx4cdszdwGSN0Y7gbmpq0pYtW5SWlqavvvoqKrdr7NmzRx6PR8XFxa6XAmAIrrsJMDMCGphI3d3dqquru+7m8XhUVlamtrY218sLaWpq0vLly7Vz586btmsMHMHd0NAw7Jg7v9+v8vJypaam6pVXXlFPT4/rpzQuFy9e1Lx585Senk5AAxHKdTcBZkZAA+HmaozdaLq6urRu3Tpt2rRJnZ2dOn78uDIyMnT69Gl1dHSE9j5/8cUX1235+P3337V27VqtXr1alZWVrp/GuAUCAS1dulSffvqpsrOzCWggQrnuJsDMCGgA/6+vr08bN27U0qVLdffdd+ull15SS0vLdVeb9+7dq9jYWL3//vvauXOnkpOTVVZWFvUznbdv366nnnpKkghoIIK57ibAzAhoAP2CwaBKSko0Y8YMeb1ePfzww6qpqRlyu8bu3bt111136cEHH1R7e7vrpQ+roKBAHo9HMTEx8ng8N91ycnIkSWfOnNHs2bND22oIaCByue4mwMwIaADSL7/8ohUrVui+++5TeXm5AoGADh8+rLS0NJ07dy4Uz7W1tSooKFBmZqZKS0s1c+ZMPf/88+rr63P9FIZ07do1tbS0DHvr7OxUb2+vFixYoI8//jj0cwQ0ELlcdxNgZgQ08I+ur69PiYmJKioq0tWrV6/7WkVFhZKTk/XNN9/o3XffVWJiovbv3x8K5suXLyspKUlPPPGEurq6XCz/llVXVysmJua6SSlTp05VbGys5s+f73p5AG7gupsAMyOgAWjE+L1w4YLuvfde5eXlqbGx8aavNzc3KysrSy+//PJELnHCBIPBmyalLFu2TC+88IJ8Pp/r5QG4getuAsyMgAYwuubm5hFnOnd3d6u7uzuMK5pYOTk5bOEAIpTrbgLMjIAGAADRw3U3AWZGQAMAgOjhupsAMyOgAQBA9HDdTYCZEdAAACB6uO4mwMwIaAAAED1cdxNgZgQ0AACIHq67CTAzAhoAAEQP190EmBkBDQAAoofrbgLMjIAGAADRw3U3AWZGQAMAgOjhupsAMyOgAQBA9HDdTYCZEdAAACB6uO4mwMwIaAAAED1cdxNgZgQ08I/g5MmTWrlypeLi4hQfH6/ly5e7XhIAjIvrbgLMjIAGJruTJ08qPj5epaWl6unpUSAQ0OnTp10vCwDGxXU3AWZGQAOT3YoVK7R582bXy9Aff/yh9evXa9q0aYqLi9P8+fN1/vx518sCEGVcdxNgZgQ0MJl1dXVpypQp2rJlizIyMjRt2jQtWbJE5eXlYV1Ha2ur5syZoxdffFFtbW2SpEuXLqmpqSms6wAQ/Vx3EwBg8vtnMwuaWYOZLTazGDN7wsz+18yWhnEd283sdBgfDwAAABiXf7L+gN55w/3/ZWa7wriOH8zssJn9p5m1mNlvZvbv1h/0AAAAQESptIkL6A+sP9ADf/v3xtt/D1pDn5k9aWZTzGyBmdWa2Yu3YQ0AAADAbfW8mdWbWbqZeczsX82sy8yW3IbfHWtmCSPc4v72ff9j/VehB9s6xH0AAABARPg367/i22FmP5nZv4T58f/DzE7ecB8BDQAAAAxjsZn1mFm+9e979ppZtZm94HBNAAAAQER7zMzOmdlV698Tzf5nAAAAAAAAAAAAAAAAAAAAAAAAAAAAAAAAAAAAAAAAAAAAAAAAAAAAAAAAAAAAAAAAAAAAAAAAAAAAAAAAAAAAAAAAAAAAAAAAAAAAAAAAAAAAAAAAAAAAAAAAAAAAAAAAAAAAAAAAAAAAAAAAAAAAAAAAAAAAAAAAAAAAAAAAAAAAAAAAAAAAAAAAAAAAAAAAAAAAAAAAAAAAAAAAAAAAAAAAAAAAAAAAAAAAAAAAAAAAAAAAAAAAAAAAAAAAAAAAAAAAAAAAAAAAAAAAAAAAAAAAAAAAAAAAAAAAAAAAAAAAAAAAAAAAAAAAAAAAAAAAAAAAAAAAAAAAAAAAAAAAAAAAAAAAAAAAAAAAAAAAAAAAYCz+D3kwnu0sCQhHAAAAAElFTkSuQmCC\">"
      ],
      "text/plain": [
       "<IPython.core.display.HTML object>"
      ]
     },
     "metadata": {},
     "output_type": "display_data"
    }
   ],
   "source": [
    "% matplotlib notebook\n",
    "\n",
    "fig = plt.figure(figsize=(9,9))\n",
    "ax = fig.gca(projection='3d')\n",
    "\n",
    "ax.set_title('3D model',fontsize=title_font,loc='center')\n",
    "cover = Poly3DCollection(verts_c,facecolors='black', linewidths=1, alpha=.9,edgecolors='k')\n",
    "sides = Poly3DCollection(verts_s,facecolors='black', linewidths=1, alpha=.9,edgecolors='k')\n",
    "\n",
    "cover.set_alpha(.3)\n",
    "ax.add_collection3d(cover)\n",
    "sides.set_alpha(.8)\n",
    "ax.add_collection3d(sides)\n",
    "\n",
    "ax.set_xlabel('X (km)',fontsize=15)\n",
    "ax.set_xlim3d(x_min, x_max,100)\n",
    "ax.set_ylabel('Y (km)',fontsize=15)\n",
    "ax.set_ylim3d(y_min, y_max,100)\n",
    "ax.set_zlabel('Z (km)',fontsize=15)\n",
    "ax.set_zlim3d(1.2*z_bottom[0], 1e-3*100.)\n",
    "ax.set_xticks(np.linspace(x_min, x_max, 5), minor=True)\n",
    "ax.set_yticks(np.linspace(y_min, y_max, 5), minor=True)\n",
    "ax.set_zticks(np.linspace(1.2*z_bottom[0], 1e-3*100., 6), minor=True)\n",
    "ax.view_init(40,320)\n",
    "\n",
    "file_name = 'figs/3D_prism'\n",
    "plt.savefig(file_name+'.png',dpi=200)\n",
    "saved_files.append(file_name+'.png')\n",
    "\n",
    "plt.show()"
   ]
  },
  {
   "cell_type": "markdown",
   "metadata": {},
   "source": [
    "#### Saved files"
   ]
  },
  {
   "cell_type": "code",
   "execution_count": 43,
   "metadata": {},
   "outputs": [
    {
     "name": "stdout",
     "output_type": "stream",
     "text": [
      "1  data/model_poly_remanent.pickle\n",
      "2  data/model_poly_induced.pickle\n",
      "3  figs/prism_bound.png\n",
      "4  figs/prism_bound.eps\n",
      "5  figs/3D_prism.png\n"
     ]
    }
   ],
   "source": [
    "with open('reports/report_%s.md' % notebook_name[:st.index(notebook_name, '.')], 'w') as q:\n",
    "    q.write('# Saved files \\n')\n",
    "    now = datetime.datetime.utcnow().strftime('%d %B %Y %H:%M:%S UTC')\n",
    "    header = 'Generated by {name} on {date}'.format(date=now, name=notebook_name)\n",
    "    q.write('\\n\\n'+header+'\\n\\n')\n",
    "    for i, sf in enumerate(saved_files):\n",
    "        print '%d  %s' % (i+1,sf)\n",
    "        q.write('*  `%s` \\n' % (sf))"
   ]
  }
 ],
 "metadata": {
  "kernelspec": {
   "display_name": "Python 2",
   "language": "python",
   "name": "python2"
  },
  "language_info": {
   "codemirror_mode": {
    "name": "ipython",
    "version": 2
   },
   "file_extension": ".py",
   "mimetype": "text/x-python",
   "name": "python",
   "nbconvert_exporter": "python",
   "pygments_lexer": "ipython2",
   "version": "2.7.14"
  }
 },
 "nbformat": 4,
 "nbformat_minor": 2
}
