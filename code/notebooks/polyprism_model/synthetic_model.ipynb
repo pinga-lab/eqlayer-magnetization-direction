{
 "cells": [
  {
   "cell_type": "markdown",
   "metadata": {},
   "source": [
    "# Synthetic Model "
   ]
  },
  {
   "cell_type": "markdown",
   "metadata": {},
   "source": [
    "Notebook to generate a set of models."
   ]
  },
  {
   "cell_type": "markdown",
   "metadata": {},
   "source": [
    "#### Import libraries"
   ]
  },
  {
   "cell_type": "code",
   "execution_count": 1,
   "metadata": {},
   "outputs": [
    {
     "name": "stderr",
     "output_type": "stream",
     "text": [
      "/home/andre/anaconda2/lib/python2.7/site-packages/fatiando/vis/mpl.py:76: UserWarning: This module will be removed in v0.6. We recommend the use of matplotlib.pyplot module directly. Some of the fatiando specific functions will remain.\n",
      "  \"specific functions will remain.\")\n"
     ]
    }
   ],
   "source": [
    "from IPython.display import Markdown as md\n",
    "from IPython.display import display as dp\n",
    "import string as st\n",
    "import sys\n",
    "import numpy as np\n",
    "import matplotlib.pyplot as plt\n",
    "import cPickle as pickle\n",
    "import datetime\n",
    "\n",
    "from mpl_toolkits.mplot3d import Axes3D\n",
    "from mpl_toolkits.mplot3d.art3d import Poly3DCollection, Line3DCollection\n",
    "from fatiando.utils import ang2vec, vec2ang\n",
    "from fatiando.mesher import Sphere, Prism, PolygonalPrism\n",
    "from fatiando.gravmag import sphere, prism, polyprism"
   ]
  },
  {
   "cell_type": "code",
   "execution_count": 2,
   "metadata": {},
   "outputs": [],
   "source": [
    "notebook_name = 'synthetic_model.ipynb'"
   ]
  },
  {
   "cell_type": "markdown",
   "metadata": {},
   "source": [
    "#### Importing auxiliary functions"
   ]
  },
  {
   "cell_type": "code",
   "execution_count": 3,
   "metadata": {},
   "outputs": [],
   "source": [
    "dir_modules = '../../mypackage'\n",
    "sys.path.append(dir_modules)"
   ]
  },
  {
   "cell_type": "code",
   "execution_count": 4,
   "metadata": {},
   "outputs": [],
   "source": [
    "import auxiliary_functions as func"
   ]
  },
  {
   "cell_type": "markdown",
   "metadata": {},
   "source": [
    "#### Loading 2D grid properties"
   ]
  },
  {
   "cell_type": "code",
   "execution_count": 5,
   "metadata": {},
   "outputs": [],
   "source": [
    "with open('data/regular_grid.pickle') as f:\n",
    "        regular = pickle.load(f)"
   ]
  },
  {
   "cell_type": "code",
   "execution_count": 6,
   "metadata": {},
   "outputs": [],
   "source": [
    "with open('data/airborne_survey.pickle') as f:\n",
    "        airborne = pickle.load(f)"
   ]
  },
  {
   "cell_type": "markdown",
   "metadata": {},
   "source": [
    "#### List of saved files"
   ]
  },
  {
   "cell_type": "code",
   "execution_count": 7,
   "metadata": {},
   "outputs": [],
   "source": [
    "saved_files = []"
   ]
  },
  {
   "cell_type": "markdown",
   "metadata": {},
   "source": [
    "### Observation area"
   ]
  },
  {
   "cell_type": "code",
   "execution_count": 8,
   "metadata": {},
   "outputs": [
    {
     "name": "stdout",
     "output_type": "stream",
     "text": [
      "Area limits: \n",
      " x_max = 6000.0 m \n",
      " x_min = -6000.0 m \n",
      " y_max = 6000.0 m \n",
      " y_min = -6000.0 m\n"
     ]
    }
   ],
   "source": [
    "print 'Area limits: \\n x_max = %.1f m \\n x_min = %.1f m \\n y_max = %.1f m \\n y_min = %.1f m' % (regular['area'][1], regular['area'][0],regular['area'][3],regular['area'][2])"
   ]
  },
  {
   "cell_type": "markdown",
   "metadata": {},
   "source": [
    "## Regional Field"
   ]
  },
  {
   "cell_type": "code",
   "execution_count": 9,
   "metadata": {},
   "outputs": [],
   "source": [
    "inc_gf , dec_gf = (20.,20.) "
   ]
  },
  {
   "cell_type": "markdown",
   "metadata": {},
   "source": [
    "## Create a model w/ the presence of Remanence Magnetization "
   ]
  },
  {
   "cell_type": "code",
   "execution_count": 10,
   "metadata": {},
   "outputs": [],
   "source": [
    "model_poly_remanent = dict()"
   ]
  },
  {
   "cell_type": "markdown",
   "metadata": {},
   "source": [
    "#### Vertices of a Polygonal prism"
   ]
  },
  {
   "cell_type": "code",
   "execution_count": 11,
   "metadata": {},
   "outputs": [],
   "source": [
    "model_poly_remanent['x_verts'] = [1000.,1000.,300.,0.,-1000.,-1000.,1000.]"
   ]
  },
  {
   "cell_type": "code",
   "execution_count": 12,
   "metadata": {},
   "outputs": [],
   "source": [
    "model_poly_remanent['y_verts'] = [-1000.,0.,300.,2000.,2000.,-1000.,-1000.]"
   ]
  },
  {
   "cell_type": "code",
   "execution_count": 13,
   "metadata": {},
   "outputs": [],
   "source": [
    "model_poly_remanent['z_top'] = 450."
   ]
  },
  {
   "cell_type": "code",
   "execution_count": 14,
   "metadata": {},
   "outputs": [],
   "source": [
    "model_poly_remanent['z_bottom'] = 3000."
   ]
  },
  {
   "cell_type": "code",
   "execution_count": 15,
   "metadata": {},
   "outputs": [],
   "source": [
    "model_poly_remanent['verts'] = zip(model_poly_remanent['x_verts'],\n",
    "                                   model_poly_remanent['y_verts'] )"
   ]
  },
  {
   "cell_type": "markdown",
   "metadata": {},
   "source": [
    "#### Main field"
   ]
  },
  {
   "cell_type": "code",
   "execution_count": 16,
   "metadata": {},
   "outputs": [],
   "source": [
    "model_poly_remanent['main_field'] = (inc_gf,dec_gf)"
   ]
  },
  {
   "cell_type": "markdown",
   "metadata": {},
   "source": [
    "#### Magnetization of a PolyPrism"
   ]
  },
  {
   "cell_type": "code",
   "execution_count": 17,
   "metadata": {},
   "outputs": [],
   "source": [
    "model_poly_remanent['m'] = 8.\n",
    "model_poly_remanent['inc'] = 55.\n",
    "model_poly_remanent['dec'] = 40.\n",
    "\n",
    "mag_tot_R = ang2vec(model_poly_remanent['m'],\n",
    "                  model_poly_remanent['inc'],\n",
    "                  model_poly_remanent['dec'])\n",
    "\n",
    "model_poly_remanent['magnetization'] = mag_tot_R"
   ]
  },
  {
   "cell_type": "code",
   "execution_count": 18,
   "metadata": {},
   "outputs": [],
   "source": [
    "model_poly_remanent['magnetization_sph_coord'] = vec2ang(mag_tot_R)"
   ]
  },
  {
   "cell_type": "markdown",
   "metadata": {},
   "source": [
    "### Creating a polyprism model"
   ]
  },
  {
   "cell_type": "code",
   "execution_count": 19,
   "metadata": {},
   "outputs": [],
   "source": [
    "model_poly_remanent['model'] = [PolygonalPrism(model_poly_remanent['verts'],\n",
    "                                              model_poly_remanent['z_top'],\n",
    "                                              model_poly_remanent['z_bottom'],\n",
    "                                              {'magnetization':mag_tot_R})]"
   ]
  },
  {
   "cell_type": "markdown",
   "metadata": {},
   "source": [
    "#### Generating .pickle file"
   ]
  },
  {
   "cell_type": "code",
   "execution_count": 20,
   "metadata": {},
   "outputs": [],
   "source": [
    "now = datetime.datetime.utcnow().strftime('%d %B %Y %H:%M:%S UTC')\n",
    "model_poly_remanent['metadata'] = 'Generated by {name} on {date}'.format(date=now, name=notebook_name)"
   ]
  },
  {
   "cell_type": "code",
   "execution_count": 21,
   "metadata": {},
   "outputs": [],
   "source": [
    "file_name = 'data/model_poly_remanent.pickle'\n",
    "with open(file_name, 'w') as f:\n",
    "    pickle.dump(model_poly_remanent, f)\n",
    "    \n",
    "saved_files.append(file_name)"
   ]
  },
  {
   "cell_type": "code",
   "execution_count": 22,
   "metadata": {},
   "outputs": [
    {
     "name": "stdout",
     "output_type": "stream",
     "text": [
      "magnetization_sph_coord : [8.0, 55.0, 40.0]\n",
      "dec : 40.0\n",
      "y_verts : [-1000.0, 0.0, 300.0, 2000.0, 2000.0, -1000.0, -1000.0]\n",
      "x_verts : [1000.0, 1000.0, 300.0, 0.0, -1000.0, -1000.0, 1000.0]\n",
      "m : 8.0\n",
      "main_field : (20.0, 20.0)\n",
      "metadata : Generated by synthetic_model.ipynb on 31 March 2019 21:19:11 UTC\n",
      "magnetization : [3.51508033 2.94950261 6.55321635]\n",
      "verts : [(1000.0, -1000.0), (1000.0, 0.0), (300.0, 300.0), (0.0, 2000.0), (-1000.0, 2000.0), (-1000.0, -1000.0), (1000.0, -1000.0)]\n",
      "model : [<fatiando.mesher.PolygonalPrism object at 0x7f7adcc02a50>]\n",
      "z_top : 450.0\n",
      "z_bottom : 3000.0\n",
      "inc : 55.0\n"
     ]
    }
   ],
   "source": [
    "for r in model_poly_remanent:\n",
    "    print r, ':', model_poly_remanent[r]"
   ]
  },
  {
   "cell_type": "markdown",
   "metadata": {},
   "source": [
    "## Create a simple model w/ Induced Magnetization in a Polyprism"
   ]
  },
  {
   "cell_type": "code",
   "execution_count": 23,
   "metadata": {},
   "outputs": [],
   "source": [
    "model_poly_induced = dict()"
   ]
  },
  {
   "cell_type": "markdown",
   "metadata": {},
   "source": [
    "### Main field"
   ]
  },
  {
   "cell_type": "code",
   "execution_count": 24,
   "metadata": {},
   "outputs": [],
   "source": [
    "inc_pole = 90.\n",
    "dec_pole = 0."
   ]
  },
  {
   "cell_type": "code",
   "execution_count": 25,
   "metadata": {},
   "outputs": [],
   "source": [
    "model_poly_induced['main_field'] = (inc_pole,dec_pole)"
   ]
  },
  {
   "cell_type": "markdown",
   "metadata": {},
   "source": [
    "#### Vertices of a Polygonal prism"
   ]
  },
  {
   "cell_type": "code",
   "execution_count": 26,
   "metadata": {},
   "outputs": [],
   "source": [
    "model_poly_induced['x_verts'] = [1000.,1000.,300.,0.,-1000.,-1000.,1000.]"
   ]
  },
  {
   "cell_type": "code",
   "execution_count": 27,
   "metadata": {},
   "outputs": [],
   "source": [
    "model_poly_induced['y_verts'] = [-1000.,0.,300.,2000.,2000.,-1000.,-1000.]"
   ]
  },
  {
   "cell_type": "code",
   "execution_count": 28,
   "metadata": {},
   "outputs": [],
   "source": [
    "model_poly_induced['z_top'] = 450."
   ]
  },
  {
   "cell_type": "code",
   "execution_count": 29,
   "metadata": {},
   "outputs": [],
   "source": [
    "model_poly_induced['z_bottom'] = 3000."
   ]
  },
  {
   "cell_type": "code",
   "execution_count": 30,
   "metadata": {},
   "outputs": [],
   "source": [
    "model_poly_induced['verts'] = zip(model_poly_induced['x_verts'],\n",
    "                                   model_poly_induced['y_verts'] )"
   ]
  },
  {
   "cell_type": "markdown",
   "metadata": {},
   "source": [
    "### Magnetization direction"
   ]
  },
  {
   "cell_type": "code",
   "execution_count": 31,
   "metadata": {},
   "outputs": [],
   "source": [
    "model_poly_induced['m'] = 8.\n",
    "model_poly_induced['inc'] = inc_pole\n",
    "model_poly_induced['dec'] = dec_pole\n",
    "\n",
    "mag_tot_I = ang2vec(model_poly_induced['m'],\n",
    "                    model_poly_induced['inc'],\n",
    "                    model_poly_induced['dec'])\n",
    "\n",
    "model_poly_induced['magnetization'] = mag_tot_I"
   ]
  },
  {
   "cell_type": "code",
   "execution_count": 32,
   "metadata": {},
   "outputs": [],
   "source": [
    "model_poly_induced['magnetization_sph_coord'] = vec2ang(mag_tot_I)"
   ]
  },
  {
   "cell_type": "markdown",
   "metadata": {},
   "source": [
    "#### Creating the model"
   ]
  },
  {
   "cell_type": "code",
   "execution_count": 33,
   "metadata": {},
   "outputs": [],
   "source": [
    "model_poly_induced['model'] = [PolygonalPrism(model_poly_induced['verts'],\n",
    "                                              model_poly_induced['z_top'],\n",
    "                                              model_poly_induced['z_bottom'],\n",
    "                                              {'magnetization':mag_tot_I})]"
   ]
  },
  {
   "cell_type": "markdown",
   "metadata": {},
   "source": [
    "#### Generating a .pickle file"
   ]
  },
  {
   "cell_type": "code",
   "execution_count": 34,
   "metadata": {},
   "outputs": [],
   "source": [
    "now = datetime.datetime.utcnow().strftime('%d %B %Y %H:%M:%S UTC')\n",
    "model_poly_induced['metadata'] = 'Generated by {name} on {date}'.format(date=now, name=notebook_name)"
   ]
  },
  {
   "cell_type": "code",
   "execution_count": 35,
   "metadata": {},
   "outputs": [],
   "source": [
    "file_name = 'data/model_poly_induced.pickle'\n",
    "with open(file_name, 'w') as f:\n",
    "    pickle.dump(model_poly_induced, f)\n",
    "    \n",
    "saved_files.append(file_name)"
   ]
  },
  {
   "cell_type": "code",
   "execution_count": 36,
   "metadata": {},
   "outputs": [
    {
     "name": "stdout",
     "output_type": "stream",
     "text": [
      "magnetization_sph_coord : [8.0, 90.0, 0.0]\n",
      "dec : 0.0\n",
      "y_verts : [-1000.0, 0.0, 300.0, 2000.0, 2000.0, -1000.0, -1000.0]\n",
      "x_verts : [1000.0, 1000.0, 300.0, 0.0, -1000.0, -1000.0, 1000.0]\n",
      "m : 8.0\n",
      "main_field : (90.0, 0.0)\n",
      "metadata : Generated by synthetic_model.ipynb on 31 March 2019 21:19:15 UTC\n",
      "magnetization : [4.8985872e-16 0.0000000e+00 8.0000000e+00]\n",
      "verts : [(1000.0, -1000.0), (1000.0, 0.0), (300.0, 300.0), (0.0, 2000.0), (-1000.0, 2000.0), (-1000.0, -1000.0), (1000.0, -1000.0)]\n",
      "model : [<fatiando.mesher.PolygonalPrism object at 0x7f7adcc02f90>]\n",
      "z_top : 450.0\n",
      "z_bottom : 3000.0\n",
      "inc : 90.0\n"
     ]
    }
   ],
   "source": [
    "for r in model_poly_induced:\n",
    "    print r, ':', model_poly_induced[r]"
   ]
  },
  {
   "cell_type": "markdown",
   "metadata": {},
   "source": [
    "## Visualization of prism limits"
   ]
  },
  {
   "cell_type": "code",
   "execution_count": 37,
   "metadata": {},
   "outputs": [
    {
     "name": "stderr",
     "output_type": "stream",
     "text": [
      "/home/andre/anaconda2/lib/python2.7/site-packages/matplotlib/figure.py:2299: UserWarning: This figure includes Axes that are not compatible with tight_layout, so results might be incorrect.\n",
      "  warnings.warn(\"This figure includes Axes that are not compatible \"\n"
     ]
    },
    {
     "data": {
      "image/png": "[encoded data removed]",
      "text/plain": [
       "<Figure size 648x648 with 1 Axes>"
      ]
     },
     "metadata": {
      "needs_background": "light"
     },
     "output_type": "display_data"
    }
   ],
   "source": [
    "title_font = 20\n",
    "bottom_font = 18\n",
    "saturation_factor = 1.\n",
    "plt.close('all')\n",
    "plt.figure(figsize=(9,9), tight_layout=True)\n",
    "\n",
    "plt.title('Prism Bounds',fontsize=title_font)\n",
    "plt.plot(model_poly_remanent['y_verts'], model_poly_remanent['x_verts'],\n",
    "         color='k',linestyle='-',linewidth=2)\n",
    "#plt.plot(airborne['y'], airborne['x'],'k.')\n",
    "plt.xlabel('y (m)', fontsize = title_font)\n",
    "plt.ylabel('x (m)', fontsize = title_font)\n",
    "plt.ylim(np.min(regular['x']),np.max(regular['x']))\n",
    "plt.xlim(np.min(regular['y']),np.max(regular['y']))\n",
    "plt.tick_params(labelsize=15)\n",
    "\n",
    "file_name = 'figs/prism_bound'\n",
    "plt.savefig(file_name+'.png',dpi=200)\n",
    "saved_files.append(file_name+'.png')\n",
    "\n",
    "plt.savefig(file_name+'.eps',dpi=200)\n",
    "saved_files.append(file_name+'.eps')\n",
    "\n",
    "\n",
    "plt.show()"
   ]
  },
  {
   "cell_type": "markdown",
   "metadata": {},
   "source": [
    "## 3D visualization"
   ]
  },
  {
   "cell_type": "code",
   "execution_count": 38,
   "metadata": {},
   "outputs": [],
   "source": [
    "x_verts = 1e-3*np.array(model_poly_remanent['x_verts'])\n",
    "y_verts = 1e-3*np.array(model_poly_remanent['y_verts'])\n",
    "z_top = 1e-3*model_poly_remanent['z_top']*np.ones_like(model_poly_remanent['x_verts'])\n",
    "z_bottom = 1e-3*model_poly_remanent['z_bottom']*np.ones_like(model_poly_remanent['x_verts'])"
   ]
  },
  {
   "cell_type": "code",
   "execution_count": 39,
   "metadata": {},
   "outputs": [],
   "source": [
    "x_max = 1e-3*6000.0  \n",
    "x_min = -1e-3*6000.0  \n",
    "y_max = 1e-3*6000.0 \n",
    "y_min = -1e-3*6000.0"
   ]
  },
  {
   "cell_type": "code",
   "execution_count": 40,
   "metadata": {},
   "outputs": [],
   "source": [
    "verts_c = [list(zip(x_verts,y_verts,z_top)),\n",
    "           list(zip(x_verts,y_verts,z_bottom))]"
   ]
  },
  {
   "cell_type": "code",
   "execution_count": 41,
   "metadata": {},
   "outputs": [],
   "source": [
    "verts_s = []\n",
    "for i,j in zip(x_verts,y_verts):\n",
    "    verts_s.append([(i,j,z_top[0]),(i,j,z_bottom[0])])   "
   ]
  },
  {
   "cell_type": "code",
   "execution_count": 42,
   "metadata": {},
   "outputs": [
    {
     "data": {
      "application/javascript": [
       "/* Put everything inside the global mpl namespace */\n",
       "window.mpl = {};\n",
       "\n",
       "\n",
       "mpl.get_websocket_type = function() {\n",
       "    if (typeof(WebSocket) !== 'undefined') {\n",
       "        return WebSocket;\n",
       "    } else if (typeof(MozWebSocket) !== 'undefined') {\n",
       "        return MozWebSocket;\n",
       "    } else {\n",
       "        alert('Your browser does not have WebSocket support.' +\n",
       "              'Please try Chrome, Safari or Firefox ≥ 6. ' +\n",
       "              'Firefox 4 and 5 are also supported but you ' +\n",
       "              'have to enable WebSockets in about:config.');\n",
       "    };\n",
       "}\n",
       "\n",
       "mpl.figure = function(figure_id, websocket, ondownload, parent_element) {\n",
       "    this.id = figure_id;\n",
       "\n",
       "    this.ws = websocket;\n",
       "\n",
       "    this.supports_binary = (this.ws.binaryType != undefined);\n",
       "\n",
       "    if (!this.supports_binary) {\n",
       "        var warnings = document.getElementById(\"mpl-warnings\");\n",
       "        if (warnings) {\n",
       "            warnings.style.display = 'block';\n",
       "            warnings.textContent = (\n",
       "                \"This browser does not support binary websocket messages. \" +\n",
       "                    \"Performance may be slow.\");\n",
       "        }\n",
       "    }\n",
       "\n",
       "    this.imageObj = new Image();\n",
       "\n",
       "    this.context = undefined;\n",
       "    this.message = undefined;\n",
       "    this.canvas = undefined;\n",
       "    this.rubberband_canvas = undefined;\n",
       "    this.rubberband_context = undefined;\n",
       "    this.format_dropdown = undefined;\n",
       "\n",
       "    this.image_mode = 'full';\n",
       "\n",
       "    this.root = $('<div/>');\n",
       "    this._root_extra_style(this.root)\n",
       "    this.root.attr('style', 'display: inline-block');\n",
       "\n",
       "    $(parent_element).append(this.root);\n",
       "\n",
       "    this._init_header(this);\n",
       "    this._init_canvas(this);\n",
       "    this._init_toolbar(this);\n",
       "\n",
       "    var fig = this;\n",
       "\n",
       "    this.waiting = false;\n",
       "\n",
       "    this.ws.onopen =  function () {\n",
       "            fig.send_message(\"supports_binary\", {value: fig.supports_binary});\n",
       "            fig.send_message(\"send_image_mode\", {});\n",
       "            if (mpl.ratio != 1) {\n",
       "                fig.send_message(\"set_dpi_ratio\", {'dpi_ratio': mpl.ratio});\n",
       "            }\n",
       "            fig.send_message(\"refresh\", {});\n",
       "        }\n",
       "\n",
       "    this.imageObj.onload = function() {\n",
       "            if (fig.image_mode == 'full') {\n",
       "                // Full images could contain transparency (where diff images\n",
       "                // almost always do), so we need to clear the canvas so that\n",
       "                // there is no ghosting.\n",
       "                fig.context.clearRect(0, 0, fig.canvas.width, fig.canvas.height);\n",
       "            }\n",
       "            fig.context.drawImage(fig.imageObj, 0, 0);\n",
       "        };\n",
       "\n",
       "    this.imageObj.onunload = function() {\n",
       "        fig.ws.close();\n",
       "    }\n",
       "\n",
       "    this.ws.onmessage = this._make_on_message_function(this);\n",
       "\n",
       "    this.ondownload = ondownload;\n",
       "}\n",
       "\n",
       "mpl.figure.prototype._init_header = function() {\n",
       "    var titlebar = $(\n",
       "        '<div class=\"ui-dialog-titlebar ui-widget-header ui-corner-all ' +\n",
       "        'ui-helper-clearfix\"/>');\n",
       "    var titletext = $(\n",
       "        '<div class=\"ui-dialog-title\" style=\"width: 100%; ' +\n",
       "        'text-align: center; padding: 3px;\"/>');\n",
       "    titlebar.append(titletext)\n",
       "    this.root.append(titlebar);\n",
       "    this.header = titletext[0];\n",
       "}\n",
       "\n",
       "\n",
       "\n",
       "mpl.figure.prototype._canvas_extra_style = function(canvas_div) {\n",
       "\n",
       "}\n",
       "\n",
       "\n",
       "mpl.figure.prototype._root_extra_style = function(canvas_div) {\n",
       "\n",
       "}\n",
       "\n",
       "mpl.figure.prototype._init_canvas = function() {\n",
       "    var fig = this;\n",
       "\n",
       "    var canvas_div = $('<div/>');\n",
       "\n",
       "    canvas_div.attr('style', 'position: relative; clear: both; outline: 0');\n",
       "\n",
       "    function canvas_keyboard_event(event) {\n",
       "        return fig.key_event(event, event['data']);\n",
       "    }\n",
       "\n",
       "    canvas_div.keydown('key_press', canvas_keyboard_event);\n",
       "    canvas_div.keyup('key_release', canvas_keyboard_event);\n",
       "    this.canvas_div = canvas_div\n",
       "    this._canvas_extra_style(canvas_div)\n",
       "    this.root.append(canvas_div);\n",
       "\n",
       "    var canvas = $('<canvas/>');\n",
       "    canvas.addClass('mpl-canvas');\n",
       "    canvas.attr('style', \"left: 0; top: 0; z-index: 0; outline: 0\")\n",
       "\n",
       "    this.canvas = canvas[0];\n",
       "    this.context = canvas[0].getContext(\"2d\");\n",
       "\n",
       "    var backingStore = this.context.backingStorePixelRatio ||\n",
       "\tthis.context.webkitBackingStorePixelRatio ||\n",
       "\tthis.context.mozBackingStorePixelRatio ||\n",
       "\tthis.context.msBackingStorePixelRatio ||\n",
       "\tthis.context.oBackingStorePixelRatio ||\n",
       "\tthis.context.backingStorePixelRatio || 1;\n",
       "\n",
       "    mpl.ratio = (window.devicePixelRatio || 1) / backingStore;\n",
       "\n",
       "    var rubberband = $('<canvas/>');\n",
       "    rubberband.attr('style', \"position: absolute; left: 0; top: 0; z-index: 1;\")\n",
       "\n",
       "    var pass_mouse_events = true;\n",
       "\n",
       "    canvas_div.resizable({\n",
       "        start: function(event, ui) {\n",
       "            pass_mouse_events = false;\n",
       "        },\n",
       "        resize: function(event, ui) {\n",
       "            fig.request_resize(ui.size.width, ui.size.height);\n",
       "        },\n",
       "        stop: function(event, ui) {\n",
       "            pass_mouse_events = true;\n",
       "            fig.request_resize(ui.size.width, ui.size.height);\n",
       "        },\n",
       "    });\n",
       "\n",
       "    function mouse_event_fn(event) {\n",
       "        if (pass_mouse_events)\n",
       "            return fig.mouse_event(event, event['data']);\n",
       "    }\n",
       "\n",
       "    rubberband.mousedown('button_press', mouse_event_fn);\n",
       "    rubberband.mouseup('button_release', mouse_event_fn);\n",
       "    // Throttle sequential mouse events to 1 every 20ms.\n",
       "    rubberband.mousemove('motion_notify', mouse_event_fn);\n",
       "\n",
       "    rubberband.mouseenter('figure_enter', mouse_event_fn);\n",
       "    rubberband.mouseleave('figure_leave', mouse_event_fn);\n",
       "\n",
       "    canvas_div.on(\"wheel\", function (event) {\n",
       "        event = event.originalEvent;\n",
       "        event['data'] = 'scroll'\n",
       "        if (event.deltaY < 0) {\n",
       "            event.step = 1;\n",
       "        } else {\n",
       "            event.step = -1;\n",
       "        }\n",
       "        mouse_event_fn(event);\n",
       "    });\n",
       "\n",
       "    canvas_div.append(canvas);\n",
       "    canvas_div.append(rubberband);\n",
       "\n",
       "    this.rubberband = rubberband;\n",
       "    this.rubberband_canvas = rubberband[0];\n",
       "    this.rubberband_context = rubberband[0].getContext(\"2d\");\n",
       "    this.rubberband_context.strokeStyle = \"#000000\";\n",
       "\n",
       "    this._resize_canvas = function(width, height) {\n",
       "        // Keep the size of the canvas, canvas container, and rubber band\n",
       "        // canvas in synch.\n",
       "        canvas_div.css('width', width)\n",
       "        canvas_div.css('height', height)\n",
       "\n",
       "        canvas.attr('width', width * mpl.ratio);\n",
       "        canvas.attr('height', height * mpl.ratio);\n",
       "        canvas.attr('style', 'width: ' + width + 'px; height: ' + height + 'px;');\n",
       "\n",
       "        rubberband.attr('width', width);\n",
       "        rubberband.attr('height', height);\n",
       "    }\n",
       "\n",
       "    // Set the figure to an initial 600x600px, this will subsequently be updated\n",
       "    // upon first draw.\n",
       "    this._resize_canvas(600, 600);\n",
       "\n",
       "    // Disable right mouse context menu.\n",
       "    $(this.rubberband_canvas).bind(\"contextmenu\",function(e){\n",
       "        return false;\n",
       "    });\n",
       "\n",
       "    function set_focus () {\n",
       "        canvas.focus();\n",
       "        canvas_div.focus();\n",
       "    }\n",
       "\n",
       "    window.setTimeout(set_focus, 100);\n",
       "}\n",
       "\n",
       "mpl.figure.prototype._init_toolbar = function() {\n",
       "    var fig = this;\n",
       "\n",
       "    var nav_element = $('<div/>')\n",
       "    nav_element.attr('style', 'width: 100%');\n",
       "    this.root.append(nav_element);\n",
       "\n",
       "    // Define a callback function for later on.\n",
       "    function toolbar_event(event) {\n",
       "        return fig.toolbar_button_onclick(event['data']);\n",
       "    }\n",
       "    function toolbar_mouse_event(event) {\n",
       "        return fig.toolbar_button_onmouseover(event['data']);\n",
       "    }\n",
       "\n",
       "    for(var toolbar_ind in mpl.toolbar_items) {\n",
       "        var name = mpl.toolbar_items[toolbar_ind][0];\n",
       "        var tooltip = mpl.toolbar_items[toolbar_ind][1];\n",
       "        var image = mpl.toolbar_items[toolbar_ind][2];\n",
       "        var method_name = mpl.toolbar_items[toolbar_ind][3];\n",
       "\n",
       "        if (!name) {\n",
       "            // put a spacer in here.\n",
       "            continue;\n",
       "        }\n",
       "        var button = $('<button/>');\n",
       "        button.addClass('ui-button ui-widget ui-state-default ui-corner-all ' +\n",
       "                        'ui-button-icon-only');\n",
       "        button.attr('role', 'button');\n",
       "        button.attr('aria-disabled', 'false');\n",
       "        button.click(method_name, toolbar_event);\n",
       "        button.mouseover(tooltip, toolbar_mouse_event);\n",
       "\n",
       "        var icon_img = $('<span/>');\n",
       "        icon_img.addClass('ui-button-icon-primary ui-icon');\n",
       "        icon_img.addClass(image);\n",
       "        icon_img.addClass('ui-corner-all');\n",
       "\n",
       "        var tooltip_span = $('<span/>');\n",
       "        tooltip_span.addClass('ui-button-text');\n",
       "        tooltip_span.html(tooltip);\n",
       "\n",
       "        button.append(icon_img);\n",
       "        button.append(tooltip_span);\n",
       "\n",
       "        nav_element.append(button);\n",
       "    }\n",
       "\n",
       "    var fmt_picker_span = $('<span/>');\n",
       "\n",
       "    var fmt_picker = $('<select/>');\n",
       "    fmt_picker.addClass('mpl-toolbar-option ui-widget ui-widget-content');\n",
       "    fmt_picker_span.append(fmt_picker);\n",
       "    nav_element.append(fmt_picker_span);\n",
       "    this.format_dropdown = fmt_picker[0];\n",
       "\n",
       "    for (var ind in mpl.extensions) {\n",
       "        var fmt = mpl.extensions[ind];\n",
       "        var option = $(\n",
       "            '<option/>', {selected: fmt === mpl.default_extension}).html(fmt);\n",
       "        fmt_picker.append(option)\n",
       "    }\n",
       "\n",
       "    // Add hover states to the ui-buttons\n",
       "    $( \".ui-button\" ).hover(\n",
       "        function() { $(this).addClass(\"ui-state-hover\");},\n",
       "        function() { $(this).removeClass(\"ui-state-hover\");}\n",
       "    );\n",
       "\n",
       "    var status_bar = $('<span class=\"mpl-message\"/>');\n",
       "    nav_element.append(status_bar);\n",
       "    this.message = status_bar[0];\n",
       "}\n",
       "\n",
       "mpl.figure.prototype.request_resize = function(x_pixels, y_pixels) {\n",
       "    // Request matplotlib to resize the figure. Matplotlib will then trigger a resize in the client,\n",
       "    // which will in turn request a refresh of the image.\n",
       "    this.send_message('resize', {'width': x_pixels, 'height': y_pixels});\n",
       "}\n",
       "\n",
       "mpl.figure.prototype.send_message = function(type, properties) {\n",
       "    properties['type'] = type;\n",
       "    properties['figure_id'] = this.id;\n",
       "    this.ws.send(JSON.stringify(properties));\n",
       "}\n",
       "\n",
       "mpl.figure.prototype.send_draw_message = function() {\n",
       "    if (!this.waiting) {\n",
       "        this.waiting = true;\n",
       "        this.ws.send(JSON.stringify({type: \"draw\", figure_id: this.id}));\n",
       "    }\n",
       "}\n",
       "\n",
       "\n",
       "mpl.figure.prototype.handle_save = function(fig, msg) {\n",
       "    var format_dropdown = fig.format_dropdown;\n",
       "    var format = format_dropdown.options[format_dropdown.selectedIndex].value;\n",
       "    fig.ondownload(fig, format);\n",
       "}\n",
       "\n",
       "\n",
       "mpl.figure.prototype.handle_resize = function(fig, msg) {\n",
       "    var size = msg['size'];\n",
       "    if (size[0] != fig.canvas.width || size[1] != fig.canvas.height) {\n",
       "        fig._resize_canvas(size[0], size[1]);\n",
       "        fig.send_message(\"refresh\", {});\n",
       "    };\n",
       "}\n",
       "\n",
       "mpl.figure.prototype.handle_rubberband = function(fig, msg) {\n",
       "    var x0 = msg['x0'] / mpl.ratio;\n",
       "    var y0 = (fig.canvas.height - msg['y0']) / mpl.ratio;\n",
       "    var x1 = msg['x1'] / mpl.ratio;\n",
       "    var y1 = (fig.canvas.height - msg['y1']) / mpl.ratio;\n",
       "    x0 = Math.floor(x0) + 0.5;\n",
       "    y0 = Math.floor(y0) + 0.5;\n",
       "    x1 = Math.floor(x1) + 0.5;\n",
       "    y1 = Math.floor(y1) + 0.5;\n",
       "    var min_x = Math.min(x0, x1);\n",
       "    var min_y = Math.min(y0, y1);\n",
       "    var width = Math.abs(x1 - x0);\n",
       "    var height = Math.abs(y1 - y0);\n",
       "\n",
       "    fig.rubberband_context.clearRect(\n",
       "        0, 0, fig.canvas.width, fig.canvas.height);\n",
       "\n",
       "    fig.rubberband_context.strokeRect(min_x, min_y, width, height);\n",
       "}\n",
       "\n",
       "mpl.figure.prototype.handle_figure_label = function(fig, msg) {\n",
       "    // Updates the figure title.\n",
       "    fig.header.textContent = msg['label'];\n",
       "}\n",
       "\n",
       "mpl.figure.prototype.handle_cursor = function(fig, msg) {\n",
       "    var cursor = msg['cursor'];\n",
       "    switch(cursor)\n",
       "    {\n",
       "    case 0:\n",
       "        cursor = 'pointer';\n",
       "        break;\n",
       "    case 1:\n",
       "        cursor = 'default';\n",
       "        break;\n",
       "    case 2:\n",
       "        cursor = 'crosshair';\n",
       "        break;\n",
       "    case 3:\n",
       "        cursor = 'move';\n",
       "        break;\n",
       "    }\n",
       "    fig.rubberband_canvas.style.cursor = cursor;\n",
       "}\n",
       "\n",
       "mpl.figure.prototype.handle_message = function(fig, msg) {\n",
       "    fig.message.textContent = msg['message'];\n",
       "}\n",
       "\n",
       "mpl.figure.prototype.handle_draw = function(fig, msg) {\n",
       "    // Request the server to send over a new figure.\n",
       "    fig.send_draw_message();\n",
       "}\n",
       "\n",
       "mpl.figure.prototype.handle_image_mode = function(fig, msg) {\n",
       "    fig.image_mode = msg['mode'];\n",
       "}\n",
       "\n",
       "mpl.figure.prototype.updated_canvas_event = function() {\n",
       "    // Called whenever the canvas gets updated.\n",
       "    this.send_message(\"ack\", {});\n",
       "}\n",
       "\n",
       "// A function to construct a web socket function for onmessage handling.\n",
       "// Called in the figure constructor.\n",
       "mpl.figure.prototype._make_on_message_function = function(fig) {\n",
       "    return function socket_on_message(evt) {\n",
       "        if (evt.data instanceof Blob) {\n",
       "            /* FIXME: We get \"Resource interpreted as Image but\n",
       "             * transferred with MIME type text/plain:\" errors on\n",
       "             * Chrome.  But how to set the MIME type?  It doesn't seem\n",
       "             * to be part of the websocket stream */\n",
       "            evt.data.type = \"image/png\";\n",
       "\n",
       "            /* Free the memory for the previous frames */\n",
       "            if (fig.imageObj.src) {\n",
       "                (window.URL || window.webkitURL).revokeObjectURL(\n",
       "                    fig.imageObj.src);\n",
       "            }\n",
       "\n",
       "            fig.imageObj.src = (window.URL || window.webkitURL).createObjectURL(\n",
       "                evt.data);\n",
       "            fig.updated_canvas_event();\n",
       "            fig.waiting = false;\n",
       "            return;\n",
       "        }\n",
       "        else if (typeof evt.data === 'string' && evt.data.slice(0, 21) == \"data:image/png;base64\") {\n",
       "            fig.imageObj.src = evt.data;\n",
       "            fig.updated_canvas_event();\n",
       "            fig.waiting = false;\n",
       "            return;\n",
       "        }\n",
       "\n",
       "        var msg = JSON.parse(evt.data);\n",
       "        var msg_type = msg['type'];\n",
       "\n",
       "        // Call the  \"handle_{type}\" callback, which takes\n",
       "        // the figure and JSON message as its only arguments.\n",
       "        try {\n",
       "            var callback = fig[\"handle_\" + msg_type];\n",
       "        } catch (e) {\n",
       "            console.log(\"No handler for the '\" + msg_type + \"' message type: \", msg);\n",
       "            return;\n",
       "        }\n",
       "\n",
       "        if (callback) {\n",
       "            try {\n",
       "                // console.log(\"Handling '\" + msg_type + \"' message: \", msg);\n",
       "                callback(fig, msg);\n",
       "            } catch (e) {\n",
       "                console.log(\"Exception inside the 'handler_\" + msg_type + \"' callback:\", e, e.stack, msg);\n",
       "            }\n",
       "        }\n",
       "    };\n",
       "}\n",
       "\n",
       "// from http://stackoverflow.com/questions/1114465/getting-mouse-location-in-canvas\n",
       "mpl.findpos = function(e) {\n",
       "    //this section is from http://www.quirksmode.org/js/events_properties.html\n",
       "    var targ;\n",
       "    if (!e)\n",
       "        e = window.event;\n",
       "    if (e.target)\n",
       "        targ = e.target;\n",
       "    else if (e.srcElement)\n",
       "        targ = e.srcElement;\n",
       "    if (targ.nodeType == 3) // defeat Safari bug\n",
       "        targ = targ.parentNode;\n",
       "\n",
       "    // jQuery normalizes the pageX and pageY\n",
       "    // pageX,Y are the mouse positions relative to the document\n",
       "    // offset() returns the position of the element relative to the document\n",
       "    var x = e.pageX - $(targ).offset().left;\n",
       "    var y = e.pageY - $(targ).offset().top;\n",
       "\n",
       "    return {\"x\": x, \"y\": y};\n",
       "};\n",
       "\n",
       "/*\n",
       " * return a copy of an object with only non-object keys\n",
       " * we need this to avoid circular references\n",
       " * http://stackoverflow.com/a/24161582/3208463\n",
       " */\n",
       "function simpleKeys (original) {\n",
       "  return Object.keys(original).reduce(function (obj, key) {\n",
       "    if (typeof original[key] !== 'object')\n",
       "        obj[key] = original[key]\n",
       "    return obj;\n",
       "  }, {});\n",
       "}\n",
       "\n",
       "mpl.figure.prototype.mouse_event = function(event, name) {\n",
       "    var canvas_pos = mpl.findpos(event)\n",
       "\n",
       "    if (name === 'button_press')\n",
       "    {\n",
       "        this.canvas.focus();\n",
       "        this.canvas_div.focus();\n",
       "    }\n",
       "\n",
       "    var x = canvas_pos.x * mpl.ratio;\n",
       "    var y = canvas_pos.y * mpl.ratio;\n",
       "\n",
       "    this.send_message(name, {x: x, y: y, button: event.button,\n",
       "                             step: event.step,\n",
       "                             guiEvent: simpleKeys(event)});\n",
       "\n",
       "    /* This prevents the web browser from automatically changing to\n",
       "     * the text insertion cursor when the button is pressed.  We want\n",
       "     * to control all of the cursor setting manually through the\n",
       "     * 'cursor' event from matplotlib */\n",
       "    event.preventDefault();\n",
       "    return false;\n",
       "}\n",
       "\n",
       "mpl.figure.prototype._key_event_extra = function(event, name) {\n",
       "    // Handle any extra behaviour associated with a key event\n",
       "}\n",
       "\n",
       "mpl.figure.prototype.key_event = function(event, name) {\n",
       "\n",
       "    // Prevent repeat events\n",
       "    if (name == 'key_press')\n",
       "    {\n",
       "        if (event.which === this._key)\n",
       "            return;\n",
       "        else\n",
       "            this._key = event.which;\n",
       "    }\n",
       "    if (name == 'key_release')\n",
       "        this._key = null;\n",
       "\n",
       "    var value = '';\n",
       "    if (event.ctrlKey && event.which != 17)\n",
       "        value += \"ctrl+\";\n",
       "    if (event.altKey && event.which != 18)\n",
       "        value += \"alt+\";\n",
       "    if (event.shiftKey && event.which != 16)\n",
       "        value += \"shift+\";\n",
       "\n",
       "    value += 'k';\n",
       "    value += event.which.toString();\n",
       "\n",
       "    this._key_event_extra(event, name);\n",
       "\n",
       "    this.send_message(name, {key: value,\n",
       "                             guiEvent: simpleKeys(event)});\n",
       "    return false;\n",
       "}\n",
       "\n",
       "mpl.figure.prototype.toolbar_button_onclick = function(name) {\n",
       "    if (name == 'download') {\n",
       "        this.handle_save(this, null);\n",
       "    } else {\n",
       "        this.send_message(\"toolbar_button\", {name: name});\n",
       "    }\n",
       "};\n",
       "\n",
       "mpl.figure.prototype.toolbar_button_onmouseover = function(tooltip) {\n",
       "    this.message.textContent = tooltip;\n",
       "};\n",
       "mpl.toolbar_items = [[\"Home\", \"Reset original view\", \"fa fa-home icon-home\", \"home\"], [\"Back\", \"Back to  previous view\", \"fa fa-arrow-left icon-arrow-left\", \"back\"], [\"Forward\", \"Forward to next view\", \"fa fa-arrow-right icon-arrow-right\", \"forward\"], [\"\", \"\", \"\", \"\"], [\"Pan\", \"Pan axes with left mouse, zoom with right\", \"fa fa-arrows icon-move\", \"pan\"], [\"Zoom\", \"Zoom to rectangle\", \"fa fa-square-o icon-check-empty\", \"zoom\"], [\"\", \"\", \"\", \"\"], [\"Download\", \"Download plot\", \"fa fa-floppy-o icon-save\", \"download\"]];\n",
       "\n",
       "mpl.extensions = [\"eps\", \"jpeg\", \"pdf\", \"png\", \"ps\", \"raw\", \"svg\", \"tif\"];\n",
       "\n",
       "mpl.default_extension = \"png\";var comm_websocket_adapter = function(comm) {\n",
       "    // Create a \"websocket\"-like object which calls the given IPython comm\n",
       "    // object with the appropriate methods. Currently this is a non binary\n",
       "    // socket, so there is still some room for performance tuning.\n",
       "    var ws = {};\n",
       "\n",
       "    ws.close = function() {\n",
       "        comm.close()\n",
       "    };\n",
       "    ws.send = function(m) {\n",
       "        //console.log('sending', m);\n",
       "        comm.send(m);\n",
       "    };\n",
       "    // Register the callback with on_msg.\n",
       "    comm.on_msg(function(msg) {\n",
       "        //console.log('receiving', msg['content']['data'], msg);\n",
       "        // Pass the mpl event to the overridden (by mpl) onmessage function.\n",
       "        ws.onmessage(msg['content']['data'])\n",
       "    });\n",
       "    return ws;\n",
       "}\n",
       "\n",
       "mpl.mpl_figure_comm = function(comm, msg) {\n",
       "    // This is the function which gets called when the mpl process\n",
       "    // starts-up an IPython Comm through the \"matplotlib\" channel.\n",
       "\n",
       "    var id = msg.content.data.id;\n",
       "    // Get hold of the div created by the display call when the Comm\n",
       "    // socket was opened in Python.\n",
       "    var element = $(\"#\" + id);\n",
       "    var ws_proxy = comm_websocket_adapter(comm)\n",
       "\n",
       "    function ondownload(figure, format) {\n",
       "        window.open(figure.imageObj.src);\n",
       "    }\n",
       "\n",
       "    var fig = new mpl.figure(id, ws_proxy,\n",
       "                           ondownload,\n",
       "                           element.get(0));\n",
       "\n",
       "    // Call onopen now - mpl needs it, as it is assuming we've passed it a real\n",
       "    // web socket which is closed, not our websocket->open comm proxy.\n",
       "    ws_proxy.onopen();\n",
       "\n",
       "    fig.parent_element = element.get(0);\n",
       "    fig.cell_info = mpl.find_output_cell(\"<div id='\" + id + \"'></div>\");\n",
       "    if (!fig.cell_info) {\n",
       "        console.error(\"Failed to find cell for figure\", id, fig);\n",
       "        return;\n",
       "    }\n",
       "\n",
       "    var output_index = fig.cell_info[2]\n",
       "    var cell = fig.cell_info[0];\n",
       "\n",
       "};\n",
       "\n",
       "mpl.figure.prototype.handle_close = function(fig, msg) {\n",
       "    var width = fig.canvas.width/mpl.ratio\n",
       "    fig.root.unbind('remove')\n",
       "\n",
       "    // Update the output cell to use the data from the current canvas.\n",
       "    fig.push_to_output();\n",
       "    var dataURL = fig.canvas.toDataURL();\n",
       "    // Re-enable the keyboard manager in IPython - without this line, in FF,\n",
       "    // the notebook keyboard shortcuts fail.\n",
       "    IPython.keyboard_manager.enable()\n",
       "    $(fig.parent_element).html('<img src=\"' + dataURL + '\" width=\"' + width + '\">');\n",
       "    fig.close_ws(fig, msg);\n",
       "}\n",
       "\n",
       "mpl.figure.prototype.close_ws = function(fig, msg){\n",
       "    fig.send_message('closing', msg);\n",
       "    // fig.ws.close()\n",
       "}\n",
       "\n",
       "mpl.figure.prototype.push_to_output = function(remove_interactive) {\n",
       "    // Turn the data on the canvas into data in the output cell.\n",
       "    var width = this.canvas.width/mpl.ratio\n",
       "    var dataURL = this.canvas.toDataURL();\n",
       "    this.cell_info[1]['text/html'] = '<img src=\"' + dataURL + '\" width=\"' + width + '\">';\n",
       "}\n",
       "\n",
       "mpl.figure.prototype.updated_canvas_event = function() {\n",
       "    // Tell IPython that the notebook contents must change.\n",
       "    IPython.notebook.set_dirty(true);\n",
       "    this.send_message(\"ack\", {});\n",
       "    var fig = this;\n",
       "    // Wait a second, then push the new image to the DOM so\n",
       "    // that it is saved nicely (might be nice to debounce this).\n",
       "    setTimeout(function () { fig.push_to_output() }, 1000);\n",
       "}\n",
       "\n",
       "mpl.figure.prototype._init_toolbar = function() {\n",
       "    var fig = this;\n",
       "\n",
       "    var nav_element = $('<div/>')\n",
       "    nav_element.attr('style', 'width: 100%');\n",
       "    this.root.append(nav_element);\n",
       "\n",
       "    // Define a callback function for later on.\n",
       "    function toolbar_event(event) {\n",
       "        return fig.toolbar_button_onclick(event['data']);\n",
       "    }\n",
       "    function toolbar_mouse_event(event) {\n",
       "        return fig.toolbar_button_onmouseover(event['data']);\n",
       "    }\n",
       "\n",
       "    for(var toolbar_ind in mpl.toolbar_items){\n",
       "        var name = mpl.toolbar_items[toolbar_ind][0];\n",
       "        var tooltip = mpl.toolbar_items[toolbar_ind][1];\n",
       "        var image = mpl.toolbar_items[toolbar_ind][2];\n",
       "        var method_name = mpl.toolbar_items[toolbar_ind][3];\n",
       "\n",
       "        if (!name) { continue; };\n",
       "\n",
       "        var button = $('<button class=\"btn btn-default\" href=\"#\" title=\"' + name + '\"><i class=\"fa ' + image + ' fa-lg\"></i></button>');\n",
       "        button.click(method_name, toolbar_event);\n",
       "        button.mouseover(tooltip, toolbar_mouse_event);\n",
       "        nav_element.append(button);\n",
       "    }\n",
       "\n",
       "    // Add the status bar.\n",
       "    var status_bar = $('<span class=\"mpl-message\" style=\"text-align:right; float: right;\"/>');\n",
       "    nav_element.append(status_bar);\n",
       "    this.message = status_bar[0];\n",
       "\n",
       "    // Add the close button to the window.\n",
       "    var buttongrp = $('<div class=\"btn-group inline pull-right\"></div>');\n",
       "    var button = $('<button class=\"btn btn-mini btn-primary\" href=\"#\" title=\"Stop Interaction\"><i class=\"fa fa-power-off icon-remove icon-large\"></i></button>');\n",
       "    button.click(function (evt) { fig.handle_close(fig, {}); } );\n",
       "    button.mouseover('Stop Interaction', toolbar_mouse_event);\n",
       "    buttongrp.append(button);\n",
       "    var titlebar = this.root.find($('.ui-dialog-titlebar'));\n",
       "    titlebar.prepend(buttongrp);\n",
       "}\n",
       "\n",
       "mpl.figure.prototype._root_extra_style = function(el){\n",
       "    var fig = this\n",
       "    el.on(\"remove\", function(){\n",
       "\tfig.close_ws(fig, {});\n",
       "    });\n",
       "}\n",
       "\n",
       "mpl.figure.prototype._canvas_extra_style = function(el){\n",
       "    // this is important to make the div 'focusable\n",
       "    el.attr('tabindex', 0)\n",
       "    // reach out to IPython and tell the keyboard manager to turn it's self\n",
       "    // off when our div gets focus\n",
       "\n",
       "    // location in version 3\n",
       "    if (IPython.notebook.keyboard_manager) {\n",
       "        IPython.notebook.keyboard_manager.register_events(el);\n",
       "    }\n",
       "    else {\n",
       "        // location in version 2\n",
       "        IPython.keyboard_manager.register_events(el);\n",
       "    }\n",
       "\n",
       "}\n",
       "\n",
       "mpl.figure.prototype._key_event_extra = function(event, name) {\n",
       "    var manager = IPython.notebook.keyboard_manager;\n",
       "    if (!manager)\n",
       "        manager = IPython.keyboard_manager;\n",
       "\n",
       "    // Check for shift+enter\n",
       "    if (event.shiftKey && event.which == 13) {\n",
       "        this.canvas_div.blur();\n",
       "        event.shiftKey = false;\n",
       "        // Send a \"J\" for go to next cell\n",
       "        event.which = 74;\n",
       "        event.keyCode = 74;\n",
       "        manager.command_mode();\n",
       "        manager.handle_keydown(event);\n",
       "    }\n",
       "}\n",
       "\n",
       "mpl.figure.prototype.handle_save = function(fig, msg) {\n",
       "    fig.ondownload(fig, null);\n",
       "}\n",
       "\n",
       "\n",
       "mpl.find_output_cell = function(html_output) {\n",
       "    // Return the cell and output element which can be found *uniquely* in the notebook.\n",
       "    // Note - this is a bit hacky, but it is done because the \"notebook_saving.Notebook\"\n",
       "    // IPython event is triggered only after the cells have been serialised, which for\n",
       "    // our purposes (turning an active figure into a static one), is too late.\n",
       "    var cells = IPython.notebook.get_cells();\n",
       "    var ncells = cells.length;\n",
       "    for (var i=0; i<ncells; i++) {\n",
       "        var cell = cells[i];\n",
       "        if (cell.cell_type === 'code'){\n",
       "            for (var j=0; j<cell.output_area.outputs.length; j++) {\n",
       "                var data = cell.output_area.outputs[j];\n",
       "                if (data.data) {\n",
       "                    // IPython >= 3 moved mimebundle to data attribute of output\n",
       "                    data = data.data;\n",
       "                }\n",
       "                if (data['text/html'] == html_output) {\n",
       "                    return [cell, data, j];\n",
       "                }\n",
       "            }\n",
       "        }\n",
       "    }\n",
       "}\n",
       "\n",
       "// Register the function which deals with the matplotlib target/channel.\n",
       "// The kernel may be null if the page has been refreshed.\n",
       "if (IPython.notebook.kernel != null) {\n",
       "    IPython.notebook.kernel.comm_manager.register_target('matplotlib', mpl.mpl_figure_comm);\n",
       "}\n"
      ],
      "text/plain": [
       "<IPython.core.display.Javascript object>"
      ]
     },
     "metadata": {},
     "output_type": "display_data"
    },
    {
     "data": {
      "text/html": [
       "<img src=\"data:image/png;base64,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\" width=\"900\">"
      ],
      "text/plain": [
       "<IPython.core.display.HTML object>"
      ]
     },
     "metadata": {},
     "output_type": "display_data"
    }
   ],
   "source": [
    "% matplotlib notebook\n",
    "\n",
    "fig = plt.figure(figsize=(9,9))\n",
    "ax = fig.gca(projection='3d')\n",
    "\n",
    "ax.set_title('3D model',fontsize=title_font,loc='center')\n",
    "cover = Poly3DCollection(verts_c,facecolors='black', linewidths=1, alpha=.9,edgecolors='k')\n",
    "sides = Poly3DCollection(verts_s,facecolors='black', linewidths=1, alpha=.9,edgecolors='k')\n",
    "\n",
    "cover.set_alpha(.3)\n",
    "ax.add_collection3d(cover)\n",
    "sides.set_alpha(.8)\n",
    "ax.add_collection3d(sides)\n",
    "\n",
    "ax.set_xlabel('X (km)',fontsize=15)\n",
    "ax.set_xlim3d(x_min, x_max,100)\n",
    "ax.set_ylabel('Y (km)',fontsize=15)\n",
    "ax.set_ylim3d(y_min, y_max,100)\n",
    "ax.set_zlabel('Z (km)',fontsize=15)\n",
    "ax.set_zlim3d(1.2*z_bottom[0], 1e-3*100.)\n",
    "ax.set_xticks(np.linspace(x_min, x_max, 5), minor=True)\n",
    "ax.set_yticks(np.linspace(y_min, y_max, 5), minor=True)\n",
    "ax.set_zticks(np.linspace(1.2*z_bottom[0], 1e-3*100., 6), minor=True)\n",
    "ax.view_init(40,320)\n",
    "\n",
    "file_name = 'figs/3D_prism'\n",
    "plt.savefig(file_name+'.png',dpi=200)\n",
    "saved_files.append(file_name+'.png')\n",
    "\n",
    "plt.savefig(file_name+'.eps',dpi=200)\n",
    "saved_files.append(file_name+'.eps')\n",
    "\n",
    "\n",
    "plt.show()"
   ]
  },
  {
   "cell_type": "markdown",
   "metadata": {},
   "source": [
    "#### Saved files"
   ]
  },
  {
   "cell_type": "code",
   "execution_count": 43,
   "metadata": {},
   "outputs": [
    {
     "name": "stdout",
     "output_type": "stream",
     "text": [
      "1  data/model_poly_remanent.pickle\n",
      "2  data/model_poly_induced.pickle\n",
      "3  figs/prism_bound.png\n",
      "4  figs/prism_bound.eps\n",
      "5  figs/3D_prism.png\n",
      "6  figs/3D_prism.eps\n"
     ]
    }
   ],
   "source": [
    "with open('reports/report_%s.md' % notebook_name[:st.index(notebook_name, '.')], 'w') as q:\n",
    "    q.write('# Saved files \\n')\n",
    "    now = datetime.datetime.utcnow().strftime('%d %B %Y %H:%M:%S UTC')\n",
    "    header = 'Generated by {name} on {date}'.format(date=now, name=notebook_name)\n",
    "    q.write('\\n\\n'+header+'\\n\\n')\n",
    "    for i, sf in enumerate(saved_files):\n",
    "        print '%d  %s' % (i+1,sf)\n",
    "        q.write('*  `%s` \\n' % (sf))"
   ]
  }
 ],
 "metadata": {
  "kernelspec": {
   "display_name": "Python 2",
   "language": "python",
   "name": "python2"
  },
  "language_info": {
   "codemirror_mode": {
    "name": "ipython",
    "version": 2
   },
   "file_extension": ".py",
   "mimetype": "text/x-python",
   "name": "python",
   "nbconvert_exporter": "python",
   "pygments_lexer": "ipython2",
   "version": "2.7.15"
  }
 },
 "nbformat": 4,
 "nbformat_minor": 2
}
