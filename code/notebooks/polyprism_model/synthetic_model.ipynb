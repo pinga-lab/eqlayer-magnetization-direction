{
 "cells": [
  {
   "cell_type": "markdown",
   "metadata": {},
   "source": [
    "# Synthetic Model "
   ]
  },
  {
   "cell_type": "markdown",
   "metadata": {},
   "source": [
    "Notebook to generate a set of models."
   ]
  },
  {
   "cell_type": "markdown",
   "metadata": {},
   "source": [
    "#### Import libraries"
   ]
  },
  {
   "cell_type": "code",
   "execution_count": 1,
   "metadata": {},
   "outputs": [
    {
     "name": "stderr",
     "output_type": "stream",
     "text": [
      "/home/andrelreis/anaconda2/lib/python2.7/site-packages/fatiando/vis/mpl.py:76: UserWarning: This module will be removed in v0.6. We recommend the use of matplotlib.pyplot module directly. Some of the fatiando specific functions will remain.\n",
      "  \"specific functions will remain.\")\n"
     ]
    }
   ],
   "source": [
    "from IPython.display import Markdown as md\n",
    "from IPython.display import display as dp\n",
    "import string as st\n",
    "import sys\n",
    "import numpy as np\n",
    "import matplotlib.pyplot as plt\n",
    "import cPickle as pickle\n",
    "import datetime\n",
    "\n",
    "from mpl_toolkits.mplot3d import Axes3D\n",
    "from mpl_toolkits.mplot3d.art3d import Poly3DCollection, Line3DCollection\n",
    "from fatiando.utils import ang2vec, vec2ang\n",
    "from fatiando.mesher import Sphere, Prism, PolygonalPrism\n",
    "from fatiando.gravmag import sphere, prism, polyprism"
   ]
  },
  {
   "cell_type": "code",
   "execution_count": 2,
   "metadata": {},
   "outputs": [],
   "source": [
    "notebook_name = 'synthetic_model.ipynb'"
   ]
  },
  {
   "cell_type": "markdown",
   "metadata": {},
   "source": [
    "#### Black background figures"
   ]
  },
  {
   "cell_type": "code",
   "execution_count": 3,
   "metadata": {},
   "outputs": [],
   "source": [
    "plt.style.use('classic')"
   ]
  },
  {
   "cell_type": "markdown",
   "metadata": {},
   "source": [
    "#### Importing auxiliary functions"
   ]
  },
  {
   "cell_type": "code",
   "execution_count": 4,
   "metadata": {},
   "outputs": [],
   "source": [
    "dir_modules = '../../'\n",
    "sys.path.append(dir_modules)"
   ]
  },
  {
   "cell_type": "code",
   "execution_count": 5,
   "metadata": {},
   "outputs": [],
   "source": [
    "import auxiliary_functions as func"
   ]
  },
  {
   "cell_type": "markdown",
   "metadata": {},
   "source": [
    "#### Loading 2D grid properties"
   ]
  },
  {
   "cell_type": "code",
   "execution_count": 6,
   "metadata": {},
   "outputs": [],
   "source": [
    "with open('data/regular_grid.pickle') as f:\n",
    "        regular = pickle.load(f)"
   ]
  },
  {
   "cell_type": "code",
   "execution_count": 7,
   "metadata": {},
   "outputs": [],
   "source": [
    "with open('data/airborne_survey.pickle') as f:\n",
    "        airborne = pickle.load(f)"
   ]
  },
  {
   "cell_type": "markdown",
   "metadata": {},
   "source": [
    "#### List of saved files"
   ]
  },
  {
   "cell_type": "code",
   "execution_count": 8,
   "metadata": {},
   "outputs": [],
   "source": [
    "saved_files = []"
   ]
  },
  {
   "cell_type": "markdown",
   "metadata": {},
   "source": [
    "### Observation area"
   ]
  },
  {
   "cell_type": "code",
   "execution_count": 9,
   "metadata": {},
   "outputs": [
    {
     "name": "stdout",
     "output_type": "stream",
     "text": [
      "Area limits: \n",
      " x_max = 6000.0 m \n",
      " x_min = -6000.0 m \n",
      " y_max = 6000.0 m \n",
      " y_min = -6000.0 m\n"
     ]
    }
   ],
   "source": [
    "print 'Area limits: \\n x_max = %.1f m \\n x_min = %.1f m \\n y_max = %.1f m \\n y_min = %.1f m' % (regular['area'][1], regular['area'][0],regular['area'][3],regular['area'][2])"
   ]
  },
  {
   "cell_type": "markdown",
   "metadata": {},
   "source": [
    "## Regional Field"
   ]
  },
  {
   "cell_type": "code",
   "execution_count": 10,
   "metadata": {},
   "outputs": [],
   "source": [
    "inc_gf , dec_gf = (40.,45.) "
   ]
  },
  {
   "cell_type": "markdown",
   "metadata": {},
   "source": [
    "## Create a model w/ the presence of Remanence Magnetization "
   ]
  },
  {
   "cell_type": "code",
   "execution_count": 11,
   "metadata": {},
   "outputs": [],
   "source": [
    "model_poly_remanent = dict()"
   ]
  },
  {
   "cell_type": "markdown",
   "metadata": {},
   "source": [
    "#### Vertices of a Polygonal prism"
   ]
  },
  {
   "cell_type": "code",
   "execution_count": 12,
   "metadata": {},
   "outputs": [],
   "source": [
    "model_poly_remanent['x_verts'] = [1000.,1000.,300.,0.,-1000.,-1000.,1000.]"
   ]
  },
  {
   "cell_type": "code",
   "execution_count": 13,
   "metadata": {},
   "outputs": [],
   "source": [
    "model_poly_remanent['y_verts'] = [-1000.,0.,300.,2000.,2000.,-1000.,-1000.]"
   ]
  },
  {
   "cell_type": "code",
   "execution_count": 14,
   "metadata": {},
   "outputs": [],
   "source": [
    "model_poly_remanent['z_top'] = 800."
   ]
  },
  {
   "cell_type": "code",
   "execution_count": 15,
   "metadata": {},
   "outputs": [],
   "source": [
    "model_poly_remanent['z_bottom'] = 3000."
   ]
  },
  {
   "cell_type": "code",
   "execution_count": 16,
   "metadata": {},
   "outputs": [],
   "source": [
    "model_poly_remanent['verts'] = zip(model_poly_remanent['x_verts'],\n",
    "                                   model_poly_remanent['y_verts'] )"
   ]
  },
  {
   "cell_type": "markdown",
   "metadata": {},
   "source": [
    "#### Main field"
   ]
  },
  {
   "cell_type": "code",
   "execution_count": 17,
   "metadata": {},
   "outputs": [],
   "source": [
    "model_poly_remanent['main_field'] = (inc_gf,dec_gf)"
   ]
  },
  {
   "cell_type": "markdown",
   "metadata": {},
   "source": [
    "#### Magnetization of a PolyPrism"
   ]
  },
  {
   "cell_type": "code",
   "execution_count": 18,
   "metadata": {},
   "outputs": [],
   "source": [
    "model_poly_remanent['m_R'] = 5.\n",
    "model_poly_remanent['inc_R'] = 70.\n",
    "model_poly_remanent['dec_R'] = 30.\n",
    "\n",
    "mag_tot_R = ang2vec(model_poly_remanent['m_R'],\n",
    "                  model_poly_remanent['inc_R'],\n",
    "                  model_poly_remanent['dec_R'])\n",
    "\n",
    "model_poly_remanent['magnetization'] = mag_tot_R"
   ]
  },
  {
   "cell_type": "code",
   "execution_count": 19,
   "metadata": {},
   "outputs": [],
   "source": [
    "model_poly_remanent['magnetization_sph_coord'] = vec2ang(mag_tot_R)"
   ]
  },
  {
   "cell_type": "markdown",
   "metadata": {},
   "source": [
    "### Creating a polyprism model"
   ]
  },
  {
   "cell_type": "code",
   "execution_count": 20,
   "metadata": {},
   "outputs": [],
   "source": [
    "model_poly_remanent['model'] = [PolygonalPrism(model_poly_remanent['verts'],\n",
    "                                              model_poly_remanent['z_top'],\n",
    "                                              model_poly_remanent['z_bottom'],\n",
    "                                              {'magnetization':mag_tot_R})]"
   ]
  },
  {
   "cell_type": "markdown",
   "metadata": {},
   "source": [
    "#### Generating .pickle file"
   ]
  },
  {
   "cell_type": "code",
   "execution_count": 21,
   "metadata": {},
   "outputs": [],
   "source": [
    "now = datetime.datetime.utcnow().strftime('%d %B %Y %H:%M:%S UTC')\n",
    "model_poly_remanent['metadata'] = 'Generated by {name} on {date}'.format(date=now, name=notebook_name)"
   ]
  },
  {
   "cell_type": "code",
   "execution_count": 22,
   "metadata": {},
   "outputs": [],
   "source": [
    "file_name = 'data/model_poly_remanent.pickle'\n",
    "with open(file_name, 'w') as f:\n",
    "    pickle.dump(model_poly_remanent, f)\n",
    "    \n",
    "saved_files.append(file_name)"
   ]
  },
  {
   "cell_type": "code",
   "execution_count": 23,
   "metadata": {},
   "outputs": [
    {
     "name": "stdout",
     "output_type": "stream",
     "text": [
      "magnetization_sph_coord : [5.0, 70.0, 29.999999999999996]\n",
      "y_verts : [-1000.0, 0.0, 300.0, 2000.0, 2000.0, -1000.0, -1000.0]\n",
      "x_verts : [1000.0, 1000.0, 300.0, 0.0, -1000.0, -1000.0, 1000.0]\n",
      "main_field : (40.0, 45.0)\n",
      "dec_R : 30.0\n",
      "magnetization : [ 1.48099066  0.85505036  4.6984631 ]\n",
      "verts : [(1000.0, -1000.0), (1000.0, 0.0), (300.0, 300.0), (0.0, 2000.0), (-1000.0, 2000.0), (-1000.0, -1000.0), (1000.0, -1000.0)]\n",
      "inc_R : 70.0\n",
      "m_R : 5.0\n",
      "model : [<fatiando.mesher.PolygonalPrism object at 0x7f3fd55fb310>]\n",
      "z_top : 800.0\n",
      "z_bottom : 3000.0\n",
      "metadata : Generated by synthetic_model.ipynb on 26 February 2019 22:38:40 UTC\n"
     ]
    }
   ],
   "source": [
    "for r in model_poly_remanent:\n",
    "    print r, ':', model_poly_remanent[r]"
   ]
  },
  {
   "cell_type": "markdown",
   "metadata": {},
   "source": [
    "## Create a simple model w/ Induced Magnetization in a Polyprism"
   ]
  },
  {
   "cell_type": "code",
   "execution_count": 24,
   "metadata": {},
   "outputs": [],
   "source": [
    "model_poly_induced = dict()"
   ]
  },
  {
   "cell_type": "markdown",
   "metadata": {},
   "source": [
    "### Main field"
   ]
  },
  {
   "cell_type": "code",
   "execution_count": 25,
   "metadata": {},
   "outputs": [],
   "source": [
    "model_poly_induced['main_field'] = (inc_gf,dec_gf)"
   ]
  },
  {
   "cell_type": "markdown",
   "metadata": {},
   "source": [
    "#### Vertices of a Polygonal prism"
   ]
  },
  {
   "cell_type": "code",
   "execution_count": 26,
   "metadata": {},
   "outputs": [],
   "source": [
    "model_poly_induced['x_verts'] = [1000.,1000.,300.,0.,-1000.,-1000.,1000.]"
   ]
  },
  {
   "cell_type": "code",
   "execution_count": 27,
   "metadata": {},
   "outputs": [],
   "source": [
    "model_poly_induced['y_verts'] = [-1000.,0.,300.,2000.,2000.,-1000.,-1000.]"
   ]
  },
  {
   "cell_type": "code",
   "execution_count": 28,
   "metadata": {},
   "outputs": [],
   "source": [
    "model_poly_induced['z_top'] = 800."
   ]
  },
  {
   "cell_type": "code",
   "execution_count": 29,
   "metadata": {},
   "outputs": [],
   "source": [
    "model_poly_induced['z_bottom'] = 3000."
   ]
  },
  {
   "cell_type": "code",
   "execution_count": 30,
   "metadata": {},
   "outputs": [],
   "source": [
    "model_poly_induced['verts'] = zip(model_poly_induced['x_verts'],\n",
    "                                   model_poly_induced['y_verts'] )"
   ]
  },
  {
   "cell_type": "markdown",
   "metadata": {},
   "source": [
    "### Magnetization direction"
   ]
  },
  {
   "cell_type": "code",
   "execution_count": 31,
   "metadata": {},
   "outputs": [],
   "source": [
    "model_poly_induced['m_I'] = 5.\n",
    "model_poly_induced['inc_I'] = inc_gf\n",
    "model_poly_induced['dec_I'] = dec_gf\n",
    "\n",
    "mag_tot_I = ang2vec(model_poly_induced['m_I'],\n",
    "                    model_poly_induced['inc_I'],\n",
    "                    model_poly_induced['dec_I'])\n",
    "\n",
    "model_poly_induced['magnetization'] = mag_tot_I"
   ]
  },
  {
   "cell_type": "code",
   "execution_count": 32,
   "metadata": {},
   "outputs": [],
   "source": [
    "model_poly_induced['magnetization_sph_coord'] = vec2ang(mag_tot_I)"
   ]
  },
  {
   "cell_type": "markdown",
   "metadata": {},
   "source": [
    "#### Creating the model"
   ]
  },
  {
   "cell_type": "code",
   "execution_count": 33,
   "metadata": {},
   "outputs": [],
   "source": [
    "model_poly_induced['model'] = [PolygonalPrism(model_poly_induced['verts'],\n",
    "                                              model_poly_induced['z_top'],\n",
    "                                              model_poly_induced['z_bottom'],\n",
    "                                              {'magnetization':mag_tot_I})]"
   ]
  },
  {
   "cell_type": "markdown",
   "metadata": {},
   "source": [
    "#### Generating a .pickle file"
   ]
  },
  {
   "cell_type": "code",
   "execution_count": 34,
   "metadata": {},
   "outputs": [],
   "source": [
    "now = datetime.datetime.utcnow().strftime('%d %B %Y %H:%M:%S UTC')\n",
    "model_poly_induced['metadata'] = 'Generated by {name} on {date}'.format(date=now, name=notebook_name)"
   ]
  },
  {
   "cell_type": "code",
   "execution_count": 35,
   "metadata": {},
   "outputs": [],
   "source": [
    "file_name = 'data/model_poly_induced.pickle'\n",
    "with open(file_name, 'w') as f:\n",
    "    pickle.dump(model_poly_induced, f)\n",
    "    \n",
    "saved_files.append(file_name)"
   ]
  },
  {
   "cell_type": "code",
   "execution_count": 36,
   "metadata": {},
   "outputs": [
    {
     "name": "stdout",
     "output_type": "stream",
     "text": [
      "magnetization_sph_coord : [5.0, 39.999999999999993, 45.0]\n",
      "m_I : 5.0\n",
      "y_verts : [-1000.0, 0.0, 300.0, 2000.0, 2000.0, -1000.0, -1000.0]\n",
      "x_verts : [1000.0, 1000.0, 300.0, 0.0, -1000.0, -1000.0, 1000.0]\n",
      "dec_I : 45.0\n",
      "main_field : (40.0, 45.0)\n",
      "inc_I : 40.0\n",
      "magnetization : [ 2.7083761   2.7083761   3.21393805]\n",
      "verts : [(1000.0, -1000.0), (1000.0, 0.0), (300.0, 300.0), (0.0, 2000.0), (-1000.0, 2000.0), (-1000.0, -1000.0), (1000.0, -1000.0)]\n",
      "model : [<fatiando.mesher.PolygonalPrism object at 0x7f3fd55fb210>]\n",
      "z_top : 800.0\n",
      "z_bottom : 3000.0\n",
      "metadata : Generated by synthetic_model.ipynb on 26 February 2019 22:38:41 UTC\n"
     ]
    }
   ],
   "source": [
    "for r in model_poly_induced:\n",
    "    print r, ':', model_poly_induced[r]"
   ]
  },
  {
   "cell_type": "markdown",
   "metadata": {},
   "source": [
    "## Visualization of prism limits"
   ]
  },
  {
   "cell_type": "code",
   "execution_count": 37,
   "metadata": {},
   "outputs": [
    {
     "name": "stderr",
     "output_type": "stream",
     "text": [
      "/home/andrelreis/anaconda2/lib/python2.7/site-packages/matplotlib/figure.py:1744: UserWarning: This figure includes Axes that are not compatible with tight_layout, so its results might be incorrect.\n",
      "  warnings.warn(\"This figure includes Axes that are not \"\n"
     ]
    },
    {
     "data": {
      "image/png": "[encoded data removed]",
      "text/plain": [
       "<matplotlib.figure.Figure at 0x7f3fd56120d0>"
      ]
     },
     "metadata": {},
     "output_type": "display_data"
    }
   ],
   "source": [
    "title_font = 20\n",
    "bottom_font = 16\n",
    "saturation_factor = 1.\n",
    "plt.close('all')\n",
    "plt.figure(figsize=(7,7), tight_layout=True)\n",
    "\n",
    "plt.title('Prism Bounds',fontsize=title_font)\n",
    "plt.plot(model_poly_remanent['y_verts'], model_poly_remanent['x_verts'],\n",
    "         color='k',linestyle='-',linewidth=2)\n",
    "#plt.plot(regular['y'], regular['x'],'k.')\n",
    "plt.xlabel('y (m)', fontsize = title_font)\n",
    "plt.ylabel('x (m)', fontsize = title_font)\n",
    "plt.ylim(np.min(regular['x']),np.max(regular['x']))\n",
    "plt.xlim(np.min(regular['y']),np.max(regular['y']))\n",
    "\n",
    "\n",
    "file_name = 'figs/prism_bound'\n",
    "plt.savefig(file_name+'.png',dpi=200)\n",
    "saved_files.append(file_name+'.png')\n",
    "\n",
    "plt.savefig(file_name+'.eps',dpi=200)\n",
    "saved_files.append(file_name+'.eps')\n",
    "\n",
    "\n",
    "\n",
    "plt.show()"
   ]
  },
  {
   "cell_type": "markdown",
   "metadata": {},
   "source": [
    "## 3D visualization"
   ]
  },
  {
   "cell_type": "code",
   "execution_count": 38,
   "metadata": {},
   "outputs": [],
   "source": [
    "x_verts = 1e-3*np.array(model_poly_remanent['x_verts'])\n",
    "y_verts = 1e-3*np.array(model_poly_remanent['y_verts'])\n",
    "z_top = 1e-3*model_poly_remanent['z_top']*np.ones_like(model_poly_remanent['x_verts'])\n",
    "z_bottom = 1e-3*model_poly_remanent['z_bottom']*np.ones_like(model_poly_remanent['x_verts'])"
   ]
  },
  {
   "cell_type": "code",
   "execution_count": 39,
   "metadata": {},
   "outputs": [],
   "source": [
    "x_max = 1e-3*6000.0  \n",
    "x_min = -1e-3*6000.0  \n",
    "y_max = 1e-3*6000.0 \n",
    "y_min = -1e-3*6000.0"
   ]
  },
  {
   "cell_type": "code",
   "execution_count": 40,
   "metadata": {},
   "outputs": [],
   "source": [
    "verts_c = [list(zip(x_verts,y_verts,z_top)),\n",
    "           list(zip(x_verts,y_verts,z_bottom))]"
   ]
  },
  {
   "cell_type": "code",
   "execution_count": 41,
   "metadata": {},
   "outputs": [],
   "source": [
    "verts_s = []\n",
    "for i,j in zip(x_verts,y_verts):\n",
    "    verts_s.append([(i,j,z_top[0]),(i,j,z_bottom[0])])   "
   ]
  },
  {
   "cell_type": "code",
   "execution_count": 42,
   "metadata": {},
   "outputs": [
    {
     "data": {
      "application/javascript": [
       "/* Put everything inside the global mpl namespace */\n",
       "window.mpl = {};\n",
       "\n",
       "mpl.get_websocket_type = function() {\n",
       "    if (typeof(WebSocket) !== 'undefined') {\n",
       "        return WebSocket;\n",
       "    } else if (typeof(MozWebSocket) !== 'undefined') {\n",
       "        return MozWebSocket;\n",
       "    } else {\n",
       "        alert('Your browser does not have WebSocket support.' +\n",
       "              'Please try Chrome, Safari or Firefox ≥ 6. ' +\n",
       "              'Firefox 4 and 5 are also supported but you ' +\n",
       "              'have to enable WebSockets in about:config.');\n",
       "    };\n",
       "}\n",
       "\n",
       "mpl.figure = function(figure_id, websocket, ondownload, parent_element) {\n",
       "    this.id = figure_id;\n",
       "\n",
       "    this.ws = websocket;\n",
       "\n",
       "    this.supports_binary = (this.ws.binaryType != undefined);\n",
       "\n",
       "    if (!this.supports_binary) {\n",
       "        var warnings = document.getElementById(\"mpl-warnings\");\n",
       "        if (warnings) {\n",
       "            warnings.style.display = 'block';\n",
       "            warnings.textContent = (\n",
       "                \"This browser does not support binary websocket messages. \" +\n",
       "                    \"Performance may be slow.\");\n",
       "        }\n",
       "    }\n",
       "\n",
       "    this.imageObj = new Image();\n",
       "\n",
       "    this.context = undefined;\n",
       "    this.message = undefined;\n",
       "    this.canvas = undefined;\n",
       "    this.rubberband_canvas = undefined;\n",
       "    this.rubberband_context = undefined;\n",
       "    this.format_dropdown = undefined;\n",
       "\n",
       "    this.image_mode = 'full';\n",
       "\n",
       "    this.root = $('<div/>');\n",
       "    this._root_extra_style(this.root)\n",
       "    this.root.attr('style', 'display: inline-block');\n",
       "\n",
       "    $(parent_element).append(this.root);\n",
       "\n",
       "    this._init_header(this);\n",
       "    this._init_canvas(this);\n",
       "    this._init_toolbar(this);\n",
       "\n",
       "    var fig = this;\n",
       "\n",
       "    this.waiting = false;\n",
       "\n",
       "    this.ws.onopen =  function () {\n",
       "            fig.send_message(\"supports_binary\", {value: fig.supports_binary});\n",
       "            fig.send_message(\"send_image_mode\", {});\n",
       "            fig.send_message(\"refresh\", {});\n",
       "        }\n",
       "\n",
       "    this.imageObj.onload = function() {\n",
       "            if (fig.image_mode == 'full') {\n",
       "                // Full images could contain transparency (where diff images\n",
       "                // almost always do), so we need to clear the canvas so that\n",
       "                // there is no ghosting.\n",
       "                fig.context.clearRect(0, 0, fig.canvas.width, fig.canvas.height);\n",
       "            }\n",
       "            fig.context.drawImage(fig.imageObj, 0, 0);\n",
       "        };\n",
       "\n",
       "    this.imageObj.onunload = function() {\n",
       "        this.ws.close();\n",
       "    }\n",
       "\n",
       "    this.ws.onmessage = this._make_on_message_function(this);\n",
       "\n",
       "    this.ondownload = ondownload;\n",
       "}\n",
       "\n",
       "mpl.figure.prototype._init_header = function() {\n",
       "    var titlebar = $(\n",
       "        '<div class=\"ui-dialog-titlebar ui-widget-header ui-corner-all ' +\n",
       "        'ui-helper-clearfix\"/>');\n",
       "    var titletext = $(\n",
       "        '<div class=\"ui-dialog-title\" style=\"width: 100%; ' +\n",
       "        'text-align: center; padding: 3px;\"/>');\n",
       "    titlebar.append(titletext)\n",
       "    this.root.append(titlebar);\n",
       "    this.header = titletext[0];\n",
       "}\n",
       "\n",
       "\n",
       "\n",
       "mpl.figure.prototype._canvas_extra_style = function(canvas_div) {\n",
       "\n",
       "}\n",
       "\n",
       "\n",
       "mpl.figure.prototype._root_extra_style = function(canvas_div) {\n",
       "\n",
       "}\n",
       "\n",
       "mpl.figure.prototype._init_canvas = function() {\n",
       "    var fig = this;\n",
       "\n",
       "    var canvas_div = $('<div/>');\n",
       "\n",
       "    canvas_div.attr('style', 'position: relative; clear: both; outline: 0');\n",
       "\n",
       "    function canvas_keyboard_event(event) {\n",
       "        return fig.key_event(event, event['data']);\n",
       "    }\n",
       "\n",
       "    canvas_div.keydown('key_press', canvas_keyboard_event);\n",
       "    canvas_div.keyup('key_release', canvas_keyboard_event);\n",
       "    this.canvas_div = canvas_div\n",
       "    this._canvas_extra_style(canvas_div)\n",
       "    this.root.append(canvas_div);\n",
       "\n",
       "    var canvas = $('<canvas/>');\n",
       "    canvas.addClass('mpl-canvas');\n",
       "    canvas.attr('style', \"left: 0; top: 0; z-index: 0; outline: 0\")\n",
       "\n",
       "    this.canvas = canvas[0];\n",
       "    this.context = canvas[0].getContext(\"2d\");\n",
       "\n",
       "    var rubberband = $('<canvas/>');\n",
       "    rubberband.attr('style', \"position: absolute; left: 0; top: 0; z-index: 1;\")\n",
       "\n",
       "    var pass_mouse_events = true;\n",
       "\n",
       "    canvas_div.resizable({\n",
       "        start: function(event, ui) {\n",
       "            pass_mouse_events = false;\n",
       "        },\n",
       "        resize: function(event, ui) {\n",
       "            fig.request_resize(ui.size.width, ui.size.height);\n",
       "        },\n",
       "        stop: function(event, ui) {\n",
       "            pass_mouse_events = true;\n",
       "            fig.request_resize(ui.size.width, ui.size.height);\n",
       "        },\n",
       "    });\n",
       "\n",
       "    function mouse_event_fn(event) {\n",
       "        if (pass_mouse_events)\n",
       "            return fig.mouse_event(event, event['data']);\n",
       "    }\n",
       "\n",
       "    rubberband.mousedown('button_press', mouse_event_fn);\n",
       "    rubberband.mouseup('button_release', mouse_event_fn);\n",
       "    // Throttle sequential mouse events to 1 every 20ms.\n",
       "    rubberband.mousemove('motion_notify', mouse_event_fn);\n",
       "\n",
       "    rubberband.mouseenter('figure_enter', mouse_event_fn);\n",
       "    rubberband.mouseleave('figure_leave', mouse_event_fn);\n",
       "\n",
       "    canvas_div.on(\"wheel\", function (event) {\n",
       "        event = event.originalEvent;\n",
       "        event['data'] = 'scroll'\n",
       "        if (event.deltaY < 0) {\n",
       "            event.step = 1;\n",
       "        } else {\n",
       "            event.step = -1;\n",
       "        }\n",
       "        mouse_event_fn(event);\n",
       "    });\n",
       "\n",
       "    canvas_div.append(canvas);\n",
       "    canvas_div.append(rubberband);\n",
       "\n",
       "    this.rubberband = rubberband;\n",
       "    this.rubberband_canvas = rubberband[0];\n",
       "    this.rubberband_context = rubberband[0].getContext(\"2d\");\n",
       "    this.rubberband_context.strokeStyle = \"#000000\";\n",
       "\n",
       "    this._resize_canvas = function(width, height) {\n",
       "        // Keep the size of the canvas, canvas container, and rubber band\n",
       "        // canvas in synch.\n",
       "        canvas_div.css('width', width)\n",
       "        canvas_div.css('height', height)\n",
       "\n",
       "        canvas.attr('width', width);\n",
       "        canvas.attr('height', height);\n",
       "\n",
       "        rubberband.attr('width', width);\n",
       "        rubberband.attr('height', height);\n",
       "    }\n",
       "\n",
       "    // Set the figure to an initial 600x600px, this will subsequently be updated\n",
       "    // upon first draw.\n",
       "    this._resize_canvas(600, 600);\n",
       "\n",
       "    // Disable right mouse context menu.\n",
       "    $(this.rubberband_canvas).bind(\"contextmenu\",function(e){\n",
       "        return false;\n",
       "    });\n",
       "\n",
       "    function set_focus () {\n",
       "        canvas.focus();\n",
       "        canvas_div.focus();\n",
       "    }\n",
       "\n",
       "    window.setTimeout(set_focus, 100);\n",
       "}\n",
       "\n",
       "mpl.figure.prototype._init_toolbar = function() {\n",
       "    var fig = this;\n",
       "\n",
       "    var nav_element = $('<div/>')\n",
       "    nav_element.attr('style', 'width: 100%');\n",
       "    this.root.append(nav_element);\n",
       "\n",
       "    // Define a callback function for later on.\n",
       "    function toolbar_event(event) {\n",
       "        return fig.toolbar_button_onclick(event['data']);\n",
       "    }\n",
       "    function toolbar_mouse_event(event) {\n",
       "        return fig.toolbar_button_onmouseover(event['data']);\n",
       "    }\n",
       "\n",
       "    for(var toolbar_ind in mpl.toolbar_items) {\n",
       "        var name = mpl.toolbar_items[toolbar_ind][0];\n",
       "        var tooltip = mpl.toolbar_items[toolbar_ind][1];\n",
       "        var image = mpl.toolbar_items[toolbar_ind][2];\n",
       "        var method_name = mpl.toolbar_items[toolbar_ind][3];\n",
       "\n",
       "        if (!name) {\n",
       "            // put a spacer in here.\n",
       "            continue;\n",
       "        }\n",
       "        var button = $('<button/>');\n",
       "        button.addClass('ui-button ui-widget ui-state-default ui-corner-all ' +\n",
       "                        'ui-button-icon-only');\n",
       "        button.attr('role', 'button');\n",
       "        button.attr('aria-disabled', 'false');\n",
       "        button.click(method_name, toolbar_event);\n",
       "        button.mouseover(tooltip, toolbar_mouse_event);\n",
       "\n",
       "        var icon_img = $('<span/>');\n",
       "        icon_img.addClass('ui-button-icon-primary ui-icon');\n",
       "        icon_img.addClass(image);\n",
       "        icon_img.addClass('ui-corner-all');\n",
       "\n",
       "        var tooltip_span = $('<span/>');\n",
       "        tooltip_span.addClass('ui-button-text');\n",
       "        tooltip_span.html(tooltip);\n",
       "\n",
       "        button.append(icon_img);\n",
       "        button.append(tooltip_span);\n",
       "\n",
       "        nav_element.append(button);\n",
       "    }\n",
       "\n",
       "    var fmt_picker_span = $('<span/>');\n",
       "\n",
       "    var fmt_picker = $('<select/>');\n",
       "    fmt_picker.addClass('mpl-toolbar-option ui-widget ui-widget-content');\n",
       "    fmt_picker_span.append(fmt_picker);\n",
       "    nav_element.append(fmt_picker_span);\n",
       "    this.format_dropdown = fmt_picker[0];\n",
       "\n",
       "    for (var ind in mpl.extensions) {\n",
       "        var fmt = mpl.extensions[ind];\n",
       "        var option = $(\n",
       "            '<option/>', {selected: fmt === mpl.default_extension}).html(fmt);\n",
       "        fmt_picker.append(option)\n",
       "    }\n",
       "\n",
       "    // Add hover states to the ui-buttons\n",
       "    $( \".ui-button\" ).hover(\n",
       "        function() { $(this).addClass(\"ui-state-hover\");},\n",
       "        function() { $(this).removeClass(\"ui-state-hover\");}\n",
       "    );\n",
       "\n",
       "    var status_bar = $('<span class=\"mpl-message\"/>');\n",
       "    nav_element.append(status_bar);\n",
       "    this.message = status_bar[0];\n",
       "}\n",
       "\n",
       "mpl.figure.prototype.request_resize = function(x_pixels, y_pixels) {\n",
       "    // Request matplotlib to resize the figure. Matplotlib will then trigger a resize in the client,\n",
       "    // which will in turn request a refresh of the image.\n",
       "    this.send_message('resize', {'width': x_pixels, 'height': y_pixels});\n",
       "}\n",
       "\n",
       "mpl.figure.prototype.send_message = function(type, properties) {\n",
       "    properties['type'] = type;\n",
       "    properties['figure_id'] = this.id;\n",
       "    this.ws.send(JSON.stringify(properties));\n",
       "}\n",
       "\n",
       "mpl.figure.prototype.send_draw_message = function() {\n",
       "    if (!this.waiting) {\n",
       "        this.waiting = true;\n",
       "        this.ws.send(JSON.stringify({type: \"draw\", figure_id: this.id}));\n",
       "    }\n",
       "}\n",
       "\n",
       "\n",
       "mpl.figure.prototype.handle_save = function(fig, msg) {\n",
       "    var format_dropdown = fig.format_dropdown;\n",
       "    var format = format_dropdown.options[format_dropdown.selectedIndex].value;\n",
       "    fig.ondownload(fig, format);\n",
       "}\n",
       "\n",
       "\n",
       "mpl.figure.prototype.handle_resize = function(fig, msg) {\n",
       "    var size = msg['size'];\n",
       "    if (size[0] != fig.canvas.width || size[1] != fig.canvas.height) {\n",
       "        fig._resize_canvas(size[0], size[1]);\n",
       "        fig.send_message(\"refresh\", {});\n",
       "    };\n",
       "}\n",
       "\n",
       "mpl.figure.prototype.handle_rubberband = function(fig, msg) {\n",
       "    var x0 = msg['x0'];\n",
       "    var y0 = fig.canvas.height - msg['y0'];\n",
       "    var x1 = msg['x1'];\n",
       "    var y1 = fig.canvas.height - msg['y1'];\n",
       "    x0 = Math.floor(x0) + 0.5;\n",
       "    y0 = Math.floor(y0) + 0.5;\n",
       "    x1 = Math.floor(x1) + 0.5;\n",
       "    y1 = Math.floor(y1) + 0.5;\n",
       "    var min_x = Math.min(x0, x1);\n",
       "    var min_y = Math.min(y0, y1);\n",
       "    var width = Math.abs(x1 - x0);\n",
       "    var height = Math.abs(y1 - y0);\n",
       "\n",
       "    fig.rubberband_context.clearRect(\n",
       "        0, 0, fig.canvas.width, fig.canvas.height);\n",
       "\n",
       "    fig.rubberband_context.strokeRect(min_x, min_y, width, height);\n",
       "}\n",
       "\n",
       "mpl.figure.prototype.handle_figure_label = function(fig, msg) {\n",
       "    // Updates the figure title.\n",
       "    fig.header.textContent = msg['label'];\n",
       "}\n",
       "\n",
       "mpl.figure.prototype.handle_cursor = function(fig, msg) {\n",
       "    var cursor = msg['cursor'];\n",
       "    switch(cursor)\n",
       "    {\n",
       "    case 0:\n",
       "        cursor = 'pointer';\n",
       "        break;\n",
       "    case 1:\n",
       "        cursor = 'default';\n",
       "        break;\n",
       "    case 2:\n",
       "        cursor = 'crosshair';\n",
       "        break;\n",
       "    case 3:\n",
       "        cursor = 'move';\n",
       "        break;\n",
       "    }\n",
       "    fig.rubberband_canvas.style.cursor = cursor;\n",
       "}\n",
       "\n",
       "mpl.figure.prototype.handle_message = function(fig, msg) {\n",
       "    fig.message.textContent = msg['message'];\n",
       "}\n",
       "\n",
       "mpl.figure.prototype.handle_draw = function(fig, msg) {\n",
       "    // Request the server to send over a new figure.\n",
       "    fig.send_draw_message();\n",
       "}\n",
       "\n",
       "mpl.figure.prototype.handle_image_mode = function(fig, msg) {\n",
       "    fig.image_mode = msg['mode'];\n",
       "}\n",
       "\n",
       "mpl.figure.prototype.updated_canvas_event = function() {\n",
       "    // Called whenever the canvas gets updated.\n",
       "    this.send_message(\"ack\", {});\n",
       "}\n",
       "\n",
       "// A function to construct a web socket function for onmessage handling.\n",
       "// Called in the figure constructor.\n",
       "mpl.figure.prototype._make_on_message_function = function(fig) {\n",
       "    return function socket_on_message(evt) {\n",
       "        if (evt.data instanceof Blob) {\n",
       "            /* FIXME: We get \"Resource interpreted as Image but\n",
       "             * transferred with MIME type text/plain:\" errors on\n",
       "             * Chrome.  But how to set the MIME type?  It doesn't seem\n",
       "             * to be part of the websocket stream */\n",
       "            evt.data.type = \"image/png\";\n",
       "\n",
       "            /* Free the memory for the previous frames */\n",
       "            if (fig.imageObj.src) {\n",
       "                (window.URL || window.webkitURL).revokeObjectURL(\n",
       "                    fig.imageObj.src);\n",
       "            }\n",
       "\n",
       "            fig.imageObj.src = (window.URL || window.webkitURL).createObjectURL(\n",
       "                evt.data);\n",
       "            fig.updated_canvas_event();\n",
       "            fig.waiting = false;\n",
       "            return;\n",
       "        }\n",
       "        else if (typeof evt.data === 'string' && evt.data.slice(0, 21) == \"data:image/png;base64\") {\n",
       "            fig.imageObj.src = evt.data;\n",
       "            fig.updated_canvas_event();\n",
       "            fig.waiting = false;\n",
       "            return;\n",
       "        }\n",
       "\n",
       "        var msg = JSON.parse(evt.data);\n",
       "        var msg_type = msg['type'];\n",
       "\n",
       "        // Call the  \"handle_{type}\" callback, which takes\n",
       "        // the figure and JSON message as its only arguments.\n",
       "        try {\n",
       "            var callback = fig[\"handle_\" + msg_type];\n",
       "        } catch (e) {\n",
       "            console.log(\"No handler for the '\" + msg_type + \"' message type: \", msg);\n",
       "            return;\n",
       "        }\n",
       "\n",
       "        if (callback) {\n",
       "            try {\n",
       "                // console.log(\"Handling '\" + msg_type + \"' message: \", msg);\n",
       "                callback(fig, msg);\n",
       "            } catch (e) {\n",
       "                console.log(\"Exception inside the 'handler_\" + msg_type + \"' callback:\", e, e.stack, msg);\n",
       "            }\n",
       "        }\n",
       "    };\n",
       "}\n",
       "\n",
       "// from http://stackoverflow.com/questions/1114465/getting-mouse-location-in-canvas\n",
       "mpl.findpos = function(e) {\n",
       "    //this section is from http://www.quirksmode.org/js/events_properties.html\n",
       "    var targ;\n",
       "    if (!e)\n",
       "        e = window.event;\n",
       "    if (e.target)\n",
       "        targ = e.target;\n",
       "    else if (e.srcElement)\n",
       "        targ = e.srcElement;\n",
       "    if (targ.nodeType == 3) // defeat Safari bug\n",
       "        targ = targ.parentNode;\n",
       "\n",
       "    // jQuery normalizes the pageX and pageY\n",
       "    // pageX,Y are the mouse positions relative to the document\n",
       "    // offset() returns the position of the element relative to the document\n",
       "    var x = e.pageX - $(targ).offset().left;\n",
       "    var y = e.pageY - $(targ).offset().top;\n",
       "\n",
       "    return {\"x\": x, \"y\": y};\n",
       "};\n",
       "\n",
       "/*\n",
       " * return a copy of an object with only non-object keys\n",
       " * we need this to avoid circular references\n",
       " * http://stackoverflow.com/a/24161582/3208463\n",
       " */\n",
       "function simpleKeys (original) {\n",
       "  return Object.keys(original).reduce(function (obj, key) {\n",
       "    if (typeof original[key] !== 'object')\n",
       "        obj[key] = original[key]\n",
       "    return obj;\n",
       "  }, {});\n",
       "}\n",
       "\n",
       "mpl.figure.prototype.mouse_event = function(event, name) {\n",
       "    var canvas_pos = mpl.findpos(event)\n",
       "\n",
       "    if (name === 'button_press')\n",
       "    {\n",
       "        this.canvas.focus();\n",
       "        this.canvas_div.focus();\n",
       "    }\n",
       "\n",
       "    var x = canvas_pos.x;\n",
       "    var y = canvas_pos.y;\n",
       "\n",
       "    this.send_message(name, {x: x, y: y, button: event.button,\n",
       "                             step: event.step,\n",
       "                             guiEvent: simpleKeys(event)});\n",
       "\n",
       "    /* This prevents the web browser from automatically changing to\n",
       "     * the text insertion cursor when the button is pressed.  We want\n",
       "     * to control all of the cursor setting manually through the\n",
       "     * 'cursor' event from matplotlib */\n",
       "    event.preventDefault();\n",
       "    return false;\n",
       "}\n",
       "\n",
       "mpl.figure.prototype._key_event_extra = function(event, name) {\n",
       "    // Handle any extra behaviour associated with a key event\n",
       "}\n",
       "\n",
       "mpl.figure.prototype.key_event = function(event, name) {\n",
       "\n",
       "    // Prevent repeat events\n",
       "    if (name == 'key_press')\n",
       "    {\n",
       "        if (event.which === this._key)\n",
       "            return;\n",
       "        else\n",
       "            this._key = event.which;\n",
       "    }\n",
       "    if (name == 'key_release')\n",
       "        this._key = null;\n",
       "\n",
       "    var value = '';\n",
       "    if (event.ctrlKey && event.which != 17)\n",
       "        value += \"ctrl+\";\n",
       "    if (event.altKey && event.which != 18)\n",
       "        value += \"alt+\";\n",
       "    if (event.shiftKey && event.which != 16)\n",
       "        value += \"shift+\";\n",
       "\n",
       "    value += 'k';\n",
       "    value += event.which.toString();\n",
       "\n",
       "    this._key_event_extra(event, name);\n",
       "\n",
       "    this.send_message(name, {key: value,\n",
       "                             guiEvent: simpleKeys(event)});\n",
       "    return false;\n",
       "}\n",
       "\n",
       "mpl.figure.prototype.toolbar_button_onclick = function(name) {\n",
       "    if (name == 'download') {\n",
       "        this.handle_save(this, null);\n",
       "    } else {\n",
       "        this.send_message(\"toolbar_button\", {name: name});\n",
       "    }\n",
       "};\n",
       "\n",
       "mpl.figure.prototype.toolbar_button_onmouseover = function(tooltip) {\n",
       "    this.message.textContent = tooltip;\n",
       "};\n",
       "mpl.toolbar_items = [[\"Home\", \"Reset original view\", \"fa fa-home icon-home\", \"home\"], [\"Back\", \"Back to  previous view\", \"fa fa-arrow-left icon-arrow-left\", \"back\"], [\"Forward\", \"Forward to next view\", \"fa fa-arrow-right icon-arrow-right\", \"forward\"], [\"\", \"\", \"\", \"\"], [\"Pan\", \"Pan axes with left mouse, zoom with right\", \"fa fa-arrows icon-move\", \"pan\"], [\"Zoom\", \"Zoom to rectangle\", \"fa fa-square-o icon-check-empty\", \"zoom\"], [\"\", \"\", \"\", \"\"], [\"Download\", \"Download plot\", \"fa fa-floppy-o icon-save\", \"download\"]];\n",
       "\n",
       "mpl.extensions = [\"eps\", \"jpeg\", \"pdf\", \"png\", \"ps\", \"raw\", \"svg\", \"tif\"];\n",
       "\n",
       "mpl.default_extension = \"png\";var comm_websocket_adapter = function(comm) {\n",
       "    // Create a \"websocket\"-like object which calls the given IPython comm\n",
       "    // object with the appropriate methods. Currently this is a non binary\n",
       "    // socket, so there is still some room for performance tuning.\n",
       "    var ws = {};\n",
       "\n",
       "    ws.close = function() {\n",
       "        comm.close()\n",
       "    };\n",
       "    ws.send = function(m) {\n",
       "        //console.log('sending', m);\n",
       "        comm.send(m);\n",
       "    };\n",
       "    // Register the callback with on_msg.\n",
       "    comm.on_msg(function(msg) {\n",
       "        //console.log('receiving', msg['content']['data'], msg);\n",
       "        // Pass the mpl event to the overriden (by mpl) onmessage function.\n",
       "        ws.onmessage(msg['content']['data'])\n",
       "    });\n",
       "    return ws;\n",
       "}\n",
       "\n",
       "mpl.mpl_figure_comm = function(comm, msg) {\n",
       "    // This is the function which gets called when the mpl process\n",
       "    // starts-up an IPython Comm through the \"matplotlib\" channel.\n",
       "\n",
       "    var id = msg.content.data.id;\n",
       "    // Get hold of the div created by the display call when the Comm\n",
       "    // socket was opened in Python.\n",
       "    var element = $(\"#\" + id);\n",
       "    var ws_proxy = comm_websocket_adapter(comm)\n",
       "\n",
       "    function ondownload(figure, format) {\n",
       "        window.open(figure.imageObj.src);\n",
       "    }\n",
       "\n",
       "    var fig = new mpl.figure(id, ws_proxy,\n",
       "                           ondownload,\n",
       "                           element.get(0));\n",
       "\n",
       "    // Call onopen now - mpl needs it, as it is assuming we've passed it a real\n",
       "    // web socket which is closed, not our websocket->open comm proxy.\n",
       "    ws_proxy.onopen();\n",
       "\n",
       "    fig.parent_element = element.get(0);\n",
       "    fig.cell_info = mpl.find_output_cell(\"<div id='\" + id + \"'></div>\");\n",
       "    if (!fig.cell_info) {\n",
       "        console.error(\"Failed to find cell for figure\", id, fig);\n",
       "        return;\n",
       "    }\n",
       "\n",
       "    var output_index = fig.cell_info[2]\n",
       "    var cell = fig.cell_info[0];\n",
       "\n",
       "};\n",
       "\n",
       "mpl.figure.prototype.handle_close = function(fig, msg) {\n",
       "    fig.root.unbind('remove')\n",
       "\n",
       "    // Update the output cell to use the data from the current canvas.\n",
       "    fig.push_to_output();\n",
       "    var dataURL = fig.canvas.toDataURL();\n",
       "    // Re-enable the keyboard manager in IPython - without this line, in FF,\n",
       "    // the notebook keyboard shortcuts fail.\n",
       "    IPython.keyboard_manager.enable()\n",
       "    $(fig.parent_element).html('<img src=\"' + dataURL + '\">');\n",
       "    fig.close_ws(fig, msg);\n",
       "}\n",
       "\n",
       "mpl.figure.prototype.close_ws = function(fig, msg){\n",
       "    fig.send_message('closing', msg);\n",
       "    // fig.ws.close()\n",
       "}\n",
       "\n",
       "mpl.figure.prototype.push_to_output = function(remove_interactive) {\n",
       "    // Turn the data on the canvas into data in the output cell.\n",
       "    var dataURL = this.canvas.toDataURL();\n",
       "    this.cell_info[1]['text/html'] = '<img src=\"' + dataURL + '\">';\n",
       "}\n",
       "\n",
       "mpl.figure.prototype.updated_canvas_event = function() {\n",
       "    // Tell IPython that the notebook contents must change.\n",
       "    IPython.notebook.set_dirty(true);\n",
       "    this.send_message(\"ack\", {});\n",
       "    var fig = this;\n",
       "    // Wait a second, then push the new image to the DOM so\n",
       "    // that it is saved nicely (might be nice to debounce this).\n",
       "    setTimeout(function () { fig.push_to_output() }, 1000);\n",
       "}\n",
       "\n",
       "mpl.figure.prototype._init_toolbar = function() {\n",
       "    var fig = this;\n",
       "\n",
       "    var nav_element = $('<div/>')\n",
       "    nav_element.attr('style', 'width: 100%');\n",
       "    this.root.append(nav_element);\n",
       "\n",
       "    // Define a callback function for later on.\n",
       "    function toolbar_event(event) {\n",
       "        return fig.toolbar_button_onclick(event['data']);\n",
       "    }\n",
       "    function toolbar_mouse_event(event) {\n",
       "        return fig.toolbar_button_onmouseover(event['data']);\n",
       "    }\n",
       "\n",
       "    for(var toolbar_ind in mpl.toolbar_items){\n",
       "        var name = mpl.toolbar_items[toolbar_ind][0];\n",
       "        var tooltip = mpl.toolbar_items[toolbar_ind][1];\n",
       "        var image = mpl.toolbar_items[toolbar_ind][2];\n",
       "        var method_name = mpl.toolbar_items[toolbar_ind][3];\n",
       "\n",
       "        if (!name) { continue; };\n",
       "\n",
       "        var button = $('<button class=\"btn btn-default\" href=\"#\" title=\"' + name + '\"><i class=\"fa ' + image + ' fa-lg\"></i></button>');\n",
       "        button.click(method_name, toolbar_event);\n",
       "        button.mouseover(tooltip, toolbar_mouse_event);\n",
       "        nav_element.append(button);\n",
       "    }\n",
       "\n",
       "    // Add the status bar.\n",
       "    var status_bar = $('<span class=\"mpl-message\" style=\"text-align:right; float: right;\"/>');\n",
       "    nav_element.append(status_bar);\n",
       "    this.message = status_bar[0];\n",
       "\n",
       "    // Add the close button to the window.\n",
       "    var buttongrp = $('<div class=\"btn-group inline pull-right\"></div>');\n",
       "    var button = $('<button class=\"btn btn-mini btn-primary\" href=\"#\" title=\"Stop Interaction\"><i class=\"fa fa-power-off icon-remove icon-large\"></i></button>');\n",
       "    button.click(function (evt) { fig.handle_close(fig, {}); } );\n",
       "    button.mouseover('Stop Interaction', toolbar_mouse_event);\n",
       "    buttongrp.append(button);\n",
       "    var titlebar = this.root.find($('.ui-dialog-titlebar'));\n",
       "    titlebar.prepend(buttongrp);\n",
       "}\n",
       "\n",
       "mpl.figure.prototype._root_extra_style = function(el){\n",
       "    var fig = this\n",
       "    el.on(\"remove\", function(){\n",
       "\tfig.close_ws(fig, {});\n",
       "    });\n",
       "}\n",
       "\n",
       "mpl.figure.prototype._canvas_extra_style = function(el){\n",
       "    // this is important to make the div 'focusable\n",
       "    el.attr('tabindex', 0)\n",
       "    // reach out to IPython and tell the keyboard manager to turn it's self\n",
       "    // off when our div gets focus\n",
       "\n",
       "    // location in version 3\n",
       "    if (IPython.notebook.keyboard_manager) {\n",
       "        IPython.notebook.keyboard_manager.register_events(el);\n",
       "    }\n",
       "    else {\n",
       "        // location in version 2\n",
       "        IPython.keyboard_manager.register_events(el);\n",
       "    }\n",
       "\n",
       "}\n",
       "\n",
       "mpl.figure.prototype._key_event_extra = function(event, name) {\n",
       "    var manager = IPython.notebook.keyboard_manager;\n",
       "    if (!manager)\n",
       "        manager = IPython.keyboard_manager;\n",
       "\n",
       "    // Check for shift+enter\n",
       "    if (event.shiftKey && event.which == 13) {\n",
       "        this.canvas_div.blur();\n",
       "        event.shiftKey = false;\n",
       "        // Send a \"J\" for go to next cell\n",
       "        event.which = 74;\n",
       "        event.keyCode = 74;\n",
       "        manager.command_mode();\n",
       "        manager.handle_keydown(event);\n",
       "    }\n",
       "}\n",
       "\n",
       "mpl.figure.prototype.handle_save = function(fig, msg) {\n",
       "    fig.ondownload(fig, null);\n",
       "}\n",
       "\n",
       "\n",
       "mpl.find_output_cell = function(html_output) {\n",
       "    // Return the cell and output element which can be found *uniquely* in the notebook.\n",
       "    // Note - this is a bit hacky, but it is done because the \"notebook_saving.Notebook\"\n",
       "    // IPython event is triggered only after the cells have been serialised, which for\n",
       "    // our purposes (turning an active figure into a static one), is too late.\n",
       "    var cells = IPython.notebook.get_cells();\n",
       "    var ncells = cells.length;\n",
       "    for (var i=0; i<ncells; i++) {\n",
       "        var cell = cells[i];\n",
       "        if (cell.cell_type === 'code'){\n",
       "            for (var j=0; j<cell.output_area.outputs.length; j++) {\n",
       "                var data = cell.output_area.outputs[j];\n",
       "                if (data.data) {\n",
       "                    // IPython >= 3 moved mimebundle to data attribute of output\n",
       "                    data = data.data;\n",
       "                }\n",
       "                if (data['text/html'] == html_output) {\n",
       "                    return [cell, data, j];\n",
       "                }\n",
       "            }\n",
       "        }\n",
       "    }\n",
       "}\n",
       "\n",
       "// Register the function which deals with the matplotlib target/channel.\n",
       "// The kernel may be null if the page has been refreshed.\n",
       "if (IPython.notebook.kernel != null) {\n",
       "    IPython.notebook.kernel.comm_manager.register_target('matplotlib', mpl.mpl_figure_comm);\n",
       "}\n"
      ],
      "text/plain": [
       "<IPython.core.display.Javascript object>"
      ]
     },
     "metadata": {},
     "output_type": "display_data"
    },
    {
     "data": {
      "text/html": [
       "<img src=\"data:image/png;base64,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\">"
      ],
      "text/plain": [
       "<IPython.core.display.HTML object>"
      ]
     },
     "metadata": {},
     "output_type": "display_data"
    }
   ],
   "source": [
    "% matplotlib notebook\n",
    "\n",
    "title_font = 20\n",
    "bottom_font = 16\n",
    "fig = plt.figure(figsize=(9,7))\n",
    "ax = fig.gca(projection='3d')\n",
    "\n",
    "ax.set_title('(a) 3D model',fontsize=title_font,loc='center')\n",
    "cover = Poly3DCollection(verts_c,facecolors='black', linewidths=1, alpha=.9,edgecolors='k')\n",
    "sides = Poly3DCollection(verts_s,facecolors='black', linewidths=1, alpha=.9,edgecolors='k')\n",
    "\n",
    "cover.set_alpha(.3)\n",
    "ax.add_collection3d(cover)\n",
    "sides.set_alpha(.8)\n",
    "ax.add_collection3d(sides)\n",
    "\n",
    "ax.set_xlabel('X (km)',fontsize=14)\n",
    "ax.set_xlim3d(x_min, x_max,100)\n",
    "ax.set_ylabel('Y (km)',fontsize=14)\n",
    "ax.set_ylim3d(y_min, y_max,100)\n",
    "ax.set_zlabel('Z (km)',fontsize=14)\n",
    "ax.set_zlim3d(1.2*z_bottom[0], 1e-3*100.)\n",
    "ax.set_xticks(np.linspace(x_min, x_max, 5), minor=True)\n",
    "ax.set_yticks(np.linspace(y_min, y_max, 5), minor=True)\n",
    "ax.set_zticks(np.linspace(1.2*z_bottom[0], 1e-3*100., 6), minor=True)\n",
    "ax.view_init(40,320)\n",
    "\n",
    "file_name = 'figs/3D_prism'\n",
    "plt.savefig(file_name+'.png',dpi=200)\n",
    "saved_files.append(file_name+'.png')\n",
    "\n",
    "plt.savefig(file_name+'.eps',dpi=200)\n",
    "saved_files.append(file_name+'.eps')\n",
    "\n",
    "\n",
    "plt.show()"
   ]
  },
  {
   "cell_type": "markdown",
   "metadata": {},
   "source": [
    "#### Saved files"
   ]
  },
  {
   "cell_type": "code",
   "execution_count": 43,
   "metadata": {},
   "outputs": [
    {
     "name": "stdout",
     "output_type": "stream",
     "text": [
      "1  data/model_poly_remanent.pickle\n",
      "2  data/model_poly_induced.pickle\n",
      "3  figs/prism_bound.png\n",
      "4  figs/prism_bound.eps\n",
      "5  figs/3D_prism.png\n",
      "6  figs/3D_prism.eps\n"
     ]
    }
   ],
   "source": [
    "with open('reports/report_%s.md' % notebook_name[:st.index(notebook_name, '.')], 'w') as q:\n",
    "    q.write('# Saved files \\n')\n",
    "    now = datetime.datetime.utcnow().strftime('%d %B %Y %H:%M:%S UTC')\n",
    "    header = 'Generated by {name} on {date}'.format(date=now, name=notebook_name)\n",
    "    q.write('\\n\\n'+header+'\\n\\n')\n",
    "    for i, sf in enumerate(saved_files):\n",
    "        print '%d  %s' % (i+1,sf)\n",
    "        q.write('*  `%s` \\n' % (sf))"
   ]
  }
 ],
 "metadata": {
  "kernelspec": {
   "display_name": "Python 2",
   "language": "python",
   "name": "python2"
  },
  "language_info": {
   "codemirror_mode": {
    "name": "ipython",
    "version": 2
   },
   "file_extension": ".py",
   "mimetype": "text/x-python",
   "name": "python",
   "nbconvert_exporter": "python",
   "pygments_lexer": "ipython2",
   "version": "2.7.14"
  }
 },
 "nbformat": 4,
 "nbformat_minor": 2
}
