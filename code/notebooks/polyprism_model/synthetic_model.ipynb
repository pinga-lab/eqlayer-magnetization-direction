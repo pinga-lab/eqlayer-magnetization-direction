{
 "cells": [
  {
   "cell_type": "markdown",
   "metadata": {},
   "source": [
    "# Synthetic Model "
   ]
  },
  {
   "cell_type": "markdown",
   "metadata": {},
   "source": [
    "Notebook to generate a set of models."
   ]
  },
  {
   "cell_type": "markdown",
   "metadata": {},
   "source": [
    "#### Import libraries"
   ]
  },
  {
   "cell_type": "code",
   "execution_count": 1,
   "metadata": {},
   "outputs": [
    {
     "name": "stderr",
     "output_type": "stream",
     "text": [
      "/home/andrelreis/anaconda2/lib/python2.7/site-packages/fatiando/vis/mpl.py:76: UserWarning: This module will be removed in v0.6. We recommend the use of matplotlib.pyplot module directly. Some of the fatiando specific functions will remain.\n",
      "  \"specific functions will remain.\")\n"
     ]
    }
   ],
   "source": [
    "from IPython.display import Markdown as md\n",
    "from IPython.display import display as dp\n",
    "import string as st\n",
    "import sys\n",
    "import numpy as np\n",
    "import matplotlib.pyplot as plt\n",
    "import cPickle as pickle\n",
    "import datetime\n",
    "\n",
    "from mpl_toolkits.mplot3d import Axes3D\n",
    "from mpl_toolkits.mplot3d.art3d import Poly3DCollection, Line3DCollection\n",
    "from fatiando.utils import ang2vec, vec2ang\n",
    "from fatiando.mesher import Sphere, Prism, PolygonalPrism\n",
    "from fatiando.gravmag import sphere, prism, polyprism"
   ]
  },
  {
   "cell_type": "code",
   "execution_count": 2,
   "metadata": {},
   "outputs": [],
   "source": [
    "notebook_name = 'synthetic_model.ipynb'"
   ]
  },
  {
   "cell_type": "markdown",
   "metadata": {},
   "source": [
    "#### Importing auxiliary functions"
   ]
  },
  {
   "cell_type": "code",
   "execution_count": 3,
   "metadata": {},
   "outputs": [],
   "source": [
    "dir_modules = '../../mypackage'\n",
    "sys.path.append(dir_modules)"
   ]
  },
  {
   "cell_type": "code",
   "execution_count": 4,
   "metadata": {},
   "outputs": [],
   "source": [
    "import auxiliary_functions as func"
   ]
  },
  {
   "cell_type": "markdown",
   "metadata": {},
   "source": [
    "#### Loading 2D grid properties"
   ]
  },
  {
   "cell_type": "code",
   "execution_count": 5,
   "metadata": {},
   "outputs": [],
   "source": [
    "with open('data/regular_grid.pickle') as f:\n",
    "        regular = pickle.load(f)"
   ]
  },
  {
   "cell_type": "code",
   "execution_count": 6,
   "metadata": {},
   "outputs": [],
   "source": [
    "with open('data/airborne_survey.pickle') as f:\n",
    "        airborne = pickle.load(f)"
   ]
  },
  {
   "cell_type": "markdown",
   "metadata": {},
   "source": [
    "#### List of saved files"
   ]
  },
  {
   "cell_type": "code",
   "execution_count": 7,
   "metadata": {},
   "outputs": [],
   "source": [
    "saved_files = []"
   ]
  },
  {
   "cell_type": "markdown",
   "metadata": {},
   "source": [
    "### Observation area"
   ]
  },
  {
   "cell_type": "code",
   "execution_count": 8,
   "metadata": {},
   "outputs": [
    {
     "name": "stdout",
     "output_type": "stream",
     "text": [
      "Area limits: \n",
      " x_max = 6000.0 m \n",
      " x_min = -6000.0 m \n",
      " y_max = 6000.0 m \n",
      " y_min = -6000.0 m\n"
     ]
    }
   ],
   "source": [
    "print 'Area limits: \\n x_max = %.1f m \\n x_min = %.1f m \\n y_max = %.1f m \\n y_min = %.1f m' % (regular['area'][1], regular['area'][0],regular['area'][3],regular['area'][2])"
   ]
  },
  {
   "cell_type": "markdown",
   "metadata": {},
   "source": [
    "## Regional Field"
   ]
  },
  {
   "cell_type": "code",
   "execution_count": 9,
   "metadata": {},
   "outputs": [],
   "source": [
    "inc_gf , dec_gf = (-19.,-18.) "
   ]
  },
  {
   "cell_type": "markdown",
   "metadata": {},
   "source": [
    "## Create a model w/ the presence of Remanence Magnetization "
   ]
  },
  {
   "cell_type": "code",
   "execution_count": 10,
   "metadata": {},
   "outputs": [],
   "source": [
    "model_poly_remanent = dict()"
   ]
  },
  {
   "cell_type": "markdown",
   "metadata": {},
   "source": [
    "#### Vertices of a Polygonal prism"
   ]
  },
  {
   "cell_type": "code",
   "execution_count": 11,
   "metadata": {},
   "outputs": [],
   "source": [
    "model_poly_remanent['x_verts'] = [1000.,1000.,300.,0.,-1000.,-1000.,1000.]"
   ]
  },
  {
   "cell_type": "code",
   "execution_count": 12,
   "metadata": {},
   "outputs": [],
   "source": [
    "model_poly_remanent['y_verts'] = [-1000.,0.,300.,2000.,2000.,-1000.,-1000.]"
   ]
  },
  {
   "cell_type": "code",
   "execution_count": 13,
   "metadata": {},
   "outputs": [],
   "source": [
    "model_poly_remanent['z_top'] = 500."
   ]
  },
  {
   "cell_type": "code",
   "execution_count": 14,
   "metadata": {},
   "outputs": [],
   "source": [
    "model_poly_remanent['z_bottom'] = 2500."
   ]
  },
  {
   "cell_type": "code",
   "execution_count": 15,
   "metadata": {},
   "outputs": [],
   "source": [
    "model_poly_remanent['verts'] = zip(model_poly_remanent['x_verts'],\n",
    "                                   model_poly_remanent['y_verts'] )"
   ]
  },
  {
   "cell_type": "markdown",
   "metadata": {},
   "source": [
    "#### Main field"
   ]
  },
  {
   "cell_type": "code",
   "execution_count": 16,
   "metadata": {},
   "outputs": [],
   "source": [
    "model_poly_remanent['main_field'] = (inc_gf,dec_gf)"
   ]
  },
  {
   "cell_type": "markdown",
   "metadata": {},
   "source": [
    "#### Magnetization of a PolyPrism"
   ]
  },
  {
   "cell_type": "code",
   "execution_count": 17,
   "metadata": {},
   "outputs": [],
   "source": [
    "model_poly_remanent['m_R'] = 8.\n",
    "model_poly_remanent['inc_R'] = -20.\n",
    "model_poly_remanent['dec_R'] = -20.\n",
    "\n",
    "mag_tot_R = ang2vec(model_poly_remanent['m_R'],\n",
    "                  model_poly_remanent['inc_R'],\n",
    "                  model_poly_remanent['dec_R'])\n",
    "\n",
    "model_poly_remanent['magnetization'] = mag_tot_R"
   ]
  },
  {
   "cell_type": "code",
   "execution_count": 18,
   "metadata": {},
   "outputs": [],
   "source": [
    "model_poly_remanent['magnetization_sph_coord'] = vec2ang(mag_tot_R)"
   ]
  },
  {
   "cell_type": "markdown",
   "metadata": {},
   "source": [
    "### Creating a polyprism model"
   ]
  },
  {
   "cell_type": "code",
   "execution_count": 19,
   "metadata": {},
   "outputs": [],
   "source": [
    "model_poly_remanent['model'] = [PolygonalPrism(model_poly_remanent['verts'],\n",
    "                                              model_poly_remanent['z_top'],\n",
    "                                              model_poly_remanent['z_bottom'],\n",
    "                                              {'magnetization':mag_tot_R})]"
   ]
  },
  {
   "cell_type": "markdown",
   "metadata": {},
   "source": [
    "#### Generating .pickle file"
   ]
  },
  {
   "cell_type": "code",
   "execution_count": 20,
   "metadata": {},
   "outputs": [],
   "source": [
    "now = datetime.datetime.utcnow().strftime('%d %B %Y %H:%M:%S UTC')\n",
    "model_poly_remanent['metadata'] = 'Generated by {name} on {date}'.format(date=now, name=notebook_name)"
   ]
  },
  {
   "cell_type": "code",
   "execution_count": 21,
   "metadata": {},
   "outputs": [],
   "source": [
    "file_name = 'data/model_poly_remanent.pickle'\n",
    "with open(file_name, 'w') as f:\n",
    "    pickle.dump(model_poly_remanent, f)\n",
    "    \n",
    "saved_files.append(file_name)"
   ]
  },
  {
   "cell_type": "code",
   "execution_count": 22,
   "metadata": {},
   "outputs": [
    {
     "name": "stdout",
     "output_type": "stream",
     "text": [
      "magnetization_sph_coord : [8.0, -20.0, -20.0]\n",
      "y_verts : [-1000.0, 0.0, 300.0, 2000.0, 2000.0, -1000.0, -1000.0]\n",
      "x_verts : [1000.0, 1000.0, 300.0, 0.0, -1000.0, -1000.0, 1000.0]\n",
      "main_field : (-19.0, -18.0)\n",
      "dec_R : -20.0\n",
      "magnetization : [ 7.06417777 -2.57115044 -2.73616115]\n",
      "verts : [(1000.0, -1000.0), (1000.0, 0.0), (300.0, 300.0), (0.0, 2000.0), (-1000.0, 2000.0), (-1000.0, -1000.0), (1000.0, -1000.0)]\n",
      "inc_R : -20.0\n",
      "m_R : 8.0\n",
      "model : [<fatiando.mesher.PolygonalPrism object at 0x7f2bf4c83290>]\n",
      "z_top : 500.0\n",
      "z_bottom : 2500.0\n",
      "metadata : Generated by synthetic_model.ipynb on 20 March 2019 18:04:14 UTC\n"
     ]
    }
   ],
   "source": [
    "for r in model_poly_remanent:\n",
    "    print r, ':', model_poly_remanent[r]"
   ]
  },
  {
   "cell_type": "markdown",
   "metadata": {},
   "source": [
    "## Create a simple model w/ Induced Magnetization in a Polyprism"
   ]
  },
  {
   "cell_type": "code",
   "execution_count": 23,
   "metadata": {},
   "outputs": [],
   "source": [
    "model_poly_induced = dict()"
   ]
  },
  {
   "cell_type": "markdown",
   "metadata": {},
   "source": [
    "### Main field"
   ]
  },
  {
   "cell_type": "code",
   "execution_count": 24,
   "metadata": {},
   "outputs": [],
   "source": [
    "model_poly_induced['main_field'] = (inc_gf,dec_gf)"
   ]
  },
  {
   "cell_type": "markdown",
   "metadata": {},
   "source": [
    "#### Vertices of a Polygonal prism"
   ]
  },
  {
   "cell_type": "code",
   "execution_count": 25,
   "metadata": {},
   "outputs": [],
   "source": [
    "model_poly_induced['x_verts'] = [1000.,1000.,300.,0.,-1000.,-1000.,1000.]"
   ]
  },
  {
   "cell_type": "code",
   "execution_count": 26,
   "metadata": {},
   "outputs": [],
   "source": [
    "model_poly_induced['y_verts'] = [-1000.,0.,300.,2000.,2000.,-1000.,-1000.]"
   ]
  },
  {
   "cell_type": "code",
   "execution_count": 27,
   "metadata": {},
   "outputs": [],
   "source": [
    "model_poly_induced['z_top'] = 500."
   ]
  },
  {
   "cell_type": "code",
   "execution_count": 28,
   "metadata": {},
   "outputs": [],
   "source": [
    "model_poly_induced['z_bottom'] = 2500."
   ]
  },
  {
   "cell_type": "code",
   "execution_count": 29,
   "metadata": {},
   "outputs": [],
   "source": [
    "model_poly_induced['verts'] = zip(model_poly_induced['x_verts'],\n",
    "                                   model_poly_induced['y_verts'] )"
   ]
  },
  {
   "cell_type": "markdown",
   "metadata": {},
   "source": [
    "### Magnetization direction"
   ]
  },
  {
   "cell_type": "code",
   "execution_count": 30,
   "metadata": {},
   "outputs": [],
   "source": [
    "model_poly_induced['m_I'] = 8.\n",
    "model_poly_induced['inc_I'] = inc_gf\n",
    "model_poly_induced['dec_I'] = dec_gf\n",
    "\n",
    "mag_tot_I = ang2vec(model_poly_induced['m_I'],\n",
    "                    model_poly_induced['inc_I'],\n",
    "                    model_poly_induced['dec_I'])\n",
    "\n",
    "model_poly_induced['magnetization'] = mag_tot_I"
   ]
  },
  {
   "cell_type": "code",
   "execution_count": 31,
   "metadata": {},
   "outputs": [],
   "source": [
    "model_poly_induced['magnetization_sph_coord'] = vec2ang(mag_tot_I)"
   ]
  },
  {
   "cell_type": "markdown",
   "metadata": {},
   "source": [
    "#### Creating the model"
   ]
  },
  {
   "cell_type": "code",
   "execution_count": 32,
   "metadata": {},
   "outputs": [],
   "source": [
    "model_poly_induced['model'] = [PolygonalPrism(model_poly_induced['verts'],\n",
    "                                              model_poly_induced['z_top'],\n",
    "                                              model_poly_induced['z_bottom'],\n",
    "                                              {'magnetization':mag_tot_I})]"
   ]
  },
  {
   "cell_type": "markdown",
   "metadata": {},
   "source": [
    "#### Generating a .pickle file"
   ]
  },
  {
   "cell_type": "code",
   "execution_count": 33,
   "metadata": {},
   "outputs": [],
   "source": [
    "now = datetime.datetime.utcnow().strftime('%d %B %Y %H:%M:%S UTC')\n",
    "model_poly_induced['metadata'] = 'Generated by {name} on {date}'.format(date=now, name=notebook_name)"
   ]
  },
  {
   "cell_type": "code",
   "execution_count": 34,
   "metadata": {},
   "outputs": [],
   "source": [
    "file_name = 'data/model_poly_induced.pickle'\n",
    "with open(file_name, 'w') as f:\n",
    "    pickle.dump(model_poly_induced, f)\n",
    "    \n",
    "saved_files.append(file_name)"
   ]
  },
  {
   "cell_type": "code",
   "execution_count": 35,
   "metadata": {},
   "outputs": [
    {
     "name": "stdout",
     "output_type": "stream",
     "text": [
      "magnetization_sph_coord : [8.0, -19.0, -18.0]\n",
      "m_I : 8.0\n",
      "y_verts : [-1000.0, 0.0, 300.0, 2000.0, 2000.0, -1000.0, -1000.0]\n",
      "x_verts : [1000.0, 1000.0, 300.0, 0.0, -1000.0, -1000.0, 1000.0]\n",
      "dec_I : -18.0\n",
      "main_field : (-19.0, -18.0)\n",
      "inc_I : -19.0\n",
      "magnetization : [ 7.19393282 -2.33745047 -2.60454524]\n",
      "verts : [(1000.0, -1000.0), (1000.0, 0.0), (300.0, 300.0), (0.0, 2000.0), (-1000.0, 2000.0), (-1000.0, -1000.0), (1000.0, -1000.0)]\n",
      "model : [<fatiando.mesher.PolygonalPrism object at 0x7f2bf4c83190>]\n",
      "z_top : 500.0\n",
      "z_bottom : 2500.0\n",
      "metadata : Generated by synthetic_model.ipynb on 20 March 2019 18:04:15 UTC\n"
     ]
    }
   ],
   "source": [
    "for r in model_poly_induced:\n",
    "    print r, ':', model_poly_induced[r]"
   ]
  },
  {
   "cell_type": "markdown",
   "metadata": {},
   "source": [
    "## Visualization of prism limits"
   ]
  },
  {
   "cell_type": "code",
   "execution_count": 36,
   "metadata": {},
   "outputs": [
    {
     "name": "stderr",
     "output_type": "stream",
     "text": [
      "/home/andrelreis/anaconda2/lib/python2.7/site-packages/matplotlib/figure.py:1744: UserWarning: This figure includes Axes that are not compatible with tight_layout, so its results might be incorrect.\n",
      "  warnings.warn(\"This figure includes Axes that are not \"\n"
     ]
    },
    {
     "data": {
      "image/png": "[encoded data removed]",
      "text/plain": [
       "<matplotlib.figure.Figure at 0x7f2bf4c98210>"
      ]
     },
     "metadata": {},
     "output_type": "display_data"
    }
   ],
   "source": [
    "title_font = 20\n",
    "bottom_font = 18\n",
    "saturation_factor = 1.\n",
    "plt.close('all')\n",
    "plt.figure(figsize=(9,9), tight_layout=True)\n",
    "\n",
    "plt.title('Prism Bounds',fontsize=title_font)\n",
    "plt.plot(model_poly_remanent['y_verts'], model_poly_remanent['x_verts'],\n",
    "         color='k',linestyle='-',linewidth=2)\n",
    "plt.xlabel('y (m)', fontsize = title_font)\n",
    "plt.ylabel('x (m)', fontsize = title_font)\n",
    "plt.ylim(np.min(regular['x']),np.max(regular['x']))\n",
    "plt.xlim(np.min(regular['y']),np.max(regular['y']))\n",
    "plt.tick_params(labelsize=15)\n",
    "\n",
    "file_name = 'figs/prism_bound'\n",
    "plt.savefig(file_name+'.png',dpi=200)\n",
    "saved_files.append(file_name+'.png')\n",
    "\n",
    "plt.savefig(file_name+'.eps',dpi=200)\n",
    "saved_files.append(file_name+'.eps')\n",
    "\n",
    "\n",
    "plt.show()"
   ]
  },
  {
   "cell_type": "markdown",
   "metadata": {},
   "source": [
    "## 3D visualization"
   ]
  },
  {
   "cell_type": "code",
   "execution_count": 37,
   "metadata": {},
   "outputs": [],
   "source": [
    "x_verts = 1e-3*np.array(model_poly_remanent['x_verts'])\n",
    "y_verts = 1e-3*np.array(model_poly_remanent['y_verts'])\n",
    "z_top = 1e-3*model_poly_remanent['z_top']*np.ones_like(model_poly_remanent['x_verts'])\n",
    "z_bottom = 1e-3*model_poly_remanent['z_bottom']*np.ones_like(model_poly_remanent['x_verts'])"
   ]
  },
  {
   "cell_type": "code",
   "execution_count": 38,
   "metadata": {},
   "outputs": [],
   "source": [
    "x_max = 1e-3*6000.0  \n",
    "x_min = -1e-3*6000.0  \n",
    "y_max = 1e-3*6000.0 \n",
    "y_min = -1e-3*6000.0"
   ]
  },
  {
   "cell_type": "code",
   "execution_count": 39,
   "metadata": {},
   "outputs": [],
   "source": [
    "verts_c = [list(zip(x_verts,y_verts,z_top)),\n",
    "           list(zip(x_verts,y_verts,z_bottom))]"
   ]
  },
  {
   "cell_type": "code",
   "execution_count": 40,
   "metadata": {},
   "outputs": [],
   "source": [
    "verts_s = []\n",
    "for i,j in zip(x_verts,y_verts):\n",
    "    verts_s.append([(i,j,z_top[0]),(i,j,z_bottom[0])])   "
   ]
  },
  {
   "cell_type": "code",
   "execution_count": 41,
   "metadata": {},
   "outputs": [
    {
     "data": {
      "application/javascript": [
       "/* Put everything inside the global mpl namespace */\n",
       "window.mpl = {};\n",
       "\n",
       "mpl.get_websocket_type = function() {\n",
       "    if (typeof(WebSocket) !== 'undefined') {\n",
       "        return WebSocket;\n",
       "    } else if (typeof(MozWebSocket) !== 'undefined') {\n",
       "        return MozWebSocket;\n",
       "    } else {\n",
       "        alert('Your browser does not have WebSocket support.' +\n",
       "              'Please try Chrome, Safari or Firefox ≥ 6. ' +\n",
       "              'Firefox 4 and 5 are also supported but you ' +\n",
       "              'have to enable WebSockets in about:config.');\n",
       "    };\n",
       "}\n",
       "\n",
       "mpl.figure = function(figure_id, websocket, ondownload, parent_element) {\n",
       "    this.id = figure_id;\n",
       "\n",
       "    this.ws = websocket;\n",
       "\n",
       "    this.supports_binary = (this.ws.binaryType != undefined);\n",
       "\n",
       "    if (!this.supports_binary) {\n",
       "        var warnings = document.getElementById(\"mpl-warnings\");\n",
       "        if (warnings) {\n",
       "            warnings.style.display = 'block';\n",
       "            warnings.textContent = (\n",
       "                \"This browser does not support binary websocket messages. \" +\n",
       "                    \"Performance may be slow.\");\n",
       "        }\n",
       "    }\n",
       "\n",
       "    this.imageObj = new Image();\n",
       "\n",
       "    this.context = undefined;\n",
       "    this.message = undefined;\n",
       "    this.canvas = undefined;\n",
       "    this.rubberband_canvas = undefined;\n",
       "    this.rubberband_context = undefined;\n",
       "    this.format_dropdown = undefined;\n",
       "\n",
       "    this.image_mode = 'full';\n",
       "\n",
       "    this.root = $('<div/>');\n",
       "    this._root_extra_style(this.root)\n",
       "    this.root.attr('style', 'display: inline-block');\n",
       "\n",
       "    $(parent_element).append(this.root);\n",
       "\n",
       "    this._init_header(this);\n",
       "    this._init_canvas(this);\n",
       "    this._init_toolbar(this);\n",
       "\n",
       "    var fig = this;\n",
       "\n",
       "    this.waiting = false;\n",
       "\n",
       "    this.ws.onopen =  function () {\n",
       "            fig.send_message(\"supports_binary\", {value: fig.supports_binary});\n",
       "            fig.send_message(\"send_image_mode\", {});\n",
       "            fig.send_message(\"refresh\", {});\n",
       "        }\n",
       "\n",
       "    this.imageObj.onload = function() {\n",
       "            if (fig.image_mode == 'full') {\n",
       "                // Full images could contain transparency (where diff images\n",
       "                // almost always do), so we need to clear the canvas so that\n",
       "                // there is no ghosting.\n",
       "                fig.context.clearRect(0, 0, fig.canvas.width, fig.canvas.height);\n",
       "            }\n",
       "            fig.context.drawImage(fig.imageObj, 0, 0);\n",
       "        };\n",
       "\n",
       "    this.imageObj.onunload = function() {\n",
       "        this.ws.close();\n",
       "    }\n",
       "\n",
       "    this.ws.onmessage = this._make_on_message_function(this);\n",
       "\n",
       "    this.ondownload = ondownload;\n",
       "}\n",
       "\n",
       "mpl.figure.prototype._init_header = function() {\n",
       "    var titlebar = $(\n",
       "        '<div class=\"ui-dialog-titlebar ui-widget-header ui-corner-all ' +\n",
       "        'ui-helper-clearfix\"/>');\n",
       "    var titletext = $(\n",
       "        '<div class=\"ui-dialog-title\" style=\"width: 100%; ' +\n",
       "        'text-align: center; padding: 3px;\"/>');\n",
       "    titlebar.append(titletext)\n",
       "    this.root.append(titlebar);\n",
       "    this.header = titletext[0];\n",
       "}\n",
       "\n",
       "\n",
       "\n",
       "mpl.figure.prototype._canvas_extra_style = function(canvas_div) {\n",
       "\n",
       "}\n",
       "\n",
       "\n",
       "mpl.figure.prototype._root_extra_style = function(canvas_div) {\n",
       "\n",
       "}\n",
       "\n",
       "mpl.figure.prototype._init_canvas = function() {\n",
       "    var fig = this;\n",
       "\n",
       "    var canvas_div = $('<div/>');\n",
       "\n",
       "    canvas_div.attr('style', 'position: relative; clear: both; outline: 0');\n",
       "\n",
       "    function canvas_keyboard_event(event) {\n",
       "        return fig.key_event(event, event['data']);\n",
       "    }\n",
       "\n",
       "    canvas_div.keydown('key_press', canvas_keyboard_event);\n",
       "    canvas_div.keyup('key_release', canvas_keyboard_event);\n",
       "    this.canvas_div = canvas_div\n",
       "    this._canvas_extra_style(canvas_div)\n",
       "    this.root.append(canvas_div);\n",
       "\n",
       "    var canvas = $('<canvas/>');\n",
       "    canvas.addClass('mpl-canvas');\n",
       "    canvas.attr('style', \"left: 0; top: 0; z-index: 0; outline: 0\")\n",
       "\n",
       "    this.canvas = canvas[0];\n",
       "    this.context = canvas[0].getContext(\"2d\");\n",
       "\n",
       "    var rubberband = $('<canvas/>');\n",
       "    rubberband.attr('style', \"position: absolute; left: 0; top: 0; z-index: 1;\")\n",
       "\n",
       "    var pass_mouse_events = true;\n",
       "\n",
       "    canvas_div.resizable({\n",
       "        start: function(event, ui) {\n",
       "            pass_mouse_events = false;\n",
       "        },\n",
       "        resize: function(event, ui) {\n",
       "            fig.request_resize(ui.size.width, ui.size.height);\n",
       "        },\n",
       "        stop: function(event, ui) {\n",
       "            pass_mouse_events = true;\n",
       "            fig.request_resize(ui.size.width, ui.size.height);\n",
       "        },\n",
       "    });\n",
       "\n",
       "    function mouse_event_fn(event) {\n",
       "        if (pass_mouse_events)\n",
       "            return fig.mouse_event(event, event['data']);\n",
       "    }\n",
       "\n",
       "    rubberband.mousedown('button_press', mouse_event_fn);\n",
       "    rubberband.mouseup('button_release', mouse_event_fn);\n",
       "    // Throttle sequential mouse events to 1 every 20ms.\n",
       "    rubberband.mousemove('motion_notify', mouse_event_fn);\n",
       "\n",
       "    rubberband.mouseenter('figure_enter', mouse_event_fn);\n",
       "    rubberband.mouseleave('figure_leave', mouse_event_fn);\n",
       "\n",
       "    canvas_div.on(\"wheel\", function (event) {\n",
       "        event = event.originalEvent;\n",
       "        event['data'] = 'scroll'\n",
       "        if (event.deltaY < 0) {\n",
       "            event.step = 1;\n",
       "        } else {\n",
       "            event.step = -1;\n",
       "        }\n",
       "        mouse_event_fn(event);\n",
       "    });\n",
       "\n",
       "    canvas_div.append(canvas);\n",
       "    canvas_div.append(rubberband);\n",
       "\n",
       "    this.rubberband = rubberband;\n",
       "    this.rubberband_canvas = rubberband[0];\n",
       "    this.rubberband_context = rubberband[0].getContext(\"2d\");\n",
       "    this.rubberband_context.strokeStyle = \"#000000\";\n",
       "\n",
       "    this._resize_canvas = function(width, height) {\n",
       "        // Keep the size of the canvas, canvas container, and rubber band\n",
       "        // canvas in synch.\n",
       "        canvas_div.css('width', width)\n",
       "        canvas_div.css('height', height)\n",
       "\n",
       "        canvas.attr('width', width);\n",
       "        canvas.attr('height', height);\n",
       "\n",
       "        rubberband.attr('width', width);\n",
       "        rubberband.attr('height', height);\n",
       "    }\n",
       "\n",
       "    // Set the figure to an initial 600x600px, this will subsequently be updated\n",
       "    // upon first draw.\n",
       "    this._resize_canvas(600, 600);\n",
       "\n",
       "    // Disable right mouse context menu.\n",
       "    $(this.rubberband_canvas).bind(\"contextmenu\",function(e){\n",
       "        return false;\n",
       "    });\n",
       "\n",
       "    function set_focus () {\n",
       "        canvas.focus();\n",
       "        canvas_div.focus();\n",
       "    }\n",
       "\n",
       "    window.setTimeout(set_focus, 100);\n",
       "}\n",
       "\n",
       "mpl.figure.prototype._init_toolbar = function() {\n",
       "    var fig = this;\n",
       "\n",
       "    var nav_element = $('<div/>')\n",
       "    nav_element.attr('style', 'width: 100%');\n",
       "    this.root.append(nav_element);\n",
       "\n",
       "    // Define a callback function for later on.\n",
       "    function toolbar_event(event) {\n",
       "        return fig.toolbar_button_onclick(event['data']);\n",
       "    }\n",
       "    function toolbar_mouse_event(event) {\n",
       "        return fig.toolbar_button_onmouseover(event['data']);\n",
       "    }\n",
       "\n",
       "    for(var toolbar_ind in mpl.toolbar_items) {\n",
       "        var name = mpl.toolbar_items[toolbar_ind][0];\n",
       "        var tooltip = mpl.toolbar_items[toolbar_ind][1];\n",
       "        var image = mpl.toolbar_items[toolbar_ind][2];\n",
       "        var method_name = mpl.toolbar_items[toolbar_ind][3];\n",
       "\n",
       "        if (!name) {\n",
       "            // put a spacer in here.\n",
       "            continue;\n",
       "        }\n",
       "        var button = $('<button/>');\n",
       "        button.addClass('ui-button ui-widget ui-state-default ui-corner-all ' +\n",
       "                        'ui-button-icon-only');\n",
       "        button.attr('role', 'button');\n",
       "        button.attr('aria-disabled', 'false');\n",
       "        button.click(method_name, toolbar_event);\n",
       "        button.mouseover(tooltip, toolbar_mouse_event);\n",
       "\n",
       "        var icon_img = $('<span/>');\n",
       "        icon_img.addClass('ui-button-icon-primary ui-icon');\n",
       "        icon_img.addClass(image);\n",
       "        icon_img.addClass('ui-corner-all');\n",
       "\n",
       "        var tooltip_span = $('<span/>');\n",
       "        tooltip_span.addClass('ui-button-text');\n",
       "        tooltip_span.html(tooltip);\n",
       "\n",
       "        button.append(icon_img);\n",
       "        button.append(tooltip_span);\n",
       "\n",
       "        nav_element.append(button);\n",
       "    }\n",
       "\n",
       "    var fmt_picker_span = $('<span/>');\n",
       "\n",
       "    var fmt_picker = $('<select/>');\n",
       "    fmt_picker.addClass('mpl-toolbar-option ui-widget ui-widget-content');\n",
       "    fmt_picker_span.append(fmt_picker);\n",
       "    nav_element.append(fmt_picker_span);\n",
       "    this.format_dropdown = fmt_picker[0];\n",
       "\n",
       "    for (var ind in mpl.extensions) {\n",
       "        var fmt = mpl.extensions[ind];\n",
       "        var option = $(\n",
       "            '<option/>', {selected: fmt === mpl.default_extension}).html(fmt);\n",
       "        fmt_picker.append(option)\n",
       "    }\n",
       "\n",
       "    // Add hover states to the ui-buttons\n",
       "    $( \".ui-button\" ).hover(\n",
       "        function() { $(this).addClass(\"ui-state-hover\");},\n",
       "        function() { $(this).removeClass(\"ui-state-hover\");}\n",
       "    );\n",
       "\n",
       "    var status_bar = $('<span class=\"mpl-message\"/>');\n",
       "    nav_element.append(status_bar);\n",
       "    this.message = status_bar[0];\n",
       "}\n",
       "\n",
       "mpl.figure.prototype.request_resize = function(x_pixels, y_pixels) {\n",
       "    // Request matplotlib to resize the figure. Matplotlib will then trigger a resize in the client,\n",
       "    // which will in turn request a refresh of the image.\n",
       "    this.send_message('resize', {'width': x_pixels, 'height': y_pixels});\n",
       "}\n",
       "\n",
       "mpl.figure.prototype.send_message = function(type, properties) {\n",
       "    properties['type'] = type;\n",
       "    properties['figure_id'] = this.id;\n",
       "    this.ws.send(JSON.stringify(properties));\n",
       "}\n",
       "\n",
       "mpl.figure.prototype.send_draw_message = function() {\n",
       "    if (!this.waiting) {\n",
       "        this.waiting = true;\n",
       "        this.ws.send(JSON.stringify({type: \"draw\", figure_id: this.id}));\n",
       "    }\n",
       "}\n",
       "\n",
       "\n",
       "mpl.figure.prototype.handle_save = function(fig, msg) {\n",
       "    var format_dropdown = fig.format_dropdown;\n",
       "    var format = format_dropdown.options[format_dropdown.selectedIndex].value;\n",
       "    fig.ondownload(fig, format);\n",
       "}\n",
       "\n",
       "\n",
       "mpl.figure.prototype.handle_resize = function(fig, msg) {\n",
       "    var size = msg['size'];\n",
       "    if (size[0] != fig.canvas.width || size[1] != fig.canvas.height) {\n",
       "        fig._resize_canvas(size[0], size[1]);\n",
       "        fig.send_message(\"refresh\", {});\n",
       "    };\n",
       "}\n",
       "\n",
       "mpl.figure.prototype.handle_rubberband = function(fig, msg) {\n",
       "    var x0 = msg['x0'];\n",
       "    var y0 = fig.canvas.height - msg['y0'];\n",
       "    var x1 = msg['x1'];\n",
       "    var y1 = fig.canvas.height - msg['y1'];\n",
       "    x0 = Math.floor(x0) + 0.5;\n",
       "    y0 = Math.floor(y0) + 0.5;\n",
       "    x1 = Math.floor(x1) + 0.5;\n",
       "    y1 = Math.floor(y1) + 0.5;\n",
       "    var min_x = Math.min(x0, x1);\n",
       "    var min_y = Math.min(y0, y1);\n",
       "    var width = Math.abs(x1 - x0);\n",
       "    var height = Math.abs(y1 - y0);\n",
       "\n",
       "    fig.rubberband_context.clearRect(\n",
       "        0, 0, fig.canvas.width, fig.canvas.height);\n",
       "\n",
       "    fig.rubberband_context.strokeRect(min_x, min_y, width, height);\n",
       "}\n",
       "\n",
       "mpl.figure.prototype.handle_figure_label = function(fig, msg) {\n",
       "    // Updates the figure title.\n",
       "    fig.header.textContent = msg['label'];\n",
       "}\n",
       "\n",
       "mpl.figure.prototype.handle_cursor = function(fig, msg) {\n",
       "    var cursor = msg['cursor'];\n",
       "    switch(cursor)\n",
       "    {\n",
       "    case 0:\n",
       "        cursor = 'pointer';\n",
       "        break;\n",
       "    case 1:\n",
       "        cursor = 'default';\n",
       "        break;\n",
       "    case 2:\n",
       "        cursor = 'crosshair';\n",
       "        break;\n",
       "    case 3:\n",
       "        cursor = 'move';\n",
       "        break;\n",
       "    }\n",
       "    fig.rubberband_canvas.style.cursor = cursor;\n",
       "}\n",
       "\n",
       "mpl.figure.prototype.handle_message = function(fig, msg) {\n",
       "    fig.message.textContent = msg['message'];\n",
       "}\n",
       "\n",
       "mpl.figure.prototype.handle_draw = function(fig, msg) {\n",
       "    // Request the server to send over a new figure.\n",
       "    fig.send_draw_message();\n",
       "}\n",
       "\n",
       "mpl.figure.prototype.handle_image_mode = function(fig, msg) {\n",
       "    fig.image_mode = msg['mode'];\n",
       "}\n",
       "\n",
       "mpl.figure.prototype.updated_canvas_event = function() {\n",
       "    // Called whenever the canvas gets updated.\n",
       "    this.send_message(\"ack\", {});\n",
       "}\n",
       "\n",
       "// A function to construct a web socket function for onmessage handling.\n",
       "// Called in the figure constructor.\n",
       "mpl.figure.prototype._make_on_message_function = function(fig) {\n",
       "    return function socket_on_message(evt) {\n",
       "        if (evt.data instanceof Blob) {\n",
       "            /* FIXME: We get \"Resource interpreted as Image but\n",
       "             * transferred with MIME type text/plain:\" errors on\n",
       "             * Chrome.  But how to set the MIME type?  It doesn't seem\n",
       "             * to be part of the websocket stream */\n",
       "            evt.data.type = \"image/png\";\n",
       "\n",
       "            /* Free the memory for the previous frames */\n",
       "            if (fig.imageObj.src) {\n",
       "                (window.URL || window.webkitURL).revokeObjectURL(\n",
       "                    fig.imageObj.src);\n",
       "            }\n",
       "\n",
       "            fig.imageObj.src = (window.URL || window.webkitURL).createObjectURL(\n",
       "                evt.data);\n",
       "            fig.updated_canvas_event();\n",
       "            fig.waiting = false;\n",
       "            return;\n",
       "        }\n",
       "        else if (typeof evt.data === 'string' && evt.data.slice(0, 21) == \"data:image/png;base64\") {\n",
       "            fig.imageObj.src = evt.data;\n",
       "            fig.updated_canvas_event();\n",
       "            fig.waiting = false;\n",
       "            return;\n",
       "        }\n",
       "\n",
       "        var msg = JSON.parse(evt.data);\n",
       "        var msg_type = msg['type'];\n",
       "\n",
       "        // Call the  \"handle_{type}\" callback, which takes\n",
       "        // the figure and JSON message as its only arguments.\n",
       "        try {\n",
       "            var callback = fig[\"handle_\" + msg_type];\n",
       "        } catch (e) {\n",
       "            console.log(\"No handler for the '\" + msg_type + \"' message type: \", msg);\n",
       "            return;\n",
       "        }\n",
       "\n",
       "        if (callback) {\n",
       "            try {\n",
       "                // console.log(\"Handling '\" + msg_type + \"' message: \", msg);\n",
       "                callback(fig, msg);\n",
       "            } catch (e) {\n",
       "                console.log(\"Exception inside the 'handler_\" + msg_type + \"' callback:\", e, e.stack, msg);\n",
       "            }\n",
       "        }\n",
       "    };\n",
       "}\n",
       "\n",
       "// from http://stackoverflow.com/questions/1114465/getting-mouse-location-in-canvas\n",
       "mpl.findpos = function(e) {\n",
       "    //this section is from http://www.quirksmode.org/js/events_properties.html\n",
       "    var targ;\n",
       "    if (!e)\n",
       "        e = window.event;\n",
       "    if (e.target)\n",
       "        targ = e.target;\n",
       "    else if (e.srcElement)\n",
       "        targ = e.srcElement;\n",
       "    if (targ.nodeType == 3) // defeat Safari bug\n",
       "        targ = targ.parentNode;\n",
       "\n",
       "    // jQuery normalizes the pageX and pageY\n",
       "    // pageX,Y are the mouse positions relative to the document\n",
       "    // offset() returns the position of the element relative to the document\n",
       "    var x = e.pageX - $(targ).offset().left;\n",
       "    var y = e.pageY - $(targ).offset().top;\n",
       "\n",
       "    return {\"x\": x, \"y\": y};\n",
       "};\n",
       "\n",
       "/*\n",
       " * return a copy of an object with only non-object keys\n",
       " * we need this to avoid circular references\n",
       " * http://stackoverflow.com/a/24161582/3208463\n",
       " */\n",
       "function simpleKeys (original) {\n",
       "  return Object.keys(original).reduce(function (obj, key) {\n",
       "    if (typeof original[key] !== 'object')\n",
       "        obj[key] = original[key]\n",
       "    return obj;\n",
       "  }, {});\n",
       "}\n",
       "\n",
       "mpl.figure.prototype.mouse_event = function(event, name) {\n",
       "    var canvas_pos = mpl.findpos(event)\n",
       "\n",
       "    if (name === 'button_press')\n",
       "    {\n",
       "        this.canvas.focus();\n",
       "        this.canvas_div.focus();\n",
       "    }\n",
       "\n",
       "    var x = canvas_pos.x;\n",
       "    var y = canvas_pos.y;\n",
       "\n",
       "    this.send_message(name, {x: x, y: y, button: event.button,\n",
       "                             step: event.step,\n",
       "                             guiEvent: simpleKeys(event)});\n",
       "\n",
       "    /* This prevents the web browser from automatically changing to\n",
       "     * the text insertion cursor when the button is pressed.  We want\n",
       "     * to control all of the cursor setting manually through the\n",
       "     * 'cursor' event from matplotlib */\n",
       "    event.preventDefault();\n",
       "    return false;\n",
       "}\n",
       "\n",
       "mpl.figure.prototype._key_event_extra = function(event, name) {\n",
       "    // Handle any extra behaviour associated with a key event\n",
       "}\n",
       "\n",
       "mpl.figure.prototype.key_event = function(event, name) {\n",
       "\n",
       "    // Prevent repeat events\n",
       "    if (name == 'key_press')\n",
       "    {\n",
       "        if (event.which === this._key)\n",
       "            return;\n",
       "        else\n",
       "            this._key = event.which;\n",
       "    }\n",
       "    if (name == 'key_release')\n",
       "        this._key = null;\n",
       "\n",
       "    var value = '';\n",
       "    if (event.ctrlKey && event.which != 17)\n",
       "        value += \"ctrl+\";\n",
       "    if (event.altKey && event.which != 18)\n",
       "        value += \"alt+\";\n",
       "    if (event.shiftKey && event.which != 16)\n",
       "        value += \"shift+\";\n",
       "\n",
       "    value += 'k';\n",
       "    value += event.which.toString();\n",
       "\n",
       "    this._key_event_extra(event, name);\n",
       "\n",
       "    this.send_message(name, {key: value,\n",
       "                             guiEvent: simpleKeys(event)});\n",
       "    return false;\n",
       "}\n",
       "\n",
       "mpl.figure.prototype.toolbar_button_onclick = function(name) {\n",
       "    if (name == 'download') {\n",
       "        this.handle_save(this, null);\n",
       "    } else {\n",
       "        this.send_message(\"toolbar_button\", {name: name});\n",
       "    }\n",
       "};\n",
       "\n",
       "mpl.figure.prototype.toolbar_button_onmouseover = function(tooltip) {\n",
       "    this.message.textContent = tooltip;\n",
       "};\n",
       "mpl.toolbar_items = [[\"Home\", \"Reset original view\", \"fa fa-home icon-home\", \"home\"], [\"Back\", \"Back to  previous view\", \"fa fa-arrow-left icon-arrow-left\", \"back\"], [\"Forward\", \"Forward to next view\", \"fa fa-arrow-right icon-arrow-right\", \"forward\"], [\"\", \"\", \"\", \"\"], [\"Pan\", \"Pan axes with left mouse, zoom with right\", \"fa fa-arrows icon-move\", \"pan\"], [\"Zoom\", \"Zoom to rectangle\", \"fa fa-square-o icon-check-empty\", \"zoom\"], [\"\", \"\", \"\", \"\"], [\"Download\", \"Download plot\", \"fa fa-floppy-o icon-save\", \"download\"]];\n",
       "\n",
       "mpl.extensions = [\"eps\", \"jpeg\", \"pdf\", \"png\", \"ps\", \"raw\", \"svg\", \"tif\"];\n",
       "\n",
       "mpl.default_extension = \"png\";var comm_websocket_adapter = function(comm) {\n",
       "    // Create a \"websocket\"-like object which calls the given IPython comm\n",
       "    // object with the appropriate methods. Currently this is a non binary\n",
       "    // socket, so there is still some room for performance tuning.\n",
       "    var ws = {};\n",
       "\n",
       "    ws.close = function() {\n",
       "        comm.close()\n",
       "    };\n",
       "    ws.send = function(m) {\n",
       "        //console.log('sending', m);\n",
       "        comm.send(m);\n",
       "    };\n",
       "    // Register the callback with on_msg.\n",
       "    comm.on_msg(function(msg) {\n",
       "        //console.log('receiving', msg['content']['data'], msg);\n",
       "        // Pass the mpl event to the overriden (by mpl) onmessage function.\n",
       "        ws.onmessage(msg['content']['data'])\n",
       "    });\n",
       "    return ws;\n",
       "}\n",
       "\n",
       "mpl.mpl_figure_comm = function(comm, msg) {\n",
       "    // This is the function which gets called when the mpl process\n",
       "    // starts-up an IPython Comm through the \"matplotlib\" channel.\n",
       "\n",
       "    var id = msg.content.data.id;\n",
       "    // Get hold of the div created by the display call when the Comm\n",
       "    // socket was opened in Python.\n",
       "    var element = $(\"#\" + id);\n",
       "    var ws_proxy = comm_websocket_adapter(comm)\n",
       "\n",
       "    function ondownload(figure, format) {\n",
       "        window.open(figure.imageObj.src);\n",
       "    }\n",
       "\n",
       "    var fig = new mpl.figure(id, ws_proxy,\n",
       "                           ondownload,\n",
       "                           element.get(0));\n",
       "\n",
       "    // Call onopen now - mpl needs it, as it is assuming we've passed it a real\n",
       "    // web socket which is closed, not our websocket->open comm proxy.\n",
       "    ws_proxy.onopen();\n",
       "\n",
       "    fig.parent_element = element.get(0);\n",
       "    fig.cell_info = mpl.find_output_cell(\"<div id='\" + id + \"'></div>\");\n",
       "    if (!fig.cell_info) {\n",
       "        console.error(\"Failed to find cell for figure\", id, fig);\n",
       "        return;\n",
       "    }\n",
       "\n",
       "    var output_index = fig.cell_info[2]\n",
       "    var cell = fig.cell_info[0];\n",
       "\n",
       "};\n",
       "\n",
       "mpl.figure.prototype.handle_close = function(fig, msg) {\n",
       "    fig.root.unbind('remove')\n",
       "\n",
       "    // Update the output cell to use the data from the current canvas.\n",
       "    fig.push_to_output();\n",
       "    var dataURL = fig.canvas.toDataURL();\n",
       "    // Re-enable the keyboard manager in IPython - without this line, in FF,\n",
       "    // the notebook keyboard shortcuts fail.\n",
       "    IPython.keyboard_manager.enable()\n",
       "    $(fig.parent_element).html('<img src=\"' + dataURL + '\">');\n",
       "    fig.close_ws(fig, msg);\n",
       "}\n",
       "\n",
       "mpl.figure.prototype.close_ws = function(fig, msg){\n",
       "    fig.send_message('closing', msg);\n",
       "    // fig.ws.close()\n",
       "}\n",
       "\n",
       "mpl.figure.prototype.push_to_output = function(remove_interactive) {\n",
       "    // Turn the data on the canvas into data in the output cell.\n",
       "    var dataURL = this.canvas.toDataURL();\n",
       "    this.cell_info[1]['text/html'] = '<img src=\"' + dataURL + '\">';\n",
       "}\n",
       "\n",
       "mpl.figure.prototype.updated_canvas_event = function() {\n",
       "    // Tell IPython that the notebook contents must change.\n",
       "    IPython.notebook.set_dirty(true);\n",
       "    this.send_message(\"ack\", {});\n",
       "    var fig = this;\n",
       "    // Wait a second, then push the new image to the DOM so\n",
       "    // that it is saved nicely (might be nice to debounce this).\n",
       "    setTimeout(function () { fig.push_to_output() }, 1000);\n",
       "}\n",
       "\n",
       "mpl.figure.prototype._init_toolbar = function() {\n",
       "    var fig = this;\n",
       "\n",
       "    var nav_element = $('<div/>')\n",
       "    nav_element.attr('style', 'width: 100%');\n",
       "    this.root.append(nav_element);\n",
       "\n",
       "    // Define a callback function for later on.\n",
       "    function toolbar_event(event) {\n",
       "        return fig.toolbar_button_onclick(event['data']);\n",
       "    }\n",
       "    function toolbar_mouse_event(event) {\n",
       "        return fig.toolbar_button_onmouseover(event['data']);\n",
       "    }\n",
       "\n",
       "    for(var toolbar_ind in mpl.toolbar_items){\n",
       "        var name = mpl.toolbar_items[toolbar_ind][0];\n",
       "        var tooltip = mpl.toolbar_items[toolbar_ind][1];\n",
       "        var image = mpl.toolbar_items[toolbar_ind][2];\n",
       "        var method_name = mpl.toolbar_items[toolbar_ind][3];\n",
       "\n",
       "        if (!name) { continue; };\n",
       "\n",
       "        var button = $('<button class=\"btn btn-default\" href=\"#\" title=\"' + name + '\"><i class=\"fa ' + image + ' fa-lg\"></i></button>');\n",
       "        button.click(method_name, toolbar_event);\n",
       "        button.mouseover(tooltip, toolbar_mouse_event);\n",
       "        nav_element.append(button);\n",
       "    }\n",
       "\n",
       "    // Add the status bar.\n",
       "    var status_bar = $('<span class=\"mpl-message\" style=\"text-align:right; float: right;\"/>');\n",
       "    nav_element.append(status_bar);\n",
       "    this.message = status_bar[0];\n",
       "\n",
       "    // Add the close button to the window.\n",
       "    var buttongrp = $('<div class=\"btn-group inline pull-right\"></div>');\n",
       "    var button = $('<button class=\"btn btn-mini btn-primary\" href=\"#\" title=\"Stop Interaction\"><i class=\"fa fa-power-off icon-remove icon-large\"></i></button>');\n",
       "    button.click(function (evt) { fig.handle_close(fig, {}); } );\n",
       "    button.mouseover('Stop Interaction', toolbar_mouse_event);\n",
       "    buttongrp.append(button);\n",
       "    var titlebar = this.root.find($('.ui-dialog-titlebar'));\n",
       "    titlebar.prepend(buttongrp);\n",
       "}\n",
       "\n",
       "mpl.figure.prototype._root_extra_style = function(el){\n",
       "    var fig = this\n",
       "    el.on(\"remove\", function(){\n",
       "\tfig.close_ws(fig, {});\n",
       "    });\n",
       "}\n",
       "\n",
       "mpl.figure.prototype._canvas_extra_style = function(el){\n",
       "    // this is important to make the div 'focusable\n",
       "    el.attr('tabindex', 0)\n",
       "    // reach out to IPython and tell the keyboard manager to turn it's self\n",
       "    // off when our div gets focus\n",
       "\n",
       "    // location in version 3\n",
       "    if (IPython.notebook.keyboard_manager) {\n",
       "        IPython.notebook.keyboard_manager.register_events(el);\n",
       "    }\n",
       "    else {\n",
       "        // location in version 2\n",
       "        IPython.keyboard_manager.register_events(el);\n",
       "    }\n",
       "\n",
       "}\n",
       "\n",
       "mpl.figure.prototype._key_event_extra = function(event, name) {\n",
       "    var manager = IPython.notebook.keyboard_manager;\n",
       "    if (!manager)\n",
       "        manager = IPython.keyboard_manager;\n",
       "\n",
       "    // Check for shift+enter\n",
       "    if (event.shiftKey && event.which == 13) {\n",
       "        this.canvas_div.blur();\n",
       "        event.shiftKey = false;\n",
       "        // Send a \"J\" for go to next cell\n",
       "        event.which = 74;\n",
       "        event.keyCode = 74;\n",
       "        manager.command_mode();\n",
       "        manager.handle_keydown(event);\n",
       "    }\n",
       "}\n",
       "\n",
       "mpl.figure.prototype.handle_save = function(fig, msg) {\n",
       "    fig.ondownload(fig, null);\n",
       "}\n",
       "\n",
       "\n",
       "mpl.find_output_cell = function(html_output) {\n",
       "    // Return the cell and output element which can be found *uniquely* in the notebook.\n",
       "    // Note - this is a bit hacky, but it is done because the \"notebook_saving.Notebook\"\n",
       "    // IPython event is triggered only after the cells have been serialised, which for\n",
       "    // our purposes (turning an active figure into a static one), is too late.\n",
       "    var cells = IPython.notebook.get_cells();\n",
       "    var ncells = cells.length;\n",
       "    for (var i=0; i<ncells; i++) {\n",
       "        var cell = cells[i];\n",
       "        if (cell.cell_type === 'code'){\n",
       "            for (var j=0; j<cell.output_area.outputs.length; j++) {\n",
       "                var data = cell.output_area.outputs[j];\n",
       "                if (data.data) {\n",
       "                    // IPython >= 3 moved mimebundle to data attribute of output\n",
       "                    data = data.data;\n",
       "                }\n",
       "                if (data['text/html'] == html_output) {\n",
       "                    return [cell, data, j];\n",
       "                }\n",
       "            }\n",
       "        }\n",
       "    }\n",
       "}\n",
       "\n",
       "// Register the function which deals with the matplotlib target/channel.\n",
       "// The kernel may be null if the page has been refreshed.\n",
       "if (IPython.notebook.kernel != null) {\n",
       "    IPython.notebook.kernel.comm_manager.register_target('matplotlib', mpl.mpl_figure_comm);\n",
       "}\n"
      ],
      "text/plain": [
       "<IPython.core.display.Javascript object>"
      ]
     },
     "metadata": {},
     "output_type": "display_data"
    },
    {
     "data": {
      "text/html": [
       "<img src=\"data:image/png;base64,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\">"
      ],
      "text/plain": [
       "<IPython.core.display.HTML object>"
      ]
     },
     "metadata": {},
     "output_type": "display_data"
    }
   ],
   "source": [
    "% matplotlib notebook\n",
    "\n",
    "fig = plt.figure(figsize=(9,9))\n",
    "ax = fig.gca(projection='3d')\n",
    "\n",
    "ax.set_title('3D model',fontsize=title_font,loc='center')\n",
    "cover = Poly3DCollection(verts_c,facecolors='black', linewidths=1, alpha=.9,edgecolors='k')\n",
    "sides = Poly3DCollection(verts_s,facecolors='black', linewidths=1, alpha=.9,edgecolors='k')\n",
    "\n",
    "cover.set_alpha(.3)\n",
    "ax.add_collection3d(cover)\n",
    "sides.set_alpha(.8)\n",
    "ax.add_collection3d(sides)\n",
    "\n",
    "ax.set_xlabel('X (km)',fontsize=15)\n",
    "ax.set_xlim3d(x_min, x_max,100)\n",
    "ax.set_ylabel('Y (km)',fontsize=15)\n",
    "ax.set_ylim3d(y_min, y_max,100)\n",
    "ax.set_zlabel('Z (km)',fontsize=15)\n",
    "ax.set_zlim3d(1.2*z_bottom[0], 1e-3*100.)\n",
    "ax.set_xticks(np.linspace(x_min, x_max, 5), minor=True)\n",
    "ax.set_yticks(np.linspace(y_min, y_max, 5), minor=True)\n",
    "ax.set_zticks(np.linspace(1.2*z_bottom[0], 1e-3*100., 6), minor=True)\n",
    "ax.view_init(40,320)\n",
    "\n",
    "file_name = 'figs/3D_prism'\n",
    "plt.savefig(file_name+'.png',dpi=200)\n",
    "saved_files.append(file_name+'.png')\n",
    "\n",
    "plt.savefig(file_name+'.eps',dpi=200)\n",
    "saved_files.append(file_name+'.eps')\n",
    "\n",
    "\n",
    "plt.show()"
   ]
  },
  {
   "cell_type": "markdown",
   "metadata": {},
   "source": [
    "#### Saved files"
   ]
  },
  {
   "cell_type": "code",
   "execution_count": 42,
   "metadata": {},
   "outputs": [
    {
     "name": "stdout",
     "output_type": "stream",
     "text": [
      "1  data/model_poly_remanent.pickle\n",
      "2  data/model_poly_induced.pickle\n",
      "3  figs/prism_bound.png\n",
      "4  figs/prism_bound.eps\n",
      "5  figs/3D_prism.png\n",
      "6  figs/3D_prism.eps\n"
     ]
    }
   ],
   "source": [
    "with open('reports/report_%s.md' % notebook_name[:st.index(notebook_name, '.')], 'w') as q:\n",
    "    q.write('# Saved files \\n')\n",
    "    now = datetime.datetime.utcnow().strftime('%d %B %Y %H:%M:%S UTC')\n",
    "    header = 'Generated by {name} on {date}'.format(date=now, name=notebook_name)\n",
    "    q.write('\\n\\n'+header+'\\n\\n')\n",
    "    for i, sf in enumerate(saved_files):\n",
    "        print '%d  %s' % (i+1,sf)\n",
    "        q.write('*  `%s` \\n' % (sf))"
   ]
  }
 ],
 "metadata": {
  "kernelspec": {
   "display_name": "Python 2",
   "language": "python",
   "name": "python2"
  },
  "language_info": {
   "codemirror_mode": {
    "name": "ipython",
    "version": 2
   },
   "file_extension": ".py",
   "mimetype": "text/x-python",
   "name": "python",
   "nbconvert_exporter": "python",
   "pygments_lexer": "ipython2",
   "version": "2.7.14"
  }
 },
 "nbformat": 4,
 "nbformat_minor": 2
}
