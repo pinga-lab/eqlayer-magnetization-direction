{
 "cells": [
  {
   "cell_type": "markdown",
   "metadata": {},
   "source": [
    "# Generating a set of Total Field anomaly data for a model"
   ]
  },
  {
   "cell_type": "markdown",
   "metadata": {},
   "source": [
    "Notebook to open a dictionary with the Total Field Anomaly data for a set of geometrical objects."
   ]
  },
  {
   "cell_type": "markdown",
   "metadata": {},
   "source": [
    "#### Import libraries"
   ]
  },
  {
   "cell_type": "code",
   "execution_count": 1,
   "metadata": {},
   "outputs": [
    {
     "name": "stderr",
     "output_type": "stream",
     "text": [
      "/home/vanderlei/Documents/fatiando/fatiando/vis/mpl.py:70: UserWarning: This module will be removed in v0.6. We recommend the use of matplotlib.pyplot module directly. Some of the fatiando specific functions will remain.\n",
      "  \"specific functions will remain.\")\n"
     ]
    }
   ],
   "source": [
    "%matplotlib inline\n",
    "from IPython.display import Markdown as md\n",
    "from IPython.display import display as dp\n",
    "import string as st\n",
    "import sys\n",
    "import numpy as np\n",
    "import matplotlib.pyplot as plt\n",
    "import cPickle as pickle\n",
    "import datetime\n",
    "\n",
    "from fatiando.utils import ang2vec, vec2ang\n",
    "from fatiando.mesher import Sphere, Prism,PolygonalPrism\n",
    "from fatiando.gravmag import sphere,prism, polyprism"
   ]
  },
  {
   "cell_type": "code",
   "execution_count": 2,
   "metadata": {},
   "outputs": [],
   "source": [
    "notebook_name = 'synthetic_data.ipynb'"
   ]
  },
  {
   "cell_type": "markdown",
   "metadata": {},
   "source": [
    "#### Importing auxiliary functions"
   ]
  },
  {
   "cell_type": "code",
   "execution_count": 3,
   "metadata": {},
   "outputs": [],
   "source": [
    "dir_modules = '../../../mypackage'\n",
    "sys.path.append(dir_modules)"
   ]
  },
  {
   "cell_type": "code",
   "execution_count": 4,
   "metadata": {},
   "outputs": [],
   "source": [
    "import auxiliary_functions as func"
   ]
  },
  {
   "cell_type": "markdown",
   "metadata": {},
   "source": [
    "#### Loading properties of a set of geometrical objects"
   ]
  },
  {
   "cell_type": "code",
   "execution_count": 5,
   "metadata": {},
   "outputs": [],
   "source": [
    "with open('data/model_multi.pickle') as f:\n",
    "        model_multi = pickle.load(f)"
   ]
  },
  {
   "cell_type": "markdown",
   "metadata": {},
   "source": [
    "#### Loading the grid parameters"
   ]
  },
  {
   "cell_type": "code",
   "execution_count": 6,
   "metadata": {},
   "outputs": [],
   "source": [
    "with open('data/airborne_survey.pickle') as f:\n",
    "        airborne = pickle.load(f)"
   ]
  },
  {
   "cell_type": "markdown",
   "metadata": {},
   "source": [
    "#### Constructing a dictionary"
   ]
  },
  {
   "cell_type": "code",
   "execution_count": 7,
   "metadata": {},
   "outputs": [],
   "source": [
    "data_set = dict()"
   ]
  },
  {
   "cell_type": "markdown",
   "metadata": {},
   "source": [
    "#### List of saved files"
   ]
  },
  {
   "cell_type": "code",
   "execution_count": 8,
   "metadata": {},
   "outputs": [],
   "source": [
    "saved_files = []"
   ]
  },
  {
   "cell_type": "markdown",
   "metadata": {},
   "source": [
    "## Properties of the model"
   ]
  },
  {
   "cell_type": "markdown",
   "metadata": {},
   "source": [
    "## Main field"
   ]
  },
  {
   "cell_type": "code",
   "execution_count": 9,
   "metadata": {},
   "outputs": [],
   "source": [
    "inc_gf,dec_gf = model_multi['main_field']"
   ]
  },
  {
   "cell_type": "code",
   "execution_count": 10,
   "metadata": {},
   "outputs": [
    {
     "name": "stdout",
     "output_type": "stream",
     "text": [
      "Main field inclination: -40.0 degree\n",
      "Main field declination: -22.0 degree\n"
     ]
    }
   ],
   "source": [
    "print'Main field inclination: %.1f degree' % inc_gf\n",
    "print'Main field declination: %.1f degree' % dec_gf"
   ]
  },
  {
   "cell_type": "markdown",
   "metadata": {},
   "source": [
    "## Magnetization Direction"
   ]
  },
  {
   "cell_type": "markdown",
   "metadata": {},
   "source": [
    "### Direction w/ the presence of remanent magnetization"
   ]
  },
  {
   "cell_type": "code",
   "execution_count": 11,
   "metadata": {},
   "outputs": [
    {
     "name": "stdout",
     "output_type": "stream",
     "text": [
      "Inclination: -25.0 degree\n",
      "Declination: 30.0 degree\n"
     ]
    }
   ],
   "source": [
    "print 'Inclination: %.1f degree' % model_multi['inc_R']\n",
    "print 'Declination: %.1f degree' % model_multi['dec_R']"
   ]
  },
  {
   "cell_type": "code",
   "execution_count": 12,
   "metadata": {},
   "outputs": [],
   "source": [
    "inc_R,dec_R = model_multi['inc_R'],model_multi['dec_R']"
   ]
  },
  {
   "cell_type": "markdown",
   "metadata": {},
   "source": [
    "## Calculating the data"
   ]
  },
  {
   "cell_type": "markdown",
   "metadata": {},
   "source": [
    "### For Airborne survey"
   ]
  },
  {
   "cell_type": "markdown",
   "metadata": {},
   "source": [
    "#### Observation area"
   ]
  },
  {
   "cell_type": "code",
   "execution_count": 13,
   "metadata": {},
   "outputs": [
    {
     "name": "stdout",
     "output_type": "stream",
     "text": [
      "Area limits: \n",
      " x_max = 5500.0 m \n",
      " x_min = -6500.0 m \n",
      " y_max = 6500.0 m \n",
      " y_min = -5500.0 m\n"
     ]
    }
   ],
   "source": [
    "print 'Area limits: \\n x_max = %.1f m \\n x_min = %.1f m \\n y_max = %.1f m \\n y_min = %.1f m' % (airborne['area'][1],airborne['area'][0],\n",
    "                                                                                                airborne['area'][3],airborne['area'][2])"
   ]
  },
  {
   "cell_type": "markdown",
   "metadata": {},
   "source": [
    "#### Airborne survey information"
   ]
  },
  {
   "cell_type": "code",
   "execution_count": 14,
   "metadata": {},
   "outputs": [
    {
     "name": "stdout",
     "output_type": "stream",
     "text": [
      "Shape : (49,25)\n",
      "Number of data: 1225.0\n",
      "dx: 250.0 m\n",
      "dy: 500.0 m \n",
      "Height: -100.0 m\n"
     ]
    }
   ],
   "source": [
    "print 'Shape : (%.0f,%.0f)'% airborne['shape'] \n",
    "print 'Number of data: %.1f' % airborne['N']\n",
    "print 'dx: %.1f m' % airborne['dx']\n",
    "print 'dy: %.1f m ' % airborne['dy']\n",
    "print 'Height: %.1f m' % airborne['z_obs']"
   ]
  },
  {
   "cell_type": "markdown",
   "metadata": {},
   "source": [
    "#### Calculating the data"
   ]
  },
  {
   "cell_type": "code",
   "execution_count": 15,
   "metadata": {},
   "outputs": [],
   "source": [
    "data_set['tfa_RM_airb_poly'] = polyprism.tf(airborne['x'],airborne['y'],airborne['z'],\n",
    "                                          model_multi['polygons'],inc_gf,dec_gf)"
   ]
  },
  {
   "cell_type": "code",
   "execution_count": 16,
   "metadata": {},
   "outputs": [],
   "source": [
    "data_set['tfa_RM_airb_sph'] = sphere.tf(airborne['x'],airborne['y'],airborne['z'],\n",
    "                                          model_multi['spheres'],inc_gf,dec_gf)"
   ]
  },
  {
   "cell_type": "code",
   "execution_count": 17,
   "metadata": {},
   "outputs": [],
   "source": [
    "data_set['tfa_RM_airb_pri'] = prism.tf(airborne['x'],airborne['y'],airborne['z'],\n",
    "                                          model_multi['prisms'],inc_gf,dec_gf)"
   ]
  },
  {
   "cell_type": "code",
   "execution_count": 18,
   "metadata": {},
   "outputs": [],
   "source": [
    "data_set['tfa_RM_airb'] = data_set['tfa_RM_airb_poly'] + data_set['tfa_RM_airb_sph'] + data_set['tfa_RM_airb_pri']"
   ]
  },
  {
   "cell_type": "markdown",
   "metadata": {},
   "source": [
    "##### Generating noise for the data set w/ remanet magnetization presence"
   ]
  },
  {
   "cell_type": "code",
   "execution_count": 19,
   "metadata": {},
   "outputs": [],
   "source": [
    "np.random.seed(seed=40)"
   ]
  },
  {
   "cell_type": "code",
   "execution_count": 20,
   "metadata": {},
   "outputs": [],
   "source": [
    "std_noise = 10.\n",
    "r = np.random.normal(0.0,std_noise, airborne['Nx']*airborne['Ny'])\n",
    "data_set['tfa_obs_RM_airb'] =  data_set['tfa_RM_airb'] + r"
   ]
  },
  {
   "cell_type": "markdown",
   "metadata": {},
   "source": [
    "#### Visualization of Total Field Anomaly for airborne survey w/ the presence of Remanent magnetization in a polyprism"
   ]
  },
  {
   "cell_type": "code",
   "execution_count": 21,
   "metadata": {},
   "outputs": [
    {
     "name": "stderr",
     "output_type": "stream",
     "text": [
      "/home/vanderlei/anaconda3/envs/fatiando2/lib/python2.7/site-packages/matplotlib/figure.py:2299: UserWarning: This figure includes Axes that are not compatible with tight_layout, so results might be incorrect.\n",
      "  warnings.warn(\"This figure includes Axes that are not compatible \"\n"
     ]
    },
    {
     "data": {
      "image/png": "[encoded data removed]",
      "text/plain": [
       "<Figure size 648x648 with 2 Axes>"
      ]
     },
     "metadata": {
      "needs_background": "light"
     },
     "output_type": "display_data"
    }
   ],
   "source": [
    "title_font = 20\n",
    "bottom_font = 18\n",
    "saturation_factor = 1.\n",
    "plt.close('all')\n",
    "plt.figure(figsize=(9,9), tight_layout=True)\n",
    "\n",
    "plt.contourf(airborne['y'].reshape(airborne['shape']), \n",
    "             airborne['x'].reshape(airborne['shape']),\n",
    "             data_set['tfa_obs_RM_airb'].reshape(airborne['shape']), \n",
    "             30, cmap='viridis')\n",
    "plt.colorbar(pad=0.01, aspect=40, shrink=1.0).set_label('nT')\n",
    "plt.xlabel('y (m)', fontsize = title_font)\n",
    "plt.ylabel('x (m)', fontsize = title_font)\n",
    "plt.title('TFA (RM_airborne)', fontsize=title_font)\n",
    "plt.tick_params(labelsize=15)\n",
    "\n",
    "file_name = 'figs/airborne/noisy_data_tfa_RM_airborne_multi'\n",
    "plt.savefig(file_name+'.png',dpi=200)\n",
    "saved_files.append(file_name+'.png')\n",
    "\n",
    "plt.savefig(file_name+'.eps',dpi=200)\n",
    "saved_files.append(file_name+'.eps')\n",
    "\n",
    "\n",
    "plt.show()"
   ]
  },
  {
   "cell_type": "markdown",
   "metadata": {},
   "source": [
    "#### Generating .pickle file"
   ]
  },
  {
   "cell_type": "code",
   "execution_count": 22,
   "metadata": {},
   "outputs": [],
   "source": [
    "now = datetime.datetime.utcnow().strftime('%d %B %Y %H:%M:%S UTC')\n",
    "data_set['metadata'] = 'Generated by {name} on {date}'.format(date=now, name=notebook_name)"
   ]
  },
  {
   "cell_type": "code",
   "execution_count": 23,
   "metadata": {},
   "outputs": [],
   "source": [
    "file_name = 'data/data_set.pickle'\n",
    "with open(file_name, 'w') as f:\n",
    "    pickle.dump(data_set, f)\n",
    "    \n",
    "saved_files.append(file_name)\n"
   ]
  },
  {
   "cell_type": "markdown",
   "metadata": {},
   "source": [
    "## Saved files"
   ]
  },
  {
   "cell_type": "code",
   "execution_count": 24,
   "metadata": {},
   "outputs": [
    {
     "name": "stdout",
     "output_type": "stream",
     "text": [
      "1  figs/airborne/noisy_data_tfa_RM_airborne_multi.png\n",
      "2  figs/airborne/noisy_data_tfa_RM_airborne_multi.eps\n",
      "3  data/data_set.pickle\n"
     ]
    }
   ],
   "source": [
    "with open('reports/report_%s.md' % notebook_name[:st.index(notebook_name, '.')], 'w') as q:\n",
    "    q.write('# Saved files \\n')\n",
    "    now = datetime.datetime.utcnow().strftime('%d %B %Y %H:%M:%S UTC')\n",
    "    header = 'Generated by {name} on {date}'.format(date=now, name=notebook_name)\n",
    "    q.write('\\n\\n'+header+'\\n\\n')\n",
    "    for i, sf in enumerate(saved_files):\n",
    "        print '%d  %s' % (i+1,sf)\n",
    "        q.write('*  `%s` \\n' % (sf))"
   ]
  },
  {
   "cell_type": "code",
   "execution_count": null,
   "metadata": {},
   "outputs": [],
   "source": []
  }
 ],
 "metadata": {
  "kernelspec": {
   "display_name": "Python 2",
   "language": "python",
   "name": "python2"
  },
  "language_info": {
   "codemirror_mode": {
    "name": "ipython",
    "version": 2
   },
   "file_extension": ".py",
   "mimetype": "text/x-python",
   "name": "python",
   "nbconvert_exporter": "python",
   "pygments_lexer": "ipython2",
   "version": "2.7.17"
  }
 },
 "nbformat": 4,
 "nbformat_minor": 2
}
