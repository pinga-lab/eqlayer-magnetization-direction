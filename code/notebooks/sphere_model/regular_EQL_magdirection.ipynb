{
 "cells": [
  {
   "cell_type": "markdown",
   "metadata": {},
   "source": [
    "# Equivalent Layer technique for estimating magnetization direction of a magnetized sphere"
   ]
  },
  {
   "cell_type": "markdown",
   "metadata": {},
   "source": [
    "#### Importing libraries"
   ]
  },
  {
   "cell_type": "code",
   "execution_count": 1,
   "metadata": {},
   "outputs": [],
   "source": [
    "% matplotlib inline "
   ]
  },
  {
   "cell_type": "code",
   "execution_count": 2,
   "metadata": {},
   "outputs": [
    {
     "name": "stderr",
     "output_type": "stream",
     "text": [
      "/home/andrelreis/anaconda2/lib/python2.7/site-packages/fatiando/vis/mpl.py:76: UserWarning: This module will be removed in v0.6. We recommend the use of matplotlib.pyplot module directly. Some of the fatiando specific functions will remain.\n",
      "  \"specific functions will remain.\")\n"
     ]
    }
   ],
   "source": [
    "import sys\n",
    "import numpy as np\n",
    "import matplotlib.pyplot as plt\n",
    "import cPickle as pickle\n",
    "import datetime\n",
    "import timeit\n",
    "from scipy.optimize import nnls\n",
    "from fatiando.gridder import regular\n",
    "from fatiando.utils import ang2vec, vec2ang\n",
    "from fatiando.mesher import Sphere, PointGrid,Prism\n",
    "from fatiando.gravmag import sphere,prism\n",
    "from fatiando.constants import CM, T2NT, G, SI2MGAL"
   ]
  },
  {
   "cell_type": "code",
   "execution_count": 3,
   "metadata": {},
   "outputs": [],
   "source": [
    "notebook_name = 'regular_EQL_magdirection.ipynb'"
   ]
  },
  {
   "cell_type": "markdown",
   "metadata": {},
   "source": [
    "### Gray background figures"
   ]
  },
  {
   "cell_type": "code",
   "execution_count": 4,
   "metadata": {},
   "outputs": [],
   "source": [
    "plt.style.use('grayscale')"
   ]
  },
  {
   "cell_type": "markdown",
   "metadata": {},
   "source": [
    "#### Importing auxiliary functions"
   ]
  },
  {
   "cell_type": "code",
   "execution_count": 5,
   "metadata": {},
   "outputs": [],
   "source": [
    "dir_modules = '../../mypackage'\n",
    "sys.path.append(dir_modules)"
   ]
  },
  {
   "cell_type": "code",
   "execution_count": 6,
   "metadata": {},
   "outputs": [],
   "source": [
    "import auxiliary_functions as fc"
   ]
  },
  {
   "cell_type": "markdown",
   "metadata": {},
   "source": [
    "#### Loading properties of the model"
   ]
  },
  {
   "cell_type": "code",
   "execution_count": 7,
   "metadata": {},
   "outputs": [],
   "source": [
    "with open('data/model_sphere_remanent.pickle') as f:\n",
    "        model_sphere_remanent = pickle.load(f)"
   ]
  },
  {
   "cell_type": "code",
   "execution_count": 8,
   "metadata": {},
   "outputs": [],
   "source": [
    "with open('data/model_sphere_induced.pickle') as f:\n",
    "        model_sphere_induced = pickle.load(f)"
   ]
  },
  {
   "cell_type": "markdown",
   "metadata": {},
   "source": [
    "#### Loading properties grid"
   ]
  },
  {
   "cell_type": "code",
   "execution_count": 9,
   "metadata": {},
   "outputs": [],
   "source": [
    "with open('data/regular_grid.pickle') as f:\n",
    "        regular_grid = pickle.load(f)"
   ]
  },
  {
   "cell_type": "markdown",
   "metadata": {},
   "source": [
    "#### Loading data"
   ]
  },
  {
   "cell_type": "code",
   "execution_count": 10,
   "metadata": {},
   "outputs": [],
   "source": [
    "with open('data/data_set.pickle') as f:\n",
    "        data = pickle.load(f)"
   ]
  },
  {
   "cell_type": "markdown",
   "metadata": {},
   "source": [
    "#### Open a dictionary"
   ]
  },
  {
   "cell_type": "code",
   "execution_count": 11,
   "metadata": {},
   "outputs": [],
   "source": [
    "dir_sphere = dict()"
   ]
  },
  {
   "cell_type": "markdown",
   "metadata": {},
   "source": [
    "### Saving files"
   ]
  },
  {
   "cell_type": "code",
   "execution_count": 12,
   "metadata": {},
   "outputs": [],
   "source": [
    "saved_files = []"
   ]
  },
  {
   "cell_type": "markdown",
   "metadata": {},
   "source": [
    "## Observation area"
   ]
  },
  {
   "cell_type": "code",
   "execution_count": 13,
   "metadata": {},
   "outputs": [
    {
     "name": "stdout",
     "output_type": "stream",
     "text": [
      "Area limits: \n",
      " x_max = 5000.0 m \n",
      " x_min = -5000.0 m \n",
      " y_max = 5000.0 m \n",
      " y_min = -5000.0 m\n"
     ]
    }
   ],
   "source": [
    "print 'Area limits: \\n x_max = %.1f m \\n x_min = %.1f m \\n y_max = %.1f m \\n y_min = %.1f m' % (regular_grid['area'][1], \n",
    "                                                                                                regular_grid['area'][0],\n",
    "                                                                                                regular_grid['area'][3],\n",
    "                                                                                                regular_grid['area'][2])"
   ]
  },
  {
   "cell_type": "markdown",
   "metadata": {},
   "source": [
    "### Regular grid information"
   ]
  },
  {
   "cell_type": "code",
   "execution_count": 14,
   "metadata": {},
   "outputs": [
    {
     "name": "stdout",
     "output_type": "stream",
     "text": [
      "Shape : (25,25)\n",
      "Number of data: 625.0\n",
      "dx: 416.7 m\n",
      "dy: 416.7 m \n"
     ]
    }
   ],
   "source": [
    "print 'Shape : (%.0f,%.0f)'% regular_grid['shape'] \n",
    "print 'Number of data: %.1f' % regular_grid['N']\n",
    "print 'dx: %.1f m' % regular_grid['dx']\n",
    "print 'dy: %.1f m ' % regular_grid['dy']"
   ]
  },
  {
   "cell_type": "markdown",
   "metadata": {},
   "source": [
    "## Properties of the model"
   ]
  },
  {
   "cell_type": "markdown",
   "metadata": {},
   "source": [
    "### Dimension and coordinate of the center"
   ]
  },
  {
   "cell_type": "code",
   "execution_count": 15,
   "metadata": {},
   "outputs": [
    {
     "name": "stdout",
     "output_type": "stream",
     "text": [
      "Properties Sphere:\n",
      " xc = 0.0 m \n",
      " yc = 0.0 m \n",
      " zc = 2000.0 m \n",
      " radius = 1500.0 m \n"
     ]
    }
   ],
   "source": [
    "print 'Properties Sphere:\\n xc = %.1f m \\n yc = %.1f m \\n zc = %.1f m \\n radius = %.1f m ' %  (model_sphere_remanent['xc'],\n",
    "                                                                                               model_sphere_remanent['yc'],\n",
    "                                                                                               model_sphere_remanent['zc'],\n",
    "                                                                                               model_sphere_remanent['radius'])"
   ]
  },
  {
   "cell_type": "markdown",
   "metadata": {},
   "source": [
    "### Main field"
   ]
  },
  {
   "cell_type": "code",
   "execution_count": 16,
   "metadata": {},
   "outputs": [],
   "source": [
    "inc_gf,dec_gf = model_sphere_remanent['main_field']"
   ]
  },
  {
   "cell_type": "code",
   "execution_count": 17,
   "metadata": {},
   "outputs": [
    {
     "name": "stdout",
     "output_type": "stream",
     "text": [
      "Main field inclination: 40.0 degree\n",
      "Main field declination: 45.0 degree\n"
     ]
    }
   ],
   "source": [
    "print'Main field inclination: %.1f degree' % inc_gf\n",
    "print'Main field declination: %.1f degree' % dec_gf"
   ]
  },
  {
   "cell_type": "markdown",
   "metadata": {},
   "source": [
    "### Magnetization direction"
   ]
  },
  {
   "cell_type": "code",
   "execution_count": 18,
   "metadata": {},
   "outputs": [
    {
     "name": "stdout",
     "output_type": "stream",
     "text": [
      "Intensity: 15.0 A/m\n",
      "Inclination: 60.0 degree\n",
      "Declination: 10.0 degree\n"
     ]
    }
   ],
   "source": [
    "print 'Intensity: %.1f A/m' % model_sphere_remanent['m_R']\n",
    "print 'Inclination: %.1f degree' % model_sphere_remanent['inc_R']\n",
    "print 'Declination: %.1f degree' % model_sphere_remanent['dec_R']"
   ]
  },
  {
   "cell_type": "code",
   "execution_count": 19,
   "metadata": {},
   "outputs": [],
   "source": [
    "inc_R,dec_R = model_sphere_remanent['inc_R'],model_sphere_remanent['dec_R']"
   ]
  },
  {
   "cell_type": "markdown",
   "metadata": {},
   "source": [
    "## Generating the layer with my function "
   ]
  },
  {
   "cell_type": "code",
   "execution_count": 20,
   "metadata": {},
   "outputs": [],
   "source": [
    "h = 2000."
   ]
  },
  {
   "cell_type": "markdown",
   "metadata": {},
   "source": [
    "#### Generating a layer"
   ]
  },
  {
   "cell_type": "code",
   "execution_count": 21,
   "metadata": {},
   "outputs": [],
   "source": [
    "shape_layer = (25,25)"
   ]
  },
  {
   "cell_type": "code",
   "execution_count": 22,
   "metadata": {},
   "outputs": [],
   "source": [
    "xs,ys,zs = regular(regular_grid['area'],shape_layer,h)"
   ]
  },
  {
   "cell_type": "markdown",
   "metadata": {},
   "source": [
    "## Non-negative Least Squares Method for estimating a positive layer"
   ]
  },
  {
   "cell_type": "code",
   "execution_count": 23,
   "metadata": {},
   "outputs": [],
   "source": [
    "G = fc.sensitivity_mag(regular_grid['x'],regular_grid['y'],regular_grid['z'],\n",
    "                       xs,ys,zs,inc_gf,dec_gf,inc_R,dec_R)"
   ]
  },
  {
   "cell_type": "code",
   "execution_count": 24,
   "metadata": {},
   "outputs": [],
   "source": [
    "start_time = timeit.default_timer()"
   ]
  },
  {
   "cell_type": "code",
   "execution_count": 25,
   "metadata": {},
   "outputs": [],
   "source": [
    "m_pos,_ = nnls(G,data['tfa_obs_sphere_RM_reg'])"
   ]
  },
  {
   "cell_type": "code",
   "execution_count": 26,
   "metadata": {},
   "outputs": [],
   "source": [
    "elapsed = timeit.default_timer() - start_time"
   ]
  },
  {
   "cell_type": "code",
   "execution_count": 27,
   "metadata": {},
   "outputs": [
    {
     "name": "stdout",
     "output_type": "stream",
     "text": [
      "0.169105052948\n"
     ]
    }
   ],
   "source": [
    "print elapsed"
   ]
  },
  {
   "cell_type": "code",
   "execution_count": 28,
   "metadata": {},
   "outputs": [],
   "source": [
    "tf_pred_pos = fc.tfa_layer(regular_grid['x'],regular_grid['y'],regular_grid['z'],\n",
    "                           xs,ys,zs,inc_gf,dec_gf,m_pos,inc_R,dec_R)"
   ]
  },
  {
   "cell_type": "markdown",
   "metadata": {},
   "source": [
    "### Calculating residual"
   ]
  },
  {
   "cell_type": "code",
   "execution_count": 29,
   "metadata": {},
   "outputs": [],
   "source": [
    "r_pos = data['tfa_obs_sphere_RM_reg'] - tf_pred_pos"
   ]
  },
  {
   "cell_type": "markdown",
   "metadata": {},
   "source": [
    "#### Parameters for normalized histogram"
   ]
  },
  {
   "cell_type": "code",
   "execution_count": 30,
   "metadata": {},
   "outputs": [],
   "source": [
    "r_norm,r_mean,r_std = fc.residual(data['tfa_obs_sphere_RM_reg'],tf_pred_pos)"
   ]
  },
  {
   "cell_type": "code",
   "execution_count": 31,
   "metadata": {},
   "outputs": [
    {
     "name": "stdout",
     "output_type": "stream",
     "text": [
      "-0.413554484633\n"
     ]
    }
   ],
   "source": [
    "print r_mean"
   ]
  },
  {
   "cell_type": "markdown",
   "metadata": {},
   "source": [
    "## Comparison between the Model and the Layer with posivity"
   ]
  },
  {
   "cell_type": "code",
   "execution_count": 32,
   "metadata": {},
   "outputs": [
    {
     "name": "stderr",
     "output_type": "stream",
     "text": [
      "/home/andrelreis/anaconda2/lib/python2.7/site-packages/matplotlib/figure.py:1744: UserWarning: This figure includes Axes that are not compatible with tight_layout, so its results might be incorrect.\n",
      "  warnings.warn(\"This figure includes Axes that are not \"\n"
     ]
    },
    {
     "data": {
      "image/png": "[encoded data removed]",
      "text/plain": [
       "<matplotlib.figure.Figure at 0x7f9c36287690>"
      ]
     },
     "metadata": {},
     "output_type": "display_data"
    }
   ],
   "source": [
    "title_font = 20\n",
    "bottom_font = 16\n",
    "saturation_factor = 1.\n",
    "plt.close('all')\n",
    "plt.figure(figsize=(19,7), tight_layout=True)\n",
    "\n",
    "ranges = saturation_factor*np.abs([data['tfa_obs_sphere_RM_reg'].max(), \n",
    "                                   data['tfa_obs_sphere_RM_reg'].min(),\n",
    "                                   tf_pred_pos.max(), tf_pred_pos.min()]).max()\n",
    "\n",
    "r_ranges = saturation_factor*np.abs([r_pos.max(),r_pos.min()]).max() \n",
    "\n",
    "\n",
    "plt.subplot(1,4,1)\n",
    "plt.contourf(regular_grid['y'].reshape(regular_grid['shape']),\n",
    "             regular_grid['x'].reshape(regular_grid['shape']), \n",
    "             data['tfa_obs_sphere_RM_reg'].reshape(regular_grid['shape']),\n",
    "             20, cmap='viridis',vmin=-ranges, vmax=ranges)\n",
    "plt.colorbar(pad=0.01, aspect=40, shrink=1.0).set_label('nT')\n",
    "plt.xlabel('y (m)', fontsize = title_font)\n",
    "plt.ylabel('x (m)', fontsize = title_font)\n",
    "plt.title('TFA (RM_reg_grid) ', fontsize=title_font)\n",
    "\n",
    "plt.subplot(1,4,2)\n",
    "plt.contourf(regular_grid['y'].reshape(regular_grid['shape']),\n",
    "             regular_grid['x'].reshape(regular_grid['shape']),\n",
    "             tf_pred_pos.reshape(regular_grid['shape']),\n",
    "             20, cmap='viridis',  vmin=-ranges, vmax=ranges)\n",
    "plt.colorbar(pad=0.01, aspect=40, shrink=1.0).set_label('nT')\n",
    "plt.xlabel('y (m)', fontsize = title_font)\n",
    "plt.ylabel('x (m)', fontsize = title_font)\n",
    "plt.title('TFA (Layer)', fontsize=title_font)\n",
    "\n",
    "plt.subplot(1,4,3)\n",
    "plt.contourf(regular_grid['y'].reshape(regular_grid['shape']),\n",
    "             regular_grid['x'].reshape(regular_grid['shape']),\n",
    "             r_pos.reshape(regular_grid['shape']), \n",
    "             20, cmap='viridis',  vmin=-r_ranges, vmax=r_ranges)\n",
    "plt.colorbar(pad=0.01, aspect=40, shrink=1.0).set_label('nT')\n",
    "plt.xlabel('y (m)', fontsize = title_font)\n",
    "plt.ylabel('x (m)', fontsize = title_font)\n",
    "plt.title('Residual map', fontsize=title_font)\n",
    "\n",
    "\n",
    "plt.subplot(1,4,4)\n",
    "plt.xlabel('$\\mu$ = %.3f | $\\sigma$ = %.3f nT' % (r_mean, r_std),\n",
    "           fontsize = bottom_font)\n",
    "nbins = int((np.max(r_norm - np.min(r_norm))))\n",
    "plt.hist(r_norm,bins=nbins,normed=True)\n",
    "plt.ylim(0.,1.)\n",
    "plt.xlim(-10., 10.)\n",
    "plt.title('Normalized Histogram',fontsize=title_font)\n",
    "\n",
    "file_name = 'figs/regular/noisy_data_fitting_NNLS_magRM'\n",
    "plt.savefig(file_name+'.png',dpi=200)\n",
    "saved_files.append(file_name+'.png')\n",
    "\n",
    "plt.show()"
   ]
  },
  {
   "cell_type": "markdown",
   "metadata": {},
   "source": [
    "### Magnetic moment within the Layer with positivity constraint"
   ]
  },
  {
   "cell_type": "code",
   "execution_count": 33,
   "metadata": {},
   "outputs": [
    {
     "data": {
      "text/plain": [
       "<function matplotlib.pyplot.show>"
      ]
     },
     "execution_count": 33,
     "metadata": {},
     "output_type": "execute_result"
    },
    {
     "data": {
      "image/png": "[encoded data removed]",
      "text/plain": [
       "<matplotlib.figure.Figure at 0x7f9c2ad30d50>"
      ]
     },
     "metadata": {},
     "output_type": "display_data"
    }
   ],
   "source": [
    "title_font = 20\n",
    "bottom_font = 16\n",
    "saturation_factor = 1.\n",
    "plt.close('all')\n",
    "plt.figure(figsize=(8,8), tight_layout=True)\n",
    "\n",
    "ranges = saturation_factor*np.abs([m_pos.max(), m_pos.min()]).max()\n",
    "\n",
    "plt.contourf(ys.reshape(shape_layer),\n",
    "             xs.reshape(shape_layer), \n",
    "             m_pos.reshape(shape_layer),\n",
    "             20, cmap='viridis',vmin=-ranges, vmax=ranges)\n",
    "plt.colorbar(pad=0.01, aspect=40, shrink=1.0).set_label('$A.m^2$')\n",
    "plt.xlabel('y (m)', fontsize = title_font)\n",
    "plt.ylabel('x (m)', fontsize = title_font)\n",
    "plt.title('Magnetic moment (layer)', fontsize=title_font)\n",
    "plt.text(3500.,4500.,'Inc = %.1f'% inc_R,family='ubuntu',style='normal')\n",
    "plt.text(3100.,4100.,'Inc_mf = %.1f'% inc_gf,family='ubuntu',style='normal' )\n",
    "\n",
    "file_name = 'figs/regular/noisy_magnetic_moment_positive_NNLS_magRM'\n",
    "plt.savefig(file_name+'.png',dpi=200)\n",
    "saved_files.append(file_name+'.png')\n",
    "\n",
    "plt.show"
   ]
  },
  {
   "cell_type": "markdown",
   "metadata": {},
   "source": [
    "### Levenberg-Marquardt with NNLS for positive magnetic moments"
   ]
  },
  {
   "cell_type": "code",
   "execution_count": 34,
   "metadata": {},
   "outputs": [],
   "source": [
    "i_pos = 250"
   ]
  },
  {
   "cell_type": "code",
   "execution_count": 35,
   "metadata": {},
   "outputs": [],
   "source": [
    "it_max = 30"
   ]
  },
  {
   "cell_type": "code",
   "execution_count": 36,
   "metadata": {},
   "outputs": [],
   "source": [
    "it_marq = 15"
   ]
  },
  {
   "cell_type": "code",
   "execution_count": 37,
   "metadata": {},
   "outputs": [],
   "source": [
    "eps = 1e-3"
   ]
  },
  {
   "cell_type": "code",
   "execution_count": 38,
   "metadata": {},
   "outputs": [],
   "source": [
    "lamb = 10.\n",
    "dlamb = 100."
   ]
  },
  {
   "cell_type": "code",
   "execution_count": 39,
   "metadata": {},
   "outputs": [
    {
     "name": "stdout",
     "output_type": "stream",
     "text": [
      "i = 0\n",
      "-47.698884691 55.3221502499\n",
      "0.0213692970609\n",
      "i = 1\n",
      "-22.9390049373 46.2809596995\n",
      "0.0913946659948\n",
      "i = 2\n",
      "0.391392882393 42.6090104113\n",
      "0.403857771861\n",
      "i = 3\n",
      "6.71075273523 42.5522795613\n",
      "0.539050212836\n",
      "i = 4\n",
      "9.75136384689 42.4279292664\n",
      "0.236031998869\n",
      "i = 5\n",
      "12.2408004173 42.3694399368\n",
      "0.160818618973\n",
      "i = 6\n",
      "14.1374757663 42.2977971895\n",
      "0.116390993726\n",
      "i = 7\n",
      "15.5259774749 42.1894790729\n",
      "0.0898422703268\n",
      "i = 8\n",
      "16.7780007239 42.067810765\n",
      "0.0768646188422\n",
      "i = 9\n",
      "17.9229611858 41.9647907101\n",
      "0.0678602384929\n",
      "i = 10\n",
      "18.9728845071 41.8494626535\n",
      "0.0604929602123\n",
      "i = 11\n",
      "19.9379014208 41.7250884713\n",
      "0.0541160345395\n",
      "i = 12\n",
      "20.830871654 41.5985161588\n",
      "0.0486700845666\n",
      "i = 13\n",
      "21.7833513279 41.4973921958\n",
      "0.0430987817804\n",
      "i = 14\n",
      "22.6367113144 41.3915612371\n",
      "0.0385710563177\n",
      "i = 15\n",
      "23.4090190079 41.2831045581\n",
      "0.034770622238\n",
      "i = 16\n",
      "24.11381282 41.174876567\n",
      "0.0315107247131\n",
      "i = 17\n",
      "24.7592745323 41.0657474751\n",
      "0.0285336447062\n",
      "i = 18\n",
      "25.3541546616 40.9549916374\n",
      "0.026000076056\n",
      "i = 19\n",
      "25.9074459543 40.8453771136\n",
      "0.0239362283236\n",
      "i = 20\n",
      "26.4247078328 40.736997653\n",
      "0.0221473550905\n",
      "i = 21\n",
      "26.9094854314 40.6326785995\n",
      "0.020443636612\n",
      "i = 22\n",
      "27.3660597214 40.5318671911\n",
      "0.0189804855754\n",
      "i = 23\n",
      "27.7981755337 40.4327678606\n",
      "0.0177593868282\n",
      "i = 24\n",
      "28.2087250176 40.3354549445\n",
      "0.0166929232191\n",
      "i = 25\n",
      "28.6001618351 40.2389635656\n",
      "0.015778825297\n",
      "i = 26\n",
      "28.9746218653 40.1431544983\n",
      "0.0149824637906\n",
      "i = 27\n",
      "29.3337982133 40.0471860675\n",
      "0.0142937272603\n",
      "i = 28\n",
      "29.6791259362 39.9503572993\n",
      "0.0136971741822\n",
      "i = 29\n",
      "30.0108956184 39.8525819081\n",
      "0.0130980831551\n",
      "i = 30\n",
      "30.3296704689 39.7541125669\n",
      "0.0125117850129\n",
      "i = 31\n",
      "30.6363120905 39.6552668027\n",
      "0.0119597005022\n",
      "i = 32\n",
      "30.931963217 39.5560338356\n",
      "0.0114733180684\n",
      "i = 33\n",
      "31.2176705814 39.4564027273\n",
      "0.0110471400682\n",
      "i = 34\n",
      "31.4941327773 39.3562643989\n",
      "0.010660763791\n",
      "i = 35\n",
      "31.7619806645 39.2556025594\n",
      "0.0103078051615\n",
      "i = 36\n",
      "32.0217980321 39.1543849353\n",
      "0.00998647534842\n",
      "i = 37\n",
      "32.2740237046 39.0524622638\n",
      "0.00969123714567\n",
      "i = 38\n",
      "32.519102719 38.9500053761\n",
      "0.00941370723011\n",
      "i = 39\n",
      "32.7573849378 38.8470555968\n",
      "0.00915193225805\n",
      "i = 40\n",
      "32.9894149984 38.7434464559\n",
      "0.00892525509916\n",
      "i = 41\n",
      "33.2158984165 38.6390320811\n",
      "0.00874410323575\n",
      "i = 42\n",
      "33.437177922 38.5337337908\n",
      "0.0085837554167\n",
      "i = 43\n",
      "33.6532488361 38.4279136522\n",
      "0.0084078866505\n",
      "i = 44\n",
      "33.8642212068 38.3216476541\n",
      "0.00823296236153\n",
      "i = 45\n",
      "34.1140284736 38.1481024084\n",
      "0.00909777394588\n",
      "i = 46\n",
      "34.3583292972 37.9732532863\n",
      "0.00896548030408\n",
      "i = 47\n",
      "34.597442967 37.7971051308\n",
      "0.00885130268881\n",
      "i = 48\n",
      "34.8315540861 37.620115915\n",
      "0.00873329289942\n",
      "i = 49\n",
      "35.0609487925 37.4422318335\n",
      "0.00863201051281\n",
      "i = 50\n",
      "35.2857442868 37.2635717277\n",
      "0.00853365935305\n",
      "i = 51\n",
      "35.5061249645 37.0842710612\n",
      "0.00844047633311\n",
      "i = 52\n",
      "35.7220683484 36.9064633308\n",
      "0.00827255703482\n",
      "i = 53\n",
      "35.9338319707 36.7303255941\n",
      "0.00810893463764\n",
      "i = 54\n",
      "36.1415397924 36.556565461\n",
      "0.0079248354485\n",
      "i = 55\n",
      "36.3454150643 36.384167773\n",
      "0.00778429178488\n",
      "i = 56\n",
      "36.5457905891 36.2132392785\n",
      "0.00765402182917\n",
      "i = 57\n",
      "36.742968299 36.0441449226\n",
      "0.00752328310997\n",
      "i = 58\n",
      "36.9371113992 35.8773417829\n",
      "0.00738217957968\n",
      "i = 59\n",
      "37.1284481249 35.7131007638\n",
      "0.00724011848271\n",
      "i = 60\n",
      "37.3172746848 35.5510368157\n",
      "0.00712320085013\n",
      "i = 61\n",
      "37.5038046562 35.3892818677\n",
      "0.00707984833895\n",
      "i = 62\n",
      "37.6881722504 35.2278318232\n",
      "0.00704222121502\n",
      "i = 63\n",
      "37.870501329 35.0666793021\n",
      "0.00700999399921\n",
      "i = 64\n",
      "38.0509424781 34.9058201917\n",
      "0.00698431093082\n",
      "i = 65\n",
      "38.2295628863 34.7453082651\n",
      "0.00695931340911\n",
      "i = 66\n",
      "38.4061645826 34.5855895883\n",
      "0.0069084502407\n",
      "i = 67\n",
      "38.5809186592 34.4261894758\n",
      "0.00688206998242\n",
      "i = 68\n",
      "38.753883459 34.2672032412\n",
      "0.00685432126797\n",
      "i = 69\n",
      "38.9249498958 34.1091681269\n",
      "0.00680083654617\n",
      "i = 70\n",
      "39.0943116877 33.9519811916\n",
      "0.00675891625699\n",
      "i = 71\n",
      "39.2622427528 33.7954462134\n",
      "0.00673595497653\n",
      "i = 72\n",
      "39.4289827244 33.6396247384\n",
      "0.00672095151482\n",
      "i = 73\n",
      "39.5946110724 33.4847709899\n",
      "0.00669922844627\n",
      "i = 74\n",
      "39.7592220502 33.3308031231\n",
      "0.006684282607\n",
      "i = 75\n",
      "39.9229641307 33.1775368966\n",
      "0.00668270582774\n",
      "i = 76\n",
      "40.0859831627 33.0247527173\n",
      "0.00669611757951\n",
      "i = 77\n",
      "40.2483906713 32.8724271221\n",
      "0.00671561535797\n",
      "i = 78\n",
      "40.4102433381 32.7204128591\n",
      "0.00674373205722\n",
      "i = 79\n",
      "40.5715204054 32.5683384433\n",
      "0.00678618588605\n",
      "i = 80\n",
      "40.7321500625 32.4163359773\n",
      "0.00682063191228\n",
      "i = 81\n",
      "40.8921002693 32.2645115454\n",
      "0.00684970160591\n",
      "i = 82\n",
      "41.0514165258 32.1129172747\n",
      "0.00687913195205\n",
      "i = 83\n",
      "41.2101897511 31.9615533108\n",
      "0.00691324689042\n",
      "i = 84\n",
      "41.3685499093 31.8103691057\n",
      "0.0069562232991\n",
      "i = 85\n",
      "41.5264130477 31.659630839\n",
      "0.0069844808934\n",
      "i = 86\n",
      "41.6838888324 31.5096386832\n",
      "0.00700550874105\n",
      "i = 87\n",
      "41.8409832714 31.3604525335\n",
      "0.00702436790179\n",
      "i = 88\n",
      "41.9976242845 31.2120291018\n",
      "0.00704161732325\n",
      "i = 89\n",
      "42.1537587268 31.0643969586\n",
      "0.00705499982884\n",
      "i = 90\n",
      "42.3094756541 30.9176963213\n",
      "0.00706663607983\n",
      "i = 91\n",
      "42.4649206407 30.7719555792\n",
      "0.00708427934327\n",
      "i = 92\n",
      "42.6202741498 30.6270903764\n",
      "0.00711495393817\n",
      "i = 93\n",
      "42.7756968233 30.4841153625\n",
      "0.00710937338367\n",
      "i = 94\n",
      "42.9313229817 30.3435507128\n",
      "0.00708804878147\n",
      "i = 95\n",
      "43.0871984185 30.2052656899\n",
      "0.00707526626785\n",
      "i = 96\n",
      "43.2433614746 30.0691050021\n",
      "0.00707180107046\n",
      "i = 97\n",
      "43.399853474 29.9349528737\n",
      "0.00707621234459\n",
      "i = 98\n",
      "43.5567546805 29.8025426992\n",
      "0.00709728363886\n",
      "i = 99\n",
      "43.7140684352 29.6714928135\n",
      "0.00713601143105\n",
      "i = 100\n",
      "43.8717889764 29.5417012518\n",
      "0.00717998645369\n",
      "i = 101\n",
      "44.0298085622 29.4131686716\n",
      "0.0072190370126\n",
      "i = 102\n",
      "44.1881174852 29.2860278003\n",
      "0.00725278704762\n",
      "i = 103\n",
      "44.3468245247 29.160247763\n",
      "0.00729518794478\n",
      "i = 104\n",
      "44.506049402 29.0357433245\n",
      "0.00734964911482\n",
      "i = 105\n",
      "44.6657057494 28.9117947731\n",
      "0.00743204595471\n",
      "i = 106\n",
      "44.8257824046 28.7881341787\n",
      "0.00752768226378\n",
      "i = 107\n",
      "44.9862828416 28.664703317\n",
      "0.00762855261325\n",
      "i = 108\n",
      "45.1472113074 28.5414643474\n",
      "0.00773399537557\n",
      "i = 109\n",
      "45.3085717887 28.4183822818\n",
      "0.00784405067829\n",
      "i = 110\n",
      "45.4702631014 28.2953532473\n",
      "0.00795535356579\n",
      "i = 111\n",
      "45.6321159315 28.1724069429\n",
      "0.00805717460997\n",
      "i = 112\n",
      "45.7941345904 28.049476545\n",
      "0.00816499977823\n",
      "i = 113\n",
      "45.9563190968 27.926523846\n",
      "0.00827743756923\n",
      "i = 114\n",
      "46.1186571056 27.8035453867\n",
      "0.00839215961011\n",
      "i = 115\n",
      "46.2810942074 27.680356861\n",
      "0.00851529322335\n",
      "i = 116\n",
      "46.4436221654 27.5569791638\n",
      "0.00864018881912\n",
      "i = 117\n",
      "46.6061659052 27.4335852615\n",
      "0.0087544360635\n",
      "i = 118\n",
      "46.7686937427 27.310188652\n",
      "0.00886872380411\n",
      "i = 119\n",
      "46.9311992005 27.1867791156\n",
      "0.00898607144034\n",
      "i = 120\n",
      "47.0936712624 27.0633095138\n",
      "0.00910822236143\n",
      "i = 121\n",
      "47.2560940665 26.9397061702\n",
      "0.00923647302588\n",
      "i = 122\n",
      "47.4385978539 26.7716403629\n",
      "0.0103844637535\n",
      "i = 123\n",
      "47.6213217428 26.6036887482\n",
      "0.0105595060021\n",
      "i = 124\n",
      "47.8042270562 26.4358505859\n",
      "0.0107378906853\n",
      "i = 125\n",
      "47.9872722579 26.2681108476\n",
      "0.0109202994053\n",
      "i = 126\n",
      "48.1704402138 26.1005519981\n",
      "0.011103401184\n",
      "i = 127\n",
      "48.3536102119 25.9332975563\n",
      "0.0112771503173\n",
      "i = 128\n",
      "48.5367524342 25.7663585123\n",
      "0.0114540388455\n",
      "i = 129\n",
      "48.719668386 25.5999736071\n",
      "0.0116081257895\n",
      "i = 130\n",
      "48.9023193163 25.4341306435\n",
      "0.0117648151591\n",
      "i = 131\n",
      "49.0846317507 25.2688014938\n",
      "0.0119223804078\n",
      "i = 132\n",
      "49.2665787626 25.1039821359\n",
      "0.0120830812009\n",
      "i = 133\n",
      "49.4481003382 24.9396538202\n",
      "0.0122451962285\n",
      "i = 134\n",
      "49.629151978 24.7758064757\n",
      "0.0124094537423\n",
      "i = 135\n",
      "49.8097972261 24.6126751574\n",
      "0.0125695389642\n",
      "i = 136\n",
      "49.9901449126 24.4507160248\n",
      "0.0127148195903\n",
      "i = 137\n",
      "50.1701619257 24.289799325\n",
      "0.0128701325312\n",
      "i = 138\n",
      "50.3497494118 24.1298390477\n",
      "0.0130272689389\n",
      "i = 139\n",
      "50.5288163379 23.9707713261\n",
      "0.0131853631118\n",
      "i = 140\n",
      "50.7071943093 23.8122111043\n",
      "0.0133590629955\n",
      "i = 141\n",
      "50.8848088492 23.6541333575\n",
      "0.0135331958353\n",
      "i = 142\n",
      "51.0615990248 23.4965886166\n",
      "0.0137035978599\n",
      "i = 143\n",
      "51.2374731799 23.3395901433\n",
      "0.0138695208157\n",
      "i = 144\n",
      "51.4123465226 23.1831614335\n",
      "0.0140304298289\n",
      "i = 145\n",
      "51.5861510769 23.0272804659\n",
      "0.0141909284613\n",
      "i = 146\n",
      "51.7588128213 22.8719424835\n",
      "0.014348940484\n",
      "i = 147\n",
      "51.9398966669 22.6808340776\n",
      "0.0155196394902\n",
      "i = 148\n",
      "52.1197290361 22.4911130791\n",
      "0.0156769013125\n",
      "i = 149\n",
      "52.2982559894 22.302719002\n",
      "0.0158374193173\n",
      "i = 150\n",
      "52.4753961203 22.1156360785\n",
      "0.0159949860386\n",
      "i = 151\n",
      "52.650955147 21.9295853368\n",
      "0.0161584932676\n",
      "i = 152\n",
      "52.824600587 21.7439827293\n",
      "0.0163388810974\n",
      "i = 153\n",
      "52.9962674626 21.5588938967\n",
      "0.0165122627271\n",
      "i = 154\n",
      "53.1659102492 21.374431414\n",
      "0.0166759589019\n",
      "i = 155\n",
      "53.3334545047 21.1906596355\n",
      "0.0168299339525\n",
      "i = 156\n",
      "53.498831489 21.0076583597\n",
      "0.0169724966585\n",
      "i = 157\n",
      "53.6619815016 20.8255123995\n",
      "0.0171031288101\n",
      "i = 158\n",
      "53.8228383336 20.6443101709\n",
      "0.0172196364406\n",
      "i = 159\n",
      "53.9813531539 20.4641470551\n",
      "0.0173220947334\n",
      "i = 160\n",
      "54.1375064297 20.2851520601\n",
      "0.0174093836812\n",
      "i = 161\n",
      "54.2912278288 20.1073846958\n",
      "0.017481144229\n",
      "i = 162\n",
      "54.4461892752 19.9005663159\n",
      "0.018569061049\n",
      "i = 163\n",
      "54.5984817086 19.6956891894\n",
      "0.0186193648934\n",
      "i = 164\n",
      "54.7480620286 19.4928430937\n",
      "0.0186504094221\n",
      "i = 165\n",
      "54.8948963874 19.2921164455\n",
      "0.0186619762465\n",
      "i = 166\n",
      "55.0389568232 19.0935976134\n",
      "0.0186533668135\n",
      "i = 167\n",
      "55.1802265393 18.8973572279\n",
      "0.0186264559551\n",
      "i = 168\n",
      "55.3186834591 18.7034696161\n",
      "0.0185790060951\n",
      "i = 169\n",
      "55.4543080574 18.5120039578\n",
      "0.018510658161\n",
      "i = 170\n",
      "55.5870871582 18.3230326862\n",
      "0.0184206555406\n",
      "i = 171\n",
      "55.7170381448 18.1366715498\n",
      "0.0183067096412\n",
      "i = 172\n",
      "55.8441430583 17.9529813847\n",
      "0.0181695056928\n",
      "i = 173\n",
      "55.9683954672 17.7720064634\n",
      "0.0180114385304\n",
      "i = 174\n",
      "56.0897836119 17.5937600468\n",
      "0.0178347998138\n",
      "i = 175\n",
      "56.2083516919 17.4183046425\n",
      "0.017640163927\n",
      "i = 176\n",
      "56.3241475591 17.2456929472\n",
      "0.0174287254638\n",
      "i = 177\n",
      "56.4371824691 17.0759479142\n",
      "0.0171991563275\n",
      "i = 178\n",
      "56.5474688002 16.9091037162\n",
      "0.0169499511014\n",
      "i = 179\n",
      "56.6549839322 16.7451451394\n",
      "0.0166825865079\n",
      "i = 180\n",
      "56.7597236051 16.584058402\n",
      "0.0163991735355\n",
      "i = 181\n",
      "56.8617257443 16.4258461751\n",
      "0.0161030906147\n",
      "i = 182\n",
      "56.9610443319 16.2705401867\n",
      "0.0157928947302\n",
      "i = 183\n",
      "57.0577372785 16.1182126141\n",
      "0.0154640997967\n",
      "i = 184\n",
      "57.1518283754 15.9688889053\n",
      "0.0151185943926\n",
      "i = 185\n",
      "57.2433354269 15.8225517789\n",
      "0.0147615319792\n",
      "i = 186\n",
      "57.3323547741 15.6792662726\n",
      "0.0143925003536\n",
      "i = 187\n",
      "57.4189740606 15.5390988335\n",
      "0.014010774631\n",
      "i = 188\n",
      "57.5010729085 15.4232069527\n",
      "0.0126160161417\n",
      "i = 189\n",
      "57.5809922177 15.3095495206\n",
      "0.012282638774\n",
      "i = 190\n",
      "57.6587500413 15.1980971643\n",
      "0.0119458848503\n",
      "i = 191\n",
      "57.7343841092 15.0888281584\n",
      "0.0116077499461\n",
      "i = 192\n",
      "57.8079316169 14.9817198385\n",
      "0.0112688957069\n",
      "i = 193\n",
      "57.8793771729 14.8767281849\n",
      "0.0109265466197\n",
      "i = 194\n",
      "57.9487612887 14.7738282652\n",
      "0.0105854218064\n",
      "i = 195\n",
      "58.0161338766 14.6729975015\n",
      "0.0102468803996\n",
      "i = 196\n",
      "58.0815355306 14.5742161028\n",
      "0.00991006702006\n",
      "i = 197\n",
      "58.1450050907 14.4774505172\n",
      "0.00957710811693\n",
      "i = 198\n",
      "58.2065588623 14.3826416168\n",
      "0.00924934534846\n",
      "i = 199\n",
      "58.2624350993 14.3089634892\n",
      "0.00792252051188\n",
      "i = 200\n",
      "58.3167399032 14.2365169314\n",
      "0.00767181376151\n",
      "i = 201\n",
      "58.3694887647 14.1652858254\n",
      "0.00742357138867\n",
      "i = 202\n",
      "58.4207608612 14.095275903\n",
      "0.00718210176318\n",
      "i = 203\n",
      "58.4706811454 14.0265016307\n",
      "0.0069511457771\n",
      "i = 204\n",
      "58.5193139755 13.9589583541\n",
      "0.00672670465506\n",
      "i = 205\n",
      "58.5666858494 13.8926235544\n",
      "0.00650721297142\n",
      "i = 206\n",
      "58.6128229457 13.8274797862\n",
      "0.00629215438474\n",
      "i = 207\n",
      "58.6577412238 13.7635110966\n",
      "0.00608048950467\n",
      "i = 208\n",
      "58.7014301809 13.7006940282\n",
      "0.00587076456078\n",
      "i = 209\n",
      "58.7439148764 13.6390120602\n",
      "0.00566576155897\n",
      "i = 210\n",
      "58.7852218105 13.5784469001\n",
      "0.00546593247205\n",
      "i = 211\n",
      "58.8195473957 13.5364643101\n",
      "0.00429019147469\n",
      "i = 212\n",
      "58.8530852469 13.4950593578\n",
      "0.00416438451832\n",
      "i = 213\n",
      "58.8858641361 13.4542342944\n",
      "0.00404173667735\n",
      "i = 214\n",
      "58.9176658391 13.4138301379\n",
      "0.00391800858237\n",
      "i = 215\n",
      "58.9484094203 13.3737783235\n",
      "0.00379634776667\n",
      "i = 216\n",
      "58.9780867182 13.3340645006\n",
      "0.00367746322614\n",
      "i = 217\n",
      "59.0067378293 13.2946962882\n",
      "0.00356309862676\n",
      "i = 218\n",
      "59.0344154306 13.2556852117\n",
      "0.00345366192785\n",
      "i = 219\n",
      "59.0611364312 13.2170315343\n",
      "0.0033472858625\n",
      "i = 220\n",
      "59.0870555438 13.1788051339\n",
      "0.00324672486749\n",
      "i = 221\n",
      "59.1122198974 13.1410141442\n",
      "0.00315007583758\n",
      "i = 222\n",
      "59.1366766505 13.1036665941\n",
      "0.00305717042417\n",
      "i = 223\n",
      "59.1605258997 13.0667835938\n",
      "0.00297025936859\n",
      "i = 224\n",
      "59.1837823506 13.0303612259\n",
      "0.0028856389953\n",
      "i = 225\n",
      "59.206460473 12.9943972698\n",
      "0.00280307513133\n",
      "i = 226\n",
      "59.2285743853 12.9588878745\n",
      "0.00272270019525\n",
      "i = 227\n",
      "59.2428371644 12.9403116657\n",
      "0.00164837141579\n",
      "i = 228\n",
      "59.2568588883 12.9218565817\n",
      "0.00161806688022\n",
      "i = 229\n",
      "59.270632903 12.903518066\n",
      "0.00158800274994\n",
      "i = 230\n",
      "59.2841240167 12.8852805933\n",
      "0.00155723346304\n",
      "i = 231\n",
      "59.2973308946 12.8671444575\n",
      "0.00152668091969\n",
      "i = 232\n",
      "59.3102421284 12.8491097576\n",
      "0.00149562901687\n",
      "i = 233\n",
      "59.3228818766 12.8311847044\n",
      "0.00146581948694\n",
      "i = 234\n",
      "59.3352633473 12.813372497\n",
      "0.00143694329436\n",
      "i = 235\n",
      "59.3473920494 12.795673015\n",
      "0.00140878577052\n",
      "i = 236\n",
      "59.3592733801 12.7780861191\n",
      "0.00138132489911\n",
      "i = 237\n",
      "59.3709124688 12.7606117102\n",
      "0.00135452229144\n",
      "i = 238\n",
      "59.3823120491 12.7432505118\n",
      "0.00132811400081\n",
      "i = 239\n",
      "59.3934501512 12.7259921006\n",
      "0.00130170774037\n",
      "i = 240\n",
      "59.4043195047 12.7088315668\n",
      "0.00127571856193\n",
      "i = 241\n",
      "59.4149276645 12.6917695532\n",
      "0.00125049380127\n",
      "i = 242\n",
      "59.4252935211 12.6748068075\n",
      "0.00122668238034\n",
      "i = 243\n",
      "59.4354235514 12.6579437963\n",
      "0.00120350892378\n",
      "i = 244\n",
      "59.4453240552 12.6411809421\n",
      "0.00118094761035\n",
      "i = 245\n",
      "59.4550005773 12.6245188416\n",
      "0.00115891776504\n",
      "i = 246\n",
      "59.4644581348 12.6079581917\n",
      "0.00113736351338\n",
      "i = 247\n",
      "59.4737025967 12.5914992841\n",
      "0.00111636010555\n",
      "i = 248\n",
      "59.48273967 12.5751423733\n",
      "0.0010958859176\n",
      "i = 249\n",
      "59.4915749043 12.5588876774\n",
      "0.00107592039071\n"
     ]
    }
   ],
   "source": [
    "m_LM,inc_est,dec_est,phi,imax,pest,incs,decs = fc.levenberg_marquardt_NNLS(\n",
    "    data['tfa_obs_sphere_RM_reg'],regular_grid['x'],regular_grid['y'],\n",
    "    regular_grid['z'],xs,ys,zs,inc_gf,dec_gf,-60.,60.,lamb,dlamb,i_pos,it_max,\n",
    "    it_marq,eps)"
   ]
  },
  {
   "cell_type": "markdown",
   "metadata": {},
   "source": [
    "### Visualization of the convergence"
   ]
  },
  {
   "cell_type": "code",
   "execution_count": 40,
   "metadata": {},
   "outputs": [],
   "source": [
    "phi = np.array(phi)/regular_grid['x'].size"
   ]
  },
  {
   "cell_type": "code",
   "execution_count": 41,
   "metadata": {},
   "outputs": [
    {
     "data": {
      "text/plain": [
       "<matplotlib.figure.Figure at 0x7f9c29810290>"
      ]
     },
     "metadata": {},
     "output_type": "display_data"
    },
    {
     "data": {
      "image/png": "[encoded data removed]",
      "text/plain": [
       "<matplotlib.figure.Figure at 0x7f9c29810f90>"
      ]
     },
     "metadata": {},
     "output_type": "display_data"
    }
   ],
   "source": [
    "title_font = 20\n",
    "bottom_font = 16\n",
    "saturation_factor = 1.\n",
    "plt.close('all')\n",
    "plt.figure(figsize=(8,8), tight_layout=True)\n",
    "\n",
    "plt.figure(figsize=(10, 10))\n",
    "plt.plot(phi, 'b--')\n",
    "plt.plot(phi, 'b.')\n",
    "\n",
    "plt.title('Convergence analysis', fontsize=title_font)\n",
    "plt.xlabel('iteration', fontsize = title_font)\n",
    "plt.ylabel('$\\phi (\\bar{p})$', fontsize = title_font)\n",
    "\n",
    "file_name = 'figs/regular/noisy_convergence_LM_NNLS_magRM'\n",
    "plt.savefig(file_name+'.png',dpi=200)\n",
    "saved_files.append(file_name+'.png')\n",
    "\n",
    "plt.show()"
   ]
  },
  {
   "cell_type": "markdown",
   "metadata": {},
   "source": [
    "### Estimated magnetization direction"
   ]
  },
  {
   "cell_type": "code",
   "execution_count": 42,
   "metadata": {},
   "outputs": [
    {
     "name": "stdout",
     "output_type": "stream",
     "text": [
      "(59.491574904314369, 12.558887677366286)\n"
     ]
    }
   ],
   "source": [
    "print (inc_est,dec_est)"
   ]
  },
  {
   "cell_type": "code",
   "execution_count": 43,
   "metadata": {},
   "outputs": [
    {
     "name": "stdout",
     "output_type": "stream",
     "text": [
      "(60.0, 10.0)\n"
     ]
    }
   ],
   "source": [
    "print (inc_R,dec_R)"
   ]
  },
  {
   "cell_type": "markdown",
   "metadata": {},
   "source": [
    "### Comparison between observed data and predicted data"
   ]
  },
  {
   "cell_type": "code",
   "execution_count": 44,
   "metadata": {},
   "outputs": [],
   "source": [
    "pred = fc.tfa_layer(regular_grid['x'],regular_grid['y'],regular_grid['z'],\n",
    "                    xs,ys,zs,inc_gf,dec_gf,m_LM,inc_est,dec_est)"
   ]
  },
  {
   "cell_type": "code",
   "execution_count": 45,
   "metadata": {},
   "outputs": [],
   "source": [
    "res = pred - data['tfa_obs_sphere_RM_reg']"
   ]
  },
  {
   "cell_type": "code",
   "execution_count": 46,
   "metadata": {},
   "outputs": [],
   "source": [
    "r_norm,r_mean,r_std = fc.residual(data['tfa_obs_sphere_RM_reg'],pred)"
   ]
  },
  {
   "cell_type": "code",
   "execution_count": 47,
   "metadata": {},
   "outputs": [
    {
     "data": {
      "image/png": "[encoded data removed]",
      "text/plain": [
       "<matplotlib.figure.Figure at 0x7f9c29b455d0>"
      ]
     },
     "metadata": {},
     "output_type": "display_data"
    }
   ],
   "source": [
    "title_font = 20\n",
    "bottom_font = 16\n",
    "saturation_factor = 1.\n",
    "plt.close('all')\n",
    "plt.figure(figsize=(19,7), tight_layout=True)\n",
    "\n",
    "ranges = saturation_factor*np.abs([data['tfa_obs_sphere_RM_reg'].max(), \n",
    "                                   data['tfa_obs_sphere_RM_reg'].min(),\n",
    "                                   pred.max(), pred.min()]).max()\n",
    "res_ranges = np.max(np.abs(res))\n",
    "\n",
    "plt.subplot(1,4,1)\n",
    "plt.contourf(regular_grid['y'].reshape(regular_grid['shape']),\n",
    "             regular_grid['x'].reshape(regular_grid['shape']), \n",
    "             data['tfa_obs_sphere_RM_reg'].reshape(regular_grid['shape']),\n",
    "             20, cmap='viridis',vmin=-ranges, vmax=ranges)\n",
    "plt.colorbar(pad=0.01, aspect=40, shrink=1.0).set_label('nT')\n",
    "plt.xlabel('y (m)', fontsize = title_font)\n",
    "plt.ylabel('x (m)', fontsize = title_font)\n",
    "plt.title('TFA (RM_reg_grid)',fontsize=title_font)\n",
    "\n",
    "plt.subplot(1,4,2)\n",
    "plt.contourf(regular_grid['y'].reshape(regular_grid['shape']),\n",
    "             regular_grid['x'].reshape(regular_grid['shape']),\n",
    "             pred.reshape(regular_grid['shape']),\n",
    "             20, cmap='viridis',  vmin=-ranges, vmax=ranges)\n",
    "plt.colorbar(pad=0.01, aspect=40, shrink=1.0).set_label('nT')\n",
    "plt.xlabel('y (m)', fontsize = title_font)\n",
    "plt.ylabel('x (m)', fontsize = title_font)\n",
    "plt.title('TFA (Layer)', fontsize=title_font)\n",
    "\n",
    "plt.subplot(1,4,3)\n",
    "plt.contourf(regular_grid['y'].reshape(regular_grid['shape']),\n",
    "             regular_grid['x'].reshape(regular_grid['shape']),\n",
    "             res.reshape(regular_grid['shape']), \n",
    "             20, cmap='viridis',  vmin=-res_ranges, vmax=res_ranges)\n",
    "plt.colorbar(pad=0.01, aspect=40, shrink=1.0).set_label('nT')\n",
    "plt.xlabel('y (m)', fontsize = title_font)\n",
    "plt.ylabel('x (m)', fontsize = title_font)\n",
    "plt.title('Residual map', fontsize=title_font)\n",
    "\n",
    "\n",
    "plt.subplot(1,4,4)\n",
    "plt.xlabel('$\\mu$ = %.3f | $\\sigma$ = %.3f nT' % (r_mean, r_std),\n",
    "           fontsize = bottom_font)\n",
    "nbins = int((np.max(r_norm - np.min(r_norm))))\n",
    "plt.hist(r_norm,bins=nbins,normed=True)\n",
    "plt.ylim(0.,1.)\n",
    "plt.xlim(-10., 10.)\n",
    "plt.title('Normalized Histogram',fontsize=title_font)\n",
    "\n",
    "file_name = 'figs/regular/noisy_data_fitting_LM_NNLS_magRM'\n",
    "plt.savefig(file_name+'.png',dpi=200)\n",
    "saved_files.append(file_name+'.png')\n",
    "\n",
    "plt.show()"
   ]
  },
  {
   "cell_type": "markdown",
   "metadata": {},
   "source": [
    "### Estimated magnetic moment within the layer"
   ]
  },
  {
   "cell_type": "code",
   "execution_count": 48,
   "metadata": {},
   "outputs": [
    {
     "data": {
      "image/png": "[encoded data removed]",
      "text/plain": [
       "<matplotlib.figure.Figure at 0x7f9c29ab54d0>"
      ]
     },
     "metadata": {},
     "output_type": "display_data"
    }
   ],
   "source": [
    "title_font = 20\n",
    "bottom_font = 16\n",
    "saturation_factor = 1.\n",
    "plt.close('all')\n",
    "plt.figure(figsize=(8,8), tight_layout=True)\n",
    "\n",
    "ranges = saturation_factor*np.abs([m_LM.max(), m_LM.min()]).max()\n",
    "\n",
    "plt.contourf(ys.reshape(shape_layer),\n",
    "             xs.reshape(shape_layer), \n",
    "             m_LM.reshape(shape_layer),\n",
    "             20, cmap='viridis',vmin=-ranges, vmax=ranges)\n",
    "plt.colorbar(pad=0.01, aspect=40, shrink=1.0).set_label('$A.m^2$')\n",
    "plt.xlabel('y (m)', fontsize = title_font)\n",
    "plt.ylabel('x (m)', fontsize = title_font)\n",
    "plt.title('Magnetic moment (layer)', fontsize=title_font)\n",
    "plt.text(1500.,4500.,'Inc = %.1f | Dec = %.1f '% (inc_R,dec_R),family='ubuntu',style='normal')\n",
    "plt.text(1000.,4100.,'Inc_est = %.1f | Dec_est = %.1f '% (inc_est,dec_est),family='ubuntu',style='normal' )\n",
    "\n",
    "\n",
    "file_name = 'figs/regular/noisy_magnetic_moment_positive_LM_NNLS_magRM'\n",
    "plt.savefig(file_name+'.png',dpi=200)\n",
    "saved_files.append(file_name+'.png')\n",
    "\n",
    "plt.show()"
   ]
  },
  {
   "cell_type": "code",
   "execution_count": null,
   "metadata": {},
   "outputs": [],
   "source": []
  },
  {
   "cell_type": "code",
   "execution_count": null,
   "metadata": {},
   "outputs": [],
   "source": []
  }
 ],
 "metadata": {
  "kernelspec": {
   "display_name": "Python 2",
   "language": "python",
   "name": "python2"
  },
  "language_info": {
   "codemirror_mode": {
    "name": "ipython",
    "version": 2
   },
   "file_extension": ".py",
   "mimetype": "text/x-python",
   "name": "python",
   "nbconvert_exporter": "python",
   "pygments_lexer": "ipython2",
   "version": "2.7.14"
  }
 },
 "nbformat": 4,
 "nbformat_minor": 2
}
