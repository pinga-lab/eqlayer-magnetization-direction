{
 "cells": [
  {
   "cell_type": "markdown",
   "metadata": {},
   "source": [
    "# Equivalent Layer technique for estimating magnetization direction of a magnetized sphere"
   ]
  },
  {
   "cell_type": "markdown",
   "metadata": {},
   "source": [
    "#### Importing libraries"
   ]
  },
  {
   "cell_type": "code",
   "execution_count": 1,
   "metadata": {},
   "outputs": [],
   "source": [
    "% matplotlib inline "
   ]
  },
  {
   "cell_type": "code",
   "execution_count": 2,
   "metadata": {},
   "outputs": [
    {
     "name": "stderr",
     "output_type": "stream",
     "text": [
      "/home/andrelreis/anaconda2/lib/python2.7/site-packages/fatiando/vis/mpl.py:76: UserWarning: This module will be removed in v0.6. We recommend the use of matplotlib.pyplot module directly. Some of the fatiando specific functions will remain.\n",
      "  \"specific functions will remain.\")\n"
     ]
    }
   ],
   "source": [
    "import sys\n",
    "import numpy as np\n",
    "import matplotlib.pyplot as plt\n",
    "import cPickle as pickle\n",
    "import datetime\n",
    "import timeit\n",
    "from scipy.optimize import nnls\n",
    "from fatiando.gridder import regular\n",
    "from fatiando.utils import ang2vec, vec2ang\n",
    "from fatiando.mesher import Sphere, PointGrid,Prism\n",
    "from fatiando.gravmag import sphere,prism\n",
    "from fatiando.constants import CM, T2NT, G, SI2MGAL"
   ]
  },
  {
   "cell_type": "code",
   "execution_count": 3,
   "metadata": {},
   "outputs": [],
   "source": [
    "notebook_name = 'regular_EQL_magdirection.ipynb'"
   ]
  },
  {
   "cell_type": "markdown",
   "metadata": {},
   "source": [
    "### Gray background figures"
   ]
  },
  {
   "cell_type": "code",
   "execution_count": 4,
   "metadata": {},
   "outputs": [],
   "source": [
    "plt.style.use('grayscale')"
   ]
  },
  {
   "cell_type": "markdown",
   "metadata": {},
   "source": [
    "#### Importing auxiliary functions"
   ]
  },
  {
   "cell_type": "code",
   "execution_count": 5,
   "metadata": {},
   "outputs": [],
   "source": [
    "dir_modules = '../'\n",
    "sys.path.append(dir_modules)"
   ]
  },
  {
   "cell_type": "code",
   "execution_count": 6,
   "metadata": {},
   "outputs": [],
   "source": [
    "import eql_functions as func"
   ]
  },
  {
   "cell_type": "code",
   "execution_count": 7,
   "metadata": {},
   "outputs": [],
   "source": [
    "import auxiliary_functions as fc"
   ]
  },
  {
   "cell_type": "markdown",
   "metadata": {},
   "source": [
    "#### Loading properties of the model"
   ]
  },
  {
   "cell_type": "code",
   "execution_count": 8,
   "metadata": {},
   "outputs": [],
   "source": [
    "with open('data/model_sphere_remanent.pickle') as f:\n",
    "        model_sphere_remanent = pickle.load(f)"
   ]
  },
  {
   "cell_type": "code",
   "execution_count": 9,
   "metadata": {},
   "outputs": [],
   "source": [
    "with open('data/model_sphere_induced.pickle') as f:\n",
    "        model_sphere_induced = pickle.load(f)"
   ]
  },
  {
   "cell_type": "markdown",
   "metadata": {},
   "source": [
    "#### Loading properties grid"
   ]
  },
  {
   "cell_type": "code",
   "execution_count": 10,
   "metadata": {},
   "outputs": [],
   "source": [
    "with open('data/regular_grid.pickle') as f:\n",
    "        regular_grid = pickle.load(f)"
   ]
  },
  {
   "cell_type": "markdown",
   "metadata": {},
   "source": [
    "#### Loading data"
   ]
  },
  {
   "cell_type": "code",
   "execution_count": 11,
   "metadata": {},
   "outputs": [],
   "source": [
    "with open('data/data_set.pickle') as f:\n",
    "        data = pickle.load(f)"
   ]
  },
  {
   "cell_type": "markdown",
   "metadata": {},
   "source": [
    "#### Open a dictionary"
   ]
  },
  {
   "cell_type": "code",
   "execution_count": 12,
   "metadata": {},
   "outputs": [],
   "source": [
    "dir_sphere = dict()"
   ]
  },
  {
   "cell_type": "markdown",
   "metadata": {},
   "source": [
    "### Saving files"
   ]
  },
  {
   "cell_type": "code",
   "execution_count": 13,
   "metadata": {},
   "outputs": [],
   "source": [
    "saved_files = []"
   ]
  },
  {
   "cell_type": "markdown",
   "metadata": {},
   "source": [
    "## Observation area"
   ]
  },
  {
   "cell_type": "code",
   "execution_count": 14,
   "metadata": {},
   "outputs": [
    {
     "name": "stdout",
     "output_type": "stream",
     "text": [
      "Area limits: \n",
      " x_max = 5000.0 m \n",
      " x_min = -5000.0 m \n",
      " y_max = 5000.0 m \n",
      " y_min = -5000.0 m\n"
     ]
    }
   ],
   "source": [
    "print 'Area limits: \\n x_max = %.1f m \\n x_min = %.1f m \\n y_max = %.1f m \\n y_min = %.1f m' % (regular_grid['area'][1], \n",
    "                                                                                                regular_grid['area'][0],\n",
    "                                                                                                regular_grid['area'][3],\n",
    "                                                                                                regular_grid['area'][2])"
   ]
  },
  {
   "cell_type": "markdown",
   "metadata": {},
   "source": [
    "### Regular grid information"
   ]
  },
  {
   "cell_type": "code",
   "execution_count": 15,
   "metadata": {},
   "outputs": [
    {
     "name": "stdout",
     "output_type": "stream",
     "text": [
      "Shape : (25,25)\n",
      "Number of data: 625.0\n",
      "dx: 416.7 m\n",
      "dy: 416.7 m \n"
     ]
    }
   ],
   "source": [
    "print 'Shape : (%.0f,%.0f)'% regular_grid['shape'] \n",
    "print 'Number of data: %.1f' % regular_grid['N']\n",
    "print 'dx: %.1f m' % regular_grid['dx']\n",
    "print 'dy: %.1f m ' % regular_grid['dy']"
   ]
  },
  {
   "cell_type": "markdown",
   "metadata": {},
   "source": [
    "## Properties of the model"
   ]
  },
  {
   "cell_type": "markdown",
   "metadata": {},
   "source": [
    "### Dimension and coordinate of the center"
   ]
  },
  {
   "cell_type": "code",
   "execution_count": 16,
   "metadata": {},
   "outputs": [
    {
     "name": "stdout",
     "output_type": "stream",
     "text": [
      "Properties Sphere:\n",
      " xc = 0.0 m \n",
      " yc = 0.0 m \n",
      " zc = 2000.0 m \n",
      " radius = 1500.0 m \n"
     ]
    }
   ],
   "source": [
    "print 'Properties Sphere:\\n xc = %.1f m \\n yc = %.1f m \\n zc = %.1f m \\n radius = %.1f m ' %  (model_sphere_remanent['xc'],\n",
    "                                                                                               model_sphere_remanent['yc'],\n",
    "                                                                                               model_sphere_remanent['zc'],\n",
    "                                                                                               model_sphere_remanent['radius'])"
   ]
  },
  {
   "cell_type": "markdown",
   "metadata": {},
   "source": [
    "### Main field"
   ]
  },
  {
   "cell_type": "code",
   "execution_count": 17,
   "metadata": {},
   "outputs": [],
   "source": [
    "inc_gf,dec_gf = model_sphere_remanent['main_field']"
   ]
  },
  {
   "cell_type": "code",
   "execution_count": 18,
   "metadata": {},
   "outputs": [
    {
     "name": "stdout",
     "output_type": "stream",
     "text": [
      "Main field inclination: 40.0 degree\n",
      "Main field declination: 45.0 degree\n"
     ]
    }
   ],
   "source": [
    "print'Main field inclination: %.1f degree' % inc_gf\n",
    "print'Main field declination: %.1f degree' % dec_gf"
   ]
  },
  {
   "cell_type": "markdown",
   "metadata": {},
   "source": [
    "### Magnetization direction"
   ]
  },
  {
   "cell_type": "code",
   "execution_count": 19,
   "metadata": {},
   "outputs": [
    {
     "name": "stdout",
     "output_type": "stream",
     "text": [
      "Intensity: 15.0 A/m\n",
      "Inclination: 60.0 degree\n",
      "Declination: 10.0 degree\n"
     ]
    }
   ],
   "source": [
    "print 'Intensity: %.1f A/m' % model_sphere_remanent['m_R']\n",
    "print 'Inclination: %.1f degree' % model_sphere_remanent['inc_R']\n",
    "print 'Declination: %.1f degree' % model_sphere_remanent['dec_R']"
   ]
  },
  {
   "cell_type": "code",
   "execution_count": 20,
   "metadata": {},
   "outputs": [],
   "source": [
    "inc_R,dec_R = model_sphere_remanent['inc_R'],model_sphere_remanent['dec_R']"
   ]
  },
  {
   "cell_type": "markdown",
   "metadata": {},
   "source": [
    "## Generating the layer with my function "
   ]
  },
  {
   "cell_type": "code",
   "execution_count": 21,
   "metadata": {},
   "outputs": [],
   "source": [
    "h = 2000."
   ]
  },
  {
   "cell_type": "markdown",
   "metadata": {},
   "source": [
    "#### Generating a layer"
   ]
  },
  {
   "cell_type": "code",
   "execution_count": 22,
   "metadata": {},
   "outputs": [],
   "source": [
    "shape_layer = (25,25)"
   ]
  },
  {
   "cell_type": "code",
   "execution_count": 23,
   "metadata": {},
   "outputs": [],
   "source": [
    "xs,ys,zs = regular(regular_grid['area'],shape_layer,h)"
   ]
  },
  {
   "cell_type": "markdown",
   "metadata": {},
   "source": [
    "## Non-negative Least Squares Method for estimating a positive layer"
   ]
  },
  {
   "cell_type": "code",
   "execution_count": 24,
   "metadata": {},
   "outputs": [],
   "source": [
    "G = fc.sensitivity_mag(regular_grid['x'],regular_grid['y'],regular_grid['z'],\n",
    "                       xs,ys,zs,inc_gf,dec_gf,inc_R,dec_R)"
   ]
  },
  {
   "cell_type": "code",
   "execution_count": 25,
   "metadata": {},
   "outputs": [],
   "source": [
    "start_time = timeit.default_timer()"
   ]
  },
  {
   "cell_type": "code",
   "execution_count": 26,
   "metadata": {},
   "outputs": [],
   "source": [
    "m_pos,_ = nnls(G,data['tfa_obs_sphere_RM_reg'])"
   ]
  },
  {
   "cell_type": "code",
   "execution_count": 27,
   "metadata": {},
   "outputs": [],
   "source": [
    "elapsed = timeit.default_timer() - start_time"
   ]
  },
  {
   "cell_type": "code",
   "execution_count": 28,
   "metadata": {},
   "outputs": [
    {
     "name": "stdout",
     "output_type": "stream",
     "text": [
      "0.133462905884\n"
     ]
    }
   ],
   "source": [
    "print elapsed"
   ]
  },
  {
   "cell_type": "code",
   "execution_count": 29,
   "metadata": {},
   "outputs": [],
   "source": [
    "tf_pred_pos = fc.tfa_layer(regular_grid['x'],regular_grid['y'],regular_grid['z'],\n",
    "                           xs,ys,zs,inc_gf,dec_gf,m_pos,inc_R,dec_R)"
   ]
  },
  {
   "cell_type": "markdown",
   "metadata": {},
   "source": [
    "### Calculating residual"
   ]
  },
  {
   "cell_type": "code",
   "execution_count": 30,
   "metadata": {},
   "outputs": [],
   "source": [
    "r_pos = data['tfa_obs_sphere_RM_reg'] - tf_pred_pos"
   ]
  },
  {
   "cell_type": "markdown",
   "metadata": {},
   "source": [
    "#### Parameters for normalized histogram"
   ]
  },
  {
   "cell_type": "code",
   "execution_count": 31,
   "metadata": {},
   "outputs": [],
   "source": [
    "r_norm,r_mean,r_std = func.residual(data['tfa_obs_sphere_RM_reg'],tf_pred_pos)"
   ]
  },
  {
   "cell_type": "code",
   "execution_count": 32,
   "metadata": {},
   "outputs": [
    {
     "name": "stdout",
     "output_type": "stream",
     "text": [
      "-0.413554484633\n"
     ]
    }
   ],
   "source": [
    "print r_mean"
   ]
  },
  {
   "cell_type": "markdown",
   "metadata": {},
   "source": [
    "## Comparison between the Model and the Layer with posivity"
   ]
  },
  {
   "cell_type": "code",
   "execution_count": 33,
   "metadata": {},
   "outputs": [
    {
     "name": "stderr",
     "output_type": "stream",
     "text": [
      "/home/andrelreis/anaconda2/lib/python2.7/site-packages/matplotlib/figure.py:1744: UserWarning: This figure includes Axes that are not compatible with tight_layout, so its results might be incorrect.\n",
      "  warnings.warn(\"This figure includes Axes that are not \"\n"
     ]
    },
    {
     "data": {
      "image/png": "[encoded data removed]",
      "text/plain": [
       "<matplotlib.figure.Figure at 0x7f850fbb2c90>"
      ]
     },
     "metadata": {},
     "output_type": "display_data"
    }
   ],
   "source": [
    "title_font = 20\n",
    "bottom_font = 16\n",
    "saturation_factor = 1.\n",
    "plt.close('all')\n",
    "plt.figure(figsize=(19,7), tight_layout=True)\n",
    "\n",
    "ranges = saturation_factor*np.abs([data['tfa_obs_sphere_RM_reg'].max(), \n",
    "                                   data['tfa_obs_sphere_RM_reg'].min(),\n",
    "                                   tf_pred_pos.max(), tf_pred_pos.min()]).max()\n",
    "\n",
    "r_ranges = saturation_factor*np.abs([r_pos.max(),r_pos.min()]).max() \n",
    "\n",
    "\n",
    "plt.subplot(1,4,1)\n",
    "plt.contourf(regular_grid['y'].reshape(regular_grid['shape']),\n",
    "             regular_grid['x'].reshape(regular_grid['shape']), \n",
    "             data['tfa_obs_sphere_RM_reg'].reshape(regular_grid['shape']),\n",
    "             20, cmap='RdBu_r',vmin=-ranges, vmax=ranges)\n",
    "plt.colorbar(pad=0.01, aspect=40, shrink=1.0).set_label('nT')\n",
    "plt.xlabel('y (m)', fontsize = title_font)\n",
    "plt.ylabel('x (m)', fontsize = title_font)\n",
    "plt.title('TFA (RM_reg_grid) ', fontsize=title_font)\n",
    "\n",
    "plt.subplot(1,4,2)\n",
    "plt.contourf(regular_grid['y'].reshape(regular_grid['shape']),\n",
    "             regular_grid['x'].reshape(regular_grid['shape']),\n",
    "             tf_pred_pos.reshape(regular_grid['shape']),\n",
    "             20, cmap='RdBu_r',  vmin=-ranges, vmax=ranges)\n",
    "plt.colorbar(pad=0.01, aspect=40, shrink=1.0).set_label('nT')\n",
    "plt.xlabel('y (m)', fontsize = title_font)\n",
    "plt.ylabel('x (m)', fontsize = title_font)\n",
    "plt.title('TFA (Layer)', fontsize=title_font)\n",
    "\n",
    "plt.subplot(1,4,3)\n",
    "plt.contourf(regular_grid['y'].reshape(regular_grid['shape']),\n",
    "             regular_grid['x'].reshape(regular_grid['shape']),\n",
    "             r_pos.reshape(regular_grid['shape']), \n",
    "             20, cmap='RdBu_r',  vmin=-r_ranges, vmax=r_ranges)\n",
    "plt.colorbar(pad=0.01, aspect=40, shrink=1.0).set_label('nT')\n",
    "plt.xlabel('y (m)', fontsize = title_font)\n",
    "plt.ylabel('x (m)', fontsize = title_font)\n",
    "plt.title('Residual map', fontsize=title_font)\n",
    "\n",
    "\n",
    "plt.subplot(1,4,4)\n",
    "plt.xlabel('$\\mu$ = %.3f | $\\sigma$ = %.3f nT' % (r_mean, r_std),\n",
    "           fontsize = bottom_font)\n",
    "nbins = int((np.max(r_norm - np.min(r_norm))))\n",
    "plt.hist(r_norm,bins=nbins,normed=True)\n",
    "plt.ylim(0.,1.)\n",
    "plt.xlim(-10., 10.)\n",
    "plt.title('Normalized Histogram',fontsize=title_font)\n",
    "\n",
    "file_name = 'figs/regular/noisy_data_fitting_NNLS_magRM'\n",
    "plt.savefig(file_name+'.png',dpi=200)\n",
    "saved_files.append(file_name+'.png')\n",
    "\n",
    "plt.show()"
   ]
  },
  {
   "cell_type": "markdown",
   "metadata": {},
   "source": [
    "### Magnetic moment within the Layer with positivity constraint"
   ]
  },
  {
   "cell_type": "code",
   "execution_count": 34,
   "metadata": {},
   "outputs": [
    {
     "data": {
      "text/plain": [
       "<function matplotlib.pyplot.show>"
      ]
     },
     "execution_count": 34,
     "metadata": {},
     "output_type": "execute_result"
    },
    {
     "data": {
      "image/png": "[encoded data removed]",
      "text/plain": [
       "<matplotlib.figure.Figure at 0x7f8503110fd0>"
      ]
     },
     "metadata": {},
     "output_type": "display_data"
    }
   ],
   "source": [
    "title_font = 20\n",
    "bottom_font = 16\n",
    "saturation_factor = 1.\n",
    "plt.close('all')\n",
    "plt.figure(figsize=(8,8), tight_layout=True)\n",
    "\n",
    "ranges = saturation_factor*np.abs([m_pos.max(), m_pos.min()]).max()\n",
    "\n",
    "plt.contourf(ys.reshape(shape_layer),\n",
    "             xs.reshape(shape_layer), \n",
    "             m_pos.reshape(shape_layer),\n",
    "             20, cmap='RdBu_r',vmin=-ranges, vmax=ranges)\n",
    "plt.colorbar(pad=0.01, aspect=40, shrink=1.0).set_label('$A.m^2$')\n",
    "plt.xlabel('y (m)', fontsize = title_font)\n",
    "plt.ylabel('x (m)', fontsize = title_font)\n",
    "plt.title('Magnetic moment (layer)', fontsize=title_font)\n",
    "plt.text(3500.,4500.,'Inc = %.1f'% inc_R,family='ubuntu',style='normal')\n",
    "plt.text(3100.,4100.,'Inc_mf = %.1f'% inc_gf,family='ubuntu',style='normal' )\n",
    "\n",
    "file_name = 'figs/regular/noisy_magnetic_moment_positive_NNLS_magRM'\n",
    "plt.savefig(file_name+'.png',dpi=200)\n",
    "saved_files.append(file_name+'.png')\n",
    "\n",
    "plt.show"
   ]
  },
  {
   "cell_type": "markdown",
   "metadata": {},
   "source": [
    "### Levenberg-Marquardt with NNLS for positive magnetic moments"
   ]
  },
  {
   "cell_type": "code",
   "execution_count": 35,
   "metadata": {},
   "outputs": [],
   "source": [
    "i_pos = 250"
   ]
  },
  {
   "cell_type": "code",
   "execution_count": 36,
   "metadata": {},
   "outputs": [],
   "source": [
    "it_max = 30"
   ]
  },
  {
   "cell_type": "code",
   "execution_count": 37,
   "metadata": {},
   "outputs": [],
   "source": [
    "it_marq = 15"
   ]
  },
  {
   "cell_type": "code",
   "execution_count": 38,
   "metadata": {},
   "outputs": [],
   "source": [
    "eps = 1e-3"
   ]
  },
  {
   "cell_type": "code",
   "execution_count": 39,
   "metadata": {},
   "outputs": [],
   "source": [
    "lamb = 10.\n",
    "dlamb = 100."
   ]
  },
  {
   "cell_type": "code",
   "execution_count": 40,
   "metadata": {},
   "outputs": [
    {
     "name": "stdout",
     "output_type": "stream",
     "text": [
      "i = 0\n",
      "-40.0628489404 40.626013621\n",
      "0.0302108280903\n",
      "i = 1\n",
      "-9.83570658057 35.8221866406\n",
      "0.153205923782\n",
      "i = 2\n",
      "5.06266540793 39.3245323226\n",
      "0.837041436563\n",
      "i = 3\n",
      "9.12163507135 40.5436177414\n",
      "0.346559873146\n",
      "i = 4\n",
      "11.6846802188 40.9575290105\n",
      "0.185749505894\n",
      "i = 5\n",
      "13.647486218 41.1763028215\n",
      "0.13018525989\n",
      "i = 6\n",
      "15.2607729663 41.2826232301\n",
      "0.100124876203\n",
      "i = 7\n",
      "16.6430060835 41.313453452\n",
      "0.0812974034681\n",
      "i = 8\n",
      "17.8691846202 41.2901493465\n",
      "0.070358671722\n",
      "i = 9\n",
      "18.9709774325 41.2328087262\n",
      "0.0618147922108\n",
      "i = 10\n",
      "19.9698409392 41.1518967931\n",
      "0.0548321986356\n",
      "i = 11\n",
      "20.8830336055 41.0570965024\n",
      "0.0489360909608\n",
      "i = 12\n",
      "21.7251954213 40.9496707999\n",
      "0.0440660155155\n",
      "i = 13\n",
      "22.5054798847 40.8309957245\n",
      "0.0397855190407\n",
      "i = 14\n",
      "23.2313657284 40.702184114\n",
      "0.036002787019\n",
      "i = 15\n",
      "23.9092993902 40.5663750229\n",
      "0.0326971515805\n",
      "i = 16\n",
      "24.5455826676 40.4293574155\n",
      "0.0298136596873\n",
      "i = 17\n",
      "25.1429678012 40.2936706862\n",
      "0.0270674413259\n",
      "i = 18\n",
      "25.7068026023 40.1590874914\n",
      "0.0247378284415\n",
      "i = 19\n",
      "26.2414943084 40.0247757872\n",
      "0.0227603031323\n",
      "i = 20\n",
      "26.7509395558 39.8834028232\n",
      "0.0211942672795\n",
      "i = 21\n",
      "27.2357229224 39.7349841497\n",
      "0.0196948367292\n",
      "i = 22\n",
      "27.6997624411 39.5798593739\n",
      "0.018479256286\n",
      "i = 23\n",
      "28.1451631208 39.4181384854\n",
      "0.0174240224541\n",
      "i = 24\n",
      "28.5734413616 39.2501156249\n",
      "0.0164815894443\n",
      "i = 25\n",
      "28.9876721592 39.0770765773\n",
      "0.0157423215982\n",
      "i = 26\n",
      "29.3891502286 38.8985258162\n",
      "0.0151068451891\n",
      "i = 27\n",
      "29.7784037672 38.7138288895\n",
      "0.0145220743189\n",
      "i = 28\n",
      "30.1547888554 38.5235253822\n",
      "0.0138950416993\n",
      "i = 29\n",
      "30.5187159339 38.3276474947\n",
      "0.0133036649139\n",
      "i = 30\n",
      "30.8705855513 38.1254406796\n",
      "0.0127599384559\n",
      "i = 31\n",
      "31.2118125919 37.9162127026\n",
      "0.0123236639123\n",
      "i = 32\n",
      "31.5438414688 37.7006541282\n",
      "0.0119721196438\n",
      "i = 33\n",
      "31.8674297653 37.4786372469\n",
      "0.0116771298751\n",
      "i = 34\n",
      "32.1828726758 37.2507021565\n",
      "0.0113985111233\n",
      "i = 35\n",
      "32.4903412107 37.0171171822\n",
      "0.0111316079756\n",
      "i = 36\n",
      "32.7902971707 36.7780240251\n",
      "0.0108951534297\n",
      "i = 37\n",
      "33.0835827572 36.5380685977\n",
      "0.0106198693615\n",
      "i = 38\n",
      "33.370536001 36.2973402343\n",
      "0.0103634427357\n",
      "i = 39\n",
      "33.6505754645 36.057347323\n",
      "0.0100470487265\n",
      "i = 40\n",
      "33.9246102141 35.8204228602\n",
      "0.00973438196256\n",
      "i = 41\n",
      "34.1927658521 35.5864121707\n",
      "0.00943273202469\n",
      "i = 42\n",
      "34.4549497182 35.358820158\n",
      "0.00905938292497\n",
      "i = 43\n",
      "34.7117525422 35.1318153455\n",
      "0.0088267446187\n",
      "i = 44\n",
      "34.9634677863 34.9035255134\n",
      "0.0086453928245\n",
      "i = 45\n",
      "35.2104570864 34.6738999385\n",
      "0.0084844623607\n",
      "i = 46\n",
      "35.4530463142 34.4427115685\n",
      "0.00834569391572\n",
      "i = 47\n",
      "35.6914321152 34.2100047261\n",
      "0.00821795343792\n",
      "i = 48\n",
      "35.9259394226 33.9753748883\n",
      "0.00811558768579\n",
      "i = 49\n",
      "36.1570000084 33.7390021952\n",
      "0.00803152344692\n",
      "i = 50\n",
      "36.3848251017 33.5034798764\n",
      "0.00790713340677\n",
      "i = 51\n",
      "36.609518164 33.2690173516\n",
      "0.00778342722342\n",
      "i = 52\n",
      "36.8311103221 33.0361351861\n",
      "0.00765078920709\n",
      "i = 53\n",
      "37.0497682241 32.8052231823\n",
      "0.0075186848922\n",
      "i = 54\n",
      "37.2658198939 32.5747702656\n",
      "0.00743109940417\n",
      "i = 55\n",
      "37.4796948223 32.3442715764\n",
      "0.00737362008997\n",
      "i = 56\n",
      "37.6913605956 32.1136288034\n",
      "0.00731676302234\n",
      "i = 57\n",
      "37.901021155 31.8829440923\n",
      "0.00726774668298\n",
      "i = 58\n",
      "38.108826819 31.651964447\n",
      "0.00723091692669\n",
      "i = 59\n",
      "38.3151742146 31.4197420796\n",
      "0.00723206289518\n",
      "i = 60\n",
      "38.5202755137 31.1867800923\n",
      "0.00723399412542\n",
      "i = 61\n",
      "38.7243107803 30.9532810947\n",
      "0.00724112307157\n",
      "i = 62\n",
      "38.9276509954 30.7272358314\n",
      "0.00710632461789\n",
      "i = 63\n",
      "39.130307139 30.5071473386\n",
      "0.0070027466357\n",
      "i = 64\n",
      "39.3325001339 30.2927366725\n",
      "0.00691662554506\n",
      "i = 65\n",
      "39.5338972145 30.0850995799\n",
      "0.00679558992891\n",
      "i = 66\n",
      "39.7345063668 29.8851096578\n",
      "0.00666120448926\n",
      "i = 67\n",
      "39.9344272926 29.6918648385\n",
      "0.00655018607816\n",
      "i = 68\n",
      "40.1337155039 29.5020986308\n",
      "0.00649952466819\n",
      "i = 69\n",
      "40.332571289 29.3154603711\n",
      "0.00646476844739\n",
      "i = 70\n",
      "40.5310974193 29.1317847317\n",
      "0.00643829942926\n",
      "i = 71\n",
      "40.7292626382 28.9507834909\n",
      "0.00641572316269\n",
      "i = 72\n",
      "40.9273404046 28.7726055029\n",
      "0.00640475504913\n",
      "i = 73\n",
      "41.1254305184 28.5953120569\n",
      "0.00643083853237\n",
      "i = 74\n",
      "41.3236632437 28.4171003733\n",
      "0.00649367053417\n",
      "i = 75\n",
      "41.5221512426 28.2378458376\n",
      "0.00656596803666\n",
      "i = 76\n",
      "41.7210964423 28.0575240253\n",
      "0.00665095911694\n",
      "i = 77\n",
      "41.9204079992 27.8763207227\n",
      "0.00673036135629\n",
      "i = 78\n",
      "42.120211631 27.694204613\n",
      "0.00681899369832\n",
      "i = 79\n",
      "42.3206140099 27.511149452\n",
      "0.006916226341\n",
      "i = 80\n",
      "42.521593229 27.3274546333\n",
      "0.00700994860376\n",
      "i = 81\n",
      "42.7232802422 27.1430688316\n",
      "0.0071142930704\n",
      "i = 82\n",
      "42.9258090241 26.9580267019\n",
      "0.00722844738496\n",
      "i = 83\n",
      "43.1291636464 26.7721494304\n",
      "0.00734833650859\n",
      "i = 84\n",
      "43.3336253345 26.5852758942\n",
      "0.0074908946728\n",
      "i = 85\n",
      "43.5393015717 26.3974535833\n",
      "0.00764349112213\n",
      "i = 86\n",
      "43.7461042485 26.2090527848\n",
      "0.00778922832794\n",
      "i = 87\n",
      "43.9540788651 26.019894024\n",
      "0.00794586069225\n",
      "i = 88\n",
      "44.1632561414 25.8298657255\n",
      "0.00811182949873\n",
      "i = 89\n",
      "44.3737964917 25.6402781048\n",
      "0.00826908665699\n",
      "i = 90\n",
      "44.5859367096 25.4538488622\n",
      "0.00839625643408\n",
      "i = 91\n",
      "44.7995207214 25.2679633074\n",
      "0.00856772768756\n",
      "i = 92\n",
      "45.0139674886 25.0760951122\n",
      "0.00883225686228\n",
      "i = 93\n",
      "45.2292317223 24.8777950546\n",
      "0.00911560032817\n",
      "i = 94\n",
      "45.4451535189 24.6730582801\n",
      "0.00940263554268\n",
      "i = 95\n",
      "45.6617454421 24.4622956926\n",
      "0.00969656824329\n",
      "i = 96\n",
      "45.8789577669 24.245662576\n",
      "0.00999876413356\n",
      "i = 97\n",
      "46.0965981664 24.0235928172\n",
      "0.0102929054877\n",
      "i = 98\n",
      "46.3144800715 23.795950483\n",
      "0.0105919637252\n",
      "i = 99\n",
      "46.5325584253 23.5628429932\n",
      "0.0109008726838\n",
      "i = 100\n",
      "46.7506526684 23.3245902169\n",
      "0.0112045899531\n",
      "i = 101\n",
      "46.9685689469 23.081563237\n",
      "0.0114998509956\n",
      "i = 102\n",
      "47.1862616055 22.8339762766\n",
      "0.0118018662248\n",
      "i = 103\n",
      "47.4036300994 22.5820989236\n",
      "0.0121045719817\n",
      "i = 104\n",
      "47.620593144 22.3258861703\n",
      "0.0124184092868\n",
      "i = 105\n",
      "47.8370584966 22.0652025865\n",
      "0.0127461323639\n",
      "i = 106\n",
      "48.0529581567 21.8000485652\n",
      "0.0130868933862\n",
      "i = 107\n",
      "48.2682038362 21.5304670195\n",
      "0.0134386452184\n",
      "i = 108\n",
      "48.4827112385 21.2567173315\n",
      "0.0137953246958\n",
      "i = 109\n",
      "48.6964076997 20.9791435171\n",
      "0.0141549657976\n",
      "i = 110\n",
      "48.9092105936 20.6980631349\n",
      "0.0145173602778\n",
      "i = 111\n",
      "49.1210832647 20.4138332862\n",
      "0.0148852140572\n",
      "i = 112\n",
      "49.3319936663 20.1274387427\n",
      "0.0152354548076\n",
      "i = 113\n",
      "49.5419649845 19.8399910828\n",
      "0.0155658615142\n",
      "i = 114\n",
      "49.7508465338 19.5516477988\n",
      "0.0158937506663\n",
      "i = 115\n",
      "49.95847066 19.2624737832\n",
      "0.0162202656702\n",
      "i = 116\n",
      "50.1645599349 18.9725210752\n",
      "0.016533882687\n",
      "i = 117\n",
      "50.3688730375 18.6824918718\n",
      "0.0168091951857\n",
      "i = 118\n",
      "50.5713125832 18.3928255778\n",
      "0.0170691289013\n",
      "i = 119\n",
      "50.7719683241 18.1041636035\n",
      "0.0173237927785\n",
      "i = 120\n",
      "50.9707486667 17.8166954642\n",
      "0.0175715107581\n",
      "i = 121\n",
      "51.1675633872 17.5308271695\n",
      "0.0178013343367\n",
      "i = 122\n",
      "51.362295874 17.2469840081\n",
      "0.0180068623761\n",
      "i = 123\n",
      "51.5546978839 16.9652711969\n",
      "0.0181842958652\n",
      "i = 124\n",
      "51.7446228965 16.6860448026\n",
      "0.0183312575989\n",
      "i = 125\n",
      "51.9320091171 16.4097585023\n",
      "0.0184505315329\n",
      "i = 126\n",
      "52.1168068096 16.1368953067\n",
      "0.0185393558485\n",
      "i = 127\n",
      "52.2990363285 15.8683227839\n",
      "0.0185844652407\n",
      "i = 128\n",
      "52.4786481946 15.6044278865\n",
      "0.0185976682062\n",
      "i = 129\n",
      "52.6554933657 15.3447762699\n",
      "0.0186056192515\n",
      "i = 130\n",
      "52.8294899464 15.0897803542\n",
      "0.0185720332624\n",
      "i = 131\n",
      "53.0006381454 14.8399304256\n",
      "0.0185012834115\n",
      "i = 132\n",
      "53.1689565803 14.595796842\n",
      "0.0183891926144\n",
      "i = 133\n",
      "53.3343849311 14.3576135076\n",
      "0.0182401034813\n",
      "i = 134\n",
      "53.4968947269 14.1257139949\n",
      "0.0180514354884\n",
      "i = 135\n",
      "53.6564691086 13.9001741279\n",
      "0.017837322276\n",
      "i = 136\n",
      "53.8132064404 13.6823200542\n",
      "0.0175459434188\n",
      "i = 137\n",
      "53.966957569 13.4716455356\n",
      "0.0172373540465\n",
      "i = 138\n",
      "54.1177386166 13.2686546138\n",
      "0.0168819591083\n",
      "i = 139\n",
      "54.2655790413 13.0733489035\n",
      "0.0165085709276\n",
      "i = 140\n",
      "54.4105559341 12.885915071\n",
      "0.0161155744323\n",
      "i = 141\n",
      "54.5527194822 12.7064312057\n",
      "0.0157055068013\n",
      "i = 142\n",
      "54.69209006 12.5347165181\n",
      "0.0152880963448\n",
      "i = 143\n",
      "54.82867936 12.3706840999\n",
      "0.0148580946023\n",
      "i = 144\n",
      "54.9625045943 12.214227051\n",
      "0.0144184003268\n",
      "i = 145\n",
      "55.093601149 12.0652009753\n",
      "0.0139749053262\n",
      "i = 146\n",
      "55.2219720729 11.9235551114\n",
      "0.0135191368427\n",
      "i = 147\n",
      "55.3475165035 11.7884711644\n",
      "0.0130709508953\n",
      "i = 148\n",
      "55.4702549446 11.6598283769\n",
      "0.0126179839582\n",
      "i = 149\n",
      "55.5901940102 11.5372654391\n",
      "0.0121697873186\n",
      "i = 150\n",
      "55.7073569052 11.420675462\n",
      "0.0117187442915\n",
      "i = 151\n",
      "55.8217949005 11.3099593678\n",
      "0.0112702392004\n",
      "i = 152\n",
      "55.93356084 11.2050973839\n",
      "0.0108225548764\n",
      "i = 153\n",
      "56.0426899731 11.1059440634\n",
      "0.0103793070305\n",
      "i = 154\n",
      "56.1492316429 11.0123266046\n",
      "0.00994480525782\n",
      "i = 155\n",
      "56.2532278546 10.924047028\n",
      "0.00951971973092\n",
      "i = 156\n",
      "56.354692325 10.8405837355\n",
      "0.00911187383271\n",
      "i = 157\n",
      "56.4536584563 10.7617912667\n",
      "0.00871113801381\n",
      "i = 158\n",
      "56.5501692188 10.6875191622\n",
      "0.00831984232047\n",
      "i = 159\n",
      "56.6442652704 10.6175434512\n",
      "0.00794058110031\n",
      "i = 160\n",
      "56.7360059451 10.5519260316\n",
      "0.00756774524665\n",
      "i = 161\n",
      "56.8254033261 10.4904528415\n",
      "0.00720363819534\n",
      "i = 162\n",
      "56.9124868231 10.4331177103\n",
      "0.00684523472223\n",
      "i = 163\n",
      "56.9972915547 10.3797439413\n",
      "0.00649877493899\n",
      "i = 164\n",
      "57.0798605353 10.3300766286\n",
      "0.00616749337364\n",
      "i = 165\n",
      "57.1602019043 10.2838486767\n",
      "0.00584684826486\n",
      "i = 166\n",
      "57.2383444136 10.2407169839\n",
      "0.00554122909422\n",
      "i = 167\n",
      "57.3143323015 10.2005709462\n",
      "0.00524710722005\n",
      "i = 168\n",
      "57.3882291256 10.1636523234\n",
      "0.0049597247743\n",
      "i = 169\n",
      "57.4600867011 10.1299870455\n",
      "0.00468287706176\n",
      "i = 170\n",
      "57.5299609812 10.0994148049\n",
      "0.00442081851351\n",
      "i = 171\n",
      "57.597907689 10.0716043696\n",
      "0.00417610136334\n",
      "i = 172\n",
      "57.6639584572 10.0461563886\n",
      "0.00394620319539\n",
      "i = 173\n",
      "57.7281351361 10.0229045634\n",
      "0.00372560562839\n",
      "i = 174\n",
      "57.7904742819 10.0015679909\n",
      "0.00351738709051\n",
      "i = 175\n",
      "57.8510144527 9.98171687038\n",
      "0.00332327128994\n",
      "i = 176\n",
      "57.9097968353 9.963284334\n",
      "0.00313793967708\n",
      "i = 177\n",
      "57.9668607269 9.94620731936\n",
      "0.0029610153637\n",
      "i = 178\n",
      "58.0222468153 9.93041962191\n",
      "0.00279253069601\n",
      "i = 179\n",
      "58.0760186655 9.91574384837\n",
      "0.00263575707178\n",
      "i = 180\n",
      "58.1282053078 9.90216924776\n",
      "0.00248514646173\n",
      "i = 181\n",
      "58.178838086 9.88968718869\n",
      "0.00234084731336\n",
      "i = 182\n",
      "58.2279359633 9.87818466087\n",
      "0.00220273929239\n",
      "i = 183\n",
      "58.2755011806 9.86781639321\n",
      "0.00206674988968\n",
      "i = 184\n",
      "58.3215627244 9.85861556223\n",
      "0.00193653318405\n",
      "i = 185\n",
      "58.366160613 9.85051993524\n",
      "0.00181373284903\n",
      "i = 186\n",
      "58.4093614623 9.84306511009\n",
      "0.00170325688901\n",
      "i = 187\n",
      "58.4512349255 9.83589793755\n",
      "0.00160362820054\n",
      "i = 188\n",
      "58.4918149319 9.82900791842\n",
      "0.001509078018\n",
      "i = 189\n",
      "58.5311292753 9.82238382971\n",
      "0.00141902585424\n",
      "i = 190\n",
      "58.5691890755 9.81601170804\n",
      "0.00133222327526\n",
      "i = 191\n",
      "58.6060317526 9.80984514198\n",
      "0.00125062638468\n",
      "i = 192\n",
      "58.6416920617 9.80387544395\n",
      "0.00117361586361\n",
      "i = 193\n",
      "58.6762056659 9.79829263434\n",
      "0.00109985610609\n",
      "i = 194\n",
      "58.7095883786 9.79317427158\n",
      "0.0010287760674\n",
      "i = 195\n",
      "58.7095883786 9.79317427158\n",
      "0.0\n"
     ]
    }
   ],
   "source": [
    "m_LM,inc_est,dec_est,phi,imax,pest,incs,decs = fc.levenberg_marquardt_NNLS(\n",
    "    data['tfa_obs_sphere_RM_reg'],regular_grid['x'],regular_grid['y'],\n",
    "    regular_grid['z'],xs,ys,zs,inc_gf,dec_gf,-60.,60.,lamb,dlamb,i_pos,it_max,\n",
    "    it_marq,eps)"
   ]
  },
  {
   "cell_type": "markdown",
   "metadata": {},
   "source": [
    "### Visualization of the convergence"
   ]
  },
  {
   "cell_type": "code",
   "execution_count": 41,
   "metadata": {},
   "outputs": [],
   "source": [
    "phi = np.array(phi)/regular_grid['x'].size"
   ]
  },
  {
   "cell_type": "code",
   "execution_count": 42,
   "metadata": {},
   "outputs": [
    {
     "data": {
      "text/plain": [
       "<matplotlib.figure.Figure at 0x7f85031102d0>"
      ]
     },
     "metadata": {},
     "output_type": "display_data"
    },
    {
     "data": {
      "image/png": "[encoded data removed]",
      "text/plain": [
       "<matplotlib.figure.Figure at 0x7f8503110850>"
      ]
     },
     "metadata": {},
     "output_type": "display_data"
    }
   ],
   "source": [
    "title_font = 20\n",
    "bottom_font = 16\n",
    "saturation_factor = 1.\n",
    "plt.close('all')\n",
    "plt.figure(figsize=(8,8), tight_layout=True)\n",
    "\n",
    "plt.figure(figsize=(10, 10))\n",
    "plt.plot(phi, 'b--')\n",
    "plt.plot(phi, 'b.')\n",
    "\n",
    "plt.title('Convergence analysis', fontsize=title_font)\n",
    "plt.xlabel('iteration', fontsize = title_font)\n",
    "plt.ylabel('$\\phi (\\bar{p})$', fontsize = title_font)\n",
    "\n",
    "file_name = 'figs/regular/noisy_convergence_LM_NNLS_magRM'\n",
    "plt.savefig(file_name+'.png',dpi=200)\n",
    "saved_files.append(file_name+'.png')\n",
    "\n",
    "plt.show()"
   ]
  },
  {
   "cell_type": "markdown",
   "metadata": {},
   "source": [
    "### Estimated magnetization direction"
   ]
  },
  {
   "cell_type": "code",
   "execution_count": 43,
   "metadata": {},
   "outputs": [
    {
     "name": "stdout",
     "output_type": "stream",
     "text": [
      "(58.709588378646799, 9.7931742715839256)\n"
     ]
    }
   ],
   "source": [
    "print (inc_est,dec_est)"
   ]
  },
  {
   "cell_type": "code",
   "execution_count": 45,
   "metadata": {},
   "outputs": [
    {
     "name": "stdout",
     "output_type": "stream",
     "text": [
      "(60.0, 10.0)\n"
     ]
    }
   ],
   "source": [
    "print (inc_R,dec_R)"
   ]
  },
  {
   "cell_type": "markdown",
   "metadata": {},
   "source": [
    "### Comparison between observed data and predicted data"
   ]
  },
  {
   "cell_type": "code",
   "execution_count": 46,
   "metadata": {},
   "outputs": [],
   "source": [
    "pred = fc.tfa_layer(regular_grid['x'],regular_grid['y'],regular_grid['z'],\n",
    "                    xs,ys,zs,inc_gf,dec_gf,m_LM,inc_est,dec_est)"
   ]
  },
  {
   "cell_type": "code",
   "execution_count": 47,
   "metadata": {},
   "outputs": [],
   "source": [
    "res = pred - data['tfa_obs_sphere_RM_reg']"
   ]
  },
  {
   "cell_type": "code",
   "execution_count": 48,
   "metadata": {},
   "outputs": [],
   "source": [
    "r_norm,r_mean,r_std = func.residual(data['tfa_obs_sphere_RM_reg'],pred)"
   ]
  },
  {
   "cell_type": "code",
   "execution_count": 49,
   "metadata": {},
   "outputs": [
    {
     "data": {
      "image/png": "[encoded data removed]",
      "text/plain": [
       "<matplotlib.figure.Figure at 0x7f850346fbd0>"
      ]
     },
     "metadata": {},
     "output_type": "display_data"
    }
   ],
   "source": [
    "title_font = 20\n",
    "bottom_font = 16\n",
    "saturation_factor = 1.\n",
    "plt.close('all')\n",
    "plt.figure(figsize=(19,7), tight_layout=True)\n",
    "\n",
    "ranges = saturation_factor*np.abs([data['tfa_obs_sphere_RM_reg'].max(), \n",
    "                                   data['tfa_obs_sphere_RM_reg'].min(),\n",
    "                                   pred.max(), pred.min()]).max()\n",
    "res_ranges = np.max(np.abs(res))\n",
    "\n",
    "plt.subplot(1,4,1)\n",
    "plt.contourf(regular_grid['y'].reshape(regular_grid['shape']),\n",
    "             regular_grid['x'].reshape(regular_grid['shape']), \n",
    "             data['tfa_obs_sphere_RM_reg'].reshape(regular_grid['shape']),\n",
    "             20, cmap='RdBu_r',vmin=-ranges, vmax=ranges)\n",
    "plt.colorbar(pad=0.01, aspect=40, shrink=1.0).set_label('nT')\n",
    "plt.xlabel('y (m)', fontsize = title_font)\n",
    "plt.ylabel('x (m)', fontsize = title_font)\n",
    "plt.title('TFA (RM_reg_grid)',fontsize=title_font)\n",
    "\n",
    "plt.subplot(1,4,2)\n",
    "plt.contourf(regular_grid['y'].reshape(regular_grid['shape']),\n",
    "             regular_grid['x'].reshape(regular_grid['shape']),\n",
    "             pred.reshape(regular_grid['shape']),\n",
    "             20, cmap='RdBu_r',  vmin=-ranges, vmax=ranges)\n",
    "plt.colorbar(pad=0.01, aspect=40, shrink=1.0).set_label('nT')\n",
    "plt.xlabel('y (m)', fontsize = title_font)\n",
    "plt.ylabel('x (m)', fontsize = title_font)\n",
    "plt.title('TFA (Layer)', fontsize=title_font)\n",
    "\n",
    "plt.subplot(1,4,3)\n",
    "plt.contourf(regular_grid['y'].reshape(regular_grid['shape']),\n",
    "             regular_grid['x'].reshape(regular_grid['shape']),\n",
    "             res.reshape(regular_grid['shape']), \n",
    "             20, cmap='RdBu_r',  vmin=-res_ranges, vmax=res_ranges)\n",
    "plt.colorbar(pad=0.01, aspect=40, shrink=1.0).set_label('nT')\n",
    "plt.xlabel('y (m)', fontsize = title_font)\n",
    "plt.ylabel('x (m)', fontsize = title_font)\n",
    "plt.title('Residual map', fontsize=title_font)\n",
    "\n",
    "\n",
    "plt.subplot(1,4,4)\n",
    "plt.xlabel('$\\mu$ = %.3f | $\\sigma$ = %.3f nT' % (r_mean, r_std),\n",
    "           fontsize = bottom_font)\n",
    "nbins = int((np.max(r_norm - np.min(r_norm))))\n",
    "plt.hist(r_norm,bins=nbins,normed=True)\n",
    "plt.ylim(0.,1.)\n",
    "plt.xlim(-10., 10.)\n",
    "plt.title('Normalized Histogram',fontsize=title_font)\n",
    "\n",
    "file_name = 'figs/regular/noisy_data_fitting_LM_NNLS_magRM'\n",
    "plt.savefig(file_name+'.png',dpi=200)\n",
    "saved_files.append(file_name+'.png')\n",
    "\n",
    "plt.show()"
   ]
  },
  {
   "cell_type": "markdown",
   "metadata": {},
   "source": [
    "### Estimated magnetic moment within the layer"
   ]
  },
  {
   "cell_type": "code",
   "execution_count": 50,
   "metadata": {},
   "outputs": [
    {
     "data": {
      "image/png": "[encoded data removed]",
      "text/plain": [
       "<matplotlib.figure.Figure at 0x7f85034dc2d0>"
      ]
     },
     "metadata": {},
     "output_type": "display_data"
    }
   ],
   "source": [
    "title_font = 20\n",
    "bottom_font = 16\n",
    "saturation_factor = 1.\n",
    "plt.close('all')\n",
    "plt.figure(figsize=(8,8), tight_layout=True)\n",
    "\n",
    "ranges = saturation_factor*np.abs([m_LM.max(), m_LM.min()]).max()\n",
    "\n",
    "plt.contourf(ys.reshape(shape_layer),\n",
    "             xs.reshape(shape_layer), \n",
    "             m_LM.reshape(shape_layer),\n",
    "             20, cmap='RdBu_r',vmin=-ranges, vmax=ranges)\n",
    "plt.colorbar(pad=0.01, aspect=40, shrink=1.0).set_label('$A.m^2$')\n",
    "plt.xlabel('y (m)', fontsize = title_font)\n",
    "plt.ylabel('x (m)', fontsize = title_font)\n",
    "plt.title('Magnetic moment (layer)', fontsize=title_font)\n",
    "plt.text(1500.,4500.,'Inc = %.1f | Dec = %.1f '% (inc_R,dec_R),family='ubuntu',style='normal')\n",
    "plt.text(1000.,4100.,'Inc_est = %.1f | Dec_est = %.1f '% (inc_est,dec_est),family='ubuntu',style='normal' )\n",
    "\n",
    "\n",
    "file_name = 'figs/regular/noisy_magnetic_moment_positive_LM_NNLS_magRM'\n",
    "plt.savefig(file_name+'.png',dpi=200)\n",
    "saved_files.append(file_name+'.png')\n",
    "\n",
    "plt.show()"
   ]
  },
  {
   "cell_type": "code",
   "execution_count": null,
   "metadata": {},
   "outputs": [],
   "source": []
  },
  {
   "cell_type": "code",
   "execution_count": null,
   "metadata": {},
   "outputs": [],
   "source": []
  }
 ],
 "metadata": {
  "kernelspec": {
   "display_name": "Python 2",
   "language": "python",
   "name": "python2"
  },
  "language_info": {
   "codemirror_mode": {
    "name": "ipython",
    "version": 2
   },
   "file_extension": ".py",
   "mimetype": "text/x-python",
   "name": "python",
   "nbconvert_exporter": "python",
   "pygments_lexer": "ipython2",
   "version": "2.7.14"
  }
 },
 "nbformat": 4,
 "nbformat_minor": 2
}
