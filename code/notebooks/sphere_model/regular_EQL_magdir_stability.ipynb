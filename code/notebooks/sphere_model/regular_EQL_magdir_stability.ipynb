{
 "cells": [
  {
   "cell_type": "markdown",
   "metadata": {},
   "source": [
    "# Equivalent Layer technique for estimating magnetization direction of a magnetized source"
   ]
  },
  {
   "cell_type": "markdown",
   "metadata": {},
   "source": [
    "#### Importing libraries"
   ]
  },
  {
   "cell_type": "code",
   "execution_count": 1,
   "metadata": {},
   "outputs": [],
   "source": [
    "% matplotlib inline "
   ]
  },
  {
   "cell_type": "code",
   "execution_count": 2,
   "metadata": {},
   "outputs": [
    {
     "name": "stderr",
     "output_type": "stream",
     "text": [
      "/home/andrelreis/anaconda2/lib/python2.7/site-packages/fatiando/vis/mpl.py:76: UserWarning: This module will be removed in v0.6. We recommend the use of matplotlib.pyplot module directly. Some of the fatiando specific functions will remain.\n",
      "  \"specific functions will remain.\")\n"
     ]
    }
   ],
   "source": [
    "import sys\n",
    "import numpy as np\n",
    "import matplotlib.pyplot as plt\n",
    "import cPickle as pickle\n",
    "import datetime\n",
    "import timeit\n",
    "from scipy.optimize import nnls\n",
    "from fatiando.gridder import regular\n",
    "from fatiando.utils import ang2vec, vec2ang\n",
    "from fatiando.mesher import Sphere, PointGrid,Prism\n",
    "from fatiando.gravmag import sphere,prism\n",
    "from fatiando.constants import CM, T2NT, G, SI2MGAL"
   ]
  },
  {
   "cell_type": "code",
   "execution_count": 3,
   "metadata": {},
   "outputs": [],
   "source": [
    "notebook_name = 'regular_EQL_magdir_stability.ipynb'"
   ]
  },
  {
   "cell_type": "markdown",
   "metadata": {},
   "source": [
    "#### Importing auxiliary functions"
   ]
  },
  {
   "cell_type": "code",
   "execution_count": 4,
   "metadata": {},
   "outputs": [],
   "source": [
    "dir_modules = '../../mypackage'\n",
    "sys.path.append(dir_modules)"
   ]
  },
  {
   "cell_type": "code",
   "execution_count": 5,
   "metadata": {},
   "outputs": [],
   "source": [
    "import auxiliary_functions as fc"
   ]
  },
  {
   "cell_type": "markdown",
   "metadata": {},
   "source": [
    "#### Loading properties of the model"
   ]
  },
  {
   "cell_type": "code",
   "execution_count": 6,
   "metadata": {},
   "outputs": [],
   "source": [
    "with open('data/model_sphere.pickle') as f:\n",
    "        model_sphere = pickle.load(f)"
   ]
  },
  {
   "cell_type": "markdown",
   "metadata": {},
   "source": [
    "#### Loading properties grid"
   ]
  },
  {
   "cell_type": "code",
   "execution_count": 7,
   "metadata": {},
   "outputs": [],
   "source": [
    "with open('data/regular_grid.pickle') as f:\n",
    "        reg_grid = pickle.load(f)"
   ]
  },
  {
   "cell_type": "markdown",
   "metadata": {},
   "source": [
    "### Saving files"
   ]
  },
  {
   "cell_type": "code",
   "execution_count": 8,
   "metadata": {},
   "outputs": [],
   "source": [
    "saved_files = []"
   ]
  },
  {
   "cell_type": "markdown",
   "metadata": {},
   "source": [
    "## Observation area"
   ]
  },
  {
   "cell_type": "code",
   "execution_count": 9,
   "metadata": {},
   "outputs": [
    {
     "name": "stdout",
     "output_type": "stream",
     "text": [
      "Area limits: \n",
      " x_max = 6000.0 m \n",
      " x_min = -6000.0 m \n",
      " y_max = 6000.0 m \n",
      " y_min = -6000.0 m\n"
     ]
    }
   ],
   "source": [
    "print 'Area limits: \\n x_max = %.1f m \\n x_min = %.1f m \\n y_max = %.1f m \\n y_min = %.1f m' % (reg_grid['area'][1], \n",
    "                                                                                                reg_grid['area'][0],\n",
    "                                                                                                reg_grid['area'][3],\n",
    "                                                                                                reg_grid['area'][2])"
   ]
  },
  {
   "cell_type": "markdown",
   "metadata": {},
   "source": [
    "### reg_grid survey information"
   ]
  },
  {
   "cell_type": "code",
   "execution_count": 10,
   "metadata": {},
   "outputs": [
    {
     "name": "stdout",
     "output_type": "stream",
     "text": [
      "Shape : (20,20)\n",
      "Number of data: 400.0\n",
      "dx: 631.6 m\n",
      "dy: 631.6 m \n"
     ]
    }
   ],
   "source": [
    "print 'Shape : (%.0f,%.0f)'% reg_grid['shape'] \n",
    "print 'Number of data: %.1f' % reg_grid['N']\n",
    "print 'dx: %.1f m' % reg_grid['dx']\n",
    "print 'dy: %.1f m ' % reg_grid['dy']"
   ]
  },
  {
   "cell_type": "markdown",
   "metadata": {},
   "source": [
    "## Properties of the model"
   ]
  },
  {
   "cell_type": "markdown",
   "metadata": {},
   "source": [
    "### Main field"
   ]
  },
  {
   "cell_type": "code",
   "execution_count": 11,
   "metadata": {},
   "outputs": [],
   "source": [
    "inc_gf,dec_gf = model_sphere['main_field']"
   ]
  },
  {
   "cell_type": "code",
   "execution_count": 12,
   "metadata": {},
   "outputs": [
    {
     "name": "stdout",
     "output_type": "stream",
     "text": [
      "Main field inclination: 40.0 degree\n",
      "Main field declination: 45.0 degree\n"
     ]
    }
   ],
   "source": [
    "print'Main field inclination: %.1f degree' % inc_gf\n",
    "print'Main field declination: %.1f degree' % dec_gf"
   ]
  },
  {
   "cell_type": "markdown",
   "metadata": {},
   "source": [
    "### Magnetization direction"
   ]
  },
  {
   "cell_type": "code",
   "execution_count": 13,
   "metadata": {},
   "outputs": [
    {
     "name": "stdout",
     "output_type": "stream",
     "text": [
      "Intensity: 3.0 A/m\n",
      "Inclination: 30.0 degree\n",
      "Declination: 20.0 degree\n"
     ]
    }
   ],
   "source": [
    "print 'Intensity: %.1f A/m' % model_sphere['m_R']\n",
    "print 'Inclination: %.1f degree' % model_sphere['inc_R']\n",
    "print 'Declination: %.1f degree' % model_sphere['dec_R']"
   ]
  },
  {
   "cell_type": "code",
   "execution_count": 14,
   "metadata": {},
   "outputs": [],
   "source": [
    "inc_R,dec_R = model_sphere['inc_R'],model_sphere['dec_R']"
   ]
  },
  {
   "cell_type": "markdown",
   "metadata": {},
   "source": [
    "### Generating data"
   ]
  },
  {
   "cell_type": "code",
   "execution_count": 15,
   "metadata": {},
   "outputs": [],
   "source": [
    "data = sphere.tf(reg_grid['x'],reg_grid['y'],reg_grid['z'],\n",
    "                 model_sphere['model_R'],inc_gf,dec_gf)"
   ]
  },
  {
   "cell_type": "code",
   "execution_count": 16,
   "metadata": {},
   "outputs": [],
   "source": [
    "seed = 40"
   ]
  },
  {
   "cell_type": "code",
   "execution_count": 17,
   "metadata": {},
   "outputs": [],
   "source": [
    "np.random.seed(seed=seed)"
   ]
  },
  {
   "cell_type": "code",
   "execution_count": 18,
   "metadata": {},
   "outputs": [],
   "source": [
    "std_noise = 5.\n",
    "r = np.random.normal(0.0,std_noise, reg_grid['Nx']*reg_grid['Ny'])\n",
    "data_obs =  data + r"
   ]
  },
  {
   "cell_type": "markdown",
   "metadata": {},
   "source": [
    "## Generating the layer with my function "
   ]
  },
  {
   "cell_type": "code",
   "execution_count": 19,
   "metadata": {},
   "outputs": [],
   "source": [
    "h = 1200."
   ]
  },
  {
   "cell_type": "markdown",
   "metadata": {},
   "source": [
    "#### Generating a layer"
   ]
  },
  {
   "cell_type": "code",
   "execution_count": 20,
   "metadata": {},
   "outputs": [],
   "source": [
    "shape_layer = (reg_grid['shape'][0],reg_grid['shape'][1])"
   ]
  },
  {
   "cell_type": "code",
   "execution_count": 21,
   "metadata": {},
   "outputs": [],
   "source": [
    "xs,ys,zs = regular(reg_grid['area'],shape_layer,h)"
   ]
  },
  {
   "cell_type": "markdown",
   "metadata": {},
   "source": [
    "### Levenberg-Marquardt with NNLS for positive magnetic moments"
   ]
  },
  {
   "cell_type": "code",
   "execution_count": 22,
   "metadata": {},
   "outputs": [],
   "source": [
    "i_pos = 1500"
   ]
  },
  {
   "cell_type": "code",
   "execution_count": 23,
   "metadata": {},
   "outputs": [],
   "source": [
    "it_max = 30"
   ]
  },
  {
   "cell_type": "code",
   "execution_count": 24,
   "metadata": {},
   "outputs": [],
   "source": [
    "it_marq = 15"
   ]
  },
  {
   "cell_type": "code",
   "execution_count": 25,
   "metadata": {},
   "outputs": [],
   "source": [
    "lamb = 10.\n",
    "dlamb = 100."
   ]
  },
  {
   "cell_type": "code",
   "execution_count": 26,
   "metadata": {},
   "outputs": [],
   "source": [
    "eps_e = 1e-4\n",
    "eps_i = 1e-4"
   ]
  },
  {
   "cell_type": "code",
   "execution_count": 27,
   "metadata": {},
   "outputs": [],
   "source": [
    "mu_LM = 1e5"
   ]
  },
  {
   "cell_type": "code",
   "execution_count": 28,
   "metadata": {},
   "outputs": [
    {
     "name": "stdout",
     "output_type": "stream",
     "text": [
      "i = 0\n",
      "-0.570577457275 -2.63784463184\n",
      "0.377916456175\n",
      "i = 1\n",
      "5.67200778393 -0.0619702770233\n",
      "0.628726331441\n",
      "i = 2\n",
      "8.78181301353 1.30314800114\n",
      "0.319845422425\n",
      "i = 3\n",
      "10.9101006457 2.3148319971\n",
      "0.201201119388\n",
      "i = 4\n",
      "12.5861976562 3.25630976061\n",
      "0.159090033066\n",
      "i = 5\n",
      "13.966508941 4.16940061684\n",
      "0.136281584252\n",
      "i = 6\n",
      "15.1213988163 5.0269599869\n",
      "0.116735808259\n",
      "i = 7\n",
      "16.1037918219 5.81602857601\n",
      "0.100326012356\n",
      "i = 8\n",
      "16.9526672038 6.52511778893\n",
      "0.0859672465134\n",
      "i = 9\n",
      "17.695051702 7.16749629051\n",
      "0.0741900469279\n",
      "i = 10\n",
      "18.3508970679 7.74310633031\n",
      "0.0636841059128\n",
      "i = 11\n",
      "18.937907674 8.26495078959\n",
      "0.0554315355111\n",
      "i = 12\n",
      "19.4679995268 8.73349765233\n",
      "0.0481326159465\n",
      "i = 13\n",
      "19.9509443923 9.15986749429\n",
      "0.0422995860577\n",
      "i = 14\n",
      "20.3936075331 9.55666477044\n",
      "0.0377259490369\n",
      "i = 15\n",
      "20.8019637093 9.92818546109\n",
      "0.0338933389696\n",
      "i = 16\n",
      "21.1802523984 10.2776242434\n",
      "0.0305711073388\n",
      "i = 17\n",
      "21.5322036497 10.6081894371\n",
      "0.0277305790675\n",
      "i = 18\n",
      "21.8604993033 10.9205017014\n",
      "0.0251382962265\n",
      "i = 19\n",
      "22.1674062332 11.215276025\n",
      "0.0227685865235\n",
      "i = 20\n",
      "22.455032771 11.4927511934\n",
      "0.0205963719781\n",
      "i = 21\n",
      "22.7253446671 11.7537340751\n",
      "0.0186429151141\n",
      "i = 22\n",
      "22.9799459626 11.9987021146\n",
      "0.0168636464481\n",
      "i = 23\n",
      "23.2208832402 12.2311102015\n",
      "0.0154192056059\n",
      "i = 24\n",
      "23.4494852414 12.4523418268\n",
      "0.014152585026\n",
      "i = 25\n",
      "23.6667135438 12.6627170933\n",
      "0.0129886520464\n",
      "i = 26\n",
      "23.8738103998 12.8640688601\n",
      "0.0120034931846\n",
      "i = 27\n",
      "24.0715942602 13.0573846753\n",
      "0.0111266732475\n",
      "i = 28\n",
      "24.2609507843 13.2439326677\n",
      "0.0103695343815\n",
      "i = 29\n",
      "24.4424331638 13.4239428145\n",
      "0.00966912798511\n",
      "i = 30\n",
      "24.6165326927 13.5975780191\n",
      "0.00901802089127\n",
      "i = 31\n",
      "24.7837423406 13.7650153746\n",
      "0.00841618825062\n",
      "i = 32\n",
      "24.9446484869 13.9265856915\n",
      "0.00787382144678\n",
      "i = 33\n",
      "25.099696136 14.0826643485\n",
      "0.00738006282329\n",
      "i = 34\n",
      "25.2492262352 14.2334110829\n",
      "0.0069205892228\n",
      "i = 35\n",
      "25.3936591241 14.3794094748\n",
      "0.00651078647335\n",
      "i = 36\n",
      "25.5333797551 14.5213590083\n",
      "0.0061493264029\n",
      "i = 37\n",
      "25.6686897615 14.6595231964\n",
      "0.00581820062051\n",
      "i = 38\n",
      "25.799814513 14.7940085265\n",
      "0.00550791737674\n",
      "i = 39\n",
      "25.9269560529 14.9249090646\n",
      "0.00521632798214\n",
      "i = 40\n",
      "26.0503067607 15.0523192768\n",
      "0.00494243562014\n",
      "i = 41\n",
      "26.1700496338 15.176334274\n",
      "0.00468527688494\n",
      "i = 42\n",
      "26.2863532138 15.2970450816\n",
      "0.00444352792334\n",
      "i = 43\n",
      "26.3995134171 15.4143936877\n",
      "0.00422070867065\n",
      "i = 44\n",
      "26.5096948719 15.5284419312\n",
      "0.00401152749756\n",
      "i = 45\n",
      "26.6170913749 15.6392312393\n",
      "0.00381673513365\n",
      "i = 46\n",
      "26.7218347309 15.7468778002\n",
      "0.00363410596751\n",
      "i = 47\n",
      "26.8240525619 15.8514983324\n",
      "0.00346306288378\n",
      "i = 48\n",
      "26.9237923642 15.9529631129\n",
      "0.00329493861447\n",
      "i = 49\n",
      "27.0210084691 16.0512043437\n",
      "0.00312653052315\n",
      "i = 50\n",
      "27.1157665362 16.1463774253\n",
      "0.0029672163414\n",
      "i = 51\n",
      "27.2081703914 16.2385856204\n",
      "0.00281762181517\n",
      "i = 52\n",
      "27.2983179425 16.3279292895\n",
      "0.00267710102675\n",
      "i = 53\n",
      "27.386303107 16.4145262155\n",
      "0.00254542230466\n",
      "i = 54\n",
      "27.4722328568 16.4985708962\n",
      "0.00242394714209\n",
      "i = 55\n",
      "27.5561933732 16.5801754277\n",
      "0.00231016677499\n",
      "i = 56\n",
      "27.6382685684 16.6594304359\n",
      "0.00220338928883\n",
      "i = 57\n",
      "27.7185292388 16.7364147171\n",
      "0.00210267706113\n",
      "i = 58\n",
      "27.7969971343 16.8112351915\n",
      "0.00200629024263\n",
      "i = 59\n",
      "27.8737521742 16.8840670512\n",
      "0.00191717331029\n",
      "i = 60\n",
      "27.9488533063 16.9549729913\n",
      "0.00183281545034\n",
      "i = 61\n",
      "28.0223577681 17.0240115672\n",
      "0.00175294325418\n",
      "i = 62\n",
      "28.0943349549 17.0912631752\n",
      "0.00167809016118\n",
      "i = 63\n",
      "28.1648346219 17.1567845548\n",
      "0.00160710940406\n",
      "i = 64\n",
      "28.2339128796 17.2206244364\n",
      "0.00153999950179\n",
      "i = 65\n",
      "28.3016230013 17.282832413\n",
      "0.00147654094206\n",
      "i = 66\n",
      "28.3680526396 17.3434492145\n",
      "0.00141768037263\n",
      "i = 67\n",
      "28.4332358758 17.4024905093\n",
      "0.00136122053497\n",
      "i = 68\n",
      "28.4972111765 17.4600055243\n",
      "0.00130756949037\n",
      "i = 69\n",
      "28.5600145217 17.5160414631\n",
      "0.00125653561651\n",
      "i = 70\n",
      "28.6216799469 17.5706449803\n",
      "0.00120796662882\n",
      "i = 71\n",
      "28.6822395652 17.623860403\n",
      "0.0011617015182\n",
      "i = 72\n",
      "28.741723678 17.675729827\n",
      "0.00111759110251\n",
      "i = 73\n",
      "28.8001613539 17.7262940273\n",
      "0.00107551807933\n",
      "i = 74\n",
      "28.85757031 17.7755846956\n",
      "0.00103501245446\n",
      "i = 75\n",
      "28.9139704781 17.8236344302\n",
      "0.000996102184607\n",
      "i = 76\n",
      "28.9693882596 17.8704803457\n",
      "0.000958958394375\n",
      "i = 77\n",
      "29.0238436747 17.9161553049\n",
      "0.000923316144945\n",
      "i = 78\n",
      "29.0773605385 17.9606904674\n",
      "0.000889222325628\n",
      "i = 79\n",
      "29.1299416031 18.0041126749\n",
      "0.000856042347924\n",
      "i = 80\n",
      "29.1815991931 18.0465450751\n",
      "0.000824679540207\n",
      "i = 81\n",
      "29.2323569168 18.0881633023\n",
      "0.000795707049671\n",
      "i = 82\n",
      "29.282233201 18.1290047854\n",
      "0.000767953708468\n",
      "i = 83\n",
      "29.3312471676 18.1690849682\n",
      "0.000741254217407\n",
      "i = 84\n",
      "29.3794174168 18.2084189717\n",
      "0.00071556546665\n",
      "i = 85\n",
      "29.4267620439 18.2470216009\n",
      "0.000690846196515\n",
      "i = 86\n",
      "29.4732986554 18.2849073512\n",
      "0.000667056918159\n",
      "i = 87\n",
      "29.5190443851 18.3220904147\n",
      "0.000644159837323\n",
      "i = 88\n",
      "29.5640159085 18.3585846872\n",
      "0.000622118781068\n",
      "i = 89\n",
      "29.6082294583 18.3944037737\n",
      "0.000600899127402\n",
      "i = 90\n",
      "29.6516998411 18.4295591181\n",
      "0.000580434853308\n",
      "i = 91\n",
      "29.6944377402 18.4640548865\n",
      "0.00056057567718\n",
      "i = 92\n",
      "29.7364585872 18.4979024167\n",
      "0.000541450895803\n",
      "i = 93\n",
      "29.7777775837 18.5311112848\n",
      "0.000523026589178\n",
      "i = 94\n",
      "29.8184091411 18.5636943257\n",
      "0.000505285061823\n",
      "i = 95\n",
      "29.8583672972 18.5956640991\n",
      "0.000488198838424\n",
      "i = 96\n",
      "29.8976663941 18.6270321551\n",
      "0.000471751200897\n",
      "i = 97\n",
      "29.936320288 18.6578106682\n",
      "0.000455918299743\n",
      "i = 98\n",
      "29.9743432241 18.6880123371\n",
      "0.000440693395689\n",
      "i = 99\n",
      "30.0117477911 18.717648683\n",
      "0.000426022338374\n",
      "i = 100\n",
      "30.04854626 18.7467309811\n",
      "0.000411883191798\n",
      "i = 101\n",
      "30.0847731098 18.7753475424\n",
      "0.000399021250335\n",
      "i = 102\n",
      "30.120442409 18.80351618\n",
      "0.000386699115969\n",
      "i = 103\n",
      "30.1555645825 18.8312443894\n",
      "0.00037479037587\n",
      "i = 104\n",
      "30.1901498101 18.8585395317\n",
      "0.00036327990312\n",
      "i = 105\n",
      "30.224208033 18.8854088363\n",
      "0.000352153170628\n",
      "i = 106\n",
      "30.2577491161 18.9118592768\n",
      "0.000341398342266\n",
      "i = 107\n",
      "30.2907831693 18.9378973149\n",
      "0.000331008256092\n",
      "i = 108\n",
      "30.3233208823 18.9635321603\n",
      "0.000320994345439\n",
      "i = 109\n",
      "30.3553722697 18.9887745459\n",
      "0.000311341765017\n",
      "i = 110\n",
      "30.3869460458 19.013630997\n",
      "0.000302003700854\n",
      "i = 111\n",
      "30.4180513 19.0381080002\n",
      "0.000292978310939\n",
      "i = 112\n",
      "30.4486683879 19.0621188663\n",
      "0.0002834593188\n",
      "i = 113\n",
      "30.4787730204 19.0855754649\n",
      "0.000273405447597\n",
      "i = 114\n",
      "30.508375348 19.1084909278\n",
      "0.000263739544411\n",
      "i = 115\n",
      "30.5374852108 19.1308780095\n",
      "0.000254444239291\n",
      "i = 116\n",
      "30.5661123311 19.1527492367\n",
      "0.000245506169638\n",
      "i = 117\n",
      "30.594266188 19.1741168163\n",
      "0.000236910273701\n",
      "i = 118\n",
      "30.6219560249 19.194992645\n",
      "0.000228642184721\n",
      "i = 119\n",
      "30.6491764025 19.2153680123\n",
      "0.000220424220689\n",
      "i = 120\n",
      "30.6759198753 19.2352311885\n",
      "0.000212225833294\n",
      "i = 121\n",
      "30.7021958512 19.2545941047\n",
      "0.000204350762555\n",
      "i = 122\n",
      "30.7280139423 19.2734692315\n",
      "0.000196793425811\n",
      "i = 123\n",
      "30.7533835262 19.2918687397\n",
      "0.000189540065085\n",
      "i = 124\n",
      "30.7783139168 19.3098048399\n",
      "0.000182580526906\n",
      "i = 125\n",
      "30.8028140005 19.3272890363\n",
      "0.000175898432685\n",
      "i = 126\n",
      "30.826884746 19.3443117027\n",
      "0.000169333853707\n",
      "i = 127\n",
      "30.850531004 19.3608738776\n",
      "0.000162961558675\n",
      "i = 128\n",
      "30.8737405022 19.3769965908\n",
      "0.000156624007146\n",
      "i = 129\n",
      "30.8965138971 19.3926948208\n",
      "0.000150460247471\n",
      "i = 130\n",
      "30.9188604829 19.4079794489\n",
      "0.000144555475287\n",
      "i = 131\n",
      "30.9407893162 19.4228610689\n",
      "0.000138898002742\n",
      "i = 132\n",
      "30.962309223 19.4373499952\n",
      "0.000133476709934\n",
      "i = 133\n",
      "30.9834288068 19.4514562704\n",
      "0.000128281015253\n",
      "i = 134\n",
      "31.0041564549 19.4651896734\n",
      "0.000123300847388\n",
      "i = 135\n",
      "31.0244999886 19.4785644323\n",
      "0.000118532196843\n",
      "i = 136\n",
      "31.0444672656 19.491591087\n",
      "0.000113961187039\n",
      "i = 137\n",
      "31.0640660685 19.5042782943\n",
      "0.000109577163517\n",
      "i = 138\n",
      "31.0833039908 19.5166344907\n",
      "0.000105371967364\n",
      "i = 139\n",
      "31.1021884421 19.5286678991\n",
      "0.000101337820876\n",
      "i = 140\n",
      "31.1021884421 19.5286678991\n",
      "0.0\n"
     ]
    }
   ],
   "source": [
    "m_LM,inc_est,dec_est,phi,imax,pest,incs,decs = fc.levenberg_marquardt_NNLS(\n",
    "    data_obs,reg_grid['x'],reg_grid['y'],reg_grid['z'],xs,ys,zs,inc_gf,dec_gf,\n",
    "    -10.,-10.,lamb,dlamb,i_pos,it_max,it_marq,eps_e,eps_i,mu_LM)"
   ]
  },
  {
   "cell_type": "markdown",
   "metadata": {},
   "source": [
    "### Visualization of the convergence"
   ]
  },
  {
   "cell_type": "code",
   "execution_count": 29,
   "metadata": {},
   "outputs": [],
   "source": [
    "phi = (np.array(phi)/reg_grid['x'].size)"
   ]
  },
  {
   "cell_type": "code",
   "execution_count": 30,
   "metadata": {},
   "outputs": [
    {
     "data": {
      "text/plain": [
       "<matplotlib.figure.Figure at 0x7f33336a3dd0>"
      ]
     },
     "metadata": {},
     "output_type": "display_data"
    },
    {
     "data": {
      "image/png": "[encoded data removed]",
      "text/plain": [
       "<matplotlib.figure.Figure at 0x7f33336a3d90>"
      ]
     },
     "metadata": {},
     "output_type": "display_data"
    }
   ],
   "source": [
    "title_font = 20\n",
    "bottom_font = 18\n",
    "saturation_factor = 1.\n",
    "plt.close('all')\n",
    "plt.figure(figsize=(9,9), tight_layout=True)\n",
    "\n",
    "plt.figure(figsize=(10, 10))\n",
    "plt.plot(phi, 'b--')\n",
    "plt.plot(phi, 'b.')\n",
    "\n",
    "plt.title('Convergence analysis', fontsize=title_font)\n",
    "plt.xlabel('iteration', fontsize = title_font)\n",
    "plt.ylabel('$\\phi$', fontsize = title_font)\n",
    "plt.tick_params(axis='both', which='major', labelsize=15)\n",
    "\n",
    "file_name = 'figs/instability/reg/convergence_LM_NNLS_magRM_seed= %.1f' % seed\n",
    "plt.savefig(file_name+'.png',dpi=300)\n",
    "saved_files.append(file_name+'.png')\n",
    "\n",
    "plt.savefig(file_name+'.eps',dpi=300)\n",
    "saved_files.append(file_name+'.eps')\n",
    "\n",
    "\n",
    "plt.show()"
   ]
  },
  {
   "cell_type": "markdown",
   "metadata": {},
   "source": [
    "### Estimated magnetization direction"
   ]
  },
  {
   "cell_type": "code",
   "execution_count": 31,
   "metadata": {},
   "outputs": [
    {
     "name": "stdout",
     "output_type": "stream",
     "text": [
      "(31.102188442071412, 19.528667899136178)\n"
     ]
    }
   ],
   "source": [
    "print (inc_est,dec_est)"
   ]
  },
  {
   "cell_type": "code",
   "execution_count": 32,
   "metadata": {},
   "outputs": [
    {
     "name": "stdout",
     "output_type": "stream",
     "text": [
      "(30.0, 20.0)\n"
     ]
    }
   ],
   "source": [
    "print (inc_R,dec_R)"
   ]
  },
  {
   "cell_type": "markdown",
   "metadata": {},
   "source": [
    "### Comparison between observed data and predicted data"
   ]
  },
  {
   "cell_type": "code",
   "execution_count": 33,
   "metadata": {},
   "outputs": [],
   "source": [
    "pred = fc.tfa_layer(reg_grid['x'],reg_grid['y'],reg_grid['z'],\n",
    "                    xs,ys,zs,inc_gf,dec_gf,m_LM,inc_est,dec_est)"
   ]
  },
  {
   "cell_type": "code",
   "execution_count": 34,
   "metadata": {},
   "outputs": [],
   "source": [
    "res = pred - data_obs"
   ]
  },
  {
   "cell_type": "code",
   "execution_count": 35,
   "metadata": {},
   "outputs": [],
   "source": [
    "r_norm,r_mean,r_std = fc.residual(data_obs,pred)"
   ]
  },
  {
   "cell_type": "code",
   "execution_count": 36,
   "metadata": {},
   "outputs": [
    {
     "name": "stderr",
     "output_type": "stream",
     "text": [
      "/home/andrelreis/anaconda2/lib/python2.7/site-packages/matplotlib/figure.py:1744: UserWarning: This figure includes Axes that are not compatible with tight_layout, so its results might be incorrect.\n",
      "  warnings.warn(\"This figure includes Axes that are not \"\n"
     ]
    },
    {
     "data": {
      "image/png": "[encoded data removed]",
      "text/plain": [
       "<matplotlib.figure.Figure at 0x7f333352f3d0>"
      ]
     },
     "metadata": {},
     "output_type": "display_data"
    }
   ],
   "source": [
    "title_font = 18\n",
    "bottom_font = 15\n",
    "saturation_factor = 1.\n",
    "plt.close('all')\n",
    "plt.figure(figsize=(15,15), tight_layout=True)\n",
    "\n",
    "ranges = saturation_factor*np.abs([data_obs.max(), \n",
    "                                   data_obs.min(),\n",
    "                                   pred.max(), pred.min()]).max()\n",
    "res_ranges = np.max(np.abs(res))\n",
    "\n",
    "plt.subplot(2,2,1)\n",
    "plt.contourf(reg_grid['y'].reshape(reg_grid['shape']),\n",
    "             reg_grid['x'].reshape(reg_grid['shape']), \n",
    "             data_obs.reshape(reg_grid['shape']),\n",
    "             20, cmap='viridis',vmin=-ranges, vmax=ranges)\n",
    "plt.colorbar(pad=0.01, aspect=40, shrink=1.0).set_label('nT',size=bottom_font)\n",
    "plt.xlabel('y (m)', fontsize = title_font)\n",
    "plt.ylabel('x (m)', fontsize = title_font)\n",
    "plt.title('(a) TFA (model_RM)',fontsize=title_font)\n",
    "plt.tick_params(axis='both', which='major', labelsize=12)\n",
    "\n",
    "plt.subplot(2,2,2)\n",
    "plt.contourf(reg_grid['y'].reshape(reg_grid['shape']),\n",
    "             reg_grid['x'].reshape(reg_grid['shape']),\n",
    "             pred.reshape(reg_grid['shape']),\n",
    "             20, cmap='viridis',  vmin=-ranges, vmax=ranges)\n",
    "plt.colorbar(pad=0.01, aspect=40, shrink=1.0).set_label('nT',size=bottom_font)\n",
    "plt.xlabel('y (m)', fontsize = title_font)\n",
    "plt.ylabel('x (m)', fontsize = title_font)\n",
    "plt.title('(b) TFA (Layer)', fontsize=title_font)\n",
    "plt.tick_params(axis='both', which='major', labelsize=12)\n",
    "\n",
    "plt.subplot(2,2,3)\n",
    "plt.contourf(reg_grid['y'].reshape(reg_grid['shape']),\n",
    "             reg_grid['x'].reshape(reg_grid['shape']),\n",
    "             res.reshape(reg_grid['shape']), \n",
    "             20, cmap='viridis',  vmin=-res_ranges, vmax=res_ranges)\n",
    "plt.colorbar(pad=0.01, aspect=40, shrink=1.0).set_label('nT',size=bottom_font)\n",
    "plt.xlabel('y (m)', fontsize = title_font)\n",
    "plt.ylabel('x (m)', fontsize = title_font)\n",
    "plt.title('(c) Residual map', fontsize=title_font)\n",
    "plt.tick_params(axis='both', which='major', labelsize=12)\n",
    "\n",
    "\n",
    "plt.subplot(2,2,4)\n",
    "plt.xlabel('$\\mu$ = %.3f | $\\sigma$ = %.3f nT' % (r_mean, r_std),\n",
    "           fontsize = bottom_font)\n",
    "nbins = int((np.max(r_norm - np.min(r_norm))))\n",
    "plt.hist(r_norm,bins=nbins,normed=True)\n",
    "plt.ylim(0.,1.)\n",
    "plt.xlim(-10., 10.)\n",
    "plt.title('(d) Normalized Histogram',fontsize=title_font)\n",
    "plt.tick_params(axis='both', which='major', labelsize=12)\n",
    "\n",
    "file_name = 'figs/instability/reg/data_fitting_LM_NNLS_magRM_seed= %.1f' % seed\n",
    "plt.savefig(file_name+'.png',dpi=300)\n",
    "saved_files.append(file_name+'.png')\n",
    "\n",
    "plt.savefig(file_name+'.eps',dpi=300)\n",
    "saved_files.append(file_name+'.eps')\n",
    "\n",
    "\n",
    "plt.show()"
   ]
  },
  {
   "cell_type": "markdown",
   "metadata": {},
   "source": [
    "### Estimated magnetic moment within the layer"
   ]
  },
  {
   "cell_type": "code",
   "execution_count": 37,
   "metadata": {},
   "outputs": [
    {
     "data": {
      "image/png": "[encoded data removed]",
      "text/plain": [
       "<matplotlib.figure.Figure at 0x7f3333520e50>"
      ]
     },
     "metadata": {},
     "output_type": "display_data"
    }
   ],
   "source": [
    "title_font = 20\n",
    "bottom_font = 18\n",
    "saturation_factor = 1.\n",
    "plt.close('all')\n",
    "plt.figure(figsize=(9,9), tight_layout=True)\n",
    "\n",
    "plt.contourf(ys.reshape(shape_layer),xs.reshape(shape_layer), \n",
    "             m_LM.reshape(shape_layer), 20, cmap='viridis')\n",
    "plt.colorbar(pad=0.01, aspect=40, shrink=1.0).set_label('$A.m^2$',size=bottom_font)\n",
    "plt.xlabel('y (m)', fontsize = title_font)\n",
    "plt.ylabel('x (m)', fontsize = title_font)\n",
    "plt.title('Magnetic moment (layer)', fontsize=title_font)\n",
    "\n",
    "file_name = 'figs/instability/reg/magnetic_moment_positive_LM_NNLS_magRM_seed= %.1f' % seed\n",
    "plt.savefig(file_name+'.png',dpi=300)\n",
    "saved_files.append(file_name+'.png')\n",
    "\n",
    "plt.savefig(file_name+'.eps',dpi=300)\n",
    "saved_files.append(file_name+'.eps')\n",
    "\n",
    "\n",
    "plt.show()"
   ]
  },
  {
   "cell_type": "markdown",
   "metadata": {},
   "source": [
    "### Results"
   ]
  },
  {
   "cell_type": "markdown",
   "metadata": {},
   "source": [
    "#### Generating .pickle file"
   ]
  },
  {
   "cell_type": "code",
   "execution_count": 38,
   "metadata": {},
   "outputs": [],
   "source": [
    "#now = datetime.datetime.utcnow().strftime('%d %B %Y %H:%M:%S UTC')\n",
    "#data_set['metadata'] = 'Generated by {name} on {date}'.format(date=now, name=notebook_name)"
   ]
  },
  {
   "cell_type": "code",
   "execution_count": 39,
   "metadata": {},
   "outputs": [],
   "source": [
    "#file_name = 'data/results_IM_reg.pickle'\n",
    "#with open(file_name, 'w') as f:\n",
    "#    pickle.dump(results_RM_reg, f)\n",
    "#    \n",
    "#saved_files.append(file_name)\n"
   ]
  },
  {
   "cell_type": "markdown",
   "metadata": {},
   "source": [
    "### Saved files"
   ]
  },
  {
   "cell_type": "code",
   "execution_count": 40,
   "metadata": {},
   "outputs": [],
   "source": [
    "#with open('reports/report_%s.md' % notebook_name[:st.index(notebook_name, '.')], 'w') as q:\n",
    "#    q.write('# Saved files \\n')\n",
    "#    now = datetime.datetime.utcnow().strftime('%d %B %Y %H:%M:%S UTC')\n",
    "#    header = 'Generated by {name} on {date}'.format(date=now, name=notebook_name)\n",
    "#    q.write('\\n\\n'+header+'\\n\\n')\n",
    "#    for i, sf in enumerate(saved_files):\n",
    "#        print '%d  %s' % (i+1,sf)\n",
    "#        q.write('*  `%s` \\n' % (sf))"
   ]
  },
  {
   "cell_type": "code",
   "execution_count": null,
   "metadata": {},
   "outputs": [],
   "source": []
  },
  {
   "cell_type": "code",
   "execution_count": null,
   "metadata": {},
   "outputs": [],
   "source": []
  }
 ],
 "metadata": {
  "kernelspec": {
   "display_name": "Python 2",
   "language": "python",
   "name": "python2"
  },
  "language_info": {
   "codemirror_mode": {
    "name": "ipython",
    "version": 2
   },
   "file_extension": ".py",
   "mimetype": "text/x-python",
   "name": "python",
   "nbconvert_exporter": "python",
   "pygments_lexer": "ipython2",
   "version": "2.7.14"
  }
 },
 "nbformat": 4,
 "nbformat_minor": 2
}
