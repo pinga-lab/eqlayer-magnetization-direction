{
 "cells": [
  {
   "cell_type": "markdown",
   "metadata": {},
   "source": [
    "# Testing solution stability"
   ]
  },
  {
   "cell_type": "markdown",
   "metadata": {},
   "source": [
    "#### Importing libraries"
   ]
  },
  {
   "cell_type": "code",
   "execution_count": 1,
   "metadata": {},
   "outputs": [],
   "source": [
    "% matplotlib inline "
   ]
  },
  {
   "cell_type": "code",
   "execution_count": 2,
   "metadata": {},
   "outputs": [
    {
     "name": "stderr",
     "output_type": "stream",
     "text": [
      "/home/andrelreis/anaconda2/lib/python2.7/site-packages/fatiando/vis/mpl.py:76: UserWarning: This module will be removed in v0.6. We recommend the use of matplotlib.pyplot module directly. Some of the fatiando specific functions will remain.\n",
      "  \"specific functions will remain.\")\n"
     ]
    }
   ],
   "source": [
    "import sys\n",
    "import numpy as np\n",
    "import matplotlib.pyplot as plt\n",
    "import cPickle as pickle\n",
    "import datetime\n",
    "import timeit\n",
    "from scipy.optimize import nnls\n",
    "from fatiando.gridder import regular\n",
    "from fatiando.utils import ang2vec, vec2ang\n",
    "from fatiando.mesher import Sphere, PointGrid,Prism\n",
    "from fatiando.gravmag import sphere,prism\n",
    "from fatiando.constants import CM, T2NT, G, SI2MGAL"
   ]
  },
  {
   "cell_type": "code",
   "execution_count": 3,
   "metadata": {},
   "outputs": [],
   "source": [
    "notebook_name = 'airborne_EQL_magdir_stability.ipynb'"
   ]
  },
  {
   "cell_type": "markdown",
   "metadata": {},
   "source": [
    "#### Importing auxiliary functions"
   ]
  },
  {
   "cell_type": "code",
   "execution_count": 4,
   "metadata": {},
   "outputs": [],
   "source": [
    "dir_modules = '../../mypackage'\n",
    "sys.path.append(dir_modules)"
   ]
  },
  {
   "cell_type": "code",
   "execution_count": 5,
   "metadata": {},
   "outputs": [],
   "source": [
    "import auxiliary_functions as fc"
   ]
  },
  {
   "cell_type": "markdown",
   "metadata": {},
   "source": [
    "#### Loading properties of the model"
   ]
  },
  {
   "cell_type": "code",
   "execution_count": 6,
   "metadata": {},
   "outputs": [],
   "source": [
    "with open('data/model_sphere.pickle') as f:\n",
    "        model_sphere = pickle.load(f)"
   ]
  },
  {
   "cell_type": "markdown",
   "metadata": {},
   "source": [
    "#### Loading properties grid"
   ]
  },
  {
   "cell_type": "code",
   "execution_count": 7,
   "metadata": {},
   "outputs": [],
   "source": [
    "with open('data/airborne_survey.pickle') as f:\n",
    "        airborne = pickle.load(f)"
   ]
  },
  {
   "cell_type": "markdown",
   "metadata": {},
   "source": [
    "### Saving files"
   ]
  },
  {
   "cell_type": "code",
   "execution_count": 8,
   "metadata": {},
   "outputs": [],
   "source": [
    "saved_files = []"
   ]
  },
  {
   "cell_type": "markdown",
   "metadata": {},
   "source": [
    "## Observation area"
   ]
  },
  {
   "cell_type": "code",
   "execution_count": 9,
   "metadata": {},
   "outputs": [
    {
     "name": "stdout",
     "output_type": "stream",
     "text": [
      "Area limits: \n",
      " x_max = 6000.0 m \n",
      " x_min = -6000.0 m \n",
      " y_max = 6000.0 m \n",
      " y_min = -6000.0 m\n"
     ]
    }
   ],
   "source": [
    "print 'Area limits: \\n x_max = %.1f m \\n x_min = %.1f m \\n y_max = %.1f m \\n y_min = %.1f m' % (airborne['area'][1], \n",
    "                                                                                                airborne['area'][0],\n",
    "                                                                                                airborne['area'][3],\n",
    "                                                                                                airborne['area'][2])"
   ]
  },
  {
   "cell_type": "markdown",
   "metadata": {},
   "source": [
    "### airborne survey information"
   ]
  },
  {
   "cell_type": "code",
   "execution_count": 10,
   "metadata": {},
   "outputs": [
    {
     "name": "stdout",
     "output_type": "stream",
     "text": [
      "Shape : (40,20)\n",
      "Number of data: 800.0\n",
      "dx: 307.7 m\n",
      "dy: 631.6 m \n"
     ]
    }
   ],
   "source": [
    "print 'Shape : (%.0f,%.0f)'% airborne['shape'] \n",
    "print 'Number of data: %.1f' % airborne['N']\n",
    "print 'dx: %.1f m' % airborne['dx']\n",
    "print 'dy: %.1f m ' % airborne['dy']"
   ]
  },
  {
   "cell_type": "markdown",
   "metadata": {},
   "source": [
    "## Properties of the model"
   ]
  },
  {
   "cell_type": "markdown",
   "metadata": {},
   "source": [
    "### Main field"
   ]
  },
  {
   "cell_type": "code",
   "execution_count": 11,
   "metadata": {},
   "outputs": [],
   "source": [
    "inc_gf,dec_gf = model_sphere['main_field']"
   ]
  },
  {
   "cell_type": "code",
   "execution_count": 12,
   "metadata": {},
   "outputs": [
    {
     "name": "stdout",
     "output_type": "stream",
     "text": [
      "Main field inclination: 40.0 degree\n",
      "Main field declination: 45.0 degree\n"
     ]
    }
   ],
   "source": [
    "print'Main field inclination: %.1f degree' % inc_gf\n",
    "print'Main field declination: %.1f degree' % dec_gf"
   ]
  },
  {
   "cell_type": "markdown",
   "metadata": {},
   "source": [
    "### Magnetization direction"
   ]
  },
  {
   "cell_type": "code",
   "execution_count": 13,
   "metadata": {},
   "outputs": [
    {
     "name": "stdout",
     "output_type": "stream",
     "text": [
      "Intensity: 3.0 A/m\n",
      "Inclination: 30.0 degree\n",
      "Declination: 20.0 degree\n"
     ]
    }
   ],
   "source": [
    "print 'Intensity: %.1f A/m' % model_sphere['m_R']\n",
    "print 'Inclination: %.1f degree' % model_sphere['inc_R']\n",
    "print 'Declination: %.1f degree' % model_sphere['dec_R']"
   ]
  },
  {
   "cell_type": "code",
   "execution_count": 14,
   "metadata": {},
   "outputs": [],
   "source": [
    "inc_R,dec_R = model_sphere['inc_R'],model_sphere['dec_R']"
   ]
  },
  {
   "cell_type": "markdown",
   "metadata": {},
   "source": [
    "### Generating data"
   ]
  },
  {
   "cell_type": "code",
   "execution_count": 15,
   "metadata": {},
   "outputs": [],
   "source": [
    "data = sphere.tf(airborne['x'],airborne['y'],airborne['z'],\n",
    "                 model_sphere['model_R'],inc_gf,dec_gf)"
   ]
  },
  {
   "cell_type": "code",
   "execution_count": 16,
   "metadata": {},
   "outputs": [],
   "source": [
    "seed = 10"
   ]
  },
  {
   "cell_type": "code",
   "execution_count": 17,
   "metadata": {},
   "outputs": [],
   "source": [
    "np.random.seed(seed=seed)"
   ]
  },
  {
   "cell_type": "code",
   "execution_count": 18,
   "metadata": {},
   "outputs": [],
   "source": [
    "std_noise = 7.\n",
    "r = np.random.normal(0.0,std_noise, airborne['Nx']*airborne['Ny'])\n",
    "data_obs =  data + r"
   ]
  },
  {
   "cell_type": "markdown",
   "metadata": {},
   "source": [
    "## Generating the layer with my function "
   ]
  },
  {
   "cell_type": "code",
   "execution_count": 19,
   "metadata": {},
   "outputs": [],
   "source": [
    "h = 620."
   ]
  },
  {
   "cell_type": "markdown",
   "metadata": {},
   "source": [
    "#### Generating a layer"
   ]
  },
  {
   "cell_type": "code",
   "execution_count": 20,
   "metadata": {},
   "outputs": [],
   "source": [
    "shape_layer = (airborne['shape'][0],airborne['shape'][1])"
   ]
  },
  {
   "cell_type": "code",
   "execution_count": 21,
   "metadata": {},
   "outputs": [],
   "source": [
    "xs,ys,zs = regular(airborne['area'],shape_layer,h)"
   ]
  },
  {
   "cell_type": "markdown",
   "metadata": {},
   "source": [
    "### Levenberg-Marquardt with NNLS for positive magnetic moments"
   ]
  },
  {
   "cell_type": "code",
   "execution_count": 22,
   "metadata": {},
   "outputs": [],
   "source": [
    "i_pos = 1500"
   ]
  },
  {
   "cell_type": "code",
   "execution_count": 23,
   "metadata": {},
   "outputs": [],
   "source": [
    "it_max = 30"
   ]
  },
  {
   "cell_type": "code",
   "execution_count": 24,
   "metadata": {},
   "outputs": [],
   "source": [
    "it_marq = 15"
   ]
  },
  {
   "cell_type": "code",
   "execution_count": 25,
   "metadata": {},
   "outputs": [],
   "source": [
    "lamb = 10.\n",
    "dlamb = 100."
   ]
  },
  {
   "cell_type": "code",
   "execution_count": 26,
   "metadata": {},
   "outputs": [],
   "source": [
    "eps_e = 1e-4\n",
    "eps_i = 1e-4"
   ]
  },
  {
   "cell_type": "code",
   "execution_count": 27,
   "metadata": {},
   "outputs": [],
   "source": [
    "mu_pos = 1e5"
   ]
  },
  {
   "cell_type": "code",
   "execution_count": 28,
   "metadata": {},
   "outputs": [
    {
     "name": "stdout",
     "output_type": "stream",
     "text": [
      "i = 0\n",
      "1.47137844835e-13\n",
      "-2.30299631072 -3.42123932947\n",
      "0.259103122569\n",
      "i = 1\n",
      "1.5099276691e-13\n",
      "4.27464232265 -0.356661995526\n",
      "0.502059427449\n",
      "i = 2\n",
      "1.54466355815e-13\n",
      "7.85339555447 1.07768814633\n",
      "0.345011580421\n",
      "i = 3\n",
      "1.57546783058e-13\n",
      "10.3139452507 2.19744511906\n",
      "0.232182089599\n",
      "i = 4\n",
      "1.60355108313e-13\n",
      "12.1895278187 3.15444167892\n",
      "0.172414540446\n",
      "i = 5\n",
      "1.62860975062e-13\n",
      "13.7017562437 4.01434130423\n",
      "0.136806045609\n",
      "i = 6\n",
      "1.65105581088e-13\n",
      "14.9591814985 4.78953095544\n",
      "0.111516768301\n",
      "i = 7\n",
      "1.67108614277e-13\n",
      "16.0259263279 5.47561283486\n",
      "0.0913623099477\n",
      "i = 8\n",
      "1.68886389224e-13\n",
      "16.9573084595 6.10706168179\n",
      "0.078255572665\n",
      "i = 9\n",
      "1.70499379842e-13\n",
      "17.7831069995 6.70596402335\n",
      "0.0687913014252\n",
      "i = 10\n",
      "1.71980351164e-13\n",
      "18.5201396188 7.27101208767\n",
      "0.0604876858571\n",
      "i = 11\n",
      "1.73338004321e-13\n",
      "19.1826790989 7.80380442804\n",
      "0.0533650748318\n",
      "i = 12\n",
      "1.74584421085e-13\n",
      "19.7821313125 8.30772442362\n",
      "0.0473046517806\n",
      "i = 13\n",
      "1.75731831806e-13\n",
      "20.3274657175 8.78489831675\n",
      "0.0420576812843\n",
      "i = 14\n",
      "1.76790401609e-13\n",
      "20.8260455491 9.23765178995\n",
      "0.0375206543776\n",
      "i = 15\n",
      "1.77769447682e-13\n",
      "21.2837998471 9.66996933475\n",
      "0.0336498003509\n",
      "i = 16\n",
      "1.78677725118e-13\n",
      "21.7062120221 10.0828964693\n",
      "0.0303023595275\n",
      "i = 17\n",
      "1.79522751111e-13\n",
      "22.0972995166 10.4770144583\n",
      "0.0273171264153\n",
      "i = 18\n",
      "1.80310110969e-13\n",
      "22.4609951854 10.8534940887\n",
      "0.0247200983458\n",
      "i = 19\n",
      "1.81045904121e-13\n",
      "22.8001133547 11.213343351\n",
      "0.0224003355273\n",
      "i = 20\n",
      "1.8173461462e-13\n",
      "23.1169502296 11.5569626006\n",
      "0.0202905981315\n",
      "i = 21\n",
      "1.82379864441e-13\n",
      "23.413395505 11.8855751647\n",
      "0.0183906036992\n",
      "i = 22\n",
      "1.82984993939e-13\n",
      "23.6912550561 12.2004303189\n",
      "0.0166967515234\n",
      "i = 23\n",
      "1.83553284513e-13\n",
      "23.9522056446 12.5021384964\n",
      "0.0151731067551\n",
      "i = 24\n",
      "1.84087682862e-13\n",
      "24.1977127258 12.7914682565\n",
      "0.0138065633862\n",
      "i = 25\n",
      "1.84590878671e-13\n",
      "24.4291600444 13.0689541082\n",
      "0.0125796248685\n",
      "i = 26\n",
      "1.85065406282e-13\n",
      "24.6477630425 13.3351579499\n",
      "0.0114775799055\n",
      "i = 27\n",
      "1.85513551845e-13\n",
      "24.8546240865 13.5910179964\n",
      "0.010500781371\n",
      "i = 28\n",
      "1.85937510356e-13\n",
      "25.0506691282 13.8371775809\n",
      "0.00962329456805\n",
      "i = 29\n",
      "1.86339104749e-13\n",
      "25.2367065863 14.0740822262\n",
      "0.00882804676264\n",
      "i = 30\n",
      "1.8671991643e-13\n",
      "25.4133744535 14.3021100065\n",
      "0.00810027580643\n",
      "i = 31\n",
      "1.87081217197e-13\n",
      "25.581297157 14.5216559799\n",
      "0.00743722943656\n",
      "i = 32\n",
      "1.87424263121e-13\n",
      "25.7410936474 14.7331303369\n",
      "0.00683626470712\n",
      "i = 33\n",
      "1.8775030625e-13\n",
      "25.893307907 14.9369086734\n",
      "0.00628977157991\n",
      "i = 34\n",
      "1.88060458161e-13\n",
      "26.0384445504 15.1333453717\n",
      "0.00579272512502\n",
      "i = 35\n",
      "1.88355755426e-13\n",
      "26.1769492924 15.3229554939\n",
      "0.00534378193085\n",
      "i = 36\n",
      "1.88637149295e-13\n",
      "26.30939555 15.5067175738\n",
      "0.00495634014322\n",
      "i = 37\n",
      "1.88905882051e-13\n",
      "26.4360868547 15.6847117215\n",
      "0.0045950387737\n",
      "i = 38\n",
      "1.89162564764e-13\n",
      "26.5574787544 15.8574560573\n",
      "0.0042744730285\n",
      "i = 39\n",
      "1.8940814627e-13\n",
      "26.6739245413 16.025272781\n",
      "0.00398410345454\n",
      "i = 40\n",
      "1.89643357154e-13\n",
      "26.7856926964 16.1883237601\n",
      "0.00371585398988\n",
      "i = 41\n",
      "1.89868750369e-13\n",
      "26.8930303317 16.3467586478\n",
      "0.00346762301672\n",
      "i = 42\n",
      "1.90084837754e-13\n",
      "26.9961746052 16.5007327926\n",
      "0.00323822169342\n",
      "i = 43\n",
      "1.90292112807e-13\n",
      "27.0954363093 16.6504402836\n",
      "0.00302998121232\n",
      "i = 44\n",
      "1.90491208976e-13\n",
      "27.1910137945 16.7960228344\n",
      "0.00283697008319\n",
      "i = 45\n",
      "1.90682544422e-13\n",
      "27.2830869213 16.9376070508\n",
      "0.00265759696866\n",
      "i = 46\n",
      "1.90866500262e-13\n",
      "27.3718191726 17.0753357696\n",
      "0.00249099850853\n",
      "i = 47\n",
      "1.91043427018e-13\n",
      "27.45737377 17.2093547715\n",
      "0.00233659507397\n",
      "i = 48\n",
      "1.91213673209e-13\n",
      "27.5399014175 17.3397869847\n",
      "0.00219305458024\n",
      "i = 49\n",
      "1.91377560553e-13\n",
      "27.6195407857 17.4667330065\n",
      "0.00205916856606\n",
      "i = 50\n",
      "1.91535385314e-13\n",
      "27.6964243415 17.5902996951\n",
      "0.0019344101659\n",
      "i = 51\n",
      "1.91687431311e-13\n",
      "27.7706769477 17.7105907178\n",
      "0.00181809859912\n",
      "i = 52\n",
      "1.91833966557e-13\n",
      "27.8425741567 17.8279659901\n",
      "0.00171713385558\n",
      "i = 53\n",
      "1.91975554659e-13\n",
      "27.9122436774 17.942556188\n",
      "0.00162384056438\n",
      "i = 54\n",
      "1.92112465397e-13\n",
      "27.9797793614 18.0544374031\n",
      "0.00153631056086\n",
      "i = 55\n",
      "1.92244900731e-13\n",
      "28.0452831333 18.163659768\n",
      "0.00145412417192\n",
      "i = 56\n",
      "1.9237307601e-13\n",
      "28.1088456854 18.2702749388\n",
      "0.00137681822569\n",
      "i = 57\n",
      "1.924971849e-13\n",
      "28.1705405497 18.3743503231\n",
      "0.00130400469845\n",
      "i = 58\n",
      "1.92617388431e-13\n",
      "28.2304381767 18.475955603\n",
      "0.00123545823072\n",
      "i = 59\n",
      "1.92733840921e-13\n",
      "28.2885700103 18.5750583255\n",
      "0.00116899952687\n",
      "i = 60\n",
      "1.92846619335e-13\n",
      "28.3449656774 18.6716722055\n",
      "0.00110512740868\n",
      "i = 61\n",
      "1.92955798296e-13\n",
      "28.399705619 18.7658803136\n",
      "0.00104550222648\n",
      "i = 62\n",
      "1.93061549745e-13\n",
      "28.4528650451 18.8578004067\n",
      "0.00099021321213\n",
      "i = 63\n",
      "1.93164035063e-13\n",
      "28.504501324 18.9474945701\n",
      "0.000938120048345\n",
      "i = 64\n",
      "1.93263379629e-13\n",
      "28.554668713 19.0350272016\n",
      "0.000889056890736\n",
      "i = 65\n",
      "1.93359702077e-13\n",
      "28.6034190083 19.1204603509\n",
      "0.000842827534665\n",
      "i = 66\n",
      "1.93453115495e-13\n",
      "28.6507945929 19.2038434656\n",
      "0.000799022105972\n",
      "i = 67\n",
      "1.93543714191e-13\n",
      "28.6968415856 19.285232369\n",
      "0.000757673739625\n",
      "i = 68\n",
      "1.93631598917e-13\n",
      "28.741605721 19.3646833034\n",
      "0.000718679002686\n",
      "i = 69\n",
      "1.93716868982e-13\n",
      "28.7851317092 19.4422442501\n",
      "0.000681842096046\n",
      "i = 70\n",
      "1.93799621109e-13\n",
      "28.8274614223 19.5179675423\n",
      "0.000647073909714\n",
      "i = 71\n",
      "1.93879945962e-13\n",
      "28.8686348956 19.5919040389\n",
      "0.00061424805485\n",
      "i = 72\n",
      "1.93957930082e-13\n",
      "28.9086904761 19.6641028519\n",
      "0.000583244356768\n",
      "i = 73\n",
      "1.94033656208e-13\n",
      "28.9476649111 19.7346114214\n",
      "0.000553950882251\n",
      "i = 74\n",
      "1.94107203479e-13\n",
      "28.9855733261 19.80337712\n",
      "0.000525195964881\n",
      "i = 75\n",
      "1.94178611026e-13\n",
      "29.0224044892 19.8702374388\n",
      "0.000495789863233\n",
      "i = 76\n",
      "1.94247870159e-13\n",
      "29.0581943611 19.9352569059\n",
      "0.000468185898149\n",
      "i = 77\n",
      "1.94315058397e-13\n",
      "29.0929794647 19.9984964521\n",
      "0.000442280043997\n",
      "i = 78\n",
      "1.94380253711e-13\n",
      "29.1267949334 20.060008321\n",
      "0.000417913658331\n",
      "i = 79\n",
      "1.94443530987e-13\n",
      "29.1596731585 20.1198466056\n",
      "0.000394999676952\n",
      "i = 80\n",
      "1.94504959213e-13\n",
      "29.1916455217 20.178059143\n",
      "0.000373417999723\n",
      "i = 81\n",
      "1.94564605074e-13\n",
      "29.222741667 20.2346960266\n",
      "0.000353106272533\n",
      "i = 82\n",
      "1.94622531334e-13\n",
      "29.2529899812 20.289806085\n",
      "0.000333986293622\n",
      "i = 83\n",
      "1.94678797882e-13\n",
      "29.2824031802 20.3434153405\n",
      "0.000315704381109\n",
      "i = 84\n",
      "1.94733434823e-13\n",
      "29.3110042449 20.3955643637\n",
      "0.000298422731894\n",
      "i = 85\n",
      "1.9478649112e-13\n",
      "29.3388192999 20.4462980466\n",
      "0.000282154557326\n",
      "i = 86\n",
      "1.94838021216e-13\n",
      "29.3658734291 20.4956596419\n",
      "0.000266835280882\n",
      "i = 87\n",
      "1.94888077219e-13\n",
      "29.3921893876 20.5436751455\n",
      "0.000252304244075\n",
      "i = 88\n",
      "1.94936707149e-13\n",
      "29.4177888629 20.5903674823\n",
      "0.000238504312213\n",
      "i = 89\n",
      "1.94983956851e-13\n",
      "29.4426942891 20.6357772383\n",
      "0.000225507902842\n",
      "i = 90\n",
      "1.95029872524e-13\n",
      "29.4669272381 20.679943544\n",
      "0.000213264492918\n",
      "i = 91\n",
      "1.95074498447e-13\n",
      "29.4905039364 20.7228967181\n",
      "0.000201653856657\n",
      "i = 92\n",
      "1.95117868715e-13\n",
      "29.5134351071 20.7646579328\n",
      "0.000190563673271\n",
      "i = 93\n",
      "1.95160007009e-13\n",
      "29.5357407741 20.805263532\n",
      "0.000180118456667\n",
      "i = 94\n",
      "1.9520095396e-13\n",
      "29.5574402109 20.8447485831\n",
      "0.000170277987274\n",
      "i = 95\n",
      "1.95240748554e-13\n",
      "29.5785461663 20.8831386933\n",
      "0.000160926569266\n",
      "i = 96\n",
      "1.95279417443e-13\n",
      "29.5990299063 20.9203906541\n",
      "0.000151460538478\n",
      "i = 97\n",
      "1.95316910802e-13\n",
      "29.6188351992 20.9563738365\n",
      "0.000141366933184\n",
      "i = 98\n",
      "1.95353130803e-13\n",
      "29.6380049807 20.9911288122\n",
      "0.000132071467145\n",
      "i = 99\n",
      "1.95388161665e-13\n",
      "29.6565619832 21.0246994989\n",
      "0.000123411810706\n",
      "i = 100\n",
      "1.95422048054e-13\n",
      "29.6745269367 21.0571338463\n",
      "0.000115357224963\n",
      "i = 101\n",
      "1.95454830234e-13\n",
      "29.6919196262 21.0884698898\n",
      "0.000107833699462\n",
      "i = 102\n",
      "1.95486546989e-13\n",
      "29.7087598379 21.1187453808\n",
      "0.000100813426063\n",
      "i = 103\n",
      "1.955172369e-13\n",
      "29.7087598379 21.1187453808\n",
      "0.0\n"
     ]
    }
   ],
   "source": [
    "m_LM,inc_est,dec_est,phi,imax,pest,incs,decs = fc.levenberg_marquardt_NNLS(\n",
    "    data_obs,airborne['x'],airborne['y'],airborne['z'],xs,ys,zs,inc_gf,dec_gf,\n",
    "    -10.,-10.,lamb,dlamb,i_pos,it_max,it_marq,eps_e,eps_i,mu_pos)"
   ]
  },
  {
   "cell_type": "markdown",
   "metadata": {},
   "source": [
    "### Visualization of the convergence"
   ]
  },
  {
   "cell_type": "code",
   "execution_count": 29,
   "metadata": {},
   "outputs": [],
   "source": [
    "phi = (np.array(phi)/airborne['x'].size)"
   ]
  },
  {
   "cell_type": "code",
   "execution_count": 30,
   "metadata": {},
   "outputs": [
    {
     "data": {
      "text/plain": [
       "<matplotlib.figure.Figure at 0x7f4109f6ddd0>"
      ]
     },
     "metadata": {},
     "output_type": "display_data"
    },
    {
     "data": {
      "image/png": "[encoded data removed]",
      "text/plain": [
       "<matplotlib.figure.Figure at 0x7f4109f6dd90>"
      ]
     },
     "metadata": {},
     "output_type": "display_data"
    }
   ],
   "source": [
    "title_font = 20\n",
    "bottom_font = 18\n",
    "saturation_factor = 1.\n",
    "plt.close('all')\n",
    "plt.figure(figsize=(9,9), tight_layout=True)\n",
    "\n",
    "plt.figure(figsize=(10, 10))\n",
    "plt.plot(phi, 'b--')\n",
    "plt.plot(phi, 'b.')\n",
    "\n",
    "plt.title('Convergence analysis', fontsize=title_font)\n",
    "plt.xlabel('iteration', fontsize = title_font)\n",
    "plt.ylabel('$\\phi$', fontsize = title_font)\n",
    "plt.tick_params(axis='both', which='major', labelsize=15)\n",
    "\n",
    "file_name = 'figs/airborne/instability/convergence_LM_NNLS_magRM_seed= %.1f' % seed\n",
    "plt.savefig(file_name+'.png',dpi=300)\n",
    "saved_files.append(file_name+'.png')\n",
    "\n",
    "plt.savefig(file_name+'.eps',dpi=300)\n",
    "saved_files.append(file_name+'.eps')\n",
    "\n",
    "\n",
    "plt.show()"
   ]
  },
  {
   "cell_type": "markdown",
   "metadata": {},
   "source": [
    "### Estimated magnetization direction"
   ]
  },
  {
   "cell_type": "code",
   "execution_count": 31,
   "metadata": {},
   "outputs": [
    {
     "name": "stdout",
     "output_type": "stream",
     "text": [
      "(29.70875983794307, 21.118745380848623)\n"
     ]
    }
   ],
   "source": [
    "print (inc_est,dec_est)"
   ]
  },
  {
   "cell_type": "code",
   "execution_count": 32,
   "metadata": {},
   "outputs": [
    {
     "name": "stdout",
     "output_type": "stream",
     "text": [
      "(30.0, 20.0)\n"
     ]
    }
   ],
   "source": [
    "print (inc_R,dec_R)"
   ]
  },
  {
   "cell_type": "markdown",
   "metadata": {},
   "source": [
    "### Comparison between observed data and predicted data"
   ]
  },
  {
   "cell_type": "code",
   "execution_count": 33,
   "metadata": {},
   "outputs": [],
   "source": [
    "pred = fc.tfa_layer(airborne['x'],airborne['y'],airborne['z'],\n",
    "                    xs,ys,zs,inc_gf,dec_gf,m_LM,inc_est,dec_est)"
   ]
  },
  {
   "cell_type": "code",
   "execution_count": 34,
   "metadata": {},
   "outputs": [],
   "source": [
    "res = pred - data_obs"
   ]
  },
  {
   "cell_type": "code",
   "execution_count": 35,
   "metadata": {},
   "outputs": [],
   "source": [
    "r_norm,r_mean,r_std = fc.residual(data_obs,pred)"
   ]
  },
  {
   "cell_type": "code",
   "execution_count": 36,
   "metadata": {},
   "outputs": [
    {
     "name": "stderr",
     "output_type": "stream",
     "text": [
      "/home/andrelreis/anaconda2/lib/python2.7/site-packages/matplotlib/figure.py:1744: UserWarning: This figure includes Axes that are not compatible with tight_layout, so its results might be incorrect.\n",
      "  warnings.warn(\"This figure includes Axes that are not \"\n"
     ]
    },
    {
     "data": {
      "image/png": "[encoded data removed]",
      "text/plain": [
       "<matplotlib.figure.Figure at 0x7f4109ddf690>"
      ]
     },
     "metadata": {},
     "output_type": "display_data"
    }
   ],
   "source": [
    "title_font = 18\n",
    "bottom_font = 15\n",
    "saturation_factor = 1.\n",
    "plt.close('all')\n",
    "plt.figure(figsize=(15,15), tight_layout=True)\n",
    "\n",
    "ranges = saturation_factor*np.abs([data_obs.max(), \n",
    "                                   data_obs.min(),\n",
    "                                   pred.max(), pred.min()]).max()\n",
    "res_ranges = np.max(np.abs(res))\n",
    "\n",
    "plt.subplot(2,2,1)\n",
    "plt.contourf(airborne['y'].reshape(airborne['shape']),\n",
    "             airborne['x'].reshape(airborne['shape']), \n",
    "             data_obs.reshape(airborne['shape']),\n",
    "             20, cmap='viridis',vmin=-ranges, vmax=ranges)\n",
    "plt.colorbar(pad=0.01, aspect=40, shrink=1.0).set_label('nT',size=bottom_font)\n",
    "plt.xlabel('y (m)', fontsize = title_font)\n",
    "plt.ylabel('x (m)', fontsize = title_font)\n",
    "plt.title('(a) TFA (model_RM)',fontsize=title_font)\n",
    "plt.tick_params(axis='both', which='major', labelsize=12)\n",
    "\n",
    "plt.subplot(2,2,2)\n",
    "plt.contourf(airborne['y'].reshape(airborne['shape']),\n",
    "             airborne['x'].reshape(airborne['shape']),\n",
    "             pred.reshape(airborne['shape']),\n",
    "             20, cmap='viridis',  vmin=-ranges, vmax=ranges)\n",
    "plt.colorbar(pad=0.01, aspect=40, shrink=1.0).set_label('nT',size=bottom_font)\n",
    "plt.xlabel('y (m)', fontsize = title_font)\n",
    "plt.ylabel('x (m)', fontsize = title_font)\n",
    "plt.title('(b) TFA (Layer)', fontsize=title_font)\n",
    "plt.tick_params(axis='both', which='major', labelsize=12)\n",
    "\n",
    "plt.subplot(2,2,3)\n",
    "plt.contourf(airborne['y'].reshape(airborne['shape']),\n",
    "             airborne['x'].reshape(airborne['shape']),\n",
    "             res.reshape(airborne['shape']), \n",
    "             20, cmap='viridis',  vmin=-res_ranges, vmax=res_ranges)\n",
    "plt.colorbar(pad=0.01, aspect=40, shrink=1.0).set_label('nT',size=bottom_font)\n",
    "plt.xlabel('y (m)', fontsize = title_font)\n",
    "plt.ylabel('x (m)', fontsize = title_font)\n",
    "plt.title('(c) Residual map', fontsize=title_font)\n",
    "plt.tick_params(axis='both', which='major', labelsize=12)\n",
    "\n",
    "\n",
    "plt.subplot(2,2,4)\n",
    "plt.xlabel('$\\mu$ = %.3f | $\\sigma$ = %.3f nT' % (r_mean, r_std),\n",
    "           fontsize = bottom_font)\n",
    "nbins = int((np.max(r_norm - np.min(r_norm))))\n",
    "plt.hist(r_norm,bins=nbins,normed=True)\n",
    "plt.ylim(0.,1.)\n",
    "plt.xlim(-10., 10.)\n",
    "plt.title('(d) Normalized Histogram',fontsize=title_font)\n",
    "plt.tick_params(axis='both', which='major', labelsize=12)\n",
    "\n",
    "file_name = 'figs/airborne/instability/data_fitting_LM_NNLS_magRM_seed= %.1f' % seed\n",
    "plt.savefig(file_name+'.png',dpi=300)\n",
    "saved_files.append(file_name+'.png')\n",
    "\n",
    "plt.savefig(file_name+'.eps',dpi=300)\n",
    "saved_files.append(file_name+'.eps')\n",
    "\n",
    "\n",
    "plt.show()"
   ]
  },
  {
   "cell_type": "markdown",
   "metadata": {},
   "source": [
    "### Estimated magnetic moment within the layer"
   ]
  },
  {
   "cell_type": "code",
   "execution_count": 37,
   "metadata": {},
   "outputs": [
    {
     "data": {
      "image/png": "[encoded data removed]",
      "text/plain": [
       "<matplotlib.figure.Figure at 0x7f4109e989d0>"
      ]
     },
     "metadata": {},
     "output_type": "display_data"
    }
   ],
   "source": [
    "title_font = 18\n",
    "bottom_font = 18\n",
    "saturation_factor = 1.\n",
    "plt.close('all')\n",
    "plt.figure(figsize=(9,9), tight_layout=True)\n",
    "\n",
    "plt.contourf(ys.reshape(shape_layer),xs.reshape(shape_layer), \n",
    "             m_LM.reshape(shape_layer), 20, cmap='viridis')\n",
    "plt.colorbar(pad=0.01, aspect=40, shrink=1.0).set_label('$A.m^2$',size=bottom_font)\n",
    "plt.xlabel('y (m)', fontsize = title_font)\n",
    "plt.ylabel('x (m)', fontsize = title_font)\n",
    "plt.title('Magnetic moment (layer)| inc = %.1f/dec = %.1f'% (inc_est,dec_est), fontsize=title_font)\n",
    "\n",
    "file_name = 'figs/airborne/instability/magnetic_moment_positive_LM_NNLS_magRM_seed= %.1f' % seed\n",
    "plt.savefig(file_name+'.png',dpi=300)\n",
    "saved_files.append(file_name+'.png')\n",
    "\n",
    "plt.savefig(file_name+'.eps',dpi=300)\n",
    "saved_files.append(file_name+'.eps')\n",
    "\n",
    "\n",
    "plt.show()"
   ]
  },
  {
   "cell_type": "markdown",
   "metadata": {},
   "source": [
    "### Results"
   ]
  },
  {
   "cell_type": "markdown",
   "metadata": {},
   "source": [
    "#### Generating .pickle file"
   ]
  },
  {
   "cell_type": "code",
   "execution_count": 38,
   "metadata": {},
   "outputs": [],
   "source": [
    "#now = datetime.datetime.utcnow().strftime('%d %B %Y %H:%M:%S UTC')\n",
    "#data_set['metadata'] = 'Generated by {name} on {date}'.format(date=now, name=notebook_name)"
   ]
  },
  {
   "cell_type": "code",
   "execution_count": 39,
   "metadata": {},
   "outputs": [],
   "source": [
    "#file_name = 'data/results_IM_reg.pickle'\n",
    "#with open(file_name, 'w') as f:\n",
    "#    pickle.dump(results_RM_reg, f)\n",
    "#    \n",
    "#saved_files.append(file_name)\n"
   ]
  },
  {
   "cell_type": "markdown",
   "metadata": {},
   "source": [
    "### Saved files"
   ]
  },
  {
   "cell_type": "code",
   "execution_count": 40,
   "metadata": {},
   "outputs": [],
   "source": [
    "#with open('reports/report_%s.md' % notebook_name[:st.index(notebook_name, '.')], 'w') as q:\n",
    "#    q.write('# Saved files \\n')\n",
    "#    now = datetime.datetime.utcnow().strftime('%d %B %Y %H:%M:%S UTC')\n",
    "#    header = 'Generated by {name} on {date}'.format(date=now, name=notebook_name)\n",
    "#    q.write('\\n\\n'+header+'\\n\\n')\n",
    "#    for i, sf in enumerate(saved_files):\n",
    "#        print '%d  %s' % (i+1,sf)\n",
    "#        q.write('*  `%s` \\n' % (sf))"
   ]
  },
  {
   "cell_type": "code",
   "execution_count": null,
   "metadata": {},
   "outputs": [],
   "source": []
  },
  {
   "cell_type": "code",
   "execution_count": null,
   "metadata": {},
   "outputs": [],
   "source": []
  }
 ],
 "metadata": {
  "kernelspec": {
   "display_name": "Python 2",
   "language": "python",
   "name": "python2"
  },
  "language_info": {
   "codemirror_mode": {
    "name": "ipython",
    "version": 2
   },
   "file_extension": ".py",
   "mimetype": "text/x-python",
   "name": "python",
   "nbconvert_exporter": "python",
   "pygments_lexer": "ipython2",
   "version": "2.7.14"
  }
 },
 "nbformat": 4,
 "nbformat_minor": 2
}
