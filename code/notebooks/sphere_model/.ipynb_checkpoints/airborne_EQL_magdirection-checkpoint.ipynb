{
 "cells": [
  {
   "cell_type": "markdown",
   "metadata": {},
   "source": [
    "# Equivalent Layer technique for estimating magnetization direction of a magnetized sphere"
   ]
  },
  {
   "cell_type": "markdown",
   "metadata": {},
   "source": [
    "#### Importing libraries"
   ]
  },
  {
   "cell_type": "code",
   "execution_count": 1,
   "metadata": {},
   "outputs": [],
   "source": [
    "% matplotlib inline "
   ]
  },
  {
   "cell_type": "code",
   "execution_count": 2,
   "metadata": {},
   "outputs": [
    {
     "name": "stderr",
     "output_type": "stream",
     "text": [
      "/home/andrelreis/anaconda2/lib/python2.7/site-packages/fatiando/vis/mpl.py:76: UserWarning: This module will be removed in v0.6. We recommend the use of matplotlib.pyplot module directly. Some of the fatiando specific functions will remain.\n",
      "  \"specific functions will remain.\")\n"
     ]
    }
   ],
   "source": [
    "import sys\n",
    "import numpy as np\n",
    "import matplotlib.pyplot as plt\n",
    "import cPickle as pickle\n",
    "import datetime\n",
    "import timeit\n",
    "from scipy.optimize import nnls\n",
    "from fatiando.gridder import regular\n",
    "from fatiando.utils import ang2vec, vec2ang\n",
    "from fatiando.mesher import Sphere, PointGrid,Prism\n",
    "from fatiando.gravmag import sphere,prism\n",
    "from fatiando.constants import CM, T2NT, G, SI2MGAL"
   ]
  },
  {
   "cell_type": "code",
   "execution_count": 3,
   "metadata": {},
   "outputs": [],
   "source": [
    "notebook_name = 'airborne_EQL_magdirection.ipynb'"
   ]
  },
  {
   "cell_type": "markdown",
   "metadata": {},
   "source": [
    "### Gray background figures"
   ]
  },
  {
   "cell_type": "code",
   "execution_count": 4,
   "metadata": {},
   "outputs": [],
   "source": [
    "plt.style.use('grayscale')"
   ]
  },
  {
   "cell_type": "markdown",
   "metadata": {},
   "source": [
    "#### Importing auxiliary functions"
   ]
  },
  {
   "cell_type": "code",
   "execution_count": 5,
   "metadata": {},
   "outputs": [],
   "source": [
    "dir_modules = '../'\n",
    "sys.path.append(dir_modules)"
   ]
  },
  {
   "cell_type": "code",
   "execution_count": 6,
   "metadata": {},
   "outputs": [],
   "source": [
    "import eql_functions as func"
   ]
  },
  {
   "cell_type": "code",
   "execution_count": 7,
   "metadata": {},
   "outputs": [],
   "source": [
    "import auxiliary_functions as fc"
   ]
  },
  {
   "cell_type": "markdown",
   "metadata": {},
   "source": [
    "#### Loading properties of the model"
   ]
  },
  {
   "cell_type": "code",
   "execution_count": 8,
   "metadata": {},
   "outputs": [],
   "source": [
    "with open('data/model_sphere_remanent.pickle') as f:\n",
    "        model_sphere_remanent = pickle.load(f)"
   ]
  },
  {
   "cell_type": "code",
   "execution_count": 9,
   "metadata": {},
   "outputs": [],
   "source": [
    "with open('data/model_sphere_induced.pickle') as f:\n",
    "        model_sphere_induced = pickle.load(f)"
   ]
  },
  {
   "cell_type": "markdown",
   "metadata": {},
   "source": [
    "#### Loading properties grid"
   ]
  },
  {
   "cell_type": "code",
   "execution_count": 10,
   "metadata": {},
   "outputs": [],
   "source": [
    "with open('data/airborne_survey.pickle') as f:\n",
    "        airborne = pickle.load(f)"
   ]
  },
  {
   "cell_type": "markdown",
   "metadata": {},
   "source": [
    "#### Loading data"
   ]
  },
  {
   "cell_type": "code",
   "execution_count": 11,
   "metadata": {},
   "outputs": [],
   "source": [
    "with open('data/data_set.pickle') as f:\n",
    "        data = pickle.load(f)"
   ]
  },
  {
   "cell_type": "markdown",
   "metadata": {},
   "source": [
    "#### Open a dictionary"
   ]
  },
  {
   "cell_type": "code",
   "execution_count": 12,
   "metadata": {},
   "outputs": [],
   "source": [
    "dir_sphere = dict()"
   ]
  },
  {
   "cell_type": "markdown",
   "metadata": {},
   "source": [
    "### Saving files"
   ]
  },
  {
   "cell_type": "code",
   "execution_count": 13,
   "metadata": {},
   "outputs": [],
   "source": [
    "saved_files = []"
   ]
  },
  {
   "cell_type": "markdown",
   "metadata": {},
   "source": [
    "## Observation area"
   ]
  },
  {
   "cell_type": "code",
   "execution_count": 14,
   "metadata": {},
   "outputs": [
    {
     "name": "stdout",
     "output_type": "stream",
     "text": [
      "Area limits: \n",
      " x_max = 5000.0 m \n",
      " x_min = -5000.0 m \n",
      " y_max = 5000.0 m \n",
      " y_min = -5000.0 m\n"
     ]
    }
   ],
   "source": [
    "print 'Area limits: \\n x_max = %.1f m \\n x_min = %.1f m \\n y_max = %.1f m \\n y_min = %.1f m' % (airborne['area'][1], \n",
    "                                                                                                airborne['area'][0],\n",
    "                                                                                                airborne['area'][3],\n",
    "                                                                                                airborne['area'][2])"
   ]
  },
  {
   "cell_type": "markdown",
   "metadata": {},
   "source": [
    "### Airborne survey information"
   ]
  },
  {
   "cell_type": "code",
   "execution_count": 15,
   "metadata": {},
   "outputs": [
    {
     "name": "stdout",
     "output_type": "stream",
     "text": [
      "Shape : (50,20)\n",
      "Number of data: 1000.0\n",
      "dx: 204.1 m\n",
      "dy: 526.3 m \n"
     ]
    }
   ],
   "source": [
    "print 'Shape : (%.0f,%.0f)'% airborne['shape'] \n",
    "print 'Number of data: %.1f' % airborne['N']\n",
    "print 'dx: %.1f m' % airborne['dx']\n",
    "print 'dy: %.1f m ' % airborne['dy']"
   ]
  },
  {
   "cell_type": "markdown",
   "metadata": {},
   "source": [
    "## Properties of the model"
   ]
  },
  {
   "cell_type": "markdown",
   "metadata": {},
   "source": [
    "### Dimension and coordinate of the center"
   ]
  },
  {
   "cell_type": "code",
   "execution_count": 16,
   "metadata": {},
   "outputs": [
    {
     "name": "stdout",
     "output_type": "stream",
     "text": [
      "Properties Sphere:\n",
      " xc = 0.0 m \n",
      " yc = 0.0 m \n",
      " zc = 2000.0 m \n",
      " radius = 1500.0 m \n"
     ]
    }
   ],
   "source": [
    "print 'Properties Sphere:\\n xc = %.1f m \\n yc = %.1f m \\n zc = %.1f m \\n radius = %.1f m ' %  (model_sphere_remanent['xc'],\n",
    "                                                                                               model_sphere_remanent['yc'],\n",
    "                                                                                               model_sphere_remanent['zc'],\n",
    "                                                                                               model_sphere_remanent['radius'])"
   ]
  },
  {
   "cell_type": "markdown",
   "metadata": {},
   "source": [
    "### Main field"
   ]
  },
  {
   "cell_type": "code",
   "execution_count": 17,
   "metadata": {},
   "outputs": [],
   "source": [
    "inc_gf,dec_gf = model_sphere_remanent['main_field']"
   ]
  },
  {
   "cell_type": "code",
   "execution_count": 18,
   "metadata": {},
   "outputs": [
    {
     "name": "stdout",
     "output_type": "stream",
     "text": [
      "Main field inclination: 40.0 degree\n",
      "Main field declination: 45.0 degree\n"
     ]
    }
   ],
   "source": [
    "print'Main field inclination: %.1f degree' % inc_gf\n",
    "print'Main field declination: %.1f degree' % dec_gf"
   ]
  },
  {
   "cell_type": "markdown",
   "metadata": {},
   "source": [
    "### Magnetization direction"
   ]
  },
  {
   "cell_type": "code",
   "execution_count": 19,
   "metadata": {},
   "outputs": [
    {
     "name": "stdout",
     "output_type": "stream",
     "text": [
      "Intensity: 15.0 A/m\n",
      "Inclination: 40.0 degree\n",
      "Declination: 45.0 degree\n"
     ]
    }
   ],
   "source": [
    "print 'Intensity: %.1f A/m' % model_sphere_induced['m_I']\n",
    "print 'Inclination: %.1f degree' % model_sphere_induced['inc_I']\n",
    "print 'Declination: %.1f degree' % model_sphere_induced['dec_I']"
   ]
  },
  {
   "cell_type": "code",
   "execution_count": 20,
   "metadata": {},
   "outputs": [],
   "source": [
    "inc_I,dec_I = model_sphere_induced['inc_I'],model_sphere_induced['dec_I']"
   ]
  },
  {
   "cell_type": "markdown",
   "metadata": {},
   "source": [
    "## Generating the layer with my function "
   ]
  },
  {
   "cell_type": "code",
   "execution_count": 21,
   "metadata": {},
   "outputs": [],
   "source": [
    "h = 1900."
   ]
  },
  {
   "cell_type": "markdown",
   "metadata": {},
   "source": [
    "#### Generating a layer"
   ]
  },
  {
   "cell_type": "code",
   "execution_count": 22,
   "metadata": {},
   "outputs": [],
   "source": [
    "shape_layer = (50,20)"
   ]
  },
  {
   "cell_type": "code",
   "execution_count": 23,
   "metadata": {},
   "outputs": [],
   "source": [
    "xs,ys,zs = regular(airborne['area'],shape_layer,h)"
   ]
  },
  {
   "cell_type": "markdown",
   "metadata": {},
   "source": [
    "## Non-negative Least Squares Method for estimating a positive layer"
   ]
  },
  {
   "cell_type": "code",
   "execution_count": 24,
   "metadata": {},
   "outputs": [],
   "source": [
    "G = fc.sensitivity_mag(airborne['x'],airborne['y'],airborne['z'],\n",
    "                       xs,ys,zs,inc_gf,dec_gf,inc_I,dec_I)"
   ]
  },
  {
   "cell_type": "code",
   "execution_count": 25,
   "metadata": {},
   "outputs": [],
   "source": [
    "start_time = timeit.default_timer()"
   ]
  },
  {
   "cell_type": "code",
   "execution_count": 26,
   "metadata": {},
   "outputs": [],
   "source": [
    "m_pos,_ = nnls(G,data['tfa_obs_sphere_IM_airb'])"
   ]
  },
  {
   "cell_type": "code",
   "execution_count": 27,
   "metadata": {},
   "outputs": [],
   "source": [
    "elapsed = timeit.default_timer() - start_time"
   ]
  },
  {
   "cell_type": "code",
   "execution_count": 28,
   "metadata": {},
   "outputs": [
    {
     "name": "stdout",
     "output_type": "stream",
     "text": [
      "0.41598200798\n"
     ]
    }
   ],
   "source": [
    "print elapsed"
   ]
  },
  {
   "cell_type": "code",
   "execution_count": 29,
   "metadata": {},
   "outputs": [],
   "source": [
    "tf_pred_pos = fc.tfa_layer(airborne['x'],airborne['y'],airborne['z'],\n",
    "                           xs,ys,zs,inc_gf,dec_gf,m_pos,inc_I,dec_I)"
   ]
  },
  {
   "cell_type": "markdown",
   "metadata": {},
   "source": [
    "### Calculating residual"
   ]
  },
  {
   "cell_type": "code",
   "execution_count": 30,
   "metadata": {},
   "outputs": [],
   "source": [
    "r_pos = data['tfa_obs_sphere_IM_airb'] - tf_pred_pos"
   ]
  },
  {
   "cell_type": "markdown",
   "metadata": {},
   "source": [
    "#### Parameters for normalized histogram"
   ]
  },
  {
   "cell_type": "code",
   "execution_count": 31,
   "metadata": {},
   "outputs": [],
   "source": [
    "r_norm,r_mean,r_std = func.residual(data['tfa_obs_sphere_IM_airb'],tf_pred_pos)"
   ]
  },
  {
   "cell_type": "code",
   "execution_count": 32,
   "metadata": {},
   "outputs": [
    {
     "name": "stdout",
     "output_type": "stream",
     "text": [
      "-0.0320327711386\n"
     ]
    }
   ],
   "source": [
    "print r_mean"
   ]
  },
  {
   "cell_type": "markdown",
   "metadata": {},
   "source": [
    "## Comparison between the Model and the Layer with posivity"
   ]
  },
  {
   "cell_type": "code",
   "execution_count": 33,
   "metadata": {},
   "outputs": [
    {
     "name": "stderr",
     "output_type": "stream",
     "text": [
      "/home/andrelreis/anaconda2/lib/python2.7/site-packages/matplotlib/figure.py:1744: UserWarning: This figure includes Axes that are not compatible with tight_layout, so its results might be incorrect.\n",
      "  warnings.warn(\"This figure includes Axes that are not \"\n"
     ]
    },
    {
     "data": {
      "image/png": "[encoded data removed]",
      "text/plain": [
       "<matplotlib.figure.Figure at 0x7fa54e3c4c90>"
      ]
     },
     "metadata": {},
     "output_type": "display_data"
    }
   ],
   "source": [
    "title_font = 20\n",
    "bottom_font = 16\n",
    "saturation_factor = 1.\n",
    "plt.close('all')\n",
    "plt.figure(figsize=(19,7), tight_layout=True)\n",
    "\n",
    "ranges = saturation_factor*np.abs([data['tfa_obs_sphere_IM_airb'].max(), \n",
    "                                   data['tfa_obs_sphere_IM_airb'].min(),\n",
    "                                   tf_pred_pos.max(), tf_pred_pos.min()]).max()\n",
    "\n",
    "r_ranges = saturation_factor*np.abs([r_pos.max(), r_pos.min()]).max()\n",
    "\n",
    "plt.subplot(1,4,1)\n",
    "plt.contourf(airborne['y'].reshape(airborne['shape']),\n",
    "             airborne['x'].reshape(airborne['shape']), \n",
    "             data['tfa_obs_sphere_IM_airb'].reshape(airborne['shape']),\n",
    "             20, cmap='RdBu_r',vmin=-ranges, vmax=ranges)\n",
    "plt.colorbar(pad=0.01, aspect=40, shrink=1.0).set_label('nT')\n",
    "plt.xlabel('y (m)', fontsize = title_font)\n",
    "plt.ylabel('x (m)', fontsize = title_font)\n",
    "plt.title('TFA (IM_airborne) ', fontsize=title_font)\n",
    "\n",
    "plt.subplot(1,4,2)\n",
    "plt.contourf(airborne['y'].reshape(airborne['shape']),\n",
    "             airborne['x'].reshape(airborne['shape']),\n",
    "             tf_pred_pos.reshape(airborne['shape']),\n",
    "             20, cmap='RdBu_r',  vmin=-ranges, vmax=ranges)\n",
    "plt.colorbar(pad=0.01, aspect=40, shrink=1.0).set_label('nT')\n",
    "plt.xlabel('y (m)', fontsize = title_font)\n",
    "plt.ylabel('x (m)', fontsize = title_font)\n",
    "plt.title('TFA (Layer)', fontsize=title_font)\n",
    "\n",
    "plt.subplot(1,4,3)\n",
    "plt.contourf(airborne['y'].reshape(airborne['shape']),\n",
    "             airborne['x'].reshape(airborne['shape']),\n",
    "             r_pos.reshape(airborne['shape']), \n",
    "             20, cmap='RdBu_r',  vmin=-r_ranges, vmax=r_ranges)\n",
    "plt.colorbar(pad=0.01, aspect=40, shrink=1.0).set_label('nT')\n",
    "plt.xlabel('y (m)', fontsize = title_font)\n",
    "plt.ylabel('x (m)', fontsize = title_font)\n",
    "plt.title('Residual map', fontsize=title_font)\n",
    "\n",
    "\n",
    "plt.subplot(1,4,4)\n",
    "plt.xlabel('$\\mu$ = %.3f | $\\sigma$ = %.3f nT' % (r_mean, r_std),\n",
    "           fontsize = bottom_font)\n",
    "nbins = int((np.max(r_norm - np.min(r_norm))))\n",
    "plt.hist(r_norm,bins=nbins,normed=True)\n",
    "plt.ylim(0.,1.)\n",
    "plt.xlim(-10., 10.)\n",
    "plt.title('Normalized Histogram',fontsize=title_font)\n",
    "\n",
    "file_name = 'figs/airborne/noisy_data_fitting_NNLS_magIM'\n",
    "plt.savefig(file_name+'.png',dpi=200)\n",
    "saved_files.append(file_name+'.png')\n",
    "\n",
    "plt.show()"
   ]
  },
  {
   "cell_type": "markdown",
   "metadata": {},
   "source": [
    "### Magnetic moment within the Layer with positivity constraint"
   ]
  },
  {
   "cell_type": "code",
   "execution_count": 34,
   "metadata": {},
   "outputs": [
    {
     "data": {
      "text/plain": [
       "<function matplotlib.pyplot.show>"
      ]
     },
     "execution_count": 34,
     "metadata": {},
     "output_type": "execute_result"
    },
    {
     "data": {
      "image/png": "[encoded data removed]",
      "text/plain": [
       "<matplotlib.figure.Figure at 0x7fa54143f190>"
      ]
     },
     "metadata": {},
     "output_type": "display_data"
    }
   ],
   "source": [
    "title_font = 20\n",
    "bottom_font = 16\n",
    "saturation_factor = 1.\n",
    "plt.close('all')\n",
    "plt.figure(figsize=(8,8), tight_layout=True)\n",
    "\n",
    "ranges = saturation_factor*np.abs([m_pos.max(), m_pos.min()]).max()\n",
    "\n",
    "plt.contourf(ys.reshape(shape_layer),\n",
    "             xs.reshape(shape_layer), \n",
    "             m_pos.reshape(shape_layer),\n",
    "             20, cmap='RdBu_r',vmin=-ranges, vmax=ranges)\n",
    "plt.colorbar(pad=0.01, aspect=40, shrink=1.0).set_label('$A.m^2$')\n",
    "plt.xlabel('y (m)', fontsize = title_font)\n",
    "plt.ylabel('x (m)', fontsize = title_font)\n",
    "plt.title('Magnetic moment (layer)', fontsize=title_font)\n",
    "plt.text(3500.,4500.,'Inc = %.1f'% inc_I,family='ubuntu',style='normal')\n",
    "plt.text(3100.,4100.,'Inc_mf = %.1f'% inc_gf,family='ubuntu',style='normal' )\n",
    "\n",
    "file_name = 'figs/airborne/noisy_magnetic_moment_positive_NNLS_magIM'\n",
    "plt.savefig(file_name+'.png',dpi=200)\n",
    "saved_files.append(file_name+'.png')\n",
    "\n",
    "plt.show"
   ]
  },
  {
   "cell_type": "markdown",
   "metadata": {},
   "source": [
    "### Levenberg-Marquardt with NNLS for positive magnetic moments"
   ]
  },
  {
   "cell_type": "code",
   "execution_count": 35,
   "metadata": {},
   "outputs": [],
   "source": [
    "i_pos = 1500"
   ]
  },
  {
   "cell_type": "code",
   "execution_count": 36,
   "metadata": {},
   "outputs": [],
   "source": [
    "it_max = 30"
   ]
  },
  {
   "cell_type": "code",
   "execution_count": 37,
   "metadata": {},
   "outputs": [],
   "source": [
    "it_marq = 15"
   ]
  },
  {
   "cell_type": "code",
   "execution_count": 38,
   "metadata": {},
   "outputs": [],
   "source": [
    "eps = 1e-4"
   ]
  },
  {
   "cell_type": "code",
   "execution_count": 39,
   "metadata": {},
   "outputs": [],
   "source": [
    "lamb = 10.\n",
    "dlamb = 100."
   ]
  },
  {
   "cell_type": "code",
   "execution_count": 40,
   "metadata": {},
   "outputs": [
    {
     "name": "stdout",
     "output_type": "stream",
     "text": [
      "i = 0\n",
      "2.6438361547 19.586300102\n",
      "0.663812543261\n",
      "i = 1\n",
      "8.47442560331 21.5887178472\n",
      "0.521886868019\n",
      "i = 2\n",
      "11.7753807736 23.0459945461\n",
      "0.312903514981\n",
      "i = 3\n",
      "14.0535495337 24.3151440688\n",
      "0.218726674611\n",
      "i = 4\n",
      "15.7829514358 25.4534852312\n",
      "0.17150994713\n",
      "i = 5\n",
      "17.1543758461 26.5002483064\n",
      "0.139886386236\n",
      "i = 6\n",
      "18.2802935189 27.4446138892\n",
      "0.116919864849\n",
      "i = 7\n",
      "19.2345197268 28.2936945741\n",
      "0.100619178453\n",
      "i = 8\n",
      "20.0543257524 29.0852870783\n",
      "0.0890781381376\n",
      "i = 9\n",
      "20.7656611891 29.8324300209\n",
      "0.0798859147775\n",
      "i = 10\n",
      "21.389905154 30.5485757977\n",
      "0.0732352196556\n",
      "i = 11\n",
      "21.9440186745 31.2258152092\n",
      "0.0672029131447\n",
      "i = 12\n",
      "22.4390937397 31.8614785258\n",
      "0.0613671543717\n",
      "i = 13\n",
      "22.8845584925 32.4716559833\n",
      "0.0575207933584\n",
      "i = 14\n",
      "23.2882654236 33.0588346367\n",
      "0.0544446451302\n",
      "i = 15\n",
      "23.6565477962 33.6142734223\n",
      "0.0508194516074\n",
      "i = 16\n",
      "23.9933766351 34.1484857509\n",
      "0.0483257303066\n",
      "i = 17\n",
      "24.3050646511 34.6411929756\n",
      "0.0441429553847\n",
      "i = 18\n",
      "24.5939453474 35.1109073759\n",
      "0.0417585584579\n",
      "i = 19\n",
      "24.8624823474 35.5532598076\n",
      "0.0389396372431\n",
      "i = 20\n",
      "25.1135331908 35.9747412279\n",
      "0.0368740564589\n",
      "i = 21\n",
      "25.3489006305 36.3785072362\n",
      "0.0351445355208\n",
      "i = 22\n",
      "25.5702532016 36.7632686276\n",
      "0.0333069340212\n",
      "i = 23\n",
      "25.7792369863 37.126519677\n",
      "0.0312246437451\n",
      "i = 24\n",
      "25.9769200412 37.470523364\n",
      "0.0293372507936\n",
      "i = 25\n",
      "26.1638225534 37.7992919951\n",
      "0.0277707106857\n",
      "i = 26\n",
      "26.3408711587 38.1127484305\n",
      "0.0261946234396\n",
      "i = 27\n",
      "26.5093072899 38.4088293054\n",
      "0.024463026704\n",
      "i = 28\n",
      "26.6697879803 38.6933426244\n",
      "0.0232917213553\n",
      "i = 29\n",
      "26.8230217558 38.9671692953\n",
      "0.0222237687801\n",
      "i = 30\n",
      "26.9695710447 39.2303982944\n",
      "0.0211677642745\n",
      "i = 31\n",
      "27.110134637 39.4809374435\n",
      "0.019941687548\n",
      "i = 32\n",
      "27.2452081589 39.7200292345\n",
      "0.0188401706625\n",
      "i = 33\n",
      "27.3752679819 39.9456880029\n",
      "0.0175749209074\n",
      "i = 34\n",
      "27.5007751449 40.1587051331\n",
      "0.0164054929455\n",
      "i = 35\n",
      "27.6219410231 40.3618382531\n",
      "0.0154695066987\n",
      "i = 36\n",
      "27.7388941911 40.555567285\n",
      "0.0145676467415\n",
      "i = 37\n",
      "27.8521758688 40.7426075892\n",
      "0.0139314573295\n",
      "i = 38\n",
      "27.9620363604 40.923049617\n",
      "0.0133140437363\n",
      "i = 39\n",
      "28.0686413418 41.096983303\n",
      "0.0127073363169\n",
      "i = 40\n",
      "28.1721423009 41.2647357706\n",
      "0.0121305999366\n",
      "i = 41\n",
      "28.2727691468 41.4266357672\n",
      "0.0115943123823\n",
      "i = 42\n",
      "28.3706408958 41.5829687105\n",
      "0.0110842206475\n",
      "i = 43\n",
      "28.4659737054 41.73432392\n",
      "0.0106328135242\n",
      "i = 44\n",
      "28.5588804782 41.8807619709\n",
      "0.0101908841716\n",
      "i = 45\n",
      "28.6494550788 42.0220855507\n",
      "0.00973980075818\n",
      "i = 46\n",
      "28.7378685849 42.1585740125\n",
      "0.00932080299847\n",
      "i = 47\n",
      "28.8242841658 42.2897955262\n",
      "0.00888785726089\n",
      "i = 48\n",
      "28.9088653649 42.4151944232\n",
      "0.0084362044493\n",
      "i = 49\n",
      "28.991706274 42.5348250715\n",
      "0.00800109282307\n",
      "i = 50\n",
      "29.0728628926 42.6494645687\n",
      "0.00762081581203\n",
      "i = 51\n",
      "29.152417294 42.761085467\n",
      "0.00736490448232\n",
      "i = 52\n",
      "29.2303998882 42.8695852872\n",
      "0.00710444564967\n",
      "i = 53\n",
      "29.3068674975 42.97497397\n",
      "0.00684933662971\n",
      "i = 54\n",
      "29.3819270244 43.0774475785\n",
      "0.00661519233846\n",
      "i = 55\n",
      "29.4556857504 43.1763555073\n",
      "0.00635655476592\n",
      "i = 56\n",
      "29.528124751 43.2704676624\n",
      "0.00603360896949\n",
      "i = 57\n",
      "29.5992966026 43.3602961864\n",
      "0.00574653455076\n",
      "i = 58\n",
      "29.6692603521 43.4460655026\n",
      "0.00548017814633\n",
      "i = 59\n",
      "29.7381252799 43.5294220433\n",
      "0.00530404767508\n",
      "i = 60\n",
      "29.805913585 43.6103446747\n",
      "0.00512947779474\n",
      "i = 61\n",
      "29.8725956945 43.6884902055\n",
      "0.00493746380038\n",
      "i = 62\n",
      "29.938182363 43.7639354733\n",
      "0.00475117404779\n",
      "i = 63\n",
      "30.0027062616 43.8368370628\n",
      "0.00457604012293\n",
      "i = 64\n",
      "30.0662069611 43.9072659471\n",
      "0.00440894256801\n",
      "i = 65\n",
      "30.1287725475 43.9756940887\n",
      "0.00427005233346\n",
      "i = 66\n",
      "30.1904734915 44.0425268569\n",
      "0.00415405408897\n",
      "i = 67\n",
      "30.2513467253 44.1078688448\n",
      "0.00404569707774\n",
      "i = 68\n",
      "30.311411332 44.1717323261\n",
      "0.00393975980401\n",
      "i = 69\n",
      "30.37068739 44.2341290927\n",
      "0.00383634605832\n",
      "i = 70\n",
      "30.4291853264 44.2950061522\n",
      "0.0037323067065\n",
      "i = 71\n",
      "30.4869211994 44.3543720628\n",
      "0.00363044220884\n",
      "i = 72\n",
      "30.5439095565 44.4123332665\n",
      "0.00353399664767\n",
      "i = 73\n",
      "30.6001672797 44.4688758587\n",
      "0.00343899248466\n",
      "i = 74\n",
      "30.6557098853 44.5240309814\n",
      "0.00334689688116\n",
      "i = 75\n",
      "30.7105328248 44.5777635448\n",
      "0.00325372675296\n",
      "i = 76\n",
      "30.7646370388 44.6298779536\n",
      "0.00315513819948\n",
      "i = 77\n",
      "30.8180411423 44.6804125544\n",
      "0.00306026626702\n",
      "i = 78\n",
      "30.8707557454 44.7294532086\n",
      "0.00296973981232\n",
      "i = 79\n",
      "30.9227570787 44.7768677669\n",
      "0.00287426052587\n",
      "i = 80\n",
      "30.9740827013 44.8227992399\n",
      "0.00278710135556\n",
      "i = 81\n",
      "31.0248155821 44.8676005434\n",
      "0.00271742988057\n",
      "i = 82\n",
      "31.0749629085 44.9112670088\n",
      "0.00264870660735\n",
      "i = 83\n",
      "31.1245292205 44.9538162644\n",
      "0.00258133089182\n",
      "i = 84\n",
      "31.1734699595 44.9950812022\n",
      "0.00250663851649\n",
      "i = 85\n",
      "31.2218393274 45.0351495969\n",
      "0.00243932452125\n",
      "i = 86\n",
      "31.2696485281 45.0740534487\n",
      "0.00237435044985\n",
      "i = 87\n",
      "31.3169066264 45.1117741681\n",
      "0.00231032093865\n",
      "i = 88\n",
      "31.3636122343 45.1482073138\n",
      "0.00224454733004\n",
      "i = 89\n",
      "31.4097732817 45.1833652907\n",
      "0.00218053687558\n",
      "i = 90\n",
      "31.4554145072 45.2173358196\n",
      "0.002121177739\n",
      "i = 91\n",
      "31.5005753149 45.2502976824\n",
      "0.00206929154323\n",
      "i = 92\n",
      "31.5452594567 45.2821956326\n",
      "0.00201715708799\n",
      "i = 93\n",
      "31.5894998622 45.3134057585\n",
      "0.00197543321119\n",
      "i = 94\n",
      "31.6333065891 45.3439434547\n",
      "0.00193501562803\n",
      "i = 95\n",
      "31.6766897646 45.3738487531\n",
      "0.0018963470329\n",
      "i = 96\n",
      "31.7196596783 45.403203393\n",
      "0.00186017857503\n",
      "i = 97\n",
      "31.7622304363 45.4320369535\n",
      "0.00182578367863\n",
      "i = 98\n",
      "31.8044076778 45.4603550352\n",
      "0.00179208617295\n",
      "i = 99\n",
      "31.8461988793 45.4881821865\n",
      "0.0017595421125\n",
      "i = 100\n",
      "31.8876101217 45.5155382887\n",
      "0.00172794361213\n",
      "i = 101\n",
      "31.9286466565 45.5424044538\n",
      "0.00169655832929\n",
      "i = 102\n",
      "31.9693205258 45.5687950663\n",
      "0.0016664383241\n",
      "i = 103\n",
      "32.0096184274 45.594652017\n",
      "0.00163457370109\n",
      "i = 104\n",
      "32.0495384105 45.6199549747\n",
      "0.00160245058236\n",
      "i = 105\n",
      "32.0890875143 45.6447455861\n",
      "0.0015716926769\n",
      "i = 106\n",
      "32.1282871719 45.6691100346\n",
      "0.00154395620275\n",
      "i = 107\n",
      "32.1671442648 45.6930374512\n",
      "0.00151668349298\n",
      "i = 108\n",
      "32.205661096 45.7165001393\n",
      "0.00148931153275\n",
      "i = 109\n",
      "32.2438421718 45.7395001006\n",
      "0.00146244737287\n",
      "i = 110\n",
      "32.2816922738 45.762045767\n",
      "0.00143619776707\n",
      "i = 111\n",
      "32.3192110777 45.7841265955\n",
      "0.00140994510114\n",
      "i = 112\n",
      "32.3564033072 45.8057501459\n",
      "0.00138429314688\n",
      "i = 113\n",
      "32.3932723269 45.8269319396\n",
      "0.00135924508096\n",
      "i = 114\n",
      "32.4298204352 45.8476774524\n",
      "0.00133458701555\n",
      "i = 115\n",
      "32.4660542922 45.8679949481\n",
      "0.0013106453004\n",
      "i = 116\n",
      "32.501975524 45.8878625884\n",
      "0.00128669314437\n",
      "i = 117\n",
      "32.537581008 45.9072618638\n",
      "0.00126248930462\n",
      "i = 118\n",
      "32.5728729136 45.9261957544\n",
      "0.00123865754604\n",
      "i = 119\n",
      "32.6078523861 45.9446720606\n",
      "0.00121518770333\n",
      "i = 120\n",
      "32.642519614 45.9626881251\n",
      "0.00119189434017\n",
      "i = 121\n",
      "32.6768852763 45.9802705941\n",
      "0.00116977193014\n",
      "i = 122\n",
      "32.7109658495 45.997476415\n",
      "0.00114948908823\n",
      "i = 123\n",
      "32.7447611916 46.0142976477\n",
      "0.00112925924732\n",
      "i = 124\n",
      "32.778274702 46.0307429867\n",
      "0.00110948172839\n",
      "i = 125\n",
      "32.8115096411 46.0468190265\n",
      "0.00109011924699\n",
      "i = 126\n",
      "32.8444696083 46.0625318173\n",
      "0.00107118060189\n",
      "i = 127\n",
      "32.8771552689 46.0778838793\n",
      "0.00105245022231\n",
      "i = 128\n",
      "32.9095692845 46.0928826195\n",
      "0.00103409449044\n",
      "i = 129\n",
      "32.9417153447 46.1075422265\n",
      "0.00101623394767\n",
      "i = 130\n",
      "32.9735912937 46.1218337959\n",
      "0.000998112400513\n",
      "i = 131\n",
      "33.0052178789 46.1358532457\n",
      "0.000982226955783\n",
      "i = 132\n",
      "33.0366088842 46.1496713841\n",
      "0.000967880424209\n",
      "i = 133\n",
      "33.0677668063 46.163290694\n",
      "0.000953773562724\n",
      "i = 134\n",
      "33.0986938613 46.1767137066\n",
      "0.000939888876284\n",
      "i = 135\n",
      "33.1293643313 46.1898278192\n",
      "0.000923644025721\n",
      "i = 136\n",
      "33.1597802722 46.2026341159\n",
      "0.000907649615395\n",
      "i = 137\n",
      "33.1899445465 46.2151350402\n",
      "0.000891960555827\n",
      "i = 138\n",
      "33.2198487305 46.2272919445\n",
      "0.000875617784472\n",
      "i = 139\n",
      "33.2494868969 46.2390853475\n",
      "0.000858944763159\n",
      "i = 140\n",
      "33.2788751655 46.2505451469\n",
      "0.000843539916635\n",
      "i = 141\n",
      "33.3080188033 46.2616864943\n",
      "0.000828671599421\n",
      "i = 142\n",
      "33.3369218797 46.2725137797\n",
      "0.00081418574137\n",
      "i = 143\n",
      "33.3655943242 46.2830408849\n",
      "0.000800457692342\n",
      "i = 144\n",
      "33.3940350437 46.293254026\n",
      "0.000786695375678\n",
      "i = 145\n",
      "33.4222471764 46.3031626184\n",
      "0.000773283776781\n",
      "i = 146\n",
      "33.4502333242 46.312773306\n",
      "0.000760170015581\n",
      "i = 147\n",
      "33.477998607 46.3221003839\n",
      "0.00074752674045\n",
      "i = 148\n",
      "33.5055494925 46.3311622631\n",
      "0.000735436414722\n",
      "i = 149\n",
      "33.5328882871 46.3399646967\n",
      "0.000723597190589\n",
      "i = 150\n",
      "33.5600426288 46.3486440314\n",
      "0.000714046882029\n",
      "i = 151\n",
      "33.5870228377 46.3572491501\n",
      "0.000705348091281\n",
      "i = 152\n",
      "33.613829781 46.3657803452\n",
      "0.000696732284222\n",
      "i = 153\n",
      "33.6404648437 46.374238365\n",
      "0.000688228005724\n",
      "i = 154\n",
      "33.6669293944 46.382623949\n",
      "0.000679833649029\n",
      "i = 155\n",
      "33.6932201685 46.3909411412\n",
      "0.000671335514385\n",
      "i = 156\n",
      "33.7193369533 46.3991953729\n",
      "0.000662895510451\n",
      "i = 157\n",
      "33.7452811239 46.407387423\n",
      "0.000654566473231\n",
      "i = 158\n",
      "33.7710416767 46.4154706038\n",
      "0.000645488588903\n",
      "i = 159\n",
      "33.7966183855 46.4234368958\n",
      "0.000636407394036\n",
      "i = 160\n",
      "33.8220126367 46.4312880881\n",
      "0.000627454582783\n",
      "i = 161\n",
      "33.8472285253 46.4390198797\n",
      "0.000618727464391\n",
      "i = 162\n",
      "33.8722693807 46.4466325675\n",
      "0.000610210598538\n",
      "i = 163\n",
      "33.89713676 46.454127725\n",
      "0.000601824319559\n",
      "i = 164\n",
      "33.9218321558 46.4615069436\n",
      "0.000593564032632\n",
      "i = 165\n",
      "33.9463578629 46.46877533\n",
      "0.000585483055795\n",
      "i = 166\n",
      "33.9707180959 46.4759319227\n",
      "0.000577638107527\n",
      "i = 167\n",
      "33.9949103355 46.4829845247\n",
      "0.000569757595358\n",
      "i = 168\n",
      "34.0189393537 46.4899424268\n",
      "0.000562183262288\n",
      "i = 169\n",
      "34.0428077864 46.4968104994\n",
      "0.000554792681421\n",
      "i = 170\n",
      "34.0665169052 46.50358987\n",
      "0.000547504818988\n",
      "i = 171\n",
      "34.0900704433 46.5102864431\n",
      "0.000540449832364\n",
      "i = 172\n",
      "34.1134738262 46.5168683655\n",
      "0.000533533090499\n",
      "i = 173\n",
      "34.1367295605 46.5233197887\n",
      "0.000526697535573\n",
      "i = 174\n",
      "34.159833304 46.5296266133\n",
      "0.000519651636568\n",
      "i = 175\n",
      "34.1827827749 46.535780926\n",
      "0.000512518553308\n",
      "i = 176\n",
      "34.2055800373 46.5417876197\n",
      "0.000505543375324\n",
      "i = 177\n",
      "34.2282262153 46.5476455017\n",
      "0.000498658659654\n",
      "i = 178\n",
      "34.2507221725 46.553347799\n",
      "0.000491831345259\n",
      "i = 179\n",
      "34.2730691629 46.5588969497\n",
      "0.00048511450629\n",
      "i = 180\n",
      "34.2952675209 46.5642913679\n",
      "0.000478453022921\n",
      "i = 181\n",
      "34.3173167317 46.5695295891\n",
      "0.000471812125666\n",
      "i = 182\n",
      "34.3392168523 46.5746146588\n",
      "0.00046523255125\n",
      "i = 183\n",
      "34.3609777168 46.5795836203\n",
      "0.000459234936143\n",
      "i = 184\n",
      "34.3826151568 46.5844977945\n",
      "0.000454133767183\n",
      "i = 185\n",
      "34.4041298862 46.5893582806\n",
      "0.000449089244605\n",
      "i = 186\n",
      "34.4255216514 46.5941717628\n",
      "0.000444079614527\n",
      "i = 187\n",
      "34.4467917985 46.5989479063\n",
      "0.000439179640353\n",
      "i = 188\n",
      "34.4679416097 46.6036869749\n",
      "0.000434354713977\n",
      "i = 189\n",
      "34.4889727902 46.6083870634\n",
      "0.000429614404464\n",
      "i = 190\n",
      "34.5098881352 46.613048286\n",
      "0.000425008100066\n",
      "i = 191\n",
      "34.5306915539 46.6176596911\n",
      "0.000420544348463\n",
      "i = 192\n",
      "34.5513826804 46.6222160462\n",
      "0.000416069771181\n",
      "i = 193\n",
      "34.5719537456 46.6267204431\n",
      "0.000411319314668\n",
      "i = 194\n",
      "34.5924060787 46.6311865565\n",
      "0.000406686580629\n",
      "i = 195\n",
      "34.6127391736 46.6356262655\n",
      "0.000402092949649\n",
      "i = 196\n",
      "34.6329515571 46.6400322133\n",
      "0.000397442075384\n",
      "i = 197\n",
      "34.6530427636 46.6444004292\n",
      "0.000392784430321\n",
      "i = 198\n",
      "34.6730136202 46.6487312767\n",
      "0.000388183124964\n",
      "i = 199\n",
      "34.6928649465 46.6530251155\n",
      "0.00038363743923\n",
      "i = 200\n",
      "34.7126024033 46.6572904496\n",
      "0.000379353916514\n",
      "i = 201\n",
      "34.7322283798 46.6615348725\n",
      "0.000375203134728\n",
      "i = 202\n",
      "34.7517436005 46.6657584493\n",
      "0.000371099215752\n",
      "i = 203\n",
      "34.7711487839 46.6699612462\n",
      "0.000367041600744\n",
      "i = 204\n",
      "34.7904483447 46.6741389419\n",
      "0.000363155301293\n",
      "i = 205\n",
      "34.8096470701 46.6782868239\n",
      "0.000359450858899\n",
      "i = 206\n",
      "34.8287497292 46.682399133\n",
      "0.00035592119686\n",
      "i = 207\n",
      "34.8477523736 46.6864272112\n",
      "0.000352125979518\n",
      "i = 208\n",
      "34.866662958 46.6903892418\n",
      "0.000348690311296\n",
      "i = 209\n",
      "34.8854820424 46.6942862617\n",
      "0.000345293390553\n",
      "i = 210\n",
      "34.9042101818 46.6981192922\n",
      "0.00034193466655\n",
      "i = 211\n",
      "34.9228480207 46.7018896942\n",
      "0.000338617870108\n",
      "i = 212\n",
      "34.9413959215 46.7055989985\n",
      "0.000335332938901\n",
      "i = 213\n",
      "34.9598544237 46.709248162\n",
      "0.00033208449144\n",
      "i = 214\n",
      "34.9782234453 46.7128372866\n",
      "0.00032884806125\n",
      "i = 215\n",
      "34.9965023772 46.7163657432\n",
      "0.000325603323225\n",
      "i = 216\n",
      "35.0146889055 46.7198226027\n",
      "0.000322266431391\n",
      "i = 217\n",
      "35.0327804741 46.723198224\n",
      "0.000318834694083\n",
      "i = 218\n",
      "35.0507754119 46.7264877871\n",
      "0.00031535269773\n",
      "i = 219\n",
      "35.0686728405 46.7296973437\n",
      "0.000311873655824\n",
      "i = 220\n",
      "35.0864678276 46.7328360437\n",
      "0.000308264385895\n",
      "i = 221\n",
      "35.1041562816 46.7359172604\n",
      "0.000304564142182\n",
      "i = 222\n",
      "35.1217381979 46.738945293\n",
      "0.000300894112005\n",
      "i = 223\n",
      "35.1392111267 46.7419193684\n",
      "0.000297161033391\n",
      "i = 224\n",
      "35.1565786291 46.7448513193\n",
      "0.000293593600142\n",
      "i = 225\n",
      "35.1738471988 46.7477651471\n",
      "0.000290311583728\n",
      "i = 226\n",
      "35.1910170443 46.7506567932\n",
      "0.000287044882555\n",
      "i = 227\n",
      "35.208088763 46.7535265271\n",
      "0.000283815117599\n",
      "i = 228\n",
      "35.2250662412 46.7563742908\n",
      "0.000280728987116\n",
      "i = 229\n",
      "35.2419500222 46.75920372\n",
      "0.000277683157937\n",
      "i = 230\n",
      "35.2587406106 46.7620152891\n",
      "0.000274669657492\n",
      "i = 231\n",
      "35.2754385521 46.7648091683\n",
      "0.000271688986193\n",
      "i = 232\n",
      "35.2920443889 46.7675855257\n",
      "0.00026874078219\n",
      "i = 233\n",
      "35.3085582025 46.770343612\n",
      "0.000265808349475\n",
      "i = 234\n",
      "35.3249798592 46.7730822404\n",
      "0.000262884043008\n",
      "i = 235\n",
      "35.3413099057 46.7758016185\n",
      "0.000259992153672\n",
      "i = 236\n",
      "35.3575488843 46.7785019511\n",
      "0.000257132315381\n",
      "i = 237\n",
      "35.3736973338 46.7811834406\n",
      "0.000254304166393\n",
      "i = 238\n",
      "35.3897564741 46.7838460992\n",
      "0.000251528221858\n",
      "i = 239\n",
      "35.4057279473 46.786491838\n",
      "0.00024882049654\n",
      "i = 240\n",
      "35.4216122582 46.7891208165\n",
      "0.000246142031639\n",
      "i = 241\n",
      "35.4374099082 46.7917331926\n",
      "0.000243492507372\n",
      "i = 242\n",
      "35.4531213954 46.7943291222\n",
      "0.000240871607566\n",
      "i = 243\n",
      "35.4687472997 46.7969089086\n",
      "0.000238281869136\n",
      "i = 244\n",
      "35.4842933065 46.7994825756\n",
      "0.00023589413588\n",
      "i = 245\n",
      "35.4997605016 46.8020498804\n",
      "0.000233549533986\n",
      "i = 246\n",
      "35.5151495297 46.8046096593\n",
      "0.000231232831597\n",
      "i = 247\n",
      "35.5304612088 46.8071619241\n",
      "0.000228951054899\n",
      "i = 248\n",
      "35.5457007653 46.8097111922\n",
      "0.00022684211256\n",
      "i = 249\n",
      "35.5608690015 46.81225928\n",
      "0.000224769025598\n",
      "i = 250\n",
      "35.5759666919 46.8148085535\n",
      "0.000222731618229\n",
      "i = 251\n",
      "35.5909981145 46.817364558\n",
      "0.000220837261333\n",
      "i = 252\n",
      "35.6059636458 46.8199272279\n",
      "0.00021896130418\n",
      "i = 253\n",
      "35.6208636641 46.8224965033\n",
      "0.000217103696143\n",
      "i = 254\n",
      "35.6356981714 46.8250726244\n",
      "0.000215254026732\n",
      "i = 255\n",
      "35.6504674473 46.8276554712\n",
      "0.000213419599199\n",
      "i = 256\n",
      "35.6651718082 46.8302448758\n",
      "0.000211601282492\n",
      "i = 257\n",
      "35.6798098857 46.8328386622\n",
      "0.000209747540509\n",
      "i = 258\n",
      "35.6943791611 46.8354333012\n",
      "0.00020782394531\n",
      "i = 259\n",
      "35.7088799733 46.838028703\n",
      "0.000205918026435\n",
      "i = 260\n",
      "35.7233131635 46.8406249799\n",
      "0.00020404412734\n",
      "i = 261\n",
      "35.7376807533 46.8432226247\n",
      "0.000202235627562\n",
      "i = 262\n",
      "35.7519808175 46.8458182924\n",
      "0.000200375266595\n",
      "i = 263\n",
      "35.7662085592 46.8483933374\n",
      "0.000198357303176\n",
      "i = 264\n",
      "35.7803654676 46.8509470805\n",
      "0.000196388546452\n",
      "i = 265\n",
      "35.7944524747 46.8534793194\n",
      "0.000194454113978\n",
      "i = 266\n",
      "35.8084695445 46.8559894278\n",
      "0.000192526682663\n",
      "i = 267\n",
      "35.8224160499 46.8584754059\n",
      "0.000190587980156\n",
      "i = 268\n",
      "35.8362923552 46.8609376085\n",
      "0.000188669018477\n",
      "i = 269\n",
      "35.850098823 46.8633763845\n",
      "0.000186769587629\n",
      "i = 270\n",
      "35.8638345939 46.8657929199\n",
      "0.000184858429491\n",
      "i = 271\n",
      "35.8774961898 46.8681886355\n",
      "0.000182866763601\n",
      "i = 272\n",
      "35.8910835484 46.870565826\n",
      "0.000180887561859\n",
      "i = 273\n",
      "35.9046091897 46.8729337255\n",
      "0.000179262650485\n",
      "i = 274\n",
      "35.9180778579 46.8752983386\n",
      "0.000177778560651\n",
      "i = 275\n",
      "35.9314898321 46.877659641\n",
      "0.000176307494222\n",
      "i = 276\n",
      "35.9448453896 46.8800176086\n",
      "0.00017484932894\n",
      "i = 277\n",
      "35.9581448061 46.8823722181\n",
      "0.000173403943785\n",
      "i = 278\n",
      "35.9713883556 46.8847234463\n",
      "0.000171971218968\n",
      "i = 279\n",
      "35.9845763104 46.8870712706\n",
      "0.000170551035903\n",
      "i = 280\n",
      "35.9977089411 46.8894156686\n",
      "0.000169143277209\n",
      "i = 281\n",
      "36.010786337 46.8917566142\n",
      "0.000167743259658\n",
      "i = 282\n",
      "36.0238071197 46.8940927378\n",
      "0.000166311698731\n",
      "i = 283\n",
      "36.0367635308 46.8964063647\n",
      "0.00016466228853\n",
      "i = 284\n",
      "36.0496559901 46.8986990897\n",
      "0.000163033783488\n",
      "i = 285\n",
      "36.062485457 46.9009721139\n",
      "0.00016143881131\n",
      "i = 286\n",
      "36.0752523186 46.9032269004\n",
      "0.000159863251933\n",
      "i = 287\n",
      "36.0879552178 46.9054669616\n",
      "0.000158267082091\n",
      "i = 288\n",
      "36.1005966571 46.9076981502\n",
      "0.000156749002285\n",
      "i = 289\n",
      "36.1131780047 46.9099247936\n",
      "0.000155278033071\n",
      "i = 290\n",
      "36.1257036007 46.9121468498\n",
      "0.000153919157823\n",
      "i = 291\n",
      "36.1381737179 46.9143643408\n",
      "0.000152572639956\n",
      "i = 292\n",
      "36.1505886278 46.9165772884\n",
      "0.000151238362312\n",
      "i = 293\n",
      "36.1629509662 46.9187918819\n",
      "0.000149982506315\n",
      "i = 294\n",
      "36.175260825 46.9210089862\n",
      "0.000148735212589\n",
      "i = 295\n",
      "36.1875177318 46.9232285193\n",
      "0.000147481610047\n",
      "i = 296\n",
      "36.1997217499 46.9254507805\n",
      "0.000146235133966\n",
      "i = 297\n",
      "36.2118733929 46.9276751267\n",
      "0.000145004952953\n",
      "i = 298\n",
      "36.2239729172 46.9299014831\n",
      "0.000143785733361\n",
      "i = 299\n",
      "36.2360200102 46.9321304154\n",
      "0.000142565043558\n",
      "i = 300\n",
      "36.2480090055 46.934362959\n",
      "0.000141218758383\n",
      "i = 301\n",
      "36.2599397999 46.9365994147\n",
      "0.000139876830592\n",
      "i = 302\n",
      "36.271813399 46.9388405452\n",
      "0.000138565595949\n",
      "i = 303\n",
      "36.2836309697 46.9410873263\n",
      "0.000137288767932\n",
      "i = 304\n",
      "36.2953927988 46.9433396262\n",
      "0.00013602415321\n",
      "i = 305\n",
      "36.3070973774 46.9455943837\n",
      "0.000134726386281\n",
      "i = 306\n",
      "36.3187446929 46.9478500922\n",
      "0.000133432163685\n",
      "i = 307\n",
      "36.330337922 46.9500980082\n",
      "0.000132202310797\n",
      "i = 308\n",
      "36.3418773259 46.952338201\n",
      "0.000130983930728\n",
      "i = 309\n",
      "36.3533629699 46.954570753\n",
      "0.000129772585223\n",
      "i = 310\n",
      "36.3647937549 46.9567957138\n",
      "0.000128542241167\n",
      "i = 311\n",
      "36.3761705122 46.9590126841\n",
      "0.000127335355145\n",
      "i = 312\n",
      "36.3874957045 46.9612173112\n",
      "0.000126181660533\n",
      "i = 313\n",
      "36.3987695679 46.9634097172\n",
      "0.000125038425208\n",
      "i = 314\n",
      "36.409992338 46.9655900225\n",
      "0.000123905554013\n",
      "i = 315\n",
      "36.4211642487 46.9677583459\n",
      "0.000122782952682\n",
      "i = 316\n",
      "36.4322855331 46.969914805\n",
      "0.000121670527818\n",
      "i = 317\n",
      "36.4433557868 46.972059462\n",
      "0.000120554431375\n",
      "i = 318\n",
      "36.4543745659 46.9741926187\n",
      "0.000119434295262\n",
      "i = 319\n",
      "36.4653421137 46.9763143876\n",
      "0.000118324606049\n",
      "i = 320\n",
      "36.4762574233 46.9784276249\n",
      "0.000117202702221\n",
      "i = 321\n",
      "36.4871202259 46.980534386\n",
      "0.000116083309479\n",
      "i = 322\n",
      "36.4979306995 46.9826337305\n",
      "0.000114971562428\n",
      "i = 323\n",
      "36.5086890162 46.984725501\n",
      "0.000113868417785\n",
      "i = 324\n",
      "36.5193954365 46.9868097546\n",
      "0.000112775975626\n",
      "i = 325\n",
      "36.5300491674 46.9888847796\n",
      "0.000111669866747\n",
      "i = 326\n",
      "36.5406504017 46.9909501495\n",
      "0.000110572488941\n",
      "i = 327\n",
      "36.5511994089 46.9930059459\n",
      "0.000109486058481\n",
      "i = 328\n",
      "36.5616964571 46.9950522495\n",
      "0.000108410464102\n",
      "i = 329\n",
      "36.5721418127 46.9970891398\n",
      "0.00010734559571\n",
      "i = 330\n",
      "36.5825357406 46.9991166953\n",
      "0.000106291344356\n",
      "i = 331\n",
      "36.5928791397 47.0011346887\n",
      "0.000105259939523\n",
      "i = 332\n",
      "36.6031729018 47.003142534\n",
      "0.000104250496208\n",
      "i = 333\n",
      "36.6134281194 47.0051298115\n",
      "0.000103452810348\n",
      "i = 334\n",
      "36.6236494666 47.0070945018\n",
      "0.000102748357227\n",
      "i = 335\n",
      "36.6338371874 47.0090370034\n",
      "0.000102051767453\n",
      "i = 336\n",
      "36.6439913018 47.0109538356\n",
      "0.000101353460945\n",
      "i = 337\n",
      "36.6541119243 47.0128449074\n",
      "0.00010065984985\n",
      "i = 338\n",
      "36.6541119243 47.0128449074\n",
      "0.0\n"
     ]
    }
   ],
   "source": [
    "m_LM,inc_est,dec_est,phi,imax,pest,incs,decs = fc.levenberg_marquardt_NNLS(\n",
    "    data['tfa_obs_sphere_IM_airb'],airborne['x'],airborne['y'],airborne['z'],\n",
    "    xs,ys,zs,inc_gf,dec_gf,-10.,15.,lamb,dlamb,i_pos,it_max,\n",
    "    it_marq,eps)"
   ]
  },
  {
   "cell_type": "markdown",
   "metadata": {},
   "source": [
    "### Visualization of the convergence"
   ]
  },
  {
   "cell_type": "code",
   "execution_count": 41,
   "metadata": {},
   "outputs": [],
   "source": [
    "phi = np.array(phi)/airborne['x'].size"
   ]
  },
  {
   "cell_type": "code",
   "execution_count": 42,
   "metadata": {},
   "outputs": [
    {
     "data": {
      "text/plain": [
       "<matplotlib.figure.Figure at 0x7fa5413a2810>"
      ]
     },
     "metadata": {},
     "output_type": "display_data"
    },
    {
     "data": {
      "image/png": "[encoded data removed]",
      "text/plain": [
       "<matplotlib.figure.Figure at 0x7fa5413a2b50>"
      ]
     },
     "metadata": {},
     "output_type": "display_data"
    }
   ],
   "source": [
    "title_font = 20\n",
    "bottom_font = 16\n",
    "saturation_factor = 1.\n",
    "plt.close('all')\n",
    "plt.figure(figsize=(8,8), tight_layout=True)\n",
    "\n",
    "plt.figure(figsize=(10, 10))\n",
    "plt.plot(phi, 'b--')\n",
    "plt.plot(phi, 'b.')\n",
    "\n",
    "plt.title('Convergence analysis', fontsize=title_font)\n",
    "plt.xlabel('iteration', fontsize = title_font)\n",
    "plt.ylabel('$\\phi$', fontsize = title_font)\n",
    "\n",
    "file_name = 'figs/airborne/noisy_convergence_LM_NNLS_magIM'\n",
    "plt.savefig(file_name+'.png',dpi=200)\n",
    "saved_files.append(file_name+'.png')\n",
    "\n",
    "plt.show()"
   ]
  },
  {
   "cell_type": "markdown",
   "metadata": {},
   "source": [
    "### Estimated magnetization direction"
   ]
  },
  {
   "cell_type": "code",
   "execution_count": 43,
   "metadata": {},
   "outputs": [
    {
     "name": "stdout",
     "output_type": "stream",
     "text": [
      "(36.654111924314016, 47.012844907429745)\n"
     ]
    }
   ],
   "source": [
    "print (inc_est,dec_est)"
   ]
  },
  {
   "cell_type": "code",
   "execution_count": 44,
   "metadata": {},
   "outputs": [
    {
     "name": "stdout",
     "output_type": "stream",
     "text": [
      "(40.0, 45.0)\n"
     ]
    }
   ],
   "source": [
    "print (inc_I,dec_I)"
   ]
  },
  {
   "cell_type": "markdown",
   "metadata": {},
   "source": [
    "### Comparison between observed data and predicted data"
   ]
  },
  {
   "cell_type": "code",
   "execution_count": 45,
   "metadata": {},
   "outputs": [],
   "source": [
    "pred = fc.tfa_layer(airborne['x'],airborne['y'],airborne['z'],\n",
    "                    xs,ys,zs,inc_gf,dec_gf,m_LM,inc_est,dec_est)"
   ]
  },
  {
   "cell_type": "code",
   "execution_count": 46,
   "metadata": {},
   "outputs": [],
   "source": [
    "res = pred - data['tfa_obs_sphere_IM_airb']"
   ]
  },
  {
   "cell_type": "code",
   "execution_count": 47,
   "metadata": {},
   "outputs": [],
   "source": [
    "r_norm,r_mean,r_std = func.residual(data['tfa_obs_sphere_IM_airb'],pred)"
   ]
  },
  {
   "cell_type": "code",
   "execution_count": 48,
   "metadata": {},
   "outputs": [
    {
     "data": {
      "image/png": "[encoded data removed]",
      "text/plain": [
       "<matplotlib.figure.Figure at 0x7fa54178df50>"
      ]
     },
     "metadata": {},
     "output_type": "display_data"
    }
   ],
   "source": [
    "title_font = 20\n",
    "bottom_font = 16\n",
    "saturation_factor = 1.\n",
    "plt.close('all')\n",
    "plt.figure(figsize=(19,7), tight_layout=True)\n",
    "\n",
    "ranges = saturation_factor*np.abs([data['tfa_obs_sphere_IM_airb'].max(), \n",
    "                                   data['tfa_obs_sphere_IM_airb'].min(),\n",
    "                                   pred.max(), pred.min()]).max()\n",
    "res_ranges = np.max(np.abs(res))\n",
    "\n",
    "plt.subplot(1,4,1)\n",
    "plt.contourf(airborne['y'].reshape(airborne['shape']),\n",
    "             airborne['x'].reshape(airborne['shape']), \n",
    "             data['tfa_obs_sphere_IM_airb'].reshape(airborne['shape']),\n",
    "             20, cmap='RdBu_r',vmin=-ranges, vmax=ranges)\n",
    "plt.colorbar(pad=0.01, aspect=40, shrink=1.0).set_label('nT')\n",
    "plt.xlabel('y (m)', fontsize = title_font)\n",
    "plt.ylabel('x (m)', fontsize = title_font)\n",
    "plt.title('TFA (IM_airborne)',fontsize=title_font)\n",
    "\n",
    "plt.subplot(1,4,2)\n",
    "plt.contourf(airborne['y'].reshape(airborne['shape']),\n",
    "             airborne['x'].reshape(airborne['shape']),\n",
    "             pred.reshape(airborne['shape']),\n",
    "             20, cmap='RdBu_r',  vmin=-ranges, vmax=ranges)\n",
    "plt.colorbar(pad=0.01, aspect=40, shrink=1.0).set_label('nT')\n",
    "plt.xlabel('y (m)', fontsize = title_font)\n",
    "plt.ylabel('x (m)', fontsize = title_font)\n",
    "plt.title('TFA (Layer)', fontsize=title_font)\n",
    "\n",
    "plt.subplot(1,4,3)\n",
    "plt.contourf(airborne['y'].reshape(airborne['shape']),\n",
    "             airborne['x'].reshape(airborne['shape']),\n",
    "             res.reshape(airborne['shape']), \n",
    "             20, cmap='RdBu_r',  vmin=-res_ranges, vmax=res_ranges)\n",
    "plt.colorbar(pad=0.01, aspect=40, shrink=1.0).set_label('nT')\n",
    "plt.xlabel('y (m)', fontsize = title_font)\n",
    "plt.ylabel('x (m)', fontsize = title_font)\n",
    "plt.title('Residual map', fontsize=title_font)\n",
    "\n",
    "\n",
    "plt.subplot(1,4,4)\n",
    "plt.xlabel('$\\mu$ = %.3f | $\\sigma$ = %.3f nT' % (r_mean, r_std),\n",
    "           fontsize = bottom_font)\n",
    "nbins = int((np.max(r_norm - np.min(r_norm))))\n",
    "plt.hist(r_norm,bins=nbins,normed=True)\n",
    "plt.ylim(0.,1.)\n",
    "plt.xlim(-10., 10.)\n",
    "plt.title('Normalized Histogram',fontsize=title_font)\n",
    "\n",
    "file_name = 'figs/airborne/noisy_data_fitting_LM_NNLS_magIM'\n",
    "plt.savefig(file_name+'.png',dpi=200)\n",
    "saved_files.append(file_name+'.png')\n",
    "\n",
    "plt.show()"
   ]
  },
  {
   "cell_type": "markdown",
   "metadata": {},
   "source": [
    "### Estimated magnetic moment within the layer"
   ]
  },
  {
   "cell_type": "code",
   "execution_count": 49,
   "metadata": {},
   "outputs": [
    {
     "data": {
      "image/png": "[encoded data removed]",
      "text/plain": [
       "<matplotlib.figure.Figure at 0x7fa54175f7d0>"
      ]
     },
     "metadata": {},
     "output_type": "display_data"
    }
   ],
   "source": [
    "title_font = 20\n",
    "bottom_font = 16\n",
    "saturation_factor = 1.\n",
    "plt.close('all')\n",
    "plt.figure(figsize=(8,8), tight_layout=True)\n",
    "\n",
    "ranges = saturation_factor*np.abs([m_LM.max(), m_LM.min()]).max()\n",
    "\n",
    "plt.contourf(ys.reshape(shape_layer),\n",
    "             xs.reshape(shape_layer), \n",
    "             m_LM.reshape(shape_layer),\n",
    "             20, cmap='RdBu_r',vmin=-ranges, vmax=ranges)\n",
    "plt.colorbar(pad=0.01, aspect=40, shrink=1.0).set_label('$A.m^2$')\n",
    "plt.xlabel('y (m)', fontsize = title_font)\n",
    "plt.ylabel('x (m)', fontsize = title_font)\n",
    "plt.title('Magnetic moment (layer)', fontsize=title_font)\n",
    "plt.text(1500.,4500.,'Inc = %.1f | Dec = %.1f '% (inc_I,dec_I),family='ubuntu',style='normal')\n",
    "plt.text(1000.,4100.,'Inc_est = %.1f | Dec_est = %.1f '% (inc_est,dec_est),family='ubuntu',style='normal' )\n",
    "\n",
    "file_name = 'figs/airborne/noisy_magnetic_moment_positive_LM_NNLS_magIM'\n",
    "plt.savefig(file_name+'.png',dpi=200)\n",
    "saved_files.append(file_name+'.png')\n",
    "\n",
    "plt.show()"
   ]
  },
  {
   "cell_type": "code",
   "execution_count": null,
   "metadata": {},
   "outputs": [],
   "source": []
  }
 ],
 "metadata": {
  "kernelspec": {
   "display_name": "Python 2",
   "language": "python",
   "name": "python2"
  },
  "language_info": {
   "codemirror_mode": {
    "name": "ipython",
    "version": 2
   },
   "file_extension": ".py",
   "mimetype": "text/x-python",
   "name": "python",
   "nbconvert_exporter": "python",
   "pygments_lexer": "ipython2",
   "version": "2.7.14"
  }
 },
 "nbformat": 4,
 "nbformat_minor": 2
}
