{
 "cells": [
  {
   "cell_type": "markdown",
   "metadata": {},
   "source": [
    "# Equivalent layer technique for estimating total magnetization direction using "
   ]
  },
  {
   "cell_type": "markdown",
   "metadata": {},
   "source": [
    "#### Importing libraries"
   ]
  },
  {
   "cell_type": "code",
   "execution_count": 1,
   "metadata": {},
   "outputs": [],
   "source": [
    "% matplotlib inline "
   ]
  },
  {
   "cell_type": "code",
   "execution_count": 2,
   "metadata": {},
   "outputs": [
    {
     "name": "stderr",
     "output_type": "stream",
     "text": [
      "/home/andrelreis/anaconda2/lib/python2.7/site-packages/fatiando/vis/mpl.py:76: UserWarning: This module will be removed in v0.6. We recommend the use of matplotlib.pyplot module directly. Some of the fatiando specific functions will remain.\n",
      "  \"specific functions will remain.\")\n"
     ]
    }
   ],
   "source": [
    "import sys\n",
    "import numpy as np\n",
    "import matplotlib.pyplot as plt\n",
    "import cPickle as pickle\n",
    "import datetime\n",
    "import timeit\n",
    "import string as st\n",
    "from scipy.optimize import nnls\n",
    "from fatiando.gridder import regular\n",
    "from fatiando.utils import ang2vec, vec2ang\n",
    "from fatiando.mesher import Sphere, PointGrid,Prism\n",
    "from fatiando.gravmag import sphere,prism\n",
    "from fatiando.constants import CM, T2NT, G, SI2MGAL"
   ]
  },
  {
   "cell_type": "code",
   "execution_count": 3,
   "metadata": {},
   "outputs": [],
   "source": [
    "notebook_name = 'airborne_EQL_magdirection_RM_calculation.ipynb'"
   ]
  },
  {
   "cell_type": "markdown",
   "metadata": {},
   "source": [
    "#### Importing auxiliary functions"
   ]
  },
  {
   "cell_type": "code",
   "execution_count": 4,
   "metadata": {},
   "outputs": [],
   "source": [
    "dir_modules = '../../../mypackage'\n",
    "sys.path.append(dir_modules)"
   ]
  },
  {
   "cell_type": "code",
   "execution_count": 5,
   "metadata": {},
   "outputs": [],
   "source": [
    "import auxiliary_functions as fc"
   ]
  },
  {
   "cell_type": "markdown",
   "metadata": {},
   "source": [
    "#### Loading properties of the model"
   ]
  },
  {
   "cell_type": "code",
   "execution_count": 6,
   "metadata": {},
   "outputs": [],
   "source": [
    "with open('data/model_multi.pickle') as f:\n",
    "        model_multi = pickle.load(f)"
   ]
  },
  {
   "cell_type": "markdown",
   "metadata": {},
   "source": [
    "#### Loading properties grid"
   ]
  },
  {
   "cell_type": "code",
   "execution_count": 7,
   "metadata": {},
   "outputs": [],
   "source": [
    "with open('data/airborne_survey.pickle') as f:\n",
    "        airborne = pickle.load(f)"
   ]
  },
  {
   "cell_type": "markdown",
   "metadata": {},
   "source": [
    "#### Loading data"
   ]
  },
  {
   "cell_type": "code",
   "execution_count": 8,
   "metadata": {},
   "outputs": [],
   "source": [
    "with open('data/data_set.pickle') as f:\n",
    "        data = pickle.load(f)"
   ]
  },
  {
   "cell_type": "markdown",
   "metadata": {},
   "source": [
    "#### Open a dictionary"
   ]
  },
  {
   "cell_type": "code",
   "execution_count": 9,
   "metadata": {},
   "outputs": [],
   "source": [
    "result_RM_airb = dict()"
   ]
  },
  {
   "cell_type": "markdown",
   "metadata": {},
   "source": [
    "### Saving files"
   ]
  },
  {
   "cell_type": "code",
   "execution_count": 10,
   "metadata": {},
   "outputs": [],
   "source": [
    "saved_files = []"
   ]
  },
  {
   "cell_type": "markdown",
   "metadata": {},
   "source": [
    "## Observation area"
   ]
  },
  {
   "cell_type": "code",
   "execution_count": 11,
   "metadata": {},
   "outputs": [
    {
     "name": "stdout",
     "output_type": "stream",
     "text": [
      "Area limits: \n",
      " x_max = 6000.0 m \n",
      " x_min = -6000.0 m \n",
      " y_max = 6000.0 m \n",
      " y_min = -6000.0 m\n"
     ]
    }
   ],
   "source": [
    "print 'Area limits: \\n x_max = %.1f m \\n x_min = %.1f m \\n y_max = %.1f m \\n y_min = %.1f m' % (airborne['area'][1], \n",
    "                                                                                                airborne['area'][0],\n",
    "                                                                                                airborne['area'][3],\n",
    "                                                                                                airborne['area'][2])"
   ]
  },
  {
   "cell_type": "markdown",
   "metadata": {},
   "source": [
    "### airborne survey information"
   ]
  },
  {
   "cell_type": "code",
   "execution_count": 12,
   "metadata": {},
   "outputs": [
    {
     "name": "stdout",
     "output_type": "stream",
     "text": [
      "Shape : (55,25)\n",
      "Number of data: 1375.0\n",
      "dx: 222.2 m\n",
      "dy: 500.0 m \n"
     ]
    }
   ],
   "source": [
    "print 'Shape : (%.0f,%.0f)'% airborne['shape'] \n",
    "print 'Number of data: %.1f' % airborne['N']\n",
    "print 'dx: %.1f m' % airborne['dx']\n",
    "print 'dy: %.1f m ' % airborne['dy']"
   ]
  },
  {
   "cell_type": "markdown",
   "metadata": {},
   "source": [
    "## Properties of the model"
   ]
  },
  {
   "cell_type": "markdown",
   "metadata": {},
   "source": [
    "### Main field"
   ]
  },
  {
   "cell_type": "code",
   "execution_count": 13,
   "metadata": {},
   "outputs": [],
   "source": [
    "inc_gf,dec_gf = model_multi['main_field']"
   ]
  },
  {
   "cell_type": "code",
   "execution_count": 14,
   "metadata": {},
   "outputs": [
    {
     "name": "stdout",
     "output_type": "stream",
     "text": [
      "Main field inclination: -20.0 degree\n",
      "Main field declination: -20.0 degree\n"
     ]
    }
   ],
   "source": [
    "print'Main field inclination: %.1f degree' % inc_gf\n",
    "print'Main field declination: %.1f degree' % dec_gf"
   ]
  },
  {
   "cell_type": "markdown",
   "metadata": {},
   "source": [
    "### Magnetization direction"
   ]
  },
  {
   "cell_type": "code",
   "execution_count": 15,
   "metadata": {},
   "outputs": [
    {
     "name": "stdout",
     "output_type": "stream",
     "text": [
      "Inclination: -45.0 degree\n",
      "Declination: 50.0 degree\n"
     ]
    }
   ],
   "source": [
    "print 'Inclination: %.1f degree' % model_multi['inc_R']\n",
    "print 'Declination: %.1f degree' % model_multi['dec_R']"
   ]
  },
  {
   "cell_type": "code",
   "execution_count": 16,
   "metadata": {},
   "outputs": [],
   "source": [
    "inc_R,dec_R = model_multi['inc_R'],model_multi['dec_R']"
   ]
  },
  {
   "cell_type": "markdown",
   "metadata": {},
   "source": [
    "## Generating the layer with my function "
   ]
  },
  {
   "cell_type": "code",
   "execution_count": 17,
   "metadata": {},
   "outputs": [],
   "source": [
    "h = 1150."
   ]
  },
  {
   "cell_type": "markdown",
   "metadata": {},
   "source": [
    "#### Generating a layer"
   ]
  },
  {
   "cell_type": "code",
   "execution_count": 18,
   "metadata": {},
   "outputs": [],
   "source": [
    "shape_layer = (airborne['shape'][0],airborne['shape'][1])"
   ]
  },
  {
   "cell_type": "code",
   "execution_count": 19,
   "metadata": {},
   "outputs": [],
   "source": [
    "xs,ys,zs = regular(airborne['area'],shape_layer,h)"
   ]
  },
  {
   "cell_type": "markdown",
   "metadata": {},
   "source": [
    "### Levenberg-Marquardt with NNLS for positive magnetic moments"
   ]
  },
  {
   "cell_type": "code",
   "execution_count": 20,
   "metadata": {},
   "outputs": [],
   "source": [
    "i_pos = 1250"
   ]
  },
  {
   "cell_type": "code",
   "execution_count": 21,
   "metadata": {},
   "outputs": [],
   "source": [
    "it_max = 30"
   ]
  },
  {
   "cell_type": "code",
   "execution_count": 22,
   "metadata": {},
   "outputs": [],
   "source": [
    "it_marq = 15"
   ]
  },
  {
   "cell_type": "code",
   "execution_count": 23,
   "metadata": {},
   "outputs": [],
   "source": [
    "lamb = 10.\n",
    "dlamb = 100."
   ]
  },
  {
   "cell_type": "code",
   "execution_count": 24,
   "metadata": {},
   "outputs": [],
   "source": [
    "eps_e = 1e-4\n",
    "eps_i = 1e-4"
   ]
  },
  {
   "cell_type": "code",
   "execution_count": 25,
   "metadata": {},
   "outputs": [],
   "source": [
    "mu_list = [1e3,1e4,1e5,1e6]"
   ]
  },
  {
   "cell_type": "code",
   "execution_count": 26,
   "metadata": {},
   "outputs": [
    {
     "name": "stdout",
     "output_type": "stream",
     "text": [
      "i = 0\n",
      "-21.3550571003 -12.0760601872\n",
      "i = 1\n",
      "-29.6290748723 -11.6689693647\n",
      "i = 2\n",
      "-35.4838319815 -11.0296273421\n",
      "i = 3\n",
      "-40.2908963658 -10.1273723973\n",
      "i = 4\n",
      "-44.1706724253 -8.9365141803\n",
      "i = 5\n",
      "-47.2159370633 -7.44780742565\n",
      "i = 6\n",
      "-49.6747993327 -5.73859813699\n",
      "i = 7\n",
      "-51.6989118761 -3.79769594579\n",
      "i = 8\n",
      "-53.357352815 -1.67829204621\n",
      "i = 9\n",
      "-54.7478550981 0.636260907759\n",
      "i = 10\n",
      "-55.8809424937 3.14302587992\n",
      "i = 11\n",
      "-56.7733790824 5.81264910386\n",
      "i = 12\n",
      "-57.4397189797 8.60806954197\n",
      "i = 13\n",
      "-57.9021743145 11.4545684041\n",
      "i = 14\n",
      "-58.1807452373 14.3034570281\n",
      "i = 15\n",
      "-58.296962899 17.1059758122\n",
      "i = 16\n",
      "-58.2751760525 19.8057944337\n",
      "i = 17\n",
      "-58.1400191872 22.3590361652\n",
      "i = 18\n",
      "-57.9148554709 24.7427461594\n",
      "i = 19\n",
      "-57.6156597199 26.9662862378\n",
      "i = 20\n",
      "-57.262905604 29.0154868507\n",
      "i = 21\n",
      "-56.8775605867 30.8804924537\n",
      "i = 22\n",
      "-56.476268368 32.5646724722\n",
      "i = 23\n",
      "-56.0708806507 34.0792682174\n",
      "i = 24\n",
      "-55.6674741704 35.435569102\n",
      "i = 25\n",
      "-55.2681266101 36.6495802097\n",
      "i = 26\n",
      "-54.8771438737 37.7331569718\n",
      "i = 27\n",
      "-54.4970424161 38.7041970942\n",
      "i = 28\n",
      "-54.1290337389 39.5797908379\n",
      "i = 29\n",
      "-53.7865342082 40.3464685726\n",
      "i = 30\n",
      "-53.4706078214 41.0155929845\n",
      "i = 31\n",
      "-53.1790533053 41.5999508425\n",
      "i = 32\n",
      "-52.9112953446 42.1103709753\n",
      "i = 33\n",
      "-52.6702774857 42.5521462646\n",
      "i = 34\n",
      "-52.4543141095 42.9350549235\n",
      "i = 35\n",
      "-52.2516266965 43.2807486385\n",
      "i = 36\n",
      "-52.0520102205 43.6079726368\n",
      "i = 37\n",
      "-51.8553059924 43.9187913134\n",
      "i = 38\n",
      "-51.6617373677 44.2141029716\n",
      "i = 39\n",
      "-51.4715383873 44.4947424118\n",
      "i = 40\n",
      "-51.2848127732 44.7617049667\n",
      "i = 41\n",
      "-51.1012366271 45.0161264061\n",
      "i = 42\n",
      "-50.9205061696 45.2587350068\n",
      "i = 43\n",
      "-50.7423678629 45.4902175146\n",
      "i = 44\n",
      "-50.5667189875 45.7120852978\n",
      "i = 45\n",
      "-50.3933544469 45.9251841053\n",
      "i = 46\n",
      "-50.2226498976 46.1303638034\n",
      "i = 47\n",
      "-50.0566217589 46.3281153427\n",
      "i = 48\n",
      "-49.894611766 46.5187756931\n",
      "i = 49\n",
      "-49.7364048414 46.7022180732\n",
      "i = 50\n",
      "-49.5821530165 46.8783566967\n",
      "i = 51\n",
      "-49.5821530165 46.8783566967\n",
      "i = 0\n",
      "-21.355086541 -12.0762287918\n",
      "i = 1\n",
      "-29.6291167707 -11.6692371956\n",
      "i = 2\n",
      "-35.4838831912 -11.0297496173\n",
      "i = 3\n",
      "-40.2910057955 -10.1275015647\n",
      "i = 4\n",
      "-44.1708205258 -8.93644148355\n",
      "i = 5\n",
      "-47.2161287451 -7.44762581081\n",
      "i = 6\n",
      "-49.6751744996 -5.73824308104\n",
      "i = 7\n",
      "-51.699269742 -3.7970389413\n",
      "i = 8\n",
      "-53.3576200986 -1.67730899677\n",
      "i = 9\n",
      "-54.7480652436 0.637491921128\n",
      "i = 10\n",
      "-55.8810859683 3.14449685191\n",
      "i = 11\n",
      "-56.7734905855 5.81417138721\n",
      "i = 12\n",
      "-57.4398366518 8.6096637294\n",
      "i = 13\n",
      "-57.9022807227 11.4561462878\n",
      "i = 14\n",
      "-58.1808435976 14.3051661255\n",
      "i = 15\n",
      "-58.2970258194 17.1078606155\n",
      "i = 16\n",
      "-58.2751843496 19.8077341784\n",
      "i = 17\n",
      "-58.1398635484 22.3610791903\n",
      "i = 18\n",
      "-57.9145969683 24.7447676834\n",
      "i = 19\n",
      "-57.6153574409 26.9681848959\n",
      "i = 20\n",
      "-57.2626053817 29.0172024903\n",
      "i = 21\n",
      "-56.8773251832 30.8820133626\n",
      "i = 22\n",
      "-56.4761108114 32.5660045871\n",
      "i = 23\n",
      "-56.0708581751 34.0803776543\n",
      "i = 24\n",
      "-55.6674999465 35.4365261363\n",
      "i = 25\n",
      "-55.2682511492 36.6504389927\n",
      "i = 26\n",
      "-54.8774058155 37.7339836654\n",
      "i = 27\n",
      "-54.4974336865 38.7049997501\n",
      "i = 28\n",
      "-54.1295496914 39.5805751775\n",
      "i = 29\n",
      "-53.7871724198 40.3472160229\n",
      "i = 30\n",
      "-53.4713593127 41.0163508516\n",
      "i = 31\n",
      "-53.1799279436 41.6007178029\n",
      "i = 32\n",
      "-52.9122916203 42.1111361556\n",
      "i = 33\n",
      "-52.6713920223 42.5529129758\n",
      "i = 34\n",
      "-52.4555477673 42.9358116144\n",
      "i = 35\n",
      "-52.2529948028 43.2814695054\n",
      "i = 36\n",
      "-52.0535152063 43.6086504129\n",
      "i = 37\n",
      "-51.8569503319 43.9194195554\n",
      "i = 38\n",
      "-51.6635228678 44.2146759216\n",
      "i = 39\n",
      "-51.4734636317 44.4952673047\n",
      "i = 40\n",
      "-51.2868797769 44.7621751345\n",
      "i = 41\n",
      "-51.1034480817 45.0165348713\n",
      "i = 42\n",
      "-50.922869902 45.259078674\n",
      "i = 43\n",
      "-50.7448466917 45.4905539164\n",
      "i = 44\n",
      "-50.5693130688 45.7124062277\n",
      "i = 45\n",
      "-50.3960670929 45.925481016\n",
      "i = 46\n",
      "-50.2253359785 46.1306165268\n",
      "i = 47\n",
      "-50.0592885264 46.3283220074\n",
      "i = 48\n",
      "-49.8971803101 46.5189427861\n",
      "i = 49\n",
      "-49.7388916326 46.7023532979\n",
      "i = 50\n",
      "-49.5845708592 46.878460487\n",
      "i = 51\n",
      "-49.5845708592 46.878460487\n",
      "i = 0\n",
      "-21.3566515377 -12.0937258585\n",
      "i = 1\n",
      "-29.6336119057 -11.6973294807\n",
      "i = 2\n",
      "-35.4938836737 -11.0549566251\n",
      "i = 3\n",
      "-40.3064155472 -10.1478874143\n",
      "i = 4\n",
      "-44.1875326984 -8.93297500714\n",
      "i = 5\n",
      "-47.2299725352 -7.43499049476\n",
      "i = 6\n",
      "-49.6945088215 -5.70164437585\n",
      "i = 7\n",
      "-51.719433347 -3.73353246282\n",
      "i = 8\n",
      "-53.3789993027 -1.57591960867\n",
      "i = 9\n",
      "-54.7686366106 0.763550724615\n",
      "i = 10\n",
      "-55.8994168596 3.27541636517\n",
      "i = 11\n",
      "-56.7878615855 5.96218199195\n",
      "i = 12\n",
      "-57.4491756224 8.76016358845\n",
      "i = 13\n",
      "-57.9075065644 11.620626876\n",
      "i = 14\n",
      "-58.1825809317 14.4872639001\n",
      "i = 15\n",
      "-58.2950968152 17.302491882\n",
      "i = 16\n",
      "-58.2690159506 20.008839338\n",
      "i = 17\n",
      "-58.1309097026 22.5605004147\n",
      "i = 18\n",
      "-57.9042259822 24.9392881492\n",
      "i = 19\n",
      "-57.6058614151 27.1531470945\n",
      "i = 20\n",
      "-57.256124111 29.188691157\n",
      "i = 21\n",
      "-56.8769323351 31.0372184056\n",
      "i = 22\n",
      "-56.484107834 32.7033859855\n",
      "i = 23\n",
      "-56.0878990776 34.2008313391\n",
      "i = 24\n",
      "-55.692464612 35.5443012246\n",
      "i = 25\n",
      "-55.3005888525 36.7474355215\n",
      "i = 26\n",
      "-54.9173011871 37.8237604723\n",
      "i = 27\n",
      "-54.5453306042 38.7896641027\n",
      "i = 28\n",
      "-54.1855162938 39.6616493188\n",
      "i = 29\n",
      "-53.8505148199 40.427404899\n",
      "i = 30\n",
      "-53.5427637193 41.0951276836\n",
      "i = 31\n",
      "-53.2609125758 41.6769860035\n",
      "i = 32\n",
      "-53.0030134119 42.1852146274\n",
      "i = 33\n",
      "-52.7716464636 42.6256139718\n",
      "i = 34\n",
      "-52.5653309568 43.0073731833\n",
      "i = 35\n",
      "-52.3741351092 43.349882868\n",
      "i = 36\n",
      "-52.186469479 43.6733068974\n",
      "i = 37\n",
      "-52.0019864838 43.9800839103\n",
      "i = 38\n",
      "-51.8208530801 44.2711645054\n",
      "i = 39\n",
      "-51.6431749472 44.5475819124\n",
      "i = 40\n",
      "-51.4691293145 44.8100799215\n",
      "i = 41\n",
      "-51.298477828 45.0596505726\n",
      "i = 42\n",
      "-51.1311022185 45.2972182311\n",
      "i = 43\n",
      "-50.9663118716 45.5241965138\n",
      "i = 44\n",
      "-50.8031087376 45.7426880719\n",
      "i = 45\n",
      "-50.6414438419 45.9535500455\n",
      "i = 46\n",
      "-50.4815478616 46.1567051676\n",
      "i = 47\n",
      "-50.3236995276 46.3521539991\n",
      "i = 48\n",
      "-50.1681454149 46.5402617591\n",
      "i = 49\n",
      "-50.1681454149 46.5402617591\n",
      "i = 0\n",
      "-21.6818983433 -12.1539680928\n",
      "i = 1\n",
      "-30.0634679591 -11.9748741412\n",
      "i = 2\n",
      "-36.2450744072 -11.082515005\n",
      "i = 3\n",
      "-41.0428443524 -9.62118659329\n",
      "i = 4\n",
      "-44.8896384016 -7.57213004426\n",
      "i = 5\n",
      "-47.9658028623 -5.04292054458\n",
      "i = 6\n",
      "-50.4553052433 -2.12658610458\n",
      "i = 7\n",
      "-52.4642815696 1.06635869947\n",
      "i = 8\n",
      "-54.0570218429 4.43958574207\n",
      "i = 9\n",
      "-55.2765283536 7.9477305697\n",
      "i = 10\n",
      "-56.1686777082 11.507793142\n",
      "i = 11\n",
      "-56.7709807966 15.0036677018\n",
      "i = 12\n",
      "-57.1336335911 18.3370252507\n",
      "i = 13\n",
      "-57.2976828176 21.4797710405\n",
      "i = 14\n",
      "-57.3081624954 24.3811380832\n",
      "i = 15\n",
      "-57.2084232324 27.0148559967\n",
      "i = 16\n",
      "-57.0349301 29.3745849116\n",
      "i = 17\n",
      "-56.8170047751 31.4603097797\n",
      "i = 18\n",
      "-56.5782387968 33.2878633469\n",
      "i = 19\n",
      "-56.3344728787 34.8829022622\n",
      "i = 20\n",
      "-56.0963541124 36.2733370547\n",
      "i = 21\n",
      "-55.8716629434 37.482979168\n",
      "i = 22\n",
      "-55.6612460777 38.5401084048\n",
      "i = 23\n",
      "-55.4671399593 39.4649105816\n",
      "i = 24\n",
      "-55.2898811512 40.2745156525\n",
      "i = 25\n",
      "-55.1273928251 40.9851470773\n",
      "i = 26\n",
      "-54.9740181501 41.6162312008\n",
      "i = 27\n",
      "-54.8242111857 42.184454736\n",
      "i = 28\n",
      "-54.6775938915 42.6986043162\n",
      "i = 29\n",
      "-54.535401973 43.163426742\n",
      "i = 30\n",
      "-54.3979939469 43.5830469571\n",
      "i = 31\n",
      "-54.2651174037 43.9610799829\n",
      "i = 32\n",
      "-54.2651174037 43.9610799829\n"
     ]
    }
   ],
   "source": [
    "mu_norm = []\n",
    "norm_r = []\n",
    "norm_m = []\n",
    "m_est = []\n",
    "incl_est = []\n",
    "decl_est = []\n",
    "phi_list = []\n",
    "for i in mu_list:\n",
    "    m_LM,inc_est,dec_est,phi,imax,pest,incs,decs = fc.levenberg_marquardt_NNLS(\n",
    "        data['tfa_obs_RM_airb'],airborne['x'],airborne['y'],\n",
    "        airborne['z'],xs,ys,zs,inc_gf,dec_gf,-10.,-10.,lamb,dlamb,i_pos,it_max,\n",
    "        it_marq,eps_e,eps_i,i)\n",
    "    G = fc.sensitivity_mag(airborne['x'],airborne['y'],airborne['z'],\n",
    "                       xs,ys,zs,inc_gf,dec_gf,inc_est,dec_est)\n",
    "    tfpred = np.dot(G,m_LM)\n",
    "    r = data['tfa_obs_RM_airb'] - tfpred \n",
    "    \n",
    "    norm_r.append(np.sqrt(np.sum(r*r)))\n",
    "    norm_m.append(np.sqrt(np.sum(m_LM*m_LM)))\n",
    "    m_est.append(m_LM)\n",
    "    incl_est.append(inc_est)\n",
    "    decl_est.append(dec_est)\n",
    "    phi_list.append(phi)"
   ]
  },
  {
   "cell_type": "markdown",
   "metadata": {},
   "source": [
    "## L-curve visualization"
   ]
  },
  {
   "cell_type": "code",
   "execution_count": 27,
   "metadata": {},
   "outputs": [
    {
     "data": {
      "text/plain": [
       "<matplotlib.figure.Figure at 0x7f9c4f932e90>"
      ]
     },
     "metadata": {},
     "output_type": "display_data"
    },
    {
     "data": {
      "image/png": "[encoded data removed]",
      "text/plain": [
       "<matplotlib.figure.Figure at 0x7f9c4f932e50>"
      ]
     },
     "metadata": {},
     "output_type": "display_data"
    }
   ],
   "source": [
    "title_font = 20\n",
    "bottom_font = 18\n",
    "saturation_factor = 1.\n",
    "plt.close('all')\n",
    "plt.figure(figsize=(9,9), tight_layout=True)\n",
    "\n",
    "plt.figure(figsize=(10, 10))\n",
    "plt.loglog(norm_r,norm_m, 'b-')\n",
    "plt.loglog(norm_r,norm_m, 'bo')\n",
    "plt.title('L-curve', fontsize=title_font)\n",
    "plt.xlabel('r_norm', fontsize = title_font)\n",
    "plt.ylabel('m_norm', fontsize = title_font)\n",
    "plt.tick_params(axis='both', which='major', labelsize=15)\n",
    "\n",
    "file_name = 'figs/airborne/Lcurve_RM'\n",
    "plt.savefig(file_name+'.png',dpi=300)\n",
    "saved_files.append(file_name+'.png')\n",
    "\n",
    "plt.savefig(file_name+'.eps',dpi=300)\n",
    "saved_files.append(file_name+'.eps')\n",
    "\n",
    "\n",
    "plt.show()"
   ]
  },
  {
   "cell_type": "markdown",
   "metadata": {},
   "source": [
    "### Results"
   ]
  },
  {
   "cell_type": "code",
   "execution_count": 28,
   "metadata": {},
   "outputs": [],
   "source": [
    "result_RM_airb['magnetic_moment'] = m_est\n",
    "result_RM_airb['inc_est'] = incl_est\n",
    "result_RM_airb['dec_est'] = decl_est\n",
    "result_RM_airb['layer_depth'] = h\n",
    "result_RM_airb['reg_parameter'] = mu_list\n",
    "result_RM_airb['phi'] = phi_list"
   ]
  },
  {
   "cell_type": "markdown",
   "metadata": {},
   "source": [
    "### Generating .pickle file"
   ]
  },
  {
   "cell_type": "code",
   "execution_count": 29,
   "metadata": {},
   "outputs": [],
   "source": [
    "now = datetime.datetime.utcnow().strftime('%d %B %Y %H:%M:%S UTC')\n",
    "result_RM_airb['metadata'] = 'Generated by {name} on {date}'.format(date=now, name=notebook_name)"
   ]
  },
  {
   "cell_type": "code",
   "execution_count": 30,
   "metadata": {},
   "outputs": [],
   "source": [
    "file_name = 'data/result_RM_airb.pickle'\n",
    "with open(file_name, 'w') as f:\n",
    "    pickle.dump(result_RM_airb, f)\n",
    "    \n",
    "saved_files.append(file_name)"
   ]
  },
  {
   "cell_type": "markdown",
   "metadata": {},
   "source": [
    "### Saved files"
   ]
  },
  {
   "cell_type": "code",
   "execution_count": 31,
   "metadata": {},
   "outputs": [
    {
     "name": "stdout",
     "output_type": "stream",
     "text": [
      "1  figs/airborne/Lcurve_RM.png\n",
      "2  figs/airborne/Lcurve_RM.eps\n",
      "3  data/result_RM_airb.pickle\n"
     ]
    }
   ],
   "source": [
    "with open('reports/report_%s.md' % notebook_name[:st.index(notebook_name, '.')], 'w') as q:\n",
    "    q.write('# Saved files \\n')\n",
    "    now = datetime.datetime.utcnow().strftime('%d %B %Y %H:%M:%S UTC')\n",
    "    header = 'Generated by {name} on {date}'.format(date=now, name=notebook_name)\n",
    "    q.write('\\n\\n'+header+'\\n\\n')\n",
    "    for i, sf in enumerate(saved_files):\n",
    "        print '%d  %s' % (i+1,sf)\n",
    "        q.write('*  `%s` \\n' % (sf))"
   ]
  },
  {
   "cell_type": "code",
   "execution_count": null,
   "metadata": {},
   "outputs": [],
   "source": []
  },
  {
   "cell_type": "code",
   "execution_count": null,
   "metadata": {},
   "outputs": [],
   "source": []
  }
 ],
 "metadata": {
  "kernelspec": {
   "display_name": "Python 2",
   "language": "python",
   "name": "python2"
  },
  "language_info": {
   "codemirror_mode": {
    "name": "ipython",
    "version": 2
   },
   "file_extension": ".py",
   "mimetype": "text/x-python",
   "name": "python",
   "nbconvert_exporter": "python",
   "pygments_lexer": "ipython2",
   "version": "2.7.14"
  }
 },
 "nbformat": 4,
 "nbformat_minor": 2
}
