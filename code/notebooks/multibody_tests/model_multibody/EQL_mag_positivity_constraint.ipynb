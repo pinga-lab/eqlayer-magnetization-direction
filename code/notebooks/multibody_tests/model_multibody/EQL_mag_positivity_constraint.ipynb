{
 "cells": [
  {
   "cell_type": "markdown",
   "metadata": {},
   "source": [
    "# Classical Equivalent Layer Magnetic data with positivity constraint"
   ]
  },
  {
   "cell_type": "markdown",
   "metadata": {},
   "source": [
    "This notebook performs a classical equivalent source technique for a set of bodies using the positivity constraint."
   ]
  },
  {
   "cell_type": "markdown",
   "metadata": {},
   "source": [
    "#### Importing libraries"
   ]
  },
  {
   "cell_type": "code",
   "execution_count": null,
   "metadata": {},
   "outputs": [],
   "source": [
    "% matplotlib inline "
   ]
  },
  {
   "cell_type": "code",
   "execution_count": null,
   "metadata": {},
   "outputs": [],
   "source": [
    "import sys\n",
    "import numpy as np\n",
    "import matplotlib.pyplot as plt\n",
    "import cPickle as pickle\n",
    "import datetime\n",
    "\n",
    "from fatiando.gridder import regular\n",
    "from fatiando.utils import ang2vec, vec2ang\n",
    "from fatiando.mesher import Sphere, PointGrid,Prism\n",
    "from fatiando.gravmag import sphere,prism\n",
    "from fatiando.constants import CM, T2NT, G, SI2MGAL"
   ]
  },
  {
   "cell_type": "code",
   "execution_count": null,
   "metadata": {},
   "outputs": [],
   "source": [
    "notebook_name = 'EQL_mag_positivity_constraint.ipynb'"
   ]
  },
  {
   "cell_type": "markdown",
   "metadata": {},
   "source": [
    "### Black background figures"
   ]
  },
  {
   "cell_type": "code",
   "execution_count": null,
   "metadata": {},
   "outputs": [],
   "source": [
    "plt.style.use('classic')"
   ]
  },
  {
   "cell_type": "markdown",
   "metadata": {},
   "source": [
    "#### Importing auxiliary functions"
   ]
  },
  {
   "cell_type": "code",
   "execution_count": null,
   "metadata": {},
   "outputs": [],
   "source": [
    "dir_modules = '../'\n",
    "sys.path.append(dir_modules)"
   ]
  },
  {
   "cell_type": "code",
   "execution_count": null,
   "metadata": {},
   "outputs": [],
   "source": [
    "import eql_functions as func"
   ]
  },
  {
   "cell_type": "code",
   "execution_count": null,
   "metadata": {},
   "outputs": [],
   "source": [
    "import auxiliary_functions as fc"
   ]
  },
  {
   "cell_type": "markdown",
   "metadata": {},
   "source": [
    "#### Loading properties of the model"
   ]
  },
  {
   "cell_type": "code",
   "execution_count": null,
   "metadata": {},
   "outputs": [],
   "source": [
    "with open('../data/model_sphere_remanence.pickle') as f:\n",
    "        model_sphere_remanence = pickle.load(f)"
   ]
  },
  {
   "cell_type": "code",
   "execution_count": null,
   "metadata": {},
   "outputs": [],
   "source": [
    "with open('../data/model_sphere_induced.pickle') as f:\n",
    "        model_sphere_induced = pickle.load(f)"
   ]
  },
  {
   "cell_type": "markdown",
   "metadata": {},
   "source": [
    "#### Loading properties grid"
   ]
  },
  {
   "cell_type": "code",
   "execution_count": null,
   "metadata": {},
   "outputs": [],
   "source": [
    "with open('../data/regular_grid.pickle') as f:\n",
    "        regular_grid = pickle.load(f)"
   ]
  },
  {
   "cell_type": "code",
   "execution_count": null,
   "metadata": {},
   "outputs": [],
   "source": [
    "with open('../data/airborne_survey.pickle') as f:\n",
    "        airborne = pickle.load(f)"
   ]
  },
  {
   "cell_type": "markdown",
   "metadata": {},
   "source": [
    "#### Loading data"
   ]
  },
  {
   "cell_type": "code",
   "execution_count": null,
   "metadata": {},
   "outputs": [],
   "source": [
    "with open('../data/data_set.pickle') as f:\n",
    "        data = pickle.load(f)"
   ]
  },
  {
   "cell_type": "markdown",
   "metadata": {},
   "source": [
    "### Saving files"
   ]
  },
  {
   "cell_type": "code",
   "execution_count": null,
   "metadata": {},
   "outputs": [],
   "source": [
    "saved_files = []"
   ]
  },
  {
   "cell_type": "markdown",
   "metadata": {},
   "source": [
    "## Observation area"
   ]
  },
  {
   "cell_type": "code",
   "execution_count": null,
   "metadata": {},
   "outputs": [],
   "source": [
    "print 'Area limits: \\n x_max = %.1f m \\n x_min = %.1f m \\n y_max = %.1f m \\n y_min = %.1f m' % (regular_grid['area'][1], \n",
    "                                                                                                regular_grid['area'][0],\n",
    "                                                                                                regular_grid['area'][3],\n",
    "                                                                                                regular_grid['area'][2])"
   ]
  },
  {
   "cell_type": "markdown",
   "metadata": {},
   "source": [
    "### Regular grid information"
   ]
  },
  {
   "cell_type": "code",
   "execution_count": null,
   "metadata": {},
   "outputs": [],
   "source": [
    "print 'Shape : (%.0f,%.0f)'% regular_grid['shape'] \n",
    "print 'Number of data: %.1f' % regular_grid['N']\n",
    "print 'dx: %.1f m' % regular_grid['dx']\n",
    "print 'dy: %.1f m ' % regular_grid['dy']"
   ]
  },
  {
   "cell_type": "markdown",
   "metadata": {},
   "source": [
    "### Airborne survey information"
   ]
  },
  {
   "cell_type": "code",
   "execution_count": null,
   "metadata": {},
   "outputs": [],
   "source": [
    "print 'Shape : (%.0f,%.0f)'% airborne['shape'] \n",
    "print 'Number of data: %.1f' % airborne['N'] \n",
    "print 'dx: %.1f m' % airborne['dx']\n",
    "print 'dy: %.1f m ' % airborne['dy']\n",
    "print 'Height: %.1f m' % airborne['z_obs']"
   ]
  },
  {
   "cell_type": "markdown",
   "metadata": {},
   "source": [
    "## Properties of the model"
   ]
  },
  {
   "cell_type": "markdown",
   "metadata": {},
   "source": [
    "### Dimension and coordinate of the center"
   ]
  },
  {
   "cell_type": "code",
   "execution_count": null,
   "metadata": {},
   "outputs": [],
   "source": [
    "print 'Properties Sphere:\\n xc = %.1f m \\n yc = %.1f m \\n zc = %.1f m \\n radius = %.1f m ' %  (model_sphere_remanence['xc'],model_sphere_remanence['yc'],model_sphere_remanence['zc'],model_sphere_remanence['radius'])"
   ]
  },
  {
   "cell_type": "markdown",
   "metadata": {},
   "source": [
    "### Main field"
   ]
  },
  {
   "cell_type": "code",
   "execution_count": null,
   "metadata": {},
   "outputs": [],
   "source": [
    "inc_gf,dec_gf = model_sphere_remanence['main_field']"
   ]
  },
  {
   "cell_type": "code",
   "execution_count": null,
   "metadata": {},
   "outputs": [],
   "source": [
    "print'Main field inclination: %.1f degree' % inc_gf\n",
    "print'Main field declination: %.1f degree' % dec_gf"
   ]
  },
  {
   "cell_type": "markdown",
   "metadata": {},
   "source": [
    "### Magnetization direction"
   ]
  },
  {
   "cell_type": "markdown",
   "metadata": {},
   "source": [
    "#### Remanent direction"
   ]
  },
  {
   "cell_type": "code",
   "execution_count": null,
   "metadata": {},
   "outputs": [],
   "source": [
    "print 'Intensity: %.1f A/m' % model_sphere_remanence['m_R']\n",
    "print 'Inclination: %.1f degree' % model_sphere_remanence['inc_R']\n",
    "print 'Declination: %.1f degree' % model_sphere_remanence['dec_R']"
   ]
  },
  {
   "cell_type": "code",
   "execution_count": null,
   "metadata": {},
   "outputs": [],
   "source": [
    "inc_R,dec_R = model_sphere_remanence['inc_R'],model_sphere_remanence['dec_R']"
   ]
  },
  {
   "cell_type": "markdown",
   "metadata": {},
   "source": [
    "#### Induced direction"
   ]
  },
  {
   "cell_type": "code",
   "execution_count": null,
   "metadata": {},
   "outputs": [],
   "source": [
    "print 'Intensity: %.1f A/m' % model_sphere_induced['m_I']\n",
    "print 'Inclination: %.1f degree' % model_sphere_induced['inc_I']\n",
    "print 'Declination: %.1f degree' % model_sphere_induced['dec_I']"
   ]
  },
  {
   "cell_type": "markdown",
   "metadata": {},
   "source": [
    "## Generating the layer with my function "
   ]
  },
  {
   "cell_type": "code",
   "execution_count": null,
   "metadata": {},
   "outputs": [],
   "source": [
    "h = 120."
   ]
  },
  {
   "cell_type": "markdown",
   "metadata": {},
   "source": [
    "#### Generating a layer"
   ]
  },
  {
   "cell_type": "code",
   "execution_count": null,
   "metadata": {},
   "outputs": [],
   "source": [
    "layer = func.PointGrid(regular_grid['area'],h,regular_grid['shape'])"
   ]
  },
  {
   "cell_type": "code",
   "execution_count": null,
   "metadata": {},
   "outputs": [],
   "source": [
    "xs,ys,zs = regular(regular_grid['area'],regular_grid['shape'],h)"
   ]
  },
  {
   "cell_type": "markdown",
   "metadata": {},
   "source": [
    "## Gauss-Newton Method for estimating a positive layer"
   ]
  },
  {
   "cell_type": "code",
   "execution_count": null,
   "metadata": {},
   "outputs": [],
   "source": [
    "lamb = .1\n",
    "itmax = 30\n",
    "p0 = 1000.*np.ones(regular_grid['Nx']*regular_grid['Ny'])\n",
    "inc0,dec0 = inc_R,dec_R"
   ]
  },
  {
   "cell_type": "code",
   "execution_count": null,
   "metadata": {},
   "outputs": [],
   "source": [
    "m_pos,inc_pos,dec_pos,_,_,_,_,_ = fc.gauss_newton_positivity(data['tfa_obs_sphere_remanence_reg'],\n",
    "                                                            regular_grid['x'],regular_grid['y'],regular_grid['z'],\n",
    "                                                            xs,ys,zs,inc_gf,dec_gf,\n",
    "                                                            p0,inc0,dec0,itmax,lamb)"
   ]
  },
  {
   "cell_type": "code",
   "execution_count": null,
   "metadata": {},
   "outputs": [],
   "source": [
    "print inc_pos"
   ]
  },
  {
   "cell_type": "code",
   "execution_count": null,
   "metadata": {},
   "outputs": [],
   "source": [
    "print dec_pos"
   ]
  },
  {
   "cell_type": "code",
   "execution_count": null,
   "metadata": {},
   "outputs": [],
   "source": [
    "print m_pos"
   ]
  },
  {
   "cell_type": "code",
   "execution_count": null,
   "metadata": {},
   "outputs": [],
   "source": [
    "print np.min(m_pos)"
   ]
  },
  {
   "cell_type": "code",
   "execution_count": null,
   "metadata": {},
   "outputs": [],
   "source": [
    "tf_pred_pos = fc.tfa_layer(regular_grid['x'],regular_grid['y'],regular_grid['z'],\n",
    "                           xs,ys,zs,inc_gf,dec_gf,m_pos,inc_pos,dec_pos)"
   ]
  },
  {
   "cell_type": "markdown",
   "metadata": {},
   "source": [
    "### Calculating residual"
   ]
  },
  {
   "cell_type": "code",
   "execution_count": null,
   "metadata": {},
   "outputs": [],
   "source": [
    "r_pos = data['tfa_obs_sphere_remanence_reg'] - tf_pred_pos"
   ]
  },
  {
   "cell_type": "markdown",
   "metadata": {},
   "source": [
    "#### Parameters for normalized histogram"
   ]
  },
  {
   "cell_type": "code",
   "execution_count": null,
   "metadata": {},
   "outputs": [],
   "source": [
    "r_norm,r_mean,r_std = func.residual(data['tfa_obs_sphere_remanence_reg'],tf_pred_pos)"
   ]
  },
  {
   "cell_type": "markdown",
   "metadata": {},
   "source": [
    "## Comparison between the Model and the Layer with posivity"
   ]
  },
  {
   "cell_type": "code",
   "execution_count": null,
   "metadata": {},
   "outputs": [],
   "source": [
    "title_font = 20\n",
    "bottom_font = 16\n",
    "saturation_factor = 1.\n",
    "plt.close('all')\n",
    "plt.figure(figsize=(19,7), tight_layout=True)\n",
    "\n",
    "ranges = saturation_factor*np.abs([data['tfa_obs_sphere_remanence_reg'].max(), data['tfa_obs_sphere_remanence_reg'].min(),\n",
    "                                   tf_pred_pos.max(), tf_pred_pos.min()]).max()\n",
    "plt.subplot(1,4,1)\n",
    "plt.contourf(regular_grid['y'].reshape(regular_grid['shape']),\n",
    "             regular_grid['x'].reshape(regular_grid['shape']), \n",
    "             data['tfa_obs_sphere_remanence_reg'].reshape(regular_grid['shape']),\n",
    "             20, cmap='Greys',vmin=-ranges, vmax=ranges)\n",
    "plt.colorbar(pad=0.01, aspect=40, shrink=1.0).set_label('nT')\n",
    "plt.xlabel('y (m)', fontsize = title_font)\n",
    "plt.ylabel('x (m)', fontsize = title_font)\n",
    "plt.title('TFA (observed) ', fontsize=title_font)\n",
    "\n",
    "plt.subplot(1,4,2)\n",
    "plt.contourf(regular_grid['y'].reshape(regular_grid['shape']),\n",
    "             regular_grid['x'].reshape(regular_grid['shape']),\n",
    "             tf_pred_pos.reshape(regular_grid['shape']),\n",
    "             20, cmap='Greys',  vmin=-ranges, vmax=ranges)\n",
    "plt.colorbar(pad=0.01, aspect=40, shrink=1.0).set_label('nT')\n",
    "plt.xlabel('y (m)', fontsize = title_font)\n",
    "plt.ylabel('x (m)', fontsize = title_font)\n",
    "plt.title('TFA (Layer)', fontsize=title_font)\n",
    "\n",
    "plt.subplot(1,4,3)\n",
    "plt.contourf(regular_grid['y'].reshape(regular_grid['shape']),\n",
    "             regular_grid['x'].reshape(regular_grid['shape']),\n",
    "             r_pos.reshape(regular_grid['shape']), \n",
    "             20, cmap='Greys',  vmin=-ranges, vmax=ranges)\n",
    "plt.colorbar(pad=0.01, aspect=40, shrink=1.0).set_label('nT')\n",
    "plt.xlabel('y (m)', fontsize = title_font)\n",
    "plt.ylabel('x (m)', fontsize = title_font)\n",
    "plt.title('Residual map', fontsize=title_font)\n",
    "\n",
    "\n",
    "plt.subplot(1,4,4)\n",
    "plt.xlabel('$\\mu$ = %.3f | $\\sigma$ = %.3f nT' % (r_mean, r_std),\n",
    "           fontsize = bottom_font)\n",
    "nbins = int((np.max(r_norm - np.min(r_norm))))\n",
    "plt.hist(r_norm,bins=nbins,normed=True)\n",
    "plt.ylim(0.,1.)\n",
    "plt.xlim(-10., 10.)\n",
    "plt.title('Normalized Histogram',fontsize=title_font)\n",
    "\n",
    "#file_name = 'figs/eqlayer_with_positivity_sphere'\n",
    "#plt.savefig(file_name+'.png',dpi=200)\n",
    "#saved_files.append(file_name+'.png')\n",
    "\n",
    "\n",
    "plt.show()"
   ]
  },
  {
   "cell_type": "markdown",
   "metadata": {},
   "source": [
    "### Magnetic moment within the Layer with positivity constraint"
   ]
  },
  {
   "cell_type": "code",
   "execution_count": null,
   "metadata": {},
   "outputs": [],
   "source": [
    "title_font = 20\n",
    "bottom_font = 16\n",
    "saturation_factor = 1.\n",
    "plt.close('all')\n",
    "plt.figure(figsize=(8,8), tight_layout=True)\n",
    "\n",
    "ranges = saturation_factor*np.abs([m_pos.max(), m_pos.min()]).max()\n",
    "\n",
    "plt.contourf(regular_grid['y'].reshape(regular_grid['shape']),\n",
    "             regular_grid['x'].reshape(regular_grid['shape']), \n",
    "             m_pos.reshape(regular_grid['shape']),\n",
    "             20, cmap='Greys_r',vmin=-ranges, vmax=ranges)\n",
    "plt.colorbar(pad=0.01, aspect=40, shrink=1.0).set_label('$A.m^2$')\n",
    "plt.xlabel('y (m)', fontsize = title_font)\n",
    "plt.ylabel('x (m)', fontsize = title_font)\n",
    "plt.annotate('Magnetic Moment (Layer)', xy = (0.05, 0.93),xycoords = 'axes fraction', fontsize=10)\n",
    "\n",
    "#file_name = 'figs/magnetic_moment_positive'\n",
    "#plt.savefig(file_name+'.png',dpi=200)\n",
    "#saved_files.append(file_name+'.png')\n",
    "\n",
    "plt.show"
   ]
  },
  {
   "cell_type": "code",
   "execution_count": null,
   "metadata": {},
   "outputs": [],
   "source": []
  },
  {
   "cell_type": "code",
   "execution_count": null,
   "metadata": {},
   "outputs": [],
   "source": []
  }
 ],
 "metadata": {
  "kernelspec": {
   "display_name": "Python 2",
   "language": "python",
   "name": "python2"
  },
  "language_info": {
   "codemirror_mode": {
    "name": "ipython",
    "version": 2
   },
   "file_extension": ".py",
   "mimetype": "text/x-python",
   "name": "python",
   "nbconvert_exporter": "python",
   "pygments_lexer": "ipython2",
   "version": "2.7.14"
  }
 },
 "nbformat": 4,
 "nbformat_minor": 2
}
