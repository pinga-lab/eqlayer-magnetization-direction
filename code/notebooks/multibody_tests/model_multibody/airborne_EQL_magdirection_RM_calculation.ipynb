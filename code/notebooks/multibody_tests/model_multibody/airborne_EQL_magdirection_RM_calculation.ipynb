{
 "cells": [
  {
   "cell_type": "markdown",
   "metadata": {},
   "source": [
    "# Equivalent layer technique for estimating total magnetization direction using "
   ]
  },
  {
   "cell_type": "markdown",
   "metadata": {},
   "source": [
    "#### Importing libraries"
   ]
  },
  {
   "cell_type": "code",
   "execution_count": 1,
   "metadata": {},
   "outputs": [],
   "source": [
    "% matplotlib inline "
   ]
  },
  {
   "cell_type": "code",
   "execution_count": 2,
   "metadata": {},
   "outputs": [
    {
     "name": "stderr",
     "output_type": "stream",
     "text": [
      "/home/andrelreis/anaconda2/lib/python2.7/site-packages/fatiando/vis/mpl.py:76: UserWarning: This module will be removed in v0.6. We recommend the use of matplotlib.pyplot module directly. Some of the fatiando specific functions will remain.\n",
      "  \"specific functions will remain.\")\n"
     ]
    }
   ],
   "source": [
    "import sys\n",
    "import numpy as np\n",
    "import matplotlib.pyplot as plt\n",
    "import cPickle as pickle\n",
    "import datetime\n",
    "import timeit\n",
    "import string as st\n",
    "from scipy.optimize import nnls\n",
    "from fatiando.gridder import regular\n",
    "from fatiando.utils import ang2vec, vec2ang\n",
    "from fatiando.mesher import Sphere, PointGrid,Prism\n",
    "from fatiando.gravmag import sphere,prism\n",
    "from fatiando.constants import CM, T2NT, G, SI2MGAL"
   ]
  },
  {
   "cell_type": "code",
   "execution_count": 3,
   "metadata": {},
   "outputs": [],
   "source": [
    "notebook_name = 'airborne_EQL_magdirection_RM_calculation.ipynb'"
   ]
  },
  {
   "cell_type": "markdown",
   "metadata": {},
   "source": [
    "#### Importing auxiliary functions"
   ]
  },
  {
   "cell_type": "code",
   "execution_count": 4,
   "metadata": {},
   "outputs": [],
   "source": [
    "dir_modules = '../../../mypackage'\n",
    "sys.path.append(dir_modules)"
   ]
  },
  {
   "cell_type": "code",
   "execution_count": 5,
   "metadata": {},
   "outputs": [],
   "source": [
    "import auxiliary_functions as fc"
   ]
  },
  {
   "cell_type": "markdown",
   "metadata": {},
   "source": [
    "#### Loading properties of the model"
   ]
  },
  {
   "cell_type": "code",
   "execution_count": 6,
   "metadata": {},
   "outputs": [],
   "source": [
    "with open('data/model_multi.pickle') as f:\n",
    "        model_multi = pickle.load(f)"
   ]
  },
  {
   "cell_type": "markdown",
   "metadata": {},
   "source": [
    "#### Loading properties grid"
   ]
  },
  {
   "cell_type": "code",
   "execution_count": 7,
   "metadata": {},
   "outputs": [],
   "source": [
    "with open('data/airborne_survey.pickle') as f:\n",
    "        airborne = pickle.load(f)"
   ]
  },
  {
   "cell_type": "markdown",
   "metadata": {},
   "source": [
    "#### Loading data"
   ]
  },
  {
   "cell_type": "code",
   "execution_count": 8,
   "metadata": {},
   "outputs": [],
   "source": [
    "with open('data/data_set.pickle') as f:\n",
    "        data = pickle.load(f)"
   ]
  },
  {
   "cell_type": "markdown",
   "metadata": {},
   "source": [
    "#### Open a dictionary"
   ]
  },
  {
   "cell_type": "code",
   "execution_count": 9,
   "metadata": {},
   "outputs": [],
   "source": [
    "result_RM_airb = dict()"
   ]
  },
  {
   "cell_type": "markdown",
   "metadata": {},
   "source": [
    "### Saving files"
   ]
  },
  {
   "cell_type": "code",
   "execution_count": 10,
   "metadata": {},
   "outputs": [],
   "source": [
    "saved_files = []"
   ]
  },
  {
   "cell_type": "markdown",
   "metadata": {},
   "source": [
    "## Observation area"
   ]
  },
  {
   "cell_type": "code",
   "execution_count": 11,
   "metadata": {},
   "outputs": [
    {
     "name": "stdout",
     "output_type": "stream",
     "text": [
      "Area limits: \n",
      " x_max = 6000.0 m \n",
      " x_min = -6000.0 m \n",
      " y_max = 6000.0 m \n",
      " y_min = -6000.0 m\n"
     ]
    }
   ],
   "source": [
    "print 'Area limits: \\n x_max = %.1f m \\n x_min = %.1f m \\n y_max = %.1f m \\n y_min = %.1f m' % (airborne['area'][1], \n",
    "                                                                                                airborne['area'][0],\n",
    "                                                                                                airborne['area'][3],\n",
    "                                                                                                airborne['area'][2])"
   ]
  },
  {
   "cell_type": "markdown",
   "metadata": {},
   "source": [
    "### airborne survey information"
   ]
  },
  {
   "cell_type": "code",
   "execution_count": 12,
   "metadata": {},
   "outputs": [
    {
     "name": "stdout",
     "output_type": "stream",
     "text": [
      "Shape : (50,25)\n",
      "Number of data: 1250.0\n",
      "dx: 244.9 m\n",
      "dy: 500.0 m \n"
     ]
    }
   ],
   "source": [
    "print 'Shape : (%.0f,%.0f)'% airborne['shape'] \n",
    "print 'Number of data: %.1f' % airborne['N']\n",
    "print 'dx: %.1f m' % airborne['dx']\n",
    "print 'dy: %.1f m ' % airborne['dy']"
   ]
  },
  {
   "cell_type": "markdown",
   "metadata": {},
   "source": [
    "## Properties of the model"
   ]
  },
  {
   "cell_type": "markdown",
   "metadata": {},
   "source": [
    "### Main field"
   ]
  },
  {
   "cell_type": "code",
   "execution_count": 13,
   "metadata": {},
   "outputs": [],
   "source": [
    "inc_gf,dec_gf = model_multi['main_field']"
   ]
  },
  {
   "cell_type": "code",
   "execution_count": 14,
   "metadata": {},
   "outputs": [
    {
     "name": "stdout",
     "output_type": "stream",
     "text": [
      "Main field inclination: -20.0 degree\n",
      "Main field declination: -20.0 degree\n"
     ]
    }
   ],
   "source": [
    "print'Main field inclination: %.1f degree' % inc_gf\n",
    "print'Main field declination: %.1f degree' % dec_gf"
   ]
  },
  {
   "cell_type": "markdown",
   "metadata": {},
   "source": [
    "### Magnetization direction"
   ]
  },
  {
   "cell_type": "code",
   "execution_count": 15,
   "metadata": {},
   "outputs": [
    {
     "name": "stdout",
     "output_type": "stream",
     "text": [
      "Intensity: 15.0 A/m\n",
      "Inclination: -45.0 degree\n",
      "Declination: 30.0 degree\n"
     ]
    }
   ],
   "source": [
    "print 'Intensity: %.1f A/m' % model_multi['m_R']\n",
    "print 'Inclination: %.1f degree' % model_multi['inc_R']\n",
    "print 'Declination: %.1f degree' % model_multi['dec_R']"
   ]
  },
  {
   "cell_type": "code",
   "execution_count": 16,
   "metadata": {},
   "outputs": [],
   "source": [
    "inc_R,dec_R = model_multi['inc_R'],model_multi['dec_R']"
   ]
  },
  {
   "cell_type": "markdown",
   "metadata": {},
   "source": [
    "## Generating the layer with my function "
   ]
  },
  {
   "cell_type": "code",
   "execution_count": 17,
   "metadata": {},
   "outputs": [],
   "source": [
    "h = 1150."
   ]
  },
  {
   "cell_type": "markdown",
   "metadata": {},
   "source": [
    "#### Generating a layer"
   ]
  },
  {
   "cell_type": "code",
   "execution_count": 18,
   "metadata": {},
   "outputs": [],
   "source": [
    "shape_layer = (airborne['shape'][0],airborne['shape'][1])"
   ]
  },
  {
   "cell_type": "code",
   "execution_count": 19,
   "metadata": {},
   "outputs": [],
   "source": [
    "xs,ys,zs = regular(airborne['area'],shape_layer,h)"
   ]
  },
  {
   "cell_type": "markdown",
   "metadata": {},
   "source": [
    "### Levenberg-Marquardt with NNLS for positive magnetic moments"
   ]
  },
  {
   "cell_type": "code",
   "execution_count": 20,
   "metadata": {},
   "outputs": [],
   "source": [
    "i_pos = 1500"
   ]
  },
  {
   "cell_type": "code",
   "execution_count": 21,
   "metadata": {},
   "outputs": [],
   "source": [
    "it_max = 30"
   ]
  },
  {
   "cell_type": "code",
   "execution_count": 22,
   "metadata": {},
   "outputs": [],
   "source": [
    "it_marq = 15"
   ]
  },
  {
   "cell_type": "code",
   "execution_count": 23,
   "metadata": {},
   "outputs": [],
   "source": [
    "lamb = 10.\n",
    "dlamb = 100."
   ]
  },
  {
   "cell_type": "code",
   "execution_count": 24,
   "metadata": {},
   "outputs": [],
   "source": [
    "eps_e = 1e-4\n",
    "eps_i = 1e-4"
   ]
  },
  {
   "cell_type": "code",
   "execution_count": 25,
   "metadata": {},
   "outputs": [],
   "source": [
    "mu_list = [1e5]"
   ]
  },
  {
   "cell_type": "code",
   "execution_count": 26,
   "metadata": {},
   "outputs": [
    {
     "name": "stdout",
     "output_type": "stream",
     "text": [
      "i = 0\n",
      "-19.3248057875 -10.7250270852\n",
      "i = 1\n",
      "-25.2077259068 -9.85900522649\n",
      "i = 2\n",
      "-29.4484773065 -8.91927026897\n",
      "i = 3\n",
      "-32.8251144139 -7.88000597737\n",
      "i = 4\n",
      "-35.5927542727 -6.71571739406\n",
      "i = 5\n",
      "-37.8938147164 -5.30935213253\n",
      "i = 6\n",
      "-39.8007076717 -3.72957446974\n",
      "i = 7\n",
      "-41.3850720932 -2.03946082952\n",
      "i = 8\n",
      "-42.6968101726 -0.289691347054\n",
      "i = 9\n",
      "-43.7764654711 1.48658172262\n",
      "i = 10\n",
      "-44.6602043001 3.26093851057\n",
      "i = 11\n",
      "-45.3790064524 4.99867885563\n",
      "i = 12\n",
      "-45.9572947912 6.66944934295\n",
      "i = 13\n",
      "-46.4195539625 8.24765309059\n",
      "i = 14\n",
      "-46.7882092844 9.71683958423\n",
      "i = 15\n",
      "-47.0815668482 11.0712752943\n",
      "i = 16\n",
      "-47.3154834195 12.3115901368\n",
      "i = 17\n",
      "-47.5049731105 13.4272484737\n",
      "i = 18\n",
      "-47.6625713429 14.4202200836\n",
      "i = 19\n",
      "-47.7974479063 15.3013398374\n",
      "i = 20\n",
      "-47.9154139661 16.0823924962\n",
      "i = 21\n",
      "-48.0170573944 16.8111124005\n",
      "i = 22\n",
      "-48.1066039416 17.4901775619\n",
      "i = 23\n",
      "-48.187137678 18.122480938\n",
      "i = 24\n",
      "-48.2605321857 18.7104647114\n",
      "i = 25\n",
      "-48.3286446585 19.2604833791\n",
      "i = 26\n",
      "-48.3922731731 19.7758414745\n",
      "i = 27\n",
      "-48.4524897367 20.2585551248\n",
      "i = 28\n",
      "-48.5103314293 20.7110933437\n",
      "i = 29\n",
      "-48.5665712441 21.1370029133\n",
      "i = 30\n",
      "-48.6204637563 21.5424077138\n",
      "i = 31\n",
      "-48.6722938168 21.9283612154\n",
      "i = 32\n",
      "-48.7219160369 22.2956241779\n",
      "i = 33\n",
      "-48.7699141239 22.6450606223\n",
      "i = 34\n",
      "-48.8151063663 22.9796884031\n",
      "i = 35\n",
      "-48.8564647227 23.300010799\n",
      "i = 36\n",
      "-48.8937478133 23.606690454\n",
      "i = 37\n",
      "-48.9272219264 23.9002482167\n",
      "i = 38\n",
      "-48.9572749856 24.1811310108\n",
      "i = 39\n",
      "-48.9840826739 24.4510987939\n",
      "i = 40\n",
      "-49.0079960462 24.7111371148\n",
      "i = 41\n",
      "-49.0293412564 24.9620293246\n",
      "i = 42\n",
      "-49.0483098349 25.204020971\n",
      "i = 43\n",
      "-49.0650662863 25.4375227042\n",
      "i = 44\n",
      "-49.0796637472 25.6636167436\n",
      "i = 45\n",
      "-49.0922498867 25.8825723645\n",
      "i = 46\n",
      "-49.1029648029 26.0948346781\n",
      "i = 47\n",
      "-49.1119434563 26.3018485366\n",
      "i = 48\n",
      "-49.1191903083 26.5038799851\n",
      "i = 49\n",
      "-49.1247381111 26.7011418373\n",
      "i = 50\n",
      "-49.1287002362 26.8939785097\n",
      "i = 51\n",
      "-49.1311965721 27.0829424522\n",
      "i = 52\n",
      "-49.1323011859 27.2680959778\n",
      "i = 53\n",
      "-49.1320872168 27.4494941891\n",
      "i = 54\n",
      "-49.1305382589 27.6272977546\n",
      "i = 55\n",
      "-49.1277172173 27.8015703746\n",
      "i = 56\n",
      "-49.1236961483 27.972381355\n",
      "i = 57\n",
      "-49.1185548952 28.1398139079\n",
      "i = 58\n",
      "-49.1123462796 28.3039130649\n",
      "i = 59\n",
      "-49.1051202044 28.4647252279\n",
      "i = 60\n",
      "-49.096918691 28.6223460966\n",
      "i = 61\n",
      "-49.0878042167 28.7768614413\n",
      "i = 62\n",
      "-49.0778492618 28.9283303744\n",
      "i = 63\n",
      "-49.0671743545 29.0766817751\n",
      "i = 64\n",
      "-49.055890585 29.2220621431\n",
      "i = 65\n",
      "-49.0440700153 29.3645889714\n",
      "i = 66\n",
      "-49.0317445725 29.5043212633\n",
      "i = 67\n",
      "-49.0189433477 29.6413107745\n",
      "i = 68\n",
      "-49.0057004361 29.7755943773\n",
      "i = 69\n",
      "-48.9920456762 29.907212215\n",
      "i = 70\n",
      "-48.9780049821 30.0362149367\n",
      "i = 71\n",
      "-48.963599126 30.1626419112\n",
      "i = 72\n",
      "-48.9488386869 30.2866724985\n",
      "i = 73\n",
      "-48.9337461217 30.4083515667\n",
      "i = 74\n",
      "-48.9183440066 30.5277340136\n",
      "i = 75\n",
      "-48.902681613 30.6449275104\n",
      "i = 76\n",
      "-48.8868634398 30.7601209814\n",
      "i = 77\n",
      "-48.8709137555 30.8733687016\n",
      "i = 78\n",
      "-48.8548438191 30.9847023371\n",
      "i = 79\n",
      "-48.8386387825 31.0941901195\n",
      "i = 80\n",
      "-48.8222631899 31.2019297315\n",
      "i = 81\n",
      "-48.8057281518 31.3079484858\n",
      "i = 82\n",
      "-48.7890445032 31.4122734237\n",
      "i = 83\n",
      "-48.7722227739 31.5149299456\n",
      "i = 84\n",
      "-48.7552743628 31.6159404144\n",
      "i = 85\n",
      "-48.7382088577 31.7153300961\n",
      "i = 86\n",
      "-48.7210350334 31.8131123686\n",
      "i = 87\n",
      "-48.7037580369 31.909276271\n",
      "i = 88\n",
      "-48.6863860903 32.0039184388\n",
      "i = 89\n",
      "-48.6689235032 32.0971131335\n",
      "i = 90\n",
      "-48.6513790404 32.1888883617\n",
      "i = 91\n",
      "-48.6337605714 32.2792657739\n",
      "i = 92\n",
      "-48.6160755367 32.3682671069\n",
      "i = 93\n",
      "-48.5983312322 32.4559139161\n",
      "i = 94\n",
      "-48.5805349907 32.5422277715\n",
      "i = 95\n",
      "-48.5626941459 32.6272361201\n",
      "i = 96\n",
      "-48.5448714836 32.7108568392\n",
      "i = 97\n",
      "-48.5270737964 32.7931173868\n",
      "i = 98\n",
      "-48.5093056909 32.8740410005\n",
      "i = 99\n",
      "-48.4915703028 32.9536225802\n",
      "i = 100\n",
      "-48.4738720328 33.0318843631\n",
      "i = 101\n",
      "-48.4562151528 33.1088493852\n",
      "i = 102\n",
      "-48.438603752 33.1845402866\n",
      "i = 103\n",
      "-48.421042023 33.2589796477\n",
      "i = 104\n",
      "-48.4035357661 33.3321917711\n",
      "i = 105\n",
      "-48.3860884473 33.404198028\n",
      "i = 106\n",
      "-48.3687033768 33.4750194185\n",
      "i = 107\n",
      "-48.3513845761 33.5446775632\n",
      "i = 108\n",
      "-48.3341277908 33.6131768568\n",
      "i = 109\n",
      "-48.3168909314 33.6804499767\n",
      "i = 110\n",
      "-48.2996795515 33.7465234553\n",
      "i = 111\n",
      "-48.2825034501 33.811427857\n",
      "i = 112\n",
      "-48.2653673944 33.8751851679\n",
      "i = 113\n",
      "-48.2482758401 33.937816785\n",
      "i = 114\n",
      "-48.2312330427 33.9993437169\n",
      "i = 115\n",
      "-48.2142430638 34.0597865892\n",
      "i = 116\n",
      "-48.1972606457 34.1193216088\n",
      "i = 117\n",
      "-48.1802948357 34.177961013\n",
      "i = 118\n",
      "-48.1633496733 34.2357193151\n",
      "i = 119\n",
      "-48.1464307943 34.2926018228\n",
      "i = 120\n",
      "-48.1295432209 34.3486162795\n",
      "i = 121\n",
      "-48.1126905362 34.4037773576\n",
      "i = 122\n",
      "-48.0958760886 34.4581005166\n",
      "i = 123\n",
      "-48.0791031805 34.5115999875\n",
      "i = 124\n",
      "-48.0791031805 34.5115999875\n"
     ]
    }
   ],
   "source": [
    "mu_norm = []\n",
    "norm_r = []\n",
    "norm_m = []\n",
    "m_est = []\n",
    "incl_est = []\n",
    "decl_est = []\n",
    "phi_list = []\n",
    "for i in mu_list:\n",
    "    m_LM,inc_est,dec_est,phi,imax,pest,incs,decs = fc.levenberg_marquardt_NNLS(\n",
    "        data['tfa_obs_RM_airb'],airborne['x'],airborne['y'],\n",
    "        airborne['z'],xs,ys,zs,inc_gf,dec_gf,-10.,-10.,lamb,dlamb,i_pos,it_max,\n",
    "        it_marq,eps_e,eps_i,i)\n",
    "    G = fc.sensitivity_mag(airborne['x'],airborne['y'],airborne['z'],\n",
    "                       xs,ys,zs,inc_gf,dec_gf,inc_est,dec_est)\n",
    "    tfpred = np.dot(G,m_LM)\n",
    "    r = data['tfa_obs_RM_airb'] - tfpred \n",
    "    \n",
    "    norm_r.append(np.sqrt(np.sum(r*r)))\n",
    "    norm_m.append(np.sqrt(np.sum(m_LM*m_LM)))\n",
    "    m_est.append(m_LM)\n",
    "    incl_est.append(inc_est)\n",
    "    decl_est.append(dec_est)\n",
    "    phi_list.append(phi)"
   ]
  },
  {
   "cell_type": "markdown",
   "metadata": {},
   "source": [
    "## L-curve visualization"
   ]
  },
  {
   "cell_type": "code",
   "execution_count": 27,
   "metadata": {},
   "outputs": [
    {
     "data": {
      "text/plain": [
       "<matplotlib.figure.Figure at 0x7f5c3e7bcf50>"
      ]
     },
     "metadata": {},
     "output_type": "display_data"
    },
    {
     "data": {
      "image/png": "[encoded data removed]",
      "text/plain": [
       "<matplotlib.figure.Figure at 0x7f5c3e7bcf10>"
      ]
     },
     "metadata": {},
     "output_type": "display_data"
    }
   ],
   "source": [
    "title_font = 20\n",
    "bottom_font = 18\n",
    "saturation_factor = 1.\n",
    "plt.close('all')\n",
    "plt.figure(figsize=(9,9), tight_layout=True)\n",
    "\n",
    "plt.figure(figsize=(10, 10))\n",
    "plt.loglog(norm_r,norm_m, 'b-')\n",
    "plt.loglog(norm_r,norm_m, 'bo')\n",
    "plt.title('L-curve', fontsize=title_font)\n",
    "plt.xlabel('r_norm', fontsize = title_font)\n",
    "plt.ylabel('m_norm', fontsize = title_font)\n",
    "plt.tick_params(axis='both', which='major', labelsize=15)\n",
    "\n",
    "file_name = 'figs/airborne/Lcurve_RM'\n",
    "plt.savefig(file_name+'.png',dpi=300)\n",
    "saved_files.append(file_name+'.png')\n",
    "\n",
    "plt.savefig(file_name+'.eps',dpi=300)\n",
    "saved_files.append(file_name+'.eps')\n",
    "\n",
    "\n",
    "plt.show()"
   ]
  },
  {
   "cell_type": "markdown",
   "metadata": {},
   "source": [
    "### Results"
   ]
  },
  {
   "cell_type": "code",
   "execution_count": 28,
   "metadata": {},
   "outputs": [],
   "source": [
    "result_RM_airb['magnetic_moment'] = m_est\n",
    "result_RM_airb['inc_est'] = incl_est\n",
    "result_RM_airb['dec_est'] = decl_est\n",
    "result_RM_airb['layer_depth'] = h\n",
    "result_RM_airb['reg_parameter'] = mu_list\n",
    "result_RM_airb['phi'] = phi_list"
   ]
  },
  {
   "cell_type": "markdown",
   "metadata": {},
   "source": [
    "### Generating .pickle file"
   ]
  },
  {
   "cell_type": "code",
   "execution_count": 29,
   "metadata": {},
   "outputs": [],
   "source": [
    "now = datetime.datetime.utcnow().strftime('%d %B %Y %H:%M:%S UTC')\n",
    "result_RM_airb['metadata'] = 'Generated by {name} on {date}'.format(date=now, name=notebook_name)"
   ]
  },
  {
   "cell_type": "code",
   "execution_count": 30,
   "metadata": {},
   "outputs": [],
   "source": [
    "file_name = 'data/result_RM_airb.pickle'\n",
    "with open(file_name, 'w') as f:\n",
    "    pickle.dump(result_RM_airb, f)\n",
    "    \n",
    "saved_files.append(file_name)"
   ]
  },
  {
   "cell_type": "markdown",
   "metadata": {},
   "source": [
    "### Saved files"
   ]
  },
  {
   "cell_type": "code",
   "execution_count": 31,
   "metadata": {},
   "outputs": [
    {
     "name": "stdout",
     "output_type": "stream",
     "text": [
      "1  figs/airborne/Lcurve_RM.png\n",
      "2  figs/airborne/Lcurve_RM.eps\n",
      "3  data/result_RM_airb.pickle\n"
     ]
    }
   ],
   "source": [
    "with open('reports/report_%s.md' % notebook_name[:st.index(notebook_name, '.')], 'w') as q:\n",
    "    q.write('# Saved files \\n')\n",
    "    now = datetime.datetime.utcnow().strftime('%d %B %Y %H:%M:%S UTC')\n",
    "    header = 'Generated by {name} on {date}'.format(date=now, name=notebook_name)\n",
    "    q.write('\\n\\n'+header+'\\n\\n')\n",
    "    for i, sf in enumerate(saved_files):\n",
    "        print '%d  %s' % (i+1,sf)\n",
    "        q.write('*  `%s` \\n' % (sf))"
   ]
  },
  {
   "cell_type": "code",
   "execution_count": null,
   "metadata": {},
   "outputs": [],
   "source": []
  },
  {
   "cell_type": "code",
   "execution_count": null,
   "metadata": {},
   "outputs": [],
   "source": []
  }
 ],
 "metadata": {
  "kernelspec": {
   "display_name": "Python 2",
   "language": "python",
   "name": "python2"
  },
  "language_info": {
   "codemirror_mode": {
    "name": "ipython",
    "version": 2
   },
   "file_extension": ".py",
   "mimetype": "text/x-python",
   "name": "python",
   "nbconvert_exporter": "python",
   "pygments_lexer": "ipython2",
   "version": "2.7.14"
  }
 },
 "nbformat": 4,
 "nbformat_minor": 2
}
