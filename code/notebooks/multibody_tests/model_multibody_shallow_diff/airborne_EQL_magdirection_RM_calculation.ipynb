{
 "cells": [
  {
   "cell_type": "markdown",
   "metadata": {},
   "source": [
    "# Equivalent layer technique for estimating total magnetization direction using "
   ]
  },
  {
   "cell_type": "markdown",
   "metadata": {},
   "source": [
    "#### Importing libraries"
   ]
  },
  {
   "cell_type": "code",
   "execution_count": 1,
   "metadata": {},
   "outputs": [],
   "source": [
    "% matplotlib inline "
   ]
  },
  {
   "cell_type": "code",
   "execution_count": 2,
   "metadata": {},
   "outputs": [
    {
     "name": "stderr",
     "output_type": "stream",
     "text": [
      "/home/andrelreis/anaconda2/lib/python2.7/site-packages/fatiando/vis/mpl.py:76: UserWarning: This module will be removed in v0.6. We recommend the use of matplotlib.pyplot module directly. Some of the fatiando specific functions will remain.\n",
      "  \"specific functions will remain.\")\n"
     ]
    }
   ],
   "source": [
    "import sys\n",
    "import numpy as np\n",
    "import matplotlib.pyplot as plt\n",
    "import cPickle as pickle\n",
    "import datetime\n",
    "import timeit\n",
    "import string as st\n",
    "from scipy.optimize import nnls\n",
    "from fatiando.gridder import regular\n",
    "from fatiando.utils import ang2vec, vec2ang\n",
    "from fatiando.mesher import Sphere, PointGrid,Prism\n",
    "from fatiando.gravmag import sphere,prism\n",
    "from fatiando.constants import CM, T2NT, G, SI2MGAL"
   ]
  },
  {
   "cell_type": "code",
   "execution_count": 3,
   "metadata": {},
   "outputs": [],
   "source": [
    "notebook_name = 'airborne_EQL_magdirection_RM_calculation.ipynb'"
   ]
  },
  {
   "cell_type": "markdown",
   "metadata": {},
   "source": [
    "#### Importing auxiliary functions"
   ]
  },
  {
   "cell_type": "code",
   "execution_count": 4,
   "metadata": {},
   "outputs": [],
   "source": [
    "dir_modules = '../../../mypackage'\n",
    "sys.path.append(dir_modules)"
   ]
  },
  {
   "cell_type": "code",
   "execution_count": 5,
   "metadata": {},
   "outputs": [],
   "source": [
    "import auxiliary_functions as fc"
   ]
  },
  {
   "cell_type": "markdown",
   "metadata": {},
   "source": [
    "#### Loading properties of the model"
   ]
  },
  {
   "cell_type": "code",
   "execution_count": 6,
   "metadata": {},
   "outputs": [],
   "source": [
    "with open('data/model_multi.pickle') as f:\n",
    "        model_multi = pickle.load(f)"
   ]
  },
  {
   "cell_type": "markdown",
   "metadata": {},
   "source": [
    "#### Loading properties grid"
   ]
  },
  {
   "cell_type": "code",
   "execution_count": 7,
   "metadata": {},
   "outputs": [],
   "source": [
    "with open('data/airborne_survey.pickle') as f:\n",
    "        airborne = pickle.load(f)"
   ]
  },
  {
   "cell_type": "markdown",
   "metadata": {},
   "source": [
    "#### Loading data"
   ]
  },
  {
   "cell_type": "code",
   "execution_count": 8,
   "metadata": {},
   "outputs": [],
   "source": [
    "with open('data/data_set.pickle') as f:\n",
    "        data = pickle.load(f)"
   ]
  },
  {
   "cell_type": "markdown",
   "metadata": {},
   "source": [
    "#### Open a dictionary"
   ]
  },
  {
   "cell_type": "code",
   "execution_count": 9,
   "metadata": {},
   "outputs": [],
   "source": [
    "result_RM_airb = dict()"
   ]
  },
  {
   "cell_type": "markdown",
   "metadata": {},
   "source": [
    "### Saving files"
   ]
  },
  {
   "cell_type": "code",
   "execution_count": 10,
   "metadata": {},
   "outputs": [],
   "source": [
    "saved_files = []"
   ]
  },
  {
   "cell_type": "markdown",
   "metadata": {},
   "source": [
    "## Observation area"
   ]
  },
  {
   "cell_type": "code",
   "execution_count": 11,
   "metadata": {},
   "outputs": [
    {
     "name": "stdout",
     "output_type": "stream",
     "text": [
      "Area limits: \n",
      " x_max = 5500.0 m \n",
      " x_min = -6500.0 m \n",
      " y_max = 6500.0 m \n",
      " y_min = -5500.0 m\n"
     ]
    }
   ],
   "source": [
    "print 'Area limits: \\n x_max = %.1f m \\n x_min = %.1f m \\n y_max = %.1f m \\n y_min = %.1f m' % (airborne['area'][1], \n",
    "                                                                                                airborne['area'][0],\n",
    "                                                                                                airborne['area'][3],\n",
    "                                                                                                airborne['area'][2])"
   ]
  },
  {
   "cell_type": "markdown",
   "metadata": {},
   "source": [
    "### airborne survey information"
   ]
  },
  {
   "cell_type": "code",
   "execution_count": 12,
   "metadata": {},
   "outputs": [
    {
     "name": "stdout",
     "output_type": "stream",
     "text": [
      "Shape : (49,25)\n",
      "Number of data: 1225.0\n",
      "dx: 250.0 m\n",
      "dy: 500.0 m \n"
     ]
    }
   ],
   "source": [
    "print 'Shape : (%.0f,%.0f)'% airborne['shape'] \n",
    "print 'Number of data: %.1f' % airborne['N']\n",
    "print 'dx: %.1f m' % airborne['dx']\n",
    "print 'dy: %.1f m ' % airborne['dy']"
   ]
  },
  {
   "cell_type": "markdown",
   "metadata": {},
   "source": [
    "## Properties of the model"
   ]
  },
  {
   "cell_type": "markdown",
   "metadata": {},
   "source": [
    "### Main field"
   ]
  },
  {
   "cell_type": "code",
   "execution_count": 13,
   "metadata": {},
   "outputs": [],
   "source": [
    "inc_gf,dec_gf = model_multi['main_field']"
   ]
  },
  {
   "cell_type": "code",
   "execution_count": 14,
   "metadata": {},
   "outputs": [
    {
     "name": "stdout",
     "output_type": "stream",
     "text": [
      "Main field inclination: -40.0 degree\n",
      "Main field declination: -22.0 degree\n"
     ]
    }
   ],
   "source": [
    "print'Main field inclination: %.1f degree' % inc_gf\n",
    "print'Main field declination: %.1f degree' % dec_gf"
   ]
  },
  {
   "cell_type": "markdown",
   "metadata": {},
   "source": [
    "### Magnetization direction"
   ]
  },
  {
   "cell_type": "code",
   "execution_count": 15,
   "metadata": {},
   "outputs": [
    {
     "name": "stdout",
     "output_type": "stream",
     "text": [
      "Inclination: -25.0 degree\n",
      "Declination: 30.0 degree\n"
     ]
    }
   ],
   "source": [
    "print 'Inclination: %.1f degree' % model_multi['inc_R']\n",
    "print 'Declination: %.1f degree' % model_multi['dec_R']"
   ]
  },
  {
   "cell_type": "code",
   "execution_count": 16,
   "metadata": {},
   "outputs": [],
   "source": [
    "inc_R,dec_R = model_multi['inc_R'],model_multi['dec_R']"
   ]
  },
  {
   "cell_type": "markdown",
   "metadata": {},
   "source": [
    "## Generating the layer with my function "
   ]
  },
  {
   "cell_type": "code",
   "execution_count": 17,
   "metadata": {},
   "outputs": [],
   "source": [
    "h = 1150."
   ]
  },
  {
   "cell_type": "markdown",
   "metadata": {},
   "source": [
    "#### Generating a layer"
   ]
  },
  {
   "cell_type": "code",
   "execution_count": 18,
   "metadata": {},
   "outputs": [],
   "source": [
    "shape_layer = (airborne['shape'][0],airborne['shape'][1])"
   ]
  },
  {
   "cell_type": "code",
   "execution_count": 19,
   "metadata": {},
   "outputs": [],
   "source": [
    "xs,ys,zs = regular(airborne['area'],shape_layer,h)"
   ]
  },
  {
   "cell_type": "markdown",
   "metadata": {},
   "source": [
    "### Levenberg-Marquardt with NNLS for positive magnetic moments"
   ]
  },
  {
   "cell_type": "code",
   "execution_count": 20,
   "metadata": {},
   "outputs": [],
   "source": [
    "i_pos = 1250"
   ]
  },
  {
   "cell_type": "code",
   "execution_count": 21,
   "metadata": {},
   "outputs": [],
   "source": [
    "it_max = 30"
   ]
  },
  {
   "cell_type": "code",
   "execution_count": 22,
   "metadata": {},
   "outputs": [],
   "source": [
    "it_marq = 15"
   ]
  },
  {
   "cell_type": "code",
   "execution_count": 23,
   "metadata": {},
   "outputs": [],
   "source": [
    "lamb = 10.\n",
    "dlamb = 100."
   ]
  },
  {
   "cell_type": "code",
   "execution_count": 24,
   "metadata": {},
   "outputs": [],
   "source": [
    "eps_e = 1e-4\n",
    "eps_i = 1e-4"
   ]
  },
  {
   "cell_type": "code",
   "execution_count": 25,
   "metadata": {},
   "outputs": [],
   "source": [
    "mu_list = [1e2,1e3,1e4,1e5,3.5*1e5,5*1e5,1e6,5*1e6] "
   ]
  },
  {
   "cell_type": "code",
   "execution_count": 26,
   "metadata": {},
   "outputs": [
    {
     "name": "stdout",
     "output_type": "stream",
     "text": [
      "i = 0\n",
      "-15.6648162389 -8.24088181648\n",
      "0.0981341283718\n",
      "i = 1\n",
      "-19.6833360244 -6.20345336687\n",
      "0.0688320315198\n",
      "i = 2\n",
      "-22.6793092743 -4.14800148408\n",
      "0.0474637172609\n",
      "i = 3\n",
      "-24.9376966084 -2.04357344142\n",
      "0.0336423878849\n",
      "i = 4\n",
      "-26.6722150305 0.00422655584683\n",
      "0.0243605054621\n",
      "i = 5\n",
      "-28.0693802121 1.99357242822\n",
      "0.0192887619413\n",
      "i = 6\n",
      "-29.2381046997 3.96504621703\n",
      "0.0166906659087\n",
      "i = 7\n",
      "-30.1898041773 5.88089309965\n",
      "0.014191892125\n",
      "i = 8\n",
      "-30.9206746728 7.76665887111\n",
      "0.0122797086134\n",
      "i = 9\n",
      "-31.4587364169 9.56375872798\n",
      "0.010345504299\n",
      "i = 10\n",
      "-31.8381342049 11.2327396607\n",
      "0.00850623687125\n",
      "i = 11\n",
      "-32.0856530445 12.7435837022\n",
      "0.00676342819413\n",
      "i = 12\n",
      "-32.2202382405 14.1145372609\n",
      "0.00546459837677\n",
      "i = 13\n",
      "-32.2764791782 15.3544634987\n",
      "0.00446170942687\n",
      "i = 14\n",
      "-32.2773435566 16.4691185866\n",
      "0.00363392785994\n",
      "i = 15\n",
      "-32.2382722886 17.4624722201\n",
      "0.00292750704362\n",
      "i = 16\n",
      "-32.172904012 18.3325635393\n",
      "0.00228924007307\n",
      "i = 17\n",
      "-32.0886871316 19.0802369561\n",
      "0.00173005915721\n",
      "i = 18\n",
      "-31.9850775118 19.712803526\n",
      "0.00128252992931\n",
      "i = 19\n",
      "-31.8741778469 20.2446288284\n",
      "0.000941680680683\n",
      "i = 20\n",
      "-31.7640904962 20.689347968\n",
      "0.000683707820568\n",
      "i = 21\n",
      "-31.6614198889 21.0559404166\n",
      "0.000480838718296\n",
      "i = 22\n",
      "-31.5663544856 21.3590722928\n",
      "0.000341301230184\n",
      "i = 23\n",
      "-31.4770227259 21.614276084\n",
      "0.000252229294748\n",
      "i = 24\n",
      "-31.3922951277 21.8309915936\n",
      "0.000190937593226\n",
      "i = 25\n",
      "-31.3130295642 22.0143695109\n",
      "0.000143891498742\n",
      "i = 26\n",
      "-31.2394492435 22.1698774781\n",
      "0.000109072469533\n",
      "i = 27\n",
      "-31.2394492435 22.1698774781\n",
      "0.0\n",
      "i = 0\n",
      "-15.6648164657 -8.24088234715\n",
      "0.0980993076059\n",
      "i = 1\n",
      "-19.6833371336 -6.20345367907\n",
      "0.0688017309899\n",
      "i = 2\n",
      "-22.6793101541 -4.1479993273\n",
      "0.0474401875483\n",
      "i = 3\n",
      "-24.9376982358 -2.04357059017\n",
      "0.0336242615997\n",
      "i = 4\n",
      "-26.6722166674 0.00423044555896\n",
      "0.0243471015271\n",
      "i = 5\n",
      "-28.069382553 1.99357764725\n",
      "0.0192780642759\n",
      "i = 6\n",
      "-29.2381075153 3.96505215352\n",
      "0.0166814332196\n",
      "i = 7\n",
      "-30.1898070218 5.88089916623\n",
      "0.0141839418349\n",
      "i = 8\n",
      "-30.9206779825 7.76666495814\n",
      "0.012272726263\n",
      "i = 9\n",
      "-31.4587396591 9.56376513213\n",
      "0.010339574988\n",
      "i = 10\n",
      "-31.8381372257 11.2327453846\n",
      "0.00850142297113\n",
      "i = 11\n",
      "-32.0856551997 12.7435898078\n",
      "0.00675961757895\n",
      "i = 12\n",
      "-32.2202392098 14.1145444636\n",
      "0.00546153682617\n",
      "i = 13\n",
      "-32.2764796235 15.3544712435\n",
      "0.00445927038914\n",
      "i = 14\n",
      "-32.277343988 16.469125669\n",
      "0.00363197820159\n",
      "i = 15\n",
      "-32.2382728728 17.462478309\n",
      "0.00292592686146\n",
      "i = 16\n",
      "-32.1729053096 18.3325681631\n",
      "0.00228798898814\n",
      "i = 17\n",
      "-32.088688579 19.0802404221\n",
      "0.00172910478665\n",
      "i = 18\n",
      "-31.9850792352 19.7128058886\n",
      "0.00128182142798\n",
      "i = 19\n",
      "-31.8741799731 20.2446300282\n",
      "0.000941155832313\n",
      "i = 20\n",
      "-31.7640931434 20.689348034\n",
      "0.000683323023841\n",
      "i = 21\n",
      "-31.6614229958 21.0559394181\n",
      "0.000480565560063\n",
      "i = 22\n",
      "-31.5663571727 21.3590713984\n",
      "0.000341108891548\n",
      "i = 23\n",
      "-31.4770253182 21.6142750776\n",
      "0.000252086689092\n",
      "i = 24\n",
      "-31.3922976429 21.8309904613\n",
      "0.0001908296434\n",
      "i = 25\n",
      "-31.3130320542 22.0143686908\n",
      "0.000143810743973\n",
      "i = 26\n",
      "-31.2394505042 22.1698772436\n",
      "0.000109012685695\n",
      "i = 27\n",
      "-31.2394505042 22.1698772436\n",
      "0.0\n",
      "i = 0\n",
      "-15.6648386261 -8.24091080141\n",
      "0.097751767081\n",
      "i = 1\n",
      "-19.6834469045 -6.2034563245\n",
      "0.0685011353792\n",
      "i = 2\n",
      "-22.6793961107 -4.14775205683\n",
      "0.0472069566671\n",
      "i = 3\n",
      "-24.9378574395 -2.04325388969\n",
      "0.0334454530222\n",
      "i = 4\n",
      "-26.6723800047 0.00464409551716\n",
      "0.024214573334\n",
      "i = 5\n",
      "-28.0696152643 1.994123664\n",
      "0.0191734876595\n",
      "i = 6\n",
      "-29.2383870953 3.96566961074\n",
      "0.0165906937956\n",
      "i = 7\n",
      "-30.1900882847 5.88152966966\n",
      "0.0141050399504\n",
      "i = 8\n",
      "-30.921004221 7.76729640056\n",
      "0.0122035969286\n",
      "i = 9\n",
      "-31.4590585517 9.56442651124\n",
      "0.0102807919905\n",
      "i = 10\n",
      "-31.838429254 11.2333488641\n",
      "0.00845293688009\n",
      "i = 11\n",
      "-32.0858593922 12.7442316305\n",
      "0.00672176982689\n",
      "i = 12\n",
      "-32.2203244024 14.115292419\n",
      "0.00543166093346\n",
      "i = 13\n",
      "-32.2765120901 15.3552706823\n",
      "0.00443531610674\n",
      "i = 14\n",
      "-32.2773725332 16.4698595625\n",
      "0.00361221736769\n",
      "i = 15\n",
      "-32.2383155597 17.4631114504\n",
      "0.00290968516562\n",
      "i = 16\n",
      "-32.1730164152 18.3330542034\n",
      "0.00227482919832\n",
      "i = 17\n",
      "-32.088815355 19.0806078379\n",
      "0.0017191064531\n",
      "i = 18\n",
      "-31.9852353054 19.7130596115\n",
      "0.00127433812966\n",
      "i = 19\n",
      "-31.8743773977 20.2447660861\n",
      "0.00093553333468\n",
      "i = 20\n",
      "-31.7643434513 20.6893702526\n",
      "0.000679146653353\n",
      "i = 21\n",
      "-31.6617207435 21.0558531829\n",
      "0.000477568745669\n",
      "i = 22\n",
      "-31.5666146643 21.3589930128\n",
      "0.000339241108213\n",
      "i = 23\n",
      "-31.4772741639 21.6141840938\n",
      "0.000250653314555\n",
      "i = 24\n",
      "-31.3925395704 21.8308856483\n",
      "0.00018974153656\n",
      "i = 25\n",
      "-31.3132722132 22.0142938726\n",
      "0.000143037674306\n",
      "i = 26\n",
      "-31.239570052 22.1698591932\n",
      "0.000108560172045\n",
      "i = 27\n",
      "-31.239570052 22.1698591932\n",
      "0.0\n",
      "i = 0\n",
      "-15.6678062023 -8.22751566884\n",
      "0.0945775092914\n",
      "i = 1\n",
      "-19.6933756739 -6.17684251414\n",
      "0.0659151299523\n",
      "i = 2\n",
      "-22.6868915561 -4.09351852628\n",
      "0.0452109294395\n",
      "i = 3\n",
      "-24.9472565926 -1.97996003722\n",
      "0.0319172378201\n",
      "i = 4\n",
      "-26.6838130469 0.0720277579594\n",
      "0.0230901986873\n",
      "i = 5\n",
      "-28.0855488947 2.07319997463\n",
      "0.0184074415017\n",
      "i = 6\n",
      "-29.2581475891 4.05037231117\n",
      "0.0159003155957\n",
      "i = 7\n",
      "-30.2089788396 5.96799649549\n",
      "0.0134419689263\n",
      "i = 8\n",
      "-30.9417063537 7.85243806771\n",
      "0.01160999809\n",
      "i = 9\n",
      "-31.4766292039 9.65157285414\n",
      "0.0097736184313\n",
      "i = 10\n",
      "-31.8507803641 11.3177841629\n",
      "0.0079854542004\n",
      "i = 11\n",
      "-32.0880859692 12.8366676311\n",
      "0.00642701240245\n",
      "i = 12\n",
      "-32.2146675704 14.2145413462\n",
      "0.00520902920119\n",
      "i = 13\n",
      "-32.264964334 15.4550654823\n",
      "0.00422617797892\n",
      "i = 14\n",
      "-32.2624712921 16.5644897786\n",
      "0.00341195369569\n",
      "i = 15\n",
      "-32.2224889108 17.5486537758\n",
      "0.00272492266389\n",
      "i = 16\n",
      "-32.1584791521 18.4067943149\n",
      "0.00211056018402\n",
      "i = 17\n",
      "-32.0761705103 19.1419319637\n",
      "0.00158456249756\n",
      "i = 18\n",
      "-31.9777560466 19.7603846411\n",
      "0.0011580496721\n",
      "i = 19\n",
      "-31.8721616112 20.2800914464\n",
      "0.000847869890049\n",
      "i = 20\n",
      "-31.7654635029 20.7153739793\n",
      "0.000618396226678\n",
      "i = 21\n",
      "-31.6625293653 21.0762664905\n",
      "0.000442916504492\n",
      "i = 22\n",
      "-31.5646610672 21.376995766\n",
      "0.000321537555259\n",
      "i = 23\n",
      "-31.471745388 21.6318377145\n",
      "0.000241734694134\n",
      "i = 24\n",
      "-31.3839634404 21.8479673039\n",
      "0.000182907981727\n",
      "i = 25\n",
      "-31.3020894768 22.0303826889\n",
      "0.000137532420971\n",
      "i = 26\n",
      "-31.2264558011 22.1840140416\n",
      "0.000103264616221\n",
      "i = 27\n",
      "-31.2264558011 22.1840140416\n",
      "0.0\n",
      "i = 0\n",
      "-15.7040210756 -8.20190960433\n",
      "0.0883097833297\n",
      "i = 1\n",
      "-19.7457117906 -6.00237983817\n",
      "0.0613492784397\n",
      "i = 2\n",
      "-22.7401860668 -3.77365016643\n",
      "0.0419595505198\n",
      "i = 3\n",
      "-25.0200851238 -1.5889454726\n",
      "0.0295083398149\n",
      "i = 4\n",
      "-26.8018140993 0.535340736079\n",
      "0.0218833260433\n",
      "i = 5\n",
      "-28.2234148652 2.66755255362\n",
      "0.0179488391844\n",
      "i = 6\n",
      "-29.3819915673 4.72290241481\n",
      "0.014921634905\n",
      "i = 7\n",
      "-30.3121408489 6.7253130304\n",
      "0.0127688643302\n",
      "i = 8\n",
      "-31.0066212467 8.65519488909\n",
      "0.0107207533358\n",
      "i = 9\n",
      "-31.4968898594 10.4786810443\n",
      "0.00890669314655\n",
      "i = 10\n",
      "-31.8177415048 12.150440795\n",
      "0.00716441726896\n",
      "i = 11\n",
      "-32.0063926353 13.6552601475\n",
      "0.00567311475548\n",
      "i = 12\n",
      "-32.09762067 14.9921451532\n",
      "0.0044461646292\n",
      "i = 13\n",
      "-32.1271043563 16.1748927279\n",
      "0.00349539422556\n",
      "i = 14\n",
      "-32.1072749127 17.2173622963\n",
      "0.00274595729607\n",
      "i = 15\n",
      "-32.0532868008 18.1279711302\n",
      "0.00213127166588\n",
      "i = 16\n",
      "-31.9780572199 18.9122446047\n",
      "0.00161440744137\n",
      "i = 17\n",
      "-31.8894027026 19.5849855801\n",
      "0.00121762651196\n",
      "i = 18\n",
      "-31.7896805465 20.146726442\n",
      "0.000878036561185\n",
      "i = 19\n",
      "-31.6869778934 20.6156190961\n",
      "0.000634138227327\n",
      "i = 20\n",
      "-31.5886108302 21.0034533161\n",
      "0.000448707942566\n",
      "i = 21\n",
      "-31.4967021861 21.3247659002\n",
      "0.000318634551134\n",
      "i = 22\n",
      "-31.4114435676 21.5929261387\n",
      "0.00022986907626\n",
      "i = 23\n",
      "-31.3324887475 21.8180781843\n",
      "0.000168231611109\n",
      "i = 24\n",
      "-31.2602925906 22.0070325363\n",
      "0.00012300274004\n",
      "i = 25\n",
      "-31.2602925906 22.0070325363\n",
      "0.0\n",
      "i = 0\n",
      "-15.7662249416 -8.15035539391\n",
      "0.0864204885347\n",
      "i = 1\n",
      "-19.8138278163 -5.89103060691\n",
      "0.0589956528361\n",
      "i = 2\n",
      "-22.8272266502 -3.58459488802\n",
      "0.0406603796327\n",
      "i = 3\n",
      "-25.1331956035 -1.32382642829\n",
      "0.0289356429721\n",
      "i = 4\n",
      "-26.9174794743 0.925400740398\n",
      "0.0218884129363\n",
      "i = 5\n",
      "-28.3403596227 3.13803696244\n",
      "0.0177834007429\n",
      "i = 6\n",
      "-29.4989879323 5.2643928911\n",
      "0.0148111308197\n",
      "i = 7\n",
      "-30.4054961175 7.33805246048\n",
      "0.012617485345\n",
      "i = 8\n",
      "-31.065097853 9.31094229609\n",
      "0.0103917978324\n",
      "i = 9\n",
      "-31.5188013694 11.139933053\n",
      "0.0083857077297\n",
      "i = 10\n",
      "-31.8077409093 12.7917220635\n",
      "0.0065856867853\n",
      "i = 11\n",
      "-31.9746037839 14.2559391203\n",
      "0.00508217426246\n",
      "i = 12\n",
      "-32.0459363205 15.55200231\n",
      "0.0039594240989\n",
      "i = 13\n",
      "-32.0539787371 16.6923133821\n",
      "0.00308521353737\n",
      "i = 14\n",
      "-32.018605143 17.6850988492\n",
      "0.00237135476836\n",
      "i = 15\n",
      "-31.9569590605 18.5409911279\n",
      "0.00179418020082\n",
      "i = 16\n",
      "-31.8787301315 19.2736579346\n",
      "0.00134349826127\n",
      "i = 17\n",
      "-31.7931697634 19.8964358758\n",
      "0.000992804878899\n",
      "i = 18\n",
      "-31.7045642563 20.4181111845\n",
      "0.000714512950806\n",
      "i = 19\n",
      "-31.6158460375 20.8501768136\n",
      "0.000504799022702\n",
      "i = 20\n"
     ]
    },
    {
     "name": "stdout",
     "output_type": "stream",
     "text": [
      "-31.5328015932 21.2066119509\n",
      "0.000352637676482\n",
      "i = 21\n",
      "-31.4569191885 21.4998294465\n",
      "0.000244849874622\n",
      "i = 22\n",
      "-31.3869248083 21.7434979514\n",
      "0.000174046975986\n",
      "i = 23\n",
      "-31.3232624511 21.9463724231\n",
      "0.000124115152065\n",
      "i = 24\n",
      "-31.3232624511 21.9463724231\n",
      "0.0\n",
      "i = 0\n",
      "-16.0445465885 -7.98875310917\n",
      "0.0819714105122\n",
      "i = 1\n",
      "-20.1620307074 -5.60370252548\n",
      "0.0523768510597\n",
      "i = 2\n",
      "-23.2489095168 -3.02808038478\n",
      "0.0374607126114\n",
      "i = 3\n",
      "-25.6432980017 -0.38193346788\n",
      "0.028661893066\n",
      "i = 4\n",
      "-27.5120633284 2.22425702009\n",
      "0.02239694067\n",
      "i = 5\n",
      "-28.9872945597 4.77000387108\n",
      "0.018343293443\n",
      "i = 6\n",
      "-30.0986341988 7.21753721845\n",
      "0.0149060904691\n",
      "i = 7\n",
      "-30.8877274252 9.49312758012\n",
      "0.0116722169778\n",
      "i = 8\n",
      "-31.4028097803 11.5539523408\n",
      "0.00890075848968\n",
      "i = 9\n",
      "-31.7126854317 13.3706427614\n",
      "0.00663930957837\n",
      "i = 10\n",
      "-31.87496704 14.9342819725\n",
      "0.00482970645085\n",
      "i = 11\n",
      "-31.9434277074 16.2659929339\n",
      "0.00349641707543\n",
      "i = 12\n",
      "-31.9532738178 17.3892968392\n",
      "0.00250535141318\n",
      "i = 13\n",
      "-31.9277904222 18.3291976842\n",
      "0.00177476781646\n",
      "i = 14\n",
      "-31.8837342013 19.1096221873\n",
      "0.00124051395183\n",
      "i = 15\n",
      "-31.8319307338 19.7538272463\n",
      "0.000857008769553\n",
      "i = 16\n",
      "-31.7799311799 20.2851271101\n",
      "0.000589980696489\n",
      "i = 17\n",
      "-31.7317509107 20.7301234592\n",
      "0.000417585616162\n",
      "i = 18\n",
      "-31.6871738701 21.1069917933\n",
      "0.000301932539325\n",
      "i = 19\n",
      "-31.6465430531 21.4247565487\n",
      "0.00021627112015\n",
      "i = 20\n",
      "-31.6105815665 21.6933687265\n",
      "0.000155399088793\n",
      "i = 21\n",
      "-31.5793143328 21.9217502153\n",
      "0.000112754599344\n",
      "i = 22\n",
      "-31.5793143328 21.9217502153\n",
      "0.0\n",
      "i = 0\n",
      "-19.687648497 -6.23428494622\n",
      "0.0713981048581\n",
      "i = 1\n",
      "-26.0480406039 -0.915273188965\n",
      "0.050907071635\n",
      "i = 2\n",
      "-30.2637021284 4.70842699344\n",
      "0.0335602093129\n",
      "i = 3\n",
      "-33.0119431447 10.0013413599\n",
      "0.0216938377116\n",
      "i = 4\n",
      "-34.7183195066 14.609932373\n",
      "0.0133914866748\n",
      "i = 5\n",
      "-35.6750949005 18.3754038667\n",
      "0.0077404732347\n",
      "i = 6\n",
      "-36.1650277748 21.2919535787\n",
      "0.00427509249121\n",
      "i = 7\n",
      "-36.3863525115 23.4680640003\n",
      "0.00228148655878\n",
      "i = 8\n",
      "-36.46048597 25.0616797975\n",
      "0.00120226265542\n",
      "i = 9\n",
      "-36.4525206017 26.226911829\n",
      "0.000641869743143\n",
      "i = 10\n",
      "-36.4030567788 27.0729781374\n",
      "0.00034271594624\n",
      "i = 11\n",
      "-36.3354703468 27.6898194951\n",
      "0.000186718092012\n",
      "i = 12\n",
      "-36.2626031776 28.1414155259\n",
      "0.000103723503892\n",
      "i = 13\n",
      "-36.2626031776 28.1414155259\n",
      "0.0\n"
     ]
    }
   ],
   "source": [
    "mu_norm = []\n",
    "norm_r = []\n",
    "norm_m = []\n",
    "m_est = []\n",
    "incl_est = []\n",
    "decl_est = []\n",
    "phi_list = []\n",
    "for i in mu_list:\n",
    "    m_LM,inc_est,dec_est,phi,imax,pest,incs,decs = fc.levenberg_marquardt_NNLS(\n",
    "        data['tfa_obs_RM_airb'],airborne['x'],airborne['y'],\n",
    "        airborne['z'],xs,ys,zs,inc_gf,dec_gf,-10.,-10.,lamb,dlamb,i_pos,it_max,\n",
    "        it_marq,eps_e,eps_i,i)\n",
    "    G = fc.sensitivity_mag(airborne['x'],airborne['y'],airborne['z'],\n",
    "                       xs,ys,zs,inc_gf,dec_gf,inc_est,dec_est)\n",
    "    tfpred = np.dot(G,m_LM)\n",
    "    r = data['tfa_obs_RM_airb'] - tfpred \n",
    "    \n",
    "    norm_r.append(np.sqrt(np.sum(r*r)))\n",
    "    norm_m.append(np.sqrt(np.sum(m_LM*m_LM)))\n",
    "    m_est.append(m_LM)\n",
    "    incl_est.append(inc_est)\n",
    "    decl_est.append(dec_est)\n",
    "    phi_list.append(phi)"
   ]
  },
  {
   "cell_type": "markdown",
   "metadata": {},
   "source": [
    "## L-curve visualization"
   ]
  },
  {
   "cell_type": "code",
   "execution_count": 27,
   "metadata": {},
   "outputs": [
    {
     "data": {
      "text/plain": [
       "<matplotlib.figure.Figure at 0x7f50c7fbcdd0>"
      ]
     },
     "metadata": {},
     "output_type": "display_data"
    },
    {
     "data": {
      "image/png": "[encoded data removed]",
      "text/plain": [
       "<matplotlib.figure.Figure at 0x7f50c7fbcd90>"
      ]
     },
     "metadata": {},
     "output_type": "display_data"
    }
   ],
   "source": [
    "title_font = 20\n",
    "bottom_font = 18\n",
    "saturation_factor = 1.\n",
    "plt.close('all')\n",
    "plt.figure(figsize=(9,9), tight_layout=True)\n",
    "\n",
    "plt.figure(figsize=(10, 10))\n",
    "plt.loglog(norm_r,norm_m, 'b-')\n",
    "plt.loglog(norm_r,norm_m, 'bo')\n",
    "plt.title('L-curve', fontsize=title_font)\n",
    "plt.xlabel('r_norm', fontsize = title_font)\n",
    "plt.ylabel('m_norm', fontsize = title_font)\n",
    "plt.tick_params(axis='both', which='major', labelsize=15)\n",
    "\n",
    "file_name = 'figs/airborne/Lcurve_RM'\n",
    "plt.savefig(file_name+'.png',dpi=300)\n",
    "saved_files.append(file_name+'.png')\n",
    "\n",
    "plt.savefig(file_name+'.eps',dpi=300)\n",
    "saved_files.append(file_name+'.eps')\n",
    "\n",
    "\n",
    "plt.show()"
   ]
  },
  {
   "cell_type": "markdown",
   "metadata": {},
   "source": [
    "### Results"
   ]
  },
  {
   "cell_type": "code",
   "execution_count": 28,
   "metadata": {},
   "outputs": [],
   "source": [
    "result_RM_airb['magnetic_moment'] = m_est\n",
    "result_RM_airb['inc_est'] = incl_est\n",
    "result_RM_airb['dec_est'] = decl_est\n",
    "result_RM_airb['layer_depth'] = h\n",
    "result_RM_airb['reg_parameter'] = mu_list\n",
    "result_RM_airb['phi'] = phi_list"
   ]
  },
  {
   "cell_type": "markdown",
   "metadata": {},
   "source": [
    "### Generating .pickle file"
   ]
  },
  {
   "cell_type": "code",
   "execution_count": 29,
   "metadata": {},
   "outputs": [],
   "source": [
    "now = datetime.datetime.utcnow().strftime('%d %B %Y %H:%M:%S UTC')\n",
    "result_RM_airb['metadata'] = 'Generated by {name} on {date}'.format(date=now, name=notebook_name)"
   ]
  },
  {
   "cell_type": "code",
   "execution_count": 30,
   "metadata": {},
   "outputs": [],
   "source": [
    "file_name = 'data/result_RM_airb.pickle'\n",
    "with open(file_name, 'w') as f:\n",
    "    pickle.dump(result_RM_airb, f)\n",
    "    \n",
    "saved_files.append(file_name)"
   ]
  },
  {
   "cell_type": "markdown",
   "metadata": {},
   "source": [
    "### Saved files"
   ]
  },
  {
   "cell_type": "code",
   "execution_count": 31,
   "metadata": {},
   "outputs": [
    {
     "name": "stdout",
     "output_type": "stream",
     "text": [
      "1  figs/airborne/Lcurve_RM.png\n",
      "2  figs/airborne/Lcurve_RM.eps\n",
      "3  data/result_RM_airb.pickle\n"
     ]
    }
   ],
   "source": [
    "with open('reports/report_%s.md' % notebook_name[:st.index(notebook_name, '.')], 'w') as q:\n",
    "    q.write('# Saved files \\n')\n",
    "    now = datetime.datetime.utcnow().strftime('%d %B %Y %H:%M:%S UTC')\n",
    "    header = 'Generated by {name} on {date}'.format(date=now, name=notebook_name)\n",
    "    q.write('\\n\\n'+header+'\\n\\n')\n",
    "    for i, sf in enumerate(saved_files):\n",
    "        print '%d  %s' % (i+1,sf)\n",
    "        q.write('*  `%s` \\n' % (sf))"
   ]
  },
  {
   "cell_type": "code",
   "execution_count": null,
   "metadata": {},
   "outputs": [],
   "source": []
  },
  {
   "cell_type": "code",
   "execution_count": null,
   "metadata": {},
   "outputs": [],
   "source": []
  }
 ],
 "metadata": {
  "kernelspec": {
   "display_name": "Python 2",
   "language": "python",
   "name": "python2"
  },
  "language_info": {
   "codemirror_mode": {
    "name": "ipython",
    "version": 2
   },
   "file_extension": ".py",
   "mimetype": "text/x-python",
   "name": "python",
   "nbconvert_exporter": "python",
   "pygments_lexer": "ipython2",
   "version": "2.7.14"
  }
 },
 "nbformat": 4,
 "nbformat_minor": 2
}
