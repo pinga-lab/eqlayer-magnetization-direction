{
 "cells": [
  {
   "cell_type": "markdown",
   "metadata": {},
   "source": [
    "# Equivalent layer technique for estimating total magnetization direction using "
   ]
  },
  {
   "cell_type": "markdown",
   "metadata": {},
   "source": [
    "#### Importing libraries"
   ]
  },
  {
   "cell_type": "code",
   "execution_count": 1,
   "metadata": {},
   "outputs": [],
   "source": [
    "% matplotlib inline "
   ]
  },
  {
   "cell_type": "code",
   "execution_count": 2,
   "metadata": {},
   "outputs": [
    {
     "name": "stderr",
     "output_type": "stream",
     "text": [
      "/home/andrelreis/anaconda2/lib/python2.7/site-packages/fatiando/vis/mpl.py:76: UserWarning: This module will be removed in v0.6. We recommend the use of matplotlib.pyplot module directly. Some of the fatiando specific functions will remain.\n",
      "  \"specific functions will remain.\")\n"
     ]
    }
   ],
   "source": [
    "import sys\n",
    "import numpy as np\n",
    "import matplotlib.pyplot as plt\n",
    "import cPickle as pickle\n",
    "import datetime\n",
    "import timeit\n",
    "import string as st\n",
    "from scipy.optimize import nnls\n",
    "from fatiando.gridder import regular\n",
    "from fatiando.utils import ang2vec, vec2ang\n",
    "from fatiando.mesher import Sphere, PointGrid,Prism\n",
    "from fatiando.gravmag import sphere,prism\n",
    "from fatiando.constants import CM, T2NT, G, SI2MGAL"
   ]
  },
  {
   "cell_type": "code",
   "execution_count": 3,
   "metadata": {},
   "outputs": [],
   "source": [
    "notebook_name = 'airborne_EQL_magdirection_RM_calculation.ipynb'"
   ]
  },
  {
   "cell_type": "markdown",
   "metadata": {},
   "source": [
    "#### Importing auxiliary functions"
   ]
  },
  {
   "cell_type": "code",
   "execution_count": 4,
   "metadata": {},
   "outputs": [],
   "source": [
    "dir_modules = '../../../mypackage'\n",
    "sys.path.append(dir_modules)"
   ]
  },
  {
   "cell_type": "code",
   "execution_count": 5,
   "metadata": {},
   "outputs": [],
   "source": [
    "import auxiliary_functions as fc"
   ]
  },
  {
   "cell_type": "markdown",
   "metadata": {},
   "source": [
    "#### Loading properties of the model"
   ]
  },
  {
   "cell_type": "code",
   "execution_count": 6,
   "metadata": {},
   "outputs": [],
   "source": [
    "with open('data/model_multi.pickle') as f:\n",
    "        model_multi = pickle.load(f)"
   ]
  },
  {
   "cell_type": "markdown",
   "metadata": {},
   "source": [
    "#### Loading properties grid"
   ]
  },
  {
   "cell_type": "code",
   "execution_count": 7,
   "metadata": {},
   "outputs": [],
   "source": [
    "with open('data/airborne_survey.pickle') as f:\n",
    "        airborne = pickle.load(f)"
   ]
  },
  {
   "cell_type": "markdown",
   "metadata": {},
   "source": [
    "#### Loading data"
   ]
  },
  {
   "cell_type": "code",
   "execution_count": 8,
   "metadata": {},
   "outputs": [],
   "source": [
    "with open('data/data_set.pickle') as f:\n",
    "        data = pickle.load(f)"
   ]
  },
  {
   "cell_type": "markdown",
   "metadata": {},
   "source": [
    "#### Open a dictionary"
   ]
  },
  {
   "cell_type": "code",
   "execution_count": 9,
   "metadata": {},
   "outputs": [],
   "source": [
    "result_RM_airb = dict()"
   ]
  },
  {
   "cell_type": "markdown",
   "metadata": {},
   "source": [
    "### Saving files"
   ]
  },
  {
   "cell_type": "code",
   "execution_count": 10,
   "metadata": {},
   "outputs": [],
   "source": [
    "saved_files = []"
   ]
  },
  {
   "cell_type": "markdown",
   "metadata": {},
   "source": [
    "## Observation area"
   ]
  },
  {
   "cell_type": "code",
   "execution_count": 11,
   "metadata": {},
   "outputs": [
    {
     "name": "stdout",
     "output_type": "stream",
     "text": [
      "Area limits: \n",
      " x_max = 6000.0 m \n",
      " x_min = -6000.0 m \n",
      " y_max = 6000.0 m \n",
      " y_min = -6000.0 m\n"
     ]
    }
   ],
   "source": [
    "print 'Area limits: \\n x_max = %.1f m \\n x_min = %.1f m \\n y_max = %.1f m \\n y_min = %.1f m' % (airborne['area'][1], \n",
    "                                                                                                airborne['area'][0],\n",
    "                                                                                                airborne['area'][3],\n",
    "                                                                                                airborne['area'][2])"
   ]
  },
  {
   "cell_type": "markdown",
   "metadata": {},
   "source": [
    "### airborne survey information"
   ]
  },
  {
   "cell_type": "code",
   "execution_count": 12,
   "metadata": {},
   "outputs": [
    {
     "name": "stdout",
     "output_type": "stream",
     "text": [
      "Shape : (50,25)\n",
      "Number of data: 1250.0\n",
      "dx: 244.9 m\n",
      "dy: 500.0 m \n"
     ]
    }
   ],
   "source": [
    "print 'Shape : (%.0f,%.0f)'% airborne['shape'] \n",
    "print 'Number of data: %.1f' % airborne['N']\n",
    "print 'dx: %.1f m' % airborne['dx']\n",
    "print 'dy: %.1f m ' % airborne['dy']"
   ]
  },
  {
   "cell_type": "markdown",
   "metadata": {},
   "source": [
    "## Properties of the model"
   ]
  },
  {
   "cell_type": "markdown",
   "metadata": {},
   "source": [
    "### Main field"
   ]
  },
  {
   "cell_type": "code",
   "execution_count": 13,
   "metadata": {},
   "outputs": [],
   "source": [
    "inc_gf,dec_gf = model_multi['main_field']"
   ]
  },
  {
   "cell_type": "code",
   "execution_count": 14,
   "metadata": {},
   "outputs": [
    {
     "name": "stdout",
     "output_type": "stream",
     "text": [
      "Main field inclination: -40.0 degree\n",
      "Main field declination: -20.0 degree\n"
     ]
    }
   ],
   "source": [
    "print'Main field inclination: %.1f degree' % inc_gf\n",
    "print'Main field declination: %.1f degree' % dec_gf"
   ]
  },
  {
   "cell_type": "markdown",
   "metadata": {},
   "source": [
    "### Magnetization direction"
   ]
  },
  {
   "cell_type": "code",
   "execution_count": 15,
   "metadata": {},
   "outputs": [
    {
     "name": "stdout",
     "output_type": "stream",
     "text": [
      "Inclination: 5.0 degree\n",
      "Declination: 5.0 degree\n"
     ]
    }
   ],
   "source": [
    "print 'Inclination: %.1f degree' % model_multi['inc_R']\n",
    "print 'Declination: %.1f degree' % model_multi['dec_R']"
   ]
  },
  {
   "cell_type": "code",
   "execution_count": 16,
   "metadata": {},
   "outputs": [],
   "source": [
    "inc_R,dec_R = model_multi['inc_R'],model_multi['dec_R']"
   ]
  },
  {
   "cell_type": "markdown",
   "metadata": {},
   "source": [
    "## Generating the layer with my function "
   ]
  },
  {
   "cell_type": "code",
   "execution_count": 17,
   "metadata": {},
   "outputs": [],
   "source": [
    "h = 1150."
   ]
  },
  {
   "cell_type": "markdown",
   "metadata": {},
   "source": [
    "#### Generating a layer"
   ]
  },
  {
   "cell_type": "code",
   "execution_count": 18,
   "metadata": {},
   "outputs": [],
   "source": [
    "shape_layer = (airborne['shape'][0],airborne['shape'][1])"
   ]
  },
  {
   "cell_type": "code",
   "execution_count": 19,
   "metadata": {},
   "outputs": [],
   "source": [
    "xs,ys,zs = regular(airborne['area'],shape_layer,h)"
   ]
  },
  {
   "cell_type": "markdown",
   "metadata": {},
   "source": [
    "### Levenberg-Marquardt with NNLS for positive magnetic moments"
   ]
  },
  {
   "cell_type": "code",
   "execution_count": 20,
   "metadata": {},
   "outputs": [],
   "source": [
    "i_pos = 1500"
   ]
  },
  {
   "cell_type": "code",
   "execution_count": 21,
   "metadata": {},
   "outputs": [],
   "source": [
    "it_max = 30"
   ]
  },
  {
   "cell_type": "code",
   "execution_count": 22,
   "metadata": {},
   "outputs": [],
   "source": [
    "it_marq = 15"
   ]
  },
  {
   "cell_type": "code",
   "execution_count": 23,
   "metadata": {},
   "outputs": [],
   "source": [
    "lamb = 10.\n",
    "dlamb = 100."
   ]
  },
  {
   "cell_type": "code",
   "execution_count": 24,
   "metadata": {},
   "outputs": [],
   "source": [
    "eps_e = 1e-4\n",
    "eps_i = 1e-4"
   ]
  },
  {
   "cell_type": "code",
   "execution_count": 25,
   "metadata": {},
   "outputs": [],
   "source": [
    "mu_list = [1e2,1e3,1e4,1e5,5*1e5,1e6,1e7]"
   ]
  },
  {
   "cell_type": "code",
   "execution_count": 26,
   "metadata": {},
   "outputs": [
    {
     "name": "stdout",
     "output_type": "stream",
     "text": [
      "i = 0\n",
      "-8.2428105517 -6.74609572782\n",
      "i = 1\n",
      "-6.04609880321 -3.41063637772\n",
      "i = 2\n",
      "-3.77386720823 -0.555378283543\n",
      "i = 3\n",
      "-1.87754584876 1.50234292158\n",
      "i = 4\n",
      "-0.424433566151 2.90869339261\n",
      "i = 5\n",
      "0.74215485628 3.82822642845\n",
      "i = 6\n",
      "1.68557444219 4.42431651043\n",
      "i = 7\n",
      "2.37022674369 4.82620899384\n",
      "i = 8\n",
      "2.86285823881 5.09725306266\n",
      "i = 9\n",
      "3.17698004948 5.2252364402\n",
      "i = 10\n",
      "3.37921762336 5.28389109401\n",
      "i = 11\n",
      "3.51144765501 5.3091234878\n",
      "i = 12\n",
      "3.599009629 5.31845600889\n",
      "i = 13\n",
      "3.599009629 5.31845600889\n",
      "i = 0\n",
      "-8.2428099913 -6.74609336912\n",
      "i = 1\n",
      "-6.04609790412 -3.41063188755\n",
      "i = 2\n",
      "-3.77386643029 -0.555374509149\n",
      "i = 3\n",
      "-1.87754477749 1.50234591283\n",
      "i = 4\n",
      "-0.42443208148 2.90869564221\n",
      "i = 5\n",
      "0.742156551616 3.82822808297\n",
      "i = 6\n",
      "1.68557498063 4.42431745251\n",
      "i = 7\n",
      "2.37022610318 4.82620924338\n",
      "i = 8\n",
      "2.86285736229 5.09725363024\n",
      "i = 9\n",
      "3.17697943196 5.22523749682\n",
      "i = 10\n",
      "3.37921711328 5.28389228261\n",
      "i = 11\n",
      "3.51144740741 5.30912461331\n",
      "i = 12\n",
      "3.59900952446 5.31845704671\n",
      "i = 13\n",
      "3.59900952446 5.31845704671\n",
      "i = 0\n",
      "-8.2427540471 -6.7458573239\n",
      "i = 1\n",
      "-6.0460083737 -3.4101825106\n",
      "i = 2\n",
      "-3.77378908548 -0.554996080215\n",
      "i = 3\n",
      "-1.87743807991 1.50264581488\n",
      "i = 4\n",
      "-0.424284001386 2.90892102375\n",
      "i = 5\n",
      "0.742325750811 3.82839379698\n",
      "i = 6\n",
      "1.68562959696 4.42441133047\n",
      "i = 7\n",
      "2.37016294345 4.82623466694\n",
      "i = 8\n",
      "2.86277036224 5.0973106395\n",
      "i = 9\n",
      "3.17691810157 5.22534313538\n",
      "i = 10\n",
      "3.37916638753 5.28401104106\n",
      "i = 11\n",
      "3.51142283637 5.30923704962\n",
      "i = 12\n",
      "3.59899920862 5.31856074793\n",
      "i = 13\n",
      "3.59899920862 5.31856074793\n",
      "i = 0\n",
      "-8.23810930358 -6.7222132396\n",
      "i = 1\n",
      "-6.03972118324 -3.36018177111\n",
      "i = 2\n",
      "-3.76728353645 -0.514690198383\n",
      "i = 3\n",
      "-1.86878040611 1.53613715044\n",
      "i = 4\n",
      "-0.409879351621 2.93168780341\n",
      "i = 5\n",
      "0.760079330423 3.84576064598\n",
      "i = 6\n",
      "1.69288824295 4.43200417065\n",
      "i = 7\n",
      "2.36643640015 4.82942673412\n",
      "i = 8\n",
      "2.85840111659 5.10543646409\n",
      "i = 9\n",
      "3.17399198404 5.23652294911\n",
      "i = 10\n",
      "3.37793199671 5.2960536285\n",
      "i = 11\n",
      "3.5120821575 5.32108151646\n",
      "i = 12\n",
      "3.60066193518 5.33010562593\n",
      "i = 13\n",
      "3.60066193518 5.33010562593\n",
      "i = 0\n",
      "-8.15612922571 -6.43806275765\n",
      "i = 1\n",
      "-5.89544760357 -2.92655262562\n",
      "i = 2\n",
      "-3.54396465835 -0.178531216651\n",
      "i = 3\n",
      "-1.61006344058 1.79423883201\n",
      "i = 4\n",
      "-0.106417503855 3.05986224115\n",
      "i = 5\n",
      "1.07648300841 3.93085233714\n",
      "i = 6\n",
      "1.91622350896 4.49006179486\n",
      "i = 7\n",
      "2.50645526397 4.85037367321\n",
      "i = 8\n",
      "2.92620861098 5.06903118721\n",
      "i = 9\n",
      "3.22964303661 5.19859139959\n",
      "i = 10\n",
      "3.4519195695 5.2786077351\n",
      "i = 11\n",
      "3.61110049499 5.32692616969\n",
      "i = 12\n",
      "3.72515501456 5.35670036034\n",
      "i = 13\n",
      "3.80691467893 5.37536547161\n",
      "i = 14\n",
      "3.80691467893 5.37536547161\n",
      "i = 0\n",
      "-7.98204222121 -6.01808245145\n",
      "i = 1\n",
      "-5.45647038385 -2.33114684672\n",
      "i = 2\n",
      "-2.99169721833 0.439415940821\n",
      "i = 3\n",
      "-1.05715778407 2.2272416512\n",
      "i = 4\n",
      "0.438966755946 3.39738517887\n",
      "i = 5\n",
      "1.56023193664 4.15428217038\n",
      "i = 6\n",
      "2.36007941177 4.620964619\n",
      "i = 7\n",
      "2.92866487152 4.90652022312\n",
      "i = 8\n",
      "3.33410351154 5.07615632743\n",
      "i = 9\n",
      "3.62558660378 5.17592059352\n",
      "i = 10\n",
      "3.83486204715 5.22998634413\n",
      "i = 11\n",
      "3.98420535406 5.25823184806\n",
      "i = 12\n",
      "4.09059515825 5.27287182067\n",
      "i = 13\n",
      "4.09059515825 5.27287182067\n",
      "i = 0\n",
      "-5.04926554758 -1.87574602346\n",
      "i = 1\n",
      "-0.960775193231 0.849631504379\n",
      "i = 2\n",
      "2.06088690634 1.98492781228\n",
      "i = 3\n",
      "4.23611495161 2.4026604349\n",
      "i = 4\n",
      "5.93173902236 2.57355966314\n",
      "i = 5\n",
      "7.076439596 2.57122384869\n",
      "i = 6\n",
      "7.85788713609 2.54725717567\n",
      "i = 7\n",
      "8.40367206432 2.52222019745\n",
      "i = 8\n",
      "8.79543080407 2.50287548333\n",
      "i = 9\n",
      "9.07717631868 2.48845042933\n",
      "i = 10\n",
      "9.07717631868 2.48845042933\n"
     ]
    }
   ],
   "source": [
    "mu_norm = []\n",
    "norm_r = []\n",
    "norm_m = []\n",
    "m_est = []\n",
    "incl_est = []\n",
    "decl_est = []\n",
    "phi_list = []\n",
    "for i in mu_list:\n",
    "    m_LM,inc_est,dec_est,phi,imax,pest,incs,decs = fc.levenberg_marquardt_NNLS(\n",
    "        data['tfa_obs_RM_airb'],airborne['x'],airborne['y'],\n",
    "        airborne['z'],xs,ys,zs,inc_gf,dec_gf,-10.,-10.,lamb,dlamb,i_pos,it_max,\n",
    "        it_marq,eps_e,eps_i,i)\n",
    "    G = fc.sensitivity_mag(airborne['x'],airborne['y'],airborne['z'],\n",
    "                       xs,ys,zs,inc_gf,dec_gf,inc_est,dec_est)\n",
    "    tfpred = np.dot(G,m_LM)\n",
    "    r = data['tfa_obs_RM_airb'] - tfpred \n",
    "    \n",
    "    norm_r.append(np.sqrt(np.sum(r*r)))\n",
    "    norm_m.append(np.sqrt(np.sum(m_LM*m_LM)))\n",
    "    m_est.append(m_LM)\n",
    "    incl_est.append(inc_est)\n",
    "    decl_est.append(dec_est)\n",
    "    phi_list.append(phi)"
   ]
  },
  {
   "cell_type": "markdown",
   "metadata": {},
   "source": [
    "## L-curve visualization"
   ]
  },
  {
   "cell_type": "code",
   "execution_count": 27,
   "metadata": {},
   "outputs": [
    {
     "data": {
      "text/plain": [
       "<matplotlib.figure.Figure at 0x7f6661649850>"
      ]
     },
     "metadata": {},
     "output_type": "display_data"
    },
    {
     "data": {
      "image/png": "[encoded data removed]",
      "text/plain": [
       "<matplotlib.figure.Figure at 0x7f6661649810>"
      ]
     },
     "metadata": {},
     "output_type": "display_data"
    }
   ],
   "source": [
    "title_font = 20\n",
    "bottom_font = 18\n",
    "saturation_factor = 1.\n",
    "plt.close('all')\n",
    "plt.figure(figsize=(9,9), tight_layout=True)\n",
    "\n",
    "plt.figure(figsize=(10, 10))\n",
    "plt.loglog(norm_r,norm_m, 'b-')\n",
    "plt.loglog(norm_r,norm_m, 'bo')\n",
    "plt.title('L-curve', fontsize=title_font)\n",
    "plt.xlabel('r_norm', fontsize = title_font)\n",
    "plt.ylabel('m_norm', fontsize = title_font)\n",
    "plt.tick_params(axis='both', which='major', labelsize=15)\n",
    "\n",
    "file_name = 'figs/airborne/Lcurve_RM'\n",
    "plt.savefig(file_name+'.png',dpi=300)\n",
    "saved_files.append(file_name+'.png')\n",
    "\n",
    "plt.savefig(file_name+'.eps',dpi=300)\n",
    "saved_files.append(file_name+'.eps')\n",
    "\n",
    "\n",
    "plt.show()"
   ]
  },
  {
   "cell_type": "markdown",
   "metadata": {},
   "source": [
    "### Results"
   ]
  },
  {
   "cell_type": "code",
   "execution_count": 28,
   "metadata": {},
   "outputs": [],
   "source": [
    "result_RM_airb['magnetic_moment'] = m_est\n",
    "result_RM_airb['inc_est'] = incl_est\n",
    "result_RM_airb['dec_est'] = decl_est\n",
    "result_RM_airb['layer_depth'] = h\n",
    "result_RM_airb['reg_parameter'] = mu_list\n",
    "result_RM_airb['phi'] = phi_list"
   ]
  },
  {
   "cell_type": "markdown",
   "metadata": {},
   "source": [
    "### Generating .pickle file"
   ]
  },
  {
   "cell_type": "code",
   "execution_count": 29,
   "metadata": {},
   "outputs": [],
   "source": [
    "now = datetime.datetime.utcnow().strftime('%d %B %Y %H:%M:%S UTC')\n",
    "result_RM_airb['metadata'] = 'Generated by {name} on {date}'.format(date=now, name=notebook_name)"
   ]
  },
  {
   "cell_type": "code",
   "execution_count": 30,
   "metadata": {},
   "outputs": [],
   "source": [
    "file_name = 'data/result_RM_airb.pickle'\n",
    "with open(file_name, 'w') as f:\n",
    "    pickle.dump(result_RM_airb, f)\n",
    "    \n",
    "saved_files.append(file_name)"
   ]
  },
  {
   "cell_type": "markdown",
   "metadata": {},
   "source": [
    "### Saved files"
   ]
  },
  {
   "cell_type": "code",
   "execution_count": 31,
   "metadata": {},
   "outputs": [
    {
     "name": "stdout",
     "output_type": "stream",
     "text": [
      "1  figs/airborne/Lcurve_RM.png\n",
      "2  figs/airborne/Lcurve_RM.eps\n",
      "3  data/result_RM_airb.pickle\n"
     ]
    }
   ],
   "source": [
    "with open('reports/report_%s.md' % notebook_name[:st.index(notebook_name, '.')], 'w') as q:\n",
    "    q.write('# Saved files \\n')\n",
    "    now = datetime.datetime.utcnow().strftime('%d %B %Y %H:%M:%S UTC')\n",
    "    header = 'Generated by {name} on {date}'.format(date=now, name=notebook_name)\n",
    "    q.write('\\n\\n'+header+'\\n\\n')\n",
    "    for i, sf in enumerate(saved_files):\n",
    "        print '%d  %s' % (i+1,sf)\n",
    "        q.write('*  `%s` \\n' % (sf))"
   ]
  },
  {
   "cell_type": "code",
   "execution_count": null,
   "metadata": {},
   "outputs": [],
   "source": []
  },
  {
   "cell_type": "code",
   "execution_count": null,
   "metadata": {},
   "outputs": [],
   "source": []
  }
 ],
 "metadata": {
  "kernelspec": {
   "display_name": "Python 2",
   "language": "python",
   "name": "python2"
  },
  "language_info": {
   "codemirror_mode": {
    "name": "ipython",
    "version": 2
   },
   "file_extension": ".py",
   "mimetype": "text/x-python",
   "name": "python",
   "nbconvert_exporter": "python",
   "pygments_lexer": "ipython2",
   "version": "2.7.14"
  }
 },
 "nbformat": 4,
 "nbformat_minor": 2
}
