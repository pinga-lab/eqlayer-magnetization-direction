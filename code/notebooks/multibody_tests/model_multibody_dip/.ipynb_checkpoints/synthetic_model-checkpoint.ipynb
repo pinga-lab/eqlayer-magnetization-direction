{
 "cells": [
  {
   "cell_type": "markdown",
   "metadata": {},
   "source": [
    "# Synthetic Model "
   ]
  },
  {
   "cell_type": "markdown",
   "metadata": {},
   "source": [
    "Notebook to generate a set of models."
   ]
  },
  {
   "cell_type": "markdown",
   "metadata": {},
   "source": [
    "#### Import libraries"
   ]
  },
  {
   "cell_type": "code",
   "execution_count": 1,
   "metadata": {},
   "outputs": [
    {
     "name": "stderr",
     "output_type": "stream",
     "text": [
      "/home/andrelreis/anaconda2/lib/python2.7/site-packages/fatiando/vis/mpl.py:76: UserWarning: This module will be removed in v0.6. We recommend the use of matplotlib.pyplot module directly. Some of the fatiando specific functions will remain.\n",
      "  \"specific functions will remain.\")\n"
     ]
    }
   ],
   "source": [
    "from IPython.display import Markdown as md\n",
    "from IPython.display import display as dp\n",
    "import string as st\n",
    "import sys\n",
    "import numpy as np\n",
    "import matplotlib.pyplot as plt\n",
    "import cPickle as pickle\n",
    "import datetime\n",
    "\n",
    "from mpl_toolkits.mplot3d import Axes3D\n",
    "from mpl_toolkits.mplot3d.art3d import Poly3DCollection, Line3DCollection\n",
    "from fatiando.utils import ang2vec, vec2ang\n",
    "from fatiando.mesher import Sphere, Prism, PolygonalPrism\n",
    "from fatiando.gravmag import sphere, prism, polyprism"
   ]
  },
  {
   "cell_type": "code",
   "execution_count": 2,
   "metadata": {},
   "outputs": [],
   "source": [
    "notebook_name = 'synthetic_model.ipynb'"
   ]
  },
  {
   "cell_type": "markdown",
   "metadata": {},
   "source": [
    "#### Importing auxiliary functions"
   ]
  },
  {
   "cell_type": "code",
   "execution_count": 3,
   "metadata": {},
   "outputs": [],
   "source": [
    "dir_modules = '../../mypackage'\n",
    "sys.path.append(dir_modules)"
   ]
  },
  {
   "cell_type": "code",
   "execution_count": 4,
   "metadata": {},
   "outputs": [],
   "source": [
    "import auxiliary_functions as func"
   ]
  },
  {
   "cell_type": "markdown",
   "metadata": {},
   "source": [
    "#### Loading 2D grid properties"
   ]
  },
  {
   "cell_type": "code",
   "execution_count": 5,
   "metadata": {},
   "outputs": [],
   "source": [
    "with open('data/regular_grid.pickle') as f:\n",
    "        regular = pickle.load(f)"
   ]
  },
  {
   "cell_type": "code",
   "execution_count": 6,
   "metadata": {},
   "outputs": [],
   "source": [
    "with open('data/airborne_survey.pickle') as f:\n",
    "        airborne = pickle.load(f)"
   ]
  },
  {
   "cell_type": "markdown",
   "metadata": {},
   "source": [
    "#### List of saved files"
   ]
  },
  {
   "cell_type": "code",
   "execution_count": 7,
   "metadata": {},
   "outputs": [],
   "source": [
    "saved_files = []"
   ]
  },
  {
   "cell_type": "markdown",
   "metadata": {},
   "source": [
    "### Observation area"
   ]
  },
  {
   "cell_type": "code",
   "execution_count": 8,
   "metadata": {},
   "outputs": [
    {
     "name": "stdout",
     "output_type": "stream",
     "text": [
      "Area limits: \n",
      " x_max = 6000.0 m \n",
      " x_min = -6000.0 m \n",
      " y_max = 6000.0 m \n",
      " y_min = -6000.0 m\n"
     ]
    }
   ],
   "source": [
    "print 'Area limits: \\n x_max = %.1f m \\n x_min = %.1f m \\n y_max = %.1f m \\n y_min = %.1f m' % (regular['area'][1], regular['area'][0],regular['area'][3],regular['area'][2])"
   ]
  },
  {
   "cell_type": "markdown",
   "metadata": {},
   "source": [
    "## Regional Field"
   ]
  },
  {
   "cell_type": "code",
   "execution_count": 9,
   "metadata": {},
   "outputs": [],
   "source": [
    "inc_gf , dec_gf = (20.,20.) "
   ]
  },
  {
   "cell_type": "markdown",
   "metadata": {},
   "source": [
    "## Create a model w/ the presence of Remanence Magnetization "
   ]
  },
  {
   "cell_type": "code",
   "execution_count": 10,
   "metadata": {},
   "outputs": [],
   "source": [
    "model_poly_remanent = dict()"
   ]
  },
  {
   "cell_type": "code",
   "execution_count": null,
   "metadata": {},
   "outputs": [],
   "source": []
  },
  {
   "cell_type": "code",
   "execution_count": null,
   "metadata": {},
   "outputs": [],
   "source": [
    "çççççççççççççççççççççççççççççççççççççççççççççççççççççç"
   ]
  },
  {
   "cell_type": "markdown",
   "metadata": {},
   "source": [
    "#### Vertices of a Polygonal prism"
   ]
  },
  {
   "cell_type": "code",
   "execution_count": 11,
   "metadata": {},
   "outputs": [],
   "source": [
    "model_poly_remanent['x_verts'] = [1000.,1000.,300.,0.,-1000.,-1000.,1000.]"
   ]
  },
  {
   "cell_type": "code",
   "execution_count": 12,
   "metadata": {},
   "outputs": [],
   "source": [
    "model_poly_remanent['y_verts'] = [-1000.,0.,300.,2000.,2000.,-1000.,-1000.]"
   ]
  },
  {
   "cell_type": "code",
   "execution_count": 13,
   "metadata": {},
   "outputs": [],
   "source": [
    "model_poly_remanent['z_top'] = 450."
   ]
  },
  {
   "cell_type": "code",
   "execution_count": 14,
   "metadata": {},
   "outputs": [],
   "source": [
    "model_poly_remanent['z_bottom'] = 3000."
   ]
  },
  {
   "cell_type": "code",
   "execution_count": 15,
   "metadata": {},
   "outputs": [],
   "source": [
    "model_poly_remanent['verts'] = zip(model_poly_remanent['x_verts'],\n",
    "                                   model_poly_remanent['y_verts'] )"
   ]
  },
  {
   "cell_type": "markdown",
   "metadata": {},
   "source": [
    "#### Main field"
   ]
  },
  {
   "cell_type": "code",
   "execution_count": 16,
   "metadata": {},
   "outputs": [],
   "source": [
    "model_poly_remanent['main_field'] = (inc_gf,dec_gf)"
   ]
  },
  {
   "cell_type": "markdown",
   "metadata": {},
   "source": [
    "#### Magnetization of a PolyPrism"
   ]
  },
  {
   "cell_type": "code",
   "execution_count": 17,
   "metadata": {},
   "outputs": [],
   "source": [
    "model_poly_remanent['m'] = 8.\n",
    "model_poly_remanent['inc'] = 55.\n",
    "model_poly_remanent['dec'] = 40.\n",
    "\n",
    "mag_tot_R = ang2vec(model_poly_remanent['m'],\n",
    "                  model_poly_remanent['inc'],\n",
    "                  model_poly_remanent['dec'])\n",
    "\n",
    "model_poly_remanent['magnetization'] = mag_tot_R"
   ]
  },
  {
   "cell_type": "code",
   "execution_count": 18,
   "metadata": {},
   "outputs": [],
   "source": [
    "model_poly_remanent['magnetization_sph_coord'] = vec2ang(mag_tot_R)"
   ]
  },
  {
   "cell_type": "markdown",
   "metadata": {},
   "source": [
    "### Creating a polyprism model"
   ]
  },
  {
   "cell_type": "code",
   "execution_count": 19,
   "metadata": {},
   "outputs": [],
   "source": [
    "model_poly_remanent['model'] = [PolygonalPrism(model_poly_remanent['verts'],\n",
    "                                              model_poly_remanent['z_top'],\n",
    "                                              model_poly_remanent['z_bottom'],\n",
    "                                              {'magnetization':mag_tot_R})]"
   ]
  },
  {
   "cell_type": "markdown",
   "metadata": {},
   "source": [
    "#### Generating .pickle file"
   ]
  },
  {
   "cell_type": "code",
   "execution_count": 20,
   "metadata": {},
   "outputs": [],
   "source": [
    "now = datetime.datetime.utcnow().strftime('%d %B %Y %H:%M:%S UTC')\n",
    "model_poly_remanent['metadata'] = 'Generated by {name} on {date}'.format(date=now, name=notebook_name)"
   ]
  },
  {
   "cell_type": "code",
   "execution_count": 21,
   "metadata": {},
   "outputs": [],
   "source": [
    "file_name = 'data/model_poly_remanent.pickle'\n",
    "with open(file_name, 'w') as f:\n",
    "    pickle.dump(model_poly_remanent, f)\n",
    "    \n",
    "saved_files.append(file_name)"
   ]
  },
  {
   "cell_type": "code",
   "execution_count": 22,
   "metadata": {},
   "outputs": [
    {
     "name": "stdout",
     "output_type": "stream",
     "text": [
      "magnetization_sph_coord : [8.0, 55.0, 40.0]\n",
      "dec : 40.0\n",
      "y_verts : [-1000.0, 0.0, 300.0, 2000.0, 2000.0, -1000.0, -1000.0]\n",
      "x_verts : [1000.0, 1000.0, 300.0, 0.0, -1000.0, -1000.0, 1000.0]\n",
      "m : 8.0\n",
      "main_field : (20.0, 20.0)\n",
      "metadata : Generated by synthetic_model.ipynb on 23 March 2019 19:36:12 UTC\n",
      "magnetization : [ 3.51508033  2.94950261  6.55321635]\n",
      "verts : [(1000.0, -1000.0), (1000.0, 0.0), (300.0, 300.0), (0.0, 2000.0), (-1000.0, 2000.0), (-1000.0, -1000.0), (1000.0, -1000.0)]\n",
      "model : [<fatiando.mesher.PolygonalPrism object at 0x7f89af860310>]\n",
      "z_top : 450.0\n",
      "z_bottom : 3000.0\n",
      "inc : 55.0\n"
     ]
    }
   ],
   "source": [
    "for r in model_poly_remanent:\n",
    "    print r, ':', model_poly_remanent[r]"
   ]
  },
  {
   "cell_type": "markdown",
   "metadata": {},
   "source": [
    "## Create a simple model w/ Induced Magnetization in a Polyprism"
   ]
  },
  {
   "cell_type": "code",
   "execution_count": 23,
   "metadata": {},
   "outputs": [],
   "source": [
    "model_poly_induced = dict()"
   ]
  },
  {
   "cell_type": "markdown",
   "metadata": {},
   "source": [
    "### Main field"
   ]
  },
  {
   "cell_type": "code",
   "execution_count": 24,
   "metadata": {},
   "outputs": [],
   "source": [
    "model_poly_induced['main_field'] = (inc_gf,dec_gf)"
   ]
  },
  {
   "cell_type": "markdown",
   "metadata": {},
   "source": [
    "#### Vertices of a Polygonal prism"
   ]
  },
  {
   "cell_type": "code",
   "execution_count": 25,
   "metadata": {},
   "outputs": [],
   "source": [
    "model_poly_induced['x_verts'] = [1000.,1000.,300.,0.,-1000.,-1000.,1000.]"
   ]
  },
  {
   "cell_type": "code",
   "execution_count": 26,
   "metadata": {},
   "outputs": [],
   "source": [
    "model_poly_induced['y_verts'] = [-1000.,0.,300.,2000.,2000.,-1000.,-1000.]"
   ]
  },
  {
   "cell_type": "code",
   "execution_count": 27,
   "metadata": {},
   "outputs": [],
   "source": [
    "model_poly_induced['z_top'] = 450."
   ]
  },
  {
   "cell_type": "code",
   "execution_count": 28,
   "metadata": {},
   "outputs": [],
   "source": [
    "model_poly_induced['z_bottom'] = 3000."
   ]
  },
  {
   "cell_type": "code",
   "execution_count": 29,
   "metadata": {},
   "outputs": [],
   "source": [
    "model_poly_induced['verts'] = zip(model_poly_induced['x_verts'],\n",
    "                                   model_poly_induced['y_verts'] )"
   ]
  },
  {
   "cell_type": "markdown",
   "metadata": {},
   "source": [
    "### Magnetization direction"
   ]
  },
  {
   "cell_type": "code",
   "execution_count": 30,
   "metadata": {},
   "outputs": [],
   "source": [
    "model_poly_induced['m'] = 8.\n",
    "model_poly_induced['inc'] = inc_gf\n",
    "model_poly_induced['dec'] = dec_gf\n",
    "\n",
    "mag_tot_I = ang2vec(model_poly_induced['m'],\n",
    "                    model_poly_induced['inc'],\n",
    "                    model_poly_induced['dec'])\n",
    "\n",
    "model_poly_induced['magnetization'] = mag_tot_I"
   ]
  },
  {
   "cell_type": "code",
   "execution_count": 31,
   "metadata": {},
   "outputs": [],
   "source": [
    "model_poly_induced['magnetization_sph_coord'] = vec2ang(mag_tot_I)"
   ]
  },
  {
   "cell_type": "markdown",
   "metadata": {},
   "source": [
    "#### Creating the model"
   ]
  },
  {
   "cell_type": "code",
   "execution_count": 32,
   "metadata": {},
   "outputs": [],
   "source": [
    "model_poly_induced['model'] = [PolygonalPrism(model_poly_induced['verts'],\n",
    "                                              model_poly_induced['z_top'],\n",
    "                                              model_poly_induced['z_bottom'],\n",
    "                                              {'magnetization':mag_tot_I})]"
   ]
  },
  {
   "cell_type": "markdown",
   "metadata": {},
   "source": [
    "#### Generating a .pickle file"
   ]
  },
  {
   "cell_type": "code",
   "execution_count": 33,
   "metadata": {},
   "outputs": [],
   "source": [
    "now = datetime.datetime.utcnow().strftime('%d %B %Y %H:%M:%S UTC')\n",
    "model_poly_induced['metadata'] = 'Generated by {name} on {date}'.format(date=now, name=notebook_name)"
   ]
  },
  {
   "cell_type": "code",
   "execution_count": 34,
   "metadata": {},
   "outputs": [],
   "source": [
    "file_name = 'data/model_poly_induced.pickle'\n",
    "with open(file_name, 'w') as f:\n",
    "    pickle.dump(model_poly_induced, f)\n",
    "    \n",
    "saved_files.append(file_name)"
   ]
  },
  {
   "cell_type": "code",
   "execution_count": 35,
   "metadata": {},
   "outputs": [
    {
     "name": "stdout",
     "output_type": "stream",
     "text": [
      "magnetization_sph_coord : [8.0, 20.0, 20.0]\n",
      "dec : 20.0\n",
      "y_verts : [-1000.0, 0.0, 300.0, 2000.0, 2000.0, -1000.0, -1000.0]\n",
      "x_verts : [1000.0, 1000.0, 300.0, 0.0, -1000.0, -1000.0, 1000.0]\n",
      "m : 8.0\n",
      "main_field : (20.0, 20.0)\n",
      "metadata : Generated by synthetic_model.ipynb on 23 March 2019 19:36:13 UTC\n",
      "magnetization : [ 7.06417777  2.57115044  2.73616115]\n",
      "verts : [(1000.0, -1000.0), (1000.0, 0.0), (300.0, 300.0), (0.0, 2000.0), (-1000.0, 2000.0), (-1000.0, -1000.0), (1000.0, -1000.0)]\n",
      "model : [<fatiando.mesher.PolygonalPrism object at 0x7f89af860210>]\n",
      "z_top : 450.0\n",
      "z_bottom : 3000.0\n",
      "inc : 20.0\n"
     ]
    }
   ],
   "source": [
    "for r in model_poly_induced:\n",
    "    print r, ':', model_poly_induced[r]"
   ]
  },
  {
   "cell_type": "markdown",
   "metadata": {},
   "source": [
    "## Visualization of prism limits"
   ]
  },
  {
   "cell_type": "code",
   "execution_count": 36,
   "metadata": {},
   "outputs": [
    {
     "name": "stderr",
     "output_type": "stream",
     "text": [
      "/home/andrelreis/anaconda2/lib/python2.7/site-packages/matplotlib/figure.py:1744: UserWarning: This figure includes Axes that are not compatible with tight_layout, so its results might be incorrect.\n",
      "  warnings.warn(\"This figure includes Axes that are not \"\n"
     ]
    },
    {
     "data": {
      "image/png": "[encoded data removed]",
      "text/plain": [
       "<matplotlib.figure.Figure at 0x7f89af86a290>"
      ]
     },
     "metadata": {},
     "output_type": "display_data"
    }
   ],
   "source": [
    "title_font = 20\n",
    "bottom_font = 18\n",
    "saturation_factor = 1.\n",
    "plt.close('all')\n",
    "plt.figure(figsize=(9,9), tight_layout=True)\n",
    "\n",
    "plt.title('Prism Bounds',fontsize=title_font)\n",
    "plt.plot(model_poly_remanent['y_verts'], model_poly_remanent['x_verts'],\n",
    "         color='k',linestyle='-',linewidth=2)\n",
    "#plt.plot(airborne['y'], airborne['x'],'k.')\n",
    "plt.xlabel('y (m)', fontsize = title_font)\n",
    "plt.ylabel('x (m)', fontsize = title_font)\n",
    "plt.ylim(np.min(regular['x']),np.max(regular['x']))\n",
    "plt.xlim(np.min(regular['y']),np.max(regular['y']))\n",
    "plt.tick_params(labelsize=15)\n",
    "\n",
    "file_name = 'figs/prism_bound'\n",
    "plt.savefig(file_name+'.png',dpi=200)\n",
    "saved_files.append(file_name+'.png')\n",
    "\n",
    "plt.savefig(file_name+'.eps',dpi=200)\n",
    "saved_files.append(file_name+'.eps')\n",
    "\n",
    "\n",
    "plt.show()"
   ]
  },
  {
   "cell_type": "markdown",
   "metadata": {},
   "source": [
    "## 3D visualization"
   ]
  },
  {
   "cell_type": "code",
   "execution_count": 37,
   "metadata": {},
   "outputs": [],
   "source": [
    "x_verts = 1e-3*np.array(model_poly_remanent['x_verts'])\n",
    "y_verts = 1e-3*np.array(model_poly_remanent['y_verts'])\n",
    "z_top = 1e-3*model_poly_remanent['z_top']*np.ones_like(model_poly_remanent['x_verts'])\n",
    "z_bottom = 1e-3*model_poly_remanent['z_bottom']*np.ones_like(model_poly_remanent['x_verts'])"
   ]
  },
  {
   "cell_type": "code",
   "execution_count": 38,
   "metadata": {},
   "outputs": [],
   "source": [
    "x_max = 1e-3*6000.0  \n",
    "x_min = -1e-3*6000.0  \n",
    "y_max = 1e-3*6000.0 \n",
    "y_min = -1e-3*6000.0"
   ]
  },
  {
   "cell_type": "code",
   "execution_count": 39,
   "metadata": {},
   "outputs": [],
   "source": [
    "verts_c = [list(zip(x_verts,y_verts,z_top)),\n",
    "           list(zip(x_verts,y_verts,z_bottom))]"
   ]
  },
  {
   "cell_type": "code",
   "execution_count": 40,
   "metadata": {},
   "outputs": [],
   "source": [
    "verts_s = []\n",
    "for i,j in zip(x_verts,y_verts):\n",
    "    verts_s.append([(i,j,z_top[0]),(i,j,z_bottom[0])])   "
   ]
  },
  {
   "cell_type": "code",
   "execution_count": 41,
   "metadata": {},
   "outputs": [
    {
     "data": {
      "application/javascript": [
       "/* Put everything inside the global mpl namespace */\n",
       "window.mpl = {};\n",
       "\n",
       "mpl.get_websocket_type = function() {\n",
       "    if (typeof(WebSocket) !== 'undefined') {\n",
       "        return WebSocket;\n",
       "    } else if (typeof(MozWebSocket) !== 'undefined') {\n",
       "        return MozWebSocket;\n",
       "    } else {\n",
       "        alert('Your browser does not have WebSocket support.' +\n",
       "              'Please try Chrome, Safari or Firefox ≥ 6. ' +\n",
       "              'Firefox 4 and 5 are also supported but you ' +\n",
       "              'have to enable WebSockets in about:config.');\n",
       "    };\n",
       "}\n",
       "\n",
       "mpl.figure = function(figure_id, websocket, ondownload, parent_element) {\n",
       "    this.id = figure_id;\n",
       "\n",
       "    this.ws = websocket;\n",
       "\n",
       "    this.supports_binary = (this.ws.binaryType != undefined);\n",
       "\n",
       "    if (!this.supports_binary) {\n",
       "        var warnings = document.getElementById(\"mpl-warnings\");\n",
       "        if (warnings) {\n",
       "            warnings.style.display = 'block';\n",
       "            warnings.textContent = (\n",
       "                \"This browser does not support binary websocket messages. \" +\n",
       "                    \"Performance may be slow.\");\n",
       "        }\n",
       "    }\n",
       "\n",
       "    this.imageObj = new Image();\n",
       "\n",
       "    this.context = undefined;\n",
       "    this.message = undefined;\n",
       "    this.canvas = undefined;\n",
       "    this.rubberband_canvas = undefined;\n",
       "    this.rubberband_context = undefined;\n",
       "    this.format_dropdown = undefined;\n",
       "\n",
       "    this.image_mode = 'full';\n",
       "\n",
       "    this.root = $('<div/>');\n",
       "    this._root_extra_style(this.root)\n",
       "    this.root.attr('style', 'display: inline-block');\n",
       "\n",
       "    $(parent_element).append(this.root);\n",
       "\n",
       "    this._init_header(this);\n",
       "    this._init_canvas(this);\n",
       "    this._init_toolbar(this);\n",
       "\n",
       "    var fig = this;\n",
       "\n",
       "    this.waiting = false;\n",
       "\n",
       "    this.ws.onopen =  function () {\n",
       "            fig.send_message(\"supports_binary\", {value: fig.supports_binary});\n",
       "            fig.send_message(\"send_image_mode\", {});\n",
       "            fig.send_message(\"refresh\", {});\n",
       "        }\n",
       "\n",
       "    this.imageObj.onload = function() {\n",
       "            if (fig.image_mode == 'full') {\n",
       "                // Full images could contain transparency (where diff images\n",
       "                // almost always do), so we need to clear the canvas so that\n",
       "                // there is no ghosting.\n",
       "                fig.context.clearRect(0, 0, fig.canvas.width, fig.canvas.height);\n",
       "            }\n",
       "            fig.context.drawImage(fig.imageObj, 0, 0);\n",
       "        };\n",
       "\n",
       "    this.imageObj.onunload = function() {\n",
       "        this.ws.close();\n",
       "    }\n",
       "\n",
       "    this.ws.onmessage = this._make_on_message_function(this);\n",
       "\n",
       "    this.ondownload = ondownload;\n",
       "}\n",
       "\n",
       "mpl.figure.prototype._init_header = function() {\n",
       "    var titlebar = $(\n",
       "        '<div class=\"ui-dialog-titlebar ui-widget-header ui-corner-all ' +\n",
       "        'ui-helper-clearfix\"/>');\n",
       "    var titletext = $(\n",
       "        '<div class=\"ui-dialog-title\" style=\"width: 100%; ' +\n",
       "        'text-align: center; padding: 3px;\"/>');\n",
       "    titlebar.append(titletext)\n",
       "    this.root.append(titlebar);\n",
       "    this.header = titletext[0];\n",
       "}\n",
       "\n",
       "\n",
       "\n",
       "mpl.figure.prototype._canvas_extra_style = function(canvas_div) {\n",
       "\n",
       "}\n",
       "\n",
       "\n",
       "mpl.figure.prototype._root_extra_style = function(canvas_div) {\n",
       "\n",
       "}\n",
       "\n",
       "mpl.figure.prototype._init_canvas = function() {\n",
       "    var fig = this;\n",
       "\n",
       "    var canvas_div = $('<div/>');\n",
       "\n",
       "    canvas_div.attr('style', 'position: relative; clear: both; outline: 0');\n",
       "\n",
       "    function canvas_keyboard_event(event) {\n",
       "        return fig.key_event(event, event['data']);\n",
       "    }\n",
       "\n",
       "    canvas_div.keydown('key_press', canvas_keyboard_event);\n",
       "    canvas_div.keyup('key_release', canvas_keyboard_event);\n",
       "    this.canvas_div = canvas_div\n",
       "    this._canvas_extra_style(canvas_div)\n",
       "    this.root.append(canvas_div);\n",
       "\n",
       "    var canvas = $('<canvas/>');\n",
       "    canvas.addClass('mpl-canvas');\n",
       "    canvas.attr('style', \"left: 0; top: 0; z-index: 0; outline: 0\")\n",
       "\n",
       "    this.canvas = canvas[0];\n",
       "    this.context = canvas[0].getContext(\"2d\");\n",
       "\n",
       "    var rubberband = $('<canvas/>');\n",
       "    rubberband.attr('style', \"position: absolute; left: 0; top: 0; z-index: 1;\")\n",
       "\n",
       "    var pass_mouse_events = true;\n",
       "\n",
       "    canvas_div.resizable({\n",
       "        start: function(event, ui) {\n",
       "            pass_mouse_events = false;\n",
       "        },\n",
       "        resize: function(event, ui) {\n",
       "            fig.request_resize(ui.size.width, ui.size.height);\n",
       "        },\n",
       "        stop: function(event, ui) {\n",
       "            pass_mouse_events = true;\n",
       "            fig.request_resize(ui.size.width, ui.size.height);\n",
       "        },\n",
       "    });\n",
       "\n",
       "    function mouse_event_fn(event) {\n",
       "        if (pass_mouse_events)\n",
       "            return fig.mouse_event(event, event['data']);\n",
       "    }\n",
       "\n",
       "    rubberband.mousedown('button_press', mouse_event_fn);\n",
       "    rubberband.mouseup('button_release', mouse_event_fn);\n",
       "    // Throttle sequential mouse events to 1 every 20ms.\n",
       "    rubberband.mousemove('motion_notify', mouse_event_fn);\n",
       "\n",
       "    rubberband.mouseenter('figure_enter', mouse_event_fn);\n",
       "    rubberband.mouseleave('figure_leave', mouse_event_fn);\n",
       "\n",
       "    canvas_div.on(\"wheel\", function (event) {\n",
       "        event = event.originalEvent;\n",
       "        event['data'] = 'scroll'\n",
       "        if (event.deltaY < 0) {\n",
       "            event.step = 1;\n",
       "        } else {\n",
       "            event.step = -1;\n",
       "        }\n",
       "        mouse_event_fn(event);\n",
       "    });\n",
       "\n",
       "    canvas_div.append(canvas);\n",
       "    canvas_div.append(rubberband);\n",
       "\n",
       "    this.rubberband = rubberband;\n",
       "    this.rubberband_canvas = rubberband[0];\n",
       "    this.rubberband_context = rubberband[0].getContext(\"2d\");\n",
       "    this.rubberband_context.strokeStyle = \"#000000\";\n",
       "\n",
       "    this._resize_canvas = function(width, height) {\n",
       "        // Keep the size of the canvas, canvas container, and rubber band\n",
       "        // canvas in synch.\n",
       "        canvas_div.css('width', width)\n",
       "        canvas_div.css('height', height)\n",
       "\n",
       "        canvas.attr('width', width);\n",
       "        canvas.attr('height', height);\n",
       "\n",
       "        rubberband.attr('width', width);\n",
       "        rubberband.attr('height', height);\n",
       "    }\n",
       "\n",
       "    // Set the figure to an initial 600x600px, this will subsequently be updated\n",
       "    // upon first draw.\n",
       "    this._resize_canvas(600, 600);\n",
       "\n",
       "    // Disable right mouse context menu.\n",
       "    $(this.rubberband_canvas).bind(\"contextmenu\",function(e){\n",
       "        return false;\n",
       "    });\n",
       "\n",
       "    function set_focus () {\n",
       "        canvas.focus();\n",
       "        canvas_div.focus();\n",
       "    }\n",
       "\n",
       "    window.setTimeout(set_focus, 100);\n",
       "}\n",
       "\n",
       "mpl.figure.prototype._init_toolbar = function() {\n",
       "    var fig = this;\n",
       "\n",
       "    var nav_element = $('<div/>')\n",
       "    nav_element.attr('style', 'width: 100%');\n",
       "    this.root.append(nav_element);\n",
       "\n",
       "    // Define a callback function for later on.\n",
       "    function toolbar_event(event) {\n",
       "        return fig.toolbar_button_onclick(event['data']);\n",
       "    }\n",
       "    function toolbar_mouse_event(event) {\n",
       "        return fig.toolbar_button_onmouseover(event['data']);\n",
       "    }\n",
       "\n",
       "    for(var toolbar_ind in mpl.toolbar_items) {\n",
       "        var name = mpl.toolbar_items[toolbar_ind][0];\n",
       "        var tooltip = mpl.toolbar_items[toolbar_ind][1];\n",
       "        var image = mpl.toolbar_items[toolbar_ind][2];\n",
       "        var method_name = mpl.toolbar_items[toolbar_ind][3];\n",
       "\n",
       "        if (!name) {\n",
       "            // put a spacer in here.\n",
       "            continue;\n",
       "        }\n",
       "        var button = $('<button/>');\n",
       "        button.addClass('ui-button ui-widget ui-state-default ui-corner-all ' +\n",
       "                        'ui-button-icon-only');\n",
       "        button.attr('role', 'button');\n",
       "        button.attr('aria-disabled', 'false');\n",
       "        button.click(method_name, toolbar_event);\n",
       "        button.mouseover(tooltip, toolbar_mouse_event);\n",
       "\n",
       "        var icon_img = $('<span/>');\n",
       "        icon_img.addClass('ui-button-icon-primary ui-icon');\n",
       "        icon_img.addClass(image);\n",
       "        icon_img.addClass('ui-corner-all');\n",
       "\n",
       "        var tooltip_span = $('<span/>');\n",
       "        tooltip_span.addClass('ui-button-text');\n",
       "        tooltip_span.html(tooltip);\n",
       "\n",
       "        button.append(icon_img);\n",
       "        button.append(tooltip_span);\n",
       "\n",
       "        nav_element.append(button);\n",
       "    }\n",
       "\n",
       "    var fmt_picker_span = $('<span/>');\n",
       "\n",
       "    var fmt_picker = $('<select/>');\n",
       "    fmt_picker.addClass('mpl-toolbar-option ui-widget ui-widget-content');\n",
       "    fmt_picker_span.append(fmt_picker);\n",
       "    nav_element.append(fmt_picker_span);\n",
       "    this.format_dropdown = fmt_picker[0];\n",
       "\n",
       "    for (var ind in mpl.extensions) {\n",
       "        var fmt = mpl.extensions[ind];\n",
       "        var option = $(\n",
       "            '<option/>', {selected: fmt === mpl.default_extension}).html(fmt);\n",
       "        fmt_picker.append(option)\n",
       "    }\n",
       "\n",
       "    // Add hover states to the ui-buttons\n",
       "    $( \".ui-button\" ).hover(\n",
       "        function() { $(this).addClass(\"ui-state-hover\");},\n",
       "        function() { $(this).removeClass(\"ui-state-hover\");}\n",
       "    );\n",
       "\n",
       "    var status_bar = $('<span class=\"mpl-message\"/>');\n",
       "    nav_element.append(status_bar);\n",
       "    this.message = status_bar[0];\n",
       "}\n",
       "\n",
       "mpl.figure.prototype.request_resize = function(x_pixels, y_pixels) {\n",
       "    // Request matplotlib to resize the figure. Matplotlib will then trigger a resize in the client,\n",
       "    // which will in turn request a refresh of the image.\n",
       "    this.send_message('resize', {'width': x_pixels, 'height': y_pixels});\n",
       "}\n",
       "\n",
       "mpl.figure.prototype.send_message = function(type, properties) {\n",
       "    properties['type'] = type;\n",
       "    properties['figure_id'] = this.id;\n",
       "    this.ws.send(JSON.stringify(properties));\n",
       "}\n",
       "\n",
       "mpl.figure.prototype.send_draw_message = function() {\n",
       "    if (!this.waiting) {\n",
       "        this.waiting = true;\n",
       "        this.ws.send(JSON.stringify({type: \"draw\", figure_id: this.id}));\n",
       "    }\n",
       "}\n",
       "\n",
       "\n",
       "mpl.figure.prototype.handle_save = function(fig, msg) {\n",
       "    var format_dropdown = fig.format_dropdown;\n",
       "    var format = format_dropdown.options[format_dropdown.selectedIndex].value;\n",
       "    fig.ondownload(fig, format);\n",
       "}\n",
       "\n",
       "\n",
       "mpl.figure.prototype.handle_resize = function(fig, msg) {\n",
       "    var size = msg['size'];\n",
       "    if (size[0] != fig.canvas.width || size[1] != fig.canvas.height) {\n",
       "        fig._resize_canvas(size[0], size[1]);\n",
       "        fig.send_message(\"refresh\", {});\n",
       "    };\n",
       "}\n",
       "\n",
       "mpl.figure.prototype.handle_rubberband = function(fig, msg) {\n",
       "    var x0 = msg['x0'];\n",
       "    var y0 = fig.canvas.height - msg['y0'];\n",
       "    var x1 = msg['x1'];\n",
       "    var y1 = fig.canvas.height - msg['y1'];\n",
       "    x0 = Math.floor(x0) + 0.5;\n",
       "    y0 = Math.floor(y0) + 0.5;\n",
       "    x1 = Math.floor(x1) + 0.5;\n",
       "    y1 = Math.floor(y1) + 0.5;\n",
       "    var min_x = Math.min(x0, x1);\n",
       "    var min_y = Math.min(y0, y1);\n",
       "    var width = Math.abs(x1 - x0);\n",
       "    var height = Math.abs(y1 - y0);\n",
       "\n",
       "    fig.rubberband_context.clearRect(\n",
       "        0, 0, fig.canvas.width, fig.canvas.height);\n",
       "\n",
       "    fig.rubberband_context.strokeRect(min_x, min_y, width, height);\n",
       "}\n",
       "\n",
       "mpl.figure.prototype.handle_figure_label = function(fig, msg) {\n",
       "    // Updates the figure title.\n",
       "    fig.header.textContent = msg['label'];\n",
       "}\n",
       "\n",
       "mpl.figure.prototype.handle_cursor = function(fig, msg) {\n",
       "    var cursor = msg['cursor'];\n",
       "    switch(cursor)\n",
       "    {\n",
       "    case 0:\n",
       "        cursor = 'pointer';\n",
       "        break;\n",
       "    case 1:\n",
       "        cursor = 'default';\n",
       "        break;\n",
       "    case 2:\n",
       "        cursor = 'crosshair';\n",
       "        break;\n",
       "    case 3:\n",
       "        cursor = 'move';\n",
       "        break;\n",
       "    }\n",
       "    fig.rubberband_canvas.style.cursor = cursor;\n",
       "}\n",
       "\n",
       "mpl.figure.prototype.handle_message = function(fig, msg) {\n",
       "    fig.message.textContent = msg['message'];\n",
       "}\n",
       "\n",
       "mpl.figure.prototype.handle_draw = function(fig, msg) {\n",
       "    // Request the server to send over a new figure.\n",
       "    fig.send_draw_message();\n",
       "}\n",
       "\n",
       "mpl.figure.prototype.handle_image_mode = function(fig, msg) {\n",
       "    fig.image_mode = msg['mode'];\n",
       "}\n",
       "\n",
       "mpl.figure.prototype.updated_canvas_event = function() {\n",
       "    // Called whenever the canvas gets updated.\n",
       "    this.send_message(\"ack\", {});\n",
       "}\n",
       "\n",
       "// A function to construct a web socket function for onmessage handling.\n",
       "// Called in the figure constructor.\n",
       "mpl.figure.prototype._make_on_message_function = function(fig) {\n",
       "    return function socket_on_message(evt) {\n",
       "        if (evt.data instanceof Blob) {\n",
       "            /* FIXME: We get \"Resource interpreted as Image but\n",
       "             * transferred with MIME type text/plain:\" errors on\n",
       "             * Chrome.  But how to set the MIME type?  It doesn't seem\n",
       "             * to be part of the websocket stream */\n",
       "            evt.data.type = \"image/png\";\n",
       "\n",
       "            /* Free the memory for the previous frames */\n",
       "            if (fig.imageObj.src) {\n",
       "                (window.URL || window.webkitURL).revokeObjectURL(\n",
       "                    fig.imageObj.src);\n",
       "            }\n",
       "\n",
       "            fig.imageObj.src = (window.URL || window.webkitURL).createObjectURL(\n",
       "                evt.data);\n",
       "            fig.updated_canvas_event();\n",
       "            fig.waiting = false;\n",
       "            return;\n",
       "        }\n",
       "        else if (typeof evt.data === 'string' && evt.data.slice(0, 21) == \"data:image/png;base64\") {\n",
       "            fig.imageObj.src = evt.data;\n",
       "            fig.updated_canvas_event();\n",
       "            fig.waiting = false;\n",
       "            return;\n",
       "        }\n",
       "\n",
       "        var msg = JSON.parse(evt.data);\n",
       "        var msg_type = msg['type'];\n",
       "\n",
       "        // Call the  \"handle_{type}\" callback, which takes\n",
       "        // the figure and JSON message as its only arguments.\n",
       "        try {\n",
       "            var callback = fig[\"handle_\" + msg_type];\n",
       "        } catch (e) {\n",
       "            console.log(\"No handler for the '\" + msg_type + \"' message type: \", msg);\n",
       "            return;\n",
       "        }\n",
       "\n",
       "        if (callback) {\n",
       "            try {\n",
       "                // console.log(\"Handling '\" + msg_type + \"' message: \", msg);\n",
       "                callback(fig, msg);\n",
       "            } catch (e) {\n",
       "                console.log(\"Exception inside the 'handler_\" + msg_type + \"' callback:\", e, e.stack, msg);\n",
       "            }\n",
       "        }\n",
       "    };\n",
       "}\n",
       "\n",
       "// from http://stackoverflow.com/questions/1114465/getting-mouse-location-in-canvas\n",
       "mpl.findpos = function(e) {\n",
       "    //this section is from http://www.quirksmode.org/js/events_properties.html\n",
       "    var targ;\n",
       "    if (!e)\n",
       "        e = window.event;\n",
       "    if (e.target)\n",
       "        targ = e.target;\n",
       "    else if (e.srcElement)\n",
       "        targ = e.srcElement;\n",
       "    if (targ.nodeType == 3) // defeat Safari bug\n",
       "        targ = targ.parentNode;\n",
       "\n",
       "    // jQuery normalizes the pageX and pageY\n",
       "    // pageX,Y are the mouse positions relative to the document\n",
       "    // offset() returns the position of the element relative to the document\n",
       "    var x = e.pageX - $(targ).offset().left;\n",
       "    var y = e.pageY - $(targ).offset().top;\n",
       "\n",
       "    return {\"x\": x, \"y\": y};\n",
       "};\n",
       "\n",
       "/*\n",
       " * return a copy of an object with only non-object keys\n",
       " * we need this to avoid circular references\n",
       " * http://stackoverflow.com/a/24161582/3208463\n",
       " */\n",
       "function simpleKeys (original) {\n",
       "  return Object.keys(original).reduce(function (obj, key) {\n",
       "    if (typeof original[key] !== 'object')\n",
       "        obj[key] = original[key]\n",
       "    return obj;\n",
       "  }, {});\n",
       "}\n",
       "\n",
       "mpl.figure.prototype.mouse_event = function(event, name) {\n",
       "    var canvas_pos = mpl.findpos(event)\n",
       "\n",
       "    if (name === 'button_press')\n",
       "    {\n",
       "        this.canvas.focus();\n",
       "        this.canvas_div.focus();\n",
       "    }\n",
       "\n",
       "    var x = canvas_pos.x;\n",
       "    var y = canvas_pos.y;\n",
       "\n",
       "    this.send_message(name, {x: x, y: y, button: event.button,\n",
       "                             step: event.step,\n",
       "                             guiEvent: simpleKeys(event)});\n",
       "\n",
       "    /* This prevents the web browser from automatically changing to\n",
       "     * the text insertion cursor when the button is pressed.  We want\n",
       "     * to control all of the cursor setting manually through the\n",
       "     * 'cursor' event from matplotlib */\n",
       "    event.preventDefault();\n",
       "    return false;\n",
       "}\n",
       "\n",
       "mpl.figure.prototype._key_event_extra = function(event, name) {\n",
       "    // Handle any extra behaviour associated with a key event\n",
       "}\n",
       "\n",
       "mpl.figure.prototype.key_event = function(event, name) {\n",
       "\n",
       "    // Prevent repeat events\n",
       "    if (name == 'key_press')\n",
       "    {\n",
       "        if (event.which === this._key)\n",
       "            return;\n",
       "        else\n",
       "            this._key = event.which;\n",
       "    }\n",
       "    if (name == 'key_release')\n",
       "        this._key = null;\n",
       "\n",
       "    var value = '';\n",
       "    if (event.ctrlKey && event.which != 17)\n",
       "        value += \"ctrl+\";\n",
       "    if (event.altKey && event.which != 18)\n",
       "        value += \"alt+\";\n",
       "    if (event.shiftKey && event.which != 16)\n",
       "        value += \"shift+\";\n",
       "\n",
       "    value += 'k';\n",
       "    value += event.which.toString();\n",
       "\n",
       "    this._key_event_extra(event, name);\n",
       "\n",
       "    this.send_message(name, {key: value,\n",
       "                             guiEvent: simpleKeys(event)});\n",
       "    return false;\n",
       "}\n",
       "\n",
       "mpl.figure.prototype.toolbar_button_onclick = function(name) {\n",
       "    if (name == 'download') {\n",
       "        this.handle_save(this, null);\n",
       "    } else {\n",
       "        this.send_message(\"toolbar_button\", {name: name});\n",
       "    }\n",
       "};\n",
       "\n",
       "mpl.figure.prototype.toolbar_button_onmouseover = function(tooltip) {\n",
       "    this.message.textContent = tooltip;\n",
       "};\n",
       "mpl.toolbar_items = [[\"Home\", \"Reset original view\", \"fa fa-home icon-home\", \"home\"], [\"Back\", \"Back to  previous view\", \"fa fa-arrow-left icon-arrow-left\", \"back\"], [\"Forward\", \"Forward to next view\", \"fa fa-arrow-right icon-arrow-right\", \"forward\"], [\"\", \"\", \"\", \"\"], [\"Pan\", \"Pan axes with left mouse, zoom with right\", \"fa fa-arrows icon-move\", \"pan\"], [\"Zoom\", \"Zoom to rectangle\", \"fa fa-square-o icon-check-empty\", \"zoom\"], [\"\", \"\", \"\", \"\"], [\"Download\", \"Download plot\", \"fa fa-floppy-o icon-save\", \"download\"]];\n",
       "\n",
       "mpl.extensions = [\"eps\", \"jpeg\", \"pdf\", \"png\", \"ps\", \"raw\", \"svg\", \"tif\"];\n",
       "\n",
       "mpl.default_extension = \"png\";var comm_websocket_adapter = function(comm) {\n",
       "    // Create a \"websocket\"-like object which calls the given IPython comm\n",
       "    // object with the appropriate methods. Currently this is a non binary\n",
       "    // socket, so there is still some room for performance tuning.\n",
       "    var ws = {};\n",
       "\n",
       "    ws.close = function() {\n",
       "        comm.close()\n",
       "    };\n",
       "    ws.send = function(m) {\n",
       "        //console.log('sending', m);\n",
       "        comm.send(m);\n",
       "    };\n",
       "    // Register the callback with on_msg.\n",
       "    comm.on_msg(function(msg) {\n",
       "        //console.log('receiving', msg['content']['data'], msg);\n",
       "        // Pass the mpl event to the overriden (by mpl) onmessage function.\n",
       "        ws.onmessage(msg['content']['data'])\n",
       "    });\n",
       "    return ws;\n",
       "}\n",
       "\n",
       "mpl.mpl_figure_comm = function(comm, msg) {\n",
       "    // This is the function which gets called when the mpl process\n",
       "    // starts-up an IPython Comm through the \"matplotlib\" channel.\n",
       "\n",
       "    var id = msg.content.data.id;\n",
       "    // Get hold of the div created by the display call when the Comm\n",
       "    // socket was opened in Python.\n",
       "    var element = $(\"#\" + id);\n",
       "    var ws_proxy = comm_websocket_adapter(comm)\n",
       "\n",
       "    function ondownload(figure, format) {\n",
       "        window.open(figure.imageObj.src);\n",
       "    }\n",
       "\n",
       "    var fig = new mpl.figure(id, ws_proxy,\n",
       "                           ondownload,\n",
       "                           element.get(0));\n",
       "\n",
       "    // Call onopen now - mpl needs it, as it is assuming we've passed it a real\n",
       "    // web socket which is closed, not our websocket->open comm proxy.\n",
       "    ws_proxy.onopen();\n",
       "\n",
       "    fig.parent_element = element.get(0);\n",
       "    fig.cell_info = mpl.find_output_cell(\"<div id='\" + id + \"'></div>\");\n",
       "    if (!fig.cell_info) {\n",
       "        console.error(\"Failed to find cell for figure\", id, fig);\n",
       "        return;\n",
       "    }\n",
       "\n",
       "    var output_index = fig.cell_info[2]\n",
       "    var cell = fig.cell_info[0];\n",
       "\n",
       "};\n",
       "\n",
       "mpl.figure.prototype.handle_close = function(fig, msg) {\n",
       "    fig.root.unbind('remove')\n",
       "\n",
       "    // Update the output cell to use the data from the current canvas.\n",
       "    fig.push_to_output();\n",
       "    var dataURL = fig.canvas.toDataURL();\n",
       "    // Re-enable the keyboard manager in IPython - without this line, in FF,\n",
       "    // the notebook keyboard shortcuts fail.\n",
       "    IPython.keyboard_manager.enable()\n",
       "    $(fig.parent_element).html('<img src=\"' + dataURL + '\">');\n",
       "    fig.close_ws(fig, msg);\n",
       "}\n",
       "\n",
       "mpl.figure.prototype.close_ws = function(fig, msg){\n",
       "    fig.send_message('closing', msg);\n",
       "    // fig.ws.close()\n",
       "}\n",
       "\n",
       "mpl.figure.prototype.push_to_output = function(remove_interactive) {\n",
       "    // Turn the data on the canvas into data in the output cell.\n",
       "    var dataURL = this.canvas.toDataURL();\n",
       "    this.cell_info[1]['text/html'] = '<img src=\"' + dataURL + '\">';\n",
       "}\n",
       "\n",
       "mpl.figure.prototype.updated_canvas_event = function() {\n",
       "    // Tell IPython that the notebook contents must change.\n",
       "    IPython.notebook.set_dirty(true);\n",
       "    this.send_message(\"ack\", {});\n",
       "    var fig = this;\n",
       "    // Wait a second, then push the new image to the DOM so\n",
       "    // that it is saved nicely (might be nice to debounce this).\n",
       "    setTimeout(function () { fig.push_to_output() }, 1000);\n",
       "}\n",
       "\n",
       "mpl.figure.prototype._init_toolbar = function() {\n",
       "    var fig = this;\n",
       "\n",
       "    var nav_element = $('<div/>')\n",
       "    nav_element.attr('style', 'width: 100%');\n",
       "    this.root.append(nav_element);\n",
       "\n",
       "    // Define a callback function for later on.\n",
       "    function toolbar_event(event) {\n",
       "        return fig.toolbar_button_onclick(event['data']);\n",
       "    }\n",
       "    function toolbar_mouse_event(event) {\n",
       "        return fig.toolbar_button_onmouseover(event['data']);\n",
       "    }\n",
       "\n",
       "    for(var toolbar_ind in mpl.toolbar_items){\n",
       "        var name = mpl.toolbar_items[toolbar_ind][0];\n",
       "        var tooltip = mpl.toolbar_items[toolbar_ind][1];\n",
       "        var image = mpl.toolbar_items[toolbar_ind][2];\n",
       "        var method_name = mpl.toolbar_items[toolbar_ind][3];\n",
       "\n",
       "        if (!name) { continue; };\n",
       "\n",
       "        var button = $('<button class=\"btn btn-default\" href=\"#\" title=\"' + name + '\"><i class=\"fa ' + image + ' fa-lg\"></i></button>');\n",
       "        button.click(method_name, toolbar_event);\n",
       "        button.mouseover(tooltip, toolbar_mouse_event);\n",
       "        nav_element.append(button);\n",
       "    }\n",
       "\n",
       "    // Add the status bar.\n",
       "    var status_bar = $('<span class=\"mpl-message\" style=\"text-align:right; float: right;\"/>');\n",
       "    nav_element.append(status_bar);\n",
       "    this.message = status_bar[0];\n",
       "\n",
       "    // Add the close button to the window.\n",
       "    var buttongrp = $('<div class=\"btn-group inline pull-right\"></div>');\n",
       "    var button = $('<button class=\"btn btn-mini btn-primary\" href=\"#\" title=\"Stop Interaction\"><i class=\"fa fa-power-off icon-remove icon-large\"></i></button>');\n",
       "    button.click(function (evt) { fig.handle_close(fig, {}); } );\n",
       "    button.mouseover('Stop Interaction', toolbar_mouse_event);\n",
       "    buttongrp.append(button);\n",
       "    var titlebar = this.root.find($('.ui-dialog-titlebar'));\n",
       "    titlebar.prepend(buttongrp);\n",
       "}\n",
       "\n",
       "mpl.figure.prototype._root_extra_style = function(el){\n",
       "    var fig = this\n",
       "    el.on(\"remove\", function(){\n",
       "\tfig.close_ws(fig, {});\n",
       "    });\n",
       "}\n",
       "\n",
       "mpl.figure.prototype._canvas_extra_style = function(el){\n",
       "    // this is important to make the div 'focusable\n",
       "    el.attr('tabindex', 0)\n",
       "    // reach out to IPython and tell the keyboard manager to turn it's self\n",
       "    // off when our div gets focus\n",
       "\n",
       "    // location in version 3\n",
       "    if (IPython.notebook.keyboard_manager) {\n",
       "        IPython.notebook.keyboard_manager.register_events(el);\n",
       "    }\n",
       "    else {\n",
       "        // location in version 2\n",
       "        IPython.keyboard_manager.register_events(el);\n",
       "    }\n",
       "\n",
       "}\n",
       "\n",
       "mpl.figure.prototype._key_event_extra = function(event, name) {\n",
       "    var manager = IPython.notebook.keyboard_manager;\n",
       "    if (!manager)\n",
       "        manager = IPython.keyboard_manager;\n",
       "\n",
       "    // Check for shift+enter\n",
       "    if (event.shiftKey && event.which == 13) {\n",
       "        this.canvas_div.blur();\n",
       "        event.shiftKey = false;\n",
       "        // Send a \"J\" for go to next cell\n",
       "        event.which = 74;\n",
       "        event.keyCode = 74;\n",
       "        manager.command_mode();\n",
       "        manager.handle_keydown(event);\n",
       "    }\n",
       "}\n",
       "\n",
       "mpl.figure.prototype.handle_save = function(fig, msg) {\n",
       "    fig.ondownload(fig, null);\n",
       "}\n",
       "\n",
       "\n",
       "mpl.find_output_cell = function(html_output) {\n",
       "    // Return the cell and output element which can be found *uniquely* in the notebook.\n",
       "    // Note - this is a bit hacky, but it is done because the \"notebook_saving.Notebook\"\n",
       "    // IPython event is triggered only after the cells have been serialised, which for\n",
       "    // our purposes (turning an active figure into a static one), is too late.\n",
       "    var cells = IPython.notebook.get_cells();\n",
       "    var ncells = cells.length;\n",
       "    for (var i=0; i<ncells; i++) {\n",
       "        var cell = cells[i];\n",
       "        if (cell.cell_type === 'code'){\n",
       "            for (var j=0; j<cell.output_area.outputs.length; j++) {\n",
       "                var data = cell.output_area.outputs[j];\n",
       "                if (data.data) {\n",
       "                    // IPython >= 3 moved mimebundle to data attribute of output\n",
       "                    data = data.data;\n",
       "                }\n",
       "                if (data['text/html'] == html_output) {\n",
       "                    return [cell, data, j];\n",
       "                }\n",
       "            }\n",
       "        }\n",
       "    }\n",
       "}\n",
       "\n",
       "// Register the function which deals with the matplotlib target/channel.\n",
       "// The kernel may be null if the page has been refreshed.\n",
       "if (IPython.notebook.kernel != null) {\n",
       "    IPython.notebook.kernel.comm_manager.register_target('matplotlib', mpl.mpl_figure_comm);\n",
       "}\n"
      ],
      "text/plain": [
       "<IPython.core.display.Javascript object>"
      ]
     },
     "metadata": {},
     "output_type": "display_data"
    },
    {
     "data": {
      "text/html": [
       "<img src=\"data:image/png;base64,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\">"
      ],
      "text/plain": [
       "<IPython.core.display.HTML object>"
      ]
     },
     "metadata": {},
     "output_type": "display_data"
    }
   ],
   "source": [
    "% matplotlib notebook\n",
    "\n",
    "fig = plt.figure(figsize=(9,9))\n",
    "ax = fig.gca(projection='3d')\n",
    "\n",
    "ax.set_title('3D model',fontsize=title_font,loc='center')\n",
    "cover = Poly3DCollection(verts_c,facecolors='black', linewidths=1, alpha=.9,edgecolors='k')\n",
    "sides = Poly3DCollection(verts_s,facecolors='black', linewidths=1, alpha=.9,edgecolors='k')\n",
    "\n",
    "cover.set_alpha(.3)\n",
    "ax.add_collection3d(cover)\n",
    "sides.set_alpha(.8)\n",
    "ax.add_collection3d(sides)\n",
    "\n",
    "ax.set_xlabel('X (km)',fontsize=15)\n",
    "ax.set_xlim3d(x_min, x_max,100)\n",
    "ax.set_ylabel('Y (km)',fontsize=15)\n",
    "ax.set_ylim3d(y_min, y_max,100)\n",
    "ax.set_zlabel('Z (km)',fontsize=15)\n",
    "ax.set_zlim3d(1.2*z_bottom[0], 1e-3*100.)\n",
    "ax.set_xticks(np.linspace(x_min, x_max, 5), minor=True)\n",
    "ax.set_yticks(np.linspace(y_min, y_max, 5), minor=True)\n",
    "ax.set_zticks(np.linspace(1.2*z_bottom[0], 1e-3*100., 6), minor=True)\n",
    "ax.view_init(40,320)\n",
    "\n",
    "file_name = 'figs/3D_prism'\n",
    "plt.savefig(file_name+'.png',dpi=200)\n",
    "saved_files.append(file_name+'.png')\n",
    "\n",
    "plt.savefig(file_name+'.eps',dpi=200)\n",
    "saved_files.append(file_name+'.eps')\n",
    "\n",
    "\n",
    "plt.show()"
   ]
  },
  {
   "cell_type": "markdown",
   "metadata": {},
   "source": [
    "#### Saved files"
   ]
  },
  {
   "cell_type": "code",
   "execution_count": 42,
   "metadata": {},
   "outputs": [
    {
     "name": "stdout",
     "output_type": "stream",
     "text": [
      "1  data/model_poly_remanent.pickle\n",
      "2  data/model_poly_induced.pickle\n",
      "3  figs/prism_bound.png\n",
      "4  figs/prism_bound.eps\n",
      "5  figs/3D_prism.png\n",
      "6  figs/3D_prism.eps\n"
     ]
    }
   ],
   "source": [
    "with open('reports/report_%s.md' % notebook_name[:st.index(notebook_name, '.')], 'w') as q:\n",
    "    q.write('# Saved files \\n')\n",
    "    now = datetime.datetime.utcnow().strftime('%d %B %Y %H:%M:%S UTC')\n",
    "    header = 'Generated by {name} on {date}'.format(date=now, name=notebook_name)\n",
    "    q.write('\\n\\n'+header+'\\n\\n')\n",
    "    for i, sf in enumerate(saved_files):\n",
    "        print '%d  %s' % (i+1,sf)\n",
    "        q.write('*  `%s` \\n' % (sf))"
   ]
  }
 ],
 "metadata": {
  "kernelspec": {
   "display_name": "Python 2",
   "language": "python",
   "name": "python2"
  },
  "language_info": {
   "codemirror_mode": {
    "name": "ipython",
    "version": 2
   },
   "file_extension": ".py",
   "mimetype": "text/x-python",
   "name": "python",
   "nbconvert_exporter": "python",
   "pygments_lexer": "ipython2",
   "version": "2.7.14"
  }
 },
 "nbformat": 4,
 "nbformat_minor": 2
}
