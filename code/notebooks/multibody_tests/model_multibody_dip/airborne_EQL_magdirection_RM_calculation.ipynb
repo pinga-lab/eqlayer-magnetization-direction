{
 "cells": [
  {
   "cell_type": "markdown",
   "metadata": {},
   "source": [
    "# Equivalent layer technique for estimating total magnetization direction using "
   ]
  },
  {
   "cell_type": "markdown",
   "metadata": {},
   "source": [
    "#### Importing libraries"
   ]
  },
  {
   "cell_type": "code",
   "execution_count": 1,
   "metadata": {},
   "outputs": [],
   "source": [
    "% matplotlib inline "
   ]
  },
  {
   "cell_type": "code",
   "execution_count": 2,
   "metadata": {},
   "outputs": [
    {
     "name": "stderr",
     "output_type": "stream",
     "text": [
      "/home/andrelreis/anaconda2/lib/python2.7/site-packages/fatiando/vis/mpl.py:76: UserWarning: This module will be removed in v0.6. We recommend the use of matplotlib.pyplot module directly. Some of the fatiando specific functions will remain.\n",
      "  \"specific functions will remain.\")\n"
     ]
    }
   ],
   "source": [
    "import sys\n",
    "import numpy as np\n",
    "import matplotlib.pyplot as plt\n",
    "import cPickle as pickle\n",
    "import datetime\n",
    "import timeit\n",
    "import string as st\n",
    "from scipy.optimize import nnls\n",
    "from fatiando.gridder import regular\n",
    "from fatiando.utils import ang2vec, vec2ang\n",
    "from fatiando.mesher import Sphere, PointGrid,Prism\n",
    "from fatiando.gravmag import sphere,prism\n",
    "from fatiando.constants import CM, T2NT, G, SI2MGAL"
   ]
  },
  {
   "cell_type": "code",
   "execution_count": 3,
   "metadata": {},
   "outputs": [],
   "source": [
    "notebook_name = 'airborne_EQL_magdirection_RM_calculation.ipynb'"
   ]
  },
  {
   "cell_type": "markdown",
   "metadata": {},
   "source": [
    "#### Importing auxiliary functions"
   ]
  },
  {
   "cell_type": "code",
   "execution_count": 4,
   "metadata": {},
   "outputs": [],
   "source": [
    "dir_modules = '../../../mypackage'\n",
    "sys.path.append(dir_modules)"
   ]
  },
  {
   "cell_type": "code",
   "execution_count": 5,
   "metadata": {},
   "outputs": [],
   "source": [
    "import auxiliary_functions as fc"
   ]
  },
  {
   "cell_type": "markdown",
   "metadata": {},
   "source": [
    "#### Loading properties of the model"
   ]
  },
  {
   "cell_type": "code",
   "execution_count": 6,
   "metadata": {},
   "outputs": [],
   "source": [
    "with open('data/model_multi.pickle') as f:\n",
    "        model_multi = pickle.load(f)"
   ]
  },
  {
   "cell_type": "markdown",
   "metadata": {},
   "source": [
    "#### Loading properties grid"
   ]
  },
  {
   "cell_type": "code",
   "execution_count": 7,
   "metadata": {},
   "outputs": [],
   "source": [
    "with open('data/airborne_survey.pickle') as f:\n",
    "        airborne = pickle.load(f)"
   ]
  },
  {
   "cell_type": "markdown",
   "metadata": {},
   "source": [
    "#### Loading data"
   ]
  },
  {
   "cell_type": "code",
   "execution_count": 8,
   "metadata": {},
   "outputs": [],
   "source": [
    "with open('data/data_set.pickle') as f:\n",
    "        data = pickle.load(f)"
   ]
  },
  {
   "cell_type": "markdown",
   "metadata": {},
   "source": [
    "#### Open a dictionary"
   ]
  },
  {
   "cell_type": "code",
   "execution_count": 9,
   "metadata": {},
   "outputs": [],
   "source": [
    "result_RM_airb = dict()"
   ]
  },
  {
   "cell_type": "markdown",
   "metadata": {},
   "source": [
    "### Saving files"
   ]
  },
  {
   "cell_type": "code",
   "execution_count": 10,
   "metadata": {},
   "outputs": [],
   "source": [
    "saved_files = []"
   ]
  },
  {
   "cell_type": "markdown",
   "metadata": {},
   "source": [
    "## Observation area"
   ]
  },
  {
   "cell_type": "code",
   "execution_count": 11,
   "metadata": {},
   "outputs": [
    {
     "name": "stdout",
     "output_type": "stream",
     "text": [
      "Area limits: \n",
      " x_max = 6000.0 m \n",
      " x_min = -6000.0 m \n",
      " y_max = 6000.0 m \n",
      " y_min = -6000.0 m\n"
     ]
    }
   ],
   "source": [
    "print 'Area limits: \\n x_max = %.1f m \\n x_min = %.1f m \\n y_max = %.1f m \\n y_min = %.1f m' % (airborne['area'][1], \n",
    "                                                                                                airborne['area'][0],\n",
    "                                                                                                airborne['area'][3],\n",
    "                                                                                                airborne['area'][2])"
   ]
  },
  {
   "cell_type": "markdown",
   "metadata": {},
   "source": [
    "### airborne survey information"
   ]
  },
  {
   "cell_type": "code",
   "execution_count": 12,
   "metadata": {},
   "outputs": [
    {
     "name": "stdout",
     "output_type": "stream",
     "text": [
      "Shape : (50,25)\n",
      "Number of data: 1250.0\n",
      "dx: 244.9 m\n",
      "dy: 500.0 m \n"
     ]
    }
   ],
   "source": [
    "print 'Shape : (%.0f,%.0f)'% airborne['shape'] \n",
    "print 'Number of data: %.1f' % airborne['N']\n",
    "print 'dx: %.1f m' % airborne['dx']\n",
    "print 'dy: %.1f m ' % airborne['dy']"
   ]
  },
  {
   "cell_type": "markdown",
   "metadata": {},
   "source": [
    "## Properties of the model"
   ]
  },
  {
   "cell_type": "markdown",
   "metadata": {},
   "source": [
    "### Main field"
   ]
  },
  {
   "cell_type": "code",
   "execution_count": 13,
   "metadata": {},
   "outputs": [],
   "source": [
    "inc_gf,dec_gf = model_multi['main_field']"
   ]
  },
  {
   "cell_type": "code",
   "execution_count": 14,
   "metadata": {},
   "outputs": [
    {
     "name": "stdout",
     "output_type": "stream",
     "text": [
      "Main field inclination: -20.0 degree\n",
      "Main field declination: -20.0 degree\n"
     ]
    }
   ],
   "source": [
    "print'Main field inclination: %.1f degree' % inc_gf\n",
    "print'Main field declination: %.1f degree' % dec_gf"
   ]
  },
  {
   "cell_type": "markdown",
   "metadata": {},
   "source": [
    "### Magnetization direction"
   ]
  },
  {
   "cell_type": "code",
   "execution_count": 15,
   "metadata": {},
   "outputs": [
    {
     "name": "stdout",
     "output_type": "stream",
     "text": [
      "Intensity: 15.0 A/m\n",
      "Inclination: -45.0 degree\n",
      "Declination: 30.0 degree\n"
     ]
    }
   ],
   "source": [
    "print 'Intensity: %.1f A/m' % model_multi['m_R']\n",
    "print 'Inclination: %.1f degree' % model_multi['inc_R']\n",
    "print 'Declination: %.1f degree' % model_multi['dec_R']"
   ]
  },
  {
   "cell_type": "code",
   "execution_count": 16,
   "metadata": {},
   "outputs": [],
   "source": [
    "inc_R,dec_R = model_multi['inc_R'],model_multi['dec_R']"
   ]
  },
  {
   "cell_type": "markdown",
   "metadata": {},
   "source": [
    "## Generating the layer with my function "
   ]
  },
  {
   "cell_type": "code",
   "execution_count": 17,
   "metadata": {},
   "outputs": [],
   "source": [
    "h = 1150."
   ]
  },
  {
   "cell_type": "markdown",
   "metadata": {},
   "source": [
    "#### Generating a layer"
   ]
  },
  {
   "cell_type": "code",
   "execution_count": 18,
   "metadata": {},
   "outputs": [],
   "source": [
    "shape_layer = (airborne['shape'][0],airborne['shape'][1])"
   ]
  },
  {
   "cell_type": "code",
   "execution_count": 19,
   "metadata": {},
   "outputs": [],
   "source": [
    "xs,ys,zs = regular(airborne['area'],shape_layer,h)"
   ]
  },
  {
   "cell_type": "markdown",
   "metadata": {},
   "source": [
    "### Levenberg-Marquardt with NNLS for positive magnetic moments"
   ]
  },
  {
   "cell_type": "code",
   "execution_count": 20,
   "metadata": {},
   "outputs": [],
   "source": [
    "i_pos = 1500"
   ]
  },
  {
   "cell_type": "code",
   "execution_count": 21,
   "metadata": {},
   "outputs": [],
   "source": [
    "it_max = 30"
   ]
  },
  {
   "cell_type": "code",
   "execution_count": 22,
   "metadata": {},
   "outputs": [],
   "source": [
    "it_marq = 15"
   ]
  },
  {
   "cell_type": "code",
   "execution_count": 23,
   "metadata": {},
   "outputs": [],
   "source": [
    "lamb = 10.\n",
    "dlamb = 100."
   ]
  },
  {
   "cell_type": "code",
   "execution_count": 24,
   "metadata": {},
   "outputs": [],
   "source": [
    "eps_e = 1e-4\n",
    "eps_i = 1e-4"
   ]
  },
  {
   "cell_type": "code",
   "execution_count": 25,
   "metadata": {},
   "outputs": [],
   "source": [
    "mu_list = [1e2,1e3,1e4,1e5,1e6,1e7]"
   ]
  },
  {
   "cell_type": "code",
   "execution_count": 26,
   "metadata": {},
   "outputs": [
    {
     "name": "stdout",
     "output_type": "stream",
     "text": [
      "i = 0\n",
      "-20.6541189979 -10.9017889524\n",
      "i = 1\n",
      "-27.8666056505 -10.1532509376\n",
      "i = 2\n",
      "-32.7706691648 -9.14810175076\n",
      "i = 3\n",
      "-36.6493347171 -8.02507093595\n",
      "i = 4\n",
      "-39.8016273337 -6.76690512648\n",
      "i = 5\n",
      "-42.4070310211 -5.23884187415\n",
      "i = 6\n",
      "-44.5396078155 -3.45566089375\n",
      "i = 7\n",
      "-46.296453792 -1.44917869066\n",
      "i = 8\n",
      "-47.7437825822 0.731800825738\n",
      "i = 9\n",
      "-48.9265667335 3.02716471766\n",
      "i = 10\n",
      "-49.8693488999 5.37680013086\n",
      "i = 11\n",
      "-50.6002960002 7.72134369361\n",
      "i = 12\n",
      "-51.1455287155 9.99345569625\n",
      "i = 13\n",
      "-51.5334063353 12.1577064284\n",
      "i = 14\n",
      "-51.8006506485 14.1706597251\n",
      "i = 15\n",
      "-51.9763371909 16.0114871625\n",
      "i = 16\n",
      "-52.0860705011 17.6734179742\n",
      "i = 17\n",
      "-52.1481476208 19.1575471685\n",
      "i = 18\n",
      "-52.1778565796 20.4653839938\n",
      "i = 19\n",
      "-52.1880978912 21.6030429996\n",
      "i = 20\n",
      "-52.171814351 22.6691094058\n",
      "i = 21\n",
      "-52.1334034167 23.6686018287\n",
      "i = 22\n",
      "-52.0762191705 24.6149561928\n",
      "i = 23\n",
      "-52.0021497922 25.5124322703\n",
      "i = 24\n",
      "-51.9100743315 26.3660894788\n",
      "i = 25\n",
      "-51.8026075237 27.1796388396\n",
      "i = 26\n",
      "-51.6828920861 27.9542882313\n",
      "i = 27\n",
      "-51.554772113 28.6891428475\n",
      "i = 28\n",
      "-51.4202059874 29.3851345745\n",
      "i = 29\n",
      "-51.2806326662 30.0426331332\n",
      "i = 30\n",
      "-51.1373448081 30.662595394\n",
      "i = 31\n",
      "-50.9917199451 31.2466564961\n",
      "i = 32\n",
      "-50.8446035076 31.7963657374\n",
      "i = 33\n",
      "-50.6968757391 32.3136228227\n",
      "i = 34\n",
      "-50.5492710949 32.80040587\n",
      "i = 35\n",
      "-50.4019912096 33.2605905528\n",
      "i = 36\n",
      "-50.255428314 33.6937025532\n",
      "i = 37\n",
      "-50.110179718 34.1011019176\n",
      "i = 38\n",
      "-49.966343008 34.4845234264\n",
      "i = 39\n",
      "-49.8219621882 34.8496482327\n",
      "i = 40\n",
      "-49.6796332166 35.1920509086\n",
      "i = 41\n",
      "-49.5406621357 35.5117929927\n",
      "i = 42\n",
      "-49.4053400001 35.8097960483\n",
      "i = 43\n",
      "-49.2733212892 36.0887351657\n",
      "i = 44\n",
      "-49.143084384 36.3536708556\n",
      "i = 45\n",
      "-49.0146979031 36.6044699779\n",
      "i = 46\n",
      "-48.8878933426 36.8412347833\n",
      "i = 47\n",
      "-48.76264538 37.0652815474\n",
      "i = 48\n",
      "-48.6391680251 37.2773885052\n",
      "i = 49\n",
      "-48.5176459422 37.4783069584\n",
      "i = 50\n",
      "-48.3982350526 37.6687355876\n",
      "i = 51\n",
      "-48.2810568997 37.849302056\n",
      "i = 52\n",
      "-48.1662095725 38.0200214461\n",
      "i = 53\n",
      "-48.0537403315 38.1815336502\n",
      "i = 54\n",
      "-47.943719277 38.3346552199\n",
      "i = 55\n",
      "-47.8362007723 38.4801868438\n",
      "i = 56\n",
      "-47.7312376017 38.618596329\n",
      "i = 57\n",
      "-47.6289128244 38.7503543102\n",
      "i = 58\n",
      "-47.5292245266 38.875835344\n",
      "i = 59\n",
      "-47.4321620173 38.9953949096\n",
      "i = 60\n",
      "-47.3368553557 39.1089891401\n",
      "i = 61\n",
      "-47.2432308073 39.2169424431\n",
      "i = 62\n",
      "-47.1512657045 39.3195880099\n",
      "i = 63\n",
      "-47.0609919838 39.417243633\n",
      "i = 64\n",
      "-46.9725472038 39.5102779541\n",
      "i = 65\n",
      "-46.8860514918 39.5989800924\n",
      "i = 66\n",
      "-46.8014949659 39.6835986524\n",
      "i = 67\n",
      "-46.8014949659 39.6835986524\n",
      "i = 0\n",
      "-20.6541193619 -10.9017915974\n",
      "i = 1\n",
      "-27.8666021436 -10.1532480161\n",
      "i = 2\n",
      "-32.7706665376 -9.14809324332\n",
      "i = 3\n",
      "-36.6493331121 -8.02506114174\n",
      "i = 4\n",
      "-39.8016264169 -6.76689461811\n",
      "i = 5\n",
      "-42.4070304702 -5.23883058963\n",
      "i = 6\n",
      "-44.5396072464 -3.45564831828\n",
      "i = 7\n",
      "-46.2964532099 -1.44916471577\n",
      "i = 8\n",
      "-47.7437819418 0.731815729232\n",
      "i = 9\n",
      "-48.9265652893 3.02718044081\n",
      "i = 10\n",
      "-49.869346987 5.37681619376\n",
      "i = 11\n",
      "-50.6002941186 7.72135902852\n",
      "i = 12\n",
      "-51.1455268112 9.99347116559\n",
      "i = 13\n",
      "-51.5334045059 12.1577202879\n",
      "i = 14\n",
      "-51.800648961 14.1706730995\n",
      "i = 15\n",
      "-51.976335608 16.0114994575\n",
      "i = 16\n",
      "-52.0860689925 17.6734297928\n",
      "i = 17\n",
      "-52.1481468028 19.157554956\n",
      "i = 18\n",
      "-52.1778562107 20.4653906336\n",
      "i = 19\n",
      "-52.1880980805 21.6030482011\n",
      "i = 20\n",
      "-52.1718150524 22.6691139107\n",
      "i = 21\n",
      "-52.1334069646 23.6686066264\n",
      "i = 22\n",
      "-52.0762244238 24.6149605607\n",
      "i = 23\n",
      "-52.0021558257 25.5124356129\n",
      "i = 24\n"
     ]
    },
    {
     "ename": "KeyboardInterrupt",
     "evalue": "",
     "output_type": "error",
     "traceback": [
      "\u001b[0;31m---------------------------------------------------------------------------\u001b[0m",
      "\u001b[0;31mKeyboardInterrupt\u001b[0m                         Traceback (most recent call last)",
      "\u001b[0;32m<ipython-input-26-0b9e47e7fe33>\u001b[0m in \u001b[0;36m<module>\u001b[0;34m()\u001b[0m\n\u001b[1;32m     10\u001b[0m         \u001b[0mdata\u001b[0m\u001b[0;34m[\u001b[0m\u001b[0;34m'tfa_obs_RM_airb'\u001b[0m\u001b[0;34m]\u001b[0m\u001b[0;34m,\u001b[0m\u001b[0mairborne\u001b[0m\u001b[0;34m[\u001b[0m\u001b[0;34m'x'\u001b[0m\u001b[0;34m]\u001b[0m\u001b[0;34m,\u001b[0m\u001b[0mairborne\u001b[0m\u001b[0;34m[\u001b[0m\u001b[0;34m'y'\u001b[0m\u001b[0;34m]\u001b[0m\u001b[0;34m,\u001b[0m\u001b[0;34m\u001b[0m\u001b[0m\n\u001b[1;32m     11\u001b[0m         \u001b[0mairborne\u001b[0m\u001b[0;34m[\u001b[0m\u001b[0;34m'z'\u001b[0m\u001b[0;34m]\u001b[0m\u001b[0;34m,\u001b[0m\u001b[0mxs\u001b[0m\u001b[0;34m,\u001b[0m\u001b[0mys\u001b[0m\u001b[0;34m,\u001b[0m\u001b[0mzs\u001b[0m\u001b[0;34m,\u001b[0m\u001b[0minc_gf\u001b[0m\u001b[0;34m,\u001b[0m\u001b[0mdec_gf\u001b[0m\u001b[0;34m,\u001b[0m\u001b[0;34m-\u001b[0m\u001b[0;36m10.\u001b[0m\u001b[0;34m,\u001b[0m\u001b[0;34m-\u001b[0m\u001b[0;36m10.\u001b[0m\u001b[0;34m,\u001b[0m\u001b[0mlamb\u001b[0m\u001b[0;34m,\u001b[0m\u001b[0mdlamb\u001b[0m\u001b[0;34m,\u001b[0m\u001b[0mi_pos\u001b[0m\u001b[0;34m,\u001b[0m\u001b[0mit_max\u001b[0m\u001b[0;34m,\u001b[0m\u001b[0;34m\u001b[0m\u001b[0m\n\u001b[0;32m---> 12\u001b[0;31m         it_marq,eps_e,eps_i,i)\n\u001b[0m\u001b[1;32m     13\u001b[0m     G = fc.sensitivity_mag(airborne['x'],airborne['y'],airborne['z'],\n\u001b[1;32m     14\u001b[0m                        xs,ys,zs,inc_gf,dec_gf,inc_est,dec_est)\n",
      "\u001b[0;32m/home/andrelreis/Desktop/eqlayer-magnetization-direction/code/mypackage/auxiliary_functions.pyc\u001b[0m in \u001b[0;36mlevenberg_marquardt_NNLS\u001b[0;34m(dobs, x, y, z, xs, ys, zs, sinc, sdec, inc0, dec0, lamb, dlamb, imax, itext, itmarq, eps_e, eps_i, mu)\u001b[0m\n\u001b[1;32m    361\u001b[0m         \u001b[0mf0\u001b[0m \u001b[0;34m=\u001b[0m \u001b[0mnp\u001b[0m\u001b[0;34m.\u001b[0m\u001b[0mtrace\u001b[0m\u001b[0;34m(\u001b[0m\u001b[0mnp\u001b[0m\u001b[0;34m.\u001b[0m\u001b[0mdot\u001b[0m\u001b[0;34m(\u001b[0m\u001b[0mG_mag\u001b[0m\u001b[0;34m.\u001b[0m\u001b[0mT\u001b[0m\u001b[0;34m,\u001b[0m\u001b[0mG_mag\u001b[0m\u001b[0;34m)\u001b[0m\u001b[0;34m)\u001b[0m\u001b[0;34m/\u001b[0m\u001b[0mM\u001b[0m\u001b[0;34m\u001b[0m\u001b[0m\n\u001b[1;32m    362\u001b[0m         \u001b[0mGI\u001b[0m \u001b[0;34m=\u001b[0m \u001b[0mnp\u001b[0m\u001b[0;34m.\u001b[0m\u001b[0mvstack\u001b[0m\u001b[0;34m(\u001b[0m\u001b[0;34m[\u001b[0m\u001b[0mG_mag\u001b[0m\u001b[0;34m,\u001b[0m\u001b[0mmu\u001b[0m\u001b[0;34m*\u001b[0m\u001b[0mf0\u001b[0m\u001b[0;34m*\u001b[0m\u001b[0mI\u001b[0m\u001b[0;34m]\u001b[0m\u001b[0;34m)\u001b[0m\u001b[0;34m\u001b[0m\u001b[0m\n\u001b[0;32m--> 363\u001b[0;31m         \u001b[0mp0\u001b[0m\u001b[0;34m,\u001b[0m\u001b[0m_\u001b[0m \u001b[0;34m=\u001b[0m \u001b[0mnnls\u001b[0m\u001b[0;34m(\u001b[0m\u001b[0mGI\u001b[0m\u001b[0;34m,\u001b[0m\u001b[0mdo\u001b[0m\u001b[0;34m)\u001b[0m\u001b[0;34m\u001b[0m\u001b[0m\n\u001b[0m\u001b[1;32m    364\u001b[0m         \u001b[0mtf_ext\u001b[0m \u001b[0;34m=\u001b[0m \u001b[0mtfa_layer\u001b[0m\u001b[0;34m(\u001b[0m\u001b[0mx\u001b[0m\u001b[0;34m,\u001b[0m\u001b[0my\u001b[0m\u001b[0;34m,\u001b[0m\u001b[0mz\u001b[0m\u001b[0;34m,\u001b[0m\u001b[0mxs\u001b[0m\u001b[0;34m,\u001b[0m\u001b[0mys\u001b[0m\u001b[0;34m,\u001b[0m\u001b[0mzs\u001b[0m\u001b[0;34m,\u001b[0m\u001b[0msinc\u001b[0m\u001b[0;34m,\u001b[0m\u001b[0msdec\u001b[0m\u001b[0;34m,\u001b[0m\u001b[0mp0\u001b[0m\u001b[0;34m,\u001b[0m\u001b[0minc0\u001b[0m\u001b[0;34m,\u001b[0m\u001b[0mdec0\u001b[0m\u001b[0;34m)\u001b[0m\u001b[0;34m\u001b[0m\u001b[0m\n\u001b[1;32m    365\u001b[0m         \u001b[0mr_ext\u001b[0m \u001b[0;34m=\u001b[0m \u001b[0mdobs\u001b[0m \u001b[0;34m-\u001b[0m \u001b[0mtf_ext\u001b[0m\u001b[0;34m\u001b[0m\u001b[0m\n",
      "\u001b[0;32m/home/andrelreis/anaconda2/lib/python2.7/site-packages/scipy/optimize/nnls.pyc\u001b[0m in \u001b[0;36mnnls\u001b[0;34m(A, b)\u001b[0m\n\u001b[1;32m     54\u001b[0m     \u001b[0mindex\u001b[0m \u001b[0;34m=\u001b[0m \u001b[0mzeros\u001b[0m\u001b[0;34m(\u001b[0m\u001b[0;34m(\u001b[0m\u001b[0mn\u001b[0m\u001b[0;34m,\u001b[0m\u001b[0;34m)\u001b[0m\u001b[0;34m,\u001b[0m \u001b[0mdtype\u001b[0m\u001b[0;34m=\u001b[0m\u001b[0mint\u001b[0m\u001b[0;34m)\u001b[0m\u001b[0;34m\u001b[0m\u001b[0m\n\u001b[1;32m     55\u001b[0m \u001b[0;34m\u001b[0m\u001b[0m\n\u001b[0;32m---> 56\u001b[0;31m     \u001b[0mx\u001b[0m\u001b[0;34m,\u001b[0m \u001b[0mrnorm\u001b[0m\u001b[0;34m,\u001b[0m \u001b[0mmode\u001b[0m \u001b[0;34m=\u001b[0m \u001b[0m_nnls\u001b[0m\u001b[0;34m.\u001b[0m\u001b[0mnnls\u001b[0m\u001b[0;34m(\u001b[0m\u001b[0mA\u001b[0m\u001b[0;34m,\u001b[0m \u001b[0mm\u001b[0m\u001b[0;34m,\u001b[0m \u001b[0mn\u001b[0m\u001b[0;34m,\u001b[0m \u001b[0mb\u001b[0m\u001b[0;34m,\u001b[0m \u001b[0mw\u001b[0m\u001b[0;34m,\u001b[0m \u001b[0mzz\u001b[0m\u001b[0;34m,\u001b[0m \u001b[0mindex\u001b[0m\u001b[0;34m)\u001b[0m\u001b[0;34m\u001b[0m\u001b[0m\n\u001b[0m\u001b[1;32m     57\u001b[0m     \u001b[0;32mif\u001b[0m \u001b[0mmode\u001b[0m \u001b[0;34m!=\u001b[0m \u001b[0;36m1\u001b[0m\u001b[0;34m:\u001b[0m\u001b[0;34m\u001b[0m\u001b[0m\n\u001b[1;32m     58\u001b[0m         \u001b[0;32mraise\u001b[0m \u001b[0mRuntimeError\u001b[0m\u001b[0;34m(\u001b[0m\u001b[0;34m\"too many iterations\"\u001b[0m\u001b[0;34m)\u001b[0m\u001b[0;34m\u001b[0m\u001b[0m\n",
      "\u001b[0;31mKeyboardInterrupt\u001b[0m: "
     ]
    }
   ],
   "source": [
    "mu_norm = []\n",
    "norm_r = []\n",
    "norm_m = []\n",
    "m_est = []\n",
    "incl_est = []\n",
    "decl_est = []\n",
    "phi_list = []\n",
    "for i in mu_list:\n",
    "    m_LM,inc_est,dec_est,phi,imax,pest,incs,decs = fc.levenberg_marquardt_NNLS(\n",
    "        data['tfa_obs_RM_airb'],airborne['x'],airborne['y'],\n",
    "        airborne['z'],xs,ys,zs,inc_gf,dec_gf,-10.,-10.,lamb,dlamb,i_pos,it_max,\n",
    "        it_marq,eps_e,eps_i,i)\n",
    "    G = fc.sensitivity_mag(airborne['x'],airborne['y'],airborne['z'],\n",
    "                       xs,ys,zs,inc_gf,dec_gf,inc_est,dec_est)\n",
    "    tfpred = np.dot(G,m_LM)\n",
    "    r = data['tfa_obs_RM_airb'] - tfpred \n",
    "    \n",
    "    norm_r.append(np.sqrt(np.sum(r*r)))\n",
    "    norm_m.append(np.sqrt(np.sum(m_LM*m_LM)))\n",
    "    m_est.append(m_LM)\n",
    "    incl_est.append(inc_est)\n",
    "    decl_est.append(dec_est)\n",
    "    phi_list.append(phi)"
   ]
  },
  {
   "cell_type": "markdown",
   "metadata": {},
   "source": [
    "## L-curve visualization"
   ]
  },
  {
   "cell_type": "code",
   "execution_count": null,
   "metadata": {},
   "outputs": [],
   "source": [
    "title_font = 20\n",
    "bottom_font = 18\n",
    "saturation_factor = 1.\n",
    "plt.close('all')\n",
    "plt.figure(figsize=(9,9), tight_layout=True)\n",
    "\n",
    "plt.figure(figsize=(10, 10))\n",
    "plt.loglog(norm_r,norm_m, 'b-')\n",
    "plt.loglog(norm_r,norm_m, 'bo')\n",
    "plt.title('L-curve', fontsize=title_font)\n",
    "plt.xlabel('r_norm', fontsize = title_font)\n",
    "plt.ylabel('m_norm', fontsize = title_font)\n",
    "plt.tick_params(axis='both', which='major', labelsize=15)\n",
    "\n",
    "file_name = 'figs/airborne/Lcurve_RM'\n",
    "plt.savefig(file_name+'.png',dpi=300)\n",
    "saved_files.append(file_name+'.png')\n",
    "\n",
    "plt.savefig(file_name+'.eps',dpi=300)\n",
    "saved_files.append(file_name+'.eps')\n",
    "\n",
    "\n",
    "plt.show()"
   ]
  },
  {
   "cell_type": "markdown",
   "metadata": {},
   "source": [
    "### Results"
   ]
  },
  {
   "cell_type": "code",
   "execution_count": null,
   "metadata": {},
   "outputs": [],
   "source": [
    "result_RM_airb['magnetic_moment'] = m_est\n",
    "result_RM_airb['inc_est'] = incl_est\n",
    "result_RM_airb['dec_est'] = decl_est\n",
    "result_RM_airb['layer_depth'] = h\n",
    "result_RM_airb['reg_parameter'] = mu_list\n",
    "result_RM_airb['phi'] = phi_list"
   ]
  },
  {
   "cell_type": "markdown",
   "metadata": {},
   "source": [
    "### Generating .pickle file"
   ]
  },
  {
   "cell_type": "code",
   "execution_count": null,
   "metadata": {},
   "outputs": [],
   "source": [
    "now = datetime.datetime.utcnow().strftime('%d %B %Y %H:%M:%S UTC')\n",
    "result_RM_airb['metadata'] = 'Generated by {name} on {date}'.format(date=now, name=notebook_name)"
   ]
  },
  {
   "cell_type": "code",
   "execution_count": null,
   "metadata": {},
   "outputs": [],
   "source": [
    "file_name = 'data/result_RM_airb.pickle'\n",
    "with open(file_name, 'w') as f:\n",
    "    pickle.dump(result_RM_airb, f)\n",
    "    \n",
    "saved_files.append(file_name)"
   ]
  },
  {
   "cell_type": "markdown",
   "metadata": {},
   "source": [
    "### Saved files"
   ]
  },
  {
   "cell_type": "code",
   "execution_count": null,
   "metadata": {},
   "outputs": [],
   "source": [
    "with open('reports/report_%s.md' % notebook_name[:st.index(notebook_name, '.')], 'w') as q:\n",
    "    q.write('# Saved files \\n')\n",
    "    now = datetime.datetime.utcnow().strftime('%d %B %Y %H:%M:%S UTC')\n",
    "    header = 'Generated by {name} on {date}'.format(date=now, name=notebook_name)\n",
    "    q.write('\\n\\n'+header+'\\n\\n')\n",
    "    for i, sf in enumerate(saved_files):\n",
    "        print '%d  %s' % (i+1,sf)\n",
    "        q.write('*  `%s` \\n' % (sf))"
   ]
  },
  {
   "cell_type": "code",
   "execution_count": null,
   "metadata": {},
   "outputs": [],
   "source": []
  },
  {
   "cell_type": "code",
   "execution_count": null,
   "metadata": {},
   "outputs": [],
   "source": []
  }
 ],
 "metadata": {
  "kernelspec": {
   "display_name": "Python 2",
   "language": "python",
   "name": "python2"
  },
  "language_info": {
   "codemirror_mode": {
    "name": "ipython",
    "version": 2
   },
   "file_extension": ".py",
   "mimetype": "text/x-python",
   "name": "python",
   "nbconvert_exporter": "python",
   "pygments_lexer": "ipython2",
   "version": "2.7.14"
  }
 },
 "nbformat": 4,
 "nbformat_minor": 2
}
