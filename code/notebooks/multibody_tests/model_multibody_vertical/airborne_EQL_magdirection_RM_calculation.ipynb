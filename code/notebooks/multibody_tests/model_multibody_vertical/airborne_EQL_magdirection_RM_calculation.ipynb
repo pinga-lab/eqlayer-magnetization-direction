{
 "cells": [
  {
   "cell_type": "markdown",
   "metadata": {},
   "source": [
    "# Equivalent layer technique for estimating total magnetization direction using "
   ]
  },
  {
   "cell_type": "markdown",
   "metadata": {},
   "source": [
    "#### Importing libraries"
   ]
  },
  {
   "cell_type": "code",
   "execution_count": 1,
   "metadata": {},
   "outputs": [],
   "source": [
    "% matplotlib inline "
   ]
  },
  {
   "cell_type": "code",
   "execution_count": 2,
   "metadata": {},
   "outputs": [
    {
     "name": "stderr",
     "output_type": "stream",
     "text": [
      "/home/andrelreis/anaconda2/lib/python2.7/site-packages/fatiando/vis/mpl.py:76: UserWarning: This module will be removed in v0.6. We recommend the use of matplotlib.pyplot module directly. Some of the fatiando specific functions will remain.\n",
      "  \"specific functions will remain.\")\n"
     ]
    }
   ],
   "source": [
    "import sys\n",
    "import numpy as np\n",
    "import matplotlib.pyplot as plt\n",
    "import cPickle as pickle\n",
    "import datetime\n",
    "import timeit\n",
    "import string as st\n",
    "from scipy.optimize import nnls\n",
    "from fatiando.gridder import regular\n",
    "from fatiando.utils import ang2vec, vec2ang\n",
    "from fatiando.mesher import Sphere, PointGrid,Prism\n",
    "from fatiando.gravmag import sphere,prism\n",
    "from fatiando.constants import CM, T2NT, G, SI2MGAL"
   ]
  },
  {
   "cell_type": "code",
   "execution_count": 3,
   "metadata": {},
   "outputs": [],
   "source": [
    "notebook_name = 'airborne_EQL_magdirection_RM_calculation.ipynb'"
   ]
  },
  {
   "cell_type": "markdown",
   "metadata": {},
   "source": [
    "#### Importing auxiliary functions"
   ]
  },
  {
   "cell_type": "code",
   "execution_count": 4,
   "metadata": {},
   "outputs": [],
   "source": [
    "dir_modules = '../../../mypackage'\n",
    "sys.path.append(dir_modules)"
   ]
  },
  {
   "cell_type": "code",
   "execution_count": 5,
   "metadata": {},
   "outputs": [],
   "source": [
    "import auxiliary_functions as fc"
   ]
  },
  {
   "cell_type": "markdown",
   "metadata": {},
   "source": [
    "#### Loading properties of the model"
   ]
  },
  {
   "cell_type": "code",
   "execution_count": 6,
   "metadata": {},
   "outputs": [],
   "source": [
    "with open('data/model_multi.pickle') as f:\n",
    "        model_multi = pickle.load(f)"
   ]
  },
  {
   "cell_type": "markdown",
   "metadata": {},
   "source": [
    "#### Loading properties grid"
   ]
  },
  {
   "cell_type": "code",
   "execution_count": 7,
   "metadata": {},
   "outputs": [],
   "source": [
    "with open('data/airborne_survey.pickle') as f:\n",
    "        airborne = pickle.load(f)"
   ]
  },
  {
   "cell_type": "markdown",
   "metadata": {},
   "source": [
    "#### Loading data"
   ]
  },
  {
   "cell_type": "code",
   "execution_count": 8,
   "metadata": {},
   "outputs": [],
   "source": [
    "with open('data/data_set.pickle') as f:\n",
    "        data = pickle.load(f)"
   ]
  },
  {
   "cell_type": "markdown",
   "metadata": {},
   "source": [
    "#### Open a dictionary"
   ]
  },
  {
   "cell_type": "code",
   "execution_count": 9,
   "metadata": {},
   "outputs": [],
   "source": [
    "result_RM_airb = dict()"
   ]
  },
  {
   "cell_type": "markdown",
   "metadata": {},
   "source": [
    "### Saving files"
   ]
  },
  {
   "cell_type": "code",
   "execution_count": 10,
   "metadata": {},
   "outputs": [],
   "source": [
    "saved_files = []"
   ]
  },
  {
   "cell_type": "markdown",
   "metadata": {},
   "source": [
    "## Observation area"
   ]
  },
  {
   "cell_type": "code",
   "execution_count": 11,
   "metadata": {},
   "outputs": [
    {
     "name": "stdout",
     "output_type": "stream",
     "text": [
      "Area limits: \n",
      " x_max = 6000.0 m \n",
      " x_min = -6000.0 m \n",
      " y_max = 6000.0 m \n",
      " y_min = -6000.0 m\n"
     ]
    }
   ],
   "source": [
    "print 'Area limits: \\n x_max = %.1f m \\n x_min = %.1f m \\n y_max = %.1f m \\n y_min = %.1f m' % (airborne['area'][1], \n",
    "                                                                                                airborne['area'][0],\n",
    "                                                                                                airborne['area'][3],\n",
    "                                                                                                airborne['area'][2])"
   ]
  },
  {
   "cell_type": "markdown",
   "metadata": {},
   "source": [
    "### airborne survey information"
   ]
  },
  {
   "cell_type": "code",
   "execution_count": 12,
   "metadata": {},
   "outputs": [
    {
     "name": "stdout",
     "output_type": "stream",
     "text": [
      "Shape : (55,25)\n",
      "Number of data: 1375.0\n",
      "dx: 222.2 m\n",
      "dy: 500.0 m \n"
     ]
    }
   ],
   "source": [
    "print 'Shape : (%.0f,%.0f)'% airborne['shape'] \n",
    "print 'Number of data: %.1f' % airborne['N']\n",
    "print 'dx: %.1f m' % airborne['dx']\n",
    "print 'dy: %.1f m ' % airborne['dy']"
   ]
  },
  {
   "cell_type": "markdown",
   "metadata": {},
   "source": [
    "## Properties of the model"
   ]
  },
  {
   "cell_type": "markdown",
   "metadata": {},
   "source": [
    "### Main field"
   ]
  },
  {
   "cell_type": "code",
   "execution_count": 13,
   "metadata": {},
   "outputs": [],
   "source": [
    "inc_gf,dec_gf = model_multi['main_field']"
   ]
  },
  {
   "cell_type": "code",
   "execution_count": 14,
   "metadata": {},
   "outputs": [
    {
     "name": "stdout",
     "output_type": "stream",
     "text": [
      "Main field inclination: -20.0 degree\n",
      "Main field declination: -20.0 degree\n"
     ]
    }
   ],
   "source": [
    "print'Main field inclination: %.1f degree' % inc_gf\n",
    "print'Main field declination: %.1f degree' % dec_gf"
   ]
  },
  {
   "cell_type": "markdown",
   "metadata": {},
   "source": [
    "### Magnetization direction"
   ]
  },
  {
   "cell_type": "code",
   "execution_count": 15,
   "metadata": {},
   "outputs": [
    {
     "name": "stdout",
     "output_type": "stream",
     "text": [
      "Inclination: -45.0 degree\n",
      "Declination: 50.0 degree\n"
     ]
    }
   ],
   "source": [
    "print 'Inclination: %.1f degree' % model_multi['inc_R']\n",
    "print 'Declination: %.1f degree' % model_multi['dec_R']"
   ]
  },
  {
   "cell_type": "code",
   "execution_count": 16,
   "metadata": {},
   "outputs": [],
   "source": [
    "inc_R,dec_R = model_multi['inc_R'],model_multi['dec_R']"
   ]
  },
  {
   "cell_type": "markdown",
   "metadata": {},
   "source": [
    "## Generating the layer with my function "
   ]
  },
  {
   "cell_type": "code",
   "execution_count": 17,
   "metadata": {},
   "outputs": [],
   "source": [
    "h = 1150."
   ]
  },
  {
   "cell_type": "markdown",
   "metadata": {},
   "source": [
    "#### Generating a layer"
   ]
  },
  {
   "cell_type": "code",
   "execution_count": 18,
   "metadata": {},
   "outputs": [],
   "source": [
    "shape_layer = (airborne['shape'][0],airborne['shape'][1])"
   ]
  },
  {
   "cell_type": "code",
   "execution_count": 19,
   "metadata": {},
   "outputs": [],
   "source": [
    "xs,ys,zs = regular(airborne['area'],shape_layer,h)"
   ]
  },
  {
   "cell_type": "markdown",
   "metadata": {},
   "source": [
    "### Levenberg-Marquardt with NNLS for positive magnetic moments"
   ]
  },
  {
   "cell_type": "code",
   "execution_count": 20,
   "metadata": {},
   "outputs": [],
   "source": [
    "i_pos = 1250"
   ]
  },
  {
   "cell_type": "code",
   "execution_count": 21,
   "metadata": {},
   "outputs": [],
   "source": [
    "it_max = 30"
   ]
  },
  {
   "cell_type": "code",
   "execution_count": 22,
   "metadata": {},
   "outputs": [],
   "source": [
    "it_marq = 15"
   ]
  },
  {
   "cell_type": "code",
   "execution_count": 23,
   "metadata": {},
   "outputs": [],
   "source": [
    "lamb = 10.\n",
    "dlamb = 100."
   ]
  },
  {
   "cell_type": "code",
   "execution_count": 24,
   "metadata": {},
   "outputs": [],
   "source": [
    "eps_e = 1e-4\n",
    "eps_i = 1e-4"
   ]
  },
  {
   "cell_type": "code",
   "execution_count": 25,
   "metadata": {},
   "outputs": [],
   "source": [
    "mu_list = [1e3,1e4,1e5,1e6]"
   ]
  },
  {
   "cell_type": "code",
   "execution_count": 26,
   "metadata": {},
   "outputs": [
    {
     "name": "stdout",
     "output_type": "stream",
     "text": [
      "i = 0\n",
      "-21.1756655141 -12.373024196\n",
      "i = 1\n",
      "-29.1614765335 -12.2402842158\n",
      "i = 2\n",
      "-34.7932182286 -11.8701739089\n",
      "i = 3\n",
      "-39.2389201543 -11.2805612035\n",
      "i = 4\n",
      "-42.8148916333 -10.4359961932\n",
      "i = 5\n",
      "-45.6864259528 -9.34069735846\n",
      "i = 6\n",
      "-48.0383988671 -7.97622775993\n",
      "i = 7\n",
      "-50.0391754563 -6.38516875767\n",
      "i = 8\n",
      "-51.7606311557 -4.57127489875\n",
      "i = 9\n",
      "-53.2431892418 -2.57419531876\n",
      "i = 10\n",
      "-54.5069378522 -0.356931343666\n",
      "i = 11\n",
      "-55.5623018908 2.1052350611\n",
      "i = 12\n",
      "-56.4146665046 4.77962465332\n",
      "i = 13\n",
      "-57.0669661116 7.6436524546\n",
      "i = 14\n",
      "-57.5282568422 10.6480669837\n",
      "i = 15\n",
      "-57.8047485868 13.7389913585\n",
      "i = 16\n",
      "-57.9096079687 16.872861148\n",
      "i = 17\n",
      "-57.8607470177 19.9752329713\n",
      "i = 18\n",
      "-57.6794268552 22.9765932339\n",
      "i = 19\n",
      "-57.3898183139 25.8198015624\n",
      "i = 20\n",
      "-57.0186213475 28.4640119582\n",
      "i = 21\n",
      "-56.594759589 30.8803047704\n",
      "i = 22\n",
      "-56.1417009591 33.0639334314\n",
      "i = 23\n",
      "-55.6816861212 35.0152572175\n",
      "i = 24\n",
      "-55.2286394345 36.7534931853\n",
      "i = 25\n",
      "-54.7872391352 38.3010014876\n",
      "i = 26\n",
      "-54.3590782392 39.6772315363\n",
      "i = 27\n",
      "-53.9538659234 40.8893648637\n",
      "i = 28\n",
      "-53.5848815861 41.9336613763\n",
      "i = 29\n",
      "-53.2466265062 42.8414098343\n",
      "i = 30\n",
      "-52.9407929337 43.623158708\n",
      "i = 31\n",
      "-52.6714420483 44.2953225612\n",
      "i = 32\n",
      "-52.4210342001 44.8940555608\n",
      "i = 33\n",
      "-52.1759588884 45.4423508357\n",
      "i = 34\n",
      "-51.9331992482 45.9513041504\n",
      "i = 35\n",
      "-51.6946403564 46.4219811142\n",
      "i = 36\n",
      "-51.4610141935 46.8587128459\n",
      "i = 37\n",
      "-51.231699346 47.2666970486\n",
      "i = 38\n",
      "-51.0070914342 47.6488975465\n",
      "i = 39\n",
      "-50.7872235632 48.0073467623\n",
      "i = 40\n",
      "-50.571745081 48.344506054\n",
      "i = 41\n",
      "-50.3601617452 48.662545044\n",
      "i = 42\n",
      "-50.1526256281 48.9624993046\n",
      "i = 43\n",
      "-49.9491249418 49.2447369806\n",
      "i = 44\n",
      "-49.7503613576 49.50976548\n",
      "i = 45\n",
      "-49.5562948412 49.7590489438\n",
      "i = 46\n",
      "-49.3666792683 49.9939779408\n",
      "i = 47\n",
      "-49.1815817568 50.2156398781\n",
      "i = 48\n",
      "-49.0020471237 50.4254022222\n",
      "i = 49\n",
      "-48.8279604192 50.6237276754\n",
      "i = 50\n",
      "-48.658670269 50.8104174482\n",
      "i = 51\n",
      "-48.4940699479 50.9861503255\n",
      "i = 52\n",
      "-48.3335626236 51.1520888568\n",
      "i = 53\n",
      "-48.176865309 51.3088951018\n",
      "i = 54\n",
      "-48.0229942685 51.4577975871\n",
      "i = 55\n",
      "-47.871040467 51.5998481007\n",
      "i = 56\n",
      "-47.7230857576 51.734080529\n",
      "i = 57\n",
      "-47.5793616965 51.8608566075\n",
      "i = 58\n",
      "-47.4376236453 51.9826552086\n",
      "i = 59\n",
      "-47.2979898492 52.0999466419\n",
      "i = 60\n",
      "-47.1604759802 52.2129542895\n",
      "i = 61\n",
      "-47.0250946601 52.3218874082\n",
      "i = 62\n",
      "-46.8918799741 52.4268378776\n",
      "i = 63\n",
      "-46.7606405531 52.5278856187\n",
      "i = 64\n",
      "-46.7606405531 52.5278856187\n",
      "i = 0\n",
      "-21.1756816165 -12.3731789935\n",
      "i = 1\n",
      "-29.1615107766 -12.2405808756\n",
      "i = 2\n",
      "-34.7933020873 -11.8703010114\n",
      "i = 3\n",
      "-39.2390453377 -11.2807005473\n",
      "i = 4\n",
      "-42.8150732723 -10.4360617122\n",
      "i = 5\n",
      "-45.6866438845 -9.34059669143\n",
      "i = 6\n",
      "-48.0387487092 -7.97599782456\n",
      "i = 7\n",
      "-50.0395501043 -6.3846672554\n",
      "i = 8\n",
      "-51.7609881954 -4.57041122332\n",
      "i = 9\n",
      "-53.2434622399 -2.57290482901\n",
      "i = 10\n",
      "-54.507093484 -0.355221044885\n",
      "i = 11\n",
      "-55.5624267635 2.10700867406\n",
      "i = 12\n",
      "-56.4147338423 4.78143333051\n",
      "i = 13\n",
      "-57.0670364435 7.64555493571\n",
      "i = 14\n",
      "-57.5282680341 10.6500996049\n",
      "i = 15\n",
      "-57.8047169933 13.7413232236\n",
      "i = 16\n",
      "-57.9094988769 16.8753663997\n",
      "i = 17\n",
      "-57.8605670955 19.9777997192\n",
      "i = 18\n",
      "-57.6790179647 22.9792470158\n",
      "i = 19\n",
      "-57.3892548838 25.8223559276\n",
      "i = 20\n",
      "-57.0180207618 28.4662814437\n",
      "i = 21\n",
      "-56.5941914531 30.882222149\n",
      "i = 22\n",
      "-56.1411836643 33.0655486147\n",
      "i = 23\n",
      "-55.6812619097 35.016675561\n",
      "i = 24\n",
      "-55.2283656739 36.7547760449\n",
      "i = 25\n",
      "-54.7871527551 38.3022073077\n",
      "i = 26\n",
      "-54.3591704505 39.6783596884\n",
      "i = 27\n",
      "-53.9541196756 40.8904470252\n",
      "i = 28\n",
      "-53.5852799471 41.9346979672\n",
      "i = 29\n",
      "-53.2471802331 42.8426264773\n",
      "i = 30\n",
      "-52.9415625125 43.6244480405\n",
      "i = 31\n",
      "-52.6724290516 44.2966394727\n",
      "i = 32\n",
      "-52.422181828 44.8954162241\n",
      "i = 33\n",
      "-52.1772435884 45.4436806962\n",
      "i = 34\n",
      "-51.9346063882 45.9526024421\n",
      "i = 35\n",
      "-51.6961296777 46.4233156801\n",
      "i = 36\n",
      "-51.462593891 46.8600492656\n",
      "i = 37\n",
      "-51.2333778184 47.2680921983\n",
      "i = 38\n",
      "-51.0088727265 47.6503394903\n",
      "i = 39\n",
      "-50.7891064804 48.0088241659\n",
      "i = 40\n",
      "-50.5737272854 48.3460098877\n",
      "i = 41\n",
      "-50.3622386657 48.6640335246\n",
      "i = 42\n",
      "-50.1547798368 48.9639051668\n",
      "i = 43\n",
      "-49.9513597232 49.2460625521\n",
      "i = 44\n",
      "-49.7526786733 49.5110173017\n",
      "i = 45\n",
      "-49.5587035076 49.7602236915\n",
      "i = 46\n",
      "-49.3691844065 49.99507556\n",
      "i = 47\n",
      "-49.1841712328 50.2166624321\n",
      "i = 48\n",
      "-49.0045858651 50.4263402464\n",
      "i = 49\n",
      "-48.8304735174 50.6245859036\n",
      "i = 50\n",
      "-48.6611634143 50.8111970529\n",
      "i = 51\n",
      "-48.4965527362 50.9868512876\n",
      "i = 52\n",
      "-48.3360404863 51.1527128377\n",
      "i = 53\n",
      "-48.1793456313 51.3094439041\n",
      "i = 54\n",
      "-48.0254841267 51.4582737957\n",
      "i = 55\n",
      "-47.8735533754 51.6002512158\n",
      "i = 56\n",
      "-47.7256014007 51.7344226225\n",
      "i = 57\n",
      "-47.5818872663 51.8611382476\n",
      "i = 58\n",
      "-47.4401441 51.9829311071\n",
      "i = 59\n",
      "-47.3005086181 52.1002159537\n",
      "i = 60\n",
      "-47.1629963145 52.2132121481\n",
      "i = 61\n",
      "-47.0276199529 52.3221321191\n",
      "i = 62\n",
      "-46.89441241 52.4270726464\n",
      "i = 63\n",
      "-46.7631867408 52.5281103385\n",
      "i = 64\n",
      "-46.7631867408 52.5281103385\n",
      "i = 0\n",
      "-21.176521839 -12.38994027\n",
      "i = 1\n",
      "-29.1668618331 -12.2733689755\n",
      "i = 2\n",
      "-34.8053658037 -11.8993662592\n",
      "i = 3\n",
      "-39.2537115198 -11.3072593089\n",
      "i = 4\n",
      "-42.8323505389 -10.4562880762\n",
      "i = 5\n",
      "-45.7072590414 -9.34269393825\n",
      "i = 6\n",
      "-48.0705342152 -7.95946712536\n",
      "i = 7\n",
      "-50.0736802925 -6.34032617951\n",
      "i = 8\n",
      "-51.7944299202 -4.49292303114\n",
      "i = 9\n",
      "-53.273778876 -2.45160812142\n",
      "i = 10\n",
      "-54.5313113683 -0.193402304299\n",
      "i = 11\n",
      "-55.579678815 2.28586481094\n",
      "i = 12\n",
      "-56.423770205 4.98976752455\n",
      "i = 13\n",
      "-57.0654731025 7.86626975017\n",
      "i = 14\n",
      "-57.5167276265 10.8847796149\n",
      "i = 15\n",
      "-57.7856975228 14.0029028774\n",
      "i = 16\n",
      "-57.8835913449 17.1530648069\n",
      "i = 17\n",
      "-57.8278131739 20.2613526846\n",
      "i = 18\n",
      "-57.6405775132 23.2587096131\n",
      "i = 19\n",
      "-57.3484090749 26.0880647517\n",
      "i = 20\n",
      "-56.9806411257 28.7074713733\n",
      "i = 21\n",
      "-56.5629483879 31.0968401707\n",
      "i = 22\n",
      "-56.1177074135 33.2547986733\n",
      "i = 23\n",
      "-55.6653479459 35.1861202171\n",
      "i = 24\n",
      "-55.2215519792 36.9084451511\n",
      "i = 25\n",
      "-54.790416718 38.4411346368\n",
      "i = 26\n",
      "-54.3746441695 39.8053836528\n",
      "i = 27\n",
      "-53.9825816265 41.0090739123\n",
      "i = 28\n",
      "-53.6263291709 42.0487686987\n",
      "i = 29\n",
      "-53.3016622978 42.9509047139\n",
      "i = 30\n",
      "-53.0090133791 43.7268125707\n",
      "i = 31\n",
      "-52.7533538517 44.3928507851\n",
      "i = 32\n",
      "-52.5148946868 44.9873513455\n",
      "i = 33\n",
      "-52.2807111582 45.5314818669\n",
      "i = 34\n",
      "-52.048676545 46.0369650369\n",
      "i = 35\n",
      "-51.8198648382 46.5079747279\n",
      "i = 36\n",
      "-51.5941090319 46.9489940217\n",
      "i = 37\n",
      "-51.3721970248 47.3607252075\n",
      "i = 38\n",
      "-51.1546073996 47.7443760546\n",
      "i = 39\n",
      "-50.941563804 48.1027709125\n",
      "i = 40\n",
      "-50.7327757322 48.4386402558\n",
      "i = 41\n",
      "-50.5277455114 48.7538699045\n",
      "i = 42\n",
      "-50.3266563901 49.0493858397\n",
      "i = 43\n",
      "-50.1298019512 49.3266004698\n",
      "i = 44\n",
      "-49.9375904186 49.5867139193\n",
      "i = 45\n",
      "-49.7503034318 49.83089353\n",
      "i = 46\n",
      "-49.5678643552 50.0604628296\n",
      "i = 47\n",
      "-49.3902265603 50.2767546984\n",
      "i = 48\n",
      "-49.217604224 50.4810837539\n",
      "i = 49\n",
      "-49.0495501496 50.6745065171\n",
      "i = 50\n",
      "-48.8856587491 50.8565743141\n",
      "i = 51\n",
      "-48.7261251472 51.0277917598\n",
      "i = 52\n",
      "-48.5700457551 51.1893581803\n",
      "i = 53\n",
      "-48.4163860585 51.3428243542\n",
      "i = 54\n",
      "-48.2651584229 51.4888790345\n",
      "i = 55\n",
      "-48.116426661 51.6282706283\n",
      "i = 56\n",
      "-47.9711603096 51.760633326\n",
      "i = 57\n",
      "-47.8280828613 51.8876465263\n",
      "i = 58\n",
      "-47.686974248 52.0098625358\n",
      "i = 59\n",
      "-47.5478632468 52.1275376958\n",
      "i = 60\n",
      "-47.4108953562 52.2406639165\n",
      "i = 61\n",
      "-47.276117527 52.3494225278\n",
      "i = 62\n",
      "-47.276117527 52.3494225278\n",
      "i = 0\n",
      "-21.5107012615 -12.4302104348\n",
      "i = 1\n",
      "-29.6835789128 -12.5362686913\n",
      "i = 2\n",
      "-35.5934157416 -11.9777333024\n",
      "i = 3\n",
      "-40.1372425151 -10.8774813725\n",
      "i = 4\n",
      "-43.7994815509 -9.20475709421\n",
      "i = 5\n",
      "-46.7794285078 -7.01035286294\n",
      "i = 6\n",
      "-49.1966861783 -4.40955842857\n",
      "i = 7\n",
      "-51.1541664299 -1.48449447265\n",
      "i = 8\n",
      "-52.7317680997 1.71743878627\n",
      "i = 9\n",
      "-53.9824505228 5.14074909833\n",
      "i = 10\n",
      "-54.9288623737 8.72679686884\n",
      "i = 11\n",
      "-55.5970008329 12.3943352742\n",
      "i = 12\n",
      "-56.0161361791 16.0415663722\n",
      "i = 13\n",
      "-56.2239583363 19.5633186052\n",
      "i = 14\n",
      "-56.2613354982 22.8811134342\n",
      "i = 15\n",
      "-56.1698811984 25.9392645947\n",
      "i = 16\n",
      "-55.9877143626 28.7025667533\n",
      "i = 17\n",
      "-55.7511482452 31.1597144937\n",
      "i = 18\n",
      "-55.490009652 33.3207490592\n",
      "i = 19\n",
      "-55.2251891316 35.2099558897\n",
      "i = 20\n",
      "-54.9726833795 36.850164297\n",
      "i = 21\n",
      "-54.7401764174 38.2738272061\n",
      "i = 22\n",
      "-54.5288539143 39.5150571771\n",
      "i = 23\n",
      "-54.3407972844 40.5982096578\n",
      "i = 24\n",
      "-54.1646616055 41.5592813345\n",
      "i = 25\n",
      "-53.9907983703 42.4272792825\n",
      "i = 26\n",
      "-53.8214848947 43.2105807532\n",
      "i = 27\n",
      "-53.6599911808 43.9143600884\n",
      "i = 28\n",
      "-53.505818195 44.5465796177\n",
      "i = 29\n",
      "-53.3568773648 45.1197051411\n",
      "i = 30\n",
      "-53.2128780195 45.6390828486\n",
      "i = 31\n",
      "-53.0730803544 46.1103355232\n",
      "i = 32\n",
      "-52.9371410235 46.5379347771\n",
      "i = 33\n",
      "-52.8045791629 46.9289060249\n",
      "i = 34\n",
      "-52.6756864959 47.2869280231\n",
      "i = 35\n",
      "-52.5489990544 47.617425103\n",
      "i = 36\n"
     ]
    },
    {
     "name": "stdout",
     "output_type": "stream",
     "text": [
      "-52.424919595 47.9226510387\n",
      "i = 37\n",
      "-52.3037174463 48.2047123903\n",
      "i = 38\n",
      "-52.3037174463 48.2047123903\n"
     ]
    }
   ],
   "source": [
    "mu_norm = []\n",
    "norm_r = []\n",
    "norm_m = []\n",
    "m_est = []\n",
    "incl_est = []\n",
    "decl_est = []\n",
    "phi_list = []\n",
    "for i in mu_list:\n",
    "    m_LM,inc_est,dec_est,phi,imax,pest,incs,decs = fc.levenberg_marquardt_NNLS(\n",
    "        data['tfa_obs_RM_airb'],airborne['x'],airborne['y'],\n",
    "        airborne['z'],xs,ys,zs,inc_gf,dec_gf,-10.,-10.,lamb,dlamb,i_pos,it_max,\n",
    "        it_marq,eps_e,eps_i,i)\n",
    "    G = fc.sensitivity_mag(airborne['x'],airborne['y'],airborne['z'],\n",
    "                       xs,ys,zs,inc_gf,dec_gf,inc_est,dec_est)\n",
    "    tfpred = np.dot(G,m_LM)\n",
    "    r = data['tfa_obs_RM_airb'] - tfpred \n",
    "    \n",
    "    norm_r.append(np.sqrt(np.sum(r*r)))\n",
    "    norm_m.append(np.sqrt(np.sum(m_LM*m_LM)))\n",
    "    m_est.append(m_LM)\n",
    "    incl_est.append(inc_est)\n",
    "    decl_est.append(dec_est)\n",
    "    phi_list.append(phi)"
   ]
  },
  {
   "cell_type": "markdown",
   "metadata": {},
   "source": [
    "## L-curve visualization"
   ]
  },
  {
   "cell_type": "code",
   "execution_count": 27,
   "metadata": {},
   "outputs": [
    {
     "data": {
      "text/plain": [
       "<matplotlib.figure.Figure at 0x7ff6f936ce90>"
      ]
     },
     "metadata": {},
     "output_type": "display_data"
    },
    {
     "data": {
      "image/png": "[encoded data removed]",
      "text/plain": [
       "<matplotlib.figure.Figure at 0x7ff6f936ce50>"
      ]
     },
     "metadata": {},
     "output_type": "display_data"
    }
   ],
   "source": [
    "title_font = 20\n",
    "bottom_font = 18\n",
    "saturation_factor = 1.\n",
    "plt.close('all')\n",
    "plt.figure(figsize=(9,9), tight_layout=True)\n",
    "\n",
    "plt.figure(figsize=(10, 10))\n",
    "plt.loglog(norm_r,norm_m, 'b-')\n",
    "plt.loglog(norm_r,norm_m, 'bo')\n",
    "plt.title('L-curve', fontsize=title_font)\n",
    "plt.xlabel('r_norm', fontsize = title_font)\n",
    "plt.ylabel('m_norm', fontsize = title_font)\n",
    "plt.tick_params(axis='both', which='major', labelsize=15)\n",
    "\n",
    "file_name = 'figs/airborne/Lcurve_RM'\n",
    "plt.savefig(file_name+'.png',dpi=300)\n",
    "saved_files.append(file_name+'.png')\n",
    "\n",
    "plt.savefig(file_name+'.eps',dpi=300)\n",
    "saved_files.append(file_name+'.eps')\n",
    "\n",
    "\n",
    "plt.show()"
   ]
  },
  {
   "cell_type": "markdown",
   "metadata": {},
   "source": [
    "### Results"
   ]
  },
  {
   "cell_type": "code",
   "execution_count": 28,
   "metadata": {},
   "outputs": [],
   "source": [
    "result_RM_airb['magnetic_moment'] = m_est\n",
    "result_RM_airb['inc_est'] = incl_est\n",
    "result_RM_airb['dec_est'] = decl_est\n",
    "result_RM_airb['layer_depth'] = h\n",
    "result_RM_airb['reg_parameter'] = mu_list\n",
    "result_RM_airb['phi'] = phi_list"
   ]
  },
  {
   "cell_type": "markdown",
   "metadata": {},
   "source": [
    "### Generating .pickle file"
   ]
  },
  {
   "cell_type": "code",
   "execution_count": 29,
   "metadata": {},
   "outputs": [],
   "source": [
    "now = datetime.datetime.utcnow().strftime('%d %B %Y %H:%M:%S UTC')\n",
    "result_RM_airb['metadata'] = 'Generated by {name} on {date}'.format(date=now, name=notebook_name)"
   ]
  },
  {
   "cell_type": "code",
   "execution_count": 30,
   "metadata": {},
   "outputs": [],
   "source": [
    "file_name = 'data/result_RM_airb.pickle'\n",
    "with open(file_name, 'w') as f:\n",
    "    pickle.dump(result_RM_airb, f)\n",
    "    \n",
    "saved_files.append(file_name)"
   ]
  },
  {
   "cell_type": "markdown",
   "metadata": {},
   "source": [
    "### Saved files"
   ]
  },
  {
   "cell_type": "code",
   "execution_count": 31,
   "metadata": {},
   "outputs": [
    {
     "name": "stdout",
     "output_type": "stream",
     "text": [
      "1  figs/airborne/Lcurve_RM.png\n",
      "2  figs/airborne/Lcurve_RM.eps\n",
      "3  data/result_RM_airb.pickle\n"
     ]
    }
   ],
   "source": [
    "with open('reports/report_%s.md' % notebook_name[:st.index(notebook_name, '.')], 'w') as q:\n",
    "    q.write('# Saved files \\n')\n",
    "    now = datetime.datetime.utcnow().strftime('%d %B %Y %H:%M:%S UTC')\n",
    "    header = 'Generated by {name} on {date}'.format(date=now, name=notebook_name)\n",
    "    q.write('\\n\\n'+header+'\\n\\n')\n",
    "    for i, sf in enumerate(saved_files):\n",
    "        print '%d  %s' % (i+1,sf)\n",
    "        q.write('*  `%s` \\n' % (sf))"
   ]
  },
  {
   "cell_type": "code",
   "execution_count": null,
   "metadata": {},
   "outputs": [],
   "source": []
  },
  {
   "cell_type": "code",
   "execution_count": null,
   "metadata": {},
   "outputs": [],
   "source": []
  }
 ],
 "metadata": {
  "kernelspec": {
   "display_name": "Python 2",
   "language": "python",
   "name": "python2"
  },
  "language_info": {
   "codemirror_mode": {
    "name": "ipython",
    "version": 2
   },
   "file_extension": ".py",
   "mimetype": "text/x-python",
   "name": "python",
   "nbconvert_exporter": "python",
   "pygments_lexer": "ipython2",
   "version": "2.7.14"
  }
 },
 "nbformat": 4,
 "nbformat_minor": 2
}
