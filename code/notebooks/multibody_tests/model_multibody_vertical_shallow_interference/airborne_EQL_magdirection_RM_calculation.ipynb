{
 "cells": [
  {
   "cell_type": "markdown",
   "metadata": {},
   "source": [
    "# Equivalent layer technique for estimating total magnetization direction using "
   ]
  },
  {
   "cell_type": "markdown",
   "metadata": {},
   "source": [
    "#### Importing libraries"
   ]
  },
  {
   "cell_type": "code",
   "execution_count": 1,
   "metadata": {},
   "outputs": [],
   "source": [
    "% matplotlib inline "
   ]
  },
  {
   "cell_type": "code",
   "execution_count": 2,
   "metadata": {},
   "outputs": [
    {
     "name": "stderr",
     "output_type": "stream",
     "text": [
      "/home/andrelreis/anaconda2/lib/python2.7/site-packages/fatiando/vis/mpl.py:76: UserWarning: This module will be removed in v0.6. We recommend the use of matplotlib.pyplot module directly. Some of the fatiando specific functions will remain.\n",
      "  \"specific functions will remain.\")\n"
     ]
    }
   ],
   "source": [
    "import sys\n",
    "import numpy as np\n",
    "import matplotlib.pyplot as plt\n",
    "import cPickle as pickle\n",
    "import datetime\n",
    "import timeit\n",
    "import string as st\n",
    "from scipy.optimize import nnls\n",
    "from fatiando.gridder import regular\n",
    "from fatiando.utils import ang2vec, vec2ang\n",
    "from fatiando.mesher import Sphere, PointGrid,Prism\n",
    "from fatiando.gravmag import sphere,prism\n",
    "from fatiando.constants import CM, T2NT, G, SI2MGAL"
   ]
  },
  {
   "cell_type": "code",
   "execution_count": 3,
   "metadata": {},
   "outputs": [],
   "source": [
    "notebook_name = 'airborne_EQL_magdirection_RM_calculation.ipynb'"
   ]
  },
  {
   "cell_type": "markdown",
   "metadata": {},
   "source": [
    "#### Importing auxiliary functions"
   ]
  },
  {
   "cell_type": "code",
   "execution_count": 4,
   "metadata": {},
   "outputs": [],
   "source": [
    "dir_modules = '../../../mypackage'\n",
    "sys.path.append(dir_modules)"
   ]
  },
  {
   "cell_type": "code",
   "execution_count": 5,
   "metadata": {},
   "outputs": [],
   "source": [
    "import auxiliary_functions as fc"
   ]
  },
  {
   "cell_type": "markdown",
   "metadata": {},
   "source": [
    "#### Loading properties of the model"
   ]
  },
  {
   "cell_type": "code",
   "execution_count": 6,
   "metadata": {},
   "outputs": [],
   "source": [
    "with open('data/model_multi.pickle') as f:\n",
    "        model_multi = pickle.load(f)"
   ]
  },
  {
   "cell_type": "markdown",
   "metadata": {},
   "source": [
    "#### Loading properties grid"
   ]
  },
  {
   "cell_type": "code",
   "execution_count": 7,
   "metadata": {},
   "outputs": [],
   "source": [
    "with open('data/airborne_survey.pickle') as f:\n",
    "        airborne = pickle.load(f)"
   ]
  },
  {
   "cell_type": "markdown",
   "metadata": {},
   "source": [
    "#### Loading data"
   ]
  },
  {
   "cell_type": "code",
   "execution_count": 8,
   "metadata": {},
   "outputs": [],
   "source": [
    "with open('data/data_set.pickle') as f:\n",
    "        data = pickle.load(f)"
   ]
  },
  {
   "cell_type": "markdown",
   "metadata": {},
   "source": [
    "#### Open a dictionary"
   ]
  },
  {
   "cell_type": "code",
   "execution_count": 9,
   "metadata": {},
   "outputs": [],
   "source": [
    "result_RM_airb = dict()"
   ]
  },
  {
   "cell_type": "markdown",
   "metadata": {},
   "source": [
    "### Saving files"
   ]
  },
  {
   "cell_type": "code",
   "execution_count": 10,
   "metadata": {},
   "outputs": [],
   "source": [
    "saved_files = []"
   ]
  },
  {
   "cell_type": "markdown",
   "metadata": {},
   "source": [
    "## Observation area"
   ]
  },
  {
   "cell_type": "code",
   "execution_count": 11,
   "metadata": {},
   "outputs": [
    {
     "name": "stdout",
     "output_type": "stream",
     "text": [
      "Area limits: \n",
      " x_max = 6000.0 m \n",
      " x_min = -6000.0 m \n",
      " y_max = 6000.0 m \n",
      " y_min = -6000.0 m\n"
     ]
    }
   ],
   "source": [
    "print 'Area limits: \\n x_max = %.1f m \\n x_min = %.1f m \\n y_max = %.1f m \\n y_min = %.1f m' % (airborne['area'][1], \n",
    "                                                                                                airborne['area'][0],\n",
    "                                                                                                airborne['area'][3],\n",
    "                                                                                                airborne['area'][2])"
   ]
  },
  {
   "cell_type": "markdown",
   "metadata": {},
   "source": [
    "### airborne survey information"
   ]
  },
  {
   "cell_type": "code",
   "execution_count": 12,
   "metadata": {},
   "outputs": [
    {
     "name": "stdout",
     "output_type": "stream",
     "text": [
      "Shape : (55,25)\n",
      "Number of data: 1375.0\n",
      "dx: 222.2 m\n",
      "dy: 500.0 m \n"
     ]
    }
   ],
   "source": [
    "print 'Shape : (%.0f,%.0f)'% airborne['shape'] \n",
    "print 'Number of data: %.1f' % airborne['N']\n",
    "print 'dx: %.1f m' % airborne['dx']\n",
    "print 'dy: %.1f m ' % airborne['dy']"
   ]
  },
  {
   "cell_type": "markdown",
   "metadata": {},
   "source": [
    "## Properties of the model"
   ]
  },
  {
   "cell_type": "markdown",
   "metadata": {},
   "source": [
    "### Main field"
   ]
  },
  {
   "cell_type": "code",
   "execution_count": 13,
   "metadata": {},
   "outputs": [],
   "source": [
    "inc_gf,dec_gf = model_multi['main_field']"
   ]
  },
  {
   "cell_type": "code",
   "execution_count": 14,
   "metadata": {},
   "outputs": [
    {
     "name": "stdout",
     "output_type": "stream",
     "text": [
      "Main field inclination: -20.0 degree\n",
      "Main field declination: -20.0 degree\n"
     ]
    }
   ],
   "source": [
    "print'Main field inclination: %.1f degree' % inc_gf\n",
    "print'Main field declination: %.1f degree' % dec_gf"
   ]
  },
  {
   "cell_type": "markdown",
   "metadata": {},
   "source": [
    "### Magnetization direction"
   ]
  },
  {
   "cell_type": "code",
   "execution_count": 15,
   "metadata": {},
   "outputs": [
    {
     "name": "stdout",
     "output_type": "stream",
     "text": [
      "Inclination: -45.0 degree\n",
      "Declination: 40.0 degree\n"
     ]
    }
   ],
   "source": [
    "print 'Inclination: %.1f degree' % model_multi['inc_R']\n",
    "print 'Declination: %.1f degree' % model_multi['dec_R']"
   ]
  },
  {
   "cell_type": "code",
   "execution_count": 16,
   "metadata": {},
   "outputs": [],
   "source": [
    "inc_R,dec_R = model_multi['inc_R'],model_multi['dec_R']"
   ]
  },
  {
   "cell_type": "markdown",
   "metadata": {},
   "source": [
    "## Generating the layer with my function "
   ]
  },
  {
   "cell_type": "code",
   "execution_count": 17,
   "metadata": {},
   "outputs": [],
   "source": [
    "h = 1150."
   ]
  },
  {
   "cell_type": "markdown",
   "metadata": {},
   "source": [
    "#### Generating a layer"
   ]
  },
  {
   "cell_type": "code",
   "execution_count": 18,
   "metadata": {},
   "outputs": [],
   "source": [
    "shape_layer = (airborne['shape'][0],airborne['shape'][1])"
   ]
  },
  {
   "cell_type": "code",
   "execution_count": 19,
   "metadata": {},
   "outputs": [],
   "source": [
    "xs,ys,zs = regular(airborne['area'],shape_layer,h)"
   ]
  },
  {
   "cell_type": "markdown",
   "metadata": {},
   "source": [
    "### Levenberg-Marquardt with NNLS for positive magnetic moments"
   ]
  },
  {
   "cell_type": "code",
   "execution_count": 20,
   "metadata": {},
   "outputs": [],
   "source": [
    "i_pos = 1500"
   ]
  },
  {
   "cell_type": "code",
   "execution_count": 21,
   "metadata": {},
   "outputs": [],
   "source": [
    "it_max = 30"
   ]
  },
  {
   "cell_type": "code",
   "execution_count": 22,
   "metadata": {},
   "outputs": [],
   "source": [
    "it_marq = 15"
   ]
  },
  {
   "cell_type": "code",
   "execution_count": 23,
   "metadata": {},
   "outputs": [],
   "source": [
    "lamb = 10.\n",
    "dlamb = 100."
   ]
  },
  {
   "cell_type": "code",
   "execution_count": 24,
   "metadata": {},
   "outputs": [],
   "source": [
    "eps_e = 1e-4\n",
    "eps_i = 1e-4"
   ]
  },
  {
   "cell_type": "code",
   "execution_count": 25,
   "metadata": {},
   "outputs": [],
   "source": [
    "mu_list = [1e3,1e4,1e5,3*1e5,4*1e5,5*1e5,1e6,1e7]"
   ]
  },
  {
   "cell_type": "code",
   "execution_count": 26,
   "metadata": {},
   "outputs": [
    {
     "name": "stdout",
     "output_type": "stream",
     "text": [
      "i = 0\n",
      "-23.9930238698 21.5483262486\n",
      "i = 1\n",
      "-26.7105488472 22.900618806\n",
      "i = 2\n",
      "-28.7777551323 24.0761351417\n",
      "i = 3\n",
      "-30.4764670609 25.1117625284\n",
      "i = 4\n",
      "-31.9223917613 26.0788394927\n",
      "i = 5\n",
      "-33.1751914866 26.9988286031\n",
      "i = 6\n",
      "-34.2750415423 27.8895885302\n",
      "i = 7\n",
      "-35.2520862973 28.7507587079\n",
      "i = 8\n",
      "-36.1324583048 29.5854730897\n",
      "i = 9\n",
      "-36.9335579713 30.39104396\n",
      "i = 10\n",
      "-37.6665516122 31.1721875704\n",
      "i = 11\n",
      "-38.3379853232 31.9300299628\n",
      "i = 12\n",
      "-38.9558354924 32.6690232899\n",
      "i = 13\n",
      "-39.5266161169 33.3936631161\n",
      "i = 14\n",
      "-40.0501402755 34.0954664612\n",
      "i = 15\n",
      "-40.5237082768 34.7732299038\n",
      "i = 16\n",
      "-40.9490865735 35.4189616899\n",
      "i = 17\n",
      "-41.330694608 36.0311665074\n",
      "i = 18\n",
      "-41.6722692431 36.60830359\n",
      "i = 19\n",
      "-41.985483413 37.1558686707\n",
      "i = 20\n",
      "-42.2739406521 37.6765521354\n",
      "i = 21\n",
      "-42.5335131161 38.1615661089\n",
      "i = 22\n",
      "-42.7684489774 38.6146682271\n",
      "i = 23\n",
      "-42.9820867373 39.038482017\n",
      "i = 24\n",
      "-43.1766957038 39.435082239\n",
      "i = 25\n",
      "-43.3531182614 39.8049972371\n",
      "i = 26\n",
      "-43.513824064 40.1495886852\n",
      "i = 27\n",
      "-43.6555048938 40.4676511894\n",
      "i = 28\n",
      "-43.7824806208 40.7615346117\n",
      "i = 29\n",
      "-43.8960951821 41.0324289515\n",
      "i = 30\n",
      "-43.997445518 41.2820266219\n",
      "i = 31\n",
      "-44.0879468646 41.5119555651\n",
      "i = 32\n",
      "-44.1694080696 41.7247269547\n",
      "i = 33\n",
      "-44.2429893105 41.9219409425\n",
      "i = 34\n",
      "-44.3095290139 42.1047210715\n",
      "i = 35\n",
      "-44.3699582774 42.2743461183\n",
      "i = 36\n",
      "-44.4245184226 42.431591556\n",
      "i = 37\n",
      "-44.4706081652 42.5749158034\n",
      "i = 38\n",
      "-44.5064087441 42.701174119\n",
      "i = 39\n",
      "-44.5064087441 42.701174119\n",
      "i = 0\n",
      "-23.9930323573 21.5483992687\n",
      "i = 1\n",
      "-26.7105524936 22.9005931642\n",
      "i = 2\n",
      "-28.7778176742 24.0760803237\n",
      "i = 3\n",
      "-30.4765699433 25.1117189763\n",
      "i = 4\n",
      "-31.9225282526 26.0787851619\n",
      "i = 5\n",
      "-33.1753527512 26.9988505188\n",
      "i = 6\n",
      "-34.2752147474 27.8896647147\n",
      "i = 7\n",
      "-35.2522519982 28.7508623564\n",
      "i = 8\n",
      "-36.1326117512 29.5855852921\n",
      "i = 9\n",
      "-36.9336932112 30.391143167\n",
      "i = 10\n",
      "-37.6666553023 31.1722645431\n",
      "i = 11\n",
      "-38.3380532934 31.9300545099\n",
      "i = 12\n",
      "-38.9558548481 32.66897614\n",
      "i = 13\n",
      "-39.5265810089 33.3935177001\n",
      "i = 14\n",
      "-40.050097652 34.0952581386\n",
      "i = 15\n",
      "-40.5236711687 34.7729090025\n",
      "i = 16\n",
      "-40.9490369535 35.4185368248\n",
      "i = 17\n",
      "-41.3305992264 36.0306150922\n",
      "i = 18\n",
      "-41.6721041416 36.6076123636\n",
      "i = 19\n",
      "-41.985332257 37.155124189\n",
      "i = 20\n",
      "-42.2738048198 37.6757503924\n",
      "i = 21\n",
      "-42.5334767175 38.1607931258\n",
      "i = 22\n",
      "-42.7684865787 38.6138655183\n",
      "i = 23\n",
      "-42.9822011872 39.037657603\n",
      "i = 24\n",
      "-43.176891625 39.4342349296\n",
      "i = 25\n",
      "-43.3534899327 39.8041889452\n",
      "i = 26\n",
      "-43.5142536166 40.1487704898\n",
      "i = 27\n",
      "-43.6559815992 40.4668216055\n",
      "i = 28\n",
      "-43.7830049184 40.7606948429\n",
      "i = 29\n",
      "-43.8966350834 41.0315559437\n",
      "i = 30\n",
      "-43.9980052509 41.281090059\n",
      "i = 31\n",
      "-44.088515796 41.5109402427\n",
      "i = 32\n",
      "-44.1700010729 41.7236642577\n",
      "i = 33\n",
      "-44.2436178605 41.9208715058\n",
      "i = 34\n",
      "-44.3101780919 42.1036487534\n",
      "i = 35\n",
      "-44.3706244054 42.2732705253\n",
      "i = 36\n",
      "-44.4252318485 42.4305455569\n",
      "i = 37\n",
      "-44.4714796134 42.5739442234\n",
      "i = 38\n",
      "-44.5074252483 42.7002712026\n",
      "i = 39\n",
      "-44.5074252483 42.7002712026\n",
      "i = 0\n",
      "-23.9940803681 21.5485301341\n",
      "i = 1\n",
      "-26.7157454733 22.898986839\n",
      "i = 2\n",
      "-28.7879783861 24.0729752064\n",
      "i = 3\n",
      "-30.4901485678 25.105285336\n",
      "i = 4\n",
      "-31.9400379456 26.0704932136\n",
      "i = 5\n",
      "-33.1954046084 26.9944633875\n",
      "i = 6\n",
      "-34.2966669319 27.8877470298\n",
      "i = 7\n",
      "-35.2734289543 28.750009807\n",
      "i = 8\n",
      "-36.152788594 29.5840303705\n",
      "i = 9\n",
      "-36.9525523427 30.3876945425\n",
      "i = 10\n",
      "-37.6829641528 31.1661432077\n",
      "i = 11\n",
      "-38.3510919707 31.9199393432\n",
      "i = 12\n",
      "-38.9649469642 32.6521000214\n",
      "i = 13\n",
      "-39.5313713183 33.3673375005\n",
      "i = 14\n",
      "-40.0521148672 34.0588775787\n",
      "i = 15\n",
      "-40.5250448495 34.7248143151\n",
      "i = 16\n",
      "-40.9510509307 35.3593689206\n",
      "i = 17\n",
      "-41.3325712491 35.9594199892\n",
      "i = 18\n",
      "-41.6774738035 36.527832952\n",
      "i = 19\n",
      "-41.9944048207 37.0683834237\n",
      "i = 20\n",
      "-42.2862185563 37.5819436234\n",
      "i = 21\n",
      "-42.5538892812 38.0661213383\n",
      "i = 22\n",
      "-42.7959971206 38.5168631694\n",
      "i = 23\n",
      "-43.0171056901 38.9391523397\n",
      "i = 24\n",
      "-43.2192044252 39.3340526872\n",
      "i = 25\n",
      "-43.4039491534 39.7030182565\n",
      "i = 26\n",
      "-43.5700063303 40.0460646751\n",
      "i = 27\n",
      "-43.7163055965 40.363606914\n",
      "i = 28\n",
      "-43.8475626853 40.657405708\n",
      "i = 29\n",
      "-43.9647029658 40.9285596764\n",
      "i = 30\n",
      "-44.0688760757 41.1783547782\n",
      "i = 31\n",
      "-44.1624202996 41.4097960923\n",
      "i = 32\n",
      "-44.2467480331 41.6238044581\n",
      "i = 33\n",
      "-44.3227974132 41.8215701364\n",
      "i = 34\n",
      "-44.391417205 42.0044663676\n",
      "i = 35\n",
      "-44.4532052248 42.1736869107\n",
      "i = 36\n",
      "-44.508770223 42.3304515066\n",
      "i = 37\n",
      "-44.5586869122 42.4756817714\n",
      "i = 38\n",
      "-44.6002131517 42.6046617637\n",
      "i = 39\n",
      "-44.6002131517 42.6046617637\n",
      "i = 0\n",
      "-24.0161611761 21.5384103352\n",
      "i = 1\n",
      "-26.7552089623 22.9008488169\n",
      "i = 2\n",
      "-28.8592694426 24.0928274722\n",
      "i = 3\n",
      "-30.5772363361 25.1327709161\n",
      "i = 4\n",
      "-32.0461023355 26.1141395796\n",
      "i = 5\n",
      "-33.3129590546 27.0457256627\n",
      "i = 6\n",
      "-34.4183485341 27.9338739424\n",
      "i = 7\n",
      "-35.3978225567 28.780986486\n",
      "i = 8\n",
      "-36.2801319497 29.5929111923\n",
      "i = 9\n",
      "-37.0765813944 30.3689156221\n",
      "i = 10\n",
      "-37.7988255248 31.1103043167\n",
      "i = 11\n",
      "-38.4563292118 31.8202561103\n",
      "i = 12\n",
      "-39.0561444469 32.5027208294\n",
      "i = 13\n",
      "-39.6084937839 33.1634326798\n",
      "i = 14\n",
      "-40.1180430243 33.8011624539\n",
      "i = 15\n",
      "-40.5872596455 34.413816689\n",
      "i = 16\n",
      "-41.0179489324 34.9992930456\n",
      "i = 17\n",
      "-41.4113961969 35.5554345794\n",
      "i = 18\n",
      "-41.7712554361 36.082754366\n",
      "i = 19\n",
      "-42.1023520311 36.5807826963\n",
      "i = 20\n",
      "-42.4074276889 37.0501957804\n",
      "i = 21\n",
      "-42.6893475208 37.4920510224\n",
      "i = 22\n",
      "-42.9495128342 37.9082188919\n",
      "i = 23\n",
      "-43.1895758981 38.299826581\n",
      "i = 24\n",
      "-43.4120008393 38.669059752\n",
      "i = 25\n",
      "-43.618664796 39.0169282536\n",
      "i = 26\n",
      "-43.811274277 39.3455513132\n",
      "i = 27\n",
      "-43.9909028483 39.65447322\n",
      "i = 28\n",
      "-44.1575877021 39.9435559847\n",
      "i = 29\n",
      "-44.3124656447 40.2138483542\n",
      "i = 30\n",
      "-44.4564915848 40.466308203\n",
      "i = 31\n",
      "-44.5905613318 40.7018504035\n",
      "i = 32\n",
      "-44.7155322053 40.9214664209\n",
      "i = 33\n",
      "-44.8322048558 41.1261364804\n",
      "i = 34\n",
      "-44.9412100265 41.3167483802\n",
      "i = 35\n",
      "-45.0430237262 41.4940406505\n",
      "i = 36\n",
      "-45.1381830389 41.6588934659\n",
      "i = 37\n",
      "-45.2270257038 41.8119499559\n",
      "i = 38\n",
      "-45.3096396113 41.9532656517\n",
      "i = 39\n",
      "-45.3862853186 42.0832108088\n",
      "i = 40\n",
      "-45.4574631884 42.2025818654\n",
      "i = 41\n",
      "-45.5236301216 42.3121538605\n",
      "i = 42\n",
      "-45.5236301216 42.3121538605\n",
      "i = 0\n",
      "-24.0304250581 21.544204824\n",
      "i = 1\n",
      "-26.7887342896 22.9115858301\n",
      "i = 2\n",
      "-28.9169954973 24.1078913464\n",
      "i = 3\n",
      "-30.6475085495 25.1523176014\n",
      "i = 4\n",
      "-32.125100529 26.1345352173\n",
      "i = 5\n",
      "-33.3991157487 27.0633112888\n",
      "i = 6\n",
      "-34.509977619 27.9476318647\n",
      "i = 7\n",
      "-35.4946975675 28.7912079426\n",
      "i = 8\n",
      "-36.3790531862 29.5957538774\n",
      "i = 9\n",
      "-37.1742844068 30.3590991149\n",
      "i = 10\n",
      "-37.8974268335 31.0876440868\n",
      "i = 11\n",
      "-38.5591400092 31.7855863053\n",
      "i = 12\n",
      "-39.165938324 32.4571774985\n",
      "i = 13\n",
      "-39.723222173 33.1017951933\n",
      "i = 14\n",
      "-40.2360954969 33.7191608835\n",
      "i = 15\n",
      "-40.7079054419 34.307772907\n",
      "i = 16\n",
      "-41.1412768021 34.8651788812\n",
      "i = 17\n",
      "-41.5387144682 35.3906377935\n",
      "i = 18\n",
      "-41.9054233815 35.8860682075\n",
      "i = 19\n",
      "-42.2456193675 36.3547202094\n",
      "i = 20\n",
      "-42.5613159406 36.7974191753\n",
      "i = 21\n",
      "-42.8543050722 37.2147945812\n",
      "i = 22\n",
      "-43.1269017023 37.6074933534\n",
      "i = 23\n",
      "-43.3803414403 37.9761479308\n",
      "i = 24\n",
      "-43.6161084497 38.3225268901\n",
      "i = 25\n",
      "-43.8356798716 38.64797168\n",
      "i = 26\n",
      "-44.0403517537 38.9525053467\n",
      "i = 27\n",
      "-44.2312427915 39.2371767412\n",
      "i = 28\n",
      "-44.4093830899 39.5026629658\n",
      "i = 29\n",
      "-44.575745947 39.7497580165\n",
      "i = 30\n",
      "-44.7312946977 39.9794614693\n",
      "i = 31\n",
      "-44.8768993883 40.192815916\n",
      "i = 32\n",
      "-45.0133412891 40.3907216291\n",
      "i = 33\n",
      "-45.1413056864 40.5740068673\n",
      "i = 34\n",
      "-45.2614519374 40.7434674734\n",
      "i = 35\n",
      "-45.3744019259 40.8999740968\n",
      "i = 36\n",
      "-45.4807298703 41.0443437834\n",
      "i = 37\n",
      "-45.5809564149 41.1773573371\n",
      "i = 38\n",
      "-45.6755421779 41.2997483022\n",
      "i = 39\n",
      "-45.7644603858 41.4116907485\n",
      "i = 40\n",
      "-45.8480605516 41.5138032908\n",
      "i = 41\n",
      "-45.9267890842 41.6068099393\n",
      "i = 42\n",
      "-46.0009907557 41.6913525124\n",
      "i = 43\n",
      "-46.0009907557 41.6913525124\n",
      "i = 0\n",
      "-24.0408803141 21.5493917248\n",
      "i = 1\n",
      "-26.8267804794 22.9250477497\n",
      "i = 2\n",
      "-28.9796364506 24.130055281\n",
      "i = 3\n",
      "-30.7238841737 25.1833833612\n",
      "i = 4\n",
      "-32.209038103 26.1700667586\n",
      "i = 5\n",
      "-33.4869304026 27.0959392448\n",
      "i = 6\n",
      "-34.603439629 27.9732879476\n",
      "i = 7\n",
      "-35.5919493679 28.8068746105\n",
      "i = 8\n",
      "-36.4818103542 29.6022241816\n",
      "i = 9\n",
      "-37.2882502435 30.3624111038\n",
      "i = 10\n",
      "-38.0224680262 31.0863484815\n",
      "i = 11\n",
      "-38.6927029283 31.7751177646\n",
      "i = 12\n",
      "-39.3081519551 32.4331470795\n",
      "i = 13\n",
      "-39.8735349155 33.0573281823\n",
      "i = 14\n",
      "-40.3951140268 33.6505938689\n",
      "i = 15\n",
      "-40.8774475308 34.2146788601\n",
      "i = 16\n",
      "-41.3208717028 34.747915864\n",
      "i = 17\n",
      "-41.7293584323 35.2507366511\n",
      "i = 18\n",
      "-42.1064371298 35.7230491868\n",
      "i = 19\n",
      "-42.4556519606 36.1662538009\n",
      "i = 20\n",
      "-42.7799214262 36.5814994486\n",
      "i = 21\n",
      "-43.0817906645 36.9702882208\n",
      "i = 22\n",
      "-43.3632534349 37.3347341266\n",
      "i = 23\n",
      "-43.6258294378 37.6761720132\n",
      "i = 24\n"
     ]
    },
    {
     "name": "stdout",
     "output_type": "stream",
     "text": [
      "-43.8704379646 37.9953158391\n",
      "i = 25\n",
      "-44.0982998679 38.2925871308\n",
      "i = 26\n",
      "-44.3108374524 38.5684225147\n",
      "i = 27\n",
      "-44.5095461491 38.8242019286\n",
      "i = 28\n",
      "-44.6955958629 39.0609602244\n",
      "i = 29\n",
      "-44.8698164074 39.2793742188\n",
      "i = 30\n",
      "-45.0330917207 39.4804737111\n",
      "i = 31\n",
      "-45.1863368071 39.6654210281\n",
      "i = 32\n",
      "-45.330351147 39.8352070848\n",
      "i = 33\n",
      "-45.4658571614 39.990778299\n",
      "i = 34\n",
      "-45.5932989342 40.1328204716\n",
      "i = 35\n",
      "-45.7135403364 40.2625134084\n",
      "i = 36\n",
      "-45.8271377455 40.3806988416\n",
      "i = 37\n",
      "-45.9345976665 40.4881652329\n",
      "i = 38\n",
      "-46.0363875249 40.5856588686\n",
      "i = 39\n",
      "-46.1329348109 40.6738589545\n",
      "i = 40\n",
      "-46.2246233938 40.7534258838\n",
      "i = 41\n",
      "-46.311810739 40.8249768861\n",
      "i = 42\n",
      "-46.311810739 40.8249768861\n",
      "i = 0\n",
      "-24.1561367923 21.5496033033\n",
      "i = 1\n",
      "-27.0958484413 22.930135036\n",
      "i = 2\n",
      "-29.3366687071 24.1201016864\n",
      "i = 3\n",
      "-31.1446540139 25.1311876432\n",
      "i = 4\n",
      "-32.6872266898 26.0769312832\n",
      "i = 5\n",
      "-34.0324405304 26.9677292894\n",
      "i = 6\n",
      "-35.2294176121 27.813517937\n",
      "i = 7\n",
      "-36.3030911115 28.6123564622\n",
      "i = 8\n",
      "-37.2766022642 29.36731878\n",
      "i = 9\n",
      "-38.1649605786 30.0775912888\n",
      "i = 10\n",
      "-38.9808734305 30.7423827386\n",
      "i = 11\n",
      "-39.7325525403 31.3645739139\n",
      "i = 12\n",
      "-40.4246706751 31.9459535165\n",
      "i = 13\n",
      "-41.0655199734 32.4916433053\n",
      "i = 14\n",
      "-41.6602591636 33.0030733287\n",
      "i = 15\n",
      "-42.2114031972 33.4798230318\n",
      "i = 16\n",
      "-42.7239870217 33.9239361396\n",
      "i = 17\n",
      "-43.2013677686 34.3358342215\n",
      "i = 18\n",
      "-43.6460210098 34.7162327318\n",
      "i = 19\n",
      "-44.05901841 35.0637581284\n",
      "i = 20\n",
      "-44.4428006425 35.3781510092\n",
      "i = 21\n",
      "-44.7999564104 35.6606105639\n",
      "i = 22\n",
      "-45.134975588 35.9161801053\n",
      "i = 23\n",
      "-45.4496923124 36.1461736581\n",
      "i = 24\n",
      "-45.7456806536 36.351373346\n",
      "i = 25\n",
      "-46.0244271295 36.5335513725\n",
      "i = 26\n",
      "-46.287413814 36.6945869992\n",
      "i = 27\n",
      "-46.535603541 36.8359661713\n",
      "i = 28\n",
      "-46.7701063035 36.9592425675\n",
      "i = 29\n",
      "-46.9916343695 37.0656785949\n",
      "i = 30\n",
      "-47.2002496043 37.1563303755\n",
      "i = 31\n",
      "-47.3962475337 37.232412535\n",
      "i = 32\n",
      "-47.580691877 37.2954273254\n",
      "i = 33\n",
      "-47.7543753469 37.346589421\n",
      "i = 34\n",
      "-47.9180426888 37.3870349249\n",
      "i = 35\n",
      "-48.0724791747 37.4179690987\n",
      "i = 36\n",
      "-48.2184862251 37.4405522504\n",
      "i = 37\n",
      "-48.3566234574 37.4553887631\n",
      "i = 38\n",
      "-48.4874306939 37.4633084571\n",
      "i = 39\n",
      "-48.6113876727 37.4650596627\n",
      "i = 40\n",
      "-48.7289327739 37.4613260822\n",
      "i = 41\n",
      "-48.8404702782 37.4527371075\n",
      "i = 42\n",
      "-48.8404702782 37.4527371075\n",
      "i = 0\n",
      "-29.708089418 19.6468566567\n",
      "i = 1\n",
      "-37.3339844584 18.9265371675\n",
      "i = 2\n",
      "-43.8024499734 17.8351315909\n",
      "i = 3\n",
      "-49.3014821836 16.5563023073\n",
      "i = 4\n",
      "-54.1714334533 14.6798974145\n",
      "i = 5\n",
      "-58.1289826115 12.6936316706\n",
      "i = 6\n",
      "-61.2668145608 10.7853652222\n",
      "i = 7\n",
      "-63.6729944437 9.17785095749\n",
      "i = 8\n",
      "-65.0565419909 9.21172478227\n",
      "i = 9\n",
      "-66.1432515791 9.23741681263\n",
      "i = 10\n",
      "-67.0004624942 9.24156318861\n",
      "i = 11\n",
      "-67.6796094654 9.22064040235\n",
      "i = 12\n",
      "-68.6773160093 8.05835945751\n",
      "i = 13\n",
      "-69.2987374199 7.56272500993\n",
      "i = 14\n",
      "-69.2987374199 7.56272500993\n"
     ]
    }
   ],
   "source": [
    "mu_norm = []\n",
    "norm_r = []\n",
    "norm_m = []\n",
    "m_est = []\n",
    "incl_est = []\n",
    "decl_est = []\n",
    "phi_list = []\n",
    "for i in mu_list:\n",
    "    m_LM,inc_est,dec_est,phi,imax,pest,incs,decs = fc.levenberg_marquardt_NNLS(\n",
    "        data['tfa_obs_RM_airb'],airborne['x'],airborne['y'],\n",
    "        airborne['z'],xs,ys,zs,inc_gf,dec_gf,-20.,20.,lamb,dlamb,i_pos,it_max,\n",
    "        it_marq,eps_e,eps_i,i)\n",
    "    G = fc.sensitivity_mag(airborne['x'],airborne['y'],airborne['z'],\n",
    "                       xs,ys,zs,inc_gf,dec_gf,inc_est,dec_est)\n",
    "    tfpred = np.dot(G,m_LM)\n",
    "    r = data['tfa_obs_RM_airb'] - tfpred \n",
    "    \n",
    "    norm_r.append(np.sqrt(np.sum(r*r)))\n",
    "    norm_m.append(np.sqrt(np.sum(m_LM*m_LM)))\n",
    "    m_est.append(m_LM)\n",
    "    incl_est.append(inc_est)\n",
    "    decl_est.append(dec_est)\n",
    "    phi_list.append(phi)"
   ]
  },
  {
   "cell_type": "markdown",
   "metadata": {},
   "source": [
    "## L-curve visualization"
   ]
  },
  {
   "cell_type": "code",
   "execution_count": 27,
   "metadata": {},
   "outputs": [
    {
     "data": {
      "text/plain": [
       "<matplotlib.figure.Figure at 0x7fb06e5dce90>"
      ]
     },
     "metadata": {},
     "output_type": "display_data"
    },
    {
     "data": {
      "image/png": "[encoded data removed]",
      "text/plain": [
       "<matplotlib.figure.Figure at 0x7fb06e5dce50>"
      ]
     },
     "metadata": {},
     "output_type": "display_data"
    }
   ],
   "source": [
    "title_font = 20\n",
    "bottom_font = 18\n",
    "saturation_factor = 1.\n",
    "plt.close('all')\n",
    "plt.figure(figsize=(9,9), tight_layout=True)\n",
    "\n",
    "plt.figure(figsize=(10, 10))\n",
    "plt.loglog(norm_r,norm_m, 'b-')\n",
    "plt.loglog(norm_r,norm_m, 'bo')\n",
    "plt.title('L-curve', fontsize=title_font)\n",
    "plt.xlabel('r_norm', fontsize = title_font)\n",
    "plt.ylabel('m_norm', fontsize = title_font)\n",
    "plt.tick_params(axis='both', which='major', labelsize=15)\n",
    "\n",
    "file_name = 'figs/airborne/Lcurve_RM'\n",
    "plt.savefig(file_name+'.png',dpi=300)\n",
    "saved_files.append(file_name+'.png')\n",
    "\n",
    "plt.savefig(file_name+'.eps',dpi=300)\n",
    "saved_files.append(file_name+'.eps')\n",
    "\n",
    "\n",
    "plt.show()"
   ]
  },
  {
   "cell_type": "markdown",
   "metadata": {},
   "source": [
    "### Results"
   ]
  },
  {
   "cell_type": "code",
   "execution_count": 28,
   "metadata": {},
   "outputs": [],
   "source": [
    "result_RM_airb['magnetic_moment'] = m_est\n",
    "result_RM_airb['inc_est'] = incl_est\n",
    "result_RM_airb['dec_est'] = decl_est\n",
    "result_RM_airb['layer_depth'] = h\n",
    "result_RM_airb['reg_parameter'] = mu_list\n",
    "result_RM_airb['phi'] = phi_list"
   ]
  },
  {
   "cell_type": "markdown",
   "metadata": {},
   "source": [
    "### Generating .pickle file"
   ]
  },
  {
   "cell_type": "code",
   "execution_count": 29,
   "metadata": {},
   "outputs": [],
   "source": [
    "now = datetime.datetime.utcnow().strftime('%d %B %Y %H:%M:%S UTC')\n",
    "result_RM_airb['metadata'] = 'Generated by {name} on {date}'.format(date=now, name=notebook_name)"
   ]
  },
  {
   "cell_type": "code",
   "execution_count": 30,
   "metadata": {},
   "outputs": [],
   "source": [
    "file_name = 'data/result_RM_airb.pickle'\n",
    "with open(file_name, 'w') as f:\n",
    "    pickle.dump(result_RM_airb, f)\n",
    "    \n",
    "saved_files.append(file_name)"
   ]
  },
  {
   "cell_type": "markdown",
   "metadata": {},
   "source": [
    "### Saved files"
   ]
  },
  {
   "cell_type": "code",
   "execution_count": 31,
   "metadata": {},
   "outputs": [
    {
     "name": "stdout",
     "output_type": "stream",
     "text": [
      "1  figs/airborne/Lcurve_RM.png\n",
      "2  figs/airborne/Lcurve_RM.eps\n",
      "3  data/result_RM_airb.pickle\n"
     ]
    }
   ],
   "source": [
    "with open('reports/report_%s.md' % notebook_name[:st.index(notebook_name, '.')], 'w') as q:\n",
    "    q.write('# Saved files \\n')\n",
    "    now = datetime.datetime.utcnow().strftime('%d %B %Y %H:%M:%S UTC')\n",
    "    header = 'Generated by {name} on {date}'.format(date=now, name=notebook_name)\n",
    "    q.write('\\n\\n'+header+'\\n\\n')\n",
    "    for i, sf in enumerate(saved_files):\n",
    "        print '%d  %s' % (i+1,sf)\n",
    "        q.write('*  `%s` \\n' % (sf))"
   ]
  },
  {
   "cell_type": "code",
   "execution_count": null,
   "metadata": {},
   "outputs": [],
   "source": []
  },
  {
   "cell_type": "code",
   "execution_count": null,
   "metadata": {},
   "outputs": [],
   "source": []
  }
 ],
 "metadata": {
  "kernelspec": {
   "display_name": "Python 2",
   "language": "python",
   "name": "python2"
  },
  "language_info": {
   "codemirror_mode": {
    "name": "ipython",
    "version": 2
   },
   "file_extension": ".py",
   "mimetype": "text/x-python",
   "name": "python",
   "nbconvert_exporter": "python",
   "pygments_lexer": "ipython2",
   "version": "2.7.14"
  }
 },
 "nbformat": 4,
 "nbformat_minor": 2
}
