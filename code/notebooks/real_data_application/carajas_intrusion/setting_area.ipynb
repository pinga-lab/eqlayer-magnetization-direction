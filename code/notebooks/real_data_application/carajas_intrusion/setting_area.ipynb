{
 "cells": [
  {
   "cell_type": "markdown",
   "metadata": {},
   "source": [
    "# Setting the area for the data according of Lat and Long"
   ]
  },
  {
   "cell_type": "code",
   "execution_count": 1,
   "metadata": {},
   "outputs": [],
   "source": [
    "import numpy as np\n",
    "import pandas as pd"
   ]
  },
  {
   "cell_type": "markdown",
   "metadata": {},
   "source": [
    "### Filename"
   ]
  },
  {
   "cell_type": "code",
   "execution_count": 2,
   "metadata": {},
   "outputs": [],
   "source": [
    "filename = 'carajas3.xyz'"
   ]
  },
  {
   "cell_type": "markdown",
   "metadata": {},
   "source": [
    "### Getting informations about the file"
   ]
  },
  {
   "cell_type": "code",
   "execution_count": 3,
   "metadata": {},
   "outputs": [],
   "source": [
    "def flight_lines(filename):\n",
    "    '''\n",
    "    Get the information about the flight lines of the airborne survey\n",
    "    \n",
    "    input\n",
    "    \n",
    "    filename: string - String containing the file name.\n",
    "    \n",
    "    return\n",
    "    \n",
    "    n_lines : integer - number of flight lines\n",
    "    lines : list - List of strings with the line number\n",
    "    i_line : list - List with the position of the lines within the file\n",
    "    '''\n",
    "    \n",
    "    f = open(filename)\n",
    "        \n",
    "    lines = []\n",
    "    index = []\n",
    "    for i,line in enumerate(f):\n",
    "        if line[:4] == 'LINE':\n",
    "            index.append(i)\n",
    "            lines.append(line[:14])\n",
    "        \n",
    "    f.close()\n",
    "    return index,lines"
   ]
  },
  {
   "cell_type": "code",
   "execution_count": 4,
   "metadata": {},
   "outputs": [],
   "source": [
    "index,line_str = flight_lines(filename)"
   ]
  },
  {
   "cell_type": "code",
   "execution_count": 5,
   "metadata": {},
   "outputs": [
    {
     "name": "stdout",
     "output_type": "stream",
     "text": [
      "142\n"
     ]
    }
   ],
   "source": [
    "print len(index) # posição da linha DO ARQUIVO"
   ]
  },
  {
   "cell_type": "code",
   "execution_count": 6,
   "metadata": {},
   "outputs": [
    {
     "name": "stdout",
     "output_type": "stream",
     "text": [
      "LINE    21.\r\n",
      "\n"
     ]
    }
   ],
   "source": [
    "print line_str[1] # Nome da linhda de VOO"
   ]
  },
  {
   "cell_type": "markdown",
   "metadata": {},
   "source": [
    "### Defining columns for the file"
   ]
  },
  {
   "cell_type": "code",
   "execution_count": 7,
   "metadata": {},
   "outputs": [],
   "source": [
    "names = ['X','Y','LONG','LAT','MAGIGRF']"
   ]
  },
  {
   "cell_type": "markdown",
   "metadata": {},
   "source": [
    "### Getting the information for the lines"
   ]
  },
  {
   "cell_type": "code",
   "execution_count": 8,
   "metadata": {},
   "outputs": [],
   "source": [
    "lon_max = -50.700\n",
    "lon_min = -51.000"
   ]
  },
  {
   "cell_type": "code",
   "execution_count": 9,
   "metadata": {},
   "outputs": [],
   "source": [
    "lat_max = -3.000\n",
    "lat_min = -3.300"
   ]
  },
  {
   "cell_type": "code",
   "execution_count": 10,
   "metadata": {},
   "outputs": [],
   "source": [
    "df = pd.read_csv(filename,usecols=(0,1,2,3,4),na_values= '0', names=names,skiprows=5, \n",
    "                 skipinitialspace=True,delim_whitespace=True,low_memory=False)    "
   ]
  },
  {
   "cell_type": "code",
   "execution_count": 11,
   "metadata": {},
   "outputs": [],
   "source": [
    "f = open('data_XYZ_area','w')\n",
    "fd = open('data_filtered_XYZ_area','w')\n",
    "mask = (df['LONG'] <= lon_max) & (df['LONG'] >= lon_min) & (df['LAT'] <= lat_max) & (df['LAT'] >= lat_min)\n",
    "data_area = df[mask]\n",
    "filtered_data = data_area.iloc[range(0,data_area.shape[0],5),:]\n",
    "data_area.to_csv(f,header=None,index=None,sep=' ',mode='w+')\n",
    "filtered_data.to_csv(fd,header=None,index=None,sep=' ',mode='w+')"
   ]
  },
  {
   "cell_type": "code",
   "execution_count": null,
   "metadata": {},
   "outputs": [],
   "source": []
  }
 ],
 "metadata": {
  "kernelspec": {
   "display_name": "Python 2",
   "language": "python",
   "name": "python2"
  },
  "language_info": {
   "codemirror_mode": {
    "name": "ipython",
    "version": 2
   },
   "file_extension": ".py",
   "mimetype": "text/x-python",
   "name": "python",
   "nbconvert_exporter": "python",
   "pygments_lexer": "ipython2",
   "version": "2.7.18"
  }
 },
 "nbformat": 4,
 "nbformat_minor": 2
}
