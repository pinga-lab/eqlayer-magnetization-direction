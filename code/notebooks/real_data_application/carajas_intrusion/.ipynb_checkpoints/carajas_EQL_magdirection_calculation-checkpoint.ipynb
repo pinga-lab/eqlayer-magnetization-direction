{
 "cells": [
  {
   "cell_type": "markdown",
   "metadata": {},
   "source": [
    "# Application the equivalent layer technique for estimating the magnetization direction: Anitapolis intrusion, Santa Catarina State."
   ]
  },
  {
   "cell_type": "markdown",
   "metadata": {},
   "source": [
    "#### Importing libraries"
   ]
  },
  {
   "cell_type": "code",
   "execution_count": 1,
   "metadata": {},
   "outputs": [],
   "source": [
    "% matplotlib inline "
   ]
  },
  {
   "cell_type": "code",
   "execution_count": 2,
   "metadata": {},
   "outputs": [
    {
     "name": "stderr",
     "output_type": "stream",
     "text": [
      "/home/andrelreis/anaconda2/lib/python2.7/site-packages/fatiando/vis/mpl.py:76: UserWarning: This module will be removed in v0.6. We recommend the use of matplotlib.pyplot module directly. Some of the fatiando specific functions will remain.\n",
      "  \"specific functions will remain.\")\n"
     ]
    }
   ],
   "source": [
    "import sys\n",
    "import numpy as np\n",
    "import matplotlib.pyplot as plt\n",
    "import cPickle as pickle\n",
    "import datetime\n",
    "import timeit\n",
    "import string as st\n",
    "from scipy.optimize import nnls\n",
    "from fatiando.gridder import regular\n",
    "from fatiando.utils import ang2vec, vec2ang\n",
    "from fatiando.mesher import Sphere, PointGrid,Prism\n",
    "from fatiando.gravmag import sphere,prism\n",
    "from fatiando.constants import CM, T2NT, G, SI2MGAL"
   ]
  },
  {
   "cell_type": "code",
   "execution_count": 3,
   "metadata": {},
   "outputs": [],
   "source": [
    "notebook_name = 'carajas_EQL_magdirection_calculation.ipynb'"
   ]
  },
  {
   "cell_type": "markdown",
   "metadata": {},
   "source": [
    "## Plot style"
   ]
  },
  {
   "cell_type": "code",
   "execution_count": 4,
   "metadata": {},
   "outputs": [],
   "source": [
    "plt.style.use('ggplot')"
   ]
  },
  {
   "cell_type": "markdown",
   "metadata": {},
   "source": [
    "#### Importing auxiliary functions"
   ]
  },
  {
   "cell_type": "code",
   "execution_count": 5,
   "metadata": {},
   "outputs": [],
   "source": [
    "dir_modules = '../../../mypackage'\n",
    "sys.path.append(dir_modules)"
   ]
  },
  {
   "cell_type": "code",
   "execution_count": 6,
   "metadata": {},
   "outputs": [],
   "source": [
    "import auxiliary_functions as fc"
   ]
  },
  {
   "cell_type": "markdown",
   "metadata": {},
   "source": [
    "#### Loading data"
   ]
  },
  {
   "cell_type": "code",
   "execution_count": 7,
   "metadata": {},
   "outputs": [],
   "source": [
    "with open('data/data_set.pickle') as f:\n",
    "        data = pickle.load(f)"
   ]
  },
  {
   "cell_type": "markdown",
   "metadata": {},
   "source": [
    "#### Open a dictionary"
   ]
  },
  {
   "cell_type": "code",
   "execution_count": 8,
   "metadata": {},
   "outputs": [],
   "source": [
    "result_anitapolis = dict()"
   ]
  },
  {
   "cell_type": "markdown",
   "metadata": {},
   "source": [
    "### Saving files"
   ]
  },
  {
   "cell_type": "code",
   "execution_count": 9,
   "metadata": {},
   "outputs": [],
   "source": [
    "saved_files = []"
   ]
  },
  {
   "cell_type": "markdown",
   "metadata": {},
   "source": [
    "### airborne survey information"
   ]
  },
  {
   "cell_type": "code",
   "execution_count": 10,
   "metadata": {},
   "outputs": [
    {
     "name": "stdout",
     "output_type": "stream",
     "text": [
      "Shape : (69,19)\n",
      "Number of data: 1339.0\n",
      "dx: -195.0 m\n",
      "dy: 640.0 m \n"
     ]
    }
   ],
   "source": [
    "print 'Shape : (%.0f,%.0f)'% data['shape'] \n",
    "print 'Number of data: %.1f' % data['N']\n",
    "print 'dx: %.1f m' % data['dx']\n",
    "print 'dy: %.1f m ' % data['dy']"
   ]
  },
  {
   "cell_type": "markdown",
   "metadata": {},
   "source": [
    "## Properties of the model"
   ]
  },
  {
   "cell_type": "markdown",
   "metadata": {},
   "source": [
    "### Main field"
   ]
  },
  {
   "cell_type": "code",
   "execution_count": 11,
   "metadata": {},
   "outputs": [],
   "source": [
    "inc_gf,dec_gf = data['main_field']"
   ]
  },
  {
   "cell_type": "code",
   "execution_count": 12,
   "metadata": {},
   "outputs": [
    {
     "name": "stdout",
     "output_type": "stream",
     "text": [
      "Main field inclination: -37.5 degree\n",
      "Main field declination: -18.1 degree\n"
     ]
    }
   ],
   "source": [
    "print'Main field inclination: %.1f degree' % inc_gf\n",
    "print'Main field declination: %.1f degree' % dec_gf"
   ]
  },
  {
   "cell_type": "markdown",
   "metadata": {},
   "source": [
    "## Generating the layer with my function "
   ]
  },
  {
   "cell_type": "code",
   "execution_count": 13,
   "metadata": {},
   "outputs": [],
   "source": [
    "h = 1500."
   ]
  },
  {
   "cell_type": "markdown",
   "metadata": {},
   "source": [
    "#### Generating a layer"
   ]
  },
  {
   "cell_type": "code",
   "execution_count": 14,
   "metadata": {},
   "outputs": [],
   "source": [
    "xs = data['x']\n",
    "ys = data['y']\n",
    "zs = h*np.ones_like(xs)"
   ]
  },
  {
   "cell_type": "markdown",
   "metadata": {},
   "source": [
    "### Levenberg-Marquardt with NNLS for positive magnetic moments"
   ]
  },
  {
   "cell_type": "code",
   "execution_count": 15,
   "metadata": {},
   "outputs": [],
   "source": [
    "i_pos = 1500"
   ]
  },
  {
   "cell_type": "code",
   "execution_count": 16,
   "metadata": {},
   "outputs": [],
   "source": [
    "it_max = 30"
   ]
  },
  {
   "cell_type": "code",
   "execution_count": 17,
   "metadata": {},
   "outputs": [],
   "source": [
    "it_marq = 15"
   ]
  },
  {
   "cell_type": "code",
   "execution_count": 18,
   "metadata": {},
   "outputs": [],
   "source": [
    "lamb = 10.\n",
    "dlamb = 100."
   ]
  },
  {
   "cell_type": "code",
   "execution_count": 19,
   "metadata": {},
   "outputs": [],
   "source": [
    "eps_e = 1e-4\n",
    "eps_i = 1e-4"
   ]
  },
  {
   "cell_type": "code",
   "execution_count": 20,
   "metadata": {},
   "outputs": [],
   "source": [
    "mu_list = [1e2,1e3,1e4,1e5,2.5*1e5,5*1e5,7.5*1e5,1e6]"
   ]
  },
  {
   "cell_type": "code",
   "execution_count": 21,
   "metadata": {},
   "outputs": [
    {
     "name": "stdout",
     "output_type": "stream",
     "text": [
      "i = 0\n",
      "-5.3156096417675816 -1.064593690407781\n",
      "0.15607881604745455\n",
      "i = 1\n",
      "-8.370583176913621 -1.4481683881770084\n",
      "0.08402717926315915\n",
      "i = 2\n",
      "-10.314136894674984 -1.5287730650525582\n",
      "0.041380848192517077\n",
      "i = 3\n",
      "-11.672097727850412 -1.531284154837174\n",
      "0.02172675280200021\n",
      "i = 4\n",
      "-12.592798740749494 -1.615934181237638\n",
      "0.010152238913019073\n",
      "i = 5\n",
      "-13.294028017748193 -1.7268887883135053\n",
      "0.005952420388521497\n",
      "i = 6\n",
      "-13.929491320361798 -1.8210422725682667\n",
      "0.004937954612629182\n",
      "i = 7\n",
      "-14.513569828525842 -1.9059160971436857\n",
      "0.004206972531274029\n",
      "i = 8\n",
      "-15.04996070208551 -1.986683528715585\n",
      "0.003576932474925736\n",
      "i = 9\n",
      "-15.547148346174616 -2.0642053748461087\n",
      "0.0030958448988240147\n",
      "i = 10\n",
      "-16.008477863873644 -2.135541005780233\n",
      "0.0026835509727365725\n",
      "i = 11\n",
      "-16.437702831352453 -2.1996783865543463\n",
      "0.0023368972043115543\n",
      "i = 12\n",
      "-16.83902796519019 -2.260047460978887\n",
      "0.002055060579080218\n",
      "i = 13\n",
      "-17.214879145003497 -2.3202753740407425\n",
      "0.0018146280967636724\n",
      "i = 14\n",
      "-17.56789645946883 -2.3824149348072803\n",
      "0.0016120127366969234\n",
      "i = 15\n",
      "-17.898502149687932 -2.445589744490778\n",
      "0.0014235852482131466\n",
      "i = 16\n",
      "-18.21076636133125 -2.505683610118115\n",
      "0.001273564347745729\n",
      "i = 17\n",
      "-18.50655178741844 -2.5624392729575414\n",
      "0.0011450352923457908\n",
      "i = 18\n",
      "-18.786092518801574 -2.6174414476226167\n",
      "0.0010259252157243238\n",
      "i = 19\n",
      "-19.04862377640706 -2.6700710906738685\n",
      "0.0009074470737463555\n",
      "i = 20\n",
      "-19.295086787786197 -2.7194275769035428\n",
      "0.0008011330204547873\n",
      "i = 21\n",
      "-19.52682709150241 -2.7653489841146803\n",
      "0.0007087036900252405\n",
      "i = 22\n",
      "-19.74463184316764 -2.8079481141864195\n",
      "0.000626081425149329\n",
      "i = 23\n",
      "-19.94921332872531 -2.8485954127129727\n",
      "0.0005527912689964606\n",
      "i = 24\n",
      "-20.14176564675348 -2.887388182715452\n",
      "0.0004899570295694379\n",
      "i = 25\n",
      "-20.32261875354956 -2.9242532858479686\n",
      "0.0004323798759530465\n",
      "i = 26\n",
      "-20.49145365369896 -2.959756823269503\n",
      "0.0003772050057984601\n",
      "i = 27\n",
      "-20.649682876937355 -2.9939773692774456\n",
      "0.0003315280555354891\n",
      "i = 28\n",
      "-20.79782624897646 -3.0269337102024347\n",
      "0.0002908149974598446\n",
      "i = 29\n",
      "-20.936677337872883 -3.0590942672557717\n",
      "0.0002558008193074446\n",
      "i = 30\n",
      "-21.066660226592376 -3.0907400101186684\n",
      "0.00022458118253492357\n",
      "i = 31\n",
      "-21.18816289730008 -3.121854799500827\n",
      "0.00019663362538721956\n",
      "i = 32\n",
      "-21.30158094938178 -3.152436945212092\n",
      "0.00017173947401454028\n",
      "i = 33\n",
      "-21.407329437247622 -3.1824878683011946\n",
      "0.00014969976509464982\n",
      "i = 34\n",
      "-21.505830385446664 -3.21201821361834\n",
      "0.0001302884228102086\n",
      "i = 35\n",
      "-21.59748285082831 -3.241081750412226\n",
      "0.00011322277869700299\n",
      "i = 36\n",
      "-21.68264950074705 -3.269695366644383\n",
      "0.0\n",
      "i = 0\n",
      "-5.315609494116369 -1.0645937424049907\n",
      "0.15602836623770708\n",
      "i = 1\n",
      "-8.370582947499516 -1.4481693030070661\n",
      "0.08398667305979482\n",
      "i = 2\n",
      "-10.314136955878677 -1.528774514915421\n",
      "0.041358109991632405\n",
      "i = 3\n",
      "-11.672098014688471 -1.5312861334724717\n",
      "0.021714161398865724\n",
      "i = 4\n",
      "-12.592799314192781 -1.6159363525274557\n",
      "0.010146246487931557\n",
      "i = 5\n",
      "-13.294029172526415 -1.7268908694720004\n",
      "0.005948912495228349\n",
      "i = 6\n",
      "-13.929493007835886 -1.8210447937862466\n",
      "0.004935077692802604\n",
      "i = 7\n",
      "-14.513572036858909 -1.9059188758373433\n",
      "0.004204554327426706\n",
      "i = 8\n",
      "-15.04996335221312 -1.9866865911854905\n",
      "0.0035748984764208207\n",
      "i = 9\n",
      "-15.547151403961786 -2.064208649323278\n",
      "0.0030941027734842537\n",
      "i = 10\n",
      "-16.00848115124059 -2.1355444323498283\n",
      "0.0026820496686745863\n",
      "i = 11\n",
      "-16.43770643231107 -2.199681973862409\n",
      "0.002335598181556634\n",
      "i = 12\n",
      "-16.83903169994666 -2.2600512915730597\n",
      "0.0020539229073965218\n",
      "i = 13\n",
      "-17.214883004128314 -2.3202795393430287\n",
      "0.0018136264443836978\n",
      "i = 14\n",
      "-17.567900429935904 -2.382419302499072\n",
      "0.001611125420904857\n",
      "i = 15\n",
      "-17.898506193633267 -2.4455943501713144\n",
      "0.0014228029220438212\n",
      "i = 16\n",
      "-18.210770741469428 -2.5056880741946213\n",
      "0.001272869673908452\n",
      "i = 17\n",
      "-18.50655629370787 -2.562443636307868\n",
      "0.0011444126479016154\n",
      "i = 18\n",
      "-18.786097059869743 -2.6174457204508506\n",
      "0.0010253674737143873\n",
      "i = 19\n",
      "-19.04862839508207 -2.6700751805861573\n",
      "0.000906954525148422\n",
      "i = 20\n",
      "-19.295091500314328 -2.7194314981726815\n",
      "0.0008006995765174804\n",
      "i = 21\n",
      "-19.526831925419337 -2.765352682557829\n",
      "0.0007083215166690455\n",
      "i = 22\n",
      "-19.744636689774783 -2.8079516544644516\n",
      "0.000625744150647943\n",
      "i = 23\n",
      "-19.949218168822203 -2.848598838986422\n",
      "0.0005524936399330571\n",
      "i = 24\n",
      "-20.14177043408746 -2.8873915174016727\n",
      "0.0004896933158296707\n",
      "i = 25\n",
      "-20.32262342541001 -2.924256511978155\n",
      "0.0004321468368352989\n",
      "i = 26\n",
      "-20.49145834790805 -2.959759943151045\n",
      "0.00037700229327418904\n",
      "i = 27\n",
      "-20.649687439441834 -2.993980508635006\n",
      "0.00033134942370997795\n",
      "i = 28\n",
      "-20.797830748527126 -3.026936784696985\n",
      "0.00029065859257364923\n",
      "i = 29\n",
      "-20.936681713060345 -3.05909737149829\n",
      "0.00025566307506695937\n",
      "i = 30\n",
      "-21.066664453180646 -3.0907431277920914\n",
      "0.00022446012054456714\n",
      "i = 31\n",
      "-21.188166944911835 -3.1218579268528805\n",
      "0.00019652745727936842\n",
      "i = 32\n",
      "-21.30158481367209 -3.1524400852847227\n",
      "0.00017164665548546033\n",
      "i = 33\n",
      "-21.40733312913492 -3.1824910020606305\n",
      "0.0001496188140716009\n",
      "i = 34\n",
      "-21.505833918464855 -3.2120212877091885\n",
      "0.00013021791830397203\n",
      "i = 35\n",
      "-21.597486195346004 -3.24108479562023\n",
      "0.00011316138647237027\n",
      "i = 36\n",
      "-21.68265265571051 -3.2696983780412525\n",
      "0.0\n",
      "i = 0\n",
      "-5.3155960580414545 -1.064598152330715\n",
      "0.1555241848889482\n",
      "i = 1\n",
      "-8.370561610982204 -1.4482589664970995\n",
      "0.08358210681351454\n",
      "i = 2\n",
      "-10.3141442620008 -1.5289178980285554\n",
      "0.04113275940544734\n",
      "i = 3\n",
      "-11.672127615645826 -1.5314827968575437\n",
      "0.021589449111064845\n",
      "i = 4\n",
      "-12.59284899928783 -1.61615281598642\n",
      "0.010087073559753633\n",
      "i = 5\n",
      "-13.29414088592813 -1.7271003032519001\n",
      "0.00591497121723004\n",
      "i = 6\n",
      "-13.929657979355616 -1.8212977924985767\n",
      "0.004907257606778358\n",
      "i = 7\n"
     ]
    },
    {
     "ename": "KeyboardInterrupt",
     "evalue": "",
     "output_type": "error",
     "traceback": [
      "\u001b[0;31m---------------------------------------------------------------------------\u001b[0m",
      "\u001b[0;31mKeyboardInterrupt\u001b[0m                         Traceback (most recent call last)",
      "\u001b[0;32m<ipython-input-21-183139f52b42>\u001b[0m in \u001b[0;36m<module>\u001b[0;34m()\u001b[0m\n\u001b[1;32m      9\u001b[0m     m_LM,inc_est,dec_est,phi,imax,pest,incs,decs = fc.LM_NNLS(\n\u001b[1;32m     10\u001b[0m         \u001b[0mdata\u001b[0m\u001b[0;34m[\u001b[0m\u001b[0;34m'tfa_30'\u001b[0m\u001b[0;34m]\u001b[0m\u001b[0;34m,\u001b[0m\u001b[0mdata\u001b[0m\u001b[0;34m[\u001b[0m\u001b[0;34m'x'\u001b[0m\u001b[0;34m]\u001b[0m\u001b[0;34m,\u001b[0m\u001b[0mdata\u001b[0m\u001b[0;34m[\u001b[0m\u001b[0;34m'y'\u001b[0m\u001b[0;34m]\u001b[0m\u001b[0;34m,\u001b[0m\u001b[0;34m\u001b[0m\u001b[0m\n\u001b[0;32m---> 11\u001b[0;31m         data['z'],xs,ys,zs,inc_gf,dec_gf,0.,0.,lamb,dlamb,i_pos,it_max,it_marq,eps_e,eps_i,i)\n\u001b[0m\u001b[1;32m     12\u001b[0m     G = fc.sensitivity_mag(data['x'],data['y'],data['z'],\n\u001b[1;32m     13\u001b[0m                        xs,ys,zs,inc_gf,dec_gf,inc_est,dec_est)\n",
      "\u001b[0;32m/home/andrelreis/Desktop/eqlayer-magnetization-direction/code/mypackage/auxiliary_functions.pyc\u001b[0m in \u001b[0;36mLM_NNLS\u001b[0;34m(dobs, x, y, z, xs, ys, zs, sinc, sdec, inc0, dec0, lamb, dlamb, imax, itext, itmarq, eps_e, eps_i, mu)\u001b[0m\n\u001b[1;32m    430\u001b[0m \u001b[0;34m\u001b[0m\u001b[0m\n\u001b[1;32m    431\u001b[0m         \u001b[0;31m## Levenberg-Marquardt method ##\u001b[0m\u001b[0;34m\u001b[0m\u001b[0;34m\u001b[0m\u001b[0m\n\u001b[0;32m--> 432\u001b[0;31m         \u001b[0minc0\u001b[0m\u001b[0;34m,\u001b[0m\u001b[0mdec0\u001b[0m\u001b[0;34m,\u001b[0m\u001b[0mphi0\u001b[0m \u001b[0;34m=\u001b[0m \u001b[0mlevenberg_marquardt\u001b[0m\u001b[0;34m(\u001b[0m\u001b[0mdobs\u001b[0m\u001b[0;34m,\u001b[0m\u001b[0mx\u001b[0m\u001b[0;34m,\u001b[0m\u001b[0my\u001b[0m\u001b[0;34m,\u001b[0m\u001b[0mz\u001b[0m\u001b[0;34m,\u001b[0m\u001b[0mxs\u001b[0m\u001b[0;34m,\u001b[0m\u001b[0mys\u001b[0m\u001b[0;34m,\u001b[0m\u001b[0mzs\u001b[0m\u001b[0;34m,\u001b[0m\u001b[0msinc\u001b[0m\u001b[0;34m,\u001b[0m\u001b[0msdec\u001b[0m\u001b[0;34m,\u001b[0m\u001b[0mp0\u001b[0m\u001b[0;34m,\u001b[0m\u001b[0minc0\u001b[0m\u001b[0;34m,\u001b[0m\u001b[0mdec0\u001b[0m\u001b[0;34m,\u001b[0m\u001b[0mlamb\u001b[0m\u001b[0;34m,\u001b[0m\u001b[0mdlamb\u001b[0m\u001b[0;34m,\u001b[0m\u001b[0mitext\u001b[0m\u001b[0;34m,\u001b[0m\u001b[0mitmarq\u001b[0m\u001b[0;34m,\u001b[0m\u001b[0meps_i\u001b[0m\u001b[0;34m,\u001b[0m\u001b[0mmu\u001b[0m\u001b[0;34m,\u001b[0m\u001b[0mf0\u001b[0m\u001b[0;34m)\u001b[0m\u001b[0;34m\u001b[0m\u001b[0m\n\u001b[0m\u001b[1;32m    433\u001b[0m         \u001b[0;31m################################\u001b[0m\u001b[0;34m\u001b[0m\u001b[0;34m\u001b[0m\u001b[0m\n\u001b[1;32m    434\u001b[0m         \u001b[0;32mprint\u001b[0m \u001b[0minc0\u001b[0m\u001b[0;34m,\u001b[0m\u001b[0mdec0\u001b[0m\u001b[0;34m\u001b[0m\u001b[0m\n",
      "\u001b[0;32m/home/andrelreis/Desktop/eqlayer-magnetization-direction/code/mypackage/auxiliary_functions.pyc\u001b[0m in \u001b[0;36mlevenberg_marquardt\u001b[0;34m(dobs, x, y, z, xs, ys, zs, sinc, sdec, p, inc0, dec0, lamb, dlamb, itext, itmarq, eps_i, mu, f0)\u001b[0m\n\u001b[1;32m    348\u001b[0m             \u001b[0mphi0\u001b[0m \u001b[0;34m=\u001b[0m \u001b[0mnp\u001b[0m\u001b[0;34m.\u001b[0m\u001b[0mlinalg\u001b[0m\u001b[0;34m.\u001b[0m\u001b[0mnorm\u001b[0m\u001b[0;34m(\u001b[0m\u001b[0mr0\u001b[0m\u001b[0;34m)\u001b[0m \u001b[0;34m+\u001b[0m \u001b[0mmu\u001b[0m\u001b[0;34m*\u001b[0m\u001b[0mf0\u001b[0m\u001b[0;34m*\u001b[0m\u001b[0mnp\u001b[0m\u001b[0;34m.\u001b[0m\u001b[0mlinalg\u001b[0m\u001b[0;34m.\u001b[0m\u001b[0mnorm\u001b[0m\u001b[0;34m(\u001b[0m\u001b[0mp\u001b[0m\u001b[0;34m)\u001b[0m\u001b[0;34m\u001b[0m\u001b[0m\n\u001b[1;32m    349\u001b[0m \u001b[0;34m\u001b[0m\u001b[0m\n\u001b[0;32m--> 350\u001b[0;31m             \u001b[0mG_dir\u001b[0m \u001b[0;34m=\u001b[0m \u001b[0msensitivity_dir\u001b[0m\u001b[0;34m(\u001b[0m\u001b[0mx\u001b[0m\u001b[0;34m,\u001b[0m\u001b[0my\u001b[0m\u001b[0;34m,\u001b[0m\u001b[0mz\u001b[0m\u001b[0;34m,\u001b[0m\u001b[0mxs\u001b[0m\u001b[0;34m,\u001b[0m\u001b[0mys\u001b[0m\u001b[0;34m,\u001b[0m\u001b[0mzs\u001b[0m\u001b[0;34m,\u001b[0m\u001b[0msinc\u001b[0m\u001b[0;34m,\u001b[0m\u001b[0msdec\u001b[0m\u001b[0;34m,\u001b[0m\u001b[0mp\u001b[0m\u001b[0;34m,\u001b[0m\u001b[0minc0\u001b[0m\u001b[0;34m,\u001b[0m\u001b[0mdec0\u001b[0m\u001b[0;34m)\u001b[0m\u001b[0;34m\u001b[0m\u001b[0m\n\u001b[0m\u001b[1;32m    351\u001b[0m             \u001b[0mJ\u001b[0m \u001b[0;34m=\u001b[0m \u001b[0;34m-\u001b[0m\u001b[0mnp\u001b[0m\u001b[0;34m.\u001b[0m\u001b[0mdot\u001b[0m\u001b[0;34m(\u001b[0m\u001b[0mG_dir\u001b[0m\u001b[0;34m.\u001b[0m\u001b[0mT\u001b[0m\u001b[0;34m,\u001b[0m\u001b[0mr0\u001b[0m\u001b[0;34m)\u001b[0m\u001b[0;34m\u001b[0m\u001b[0m\n\u001b[1;32m    352\u001b[0m             \u001b[0mH\u001b[0m \u001b[0;34m=\u001b[0m  \u001b[0mnp\u001b[0m\u001b[0;34m.\u001b[0m\u001b[0mdot\u001b[0m\u001b[0;34m(\u001b[0m\u001b[0mG_dir\u001b[0m\u001b[0;34m.\u001b[0m\u001b[0mT\u001b[0m\u001b[0;34m,\u001b[0m\u001b[0mG_dir\u001b[0m\u001b[0;34m)\u001b[0m\u001b[0;34m\u001b[0m\u001b[0m\n",
      "\u001b[0;32m/home/andrelreis/Desktop/eqlayer-magnetization-direction/code/mypackage/auxiliary_functions.pyc\u001b[0m in \u001b[0;36msensitivity_dir\u001b[0;34m(x, y, z, xs, ys, zs, sinc, sdec, p, inc, dec)\u001b[0m\n\u001b[1;32m    294\u001b[0m     \u001b[0;32mfor\u001b[0m \u001b[0mi\u001b[0m \u001b[0;32min\u001b[0m \u001b[0mrange\u001b[0m\u001b[0;34m(\u001b[0m\u001b[0mN\u001b[0m\u001b[0;34m)\u001b[0m\u001b[0;34m:\u001b[0m\u001b[0;34m\u001b[0m\u001b[0m\n\u001b[1;32m    295\u001b[0m         \u001b[0mphi_xx\u001b[0m \u001b[0;34m=\u001b[0m \u001b[0mkernelxx\u001b[0m\u001b[0;34m(\u001b[0m\u001b[0mx\u001b[0m\u001b[0;34m[\u001b[0m\u001b[0mi\u001b[0m\u001b[0;34m]\u001b[0m\u001b[0;34m,\u001b[0m\u001b[0my\u001b[0m\u001b[0;34m[\u001b[0m\u001b[0mi\u001b[0m\u001b[0;34m]\u001b[0m\u001b[0;34m,\u001b[0m\u001b[0mz\u001b[0m\u001b[0;34m[\u001b[0m\u001b[0mi\u001b[0m\u001b[0;34m]\u001b[0m\u001b[0;34m,\u001b[0m\u001b[0mxs\u001b[0m\u001b[0;34m,\u001b[0m\u001b[0mys\u001b[0m\u001b[0;34m,\u001b[0m\u001b[0mzs\u001b[0m\u001b[0;34m)\u001b[0m\u001b[0;34m\u001b[0m\u001b[0m\n\u001b[0;32m--> 296\u001b[0;31m         \u001b[0mphi_yy\u001b[0m \u001b[0;34m=\u001b[0m \u001b[0mkernelyy\u001b[0m\u001b[0;34m(\u001b[0m\u001b[0mx\u001b[0m\u001b[0;34m[\u001b[0m\u001b[0mi\u001b[0m\u001b[0;34m]\u001b[0m\u001b[0;34m,\u001b[0m\u001b[0my\u001b[0m\u001b[0;34m[\u001b[0m\u001b[0mi\u001b[0m\u001b[0;34m]\u001b[0m\u001b[0;34m,\u001b[0m\u001b[0mz\u001b[0m\u001b[0;34m[\u001b[0m\u001b[0mi\u001b[0m\u001b[0;34m]\u001b[0m\u001b[0;34m,\u001b[0m\u001b[0mxs\u001b[0m\u001b[0;34m,\u001b[0m\u001b[0mys\u001b[0m\u001b[0;34m,\u001b[0m\u001b[0mzs\u001b[0m\u001b[0;34m)\u001b[0m\u001b[0;34m\u001b[0m\u001b[0m\n\u001b[0m\u001b[1;32m    297\u001b[0m         \u001b[0mphi_xy\u001b[0m \u001b[0;34m=\u001b[0m \u001b[0mkernelxy\u001b[0m\u001b[0;34m(\u001b[0m\u001b[0mx\u001b[0m\u001b[0;34m[\u001b[0m\u001b[0mi\u001b[0m\u001b[0;34m]\u001b[0m\u001b[0;34m,\u001b[0m\u001b[0my\u001b[0m\u001b[0;34m[\u001b[0m\u001b[0mi\u001b[0m\u001b[0;34m]\u001b[0m\u001b[0;34m,\u001b[0m\u001b[0mz\u001b[0m\u001b[0;34m[\u001b[0m\u001b[0mi\u001b[0m\u001b[0;34m]\u001b[0m\u001b[0;34m,\u001b[0m\u001b[0mxs\u001b[0m\u001b[0;34m,\u001b[0m\u001b[0mys\u001b[0m\u001b[0;34m,\u001b[0m\u001b[0mzs\u001b[0m\u001b[0;34m)\u001b[0m\u001b[0;34m\u001b[0m\u001b[0m\n\u001b[1;32m    298\u001b[0m         \u001b[0mphi_xz\u001b[0m \u001b[0;34m=\u001b[0m \u001b[0mkernelxz\u001b[0m\u001b[0;34m(\u001b[0m\u001b[0mx\u001b[0m\u001b[0;34m[\u001b[0m\u001b[0mi\u001b[0m\u001b[0;34m]\u001b[0m\u001b[0;34m,\u001b[0m\u001b[0my\u001b[0m\u001b[0;34m[\u001b[0m\u001b[0mi\u001b[0m\u001b[0;34m]\u001b[0m\u001b[0;34m,\u001b[0m\u001b[0mz\u001b[0m\u001b[0;34m[\u001b[0m\u001b[0mi\u001b[0m\u001b[0;34m]\u001b[0m\u001b[0;34m,\u001b[0m\u001b[0mxs\u001b[0m\u001b[0;34m,\u001b[0m\u001b[0mys\u001b[0m\u001b[0;34m,\u001b[0m\u001b[0mzs\u001b[0m\u001b[0;34m)\u001b[0m\u001b[0;34m\u001b[0m\u001b[0m\n",
      "\u001b[0;32m/home/andrelreis/Desktop/eqlayer-magnetization-direction/code/mypackage/auxiliary_functions.pyc\u001b[0m in \u001b[0;36mkernelyy\u001b[0;34m(x, y, z, xs, ys, zs)\u001b[0m\n\u001b[1;32m    155\u001b[0m     \u001b[0mr\u001b[0m \u001b[0;34m=\u001b[0m \u001b[0mnp\u001b[0m\u001b[0;34m.\u001b[0m\u001b[0msqrt\u001b[0m\u001b[0;34m(\u001b[0m\u001b[0;34m(\u001b[0m\u001b[0mx\u001b[0m \u001b[0;34m-\u001b[0m \u001b[0mxs\u001b[0m\u001b[0;34m)\u001b[0m\u001b[0;34m**\u001b[0m\u001b[0;36m2\u001b[0m \u001b[0;34m+\u001b[0m \u001b[0;34m(\u001b[0m\u001b[0my\u001b[0m \u001b[0;34m-\u001b[0m \u001b[0mys\u001b[0m\u001b[0;34m)\u001b[0m\u001b[0;34m**\u001b[0m\u001b[0;36m2\u001b[0m \u001b[0;34m+\u001b[0m \u001b[0;34m(\u001b[0m\u001b[0mz\u001b[0m \u001b[0;34m-\u001b[0m \u001b[0mzs\u001b[0m\u001b[0;34m)\u001b[0m\u001b[0;34m**\u001b[0m\u001b[0;36m2\u001b[0m\u001b[0;34m)\u001b[0m\u001b[0;34m\u001b[0m\u001b[0m\n\u001b[1;32m    156\u001b[0m     \u001b[0mr2\u001b[0m \u001b[0;34m=\u001b[0m \u001b[0mr\u001b[0m\u001b[0;34m*\u001b[0m\u001b[0mr\u001b[0m\u001b[0;34m\u001b[0m\u001b[0m\n\u001b[0;32m--> 157\u001b[0;31m     \u001b[0mphi_yy\u001b[0m \u001b[0;34m=\u001b[0m \u001b[0;34m(\u001b[0m\u001b[0;34m(\u001b[0m\u001b[0;36m3.\u001b[0m\u001b[0;34m*\u001b[0m\u001b[0;34m(\u001b[0m\u001b[0my\u001b[0m \u001b[0;34m-\u001b[0m \u001b[0mys\u001b[0m\u001b[0;34m)\u001b[0m\u001b[0;34m**\u001b[0m\u001b[0;36m2\u001b[0m\u001b[0;34m)\u001b[0m\u001b[0;34m/\u001b[0m\u001b[0;34m(\u001b[0m\u001b[0mr2\u001b[0m\u001b[0;34m*\u001b[0m\u001b[0mr2\u001b[0m\u001b[0;34m*\u001b[0m\u001b[0mr\u001b[0m\u001b[0;34m)\u001b[0m\u001b[0;34m)\u001b[0m\u001b[0;34m-\u001b[0m\u001b[0;34m(\u001b[0m\u001b[0;36m1.\u001b[0m\u001b[0;34m/\u001b[0m\u001b[0;34m(\u001b[0m\u001b[0mr2\u001b[0m\u001b[0;34m*\u001b[0m\u001b[0mr\u001b[0m\u001b[0;34m)\u001b[0m\u001b[0;34m)\u001b[0m\u001b[0;34m\u001b[0m\u001b[0m\n\u001b[0m\u001b[1;32m    158\u001b[0m \u001b[0;34m\u001b[0m\u001b[0m\n\u001b[1;32m    159\u001b[0m     \u001b[0;32mreturn\u001b[0m \u001b[0mphi_yy\u001b[0m\u001b[0;34m\u001b[0m\u001b[0m\n",
      "\u001b[0;31mKeyboardInterrupt\u001b[0m: "
     ]
    }
   ],
   "source": [
    "mu_norm = []\n",
    "norm_r = []\n",
    "norm_m = []\n",
    "m_est = []\n",
    "incl_est = []\n",
    "decl_est = []\n",
    "phi_list = []\n",
    "for i in mu_list:\n",
    "    m_LM,inc_est,dec_est,phi,imax,pest,incs,decs = fc.LM_NNLS(\n",
    "        data['tfa_30'],data['x'],data['y'],\n",
    "        data['z'],xs,ys,zs,inc_gf,dec_gf,0.,0.,lamb,dlamb,i_pos,it_max,it_marq,eps_e,eps_i,i)\n",
    "    G = fc.sensitivity_mag(data['x'],data['y'],data['z'],\n",
    "                       xs,ys,zs,inc_gf,dec_gf,inc_est,dec_est)\n",
    "    tfpred = np.dot(G,m_LM)\n",
    "    r = data['tfa_30'] - tfpred \n",
    "    \n",
    "    norm_r.append(np.sqrt(np.sum(r*r)))\n",
    "    norm_m.append(np.sqrt(np.sum(m_LM*m_LM)))\n",
    "    m_est.append(m_LM)\n",
    "    incl_est.append(inc_est)\n",
    "    decl_est.append(dec_est)\n",
    "    phi_list.append(phi)"
   ]
  },
  {
   "cell_type": "markdown",
   "metadata": {},
   "source": [
    "## L-curve visualization"
   ]
  },
  {
   "cell_type": "code",
   "execution_count": null,
   "metadata": {},
   "outputs": [],
   "source": [
    "title_font = 22\n",
    "bottom_font = 20\n",
    "saturation_factor = 1.\n",
    "plt.close('all')\n",
    "plt.figure(figsize=(10,10), tight_layout=True)\n",
    "\n",
    "plt.loglog(norm_r,norm_m, 'b-')\n",
    "plt.plot(norm_r[4],norm_m[4], 'k^',markersize=15)\n",
    "plt.title('L-curve', fontsize=title_font)\n",
    "plt.xlabel('r_norm', fontsize = title_font)\n",
    "plt.ylabel('m_norm', fontsize = title_font)\n",
    "plt.tick_params(axis='both', which='major', labelsize=bottom_font)\n",
    "\n",
    "file_name = 'figs/Lcurve_RM'\n",
    "plt.savefig(file_name+'.png',dpi=300)\n",
    "saved_files.append(file_name+'.png')\n",
    "\n",
    "plt.savefig(file_name+'.eps',dpi=300)\n",
    "saved_files.append(file_name+'.eps')\n",
    "\n",
    "\n",
    "plt.show()"
   ]
  },
  {
   "cell_type": "markdown",
   "metadata": {},
   "source": [
    "### Results"
   ]
  },
  {
   "cell_type": "code",
   "execution_count": null,
   "metadata": {},
   "outputs": [],
   "source": [
    "result_anitapolis['magnetic_moment'] = m_est\n",
    "result_anitapolis['inc_est'] = incl_est\n",
    "result_anitapolis['dec_est'] = decl_est\n",
    "result_anitapolis['layer_depth'] = h\n",
    "result_anitapolis['reg_parameter'] = mu_list\n",
    "result_anitapolis['phi'] = phi_list"
   ]
  },
  {
   "cell_type": "markdown",
   "metadata": {},
   "source": [
    "### Generating .pickle file"
   ]
  },
  {
   "cell_type": "code",
   "execution_count": null,
   "metadata": {},
   "outputs": [],
   "source": [
    "now = datetime.datetime.utcnow().strftime('%d %B %Y %H:%M:%S UTC')\n",
    "result_anitapolis['metadata'] = 'Generated by {name} on {date}'.format(date=now, name=notebook_name)"
   ]
  },
  {
   "cell_type": "code",
   "execution_count": null,
   "metadata": {},
   "outputs": [],
   "source": [
    "file_name = 'data/result_anitapolis.pickle'\n",
    "with open(file_name, 'w') as f:\n",
    "    pickle.dump(result_anitapolis, f)\n",
    "    \n",
    "saved_files.append(file_name)"
   ]
  },
  {
   "cell_type": "markdown",
   "metadata": {},
   "source": [
    "### Saved files"
   ]
  },
  {
   "cell_type": "code",
   "execution_count": null,
   "metadata": {},
   "outputs": [],
   "source": [
    "with open('reports/report_%s.md' % notebook_name[:st.index(notebook_name, '.')], 'w') as q:\n",
    "    q.write('# Saved files \\n')\n",
    "    now = datetime.datetime.utcnow().strftime('%d %B %Y %H:%M:%S UTC')\n",
    "    header = 'Generated by {name} on {date}'.format(date=now, name=notebook_name)\n",
    "    q.write('\\n\\n'+header+'\\n\\n')\n",
    "    for i, sf in enumerate(saved_files):\n",
    "        print '%d  %s' % (i+1,sf)\n",
    "        q.write('*  `%s` \\n' % (sf))"
   ]
  }
 ],
 "metadata": {
  "kernelspec": {
   "display_name": "Python 2",
   "language": "python",
   "name": "python2"
  },
  "language_info": {
   "codemirror_mode": {
    "name": "ipython",
    "version": 2
   },
   "file_extension": ".py",
   "mimetype": "text/x-python",
   "name": "python",
   "nbconvert_exporter": "python",
   "pygments_lexer": "ipython2",
   "version": "2.7.18"
  }
 },
 "nbformat": 4,
 "nbformat_minor": 2
}
