{
 "cells": [
  {
   "cell_type": "markdown",
   "metadata": {},
   "source": [
    "# Setting the area for the data according of Lat and Long"
   ]
  },
  {
   "cell_type": "code",
   "execution_count": null,
   "metadata": {},
   "outputs": [],
   "source": [
    "import numpy as np\n",
    "import pandas as pd"
   ]
  },
  {
   "cell_type": "markdown",
   "metadata": {},
   "source": [
    "### Filename"
   ]
  },
  {
   "cell_type": "code",
   "execution_count": 1,
   "metadata": {},
   "outputs": [],
   "source": [
    "filename = 'carajas3.xyz'"
   ]
  },
  {
   "cell_type": "markdown",
   "metadata": {},
   "source": [
    "### Getting informations about the file"
   ]
  },
  {
   "cell_type": "code",
   "execution_count": 2,
   "metadata": {},
   "outputs": [],
   "source": [
    "def flight_lines(filename):\n",
    "    '''\n",
    "    Get the information about the flight lines of the airborne survey\n",
    "    \n",
    "    input\n",
    "    \n",
    "    filename: string - String containing the file name.\n",
    "    \n",
    "    return\n",
    "    \n",
    "    n_lines : integer - number of flight lines\n",
    "    lines : list - List of strings with the line number\n",
    "    i_line : list - List with the position of the lines within the file\n",
    "    '''\n",
    "    \n",
    "    f = open(filename)\n",
    "        \n",
    "    lines = []\n",
    "    index = []\n",
    "    for i,line in enumerate(f):\n",
    "        if line[:4] == 'Line':\n",
    "            index.append(i)\n",
    "            lines.append(line[:14])\n",
    "        \n",
    "    f.close()\n",
    "    return index,lines"
   ]
  },
  {
   "cell_type": "code",
   "execution_count": null,
   "metadata": {},
   "outputs": [],
   "source": [
    "index,line_str = flight_lines(filename)"
   ]
  },
  {
   "cell_type": "code",
   "execution_count": null,
   "metadata": {},
   "outputs": [],
   "source": [
    "print index[1] # posição da linha DO ARQUIVO"
   ]
  },
  {
   "cell_type": "code",
   "execution_count": null,
   "metadata": {},
   "outputs": [],
   "source": [
    "print line_str[1] # Nome da linhda de VOO"
   ]
  },
  {
   "cell_type": "markdown",
   "metadata": {},
   "source": [
    "### Defining long for lines"
   ]
  },
  {
   "cell_type": "code",
   "execution_count": null,
   "metadata": {},
   "outputs": [],
   "source": [
    "def long_lines(filename,index,long_min,long_max):\n",
    "    '''\n",
    "    Get the longitude of lines\n",
    "    '''\n",
    "    f=open(filename)\n",
    "    read_lines =f.readlines()\n",
    "    \n",
    "    long = []\n",
    "    for i in index:\n",
    "        long.append(float(read_lines[i+1][59:69]))\n",
    "        \n",
    "    mask = [(lg <= long_max) and (lg >= long_min) for lg in long ]\n",
    "    index_area = []\n",
    "    for i,msk in enumerate(mask):\n",
    "        if msk == True:\n",
    "            index_area.append(i)\n",
    "    \n",
    "    f.close()\n",
    "    return long, index_area"
   ]
  },
  {
   "cell_type": "code",
   "execution_count": null,
   "metadata": {},
   "outputs": [],
   "source": [
    "long_max = -48.9"
   ]
  },
  {
   "cell_type": "code",
   "execution_count": null,
   "metadata": {},
   "outputs": [],
   "source": [
    "long_min = -49.3"
   ]
  },
  {
   "cell_type": "code",
   "execution_count": null,
   "metadata": {},
   "outputs": [],
   "source": [
    "long,i_area = long_lines(filename,index,long_min,long_max) # Valores de longitude das linhas de VOO"
   ]
  },
  {
   "cell_type": "markdown",
   "metadata": {},
   "source": [
    "### Defining columns for the file"
   ]
  },
  {
   "cell_type": "code",
   "execution_count": null,
   "metadata": {},
   "outputs": [],
   "source": [
    "names = ['X','Y','LONG','LAT','MAGIGRF']"
   ]
  },
  {
   "cell_type": "markdown",
   "metadata": {},
   "source": [
    "### Getting the information for the lines"
   ]
  },
  {
   "cell_type": "code",
   "execution_count": null,
   "metadata": {},
   "outputs": [],
   "source": [
    "lon_max = -49.03\n",
    "lon_min = -49.15"
   ]
  },
  {
   "cell_type": "code",
   "execution_count": null,
   "metadata": {},
   "outputs": [],
   "source": [
    "lat_max = -27.75\n",
    "lat_min = -27.87 "
   ]
  },
  {
   "cell_type": "code",
   "execution_count": null,
   "metadata": {},
   "outputs": [],
   "source": [
    "f = open('data_XYZ_area','w+')\n",
    "fd = open('data_filtered_XYZ_area','w+')\n",
    "for i in i_area:\n",
    "    n = index[i+1] - index[i] - 1\n",
    "    df = pd.read_csv(filename,usecols=(0,1,6,7,16),na_values= '*',\n",
    "                     nrows=n,names=names,skiprows=index[i]+1,\n",
    "                     skipinitialspace=True,delim_whitespace=True,low_memory=False)\n",
    "    \n",
    "    mask = (df['LONG'] <= lon_max) & (df['LONG'] >= lon_min) & (df['LAT'] <= lat_max) & (df['LAT'] >= lat_min)\n",
    "    data_area = df[mask]\n",
    "    filtered_data = data_area.iloc[range(0,data_area.shape[0],30),:]\n",
    "    data_area.to_csv(f,header=None,index=None,sep=' ',mode='w+')\n",
    "    filtered_data.to_csv(fd,header=None,index=None,sep=' ',mode='w+')"
   ]
  },
  {
   "cell_type": "code",
   "execution_count": null,
   "metadata": {},
   "outputs": [],
   "source": []
  }
 ],
 "metadata": {
  "kernelspec": {
   "display_name": "Python 2",
   "language": "python",
   "name": "python2"
  },
  "language_info": {
   "codemirror_mode": {
    "name": "ipython",
    "version": 2
   },
   "file_extension": ".py",
   "mimetype": "text/x-python",
   "name": "python",
   "nbconvert_exporter": "python",
   "pygments_lexer": "ipython2",
   "version": "2.7.18"
  }
 },
 "nbformat": 4,
 "nbformat_minor": 2
}
