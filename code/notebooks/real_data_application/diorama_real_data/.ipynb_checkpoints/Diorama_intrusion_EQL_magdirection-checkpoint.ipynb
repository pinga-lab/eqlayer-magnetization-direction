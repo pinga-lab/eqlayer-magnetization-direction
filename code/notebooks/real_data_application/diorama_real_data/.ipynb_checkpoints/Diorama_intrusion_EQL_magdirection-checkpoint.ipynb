{
 "cells": [
  {
   "cell_type": "markdown",
   "metadata": {},
   "source": [
    "# Equivalent Layer technique for estimating magnetization application for Diorama intrusion of Goias Alkaline Province (GAP)"
   ]
  },
  {
   "cell_type": "markdown",
   "metadata": {},
   "source": [
    "#### Importing libraries"
   ]
  },
  {
   "cell_type": "code",
   "execution_count": 1,
   "metadata": {},
   "outputs": [],
   "source": [
    "% matplotlib inline "
   ]
  },
  {
   "cell_type": "code",
   "execution_count": 2,
   "metadata": {},
   "outputs": [
    {
     "name": "stderr",
     "output_type": "stream",
     "text": [
      "/home/andrelreis/anaconda2/lib/python2.7/site-packages/fatiando/vis/mpl.py:76: UserWarning: This module will be removed in v0.6. We recommend the use of matplotlib.pyplot module directly. Some of the fatiando specific functions will remain.\n",
      "  \"specific functions will remain.\")\n"
     ]
    }
   ],
   "source": [
    "import sys\n",
    "import numpy as np\n",
    "import matplotlib.pyplot as plt\n",
    "import cPickle as pickle\n",
    "import datetime\n",
    "import timeit\n",
    "import pandas as pd\n",
    "\n",
    "from scipy.optimize import nnls\n",
    "from fatiando.gridder import regular\n",
    "from fatiando.utils import ang2vec, vec2ang\n",
    "from fatiando.mesher import Sphere, PointGrid,Prism\n",
    "from fatiando.gravmag import sphere,prism\n",
    "from fatiando.constants import CM, T2NT, G, SI2MGAL"
   ]
  },
  {
   "cell_type": "code",
   "execution_count": 3,
   "metadata": {},
   "outputs": [],
   "source": [
    "notebook_name = 'Diorama_intrusion_EQL_magdirection.ipynb'"
   ]
  },
  {
   "cell_type": "markdown",
   "metadata": {},
   "source": [
    "#### Importing auxiliary functions"
   ]
  },
  {
   "cell_type": "code",
   "execution_count": 4,
   "metadata": {},
   "outputs": [],
   "source": [
    "dir_modules = '../../mypackage'\n",
    "sys.path.append(dir_modules)"
   ]
  },
  {
   "cell_type": "code",
   "execution_count": 5,
   "metadata": {},
   "outputs": [],
   "source": [
    "import auxiliary_functions as fc"
   ]
  },
  {
   "cell_type": "markdown",
   "metadata": {},
   "source": [
    "#### Open a dictionary"
   ]
  },
  {
   "cell_type": "code",
   "execution_count": 6,
   "metadata": {},
   "outputs": [],
   "source": [
    "results = dict()"
   ]
  },
  {
   "cell_type": "markdown",
   "metadata": {},
   "source": [
    "#### Saving files"
   ]
  },
  {
   "cell_type": "code",
   "execution_count": 7,
   "metadata": {},
   "outputs": [],
   "source": [
    "saved_files = []"
   ]
  },
  {
   "cell_type": "markdown",
   "metadata": {},
   "source": [
    "## Loading real data for Montes claros complex"
   ]
  },
  {
   "cell_type": "code",
   "execution_count": 8,
   "metadata": {},
   "outputs": [],
   "source": [
    "with open('data/data_set.pickle') as f:\n",
    "        data = pickle.load(f)"
   ]
  },
  {
   "cell_type": "markdown",
   "metadata": {},
   "source": [
    "## Survey information"
   ]
  },
  {
   "cell_type": "code",
   "execution_count": 9,
   "metadata": {},
   "outputs": [
    {
     "name": "stdout",
     "output_type": "stream",
     "text": [
      "Shape : (78,19)\n",
      "Number of data: 1506.0\n",
      "dx: 98.0 m\n",
      "dy: 502.0 m \n"
     ]
    }
   ],
   "source": [
    "print 'Shape : (%.0f,%.0f)'% data['shape'] \n",
    "print 'Number of data: %.1f' % data['N']\n",
    "print 'dx: %.1f m' % data['dx']\n",
    "print 'dy: %.1f m ' % data['dy']"
   ]
  },
  {
   "cell_type": "markdown",
   "metadata": {},
   "source": [
    "## Main field"
   ]
  },
  {
   "cell_type": "code",
   "execution_count": 10,
   "metadata": {},
   "outputs": [],
   "source": [
    "inc_gf,dec_gf = data['main_field'][0],data['main_field'][1] "
   ]
  },
  {
   "cell_type": "code",
   "execution_count": 11,
   "metadata": {},
   "outputs": [
    {
     "name": "stdout",
     "output_type": "stream",
     "text": [
      "Main field inclination: -19.5 degree\n",
      "Main field declination: -18.5 degree\n"
     ]
    }
   ],
   "source": [
    "print'Main field inclination: %.1f degree' % inc_gf\n",
    "print'Main field declination: %.1f degree' % dec_gf"
   ]
  },
  {
   "cell_type": "markdown",
   "metadata": {},
   "source": [
    "## Real data visualization for Montes Claros complex"
   ]
  },
  {
   "cell_type": "code",
   "execution_count": 12,
   "metadata": {},
   "outputs": [
    {
     "name": "stderr",
     "output_type": "stream",
     "text": [
      "/home/andrelreis/anaconda2/lib/python2.7/site-packages/matplotlib/figure.py:1744: UserWarning: This figure includes Axes that are not compatible with tight_layout, so its results might be incorrect.\n",
      "  warnings.warn(\"This figure includes Axes that are not \"\n"
     ]
    },
    {
     "data": {
      "image/png": "[encoded data removed]",
      "text/plain": [
       "<matplotlib.figure.Figure at 0x7f8941273e10>"
      ]
     },
     "metadata": {},
     "output_type": "display_data"
    }
   ],
   "source": [
    "title_font = 20\n",
    "bottom_font = 18\n",
    "saturation_factor = 1.\n",
    "plt.close('all')\n",
    "plt.figure(figsize=(9,9), tight_layout=True)\n",
    "\n",
    "plt.tricontourf(1e-3*data['y'],1e-3*data['x'],data['tfa_12'],20, cmap='viridis')\n",
    "plt.colorbar(pad=0.01, aspect=40, shrink=1.0).set_label('nT',size=bottom_font)\n",
    "plt.xlabel('y (km)', fontsize = title_font)\n",
    "plt.ylabel('x (km)', fontsize = title_font)\n",
    "plt.title('TFA (Diorama intrusion) ', fontsize=title_font)\n",
    "plt.xlim(1e-3*data['y'].min(),1e-3*data['y'].max())\n",
    "plt.ylim(1e-3*data['x'].min(),1e-3*data['x'].max())\n",
    "plt.tick_params(labelsize=15)\n",
    "\n",
    "file_name = 'figs/Diorama_decimated_12'\n",
    "plt.savefig(file_name+'.png',dpi=300)\n",
    "saved_files.append(file_name+'.png')\n",
    "\n",
    "plt.savefig(file_name+'.eps',dpi=300)\n",
    "saved_files.append(file_name+'.eps')\n",
    "\n",
    "plt.show()"
   ]
  },
  {
   "cell_type": "markdown",
   "metadata": {},
   "source": [
    "## Generating the layer with my function "
   ]
  },
  {
   "cell_type": "code",
   "execution_count": null,
   "metadata": {},
   "outputs": [],
   "source": [
    "h = 580."
   ]
  },
  {
   "cell_type": "markdown",
   "metadata": {},
   "source": [
    "#### Generating a layer"
   ]
  },
  {
   "cell_type": "code",
   "execution_count": null,
   "metadata": {},
   "outputs": [],
   "source": [
    "xs = data['x']"
   ]
  },
  {
   "cell_type": "code",
   "execution_count": null,
   "metadata": {},
   "outputs": [],
   "source": [
    "ys = data['y']"
   ]
  },
  {
   "cell_type": "code",
   "execution_count": null,
   "metadata": {},
   "outputs": [],
   "source": [
    "zs = h*np.ones_like(xs)"
   ]
  },
  {
   "cell_type": "markdown",
   "metadata": {},
   "source": [
    "## Non-negative Least Squares Method for estimating a positive layer"
   ]
  },
  {
   "cell_type": "code",
   "execution_count": null,
   "metadata": {},
   "outputs": [],
   "source": [
    "G = fc.sensitivity_mag(data['x'],data['y'],data['z'],\n",
    "                       xs,ys,zs,inc_gf,dec_gf,-71.,-23.)"
   ]
  },
  {
   "cell_type": "code",
   "execution_count": null,
   "metadata": {},
   "outputs": [],
   "source": [
    "start_time = timeit.default_timer()"
   ]
  },
  {
   "cell_type": "code",
   "execution_count": null,
   "metadata": {},
   "outputs": [],
   "source": [
    "m_pos,_ = nnls(G,data['tfa_50'])"
   ]
  },
  {
   "cell_type": "code",
   "execution_count": null,
   "metadata": {},
   "outputs": [],
   "source": [
    "elapsed = timeit.default_timer() - start_time"
   ]
  },
  {
   "cell_type": "code",
   "execution_count": null,
   "metadata": {},
   "outputs": [],
   "source": [
    "print elapsed"
   ]
  },
  {
   "cell_type": "code",
   "execution_count": null,
   "metadata": {},
   "outputs": [],
   "source": [
    "tf_pred_pos = fc.tfa_layer(data['x'],data['y'],data['z'],\n",
    "                           xs,ys,zs,inc_gf,dec_gf,m_pos,-71.,-23.)"
   ]
  },
  {
   "cell_type": "markdown",
   "metadata": {},
   "source": [
    "### Calculating residual"
   ]
  },
  {
   "cell_type": "code",
   "execution_count": null,
   "metadata": {},
   "outputs": [],
   "source": [
    "r_pos = data['tfa_50'] - tf_pred_pos"
   ]
  },
  {
   "cell_type": "markdown",
   "metadata": {},
   "source": [
    "#### Parameters for normalized histogram"
   ]
  },
  {
   "cell_type": "code",
   "execution_count": null,
   "metadata": {},
   "outputs": [],
   "source": [
    "r_norm,r_mean,r_std = fc.residual(data['tfa_50'],tf_pred_pos)"
   ]
  },
  {
   "cell_type": "code",
   "execution_count": null,
   "metadata": {},
   "outputs": [],
   "source": [
    "print r_mean"
   ]
  },
  {
   "cell_type": "markdown",
   "metadata": {},
   "source": [
    "## Comparison between the Model and the Layer with posivity"
   ]
  },
  {
   "cell_type": "code",
   "execution_count": null,
   "metadata": {},
   "outputs": [],
   "source": [
    "title_font = 20\n",
    "bottom_font = 18\n",
    "saturation_factor = 1.\n",
    "plt.close('all')\n",
    "plt.figure(figsize=(18,18), tight_layout=True)\n",
    "\n",
    "ranges = saturation_factor*np.abs([data['tfa_50'].max(), \n",
    "                                   data['tfa_50'].min(),\n",
    "                                   tf_pred_pos.max(), tf_pred_pos.min()]).max()\n",
    "\n",
    "r_ranges = saturation_factor*np.abs([r_pos.max(), r_pos.min()]).max()\n",
    "\n",
    "\n",
    "plt.subplot(2,2,1)\n",
    "plt.tricontourf(1e-3*data['y'], 1e-3*data['x'], data['tfa_50'], 20, cmap='viridis',vmin=-ranges, vmax=ranges)\n",
    "plt.colorbar(pad=0.01, aspect=40, shrink=1.0).set_label('nT',size=bottom_font)\n",
    "plt.xlabel('y (km)', fontsize = title_font)\n",
    "plt.ylabel('x (km)', fontsize = title_font)\n",
    "plt.title('TFA (Montes Claros complex) ', fontsize=title_font)\n",
    "plt.xlim(1e-3*data['y'].min(),1e-3*data['y'].max())\n",
    "plt.ylim(1e-3*data['x'].min(),1e-3*data['x'].max())\n",
    "plt.tick_params(labelsize=15)\n",
    "\n",
    "plt.subplot(2,2,2)\n",
    "plt.tricontourf(1e-3*data['y'],1e-3*data['x'], tf_pred_pos, 20, cmap='viridis',  vmin=-ranges, vmax=ranges)\n",
    "plt.colorbar(pad=0.01, aspect=40, shrink=1.0).set_label('nT',size=bottom_font)\n",
    "plt.xlabel('y (km)', fontsize = title_font)\n",
    "plt.ylabel('x (km)', fontsize = title_font)\n",
    "plt.title('TFA (Layer)', fontsize=title_font)\n",
    "plt.xlim(1e-3*data['y'].min(),1e-3*data['y'].max())\n",
    "plt.ylim(1e-3*data['x'].min(),1e-3*data['x'].max())\n",
    "plt.tick_params(labelsize=15)\n",
    "\n",
    "plt.subplot(2,2,3)\n",
    "plt.tricontourf(1e-3*data['y'],1e-3*data['x'], r_pos, 20, cmap='viridis',  vmin=-r_ranges, vmax=r_ranges)\n",
    "plt.colorbar(pad=0.01, aspect=40, shrink=1.0).set_label('nT',size=bottom_font)\n",
    "plt.xlabel('y (km)', fontsize = title_font)\n",
    "plt.ylabel('x (km)', fontsize = title_font)\n",
    "plt.title('Residual map', fontsize=title_font)\n",
    "plt.xlim(1e-3*data['y'].min(),1e-3*data['y'].max())\n",
    "plt.ylim(1e-3*data['x'].min(),1e-3*data['x'].max())\n",
    "plt.tick_params(labelsize=15)\n",
    "\n",
    "\n",
    "plt.subplot(2,2,4)\n",
    "plt.xlabel('$\\mu$ = %.3f | $\\sigma$ = %.3f nT' % (r_mean, r_std),\n",
    "           fontsize = bottom_font)\n",
    "nbins = int((np.max(r_norm - np.min(r_norm))))\n",
    "plt.hist(r_norm,bins=nbins,normed=True)\n",
    "plt.ylim(0.,1.)\n",
    "plt.xlim(-10., 10.)\n",
    "plt.title('Normalized Histogram',fontsize=title_font)\n",
    "plt.tick_params(labelsize=15)\n",
    "\n",
    "file_name = 'figs/MC_complex_NNLS'\n",
    "plt.savefig(file_name+'.png',dpi=300)\n",
    "saved_files.append(file_name+'.png')\n",
    "\n",
    "plt.savefig(file_name+'.eps',dpi=300)\n",
    "saved_files.append(file_name+'.eps')\n",
    "\n",
    "plt.show()"
   ]
  },
  {
   "cell_type": "markdown",
   "metadata": {},
   "source": [
    "### Magnetic moment within the Layer with positivity constraint"
   ]
  },
  {
   "cell_type": "code",
   "execution_count": null,
   "metadata": {},
   "outputs": [],
   "source": [
    "title_font = 20\n",
    "bottom_font = 18\n",
    "saturation_factor = 1.\n",
    "plt.close('all')\n",
    "plt.figure(figsize=(9,9), tight_layout=True)\n",
    "\n",
    "plt.tricontourf(1e-3*ys,1e-3*xs,m_pos,20,cmap='viridis')\n",
    "plt.colorbar(pad=0.01, aspect=40, shrink=1.0).set_label('$A.m^2$',size=bottom_font)\n",
    "plt.xlabel('y (km)', fontsize = title_font)\n",
    "plt.ylabel('x (km)', fontsize = title_font)\n",
    "plt.title('Magnetic moment (layer)', fontsize=title_font)\n",
    "plt.xlim(1e-3*data['y'].min(),1e-3*data['y'].max())\n",
    "plt.ylim(1e-3*data['x'].min(),1e-3*data['x'].max())\n",
    "plt.tick_params(labelsize=15)\n",
    "\n",
    "file_name = 'figs/MC_complex_moment_positive_NNLS'\n",
    "plt.savefig(file_name+'.png',dpi=300)\n",
    "saved_files.append(file_name+'.png')\n",
    "\n",
    "plt.savefig(file_name+'.eps',dpi=300)\n",
    "saved_files.append(file_name+'.eps')\n",
    "\n",
    "plt.show()"
   ]
  },
  {
   "cell_type": "markdown",
   "metadata": {},
   "source": [
    "### Levenberg-Marquardt with NNLS for positive magnetic moments"
   ]
  },
  {
   "cell_type": "code",
   "execution_count": null,
   "metadata": {},
   "outputs": [],
   "source": [
    "i_pos = 1500"
   ]
  },
  {
   "cell_type": "code",
   "execution_count": null,
   "metadata": {},
   "outputs": [],
   "source": [
    "it_max = 30"
   ]
  },
  {
   "cell_type": "code",
   "execution_count": null,
   "metadata": {},
   "outputs": [],
   "source": [
    "it_marq = 15"
   ]
  },
  {
   "cell_type": "code",
   "execution_count": null,
   "metadata": {},
   "outputs": [],
   "source": [
    "lamb = 10.\n",
    "dlamb = 100."
   ]
  },
  {
   "cell_type": "code",
   "execution_count": null,
   "metadata": {},
   "outputs": [],
   "source": [
    "eps = 1e-5"
   ]
  },
  {
   "cell_type": "code",
   "execution_count": null,
   "metadata": {},
   "outputs": [],
   "source": [
    "m_LM,inc_est,dec_est,phi,imax,pest,incs,decs = fc.levenberg_marquardt_NNLS(\n",
    "    data['tfa_50'],data['x'],data['y'], data['z']\n",
    "    ,xs,ys,zs,inc_gf,dec_gf,-71.,-23.,lamb,dlamb,i_pos,it_max, it_marq,eps)"
   ]
  },
  {
   "cell_type": "markdown",
   "metadata": {},
   "source": [
    "### Visualization of the convergence"
   ]
  },
  {
   "cell_type": "code",
   "execution_count": null,
   "metadata": {},
   "outputs": [],
   "source": [
    "phi = (np.array(phi)/data['x'].size)"
   ]
  },
  {
   "cell_type": "code",
   "execution_count": null,
   "metadata": {},
   "outputs": [],
   "source": [
    "title_font = 20\n",
    "bottom_font = 18\n",
    "plt.close('all')\n",
    "plt.figure(figsize=(8,8), tight_layout=True)\n",
    "\n",
    "plt.figure(figsize=(10, 10))\n",
    "plt.plot(phi, 'b--')\n",
    "plt.plot(phi, 'b.')\n",
    "\n",
    "plt.title('Convergence analysis', fontsize=title_font)\n",
    "plt.xlabel('iteration', fontsize = title_font)\n",
    "plt.ylabel('$\\psi (\\mathbf{p}, \\mathbf{q})$', fontsize = title_font)\n",
    "plt.tick_params(labelsize=13)\n",
    "\n",
    "file_name = 'figs/MC_complex_convergence_LM_NNLS'\n",
    "plt.savefig(file_name+'.png',dpi=300)\n",
    "saved_files.append(file_name+'.png')\n",
    "\n",
    "plt.savefig(file_name+'.eps',dpi=300)\n",
    "saved_files.append(file_name+'.eps')\n",
    "\n",
    "plt.show()"
   ]
  },
  {
   "cell_type": "markdown",
   "metadata": {},
   "source": [
    "### Estimated magnetization direction"
   ]
  },
  {
   "cell_type": "code",
   "execution_count": null,
   "metadata": {},
   "outputs": [],
   "source": [
    "print (inc_est,dec_est)"
   ]
  },
  {
   "cell_type": "markdown",
   "metadata": {},
   "source": [
    "### Comparison between observed data and predicted data"
   ]
  },
  {
   "cell_type": "code",
   "execution_count": null,
   "metadata": {},
   "outputs": [],
   "source": [
    "pred = fc.tfa_layer(data['x'],data['y'],data['z'],\n",
    "                    xs,ys,zs,inc_gf,dec_gf,m_LM,inc_est,dec_est)"
   ]
  },
  {
   "cell_type": "code",
   "execution_count": null,
   "metadata": {},
   "outputs": [],
   "source": [
    "res = pred - data['tfa_50']"
   ]
  },
  {
   "cell_type": "code",
   "execution_count": null,
   "metadata": {},
   "outputs": [],
   "source": [
    "r_norm,r_mean,r_std = fc.residual(data['tfa_50'],pred)"
   ]
  },
  {
   "cell_type": "code",
   "execution_count": null,
   "metadata": {},
   "outputs": [],
   "source": [
    "title_font = 20\n",
    "bottom_font = 18\n",
    "saturation_factor = 1.\n",
    "plt.close('all')\n",
    "plt.figure(figsize=(18,18), tight_layout=True)\n",
    "\n",
    "ranges = saturation_factor*np.abs([data['tfa_50'].max(), \n",
    "                                   data['tfa_50'].min(),\n",
    "                                   pred.max(), pred.min()]).max()\n",
    "\n",
    "r_ranges = saturation_factor*np.abs([res.max(), res.min()]).max()\n",
    "\n",
    "plt.subplot(2,2,1)\n",
    "plt.tricontourf(1e-3*data['y'], 1e-3*data['x'], data['tfa_50'], 20, cmap='viridis',vmin=-ranges, vmax=ranges)\n",
    "plt.colorbar(pad=0.01, aspect=40, shrink=1.0).set_label('nT',size=bottom_font)\n",
    "plt.xlabel('y (km)', fontsize = title_font)\n",
    "plt.ylabel('x (km)', fontsize = title_font)\n",
    "plt.title('TFA (Montes Claros complex) ', fontsize=title_font)\n",
    "plt.xlim(1e-3*data['y'].min(),1e-3*data['y'].max())\n",
    "plt.ylim(1e-3*data['x'].min(),1e-3*data['x'].max())\n",
    "plt.tick_params(labelsize=15)\n",
    "\n",
    "plt.subplot(2,2,2)\n",
    "plt.tricontourf(1e-3*data['y'],1e-3*data['x'], pred, 20, cmap='viridis',  vmin=-ranges, vmax=ranges)\n",
    "plt.colorbar(pad=0.01, aspect=40, shrink=1.0).set_label('nT',size=bottom_font)\n",
    "plt.xlabel('y (km)', fontsize = title_font)\n",
    "plt.ylabel('x (km)', fontsize = title_font)\n",
    "plt.title('TFA (Layer)', fontsize=title_font)\n",
    "plt.xlim(1e-3*data['y'].min(),1e-3*data['y'].max())\n",
    "plt.ylim(1e-3*data['x'].min(),1e-3*data['x'].max())\n",
    "plt.tick_params(labelsize=15)\n",
    "\n",
    "plt.subplot(2,2,3)\n",
    "plt.tricontourf(1e-3*data['y'],1e-3*data['x'], res, 20, cmap='viridis',  vmin=-r_ranges, vmax=r_ranges)\n",
    "plt.colorbar(pad=0.01, aspect=40, shrink=1.0).set_label('nT',size=bottom_font)\n",
    "plt.xlabel('y (km)', fontsize = title_font)\n",
    "plt.ylabel('x (km)', fontsize = title_font)\n",
    "plt.title('Residual map', fontsize=title_font)\n",
    "plt.xlim(1e-3*data['y'].min(),1e-3*data['y'].max())\n",
    "plt.ylim(1e-3*data['x'].min(),1e-3*data['x'].max())\n",
    "plt.tick_params(labelsize=15)\n",
    "\n",
    "\n",
    "plt.subplot(2,2,4)\n",
    "plt.xlabel('$\\mu$ = %.3f | $\\sigma$ = %.3f nT' % (r_mean, r_std),\n",
    "           fontsize = bottom_font)\n",
    "nbins = int((np.max(r_norm - np.min(r_norm))))\n",
    "plt.hist(r_norm,bins=nbins,normed=True)\n",
    "plt.ylim(0.,1.)\n",
    "plt.xlim(-10., 10.)\n",
    "plt.title('Normalized Histogram',fontsize=title_font)\n",
    "plt.tick_params(labelsize=15)\n",
    "\n",
    "file_name = 'figs/MC_complex_LM_NNLS'\n",
    "plt.savefig(file_name+'.png',dpi=300)\n",
    "saved_files.append(file_name+'.png')\n",
    "\n",
    "plt.savefig(file_name+'.eps',dpi=300)\n",
    "saved_files.append(file_name+'.eps')\n",
    "\n",
    "plt.show()"
   ]
  },
  {
   "cell_type": "markdown",
   "metadata": {},
   "source": [
    "### Estimated magnetic moment within the layer"
   ]
  },
  {
   "cell_type": "code",
   "execution_count": null,
   "metadata": {},
   "outputs": [],
   "source": [
    "title_font = 20\n",
    "bottom_font = 18\n",
    "plt.close('all')\n",
    "plt.figure(figsize=(9,9), tight_layout=True)\n",
    "\n",
    "plt.tricontourf(1e-3*ys,1e-3*xs,m_LM,20,cmap='viridis')\n",
    "plt.colorbar(pad=0.01, aspect=40, shrink=1.0).set_label('$A.m^2$',size=bottom_font)\n",
    "plt.xlabel('y (km)', fontsize = title_font)\n",
    "plt.ylabel('x (km)', fontsize = title_font)\n",
    "plt.title('Magnetic moment (layer)', fontsize=title_font)\n",
    "plt.xlim(1e-3*data['y'].min(),1e-3*data['y'].max())\n",
    "plt.ylim(1e-3*data['x'].min(),1e-3*data['x'].max())\n",
    "plt.tick_params(labelsize=15)\n",
    "\n",
    "file_name = 'figs/MC_complex_moment_positive_LM_NNLS'\n",
    "plt.savefig(file_name+'.png',dpi=300)\n",
    "saved_files.append(file_name+'.png')\n",
    "\n",
    "plt.savefig(file_name+'.eps',dpi=300)\n",
    "saved_files.append(file_name+'.eps')\n",
    "\n",
    "plt.show()"
   ]
  },
  {
   "cell_type": "markdown",
   "metadata": {},
   "source": [
    "### Reduction to the pole"
   ]
  },
  {
   "cell_type": "code",
   "execution_count": null,
   "metadata": {},
   "outputs": [],
   "source": [
    "G_rtp = fc.sensitivity_mag(data['x'],data['y'],data['z'],\n",
    "                       xs,ys,zs,90.,0.,90.,0.)"
   ]
  },
  {
   "cell_type": "code",
   "execution_count": null,
   "metadata": {},
   "outputs": [],
   "source": [
    "tfa_rtp = np.dot(G_rtp,m_LM)"
   ]
  },
  {
   "cell_type": "markdown",
   "metadata": {},
   "source": [
    "#### Visualization of a reduction to the pole"
   ]
  },
  {
   "cell_type": "code",
   "execution_count": null,
   "metadata": {},
   "outputs": [],
   "source": [
    "title_font = 20\n",
    "bottom_font = 18\n",
    "plt.close('all')\n",
    "plt.figure(figsize=(9,9), tight_layout=True)\n",
    "\n",
    "plt.tricontourf(1e-3*data['y'], 1e-3*data['x'], tfa_rtp, 20, cmap='inferno')\n",
    "plt.colorbar(pad=0.01, aspect=40, shrink=1.0).set_label('nT',size=bottom_font)\n",
    "plt.xlabel('y (m)', fontsize = title_font)\n",
    "plt.ylabel('x (m)', fontsize = title_font)\n",
    "plt.title('TFA (RTP)', fontsize=title_font)\n",
    "plt.xlim(1e-3*data['y'].min(),1e-3*data['y'].max())\n",
    "plt.ylim(1e-3*data['x'].min(),1e-3*data['x'].max())\n",
    "plt.tick_params(labelsize=15)\n",
    "\n",
    "\n",
    "file_name = 'figs/RTP_MC_complex_LM_NNLS'\n",
    "plt.savefig(file_name+'.png',dpi=300)\n",
    "saved_files.append(file_name+'.png')\n",
    "\n",
    "plt.savefig(file_name+'.eps',dpi=300)\n",
    "saved_files.append(file_name+'.eps')\n",
    "\n",
    "plt.show()"
   ]
  },
  {
   "cell_type": "markdown",
   "metadata": {},
   "source": [
    "## Visualization of RTP and magnetic moment"
   ]
  },
  {
   "cell_type": "code",
   "execution_count": null,
   "metadata": {},
   "outputs": [],
   "source": [
    "title_font = 20\n",
    "bottom_font = 18\n",
    "plt.close('all')\n",
    "plt.figure(figsize=(20,10), tight_layout=True)\n",
    "\n",
    "plt.subplot(1,2,1)\n",
    "plt.tricontourf(1e-3*ys,1e-3*xs,m_LM,20,cmap='viridis')\n",
    "plt.colorbar(pad=0.01, aspect=40, shrink=1.0).set_label('$A.m^2$',size=bottom_font)\n",
    "plt.xlabel('y (km)', fontsize = title_font)\n",
    "plt.ylabel('x (km)', fontsize = title_font)\n",
    "plt.title('Magnetic moment (layer)', fontsize=title_font)\n",
    "plt.xlim(1e-3*data['y'].min(),1e-3*data['y'].max())\n",
    "plt.ylim(1e-3*data['x'].min(),1e-3*data['x'].max())\n",
    "plt.tick_params(labelsize=15)\n",
    "\n",
    "plt.subplot(1,2,2)\n",
    "plt.tricontourf(1e-3*data['y'], 1e-3*data['x'], tfa_rtp, 20, cmap='inferno')\n",
    "plt.colorbar(pad=0.01, aspect=40, shrink=1.0).set_label('nT',size=bottom_font)\n",
    "plt.xlabel('y (m)', fontsize = title_font)\n",
    "plt.ylabel('x (m)', fontsize = title_font)\n",
    "plt.title('TFA (RTP)', fontsize=title_font)\n",
    "plt.xlim(1e-3*data['y'].min(),1e-3*data['y'].max())\n",
    "plt.ylim(1e-3*data['x'].min(),1e-3*data['x'].max())\n",
    "plt.tick_params(labelsize=15)\n",
    "\n",
    "file_name = 'figs/moment_RTP_MC_complex_LM_NNLS'\n",
    "plt.savefig(file_name+'.png',dpi=300)\n",
    "saved_files.append(file_name+'.png')\n",
    "\n",
    "plt.savefig(file_name+'.eps',dpi=300)\n",
    "saved_files.append(file_name+'.eps')\n",
    "\n",
    "plt.show()"
   ]
  },
  {
   "cell_type": "code",
   "execution_count": null,
   "metadata": {},
   "outputs": [],
   "source": []
  }
 ],
 "metadata": {
  "kernelspec": {
   "display_name": "Python 2",
   "language": "python",
   "name": "python2"
  },
  "language_info": {
   "codemirror_mode": {
    "name": "ipython",
    "version": 2
   },
   "file_extension": ".py",
   "mimetype": "text/x-python",
   "name": "python",
   "nbconvert_exporter": "python",
   "pygments_lexer": "ipython2",
   "version": "2.7.14"
  }
 },
 "nbformat": 4,
 "nbformat_minor": 2
}
