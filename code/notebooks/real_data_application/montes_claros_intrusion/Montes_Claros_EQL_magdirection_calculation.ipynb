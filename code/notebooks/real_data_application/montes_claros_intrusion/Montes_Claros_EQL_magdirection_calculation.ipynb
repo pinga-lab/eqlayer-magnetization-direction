{
 "cells": [
  {
   "cell_type": "markdown",
   "metadata": {},
   "source": [
    "# Application the equivalent layer technique for estimating the magnetization direction: Montes Claros complex of GAP"
   ]
  },
  {
   "cell_type": "markdown",
   "metadata": {},
   "source": [
    "#### Importing libraries"
   ]
  },
  {
   "cell_type": "code",
   "execution_count": 1,
   "metadata": {},
   "outputs": [],
   "source": [
    "% matplotlib inline "
   ]
  },
  {
   "cell_type": "code",
   "execution_count": 2,
   "metadata": {},
   "outputs": [
    {
     "name": "stderr",
     "output_type": "stream",
     "text": [
      "/home/andrelreis/anaconda2/lib/python2.7/site-packages/fatiando/vis/mpl.py:76: UserWarning: This module will be removed in v0.6. We recommend the use of matplotlib.pyplot module directly. Some of the fatiando specific functions will remain.\n",
      "  \"specific functions will remain.\")\n"
     ]
    }
   ],
   "source": [
    "import sys\n",
    "import numpy as np\n",
    "import matplotlib.pyplot as plt\n",
    "import cPickle as pickle\n",
    "import datetime\n",
    "import timeit\n",
    "import string as st\n",
    "from scipy.optimize import nnls\n",
    "from fatiando.gridder import regular\n",
    "from fatiando.utils import ang2vec, vec2ang\n",
    "from fatiando.mesher import Sphere, PointGrid,Prism\n",
    "from fatiando.gravmag import sphere,prism\n",
    "from fatiando.constants import CM, T2NT, G, SI2MGAL"
   ]
  },
  {
   "cell_type": "code",
   "execution_count": 3,
   "metadata": {},
   "outputs": [],
   "source": [
    "notebook_name = 'Montes_Claros_EQL_magdirection_calculation.ipynb'"
   ]
  },
  {
   "cell_type": "markdown",
   "metadata": {},
   "source": [
    "#### Importing auxiliary functions"
   ]
  },
  {
   "cell_type": "code",
   "execution_count": 4,
   "metadata": {},
   "outputs": [],
   "source": [
    "dir_modules = '../../../mypackage'\n",
    "sys.path.append(dir_modules)"
   ]
  },
  {
   "cell_type": "code",
   "execution_count": 5,
   "metadata": {},
   "outputs": [],
   "source": [
    "import auxiliary_functions as fc"
   ]
  },
  {
   "cell_type": "markdown",
   "metadata": {},
   "source": [
    "#### Loading data"
   ]
  },
  {
   "cell_type": "code",
   "execution_count": 6,
   "metadata": {},
   "outputs": [],
   "source": [
    "with open('data/data_set.pickle') as f:\n",
    "        data = pickle.load(f)"
   ]
  },
  {
   "cell_type": "markdown",
   "metadata": {},
   "source": [
    "#### Open a dictionary"
   ]
  },
  {
   "cell_type": "code",
   "execution_count": 7,
   "metadata": {},
   "outputs": [],
   "source": [
    "result_mclaros = dict()"
   ]
  },
  {
   "cell_type": "markdown",
   "metadata": {},
   "source": [
    "### Saving files"
   ]
  },
  {
   "cell_type": "code",
   "execution_count": 8,
   "metadata": {},
   "outputs": [],
   "source": [
    "saved_files = []"
   ]
  },
  {
   "cell_type": "markdown",
   "metadata": {},
   "source": [
    "### airborne survey information"
   ]
  },
  {
   "cell_type": "code",
   "execution_count": 9,
   "metadata": {},
   "outputs": [
    {
     "name": "stdout",
     "output_type": "stream",
     "text": [
      "Shape : (55,32)\n",
      "Number of data: 1787.0\n",
      "dx: -319.8 m\n",
      "dy: 471.0 m \n"
     ]
    }
   ],
   "source": [
    "print 'Shape : (%.0f,%.0f)'% data['shape'] \n",
    "print 'Number of data: %.1f' % data['N']\n",
    "print 'dx: %.1f m' % data['dx']\n",
    "print 'dy: %.1f m ' % data['dy']"
   ]
  },
  {
   "cell_type": "markdown",
   "metadata": {},
   "source": [
    "## Properties of the model"
   ]
  },
  {
   "cell_type": "markdown",
   "metadata": {},
   "source": [
    "### Main field"
   ]
  },
  {
   "cell_type": "code",
   "execution_count": 10,
   "metadata": {},
   "outputs": [],
   "source": [
    "inc_gf,dec_gf = data['main_field']"
   ]
  },
  {
   "cell_type": "code",
   "execution_count": 11,
   "metadata": {},
   "outputs": [
    {
     "name": "stdout",
     "output_type": "stream",
     "text": [
      "Main field inclination: -19.5 degree\n",
      "Main field declination: -18.5 degree\n"
     ]
    }
   ],
   "source": [
    "print'Main field inclination: %.1f degree' % inc_gf\n",
    "print'Main field declination: %.1f degree' % dec_gf"
   ]
  },
  {
   "cell_type": "markdown",
   "metadata": {},
   "source": [
    "## Generating the layer with my function "
   ]
  },
  {
   "cell_type": "code",
   "execution_count": 12,
   "metadata": {},
   "outputs": [],
   "source": [
    "h = 800."
   ]
  },
  {
   "cell_type": "markdown",
   "metadata": {},
   "source": [
    "#### Generating a layer"
   ]
  },
  {
   "cell_type": "code",
   "execution_count": 13,
   "metadata": {},
   "outputs": [],
   "source": [
    "xs = data['x']\n",
    "ys = data['y']\n",
    "zs = h*np.ones_like(xs)"
   ]
  },
  {
   "cell_type": "markdown",
   "metadata": {},
   "source": [
    "### Levenberg-Marquardt with NNLS for positive magnetic moments"
   ]
  },
  {
   "cell_type": "code",
   "execution_count": 14,
   "metadata": {},
   "outputs": [],
   "source": [
    "i_pos = 1500"
   ]
  },
  {
   "cell_type": "code",
   "execution_count": 15,
   "metadata": {},
   "outputs": [],
   "source": [
    "it_max = 30"
   ]
  },
  {
   "cell_type": "code",
   "execution_count": 16,
   "metadata": {},
   "outputs": [],
   "source": [
    "it_marq = 15"
   ]
  },
  {
   "cell_type": "code",
   "execution_count": 17,
   "metadata": {},
   "outputs": [],
   "source": [
    "lamb = 10.\n",
    "dlamb = 100."
   ]
  },
  {
   "cell_type": "code",
   "execution_count": 18,
   "metadata": {},
   "outputs": [],
   "source": [
    "eps_e = 1e-4\n",
    "eps_i = 1e-4"
   ]
  },
  {
   "cell_type": "code",
   "execution_count": 19,
   "metadata": {},
   "outputs": [],
   "source": [
    "mu_list = [1e2,1e3,1e4,5*1e4,1e5,1e6]"
   ]
  },
  {
   "cell_type": "code",
   "execution_count": 20,
   "metadata": {},
   "outputs": [
    {
     "name": "stdout",
     "output_type": "stream",
     "text": [
      "i = 0\n",
      "-68.8226635994 47.3214115417\n",
      "i = 1\n",
      "-67.6806228865 45.1890011838\n",
      "i = 2\n",
      "-66.580439361 43.475086635\n",
      "i = 3\n",
      "-65.526729421 42.0871258039\n",
      "i = 4\n",
      "-64.5168202089 40.9542942484\n",
      "i = 5\n",
      "-63.5528522562 40.0287494296\n",
      "i = 6\n",
      "-62.6515231473 39.2651774315\n",
      "i = 7\n",
      "-61.81626211 38.6150766516\n",
      "i = 8\n",
      "-61.0327896518 38.0525211701\n",
      "i = 9\n",
      "-60.2951251459 37.5638546726\n",
      "i = 10\n",
      "-59.6003179651 37.1391091601\n",
      "i = 11\n",
      "-58.9464896379 36.7706762622\n",
      "i = 12\n",
      "-58.3311624756 36.4514012879\n",
      "i = 13\n",
      "-57.7514717282 36.1740463912\n",
      "i = 14\n",
      "-57.2053280842 35.9329717469\n",
      "i = 15\n",
      "-56.6905647676 35.7232204906\n",
      "i = 16\n",
      "-56.2049105038 35.5408331072\n",
      "i = 17\n",
      "-55.7463355211 35.3817971054\n",
      "i = 18\n",
      "-55.3130099536 35.2430346895\n",
      "i = 19\n",
      "-54.9033613064 35.1220498512\n",
      "i = 20\n",
      "-54.5150635189 35.0159962045\n",
      "i = 21\n",
      "-54.1467009492 34.923173813\n",
      "i = 22\n",
      "-53.7970432726 34.8420865322\n",
      "i = 23\n",
      "-53.4649629059 34.7712712631\n",
      "i = 24\n",
      "-53.1493599453 34.7094566726\n",
      "i = 25\n",
      "-52.8491581344 34.6557025028\n",
      "i = 26\n",
      "-52.5635136176 34.6090912905\n",
      "i = 27\n",
      "-52.2915307213 34.5687975594\n",
      "i = 28\n",
      "-52.0324503405 34.5340472561\n",
      "i = 29\n",
      "-51.7855354823 34.5041680273\n",
      "i = 30\n",
      "-51.5494294676 34.4802095808\n",
      "i = 31\n",
      "-51.3236483064 34.4618508599\n",
      "i = 32\n",
      "-51.107632268 34.4484505998\n",
      "i = 33\n",
      "-50.9008618649 34.4393947944\n",
      "i = 34\n",
      "-50.7028018109 34.4340700274\n",
      "i = 35\n",
      "-50.5129990918 34.4320166067\n",
      "i = 36\n",
      "-50.3310454803 34.432795991\n",
      "i = 37\n",
      "-50.156568019 34.4360207244\n",
      "i = 38\n",
      "-49.9893731678 34.4413245635\n",
      "i = 39\n",
      "-49.8290341649 34.4484507295\n",
      "i = 40\n",
      "-49.675137322 34.4571632118\n",
      "i = 41\n",
      "-49.5273737324 34.4672370259\n",
      "i = 42\n",
      "-49.3854667982 34.4784933061\n",
      "i = 43\n",
      "-49.2491639308 34.4907724946\n",
      "i = 44\n",
      "-49.1183059756 34.5039729713\n",
      "i = 45\n",
      "-48.9926328972 34.5179453165\n",
      "i = 46\n",
      "-48.8719048474 34.5325586305\n",
      "i = 47\n",
      "-48.7558801537 34.5477043056\n",
      "i = 48\n",
      "-48.6443416726 34.5632741052\n",
      "i = 49\n",
      "-48.5370877687 34.579169563\n",
      "i = 50\n",
      "-48.5370877687 34.579169563\n",
      "i = 0\n",
      "-68.822667185 47.3214100666\n",
      "i = 1\n",
      "-67.6806302484 45.1889987993\n",
      "i = 2\n",
      "-66.5804511551 43.4750842592\n",
      "i = 3\n",
      "-65.5267455297 42.0871233368\n",
      "i = 4\n",
      "-64.5168408719 40.9542916237\n",
      "i = 5\n",
      "-63.5528753143 40.028746132\n",
      "i = 6\n",
      "-62.6515461355 39.2651765076\n",
      "i = 7\n",
      "-61.8162850089 38.6150775946\n",
      "i = 8\n",
      "-61.0328127397 38.0525238777\n",
      "i = 9\n",
      "-60.2951487435 37.5638588787\n",
      "i = 10\n",
      "-59.6003421327 37.1391147041\n",
      "i = 11\n",
      "-58.9465143279 36.7706825786\n",
      "i = 12\n",
      "-58.3311878005 36.4514082115\n",
      "i = 13\n",
      "-57.7514976564 36.174053691\n",
      "i = 14\n",
      "-57.2053546323 35.9329792976\n",
      "i = 15\n",
      "-56.6905919231 35.723228067\n",
      "i = 16\n",
      "-56.2049382943 35.5408406222\n",
      "i = 17\n",
      "-55.7463640097 35.3818045092\n",
      "i = 18\n",
      "-55.3130391247 35.2430419429\n",
      "i = 19\n",
      "-54.9033904373 35.1220555136\n",
      "i = 20\n",
      "-54.5150928615 35.0160004841\n",
      "i = 21\n",
      "-54.1467305131 34.9231767722\n",
      "i = 22\n",
      "-53.7970730754 34.8420882562\n",
      "i = 23\n",
      "-53.4649928874 34.771271945\n",
      "i = 24\n",
      "-53.1493901072 34.7094564289\n",
      "i = 25\n",
      "-52.8491884912 34.6557013775\n",
      "i = 26\n",
      "-52.5635440857 34.6090893177\n",
      "i = 27\n",
      "-52.2915613937 34.568794763\n",
      "i = 28\n",
      "-52.0324812546 34.5340436923\n",
      "i = 29\n",
      "-51.7855666574 34.5041637197\n",
      "i = 30\n",
      "-51.5494608604 34.4802043539\n",
      "i = 31\n",
      "-51.3236799572 34.4618447655\n",
      "i = 32\n",
      "-51.1076641706 34.4484435672\n",
      "i = 33\n",
      "-50.9008940786 34.4393869111\n",
      "i = 34\n",
      "-50.7028343661 34.4340613299\n",
      "i = 35\n",
      "-50.5130320146 34.4320071282\n",
      "i = 36\n",
      "-50.3310787408 34.4327857949\n",
      "i = 37\n",
      "-50.1566016303 34.4360099159\n",
      "i = 38\n",
      "-49.9894070523 34.4413131219\n",
      "i = 39\n",
      "-49.8290683669 34.4484386433\n",
      "i = 40\n",
      "-49.6751718643 34.4571505094\n",
      "i = 41\n",
      "-49.5274086329 34.4672237312\n",
      "i = 42\n",
      "-49.3855020197 34.4784793887\n",
      "i = 43\n",
      "-49.2491994619 34.4907579652\n",
      "i = 44\n",
      "-49.1183418287 34.5039578525\n",
      "i = 45\n",
      "-48.9926690802 34.5179296371\n",
      "i = 46\n",
      "-48.8719413557 34.5325424304\n",
      "i = 47\n",
      "-48.7559169687 34.5476876268\n",
      "i = 48\n",
      "-48.6443787967 34.5632569481\n",
      "i = 49\n",
      "-48.5371252115 34.5791519414\n",
      "i = 50\n",
      "-48.5371252115 34.5791519414\n",
      "i = 0\n",
      "-68.8230251823 47.3212624879\n",
      "i = 1\n",
      "-67.6813681156 45.1887612686\n",
      "i = 2\n",
      "-66.5816316168 43.4748469946\n",
      "i = 3\n",
      "-65.5283561356 42.0868757541\n",
      "i = 4\n",
      "-64.5189049167 40.9540296074\n",
      "i = 5\n",
      "-63.555180435 40.0284174479\n",
      "i = 6\n",
      "-62.6538428186 39.2650824877\n",
      "i = 7\n",
      "-61.8185738743 38.6151728083\n",
      "i = 8\n",
      "-61.0351203832 38.0527944326\n",
      "i = 9\n",
      "-60.2975068677 37.5642851529\n",
      "i = 10\n",
      "-59.6027561963 37.1396691404\n",
      "i = 11\n",
      "-58.9489802323 36.7713148698\n",
      "i = 12\n",
      "-58.3337161467 36.4521006036\n",
      "i = 13\n",
      "-57.7540872547 36.1747845752\n",
      "i = 14\n",
      "-57.2080065491 35.9337357465\n",
      "i = 15\n",
      "-56.6933046385 35.7239873711\n",
      "i = 16\n",
      "-56.2077157681 35.5415937112\n",
      "i = 17\n",
      "-55.7492108331 35.382546418\n",
      "i = 18\n",
      "-55.315957926 35.243770715\n",
      "i = 19\n",
      "-54.9063050032 35.1226258197\n",
      "i = 20\n",
      "-54.5180295958 35.0164307307\n",
      "i = 21\n",
      "-54.1496899982 34.923473493\n",
      "i = 22\n",
      "-53.8000574938 34.8422603702\n",
      "i = 23\n",
      "-53.4679919933 34.7713392274\n",
      "i = 24\n",
      "-53.1524089913 34.7094295768\n",
      "i = 25\n",
      "-52.8522276807 34.6555857167\n",
      "i = 26\n",
      "-52.5665969026 34.6088893683\n",
      "i = 27\n",
      "-52.2946344013 34.5685131231\n",
      "i = 28\n",
      "-52.0355774763 34.5336859468\n",
      "i = 29\n",
      "-51.7886878873 34.5037326124\n",
      "i = 30\n",
      "-51.5526049021 34.4796817979\n",
      "i = 31\n",
      "-51.3268506452 34.4612357009\n",
      "i = 32\n",
      "-51.1108608078 34.447741483\n",
      "i = 33\n",
      "-50.9041222369 34.4386000455\n",
      "i = 34\n",
      "-50.7060967275 34.4331934188\n",
      "i = 35\n",
      "-50.5163310451 34.431061415\n",
      "i = 36\n",
      "-50.3344113021 34.4317685346\n",
      "i = 37\n",
      "-50.1599616191 34.4349282706\n",
      "i = 38\n",
      "-49.9927942186 34.4401683993\n",
      "i = 39\n",
      "-49.8324870211 34.4472297016\n",
      "i = 40\n",
      "-49.6786240917 34.4558801929\n",
      "i = 41\n",
      "-49.5308960717 34.4658944445\n",
      "i = 42\n",
      "-49.3890226223 34.4770882285\n",
      "i = 43\n",
      "-49.2527518665 34.4893059717\n",
      "i = 44\n",
      "-49.1219270565 34.5024472052\n",
      "i = 45\n",
      "-48.9962877388 34.5163631718\n",
      "i = 46\n",
      "-48.8755928009 34.5309240852\n",
      "i = 47\n",
      "-48.7595991854 34.5460214887\n",
      "i = 48\n",
      "-48.6480924392 34.561543917\n",
      "i = 49\n",
      "-48.5408704486 34.577392215\n",
      "i = 50\n",
      "-48.5408704486 34.577392215\n",
      "i = 0\n",
      "-68.8316081867 47.318457232\n",
      "i = 1\n",
      "-67.7000649625 45.1848437427\n",
      "i = 2\n",
      "-66.6107064565 43.4706080962\n",
      "i = 3\n",
      "-65.5674947812 42.0821841133\n",
      "i = 4\n",
      "-64.5685848783 40.948974904\n",
      "i = 5\n",
      "-63.6142117091 40.0226559143\n",
      "i = 6\n",
      "-62.7123309545 39.2644581192\n",
      "i = 7\n",
      "-61.8765792454 38.6187139842\n",
      "i = 8\n",
      "-61.0932834317 38.0603700833\n",
      "i = 9\n",
      "-60.356683167 37.5754632776\n",
      "i = 10\n",
      "-59.6630698765 37.1536883215\n",
      "i = 11\n",
      "-59.0104191316 36.7871839588\n",
      "i = 12\n",
      "-58.3964616655 36.4693594009\n",
      "i = 13\n",
      "-57.8181332972 36.1929629208\n",
      "i = 14\n",
      "-57.2733739032 35.9525040375\n",
      "i = 15\n",
      "-56.7598276533 35.7425138439\n",
      "i = 16\n",
      "-56.2751156625 35.5589038269\n",
      "i = 17\n",
      "-55.8172635935 35.3979586854\n",
      "i = 18\n",
      "-55.3844304887 35.2567139363\n",
      "i = 19\n",
      "-54.9749656478 35.1326830649\n",
      "i = 20\n",
      "-54.5874259982 35.0238684307\n",
      "i = 21\n",
      "-54.2198060914 34.9283789587\n",
      "i = 22\n",
      "-53.8709260071 34.8447393942\n",
      "i = 23\n",
      "-53.5396219722 34.7715581753\n",
      "i = 24\n",
      "-53.2247253375 34.7076924086\n",
      "i = 25\n",
      "-52.9252397038 34.6520734188\n",
      "i = 26\n",
      "-52.6402672424 34.6037272189\n",
      "i = 27\n",
      "-52.3689619671 34.5616939905\n",
      "i = 28\n",
      "-52.110606684 34.5253072327\n",
      "i = 29\n",
      "-51.8644527145 34.4938457526\n",
      "i = 30\n",
      "-51.6291980766 34.4677950888\n",
      "i = 31\n",
      "-51.4042267339 34.4474038219\n",
      "i = 32\n",
      "-51.1890521637 34.4320237414\n",
      "i = 33\n",
      "-50.9831672561 34.4210662955\n",
      "i = 34\n",
      "-50.7860668012 34.4139602185\n",
      "i = 35\n",
      "-50.5972534572 34.4101700469\n",
      "i = 36\n",
      "-50.4162856031 34.4092761112\n",
      "i = 37\n",
      "-50.2427654612 34.410912884\n",
      "i = 38\n",
      "-50.0763161873 34.414738492\n",
      "i = 39\n",
      "-49.9167759936 34.4204002344\n",
      "i = 40\n",
      "-49.763739562 34.4276831357\n",
      "i = 41\n",
      "-49.6168533892 34.436375897\n",
      "i = 42\n",
      "-49.4758191528 34.4462814911\n",
      "i = 43\n",
      "-49.3403522364 34.4572254265\n",
      "i = 44\n",
      "-49.2102670737 34.4690902672\n",
      "i = 45\n",
      "-49.0853528713 34.48175542\n",
      "i = 46\n",
      "-48.9653743325 34.49509217\n",
      "i = 47\n",
      "-48.8501147591 34.50899513\n",
      "i = 48\n",
      "-48.7393581479 34.523351777\n",
      "i = 49\n",
      "-48.7393581479 34.523351777\n",
      "i = 0\n",
      "-68.8582145421 47.3143505505\n",
      "i = 1\n",
      "-67.7552060732 45.1780182112\n",
      "i = 2\n",
      "-66.6959017594 43.4624137174\n",
      "i = 3\n",
      "-65.6817795176 42.0712450555\n",
      "i = 4\n",
      "-64.7119877729 40.9355534635\n",
      "i = 5\n",
      "-63.7865076387 40.0075050614\n",
      "i = 6\n",
      "-62.9067825148 39.2490698198\n",
      "i = 7\n",
      "-62.0716676836 38.6140736187\n",
      "i = 8\n",
      "-61.2885818235 38.0652992674\n",
      "i = 9\n",
      "-60.5518859639 37.587943025\n",
      "i = 10\n",
      "-59.858661022 37.1715333387\n",
      "i = 11\n",
      "-59.206414493 36.807988732\n",
      "i = 12\n",
      "-58.592899342 36.4906042495\n",
      "i = 13\n",
      "-58.0150434244 36.2131823817\n",
      "i = 14\n",
      "-57.4708473317 35.9708314982\n",
      "i = 15\n",
      "-56.9581629609 35.758595068\n",
      "i = 16\n",
      "-56.4746452039 35.5722374262\n",
      "i = 17\n",
      "-56.0183499029 35.4085573703\n",
      "i = 18\n",
      "-55.5875187999 35.2647292489\n",
      "i = 19\n",
      "-55.18029672 35.138071979\n",
      "i = 20\n",
      "-54.7951936122 35.0265742448\n",
      "i = 21\n",
      "-54.4308396494 34.9285390848\n",
      "i = 22\n",
      "-54.0853521492 34.8422314919\n",
      "i = 23\n",
      "-53.757417977 34.7662794715\n",
      "i = 24\n",
      "-53.4459685731 34.6995149034\n",
      "i = 25\n",
      "-53.1499991256 34.6408718276\n",
      "i = 26\n",
      "-52.8685276815 34.5893689077\n",
      "i = 27\n",
      "-52.6006578132 34.5441439701\n",
      "i = 28\n"
     ]
    },
    {
     "name": "stdout",
     "output_type": "stream",
     "text": [
      "-52.345633738 34.5045056389\n",
      "i = 29\n",
      "-52.1027240691 34.4698315434\n",
      "i = 30\n",
      "-51.8712781029 34.4395627895\n",
      "i = 31\n",
      "-51.6497138272 34.4148225267\n",
      "i = 32\n",
      "-51.437478064 34.3950253135\n",
      "i = 33\n",
      "-51.2344481782 34.3797068434\n",
      "i = 34\n",
      "-51.0402212265 34.3683658983\n",
      "i = 35\n",
      "-50.854346448 34.3605271465\n",
      "i = 36\n",
      "-50.6763819992 34.3557499201\n",
      "i = 37\n",
      "-50.5058942817 34.353606877\n",
      "i = 38\n",
      "-50.3424833611 34.3537259544\n",
      "i = 39\n",
      "-50.185795319 34.3558269953\n",
      "i = 40\n",
      "-50.0355001048 34.3596542998\n",
      "i = 41\n",
      "-49.8912877572 34.3649755362\n",
      "i = 42\n",
      "-49.7529009701 34.3715855893\n",
      "i = 43\n",
      "-49.6200907226 34.3793163368\n",
      "i = 44\n",
      "-49.4925917102 34.3879911519\n",
      "i = 45\n",
      "-49.3701516326 34.3974616735\n",
      "i = 46\n",
      "-49.2526423218 34.4076598465\n",
      "i = 47\n",
      "-49.1398349307 34.4184628054\n",
      "i = 48\n",
      "-49.0315114581 34.4297593673\n",
      "i = 49\n",
      "-49.0315114581 34.4297593673\n",
      "i = 0\n",
      "-70.1037296243 47.4240091466\n",
      "i = 1\n",
      "-70.1644461879 45.0741572715\n",
      "i = 2\n",
      "-70.1912232555 42.9410633069\n",
      "i = 3\n",
      "-70.1912682745 41.0145294225\n",
      "i = 4\n",
      "-70.1698538676 39.2815240673\n",
      "i = 5\n",
      "-70.1329773053 37.7252809516\n",
      "i = 6\n",
      "-70.0854118733 36.3279687684\n",
      "i = 7\n",
      "-70.030800102 35.0745751672\n",
      "i = 8\n",
      "-69.972186846 33.9494993395\n",
      "i = 9\n",
      "-69.9122558049 32.9356114986\n",
      "i = 10\n",
      "-69.8523276519 32.0222343145\n",
      "i = 11\n",
      "-69.7933872502 31.1995642069\n",
      "i = 12\n",
      "-69.7360939525 30.4584870783\n",
      "i = 13\n",
      "-69.6809483565 29.790847519\n",
      "i = 14\n",
      "-69.6282453275 29.1893462212\n",
      "i = 15\n",
      "-69.5782080926 28.6473591752\n",
      "i = 16\n",
      "-69.5309085522 28.158905071\n",
      "i = 17\n",
      "-69.4862632898 27.7185908812\n",
      "i = 18\n",
      "-69.4862632898 27.7185908812\n"
     ]
    }
   ],
   "source": [
    "mu_norm = []\n",
    "norm_r = []\n",
    "norm_m = []\n",
    "m_est = []\n",
    "incl_est = []\n",
    "decl_est = []\n",
    "phi_list = []\n",
    "for i in mu_list:\n",
    "    m_LM,inc_est,dec_est,phi,imax,pest,incs,decs = fc.levenberg_marquardt_NNLS(\n",
    "        data['tfa_40'],data['x'],data['y'],\n",
    "        data['z'],xs,ys,zs,inc_gf,dec_gf,-70.,50.,lamb,dlamb,i_pos,it_max,it_marq,eps_e,eps_i,i)\n",
    "    G = fc.sensitivity_mag(data['x'],data['y'],data['z'],\n",
    "                       xs,ys,zs,inc_gf,dec_gf,inc_est,dec_est)\n",
    "    tfpred = np.dot(G,m_LM)\n",
    "    r = data['tfa_40'] - tfpred \n",
    "    \n",
    "    norm_r.append(np.sqrt(np.sum(r*r)))\n",
    "    norm_m.append(np.sqrt(np.sum(m_LM*m_LM)))\n",
    "    m_est.append(m_LM)\n",
    "    incl_est.append(inc_est)\n",
    "    decl_est.append(dec_est)\n",
    "    phi_list.append(phi)"
   ]
  },
  {
   "cell_type": "markdown",
   "metadata": {},
   "source": [
    "## L-curve visualization"
   ]
  },
  {
   "cell_type": "code",
   "execution_count": 21,
   "metadata": {},
   "outputs": [
    {
     "data": {
      "text/plain": [
       "<matplotlib.figure.Figure at 0x7f316850fd90>"
      ]
     },
     "metadata": {},
     "output_type": "display_data"
    },
    {
     "data": {
      "image/png": "[encoded data removed]",
      "text/plain": [
       "<matplotlib.figure.Figure at 0x7f316850fd50>"
      ]
     },
     "metadata": {},
     "output_type": "display_data"
    }
   ],
   "source": [
    "title_font = 20\n",
    "bottom_font = 18\n",
    "saturation_factor = 1.\n",
    "plt.close('all')\n",
    "plt.figure(figsize=(9,9), tight_layout=True)\n",
    "\n",
    "plt.figure(figsize=(10, 10))\n",
    "plt.loglog(norm_r,norm_m, 'b-')\n",
    "plt.loglog(norm_r,norm_m, 'bo')\n",
    "plt.title('L-curve', fontsize=title_font)\n",
    "plt.xlabel('r_norm', fontsize = title_font)\n",
    "plt.ylabel('m_norm', fontsize = title_font)\n",
    "plt.tick_params(axis='both', which='major', labelsize=15)\n",
    "\n",
    "file_name = 'figs/Lcurve_RM'\n",
    "plt.savefig(file_name+'.png',dpi=300)\n",
    "saved_files.append(file_name+'.png')\n",
    "\n",
    "plt.savefig(file_name+'.eps',dpi=300)\n",
    "saved_files.append(file_name+'.eps')\n",
    "\n",
    "\n",
    "plt.show()"
   ]
  },
  {
   "cell_type": "markdown",
   "metadata": {},
   "source": [
    "### Results"
   ]
  },
  {
   "cell_type": "code",
   "execution_count": 22,
   "metadata": {},
   "outputs": [],
   "source": [
    "result_mclaros['magnetic_moment'] = m_est\n",
    "result_mclaros['inc_est'] = incl_est\n",
    "result_mclaros['dec_est'] = decl_est\n",
    "result_mclaros['layer_depth'] = h\n",
    "result_mclaros['reg_parameter'] = mu_list\n",
    "result_mclaros['phi'] = phi_list"
   ]
  },
  {
   "cell_type": "markdown",
   "metadata": {},
   "source": [
    "### Generating .pickle file"
   ]
  },
  {
   "cell_type": "code",
   "execution_count": 23,
   "metadata": {},
   "outputs": [],
   "source": [
    "now = datetime.datetime.utcnow().strftime('%d %B %Y %H:%M:%S UTC')\n",
    "result_mclaros['metadata'] = 'Generated by {name} on {date}'.format(date=now, name=notebook_name)"
   ]
  },
  {
   "cell_type": "code",
   "execution_count": 24,
   "metadata": {},
   "outputs": [],
   "source": [
    "file_name = 'data/result_mclaros.pickle'\n",
    "with open(file_name, 'w') as f:\n",
    "    pickle.dump(result_mclaros, f)\n",
    "    \n",
    "saved_files.append(file_name)"
   ]
  },
  {
   "cell_type": "markdown",
   "metadata": {},
   "source": [
    "### Saved files"
   ]
  },
  {
   "cell_type": "code",
   "execution_count": 25,
   "metadata": {},
   "outputs": [
    {
     "name": "stdout",
     "output_type": "stream",
     "text": [
      "1  figs/Lcurve_RM.png\n",
      "2  figs/Lcurve_RM.eps\n",
      "3  data/result_mclaros.pickle\n"
     ]
    }
   ],
   "source": [
    "with open('reports/report_%s.md' % notebook_name[:st.index(notebook_name, '.')], 'w') as q:\n",
    "    q.write('# Saved files \\n')\n",
    "    now = datetime.datetime.utcnow().strftime('%d %B %Y %H:%M:%S UTC')\n",
    "    header = 'Generated by {name} on {date}'.format(date=now, name=notebook_name)\n",
    "    q.write('\\n\\n'+header+'\\n\\n')\n",
    "    for i, sf in enumerate(saved_files):\n",
    "        print '%d  %s' % (i+1,sf)\n",
    "        q.write('*  `%s` \\n' % (sf))"
   ]
  },
  {
   "cell_type": "code",
   "execution_count": null,
   "metadata": {},
   "outputs": [],
   "source": []
  },
  {
   "cell_type": "code",
   "execution_count": null,
   "metadata": {},
   "outputs": [],
   "source": []
  }
 ],
 "metadata": {
  "kernelspec": {
   "display_name": "Python 2",
   "language": "python",
   "name": "python2"
  },
  "language_info": {
   "codemirror_mode": {
    "name": "ipython",
    "version": 2
   },
   "file_extension": ".py",
   "mimetype": "text/x-python",
   "name": "python",
   "nbconvert_exporter": "python",
   "pygments_lexer": "ipython2",
   "version": "2.7.14"
  }
 },
 "nbformat": 4,
 "nbformat_minor": 2
}
