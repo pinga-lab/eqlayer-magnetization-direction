{
 "cells": [
  {
   "cell_type": "markdown",
   "metadata": {},
   "source": [
    "# Equivalent layer technique for estimating total magnetization direction using airborne survey"
   ]
  },
  {
   "cell_type": "markdown",
   "metadata": {},
   "source": [
    "#### Importing libraries"
   ]
  },
  {
   "cell_type": "code",
   "execution_count": 1,
   "metadata": {},
   "outputs": [],
   "source": [
    "% matplotlib inline "
   ]
  },
  {
   "cell_type": "code",
   "execution_count": 2,
   "metadata": {},
   "outputs": [
    {
     "name": "stderr",
     "output_type": "stream",
     "text": [
      "/home/andrelreis/anaconda2/lib/python2.7/site-packages/fatiando/vis/mpl.py:76: UserWarning: This module will be removed in v0.6. We recommend the use of matplotlib.pyplot module directly. Some of the fatiando specific functions will remain.\n",
      "  \"specific functions will remain.\")\n"
     ]
    }
   ],
   "source": [
    "import sys\n",
    "import numpy as np\n",
    "import matplotlib.pyplot as plt\n",
    "import cPickle as pickle\n",
    "import datetime\n",
    "import timeit\n",
    "import string as st\n",
    "from scipy.optimize import nnls\n",
    "from fatiando.gridder import regular\n",
    "from fatiando.utils import ang2vec, vec2ang\n",
    "from fatiando.mesher import Sphere, PointGrid,Prism\n",
    "from fatiando.gravmag import sphere,prism\n",
    "from fatiando.constants import CM, T2NT, G, SI2MGAL"
   ]
  },
  {
   "cell_type": "code",
   "execution_count": 3,
   "metadata": {},
   "outputs": [],
   "source": [
    "notebook_name = 'airborne_EQL_magdirection_RM.ipynb'"
   ]
  },
  {
   "cell_type": "markdown",
   "metadata": {},
   "source": [
    "#### Importing auxiliary functions"
   ]
  },
  {
   "cell_type": "code",
   "execution_count": 4,
   "metadata": {},
   "outputs": [],
   "source": [
    "dir_modules = '../../mypackage'\n",
    "sys.path.append(dir_modules)"
   ]
  },
  {
   "cell_type": "code",
   "execution_count": 5,
   "metadata": {},
   "outputs": [],
   "source": [
    "import auxiliary_functions as fc"
   ]
  },
  {
   "cell_type": "markdown",
   "metadata": {},
   "source": [
    "#### Loading properties of the model"
   ]
  },
  {
   "cell_type": "code",
   "execution_count": 6,
   "metadata": {},
   "outputs": [],
   "source": [
    "with open('data/model_dip.pickle') as f:\n",
    "        model_dip = pickle.load(f)"
   ]
  },
  {
   "cell_type": "markdown",
   "metadata": {},
   "source": [
    "#### Loading properties grid"
   ]
  },
  {
   "cell_type": "code",
   "execution_count": 7,
   "metadata": {},
   "outputs": [],
   "source": [
    "with open('data/airborne_survey.pickle') as f:\n",
    "        airborne = pickle.load(f)"
   ]
  },
  {
   "cell_type": "markdown",
   "metadata": {},
   "source": [
    "#### Loading data"
   ]
  },
  {
   "cell_type": "code",
   "execution_count": 8,
   "metadata": {},
   "outputs": [],
   "source": [
    "with open('data/data_set.pickle') as f:\n",
    "        data = pickle.load(f)"
   ]
  },
  {
   "cell_type": "markdown",
   "metadata": {},
   "source": [
    "#### Open a dictionary"
   ]
  },
  {
   "cell_type": "code",
   "execution_count": 9,
   "metadata": {},
   "outputs": [],
   "source": [
    "result_RM_airb = dict()"
   ]
  },
  {
   "cell_type": "markdown",
   "metadata": {},
   "source": [
    "### Saving files"
   ]
  },
  {
   "cell_type": "code",
   "execution_count": 10,
   "metadata": {},
   "outputs": [],
   "source": [
    "saved_files = []"
   ]
  },
  {
   "cell_type": "markdown",
   "metadata": {},
   "source": [
    "## Observation area"
   ]
  },
  {
   "cell_type": "code",
   "execution_count": 11,
   "metadata": {},
   "outputs": [
    {
     "name": "stdout",
     "output_type": "stream",
     "text": [
      "Area limits: \n",
      " x_max = 6000.0 m \n",
      " x_min = -6000.0 m \n",
      " y_max = 6000.0 m \n",
      " y_min = -6000.0 m\n"
     ]
    }
   ],
   "source": [
    "print 'Area limits: \\n x_max = %.1f m \\n x_min = %.1f m \\n y_max = %.1f m \\n y_min = %.1f m' % (airborne['area'][1], \n",
    "                                                                                                airborne['area'][0],\n",
    "                                                                                                airborne['area'][3],\n",
    "                                                                                                airborne['area'][2])"
   ]
  },
  {
   "cell_type": "markdown",
   "metadata": {},
   "source": [
    "### airborne survey information"
   ]
  },
  {
   "cell_type": "code",
   "execution_count": 12,
   "metadata": {},
   "outputs": [
    {
     "name": "stdout",
     "output_type": "stream",
     "text": [
      "Shape : (40,20)\n",
      "Number of data: 800.0\n",
      "dx: 307.7 m\n",
      "dy: 631.6 m \n"
     ]
    }
   ],
   "source": [
    "print 'Shape : (%.0f,%.0f)'% airborne['shape'] \n",
    "print 'Number of data: %.1f' % airborne['N']\n",
    "print 'dx: %.1f m' % airborne['dx']\n",
    "print 'dy: %.1f m ' % airborne['dy']"
   ]
  },
  {
   "cell_type": "markdown",
   "metadata": {},
   "source": [
    "## Properties of the model"
   ]
  },
  {
   "cell_type": "markdown",
   "metadata": {},
   "source": [
    "### Main field"
   ]
  },
  {
   "cell_type": "code",
   "execution_count": 13,
   "metadata": {},
   "outputs": [],
   "source": [
    "inc_gf,dec_gf = model_dip['main_field']"
   ]
  },
  {
   "cell_type": "code",
   "execution_count": 14,
   "metadata": {},
   "outputs": [
    {
     "name": "stdout",
     "output_type": "stream",
     "text": [
      "Main field inclination: 30.0 degree\n",
      "Main field declination: 30.0 degree\n"
     ]
    }
   ],
   "source": [
    "print'Main field inclination: %.1f degree' % inc_gf\n",
    "print'Main field declination: %.1f degree' % dec_gf"
   ]
  },
  {
   "cell_type": "markdown",
   "metadata": {},
   "source": [
    "### Magnetization direction"
   ]
  },
  {
   "cell_type": "code",
   "execution_count": 15,
   "metadata": {},
   "outputs": [
    {
     "name": "stdout",
     "output_type": "stream",
     "text": [
      "Intensity: 5.0 A/m\n",
      "Inclination: 55.0 degree\n",
      "Declination: 45.0 degree\n"
     ]
    }
   ],
   "source": [
    "print 'Intensity: %.1f A/m' % model_dip['m_R']\n",
    "print 'Inclination: %.1f degree' % model_dip['inc_R']\n",
    "print 'Declination: %.1f degree' % model_dip['dec_R']"
   ]
  },
  {
   "cell_type": "code",
   "execution_count": 16,
   "metadata": {},
   "outputs": [],
   "source": [
    "inc_R,dec_R = model_dip['inc_R'],model_dip['dec_R']"
   ]
  },
  {
   "cell_type": "markdown",
   "metadata": {},
   "source": [
    "## Generating the layer with my function "
   ]
  },
  {
   "cell_type": "code",
   "execution_count": 17,
   "metadata": {},
   "outputs": [],
   "source": [
    "h = 945."
   ]
  },
  {
   "cell_type": "markdown",
   "metadata": {},
   "source": [
    "#### Generating a layer"
   ]
  },
  {
   "cell_type": "code",
   "execution_count": 18,
   "metadata": {},
   "outputs": [],
   "source": [
    "shape_layer = (airborne['shape'][0],airborne['shape'][1])"
   ]
  },
  {
   "cell_type": "code",
   "execution_count": 19,
   "metadata": {},
   "outputs": [],
   "source": [
    "xs,ys,zs = regular(airborne['area'],shape_layer,h)"
   ]
  },
  {
   "cell_type": "markdown",
   "metadata": {},
   "source": [
    "### Levenberg-Marquardt with NNLS for positive magnetic moments"
   ]
  },
  {
   "cell_type": "code",
   "execution_count": 20,
   "metadata": {},
   "outputs": [],
   "source": [
    "i_pos = 1500"
   ]
  },
  {
   "cell_type": "code",
   "execution_count": 21,
   "metadata": {},
   "outputs": [],
   "source": [
    "it_max = 30"
   ]
  },
  {
   "cell_type": "code",
   "execution_count": 22,
   "metadata": {},
   "outputs": [],
   "source": [
    "it_marq = 15"
   ]
  },
  {
   "cell_type": "code",
   "execution_count": 23,
   "metadata": {},
   "outputs": [],
   "source": [
    "lamb = 10.\n",
    "dlamb = 100."
   ]
  },
  {
   "cell_type": "code",
   "execution_count": 24,
   "metadata": {},
   "outputs": [],
   "source": [
    "eps_e = 1e-4\n",
    "eps_i = 1e-4"
   ]
  },
  {
   "cell_type": "code",
   "execution_count": null,
   "metadata": {},
   "outputs": [],
   "source": [
    "mu_pos = 1e3"
   ]
  },
  {
   "cell_type": "code",
   "execution_count": null,
   "metadata": {},
   "outputs": [
    {
     "name": "stdout",
     "output_type": "stream",
     "text": [
      "i = 0\n",
      "3.17176620781e-14\n",
      "8.23623611233 0.756257421691\n",
      "0.379338817738\n",
      "i = 1\n",
      "3.40309028823e-14\n",
      "17.026137841 2.65241268805\n",
      "0.408283736901\n",
      "i = 2\n",
      "3.58663371982e-14\n",
      "22.4027256755 3.32991993632\n",
      "0.20169889988\n",
      "i = 3\n",
      "3.73564748459e-14\n",
      "26.3628270956 3.76014028698\n",
      "0.13748441694\n",
      "i = 4\n",
      "3.86439725619e-14\n",
      "29.5700199713 4.16894205185\n",
      "0.100873271235\n",
      "i = 5\n",
      "3.9805921818e-14\n",
      "32.2335913781 4.6156015659\n",
      "0.0747348603115\n",
      "i = 6\n",
      "4.08493503069e-14\n",
      "34.4824984648 5.11424064662\n",
      "0.0556887191262\n",
      "i = 7\n",
      "4.17823785287e-14\n",
      "36.4066647237 5.66873672809\n",
      "0.0418817996189\n",
      "i = 8\n",
      "4.26162231662e-14\n",
      "38.0949674269 6.27040282796\n",
      "0.0327788408127\n",
      "i = 9\n",
      "4.33710863733e-14\n",
      "39.5871593294 6.91070678947\n",
      "0.025920006157\n",
      "i = 10\n",
      "4.40539801839e-14\n",
      "40.9169388093 7.59161344521\n",
      "0.0208179874467\n",
      "i = 11\n",
      "4.46739783638e-14\n",
      "42.1172798482 8.31490637255\n",
      "0.0171665616558\n",
      "i = 12\n",
      "4.52416997443e-14\n",
      "43.2080742367 9.0822216187\n",
      "0.0143994378639\n",
      "i = 13\n",
      "4.5763464478e-14\n",
      "44.2034974139 9.89620518948\n",
      "0.012258770234\n",
      "i = 14\n",
      "4.62439588793e-14\n",
      "45.1167562503 10.753893807\n",
      "0.0106077144981\n",
      "i = 15\n",
      "4.6687409312e-14\n",
      "45.9574698639 11.6529417904\n",
      "0.00930213130476\n",
      "i = 16\n",
      "4.70969621209e-14\n",
      "46.7387453492 12.5965205505\n",
      "0.00836714118739\n",
      "i = 17\n",
      "4.74777540147e-14\n",
      "47.463597036 13.5853166978\n",
      "0.00757793466348\n",
      "i = 18\n",
      "4.78306731962e-14\n",
      "48.1399668489 14.6213164627\n",
      "0.00699646711569\n",
      "i = 19\n",
      "4.81587255075e-14\n",
      "48.773388048 15.7043990028\n",
      "0.0065532393714\n",
      "i = 20\n",
      "4.84638186632e-14\n",
      "49.3656577298 16.8273911152\n",
      "0.0061500611847\n",
      "i = 21\n",
      "4.87461114792e-14\n",
      "49.9177461969 17.9841903079\n",
      "0.00577369981608\n",
      "i = 22\n",
      "4.90056638117e-14\n",
      "50.4321265286 19.1700672911\n",
      "0.0054438989922\n",
      "i = 23\n",
      "4.92433136099e-14\n",
      "50.9014438483 20.3647338205\n",
      "0.00499173117973\n",
      "i = 24\n",
      "4.94558313029e-14\n",
      "51.3199938391 21.5533947307\n",
      "0.00447120787964\n",
      "i = 25\n",
      "4.96412115665e-14\n",
      "51.6925939438 22.7334308186\n",
      "0.00403389847578\n",
      "i = 26\n",
      "4.98019373376e-14\n",
      "52.0301277081 23.9047088936\n",
      "0.00371463060388\n",
      "i = 27\n",
      "4.99427762005e-14\n",
      "52.3370226436 25.0630118953\n",
      "0.00343290709957\n",
      "i = 28\n",
      "5.00659035246e-14\n",
      "52.6164834438 26.2050971821\n",
      "0.00317875494754\n",
      "i = 29\n",
      "5.01730341198e-14\n",
      "52.8716540559 27.3282061598\n",
      "0.00294903989569\n",
      "i = 30\n",
      "5.02658535515e-14\n",
      "53.1044525881 28.4290615385\n",
      "0.00273186358307\n",
      "i = 31\n",
      "5.03455811222e-14\n",
      "53.316985905 29.5041923295\n",
      "0.00252526883562\n",
      "i = 32\n",
      "5.04135157021e-14\n",
      "53.5110236276 30.5503859374\n",
      "0.00232728204221\n",
      "i = 33\n",
      "5.04708331129e-14\n",
      "53.688156679 31.5630329565\n",
      "0.00213103930795\n",
      "i = 34\n",
      "5.0518675441e-14\n",
      "53.850421259 32.5403825158\n",
      "0.00194787538743\n",
      "i = 35\n",
      "5.05583079054e-14\n",
      "53.9978663233 33.4788390492\n",
      "0.00176448568754\n",
      "i = 36\n",
      "5.05902784958e-14\n",
      "54.1319851837 34.381747805\n",
      "0.00160719983158\n",
      "i = 37\n",
      "5.06154797117e-14\n",
      "54.2547924019 35.2478790305\n",
      "0.00146079753638\n",
      "i = 38\n",
      "5.06350789061e-14\n",
      "54.3674709496 36.0787308225\n",
      "0.00132984355171\n",
      "i = 39\n",
      "5.06498182543e-14\n",
      "54.4712805036 36.8750654967\n",
      "0.00121102491333\n",
      "i = 40\n",
      "5.06604562006e-14\n",
      "54.5672583444 37.6375824911\n",
      "0.00110256480829\n",
      "i = 41\n",
      "5.06676401378e-14\n",
      "54.6563686535 38.3674425872\n",
      "0.00100458243453\n",
      "i = 42\n",
      "5.06719446839e-14\n",
      "54.7401734291 39.0705321615\n",
      "0.000928690837912\n",
      "i = 43\n",
      "5.06739401567e-14\n",
      "54.8196767604 39.7485335804\n",
      "0.000861813814052\n",
      "i = 44\n",
      "5.06741177377e-14\n"
     ]
    }
   ],
   "source": [
    "m_LM,inc_est,dec_est,phi,imax,pest,incs,decs = fc.levenberg_marquardt_NNLS(\n",
    "    data['tfa_obs_dip_RM_airb'],airborne['x'],airborne['y'],\n",
    "    airborne['z'],xs,ys,zs,inc_gf,dec_gf,-10.,-10.,lamb,dlamb,i_pos,it_max,\n",
    "    it_marq,eps_e,eps_i,mu_pos)"
   ]
  },
  {
   "cell_type": "markdown",
   "metadata": {},
   "source": [
    "### Visualization of the convergence"
   ]
  },
  {
   "cell_type": "code",
   "execution_count": null,
   "metadata": {},
   "outputs": [],
   "source": [
    "phi = (np.array(phi)/airborne['x'].size)"
   ]
  },
  {
   "cell_type": "code",
   "execution_count": null,
   "metadata": {},
   "outputs": [],
   "source": [
    "title_font = 20\n",
    "bottom_font = 18\n",
    "saturation_factor = 1.\n",
    "plt.close('all')\n",
    "plt.figure(figsize=(9,9), tight_layout=True)\n",
    "\n",
    "plt.figure(figsize=(10, 10))\n",
    "plt.plot(phi, 'b--')\n",
    "plt.plot(phi, 'b.')\n",
    "\n",
    "plt.title('Convergence analysis', fontsize=title_font)\n",
    "plt.xlabel('iteration', fontsize = title_font)\n",
    "plt.ylabel('$\\phi$', fontsize = title_font)\n",
    "plt.tick_params(axis='both', which='major', labelsize=15)\n",
    "\n",
    "file_name = 'figs/airborne/convergence_LM_NNLS_magRM'\n",
    "plt.savefig(file_name+'.png',dpi=300)\n",
    "saved_files.append(file_name+'.png')\n",
    "\n",
    "plt.savefig(file_name+'.eps',dpi=300)\n",
    "saved_files.append(file_name+'.eps')\n",
    "\n",
    "\n",
    "plt.show()"
   ]
  },
  {
   "cell_type": "markdown",
   "metadata": {},
   "source": [
    "### Estimated magnetization direction"
   ]
  },
  {
   "cell_type": "code",
   "execution_count": null,
   "metadata": {},
   "outputs": [],
   "source": [
    "print (inc_est,dec_est)"
   ]
  },
  {
   "cell_type": "code",
   "execution_count": null,
   "metadata": {},
   "outputs": [],
   "source": [
    "print (inc_R,dec_R)"
   ]
  },
  {
   "cell_type": "markdown",
   "metadata": {},
   "source": [
    "### Comparison between observed data and predicted data"
   ]
  },
  {
   "cell_type": "code",
   "execution_count": null,
   "metadata": {},
   "outputs": [],
   "source": [
    "pred = fc.tfa_layer(airborne['x'],airborne['y'],airborne['z'],\n",
    "                    xs,ys,zs,inc_gf,dec_gf,m_LM,inc_est,dec_est)"
   ]
  },
  {
   "cell_type": "code",
   "execution_count": null,
   "metadata": {},
   "outputs": [],
   "source": [
    "res = pred - data['tfa_obs_dip_RM_airb']"
   ]
  },
  {
   "cell_type": "code",
   "execution_count": null,
   "metadata": {},
   "outputs": [],
   "source": [
    "r_norm,r_mean,r_std = fc.residual(data['tfa_obs_dip_RM_airb'],pred)"
   ]
  },
  {
   "cell_type": "code",
   "execution_count": null,
   "metadata": {},
   "outputs": [],
   "source": [
    "title_font = 18\n",
    "bottom_font = 15\n",
    "saturation_factor = 1.\n",
    "plt.close('all')\n",
    "plt.figure(figsize=(15,15), tight_layout=True)\n",
    "\n",
    "ranges = saturation_factor*np.abs([data['tfa_obs_dip_RM_airb'].max(), \n",
    "                                   data['tfa_obs_dip_RM_airb'].min(),\n",
    "                                   pred.max(), pred.min()]).max()\n",
    "res_ranges = np.max(np.abs(res))\n",
    "\n",
    "plt.subplot(2,2,1)\n",
    "plt.contourf(airborne['y'].reshape(airborne['shape']),\n",
    "             airborne['x'].reshape(airborne['shape']), \n",
    "             data['tfa_obs_dip_RM_airb'].reshape(airborne['shape']),\n",
    "             20, cmap='viridis',vmin=-ranges, vmax=ranges)\n",
    "plt.colorbar(pad=0.01, aspect=40, shrink=1.0).set_label('nT',size=bottom_font)\n",
    "plt.xlabel('y (m)', fontsize = title_font)\n",
    "plt.ylabel('x (m)', fontsize = title_font)\n",
    "plt.title('(a) TFA (model_RM)',fontsize=title_font)\n",
    "plt.tick_params(axis='both', which='major', labelsize=12)\n",
    "\n",
    "plt.subplot(2,2,2)\n",
    "plt.contourf(airborne['y'].reshape(airborne['shape']),\n",
    "             airborne['x'].reshape(airborne['shape']),\n",
    "             pred.reshape(airborne['shape']),\n",
    "             20, cmap='viridis',  vmin=-ranges, vmax=ranges)\n",
    "plt.colorbar(pad=0.01, aspect=40, shrink=1.0).set_label('nT',size=bottom_font)\n",
    "plt.xlabel('y (m)', fontsize = title_font)\n",
    "plt.ylabel('x (m)', fontsize = title_font)\n",
    "plt.title('(b) TFA (Layer)', fontsize=title_font)\n",
    "plt.tick_params(axis='both', which='major', labelsize=12)\n",
    "\n",
    "plt.subplot(2,2,3)\n",
    "plt.contourf(airborne['y'].reshape(airborne['shape']),\n",
    "             airborne['x'].reshape(airborne['shape']),\n",
    "             res.reshape(airborne['shape']), \n",
    "             20, cmap='viridis',  vmin=-res_ranges, vmax=res_ranges)\n",
    "plt.colorbar(pad=0.01, aspect=40, shrink=1.0).set_label('nT',size=bottom_font)\n",
    "plt.xlabel('y (m)', fontsize = title_font)\n",
    "plt.ylabel('x (m)', fontsize = title_font)\n",
    "plt.title('(c) Residual map', fontsize=title_font)\n",
    "plt.tick_params(axis='both', which='major', labelsize=12)\n",
    "\n",
    "\n",
    "plt.subplot(2,2,4)\n",
    "plt.xlabel('$\\mu$ = %.3f | $\\sigma$ = %.3f nT' % (r_mean, r_std),\n",
    "           fontsize = bottom_font)\n",
    "nbins = int((np.max(r_norm - np.min(r_norm))))\n",
    "plt.hist(r_norm,bins=nbins,normed=True)\n",
    "plt.ylim(0.,1.)\n",
    "plt.xlim(-10., 10.)\n",
    "plt.title('(d) Normalized Histogram',fontsize=title_font)\n",
    "plt.tick_params(axis='both', which='major', labelsize=12)\n",
    "\n",
    "file_name = 'figs/airborne/data_fitting_LM_NNLS_magRM'\n",
    "plt.savefig(file_name+'.png',dpi=300)\n",
    "saved_files.append(file_name+'.png')\n",
    "\n",
    "plt.savefig(file_name+'.eps',dpi=300)\n",
    "saved_files.append(file_name+'.eps')\n",
    "\n",
    "\n",
    "plt.show()"
   ]
  },
  {
   "cell_type": "markdown",
   "metadata": {},
   "source": [
    "### Estimated magnetic moment within the layer"
   ]
  },
  {
   "cell_type": "code",
   "execution_count": null,
   "metadata": {},
   "outputs": [],
   "source": [
    "title_font = 20\n",
    "bottom_font = 18\n",
    "saturation_factor = 1.\n",
    "plt.close('all')\n",
    "plt.figure(figsize=(9,9), tight_layout=True)\n",
    "\n",
    "plt.contourf(ys.reshape(shape_layer),xs.reshape(shape_layer), \n",
    "             m_LM.reshape(shape_layer), 20, cmap='viridis')\n",
    "plt.colorbar(pad=0.01, aspect=40, shrink=1.0).set_label('$A.m^2$',size=bottom_font)\n",
    "plt.xlabel('y (m)', fontsize = title_font)\n",
    "plt.ylabel('x (m)', fontsize = title_font)\n",
    "plt.title('Magnetic moment (layer)', fontsize=title_font)\n",
    "\n",
    "file_name = 'figs/airborne/magnetic_moment_positive_LM_NNLS_magRM'\n",
    "plt.savefig(file_name+'.png',dpi=300)\n",
    "saved_files.append(file_name+'.png')\n",
    "\n",
    "plt.savefig(file_name+'.eps',dpi=300)\n",
    "saved_files.append(file_name+'.eps')\n",
    "\n",
    "\n",
    "plt.show()"
   ]
  },
  {
   "cell_type": "markdown",
   "metadata": {},
   "source": [
    "### Reduction to the pole"
   ]
  },
  {
   "cell_type": "code",
   "execution_count": null,
   "metadata": {},
   "outputs": [],
   "source": [
    "G_rtp = fc.sensitivity_mag(airborne['x'],airborne['y'],airborne['z'],\n",
    "                       xs,ys,zs,90.,0.,90.,0.)"
   ]
  },
  {
   "cell_type": "code",
   "execution_count": null,
   "metadata": {},
   "outputs": [],
   "source": [
    "tfa_rtp = np.dot(G_rtp,m_LM)"
   ]
  },
  {
   "cell_type": "markdown",
   "metadata": {},
   "source": [
    "#### Visualization of a reduction to the pole"
   ]
  },
  {
   "cell_type": "code",
   "execution_count": null,
   "metadata": {},
   "outputs": [],
   "source": [
    "title_font = 20\n",
    "bottom_font = 18\n",
    "saturation_factor = 1.\n",
    "plt.close('all')\n",
    "plt.figure(figsize=(9,9), tight_layout=True)\n",
    "\n",
    "plt.contourf(airborne['y'].reshape(airborne['shape']), \n",
    "             airborne['x'].reshape(airborne['shape']),\n",
    "             tfa_rtp.reshape(airborne['shape']), \n",
    "             20, cmap='inferno')\n",
    "plt.colorbar(pad=0.01, aspect=40, shrink=1.0).set_label('nT',size=bottom_font)\n",
    "plt.xlabel('y (m)', fontsize = title_font)\n",
    "plt.ylabel('x (m)', fontsize = title_font)\n",
    "plt.title('TFA (RTP)', fontsize=title_font)\n",
    "plt.tick_params(axis='both', which='major', labelsize=12)\n",
    "\n",
    "file_name = 'figs/airborne/RTP_airborne_magRM'\n",
    "plt.savefig(file_name+'.png',dpi=300)\n",
    "saved_files.append(file_name+'.png')\n",
    "\n",
    "plt.savefig(file_name+'.eps',dpi=300)\n",
    "saved_files.append(file_name+'.eps')\n",
    "\n",
    "plt.show()"
   ]
  },
  {
   "cell_type": "markdown",
   "metadata": {},
   "source": [
    "# Visualization of the RTP and Magnetic moment over the layer"
   ]
  },
  {
   "cell_type": "code",
   "execution_count": null,
   "metadata": {},
   "outputs": [],
   "source": [
    "title_font = 18\n",
    "bottom_font = 15\n",
    "plt.close('all')\n",
    "plt.figure(figsize=(20,10), tight_layout=True)\n",
    "\n",
    "plt.subplot(1,2,1)\n",
    "plt.tricontourf(ys,xs,m_LM,20,cmap='viridis')\n",
    "plt.colorbar(pad=0.01, aspect=40, shrink=1.0).set_label('$A.m^2$',size=bottom_font)\n",
    "plt.xlabel('y (m)', fontsize = title_font)\n",
    "plt.ylabel('x (m)', fontsize = title_font)\n",
    "plt.title('(a) Magnetic moment (layer)', fontsize=title_font)\n",
    "plt.tick_params(axis='both', which='major', labelsize=12)\n",
    "\n",
    "plt.subplot(1,2,2)\n",
    "plt.tricontourf(airborne['y'],airborne['x'], tfa_rtp, 20, cmap='inferno')\n",
    "plt.colorbar(pad=0.01, aspect=40, shrink=1.0).set_label('nT',size=bottom_font)\n",
    "plt.xlabel('y (m)', fontsize = title_font)\n",
    "plt.ylabel('x (m)', fontsize = title_font)\n",
    "plt.title('(b) TFA (RTP)', fontsize=title_font)\n",
    "plt.tick_params(axis='both', which='major', labelsize=12)\n",
    "\n",
    "file_name = 'figs/airborne/RTP_moment_LM_NNLS_RM'\n",
    "plt.savefig(file_name+'.png',dpi=300)\n",
    "saved_files.append(file_name+'.png')\n",
    "\n",
    "plt.savefig(file_name+'.eps',dpi=300)\n",
    "saved_files.append(file_name+'.eps')\n",
    "\n",
    "plt.show()"
   ]
  },
  {
   "cell_type": "markdown",
   "metadata": {},
   "source": [
    "## Comparison between the RTP Calculated by equivalent layer and the true RTP field"
   ]
  },
  {
   "cell_type": "code",
   "execution_count": null,
   "metadata": {},
   "outputs": [],
   "source": [
    "r_rtp = tfa_rtp - data['tfa_obs_dip_PL_airb']"
   ]
  },
  {
   "cell_type": "code",
   "execution_count": null,
   "metadata": {},
   "outputs": [],
   "source": [
    "r_norm,r_mean,r_std = fc.residual(tfa_rtp,data['tfa_obs_dip_PL_airb'])"
   ]
  },
  {
   "cell_type": "code",
   "execution_count": null,
   "metadata": {},
   "outputs": [],
   "source": [
    "title_font = 20\n",
    "bottom_font = 18\n",
    "saturation_factor = 1.\n",
    "plt.close('all')\n",
    "plt.figure(figsize=(18,18), tight_layout=True)\n",
    "\n",
    "ranges = saturation_factor*np.abs([tfa_rtp.max(), tfa_rtp.min(),\n",
    "                                   data['tfa_obs_dip_PL_airb'].max(), data['tfa_obs_dip_PL_airb'].min()]).max()\n",
    "\n",
    "r_ranges = saturation_factor*np.abs([r_rtp.max(), r_rtp.min()]).max()\n",
    "\n",
    "\n",
    "plt.subplot(2,2,1)\n",
    "plt.contourf(airborne['y'].reshape(airborne['shape']),\n",
    "             airborne['x'].reshape(airborne['shape']), \n",
    "             tfa_rtp.reshape(airborne['shape']),\n",
    "             20, cmap='viridis',vmin=-ranges, vmax=ranges)\n",
    "plt.colorbar(pad=0.01, aspect=40, shrink=1.0).set_label('nT',size=bottom_font) \n",
    "plt.xlabel('y (m)', fontsize = title_font)\n",
    "plt.ylabel('x (m)', fontsize = title_font)\n",
    "plt.title('(a) RTP (Layer) ', fontsize=title_font)\n",
    "plt.tick_params(axis='both', which='major', labelsize=15)\n",
    "\n",
    "plt.subplot(2,2,2)\n",
    "plt.contourf(airborne['y'].reshape(airborne['shape']),\n",
    "             airborne['x'].reshape(airborne['shape']),\n",
    "             data['tfa_obs_dip_PL_airb'].reshape(airborne['shape']),\n",
    "             20, cmap='viridis',  vmin=-ranges, vmax=ranges)\n",
    "plt.colorbar(pad=0.01, aspect=40, shrink=1.0).set_label('nT',size=bottom_font)\n",
    "plt.xlabel('y (m)', fontsize = title_font)\n",
    "plt.ylabel('x (m)', fontsize = title_font)\n",
    "plt.title('(b) RTP (True)', fontsize=title_font)\n",
    "plt.tick_params(axis='both', which='major', labelsize=15)\n",
    "\n",
    "plt.subplot(2,2,3)\n",
    "plt.contourf(airborne['y'].reshape(airborne['shape']),\n",
    "             airborne['x'].reshape(airborne['shape']),\n",
    "             r_rtp.reshape(airborne['shape']), \n",
    "             20, cmap='viridis',  vmin=-r_ranges, vmax=r_ranges)\n",
    "plt.colorbar(pad=0.01, aspect=40, shrink=1.0).set_label('nT',size=bottom_font)\n",
    "plt.xlabel('y (m)', fontsize = title_font)\n",
    "plt.ylabel('x (m)', fontsize = title_font)\n",
    "plt.title('(c) Residual map', fontsize=title_font)\n",
    "plt.tick_params(axis='both', which='major', labelsize=15)\n",
    "\n",
    "\n",
    "plt.subplot(2,2,4)\n",
    "plt.xlabel('$\\mu$ = %.3f | $\\sigma$ = %.3f nT' % (r_mean, r_std),\n",
    "           fontsize = bottom_font)\n",
    "nbins = int((np.max(r_norm - np.min(r_norm))))\n",
    "plt.hist(r_norm,bins=nbins,normed=True)\n",
    "plt.ylim(0.,1.)\n",
    "plt.xlim(-10., 10.)\n",
    "plt.title('(d) Normalized Histogram',fontsize=title_font)\n",
    "plt.tick_params(axis='both', which='major', labelsize=12)\n",
    "\n",
    "file_name = 'figs/airborne/rtp_layer_true'\n",
    "plt.savefig(file_name+'.png',dpi=300)\n",
    "saved_files.append(file_name+'.png')\n",
    "\n",
    "plt.savefig(file_name+'.eps',dpi=300)\n",
    "saved_files.append(file_name+'.eps')\n",
    "\n",
    "plt.show()"
   ]
  },
  {
   "cell_type": "markdown",
   "metadata": {},
   "source": [
    "### Results"
   ]
  },
  {
   "cell_type": "code",
   "execution_count": null,
   "metadata": {},
   "outputs": [],
   "source": [
    "result_RM_airb['magnetic_moment'] = m_LM\n",
    "result_RM_airb['inc_est'] = inc_est\n",
    "result_RM_airb['dec_est'] = dec_est\n",
    "result_RM_airb['layer_depth'] = h\n",
    "result_RM_airb['reg_patameter'] = mu_pos\n",
    "result_RM_airb['RTP'] = tfa_rtp\n",
    "result_RM_airb['tfa_predicted'] = pred"
   ]
  },
  {
   "cell_type": "markdown",
   "metadata": {},
   "source": [
    "#### Generating .pickle file"
   ]
  },
  {
   "cell_type": "code",
   "execution_count": null,
   "metadata": {},
   "outputs": [],
   "source": [
    "now = datetime.datetime.utcnow().strftime('%d %B %Y %H:%M:%S UTC')\n",
    "result_RM_airb['metadata'] = 'Generated by {name} on {date}'.format(date=now, name=notebook_name)"
   ]
  },
  {
   "cell_type": "code",
   "execution_count": null,
   "metadata": {},
   "outputs": [],
   "source": [
    "file_name = 'data/result_RM_airb.pickle'\n",
    "with open(file_name, 'w') as f:\n",
    "    pickle.dump(result_RM_airb, f)\n",
    "    \n",
    "saved_files.append(file_name)\n"
   ]
  },
  {
   "cell_type": "markdown",
   "metadata": {},
   "source": [
    "### Saved files"
   ]
  },
  {
   "cell_type": "code",
   "execution_count": null,
   "metadata": {},
   "outputs": [],
   "source": [
    "with open('reports/report_%s.md' % notebook_name[:st.index(notebook_name, '.')], 'w') as q:\n",
    "    q.write('# Saved files \\n')\n",
    "    now = datetime.datetime.utcnow().strftime('%d %B %Y %H:%M:%S UTC')\n",
    "    header = 'Generated by {name} on {date}'.format(date=now, name=notebook_name)\n",
    "    q.write('\\n\\n'+header+'\\n\\n')\n",
    "    for i, sf in enumerate(saved_files):\n",
    "        print '%d  %s' % (i+1,sf)\n",
    "        q.write('*  `%s` \\n' % (sf))"
   ]
  },
  {
   "cell_type": "code",
   "execution_count": null,
   "metadata": {},
   "outputs": [],
   "source": []
  },
  {
   "cell_type": "code",
   "execution_count": null,
   "metadata": {},
   "outputs": [],
   "source": []
  }
 ],
 "metadata": {
  "kernelspec": {
   "display_name": "Python 2",
   "language": "python",
   "name": "python2"
  },
  "language_info": {
   "codemirror_mode": {
    "name": "ipython",
    "version": 2
   },
   "file_extension": ".py",
   "mimetype": "text/x-python",
   "name": "python",
   "nbconvert_exporter": "python",
   "pygments_lexer": "ipython2",
   "version": "2.7.14"
  }
 },
 "nbformat": 4,
 "nbformat_minor": 2
}
