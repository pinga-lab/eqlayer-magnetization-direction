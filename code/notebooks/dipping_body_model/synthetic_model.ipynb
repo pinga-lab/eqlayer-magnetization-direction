{
 "cells": [
  {
   "cell_type": "markdown",
   "metadata": {},
   "source": [
    "# Synthetic Model "
   ]
  },
  {
   "cell_type": "markdown",
   "metadata": {},
   "source": [
    "Notebook to generate a set of models."
   ]
  },
  {
   "cell_type": "markdown",
   "metadata": {},
   "source": [
    "#### Import libraries"
   ]
  },
  {
   "cell_type": "code",
   "execution_count": 1,
   "metadata": {},
   "outputs": [
    {
     "name": "stderr",
     "output_type": "stream",
     "text": [
      "/home/andrelreis/anaconda2/lib/python2.7/site-packages/fatiando/vis/mpl.py:76: UserWarning: This module will be removed in v0.6. We recommend the use of matplotlib.pyplot module directly. Some of the fatiando specific functions will remain.\n",
      "  \"specific functions will remain.\")\n"
     ]
    }
   ],
   "source": [
    "from IPython.display import Markdown as md\n",
    "from IPython.display import display as dp\n",
    "import string as st\n",
    "import sys\n",
    "import numpy as np\n",
    "import matplotlib.pyplot as plt\n",
    "import cPickle as pickle\n",
    "import datetime\n",
    "\n",
    "from mpl_toolkits.mplot3d import Axes3D\n",
    "from mpl_toolkits.mplot3d.art3d import Poly3DCollection, Line3DCollection\n",
    "from fatiando.utils import ang2vec, vec2ang\n",
    "from fatiando.mesher import Sphere, Prism, PolygonalPrism\n",
    "from fatiando.gravmag import sphere, prism, polyprism\n",
    "from mpl_toolkits.mplot3d import Axes3D"
   ]
  },
  {
   "cell_type": "code",
   "execution_count": 2,
   "metadata": {},
   "outputs": [],
   "source": [
    "notebook_name = 'synthetic_model.ipynb'"
   ]
  },
  {
   "cell_type": "markdown",
   "metadata": {},
   "source": [
    "#### Importing auxiliary functions"
   ]
  },
  {
   "cell_type": "code",
   "execution_count": 3,
   "metadata": {},
   "outputs": [],
   "source": [
    "dir_modules = '../../mypackage'\n",
    "sys.path.append(dir_modules)"
   ]
  },
  {
   "cell_type": "code",
   "execution_count": 4,
   "metadata": {},
   "outputs": [],
   "source": [
    "import auxiliary_functions as func"
   ]
  },
  {
   "cell_type": "markdown",
   "metadata": {},
   "source": [
    "#### Loading 2D grid properties"
   ]
  },
  {
   "cell_type": "code",
   "execution_count": 5,
   "metadata": {},
   "outputs": [],
   "source": [
    "with open('data/regular_grid.pickle') as f:\n",
    "        regular = pickle.load(f)"
   ]
  },
  {
   "cell_type": "code",
   "execution_count": 6,
   "metadata": {},
   "outputs": [],
   "source": [
    "with open('data/airborne_survey.pickle') as f:\n",
    "        airborne = pickle.load(f)"
   ]
  },
  {
   "cell_type": "markdown",
   "metadata": {},
   "source": [
    "#### List of saved files"
   ]
  },
  {
   "cell_type": "code",
   "execution_count": 7,
   "metadata": {},
   "outputs": [],
   "source": [
    "saved_files = []"
   ]
  },
  {
   "cell_type": "markdown",
   "metadata": {},
   "source": [
    "## Observation area"
   ]
  },
  {
   "cell_type": "code",
   "execution_count": 8,
   "metadata": {},
   "outputs": [
    {
     "name": "stdout",
     "output_type": "stream",
     "text": [
      "Area limits: \n",
      " x_max = 6000.0 m \n",
      " x_min = -6000.0 m \n",
      " y_max = 6000.0 m \n",
      " y_min = -6000.0 m\n"
     ]
    }
   ],
   "source": [
    "print 'Area limits: \\n x_max = %.1f m \\n x_min = %.1f m \\n y_max = %.1f m \\n y_min = %.1f m' % (regular['area'][1], regular['area'][0],regular['area'][3],regular['area'][2])"
   ]
  },
  {
   "cell_type": "markdown",
   "metadata": {},
   "source": [
    "## Regional Field"
   ]
  },
  {
   "cell_type": "code",
   "execution_count": 9,
   "metadata": {},
   "outputs": [],
   "source": [
    "inc_gf , dec_gf = (30.,30.) "
   ]
  },
  {
   "cell_type": "markdown",
   "metadata": {},
   "source": [
    "## Create a dipping body"
   ]
  },
  {
   "cell_type": "code",
   "execution_count": 10,
   "metadata": {},
   "outputs": [],
   "source": [
    "model_dip = dict()"
   ]
  },
  {
   "cell_type": "markdown",
   "metadata": {},
   "source": [
    "### Main field"
   ]
  },
  {
   "cell_type": "code",
   "execution_count": 11,
   "metadata": {},
   "outputs": [],
   "source": [
    "model_dip['main_field'] = (inc_gf,dec_gf)"
   ]
  },
  {
   "cell_type": "markdown",
   "metadata": {},
   "source": [
    "## Dipping body vertices"
   ]
  },
  {
   "cell_type": "code",
   "execution_count": 12,
   "metadata": {},
   "outputs": [],
   "source": [
    "model_dip['verts_x_max'] = 2500.\n",
    "model_dip['verts_x_min'] = -2500.\n",
    "model_dip['y_max'] = 2000.\n",
    "model_dip['y_min'] = -2000\n",
    "model_dip['z_min'] = 300.\n",
    "model_dip['z_max'] = 1500.\n",
    "model_dip['z_thick'] = 100.\n",
    "model_dip['N_prism'] = 41"
   ]
  },
  {
   "cell_type": "code",
   "execution_count": 13,
   "metadata": {},
   "outputs": [],
   "source": [
    "model_dip['verts_x'] = np.linspace(model_dip['verts_x_min'],\n",
    "                                   model_dip['verts_x_max'],\n",
    "                                   model_dip['N_prism'])"
   ]
  },
  {
   "cell_type": "code",
   "execution_count": 14,
   "metadata": {},
   "outputs": [],
   "source": [
    "model_dip['x_mins'] = []\n",
    "model_dip['x_maxs'] = []\n",
    "for i in range(len(model_dip['verts_x'])-1):\n",
    "    model_dip['x_mins'].append(model_dip['verts_x'][i])\n",
    "    model_dip['x_maxs'].append(model_dip['verts_x'][i+1])"
   ]
  },
  {
   "cell_type": "code",
   "execution_count": 15,
   "metadata": {},
   "outputs": [],
   "source": [
    "model_dip['x_mins'] = np.array(model_dip['x_mins'])\n",
    "model_dip['x_maxs'] = np.array(model_dip['x_maxs'])"
   ]
  },
  {
   "cell_type": "code",
   "execution_count": 16,
   "metadata": {},
   "outputs": [],
   "source": [
    "model_dip['z_tops'] = np.linspace(model_dip['z_min'],\n",
    "                                  model_dip['z_max'], \n",
    "                                  model_dip['N_prism']-1)\n",
    "model_dip['z_bottoms'] = np.linspace(model_dip['z_min'] + model_dip['z_thick'],\n",
    "                                     model_dip['z_max'] + model_dip['z_thick'], \n",
    "                                     model_dip['N_prism']-1)"
   ]
  },
  {
   "cell_type": "markdown",
   "metadata": {},
   "source": [
    "### dip body w/ the presence of remanence magnetization"
   ]
  },
  {
   "cell_type": "code",
   "execution_count": 17,
   "metadata": {},
   "outputs": [],
   "source": [
    "model_dip['m_R'] = 5.\n",
    "model_dip['inc_R'] = 55.\n",
    "model_dip['dec_R'] = 45.\n",
    "\n",
    "mag_tot_R = ang2vec(model_dip['m_R'],\n",
    "                    model_dip['inc_R'],\n",
    "                    model_dip['dec_R'])\n",
    "\n",
    "model_dip['magnetization_R'] = mag_tot_R"
   ]
  },
  {
   "cell_type": "code",
   "execution_count": 18,
   "metadata": {},
   "outputs": [],
   "source": [
    "model_dip['magnetization_sph_coord_R'] = vec2ang(mag_tot_R)"
   ]
  },
  {
   "cell_type": "code",
   "execution_count": 19,
   "metadata": {},
   "outputs": [],
   "source": [
    "model_dip['model_R'] = []\n",
    "for i in range(model_dip['N_prism']-1):\n",
    "    model_dip['model_R'].append(Prism(model_dip['x_mins'][i],model_dip['x_maxs'][i],\n",
    "                           model_dip['y_min'],model_dip['y_max'],\n",
    "                           model_dip['z_tops'][i],model_dip['z_bottoms'][i],\n",
    "                           {'magnetization':mag_tot_R}))    "
   ]
  },
  {
   "cell_type": "markdown",
   "metadata": {},
   "source": [
    "### Dip body w/ purely induced magnetization"
   ]
  },
  {
   "cell_type": "code",
   "execution_count": 20,
   "metadata": {},
   "outputs": [],
   "source": [
    "model_dip['m_I'] = 5.\n",
    "model_dip['inc_I'] = inc_gf\n",
    "model_dip['dec_I'] = dec_gf\n",
    "\n",
    "mag_tot_I = ang2vec(model_dip['m_I'],model_dip['inc_I'],model_dip['dec_I'])\n",
    "\n",
    "model_dip['magnetization_I'] = mag_tot_I"
   ]
  },
  {
   "cell_type": "code",
   "execution_count": 21,
   "metadata": {},
   "outputs": [],
   "source": [
    "model_dip['magnetization_sph_coord_I'] = vec2ang(mag_tot_I)"
   ]
  },
  {
   "cell_type": "code",
   "execution_count": 22,
   "metadata": {},
   "outputs": [],
   "source": [
    "model_dip['model_I'] = []\n",
    "for i in range(model_dip['N_prism']-1):\n",
    "    model_dip['model_I'].append(Prism(model_dip['x_mins'][i],model_dip['x_maxs'][i],\n",
    "                           model_dip['y_min'],model_dip['y_max'],\n",
    "                           model_dip['z_tops'][i],model_dip['z_bottoms'][i],\n",
    "                           {'magnetization':mag_tot_I}))    "
   ]
  },
  {
   "cell_type": "markdown",
   "metadata": {},
   "source": [
    "### Dip body magnetized at the Pole "
   ]
  },
  {
   "cell_type": "code",
   "execution_count": 23,
   "metadata": {},
   "outputs": [],
   "source": [
    "model_dip['main_field_P'] = (90.,0.)"
   ]
  },
  {
   "cell_type": "code",
   "execution_count": 24,
   "metadata": {},
   "outputs": [],
   "source": [
    "model_dip['m_P'] = 5.\n",
    "model_dip['inc_P'] = 90.\n",
    "model_dip['dec_P'] = 0.\n",
    "\n",
    "mag_tot_P = ang2vec(model_dip['m_P'],model_dip['inc_P'],model_dip['dec_P'])\n",
    "\n",
    "model_dip['magnetization_P'] = mag_tot_P"
   ]
  },
  {
   "cell_type": "code",
   "execution_count": 25,
   "metadata": {},
   "outputs": [],
   "source": [
    "model_dip['magnetization_sph_coord_P'] = vec2ang(mag_tot_P)"
   ]
  },
  {
   "cell_type": "code",
   "execution_count": 26,
   "metadata": {},
   "outputs": [],
   "source": [
    "model_dip['model_P'] = []\n",
    "for i in range(model_dip['N_prism']-1):\n",
    "    model_dip['model_P'].append(Prism(model_dip['x_mins'][i],model_dip['x_maxs'][i],\n",
    "                           model_dip['y_min'],model_dip['y_max'],\n",
    "                           model_dip['z_tops'][i],model_dip['z_bottoms'][i],\n",
    "                           {'magnetization':mag_tot_P}))    "
   ]
  },
  {
   "cell_type": "markdown",
   "metadata": {},
   "source": [
    "#### Generating .pickle file"
   ]
  },
  {
   "cell_type": "code",
   "execution_count": 27,
   "metadata": {},
   "outputs": [],
   "source": [
    "now = datetime.datetime.utcnow().strftime('%d %B %Y %H:%M:%S UTC')\n",
    "model_dip['metadata'] = 'Generated by {name} on {date}'.format(date=now, name=notebook_name)"
   ]
  },
  {
   "cell_type": "code",
   "execution_count": 28,
   "metadata": {},
   "outputs": [],
   "source": [
    "file_name = 'data/model_dip.pickle'\n",
    "with open(file_name, 'w') as f:\n",
    "    pickle.dump(model_dip, f)\n",
    "    \n",
    "saved_files.append(file_name)"
   ]
  },
  {
   "cell_type": "markdown",
   "metadata": {},
   "source": [
    "#### Saved files"
   ]
  },
  {
   "cell_type": "code",
   "execution_count": 29,
   "metadata": {},
   "outputs": [
    {
     "name": "stdout",
     "output_type": "stream",
     "text": [
      "1  data/model_dip.pickle\n"
     ]
    }
   ],
   "source": [
    "with open('reports/report_%s.md' % notebook_name[:st.index(notebook_name, '.')], 'w') as q:\n",
    "    q.write('# Saved files \\n')\n",
    "    now = datetime.datetime.utcnow().strftime('%d %B %Y %H:%M:%S UTC')\n",
    "    header = 'Generated by {name} on {date}'.format(date=now, name=notebook_name)\n",
    "    q.write('\\n\\n'+header+'\\n\\n')\n",
    "    for i, sf in enumerate(saved_files):\n",
    "        print '%d  %s' % (i+1,sf)\n",
    "        q.write('*  `%s` \\n' % (sf))"
   ]
  }
 ],
 "metadata": {
  "kernelspec": {
   "display_name": "Python 2",
   "language": "python",
   "name": "python2"
  },
  "language_info": {
   "codemirror_mode": {
    "name": "ipython",
    "version": 2
   },
   "file_extension": ".py",
   "mimetype": "text/x-python",
   "name": "python",
   "nbconvert_exporter": "python",
   "pygments_lexer": "ipython2",
   "version": "2.7.14"
  }
 },
 "nbformat": 4,
 "nbformat_minor": 2
}
