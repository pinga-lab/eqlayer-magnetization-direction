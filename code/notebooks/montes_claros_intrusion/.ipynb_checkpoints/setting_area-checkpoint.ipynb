{
 "cells": [
  {
   "cell_type": "markdown",
   "metadata": {},
   "source": [
    "# Setting the area for the data according of Lat and Long"
   ]
  },
  {
   "cell_type": "code",
   "execution_count": 1,
   "metadata": {},
   "outputs": [],
   "source": [
    "import numpy as np\n",
    "import pandas as pd"
   ]
  },
  {
   "cell_type": "markdown",
   "metadata": {},
   "source": [
    "### Filename"
   ]
  },
  {
   "cell_type": "code",
   "execution_count": 2,
   "metadata": {},
   "outputs": [],
   "source": [
    "filename = 'Mag.XYZ'"
   ]
  },
  {
   "cell_type": "markdown",
   "metadata": {},
   "source": [
    "### Getting informations about the file"
   ]
  },
  {
   "cell_type": "code",
   "execution_count": 3,
   "metadata": {},
   "outputs": [],
   "source": [
    "def flight_lines(filename):\n",
    "    '''\n",
    "    Get the information about the flight lines of the airborne survey\n",
    "    \n",
    "    input\n",
    "    \n",
    "    filename: string - String containing the file name.\n",
    "    \n",
    "    return\n",
    "    \n",
    "    n_lines : integer - number of flight lines\n",
    "    lines : list - List of strings with the line number\n",
    "    i_line : list - List with the position of the lines within the file\n",
    "    '''\n",
    "    \n",
    "    f = open(filename)\n",
    "        \n",
    "    lines = []\n",
    "    index = []\n",
    "    for i,line in enumerate(f):\n",
    "        if line[:4] == 'Line':\n",
    "            index.append(i)\n",
    "            lines.append(line[:14])\n",
    "        \n",
    "    f.close()\n",
    "    return index,lines"
   ]
  },
  {
   "cell_type": "code",
   "execution_count": 4,
   "metadata": {},
   "outputs": [],
   "source": [
    "index,line_str = flight_lines(filename)"
   ]
  },
  {
   "cell_type": "code",
   "execution_count": 5,
   "metadata": {},
   "outputs": [
    {
     "name": "stdout",
     "output_type": "stream",
     "text": [
      "8\n"
     ]
    }
   ],
   "source": [
    "print index[0] # posição da linha DO ARQUIVO"
   ]
  },
  {
   "cell_type": "code",
   "execution_count": 6,
   "metadata": {},
   "outputs": [
    {
     "name": "stdout",
     "output_type": "stream",
     "text": [
      "Line  20010\n",
      "\n"
     ]
    }
   ],
   "source": [
    "print line_str[0] # Nome da linhda de VOO"
   ]
  },
  {
   "cell_type": "markdown",
   "metadata": {},
   "source": [
    "### Defining long for lines"
   ]
  },
  {
   "cell_type": "code",
   "execution_count": 7,
   "metadata": {},
   "outputs": [],
   "source": [
    "def long_lines(filename,index,long_min,long_max):\n",
    "    '''\n",
    "    Get the longitude of lines\n",
    "    '''\n",
    "    f=open(filename)\n",
    "    read_lines =f.readlines()\n",
    "    \n",
    "    long = []\n",
    "    for i in index:\n",
    "        long.append(float(read_lines[i+1][149:159]))\n",
    "        \n",
    "    mask = [(lg <= long_max) and (lg >= long_min) for lg in long ]\n",
    "    index_area = []\n",
    "    for i,msk in enumerate(mask):\n",
    "        if msk == True:\n",
    "            index_area.append(i)\n",
    "    \n",
    "    f.close()\n",
    "    return long, index_area"
   ]
  },
  {
   "cell_type": "code",
   "execution_count": 8,
   "metadata": {},
   "outputs": [],
   "source": [
    "long_min = -51.25"
   ]
  },
  {
   "cell_type": "code",
   "execution_count": 9,
   "metadata": {},
   "outputs": [],
   "source": [
    "long_max = -51.25"
   ]
  },
  {
   "cell_type": "code",
   "execution_count": 10,
   "metadata": {},
   "outputs": [],
   "source": [
    "long,i_area = long_lines(filename,index,long_min,long_max) # Valores de longitude das linhas de VOO"
   ]
  },
  {
   "cell_type": "code",
   "execution_count": 11,
   "metadata": {},
   "outputs": [
    {
     "data": {
      "text/plain": [
       "-51.244547"
      ]
     },
     "execution_count": 11,
     "metadata": {},
     "output_type": "execute_result"
    }
   ],
   "source": [
    "long[274]"
   ]
  },
  {
   "cell_type": "code",
   "execution_count": 12,
   "metadata": {},
   "outputs": [
    {
     "data": {
      "text/plain": [
       "274"
      ]
     },
     "execution_count": 12,
     "metadata": {},
     "output_type": "execute_result"
    }
   ],
   "source": [
    "i_area[0]"
   ]
  },
  {
   "cell_type": "markdown",
   "metadata": {},
   "source": [
    "### Defining columns for the file"
   ]
  },
  {
   "cell_type": "code",
   "execution_count": 13,
   "metadata": {},
   "outputs": [],
   "source": [
    "names = ['X','Y','GPSALT','MAGRAW','MAGIGRF','IGRF','LONG','LAT']"
   ]
  },
  {
   "cell_type": "markdown",
   "metadata": {},
   "source": [
    "### Getting the information for the lines"
   ]
  },
  {
   "cell_type": "code",
   "execution_count": 15,
   "metadata": {},
   "outputs": [
    {
     "name": "stdout",
     "output_type": "stream",
     "text": [
      "274\n",
      "275\n",
      "276\n",
      "277\n",
      "278\n",
      "279\n",
      "280\n",
      "281\n",
      "282\n",
      "283\n",
      "284\n",
      "285\n",
      "286\n",
      "287\n",
      "288\n",
      "289\n",
      "290\n",
      "291\n",
      "292\n",
      "1496\n",
      "1497\n",
      "1498\n",
      "1499\n",
      "1500\n",
      "1501\n",
      "1502\n",
      "1503\n",
      "1504\n",
      "1505\n",
      "1506\n",
      "1507\n",
      "1508\n",
      "1509\n",
      "1510\n",
      "1511\n",
      "1512\n",
      "1513\n",
      "1514\n"
     ]
    }
   ],
   "source": [
    "f = open('data_XYZ_area','w+')\n",
    "fd = open('data_filtered_XYZ_area','w+')\n",
    "for i in i_area:\n",
    "    print i\n",
    "    n = index[i+1] - index[i] - 1\n",
    "    df = pd.read_csv(filename,usecols=(0,1,3,7,12,13,14,15),na_values= '*',\n",
    "                     nrows=n,names=names,skiprows=index[i]+1,\n",
    "                     skipinitialspace=True,delim_whitespace=True)    \n",
    "    mask = (df['LONG'] <= -51.16) & (df['LONG'] >= -51.25) & (df['LAT'] <= -16.125) & (df['LAT'] >= -16.195)\n",
    "    data_area = df[mask]\n",
    "    filtered_data = data_area.iloc[range(0,data_area.shape[0],12),:]\n",
    "    data_area.to_csv(f,header=None,index=None,sep=' ',mode='w+')\n",
    "    filtered_data.to_csv(fd,header=None,index=None,sep=' ',mode='w+')"
   ]
  },
  {
   "cell_type": "code",
   "execution_count": null,
   "metadata": {},
   "outputs": [],
   "source": []
  },
  {
   "cell_type": "code",
   "execution_count": null,
   "metadata": {},
   "outputs": [],
   "source": []
  }
 ],
 "metadata": {
  "kernelspec": {
   "display_name": "Python 2",
   "language": "python",
   "name": "python2"
  },
  "language_info": {
   "codemirror_mode": {
    "name": "ipython",
    "version": 2
   },
   "file_extension": ".py",
   "mimetype": "text/x-python",
   "name": "python",
   "nbconvert_exporter": "python",
   "pygments_lexer": "ipython2",
   "version": "2.7.14"
  }
 },
 "nbformat": 4,
 "nbformat_minor": 2
}
